{
  "nbformat": 4,
  "nbformat_minor": 0,
  "metadata": {
    "colab": {
      "name": "Week 11 - Transformers.ipynb",
      "version": "0.3.2",
      "provenance": [],
      "collapsed_sections": [
        "txWqIO_74A4s",
        "tHQGgoit2ljv",
        "env8rDS_dM86",
        "rXjWcnpCJY92",
        "9rvG4ZQ_icKH",
        "EHUqCsifmd5e",
        "WrWvtymp2G8o",
        "uZ-xQbgM6MNl",
        "pOKwneaKGaJi",
        "_dZoU1JIt6QP",
        "_pphRcbTvqnq",
        "vX6PrVksnaq7",
        "Ij1GiNx54Ke5",
        "goFvQj18--iP",
        "N4-3pYqVJIKA",
        "Vwb5e5hPQebd"
      ]
    },
    "kernelspec": {
      "name": "python3",
      "display_name": "Python 3"
    },
    "accelerator": "GPU"
  },
  "cells": [
    {
      "metadata": {
        "id": "OE7fXh-OSJYF",
        "colab_type": "code",
        "outputId": "4c8e758a-ee7e-4a15-f5bc-1c113d01df3a",
        "colab": {
          "base_uri": "https://localhost:8080/",
          "height": 266
        }
      },
      "cell_type": "code",
      "source": [
        "!pip3 -qq install torch==0.4.1\n",
        "!pip -qq install torchtext==0.3.1\n",
        "!pip install sacremoses==0.0.5\n",
        "!wget -O news.zip -qq --no-check-certificate \"https://drive.google.com/uc?export=download&id=1hIVVpBqM6VU4n3ERkKq4tFaH4sKN0Hab\"\n",
        "!unzip news.zip"
      ],
      "execution_count": 0,
      "outputs": [
        {
          "output_type": "stream",
          "text": [
            "tcmalloc: large alloc 1073750016 bytes == 0x59504000 @  0x7f60e90ec2a4 0x591a07 0x5b5d56 0x502e9a 0x506859 0x502209 0x502f3d 0x506859 0x504c28 0x502540 0x502f3d 0x506859 0x504c28 0x502540 0x502f3d 0x506859 0x504c28 0x502540 0x502f3d 0x507641 0x502209 0x502f3d 0x506859 0x504c28 0x502540 0x502f3d 0x507641 0x504c28 0x502540 0x502f3d 0x507641\n",
            "Collecting sacremoses==0.0.5\n",
            "\u001b[?25l  Downloading https://files.pythonhosted.org/packages/c5/c4/9d4cdd0e3e02d3328bb4e6764da25b147ce72d87d3d627e4f90611755411/sacremoses-0.0.5.tar.gz (102kB)\n",
            "\u001b[K    100% |████████████████████████████████| 112kB 2.8MB/s \n",
            "\u001b[?25hRequirement already satisfied: six in /usr/local/lib/python3.6/dist-packages (from sacremoses==0.0.5) (1.11.0)\n",
            "Building wheels for collected packages: sacremoses\n",
            "  Running setup.py bdist_wheel for sacremoses ... \u001b[?25l-\b \b\\\b \bdone\n",
            "\u001b[?25h  Stored in directory: /root/.cache/pip/wheels/fb/b4/f5/8ca724b21fc983eee2c9b99a7db69f85480c330a5bf6d8d546\n",
            "Successfully built sacremoses\n",
            "Installing collected packages: sacremoses\n",
            "Successfully installed sacremoses-0.0.5\n",
            "Archive:  news.zip\n",
            "  inflating: news.csv                \n"
          ],
          "name": "stdout"
        }
      ]
    },
    {
      "metadata": {
        "id": "uhvfH55PUJ8K",
        "colab_type": "code",
        "colab": {}
      },
      "cell_type": "code",
      "source": [
        "import numpy as np\n",
        "\n",
        "import torch\n",
        "import torch.nn as nn\n",
        "import torch.nn.functional as F\n",
        "import torch.optim as optim\n",
        "\n",
        "import matplotlib.pyplot as plt\n",
        "%matplotlib inline\n",
        "\n",
        "\n",
        "if torch.cuda.is_available():\n",
        "    from torch.cuda import FloatTensor, LongTensor\n",
        "    DEVICE = torch.device('cuda')\n",
        "else:\n",
        "    from torch import FloatTensor, LongTensor\n",
        "    DEVICE = torch.device('cpu')\n",
        "\n",
        "np.random.seed(42)"
      ],
      "execution_count": 0,
      "outputs": []
    },
    {
      "metadata": {
        "id": "txWqIO_74A4s",
        "colab_type": "text"
      },
      "cell_type": "markdown",
      "source": [
        "# Abstactive Summarization"
      ]
    },
    {
      "metadata": {
        "id": "gJ7JQJMO2R7z",
        "colab_type": "text"
      },
      "cell_type": "markdown",
      "source": [
        "Задача - по тексту сгенерировать выдержку из него.\n",
        "\n",
        "Например, попробуем по новостям генерировать заголовки:"
      ]
    },
    {
      "metadata": {
        "id": "NzNGUFOcXMUs",
        "colab_type": "code",
        "outputId": "359a451b-a143-4b66-a8d1-3ab4250c4acf",
        "colab": {
          "base_uri": "https://localhost:8080/",
          "height": 213
        }
      },
      "cell_type": "code",
      "source": [
        "!shuf -n 10 news.csv"
      ],
      "execution_count": 0,
      "outputs": [
        {
          "output_type": "stream",
          "text": [
            "500164,\"Инвесткомпания \"\"Тройка Диалог\"\" намерена приобрести дочерний банк ВТБ - \"\"ВТБ Брокер\"\" и уже подала соответствующую заявку в Банк России. Об этом пишет газета \"\"РБК-daily\"\". На 6 декабря этого года в \"\"ВТБ Брокер\"\" назначено внеочередного собрания акционеров банка, на повестку дня которого будет вынесен вопрос о досрочном прекращении полномочий наблюдательного совета. Газета пишет, что это связано с подготовкой к продаже банка. В ВТБ газете заявили, что окончательное решение о продаже банка еще не принято. При этом в банке отметили, что кроме \"\"Тройки\"\" на роль покупателя претендуют еще две компании. \"\"ВТБ Брокер\"\" обладает генеральной лицензией ЦБ и входит в систему страхования вкладов, однако в составе ВТБ банк занимается продвижением инвестиционно-банковских услуг.\",\"\"\"Тройка Диалог\"\" готовится к покупке \"\"дочки\"\" банка ВТБ\"\r\n",
            "194216,\"Президент Украины Петр Порошенко высказался по поводу сноса памятника Владимиру Ленину в Харькове. Об этом на своей странице в Facebook сообщил пресс-секретарь украинского лидера Святослав Цеголко. Украинский лидер напомнил, что вождь мирового пролетариата никогда не был в Харькове.  Самый большой памятник Ленину на Украине был демонтирован активистами националистических движений вечером 28 сентября. Кроме того, на территории области было снесено еще три монумента лидера Октябрьской революции.\",Порошенко задумался о роли Ленина в жизни Харькова\r\n",
            "568959,\"Два землетрясения зафиксированы за минувшие сутки на территории Сибири, сообщает \"\"Интерфакс\"\" со ссылкой на пресс-службу регионального центра МЧС РФ. В Республике Алтай в 02:24 по московскому времени во вторник произошло землетрясение силой 4,6 балла по шкале Рихтера, его эпицентр находился в 10 километров севернее поселка Акташ. В Читинской области подземные толчки силой до 2 баллов зафиксированы в 7:27 по московскому времени в Забайкальске, Краснокаменске и Приаргунске. Эпицентр землетрясения находился на территории Китая. Сила землетрясения в эпицентре достигала 7 баллов. О жертвах и разрушениях не сообщается.\",На территории Сибири произошли два землетрясения\r\n",
            "42573,\"Злоупотребление опиоидами — серьезная проблема США. Об этом во вторник, 8 августа, сообщил в своем Twitter американский лидер Дональд Трамп.  «Сегодня в 15:00 (22:00 мск) я проведу большую пресс-конференцию по поводу кризиса опиоидов, серьезной проблемы нашей страны», — отметил хозяин Белого дома. Опиоиды — лекарственные препараты, используемые в качестве сильнодействующих анальгетиков. Воздействие препаратов на организм сравнивают с эффектом от употребления опия. Американцы массово подсаживаются на опиоидные наркотики. Каждый день от передозировки умирает почти 150 человек. Причем виновниками сложившейся ситуации часто оказываются врачи. Они, стремясь задобрить пациентов, раздают рецепты на мощные обезболивающие всем желающим, что для многих граждан страны становится первым шагом к зависимости.\",Трамп признал засилье наркоманов в США\r\n",
            "249085,\"Российский чемпион мира по версии Международной боксерской организации (IBO) Александр Бахтин объявил о завершении карьеры. Об этом сообщает сайт Boxingscene.com. 31-летний россиянин, выступающий в весе до 55,2 килограмма, рассказал, что не будет дальше боксировать по совету врачей. Бахтин добавил, что теперь намерен заняться политической деятельностью, а также тренерской работой. Россиянин завоевал чемпионский пояс IBO (не относится к ведущим боксерским организациям) в сентябре 2012 года, победив филиппинца Роли Гаска. После этого поединка, прошедшего в Балашихе, Бахтин провел ночь в больнице. Последний бой россиянин провел 31 марта, победив техническим нокаутом Йогли Эрреру из Колумбии. Всего на профессиональном ринге Бахтин провел 31 бой, победив во всех (12 нокаутом).\",Российский чемпион мира по боксу ушел из спорта\r\n",
            "172954,\"Наталья Кудрявцева (Боброва), завоевавшая первую медаль для России по спортивной гимнастике на чемпионатах мира, скончалась в 36 лет после продолжительной болезни. Об этом сообщается на официальном сайте Федерации спортивной гимнастики России (ФСГР). «Федерация спортивной гимнастики России, Федерация спортивной гимнастики Новосибирской области выражают искренние соболезнования родным, близким и друзьям», — говорится в сообщении. Уточняется, что Кудрявцева ушла из жизни 2 апреля. Воспитанница новосибирской школы спортивной гимнастики стала бронзовым призером чемпионата мира 1993 года в Бирмингеме (Великобритания) в вольных упражнениях. Также Кудрявцева выиграла чемпионат Европы в команде 1990 года в Афинах и неоднократно занимала призовые места на этапах Кубка мира.\",Первый российский призер ЧМ по спортивной гимнастике умерла в 36 лет\r\n",
            "547514,\"В Алтайском крае на военном полигоне произошел взрыв. Как сообщает агентство РИА Новости, при взрыве погиб один человек и двое получили ранения. Взрыв произошел на территории полигона военной части 41659 рядом с поселком Заветы Ильича Алейского района, уточняется на информационном сервере Amic.Ru. Погибший - подросток 1989 года рождения, раненые - также подростки, 1987 и 1991 года рождения. Пострадавшие госпитализированы в Алейскую центральную городскую клиническую больницу. По факту происшествия начато расследование. Какое именно устройство взорвалось, пока не установлено.\",При взрыве на полигоне в Алтайском крае погиб подросток\r\n",
            "538949,\"Президент РФ Владимир Путин издал указ о награждении главного редактора \"\"Российской газеты\"\" Владислава Фронина медалью ордена \"\"За заслуги перед Отечеством II степени\"\", сообщает агентство РИА Новости. Кроме того, указом президента ответственному секретарю \"\"Российской газеты\"\" Виталию Абрамову присвоено почетное звание \"\"Заслуженный работник культуры РФ\"\". Сообщается, что награды присуждены журналистам  за заслуги в области печати и многолетнюю плодотворную работу.\",\"Владимир Путин наградил журналистов \"\"Российской газеты\"\"\"\r\n",
            "236528,\"Обыск прошел в понедельник, 19 августа, в офисе ОАО «Корсаковкий морской торговый порт». Как сообщает «Хабаровск онлайн» со ссылкой на пресс-службу ГУ МВД РФ по Дальневосточному федеральному округу, оперативники обыскали также помещения компаний, которыми владеют генеральный директор, председатель совета директоров и другие руководители порта. Полицейские изъяли документы, содержащие информацию о финансово-хозяйственной деятельности Корсаковского порта. В сообщении отмечается, что общий вес изъятых бумаг и электронных носителей достигает 900 килограммов. В пресс-службе пояснили, что руководство порта подозревается в совершении ряда экономических преступлений. В то же время о возбуждении уголовного дела не сообщается.\",В офисе сахалинского порта прошли обыски\r\n",
            "45330,\"Сборная России по синхронному плаванию победила в произвольной программе групп на чемпионате мира по водным видам спорта в Будапеште. Об этом сообщается на сайте Международной федерации плавания (FINA). Спортсменки набрали 97,3000 балла. Второе место заняли представительницы Китая с результатом 95,2333 балла, третьими стали украинки (93,9333). В составе сборной России выступали Влада Чигирева, Мария Шурочкина, Дарья и Анастасия Баяндины, Марина Голядкина, Дарина Валитова, Полина Комар, Вероника Калинина. Эта золотая медаль седьмая для россиян на чемпионате мира. Также на их счету три «серебра» и две «бронзы». Отечественные спортсмены лидируют в командном зачете. Чемпионат мира проходит в Будапеште с 14 по 30 июля.\",Российские синхронистки победили на чемпионате мира в произвольной программе\r\n"
          ],
          "name": "stdout"
        }
      ]
    },
    {
      "metadata": {
        "id": "QOVlO5_Qlg5y",
        "colab_type": "text"
      },
      "cell_type": "markdown",
      "source": [
        "Токенизируем их. Будем использовать единый словарь для текста и заголовков."
      ]
    },
    {
      "metadata": {
        "id": "fsOvtO0fpCHa",
        "colab_type": "code",
        "colab": {}
      },
      "cell_type": "code",
      "source": [
        "from torchtext.data import Field, Example, Dataset, BucketIterator\n",
        "\n",
        "BOS_TOKEN = '<s>'\n",
        "EOS_TOKEN = '</s>'\n",
        "\n",
        "word_field = Field(tokenize='moses', init_token=BOS_TOKEN, eos_token=EOS_TOKEN, lower=True)\n",
        "fields = [('source', word_field), ('target', word_field)]"
      ],
      "execution_count": 0,
      "outputs": []
    },
    {
      "metadata": {
        "id": "VO-gix7yoBjg",
        "colab_type": "code",
        "outputId": "36c953e8-f27b-4367-99ed-b425b07a7d82",
        "colab": {
          "base_uri": "https://localhost:8080/",
          "height": 35
        }
      },
      "cell_type": "code",
      "source": [
        "import pandas as pd\n",
        "from tqdm import tqdm\n",
        "\n",
        "data = pd.read_csv('news.csv', delimiter=',')\n",
        "\n",
        "examples = []\n",
        "for _, row in tqdm(data.iterrows(), total=len(data)):\n",
        "    source_text = word_field.preprocess(row.text)\n",
        "    target_text = word_field.preprocess(row.title)\n",
        "    examples.append(Example.fromlist([source_text, target_text], fields))"
      ],
      "execution_count": 0,
      "outputs": [
        {
          "output_type": "stream",
          "text": [
            "100%|██████████| 74278/74278 [02:33<00:00, 485.41it/s]\n"
          ],
          "name": "stderr"
        }
      ]
    },
    {
      "metadata": {
        "id": "A8uCsMEglm6V",
        "colab_type": "text"
      },
      "cell_type": "markdown",
      "source": [
        "Построим датасеты:"
      ]
    },
    {
      "metadata": {
        "id": "ZOBgLAgVTrk1",
        "colab_type": "code",
        "outputId": "dd84c69f-b55d-41a0-d80c-509d04421227",
        "colab": {
          "base_uri": "https://localhost:8080/",
          "height": 70
        }
      },
      "cell_type": "code",
      "source": [
        "dataset = Dataset(examples, fields)\n",
        "\n",
        "train_dataset, test_dataset = dataset.split(split_ratio=0.85)\n",
        "\n",
        "print('Train size =', len(train_dataset))\n",
        "print('Test size =', len(test_dataset))\n",
        "\n",
        "word_field.build_vocab(train_dataset, min_freq=7)\n",
        "print('Vocab size =', len(word_field.vocab))\n",
        "\n",
        "train_iter, test_iter = BucketIterator.splits(\n",
        "    datasets=(train_dataset, test_dataset), batch_sizes=(16, 32), shuffle=True, device=DEVICE, sort=False\n",
        ")"
      ],
      "execution_count": 0,
      "outputs": [
        {
          "output_type": "stream",
          "text": [
            "Train size = 63136\n",
            "Test size = 11142\n",
            "Vocab size = 55838\n"
          ],
          "name": "stdout"
        }
      ]
    },
    {
      "metadata": {
        "id": "tHQGgoit2ljv",
        "colab_type": "text"
      },
      "cell_type": "markdown",
      "source": [
        "## Seq2seq for Abstractive Summarization\n",
        "\n",
        "Вообще задача не сильно отличается от машинного перевода:\n",
        "\n",
        "![](https://image.ibb.co/jAf3S0/2018-11-20-9-42-17.png)\n",
        "*From [Get To The Point: Summarization with Pointer-Generator Networks](https://arxiv.org/pdf/1704.04368.pdf)*\n",
        "\n",
        "Тут на каждом шаге декодер подглядывает на все токены - точнее, их эмбеддинги после BiRNN.\n",
        "\n",
        "Возникает вопрос - а зачем вообще RNN, если потом все равно будем смотреть на всё."
      ]
    },
    {
      "metadata": {
        "id": "8FYJe2CA8GcY",
        "colab_type": "text"
      },
      "cell_type": "markdown",
      "source": [
        "# Transformer\n",
        "\n",
        "Из этой идеи - отказ от RNN - и получился Transformer.\n",
        "\n",
        "![](https://hsto.org/webt/59/f0/44/59f04410c0e56192990801.png =x600)  \n",
        "*From Attention is all you need*\n",
        "\n",
        "Как в случае с RNN мы на каждом шаге применяем одну и ту же операцию (ячейку LSTM) к текущему входу, так и здесь - только теперь связей между timestamp'ами нет и можно обрабатывать их почти параллельно.\n",
        "\n",
        "*Код дальше очень сильно опирается на шикарную статью [The Annotated Transformer](http://nlp.seas.harvard.edu/2018/04/03/attention.html).*"
      ]
    },
    {
      "metadata": {
        "id": "env8rDS_dM86",
        "colab_type": "text"
      },
      "cell_type": "markdown",
      "source": [
        "## Encoder\n",
        "\n",
        "Начнем с энкодера:\n",
        "\n",
        "![](http://jalammar.github.io/images/t/transformer_resideual_layer_norm.png =x400)  \n",
        "*From [Illustrated Transformer](http://jalammar.github.io/illustrated-transformer/)*\n",
        "\n",
        "Он представляет из себя последовательность одинаковых блоков с self-attention + полносвязными слоями.\n",
        "\n",
        "Можно представить, что это - ячейка LSTM: она тоже применяется к каждому входу с одинаковыми весами. Разница основная в отсутствии рекуррентных связей: за счет этого энкодер может применяться одновременно ко всем входам батча."
      ]
    },
    {
      "metadata": {
        "id": "rXjWcnpCJY92",
        "colab_type": "text"
      },
      "cell_type": "markdown",
      "source": [
        "### Positional Encoding\n",
        "\n",
        "Нужно как-то кодировать информацию о том, в каком месте в предложении стоит токен. Чуваки предложили делать так:\n",
        "$$PE_{(pos,2i)} = sin(pos / 10000^{2i/d_{\\text{model}}})$$\n",
        "$$PE_{(pos,2i+1)} = cos(pos / 10000^{2i/d_{\\text{model}}})$$\n",
        "\n",
        "где $(pos, i)$ - позиция в предложении и индекс в скрытом векторе размерности до $d_{model}$."
      ]
    },
    {
      "metadata": {
        "id": "zI2rMiZhJcKX",
        "colab_type": "code",
        "colab": {}
      },
      "cell_type": "code",
      "source": [
        "import math \n",
        "\n",
        "class PositionalEncoding(nn.Module):\n",
        "    def __init__(self, d_model, dropout, max_len=5000):\n",
        "        super().__init__()\n",
        "        self.dropout = nn.Dropout(p=dropout)\n",
        "        \n",
        "        pe = torch.zeros(max_len, d_model)\n",
        "        position = torch.arange(0, max_len, dtype=torch.float).unsqueeze(1)\n",
        "        div_term = torch.exp(torch.arange(0, d_model, 2, dtype=torch.float) * (-math.log(10000.0) / d_model))\n",
        "        pe[:, 0::2] = torch.sin(position * div_term)\n",
        "        pe[:, 1::2] = torch.cos(position * div_term)\n",
        "        pe = pe.unsqueeze(0)\n",
        "        self.register_buffer('pe', pe)\n",
        "        \n",
        "    def forward(self, x):\n",
        "        x = x + self.pe[:, :x.size(1)]\n",
        "        return self.dropout(x)"
      ],
      "execution_count": 0,
      "outputs": []
    },
    {
      "metadata": {
        "id": "XEL9VppyKCBz",
        "colab_type": "code",
        "outputId": "01ccdbf9-a0a3-498f-f2d2-162cb23497e4",
        "colab": {
          "base_uri": "https://localhost:8080/",
          "height": 338
        }
      },
      "cell_type": "code",
      "source": [
        "plt.figure(figsize=(15, 5))\n",
        "pe = PositionalEncoding(20, 0)\n",
        "y = pe(torch.zeros(1, 100, 20))\n",
        "plt.plot(np.arange(100), y[0, :, 4:8].data.numpy())\n",
        "plt.legend([\"dim %d\"%p for p in [4,5,6,7]])"
      ],
      "execution_count": 0,
      "outputs": [
        {
          "output_type": "execute_result",
          "data": {
            "text/plain": [
              "<matplotlib.legend.Legend at 0x7fa8f8ed0438>"
            ]
          },
          "metadata": {
            "tags": []
          },
          "execution_count": 8
        },
        {
          "output_type": "display_data",
          "data": {
            "image/png": "[encoded data removed]",
            "text/plain": [
              "<matplotlib.figure.Figure at 0x7fa8f9ca7f28>"
            ]
          },
          "metadata": {
            "tags": []
          }
        }
      ]
    },
    {
      "metadata": {
        "id": "a7OeqTcOdgud",
        "colab_type": "text"
      },
      "cell_type": "markdown",
      "source": [
        "В итоге эмбеддинги токена получается как сумма обычного эмбеддинга и эмбеддинга позиции:  \n",
        "![](http://jalammar.github.io/images/t/transformer_positional_encoding_vectors.png =x500)  \n",
        "*From [Illustrated Transformer](http://jalammar.github.io/illustrated-transformer/)*"
      ]
    },
    {
      "metadata": {
        "id": "9rvG4ZQ_icKH",
        "colab_type": "text"
      },
      "cell_type": "markdown",
      "source": [
        "### Residual Connection\n",
        "\n",
        "Разберем блок энкодера - повторяющейся N раз комбинации операций на первом рисунке.\n",
        "\n",
        "Самое простое здесь - residual connection. Вместо к выходу произвольной функции $F$ прибавляется её вход\n",
        "$$y = F(x) \\quad \\to \\quad y = F(x) + x$$\n",
        "\n",
        "Идея в том, что обычные сети сложно делать слишком глубокими - градиенты затухают. А через этот residual вход $x$ градиентам течь ничего не стоит. В итоге в картинках благодаря таким блокам получилось настакать дофига слоев и улучшить качество (см. ResNet).\n",
        "\n",
        "Ничего не мешает нам поступить также."
      ]
    },
    {
      "metadata": {
        "id": "7QLCqNeEjKpD",
        "colab_type": "code",
        "colab": {}
      },
      "cell_type": "code",
      "source": [
        "class ResidualBlock(nn.Module):\n",
        "    def __init__(self, size, dropout_rate):\n",
        "        super().__init__()\n",
        "        self._norm = LayerNorm(size)\n",
        "        self._dropout = nn.Dropout(dropout_rate)\n",
        "\n",
        "    def forward(self, inputs, sublayer):\n",
        "        return inputs + self._dropout(sublayer(self._norm(inputs)))"
      ],
      "execution_count": 0,
      "outputs": []
    },
    {
      "metadata": {
        "id": "EHUqCsifmd5e",
        "colab_type": "text"
      },
      "cell_type": "markdown",
      "source": [
        "### Layer Norm\n",
        "\n",
        "Дополнительно применяется нормализация LayerNorm. \n",
        "\n",
        "**Batch normalization**  \n",
        "Мы вообще не разбирали, но BatchNorm работает так:\n",
        "$$\\mu_j = \\frac{1}{m}\\sum_{i=1}^{m}x_{ij} \\\\    \\sigma_j^2 = \\frac{1}{m}\\sum_{i=1}^{m}(x_{ij} - \\mu_j)^2 \\\\    \\hat{x}_{ij} = \\frac{x_{ij} - \\mu_j}{\\sqrt{\\sigma_j^2 + \\epsilon}}$$\n",
        "$$y_{ij} = \\gamma \\ \\hat{x}_{ij} + \\beta$$\n",
        "\n",
        "На каждом батче эти $\\mu$ и $\\sigma$ пересчитываются, обновляя статистики. На инференсе используются накопленные статистики.\n",
        "\n",
        "Основной его недостаток - он плохо работает с рекуррентными сетями. Чтобы побороть это придумали:\n",
        "\n",
        "**Layer normalization**  \n",
        "А сейчас мы будем пользоваться немного другими формулами:\n",
        "$$\\mu_i = \\frac{1}{m}\\sum_{j=1}^{m}x_{ij} \\\\    \\sigma_i^2 = \\frac{1}{m}\\sum_{j=1}^{m}(x_{ij} - \\mu_i)^2 \\\\    \\hat{x}_{ij} = \\frac{x_{ij} - \\mu_i}{\\sqrt{\\sigma_i^2 + \\epsilon}}$$\n",
        "$$y_{ij} = \\gamma \\ \\hat{x}_{ij} + \\beta$$\n",
        "\n",
        "Разницу с ходу не видно, но она есть:\n",
        "![](https://image.ibb.co/hjtuX0/layernorm.png)  \n",
        "*From [Weight Normalization and Layer Normalization Explained ](http://mlexplained.com/2018/01/13/weight-normalization-and-layer-normalization-explained-normalization-in-deep-learning-part-2/)*\n",
        "\n",
        "Если в BatchNorm статистики считаются для каждой фичи усреднением по батчу, то теперь - для каждого входа усредением по фичам."
      ]
    },
    {
      "metadata": {
        "id": "Q5XLZZ3zrK24",
        "colab_type": "code",
        "colab": {}
      },
      "cell_type": "code",
      "source": [
        "class LayerNorm(nn.Module):\n",
        "    def __init__(self, features, eps=1e-6):\n",
        "        super().__init__()\n",
        "        \n",
        "        self._gamma = nn.Parameter(torch.ones(features))\n",
        "        self._beta = nn.Parameter(torch.zeros(features))\n",
        "        self._eps = eps\n",
        "\n",
        "    def forward(self, inputs):  # batch_size, seq_len, hidden_dim\n",
        "        mean = torch.mean(inputs, -1, keepdim=True)\n",
        "        std = torch.std(inputs, -1, keepdim=True)\n",
        "        \n",
        "        inputs = (inputs - mean) / torch.sqrt(std + self._eps)\n",
        "        \n",
        "        return self._gamma * inputs + self._beta\n",
        "        "
      ],
      "execution_count": 0,
      "outputs": []
    },
    {
      "metadata": {
        "id": "512rl5d8LIU5",
        "colab_type": "code",
        "outputId": "97efe7c6-db1d-4485-ea2b-10ff7d7d177e",
        "colab": {
          "base_uri": "https://localhost:8080/",
          "height": 35
        }
      },
      "cell_type": "code",
      "source": [
        "LayerNorm(10)(torch.randn(10, 10)).shape"
      ],
      "execution_count": 0,
      "outputs": [
        {
          "output_type": "execute_result",
          "data": {
            "text/plain": [
              "torch.Size([10, 10])"
            ]
          },
          "metadata": {
            "tags": []
          },
          "execution_count": 11
        }
      ]
    },
    {
      "metadata": {
        "id": "WrWvtymp2G8o",
        "colab_type": "text"
      },
      "cell_type": "markdown",
      "source": [
        "### Attention\n",
        "\n",
        "Весь Transformer опирается на идею self-attention. Выглядит это так:\n",
        "\n",
        "![](http://jalammar.github.io/images/t/transformer_self-attention_visualization.png)  \n",
        "*From [Tensor2Tensor Tutorial](https://colab.research.google.com/github/tensorflow/tensor2tensor/blob/master/tensor2tensor/notebooks/hello_t2t.ipynb)*\n",
        "\n",
        "Эмбеддинг слова *it* строится как комбинация всех эмбеддингов предложения.\n",
        "\n",
        "В статье придумали делать такой аттеншен:\n",
        "\n",
        "$$\\mathrm{Attention}(Q, K, V) = \\mathrm{softmax}\\left(\\frac{QK^T}{\\sqrt{d_k}}\\right)V$$\n",
        "\n",
        "Это примерно как dot-attention на прошлом занятии: запрос (**Q**uery) умножается на ключи (**K**ey) скалярно, затем берется софтмакс - получаются оценки того, насколько интересны разные таймстемпы из значений (**V**alue). \n",
        "\n",
        "Например, $\\mathrm{emb}(\\text{it}) = \\mathrm{Attention}(\\text{it}, \\ldots\\text{because it was too tired}, \\ldots\\text{because it was too tired})$.\n",
        "\n",
        "Только теперь ещё с параметром $\\frac{1}{\\sqrt{d_k}}$, где $d_k$ - это размерность ключа. Утверждается, это работает лучше при больших размерностях ключа $d_k$."
      ]
    },
    {
      "metadata": {
        "id": "tzRfWDBTN7py",
        "colab_type": "text"
      },
      "cell_type": "markdown",
      "source": [
        "Q  (batch_size, seq_len, ... ,  d_k)\n",
        "K  (batch_size, seq_len, ... ,  d_k)\n",
        "V  (batch_size, seq_len, ... ,  d_k)\n",
        "\n",
        "K^T (batch_size, d_k, seq_len)\n",
        "Q K^T (batch_size,  seq_len , seq_len)\n",
        "softmax() V (batch_size, seq_len , d_k)\n"
      ]
    },
    {
      "metadata": {
        "id": "2ApuVJZn5i4R",
        "colab_type": "code",
        "colab": {}
      },
      "cell_type": "code",
      "source": [
        "class ScaledDotProductAttention(nn.Module):\n",
        "    def __init__(self, dropout_rate):\n",
        "        super().__init__()\n",
        "        \n",
        "        self._dropout = nn.Dropout(dropout_rate)\n",
        "        \n",
        "    def forward(self, query, key, value, mask):\n",
        "        d_k = key.shape[-1]\n",
        "        \n",
        "        scores = torch.matmul(query, key.transpose(-2, -1))\n",
        "        scores /= math.sqrt(d_k)\n",
        "        \n",
        "        scores = scores.masked_fill(mask == 0, -1e9)\n",
        "        \n",
        "        f_att = F.softmax(scores, -1)\n",
        "        \n",
        "        context = torch.matmul(f_att, value)\n",
        "       \n",
        "        return self._dropout(context), f_att"
      ],
      "execution_count": 0,
      "outputs": []
    },
    {
      "metadata": {
        "id": "8Eqau_wXMyZX",
        "colab_type": "code",
        "outputId": "9555cdad-dc09-429a-faf5-63ac0bd1a445",
        "colab": {
          "base_uri": "https://localhost:8080/",
          "height": 35
        }
      },
      "cell_type": "code",
      "source": [
        "q = torch.randn((20, 10, 32)).to(DEVICE)\n",
        "mask = torch.randint(0, 1, (20, 10)).byte().unsqueeze(-2).to(DEVICE)\n",
        "output = ScaledDotProductAttention(0.1)(q, q, q, mask)\n",
        "output[0].shape, output[1].shape\n"
      ],
      "execution_count": 0,
      "outputs": [
        {
          "output_type": "execute_result",
          "data": {
            "text/plain": [
              "(torch.Size([20, 10, 32]), torch.Size([20, 10, 10]))"
            ]
          },
          "metadata": {
            "tags": []
          },
          "execution_count": 24
        }
      ]
    },
    {
      "metadata": {
        "id": "uZ-xQbgM6MNl",
        "colab_type": "text"
      },
      "cell_type": "markdown",
      "source": [
        "### Multi-Head Attention\n",
        "\n",
        "![](https://hsto.org/webt/59/f0/44/59f0440f1109b864893781.png)\n",
        "\n",
        "Важная идея, почему attention (и, главное, self-attention) заработал - использование нескольких голов (multi-head).\n",
        "\n",
        "Вообще, когда мы делаем attention - мы определяем похожесть ключа и запроса. Многоголовость помогает (должна) определять эту похожесть по разным критериям - синтаксически, семантически и т.д.\n",
        "\n",
        "Например, на картинке используется две головы и одна голова смотрит на *the animal* при генерации *it*, вторая - на *tired*:\n",
        "\n",
        "![](http://jalammar.github.io/images/t/transformer_self-attention_visualization_2.png)  \n",
        "*From [Tensor2Tensor Tutorial](https://colab.research.google.com/github/tensorflow/tensor2tensor/blob/master/tensor2tensor/notebooks/hello_t2t.ipynb)*\n",
        "\n",
        "Применяется это таким образом:\n",
        "\n",
        "$$\\mathrm{MultiHead}(Q, K, V) = \\mathrm{Concat}(\\mathrm{head_1}, ...,\n",
        "\\mathrm{head_h})W^O    \\\\\n",
        "    \\mathrm{head_i} = \\mathrm{Attention}(QW^Q_i, KW^K_i, VW^V_i)$$\n",
        "    \n",
        "где $W^Q_i \\in \\mathbb{R}^{d_{model} \\times d_k}, W_i^K \\in \\mathbb{R}^{d_{model} \\times d_k}, W^V_i \\in \\mathbb{R}^{d_{model} \\times d_v}, W^O \\in \\mathbb{R}^{hd_v \\times d_{model}}$.\n",
        "\n",
        "В оригинальной статье использовали $h=8$, $d_k=d_v=d_{\\text{model}}/h=64$.\n",
        "\n",
        "Процесс применения такой:\n",
        "![](http://jalammar.github.io/images/t/transformer_multi-headed_self-attention-recap.png)  \n",
        "*From Illustrated Transformer*"
      ]
    },
    {
      "metadata": {
        "id": "rg-CxvPDAJPP",
        "colab_type": "code",
        "colab": {}
      },
      "cell_type": "code",
      "source": [
        "class MultiHeadedAttention(nn.Module):\n",
        "    def __init__(self, heads_count, d_model, dropout_rate=0.1):\n",
        "        super().__init__()\n",
        "        \n",
        "        assert d_model % heads_count == 0\n",
        "\n",
        "        self._d_k = d_model // heads_count\n",
        "        self._heads_count = heads_count\n",
        "        self._attention = ScaledDotProductAttention(dropout_rate)\n",
        "        self._attn_probs = None\n",
        "        \n",
        "        self._w_qs = [nn.Linear(d_model, self._d_k).to(DEVICE) for i in range(self._heads_count)]\n",
        "        self._w_ks = [nn.Linear(d_model, self._d_k).to(DEVICE) for i in range(self._heads_count)]\n",
        "        self._w_vs = [nn.Linear(d_model, self._d_k).to(DEVICE) for i in range(self._heads_count)]\n",
        "        self._w_o = nn.Linear(d_model, d_model).to(DEVICE)\n",
        "        \n",
        "    def forward(self, query, key, value, mask=None):\n",
        "        heads = []\n",
        "        f_atts = []\n",
        "        for i in range(self._heads_count):\n",
        "            context, f_att = self._attention(\n",
        "                self._w_qs[i](query),\n",
        "                self._w_ks[i](key),\n",
        "                self._w_vs[i](value),\n",
        "                mask\n",
        "            )\n",
        "            heads.append(context)\n",
        "            f_atts.append(f_att)\n",
        "        head = torch.cat(heads, dim=2)\n",
        "        return self._w_o(head)"
      ],
      "execution_count": 0,
      "outputs": []
    },
    {
      "metadata": {
        "id": "cXXdwCHgPPA4",
        "colab_type": "code",
        "outputId": "bf533ffb-2988-46d2-9ca0-a712d798faa7",
        "colab": {
          "base_uri": "https://localhost:8080/",
          "height": 35
        }
      },
      "cell_type": "code",
      "source": [
        "attn = MultiHeadedAttention(2, q.shape[-1])\n",
        "output = attn(q, q, q, mask)\n",
        "output[0].shape, output[1].shape"
      ],
      "execution_count": 0,
      "outputs": [
        {
          "output_type": "execute_result",
          "data": {
            "text/plain": [
              "(torch.Size([10, 32]), torch.Size([10, 32]))"
            ]
          },
          "metadata": {
            "tags": []
          },
          "execution_count": 26
        }
      ]
    },
    {
      "metadata": {
        "id": "pOKwneaKGaJi",
        "colab_type": "text"
      },
      "cell_type": "markdown",
      "source": [
        "### Position-wise Feed-Forward Networks\n",
        "\n",
        "Линейный блок в энкодере выглядит так:\n",
        "$$\\mathrm{FFN}(x)=\\max(0, xW_1 + b_1) W_2 + b_2$$"
      ]
    },
    {
      "metadata": {
        "id": "uh1UVkAUGiwh",
        "colab_type": "code",
        "colab": {}
      },
      "cell_type": "code",
      "source": [
        "class PositionwiseFeedForward(nn.Module):\n",
        "    def __init__(self, d_model, d_ff, dropout=0.1):\n",
        "        super().__init__()\n",
        "        \n",
        "        self.w_1 = nn.Linear(d_model, d_ff)\n",
        "        self.w_2 = nn.Linear(d_ff, d_model)\n",
        "        self.dropout = nn.Dropout(dropout)\n",
        "\n",
        "    def forward(self, inputs):\n",
        "        return self.w_2(self.dropout(F.relu(self.w_1(inputs))))"
      ],
      "execution_count": 0,
      "outputs": []
    },
    {
      "metadata": {
        "id": "_dZoU1JIt6QP",
        "colab_type": "text"
      },
      "cell_type": "markdown",
      "source": [
        "### Encoder block\n",
        "\n",
        "Соберем все в блок:"
      ]
    },
    {
      "metadata": {
        "id": "Nh7wQL65sBmk",
        "colab_type": "code",
        "colab": {}
      },
      "cell_type": "code",
      "source": [
        "class EncoderBlock(nn.Module):\n",
        "    def __init__(self, size, self_attn, feed_forward, dropout_rate):\n",
        "        super().__init__()\n",
        "        \n",
        "        self._self_attn = self_attn\n",
        "        self._feed_forward = feed_forward\n",
        "        self._self_attention_block = ResidualBlock(size, dropout_rate)\n",
        "        self._feed_forward_block = ResidualBlock(size, dropout_rate)\n",
        "\n",
        "    def forward(self, inputs, mask):\n",
        "        outputs = self._self_attention_block(inputs, lambda inputs: self._self_attn(inputs, inputs, inputs, mask))\n",
        "        return self._feed_forward_block(outputs, self._feed_forward)"
      ],
      "execution_count": 0,
      "outputs": []
    },
    {
      "metadata": {
        "id": "x8ndCRZLl4ZZ",
        "colab_type": "code",
        "colab": {}
      },
      "cell_type": "code",
      "source": [
        "class Encoder(nn.Module):\n",
        "    def __init__(self, vocab_size, d_model, d_ff, blocks_count, heads_count, dropout_rate):\n",
        "        super().__init__()\n",
        "        \n",
        "        self._emb = nn.Sequential(\n",
        "            nn.Embedding(vocab_size, d_model),\n",
        "            PositionalEncoding(d_model, dropout_rate)\n",
        "        )\n",
        "        \n",
        "        block = lambda: EncoderBlock(\n",
        "            size=d_model, \n",
        "            self_attn=MultiHeadedAttention(heads_count, d_model, dropout_rate), \n",
        "            feed_forward=PositionwiseFeedForward(d_model, d_ff, dropout_rate),\n",
        "            dropout_rate=dropout_rate\n",
        "        )\n",
        "        self._blocks = nn.ModuleList([block() for _ in range(blocks_count)])\n",
        "        self._norm = LayerNorm(d_model)\n",
        "        \n",
        "    def forward(self, inputs, mask):\n",
        "        inputs = self._emb(inputs)\n",
        "        \n",
        "        for block in self._blocks:\n",
        "            inputs = block(inputs, mask)\n",
        "        return self._norm(inputs)"
      ],
      "execution_count": 0,
      "outputs": []
    },
    {
      "metadata": {
        "id": "_pphRcbTvqnq",
        "colab_type": "text"
      },
      "cell_type": "markdown",
      "source": [
        "## Decoder\n",
        "\n",
        "![](https://hsto.org/webt/59/f0/44/59f0440f7d88f805415140.png =x550)\n",
        "\n",
        "Блок декодера (серая часть) состоит уже из трех частей:\n",
        "1. Сперва - тот же self-attention, что и в энкодере\n",
        "2. Затем - стандартный attention на выходы из энкодера + текущее состояние декодера (такой же был в seq2seq with attention)\n",
        "3. Наконец - feed-forward блок\n",
        "\n",
        "Всё это, конечно, с residual связями."
      ]
    },
    {
      "metadata": {
        "id": "6LTWjKUXx2LP",
        "colab_type": "code",
        "colab": {}
      },
      "cell_type": "code",
      "source": [
        "class DecoderLayer(nn.Module):\n",
        "    def __init__(self, size, self_attn, encoder_attn, feed_forward, dropout_rate):\n",
        "        super().__init__()\n",
        "                \n",
        "        self._self_attn = self_attn\n",
        "        self._encoder_attn = encoder_attn\n",
        "        self._feed_forward = feed_forward\n",
        "        self._self_attention_block = ResidualBlock(size, dropout_rate)\n",
        "        self._attention_block = ResidualBlock(size, dropout_rate)\n",
        "        self._feed_forward_block = ResidualBlock(size, dropout_rate)\n",
        " \n",
        "    def forward(self, inputs, encoder_output, source_mask, target_mask):\n",
        "        outputs = self._self_attention_block(\n",
        "            inputs, lambda inputs: self._self_attn(inputs, inputs, inputs, target_mask)\n",
        "        )\n",
        "        outputs = self._attention_block(\n",
        "            outputs, lambda inputs: self._encoder_attn(inputs, encoder_output, encoder_output, source_mask)\n",
        "        )\n",
        "        return self._feed_forward_block(outputs, self._feed_forward)"
      ],
      "execution_count": 0,
      "outputs": []
    },
    {
      "metadata": {
        "id": "Un0AOmdqLPp_",
        "colab_type": "code",
        "colab": {}
      },
      "cell_type": "code",
      "source": [
        "class Decoder(nn.Module):\n",
        "    def __init__(self, vocab_size, d_model, d_ff, blocks_count, heads_count, dropout_rate):\n",
        "        super().__init__()\n",
        "        \n",
        "        self._emb = nn.Sequential(\n",
        "            nn.Embedding(vocab_size, d_model),\n",
        "            PositionalEncoding(d_model, dropout_rate)\n",
        "        )\n",
        "        \n",
        "        block = lambda: DecoderLayer(\n",
        "            size=d_model, \n",
        "            self_attn=MultiHeadedAttention(heads_count, d_model, dropout_rate),\n",
        "            encoder_attn=MultiHeadedAttention(heads_count, d_model, dropout_rate),\n",
        "            feed_forward=PositionwiseFeedForward(d_model, d_ff, dropout_rate),\n",
        "            dropout_rate=dropout_rate\n",
        "        )\n",
        "        self._blocks = nn.ModuleList([block() for _ in range(blocks_count)])\n",
        "        self._norm = LayerNorm(d_model)\n",
        "        self._out_layer = nn.Linear(d_model, vocab_size)\n",
        "        \n",
        "    def forward(self, inputs, encoder_output, source_mask, target_mask):\n",
        "        inputs = self._emb(inputs)\n",
        "        for block in self._blocks:\n",
        "            inputs = block(inputs, encoder_output, source_mask, target_mask)\n",
        "        return self._out_layer(self._norm(inputs))"
      ],
      "execution_count": 0,
      "outputs": []
    },
    {
      "metadata": {
        "id": "tbEkHtwWz0Yh",
        "colab_type": "text"
      },
      "cell_type": "markdown",
      "source": [
        "В декодере нужно аттентиться только на предыдущие токены - сгенерируем маску для этого:"
      ]
    },
    {
      "metadata": {
        "id": "EbVkZSRq0cD5",
        "colab_type": "code",
        "colab": {}
      },
      "cell_type": "code",
      "source": [
        "def subsequent_mask(size):\n",
        "    mask = torch.ones(size, size, device=DEVICE).triu_()\n",
        "    return mask.unsqueeze(0) == 0"
      ],
      "execution_count": 0,
      "outputs": []
    },
    {
      "metadata": {
        "id": "_8X_fqeL0jeW",
        "colab_type": "code",
        "outputId": "25a478dc-4e24-4f67-c83c-532d1cc6dacd",
        "colab": {
          "base_uri": "https://localhost:8080/",
          "height": 338
        }
      },
      "cell_type": "code",
      "source": [
        "plt.figure(figsize=(5,5))\n",
        "plt.imshow(subsequent_mask(20)[0])"
      ],
      "execution_count": 0,
      "outputs": [
        {
          "output_type": "execute_result",
          "data": {
            "text/plain": [
              "<matplotlib.image.AxesImage at 0x7fa8f91da978>"
            ]
          },
          "metadata": {
            "tags": []
          },
          "execution_count": 33
        },
        {
          "output_type": "display_data",
          "data": {
            "image/png": "[encoded data removed]",
            "text/plain": [
              "<matplotlib.figure.Figure at 0x7fa8f91cf5f8>"
            ]
          },
          "metadata": {
            "tags": []
          }
        }
      ]
    },
    {
      "metadata": {
        "id": "b7UEsntVj9lb",
        "colab_type": "text"
      },
      "cell_type": "markdown",
      "source": [
        "## Полная модель"
      ]
    },
    {
      "metadata": {
        "id": "vLIGjPOiO7X9",
        "colab_type": "code",
        "colab": {}
      },
      "cell_type": "code",
      "source": [
        "class FullModel(nn.Module):\n",
        "    def __init__(self, source_vocab_size, target_vocab_size, d_model=256, d_ff=1024, \n",
        "                 blocks_count=4, heads_count=8, dropout_rate=0.1):\n",
        "        \n",
        "        super().__init__()\n",
        "        \n",
        "        self.d_model = d_model\n",
        "        self.encoder = Encoder(source_vocab_size, d_model, d_ff, blocks_count, heads_count, dropout_rate)\n",
        "        self.decoder = Decoder(target_vocab_size, d_model, d_ff, blocks_count, heads_count, dropout_rate)\n",
        "        \n",
        "        for p in self.parameters():\n",
        "            if p.dim() > 1:\n",
        "                nn.init.xavier_uniform_(p)\n",
        "        \n",
        "    def forward(self, source_inputs, target_inputs, source_mask, target_mask):\n",
        "        encoder_output = self.encoder(source_inputs, source_mask)\n",
        "        return self.decoder(target_inputs, encoder_output, source_mask, target_mask)"
      ],
      "execution_count": 0,
      "outputs": []
    },
    {
      "metadata": {
        "id": "BmucSaUOjlmh",
        "colab_type": "code",
        "colab": {}
      },
      "cell_type": "code",
      "source": [
        "def make_mask(source_inputs, target_inputs, pad_idx):\n",
        "    source_mask = (source_inputs != pad_idx).unsqueeze(-2)\n",
        "    target_mask = (target_inputs != pad_idx).unsqueeze(-2)\n",
        "    target_mask = target_mask & subsequent_mask(target_inputs.size(-1)).type_as(target_mask)\n",
        "    return source_mask, target_mask\n",
        "\n",
        "\n",
        "def convert_batch(batch, pad_idx=1):\n",
        "    source_inputs, target_inputs = batch.source.transpose(0, 1), batch.target.transpose(0, 1)\n",
        "    source_mask, target_mask = make_mask(source_inputs, target_inputs, pad_idx)\n",
        "    \n",
        "    return source_inputs, target_inputs, source_mask, target_mask"
      ],
      "execution_count": 0,
      "outputs": []
    },
    {
      "metadata": {
        "id": "9iWSl6m6jfbl",
        "colab_type": "code",
        "colab": {}
      },
      "cell_type": "code",
      "source": [
        "batch = next(iter(train_iter))"
      ],
      "execution_count": 0,
      "outputs": []
    },
    {
      "metadata": {
        "id": "5_qVuSL8QJg4",
        "colab_type": "code",
        "outputId": "3d04dcd1-80b3-4f5b-9149-ce6d8b86b0c8",
        "colab": {
          "base_uri": "https://localhost:8080/",
          "height": 35
        }
      },
      "cell_type": "code",
      "source": [
        "model = FullModel(source_vocab_size=len(word_field.vocab), target_vocab_size=len(word_field.vocab)).to(DEVICE)\n",
        "\n",
        "model(*[x.to(DEVICE) for x in convert_batch(batch)]).shape"
      ],
      "execution_count": 0,
      "outputs": [
        {
          "output_type": "execute_result",
          "data": {
            "text/plain": [
              "torch.Size([16, 17, 55838])"
            ]
          },
          "metadata": {
            "tags": []
          },
          "execution_count": 44
        }
      ]
    },
    {
      "metadata": {
        "id": "vX6PrVksnaq7",
        "colab_type": "text"
      },
      "cell_type": "markdown",
      "source": [
        "## Оптимизатор\n",
        "\n",
        "Тоже очень важно в данной модели - использовать правильный оптимизатор"
      ]
    },
    {
      "metadata": {
        "id": "KMhopCgTnh-w",
        "colab_type": "code",
        "colab": {}
      },
      "cell_type": "code",
      "source": [
        "class NoamOpt(object):\n",
        "    def __init__(self, model_size, factor=2, warmup=4000, optimizer=None):\n",
        "        if optimizer is not None:\n",
        "            self.optimizer = optimizer\n",
        "        else:\n",
        "            self.optimizer = optim.Adam(model.parameters(), lr=0, betas=(0.9, 0.98), eps=1e-9)\n",
        "        self._step = 0\n",
        "        self.warmup = warmup\n",
        "        self.factor = factor\n",
        "        self.model_size = model_size\n",
        "        self._rate = 0\n",
        "        \n",
        "    def step(self):\n",
        "        self._step += 1\n",
        "        rate = self.rate()\n",
        "        for p in self.optimizer.param_groups:\n",
        "            p['lr'] = rate\n",
        "        self._rate = rate\n",
        "        self.optimizer.step()\n",
        "        \n",
        "    def rate(self, step = None):\n",
        "        if step is None:\n",
        "            step = self._step\n",
        "        return self.factor * (self.model_size ** (-0.5) * min(step ** (-0.5), step * self.warmup ** (-1.5)))"
      ],
      "execution_count": 0,
      "outputs": []
    },
    {
      "metadata": {
        "id": "OuYc21J5oIdb",
        "colab_type": "text"
      },
      "cell_type": "markdown",
      "source": [
        "Идея в том, чтобы повышать learning rate в течении первых warmup шагов линейно, а затем понижать его по сложной формуле:\n",
        "\n",
        "$$lrate = d_{\\text{model}}^{-0.5} \\cdot\n",
        "  \\min({step\\_num}^{-0.5},\n",
        "    {step\\_num} \\cdot {warmup\\_steps}^{-1.5})$$"
      ]
    },
    {
      "metadata": {
        "id": "kMBL261hoA58",
        "colab_type": "code",
        "outputId": "23e54625-c920-42a0-9e5a-f40169c14dd6",
        "colab": {
          "base_uri": "https://localhost:8080/",
          "height": 283
        }
      },
      "cell_type": "code",
      "source": [
        "opts = [NoamOpt(512, 1, 4000, None), \n",
        "        NoamOpt(512, 1, 8000, None),\n",
        "        NoamOpt(256, 1, 4000, None)]\n",
        "plt.plot(np.arange(1, 20000), [[opt.rate(i) for opt in opts] for i in range(1, 20000)])\n",
        "plt.legend([\"512:4000\", \"512:8000\", \"256:4000\"])"
      ],
      "execution_count": 0,
      "outputs": [
        {
          "output_type": "execute_result",
          "data": {
            "text/plain": [
              "<matplotlib.legend.Legend at 0x7fa8f8f54c50>"
            ]
          },
          "metadata": {
            "tags": []
          },
          "execution_count": 46
        },
        {
          "output_type": "display_data",
          "data": {
            "image/png": "[encoded data removed]",
            "text/plain": [
              "<matplotlib.figure.Figure at 0x7fa8f93e4080>"
            ]
          },
          "metadata": {
            "tags": []
          }
        }
      ]
    },
    {
      "metadata": {
        "id": "W71i85Q4pdOS",
        "colab_type": "text"
      },
      "cell_type": "markdown",
      "source": [
        "## Тренировка модели"
      ]
    },
    {
      "metadata": {
        "id": "_E2JxfRuphch",
        "colab_type": "code",
        "colab": {}
      },
      "cell_type": "code",
      "source": [
        "import math\n",
        "from tqdm import tqdm\n",
        "tqdm.get_lock().locks = []\n",
        "\n",
        "\n",
        "def do_epoch(model, criterion, data_iter, optimizer=None, name=None):\n",
        "    epoch_loss = 0\n",
        "    \n",
        "    is_train = not optimizer is None\n",
        "    name = name or ''\n",
        "    model.train(is_train)\n",
        "    \n",
        "    batches_count = len(data_iter)\n",
        "    \n",
        "    with torch.autograd.set_grad_enabled(is_train):\n",
        "        with tqdm(total=batches_count) as progress_bar:\n",
        "            for i, batch in enumerate(data_iter):\n",
        "                source_inputs, target_inputs, source_mask, target_mask = convert_batch(batch)                                \n",
        "                logits = model.forward(source_inputs, target_inputs[:, :-1], source_mask, target_mask[:, :-1, :-1])\n",
        "                \n",
        "                logits = logits.contiguous().view(-1, logits.shape[-1])\n",
        "                target = target_inputs[:, 1:].contiguous().view(-1)\n",
        "                loss = criterion(logits, target)\n",
        "\n",
        "                epoch_loss += loss.item()\n",
        "\n",
        "                if optimizer:\n",
        "                    optimizer.optimizer.zero_grad()\n",
        "                    loss.backward()\n",
        "                    optimizer.step()\n",
        "\n",
        "                progress_bar.update()\n",
        "                progress_bar.set_description('{:>5s} Loss = {:.5f}, PPX = {:.2f}'.format(name, loss.item(), \n",
        "                                                                                         math.exp(loss.item())))\n",
        "                \n",
        "            progress_bar.set_description('{:>5s} Loss = {:.5f}, PPX = {:.2f}'.format(\n",
        "                name, epoch_loss / batches_count, math.exp(epoch_loss / batches_count))\n",
        "            )\n",
        "            progress_bar.refresh()\n",
        "\n",
        "    return epoch_loss / batches_count\n",
        "\n",
        "\n",
        "def fit(model, criterion, optimizer, train_iter, epochs_count=1, val_iter=None):\n",
        "    best_val_loss = None\n",
        "    for epoch in range(epochs_count):\n",
        "        name_prefix = '[{} / {}] '.format(epoch + 1, epochs_count)\n",
        "        train_loss = do_epoch(model, criterion, train_iter, optimizer, name_prefix + 'Train:')\n",
        "        \n",
        "        if not val_iter is None:\n",
        "            val_loss = do_epoch(model, criterion, val_iter, None, name_prefix + '  Val:')\n",
        "            print('\\nVal BLEU = {:.2f}'.format(evaluate_model(model, val_iter)))"
      ],
      "execution_count": 0,
      "outputs": []
    },
    {
      "metadata": {
        "id": "5X2kYDU_rCjP",
        "colab_type": "code",
        "colab": {}
      },
      "cell_type": "code",
      "source": [
        "model = FullModel(source_vocab_size=len(word_field.vocab), target_vocab_size=len(word_field.vocab)).to(DEVICE)\n",
        "\n",
        "pad_idx = word_field.vocab.stoi['<pad>']\n",
        "criterion = nn.CrossEntropyLoss(ignore_index=pad_idx).to(DEVICE)\n",
        "\n",
        "optimizer = NoamOpt(model.d_model)\n",
        "\n",
        "fit(model, criterion, optimizer, train_iter, epochs_count=30, val_iter=test_iter)"
      ],
      "execution_count": 0,
      "outputs": []
    },
    {
      "metadata": {
        "id": "PRMFkzDV-wI9",
        "colab_type": "text"
      },
      "cell_type": "markdown",
      "source": [
        "**Задание** Добавьте генератор для модели.\n",
        "\n",
        "**Задание** Добавьте визуализацию (можно подсмотреть в коде по ссылкам)."
      ]
    },
    {
      "metadata": {
        "id": "Ij1GiNx54Ke5",
        "colab_type": "text"
      },
      "cell_type": "markdown",
      "source": [
        "## Улучшения модели\n",
        "\n",
        "**Задание** Попробовать расшарить матрицы эмбеддингов - их тут три (входные в энкодер и декодер + выход декодера).\n",
        "\n",
        "**Задание** Замените лосс на LabelSmoothing."
      ]
    },
    {
      "metadata": {
        "id": "goFvQj18--iP",
        "colab_type": "text"
      },
      "cell_type": "markdown",
      "source": [
        "# Pointer-Generator Networks\n",
        "\n",
        "Клёвая идея, специфичная для саммаризации:\n",
        "\n",
        "![](https://image.ibb.co/eijTc0/2018-11-20-10-18-52.png)\n",
        "\n",
        "**Задание** Попробуйте реализовать её."
      ]
    },
    {
      "metadata": {
        "colab_type": "text",
        "id": "N4-3pYqVJIKA"
      },
      "cell_type": "markdown",
      "source": [
        "# Дополнительные материалы\n",
        "\n",
        "## Статьи\n",
        "Attention Is All You Need, 2017 [[pdf]](https://arxiv.org/pdf/1706.03762.pdf)  \n",
        "Get To The Point: Summarization with Pointer-Generator Networks, 2017 [[pdf]](https://arxiv.org/pdf/1704.04368.pdf)  \n",
        "Universal Transformers, 2018 [[arxiv]](https://arxiv.org/abs/1807.03819)\n",
        "\n",
        "## Блоги\n",
        "[Transformer — новая архитектура нейросетей для работы с последовательностями](https://habr.com/post/341240/)  \n",
        "[The Illustrated Transformer](http://jalammar.github.io/illustrated-transformer/)  \n",
        "[The Annotated Transformer](http://nlp.seas.harvard.edu/2018/04/03/attention.html)  \n",
        "[Weighted Tranformer](https://einstein.ai/research/blog/weighted-transformer)  \n",
        "[Your tldr by an ai: a deep reinforced model for abstractive summarization](https://einstein.ai/research/blog/your-tldr-by-an-ai-a-deep-reinforced-model-for-abstractive-summarization)"
      ]
    },
    {
      "metadata": {
        "id": "Vwb5e5hPQebd",
        "colab_type": "text"
      },
      "cell_type": "markdown",
      "source": [
        "# Сдача\n",
        "\n",
        "[Форма для сдачи](https://goo.gl/forms/3npI3cPpru8JorXV2)  \n",
        "[Feedback](https://goo.gl/forms/9aizSzOUrx7EvGlG3)"
      ]
    }
  ]
}