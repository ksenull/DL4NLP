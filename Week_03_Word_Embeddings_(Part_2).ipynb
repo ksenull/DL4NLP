{
  "nbformat": 4,
  "nbformat_minor": 0,
  "metadata": {
    "colab": {
      "name": "Week 03 - Word Embeddings (Part 2).ipynb",
      "version": "0.3.2",
      "provenance": [],
      "collapsed_sections": []
    },
    "kernelspec": {
      "name": "python3",
      "display_name": "Python 3"
    },
    "accelerator": "GPU"
  },
  "cells": [
    {
      "metadata": {
        "id": "9vacV4BIFI8l",
        "colab_type": "code",
        "outputId": "5701a5d8-93ae-40ab-de94-1f0e08f43568",
        "colab": {
          "base_uri": "https://localhost:8080/",
          "height": 123
        }
      },
      "cell_type": "code",
      "source": [
        "!pip3 -qq install torch==0.4.1\n",
        "!pip install -q --upgrade nltk gensim bokeh pandas\n",
        "\n",
        "!wget -O quora.zip -qq --no-check-certificate \"https://drive.google.com/uc?export=download&id=1ERtxpdWOgGQ3HOigqAMHTJjmOE_tWvoF\"\n",
        "!unzip quora.zip\n",
        "\n",
        "import nltk\n",
        "nltk.download('punkt')"
      ],
      "execution_count": 0,
      "outputs": [
        {
          "output_type": "stream",
          "text": [
            "Archive:  quora.zip\n",
            "replace train.csv? [y]es, [n]o, [A]ll, [N]one, [r]ename: y\n",
            "  inflating: train.csv               \n",
            "[nltk_data] Downloading package punkt to /root/nltk_data...\n",
            "[nltk_data]   Package punkt is already up-to-date!\n"
          ],
          "name": "stdout"
        },
        {
          "output_type": "execute_result",
          "data": {
            "text/plain": [
              "True"
            ]
          },
          "metadata": {
            "tags": []
          },
          "execution_count": 1
        }
      ]
    },
    {
      "metadata": {
        "id": "XIFSTdJG95SZ",
        "colab_type": "code",
        "colab": {}
      },
      "cell_type": "code",
      "source": [
        "import time\n",
        "import math\n",
        "import numpy as np\n",
        "import matplotlib.pyplot as plt\n",
        "from IPython.display import clear_output\n",
        "%matplotlib inline\n",
        "\n",
        "import torch\n",
        "import torch.autograd as autograd\n",
        "import torch.nn as nn\n",
        "import torch.nn.functional as F\n",
        "import torch.optim as optim \n",
        "\n",
        "np.random.seed(42)"
      ],
      "execution_count": 0,
      "outputs": []
    },
    {
      "metadata": {
        "id": "lbpWIAreB6ky",
        "colab_type": "text"
      },
      "cell_type": "markdown",
      "source": [
        "# Введение в PyTorch"
      ]
    },
    {
      "metadata": {
        "id": "_M0mMOadG8aZ",
        "colab_type": "text"
      },
      "cell_type": "markdown",
      "source": [
        "PyTorch - это один из самых известных фреймворков для работы с нейронными сетями.\n",
        "\n",
        "Почему именно он? Ну, он няшен, питоняч и проще в отладке - по сравнению с монстрами типа tensoflow (хотя tf 2.0 с eager execution будет примерно таким же).\n",
        "\n",
        "И вообще, мы тут не фреймворки, а сеточки учить собирались :)\n",
        "\n"
      ]
    },
    {
      "metadata": {
        "id": "vsScdJ7DLZCm",
        "colab_type": "text"
      },
      "cell_type": "markdown",
      "source": [
        "## Автоматическое дифференцирование"
      ]
    },
    {
      "metadata": {
        "id": "bY9FHLM-M4aW",
        "colab_type": "text"
      },
      "cell_type": "markdown",
      "source": [
        "### Графы вычислений"
      ]
    },
    {
      "metadata": {
        "id": "KkvCloDpNXdH",
        "colab_type": "text"
      },
      "cell_type": "markdown",
      "source": [
        "Графы вычислений - это такой удобный способ быстро считать градиенты сложных-пресложных функций.\n",
        "\n",
        "Например, функция\n",
        "\n",
        "$$f = (x + y) \\cdot z$$\n",
        "\n",
        "представится графом\n",
        "\n",
        "![graph](https://image.ibb.co/mWM0Lx/1_6o_Utr7_ENFHOK7_J4l_XJtw1g.png =500x)  \n",
        "*From [Backpropagation, Intuitions - CS231n](http://cs231n.github.io/optimization-2/)*\n",
        "\n",
        "**Задание** Зададим значения $x, y, z$ (зеленым на картинке). Как посчитать $\\frac{\\partial f}{\\partial x}, \\frac{\\partial f}{\\partial y}, \\frac{\\partial f}{\\partial z}$? (*Вспоминаем, что такое backpropagation*)\n",
        "\n",
        "В PyTorch такие вычисления делаются очень просто.\n",
        "\n",
        "Сначала определяется функция - просто последовательность операций:"
      ]
    },
    {
      "metadata": {
        "id": "lw4ASRktLdO4",
        "colab_type": "code",
        "colab": {}
      },
      "cell_type": "code",
      "source": [
        "x = torch.tensor(-2., requires_grad=True)\n",
        "y = torch.tensor(5., requires_grad=True)\n",
        "z = torch.tensor(-4., requires_grad=True)\n",
        "\n",
        "q = x + y\n",
        "f = q * z"
      ],
      "execution_count": 0,
      "outputs": []
    },
    {
      "metadata": {
        "id": "-78COM99N8YL",
        "colab_type": "text"
      },
      "cell_type": "markdown",
      "source": [
        "А затем говорим ей: \"Посчитай градиенты, пожалуйста\""
      ]
    },
    {
      "metadata": {
        "id": "9FOlPMIQMfbq",
        "colab_type": "code",
        "outputId": "b99ea254-ad86-409c-c3f4-a07f4bdfd77b",
        "colab": {
          "base_uri": "https://localhost:8080/",
          "height": 70
        }
      },
      "cell_type": "code",
      "source": [
        "f.backward()\n",
        "\n",
        "print('df/dz =', z.grad)\n",
        "print('df/dx =', x.grad)\n",
        "print('df/dy =', y.grad)"
      ],
      "execution_count": 0,
      "outputs": [
        {
          "output_type": "stream",
          "text": [
            "df/dz = tensor(3.)\n",
            "df/dx = tensor(-4.)\n",
            "df/dy = tensor(-4.)\n"
          ],
          "name": "stdout"
        }
      ]
    },
    {
      "metadata": {
        "id": "JotDf1naGU-R",
        "colab_type": "text"
      },
      "cell_type": "markdown",
      "source": [
        "Вызов метода `backward()` вычисляет градиенты для всех тензоров, у которых `requires_grad == True`.\n",
        "\n",
        "Есть еще альтернативный способ не вычислять градиенты - пользоваться менеджерами контекста ([Locally disabling gradient computation](https://pytorch.org/docs/stable/autograd.html#locally-disabling-gradient-computation)):\n",
        "```python\n",
        "torch.autograd.no_grad()\n",
        "torch.autograd.enable_grad()\n",
        "torch.autograd.set_grad_enabled(mode)\n",
        "\n",
        "```"
      ]
    },
    {
      "metadata": {
        "id": "WQEJeqfnJPpA",
        "colab_type": "code",
        "outputId": "ea3c7e0a-96dd-4046-d886-448bd50e97f9",
        "colab": {
          "base_uri": "https://localhost:8080/",
          "height": 70
        }
      },
      "cell_type": "code",
      "source": [
        "with torch.autograd.no_grad():\n",
        "    x = torch.tensor(-2., requires_grad=True)\n",
        "    y = torch.tensor(5., requires_grad=True)\n",
        "    q = x + y\n",
        "\n",
        "z = torch.tensor(-4., requires_grad=True)\n",
        "f = q * z\n",
        "\n",
        "f.backward()\n",
        "\n",
        "print('df/dz =', z.grad)\n",
        "print('df/dx =', x.grad)\n",
        "print('df/dy =', y.grad)"
      ],
      "execution_count": 0,
      "outputs": [
        {
          "output_type": "stream",
          "text": [
            "df/dz = tensor(3.)\n",
            "df/dx = None\n",
            "df/dy = None\n"
          ],
          "name": "stdout"
        }
      ]
    },
    {
      "metadata": {
        "id": "tSiB1CGyJMzt",
        "colab_type": "text"
      },
      "cell_type": "markdown",
      "source": [
        "Подробнее о том, как работает autograd, можно почитать здесь: [Autograd mechanics](https://pytorch.org/docs/stable/notes/autograd.html).\n",
        "\n",
        "В целом, любой тензор в pytorch - аналог многомерных матриц в numpy.\n",
        "\n",
        "Он содержит данные:"
      ]
    },
    {
      "metadata": {
        "id": "DY2CcCw2Gmgq",
        "colab_type": "code",
        "outputId": "ae845bda-d400-45b2-de91-5d92ed75f7b3",
        "colab": {
          "base_uri": "https://localhost:8080/",
          "height": 35
        }
      },
      "cell_type": "code",
      "source": [
        "x.data"
      ],
      "execution_count": 0,
      "outputs": [
        {
          "output_type": "execute_result",
          "data": {
            "text/plain": [
              "tensor(-2.)"
            ]
          },
          "metadata": {
            "tags": []
          },
          "execution_count": 6
        }
      ]
    },
    {
      "metadata": {
        "id": "zYxD8N_9GpJl",
        "colab_type": "text"
      },
      "cell_type": "markdown",
      "source": [
        "Накопленный градиент:"
      ]
    },
    {
      "metadata": {
        "id": "wYCD5P24GufX",
        "colab_type": "code",
        "colab": {}
      },
      "cell_type": "code",
      "source": [
        "x.grad"
      ],
      "execution_count": 0,
      "outputs": []
    },
    {
      "metadata": {
        "id": "jwLx4szvGwMb",
        "colab_type": "text"
      },
      "cell_type": "markdown",
      "source": [
        "Функцию, как градиент считать:"
      ]
    },
    {
      "metadata": {
        "id": "TTfGdUF_GzV8",
        "colab_type": "code",
        "colab": {}
      },
      "cell_type": "code",
      "source": [
        "q.grad_fn"
      ],
      "execution_count": 0,
      "outputs": []
    },
    {
      "metadata": {
        "id": "VgK1Esa6HHAB",
        "colab_type": "text"
      },
      "cell_type": "markdown",
      "source": [
        "И всякую дополнительную метаинформацию:"
      ]
    },
    {
      "metadata": {
        "id": "Nazaer0AG4pL",
        "colab_type": "code",
        "outputId": "4972ae02-0d62-4ee5-c0c0-aceff14939dd",
        "colab": {
          "base_uri": "https://localhost:8080/",
          "height": 35
        }
      },
      "cell_type": "code",
      "source": [
        "x.type(), x.shape, x.device, x.layout"
      ],
      "execution_count": 0,
      "outputs": [
        {
          "output_type": "execute_result",
          "data": {
            "text/plain": [
              "('torch.FloatTensor', torch.Size([]), device(type='cpu'), torch.strided)"
            ]
          },
          "metadata": {
            "tags": []
          },
          "execution_count": 10
        }
      ]
    },
    {
      "metadata": {
        "id": "WvLFlc4iQOQv",
        "colab_type": "text"
      },
      "cell_type": "markdown",
      "source": [
        "Зачем... У меня один вопрос - зачем вот это вот нам нужно?"
      ]
    },
    {
      "metadata": {
        "id": "FlhLBWwHG3Xe",
        "colab_type": "text"
      },
      "cell_type": "markdown",
      "source": [
        "### Задача для разминки"
      ]
    },
    {
      "metadata": {
        "id": "kaqtIIvJOEut",
        "colab_type": "text"
      },
      "cell_type": "markdown",
      "source": [
        "Чтобы разобраться - решим простенькую задачу на линейную регрессию:"
      ]
    },
    {
      "metadata": {
        "id": "QDZpEHF8AKH2",
        "colab_type": "code",
        "outputId": "de62b71f-692c-48e5-875e-fc5a69950699",
        "colab": {
          "base_uri": "https://localhost:8080/",
          "height": 265
        }
      },
      "cell_type": "code",
      "source": [
        "w_orig, b_orig = 2.6, -0.4\n",
        "\n",
        "X = np.random.rand(100) * 10. - 5.\n",
        "y_orig = w_orig * X + b_orig\n",
        "\n",
        "y = y_orig + np.random.randn(100)\n",
        "\n",
        "plt.plot(X, y, '.')\n",
        "plt.plot(X, y_orig)\n",
        "plt.show()"
      ],
      "execution_count": 0,
      "outputs": [
        {
          "output_type": "display_data",
          "data": {
            "image/png": "[encoded data removed]",
            "text/plain": [
              "<matplotlib.figure.Figure at 0x7fa67eb36048>"
            ]
          },
          "metadata": {
            "tags": []
          }
        }
      ]
    },
    {
      "metadata": {
        "id": "r2K5MVtiSGuC",
        "colab_type": "text"
      },
      "cell_type": "markdown",
      "source": [
        "Хочется прикрутить сюда backpropagation, да.\n",
        "\n",
        "Есть два параметра $w$ и $b$ - их нужно подобрать такими, чтобы они были как можно ближе к исходным $w_{orig}, b_{orig}$.\n",
        "\n",
        "Что будем оптимизировать? Оптимизировать будем MSE:\n",
        "$$J(w, b) = \\frac{1}{N} \\sum_{i=1}^N || \\hat y_i - y_i(w, b)||^2 =\\frac{1}{N} \\sum_{i=1}^N || \\hat y_i - (w \\cdot x_i + b)||^2. $$\n",
        "\n",
        "С такой функций потерь можем запустить простой градиентный спуск (даже не стохастический пока):\n",
        "$$w_{t+1} := w_t - \\alpha \\cdot \\frac{\\partial J}{\\partial w}(w_t, b_t)$$\n",
        "$$b_{t+1} := w_t - \\alpha \\cdot \\frac{\\partial J}{\\partial b}(w_t, b_t)$$\n",
        "\n",
        "**Задание** Реализовать оптимизацию на чистом numpy.\n",
        "\n",
        "Для этого нужно:\n",
        "1. Посчитать значение функции на прямом проходе: $y(w, b) = w \\cdot x + b$;\n",
        "2. Подумать и посчитать градиенты $\\frac{\\partial J}{\\partial w}, \\frac{\\partial J}{\\partial b}$ на обратном проходе;\n",
        "3. Сдвинуть $w, b$ по антиградиентам."
      ]
    },
    {
      "metadata": {
        "id": "VKbqTNVXFB3A",
        "colab_type": "code",
        "outputId": "55bfa91e-47aa-42a0-e81b-1d98aa634ed6",
        "colab": {
          "base_uri": "https://localhost:8080/",
          "height": 283
        }
      },
      "cell_type": "code",
      "source": [
        "def display_progress(epoch, loss, w, b, X, y, y_pred):\n",
        "    clear_output(True)\n",
        "    print('Epoch = {}, Loss = {}, w = {}, b = {}'.format(epoch, loss, w, b))\n",
        "    plt.plot(X, y, '.')\n",
        "    plt.plot(X, y_pred)\n",
        "    plt.show()\n",
        "    time.sleep(1)\n",
        "\n",
        "\n",
        "w = np.random.randn()\n",
        "b = np.random.randn()\n",
        "\n",
        "alpha = 0.01\n",
        "\n",
        "for i in range(100):\n",
        "    y_pred = w * X + b\n",
        "#     print('y:', y_pred.shape, y.shape)\n",
        "    assert(y_pred.shape == y.shape)\n",
        "\n",
        "    loss = ((y - y_pred) ** 2).mean(axis=None) \n",
        "\n",
        "    w_grad = -(X * (y - y_pred)).mean(axis=0)\n",
        "    b_grad = -(y - y_pred).mean(axis=0)\n",
        "\n",
        "    w -= alpha * w_grad\n",
        "    b -= alpha * b_grad\n",
        "    \n",
        "    if (i + 1) % 5 == 0:\n",
        "        display_progress(i + 1, loss, w, b, X, y, y_pred)"
      ],
      "execution_count": 0,
      "outputs": [
        {
          "output_type": "stream",
          "text": [
            "Epoch = 100, Loss = 1.2400240715436779, w = 2.578626891426216, b = 0.24031721976675866\n"
          ],
          "name": "stdout"
        },
        {
          "output_type": "display_data",
          "data": {
            "image/png": "[encoded data removed]",
            "text/plain": [
              "<matplotlib.figure.Figure at 0x7fa67a688198>"
            ]
          },
          "metadata": {
            "tags": []
          }
        }
      ]
    },
    {
      "metadata": {
        "id": "X8WgWrF4C2WK",
        "colab_type": "text"
      },
      "cell_type": "markdown",
      "source": [
        "На PyTorch то же самое сделать несколько проще - подсчет прямого прохода копируется почти дословно.\n",
        "\n",
        "Обратный проход мы уже умеем - нужно просто вызвать `loss.backward()`.\n",
        "\n",
        "Для обновления `w` и `b` нужно иметь в виду следующее. Во-первых, pytorch не даст просто так обновить их:"
      ]
    },
    {
      "metadata": {
        "id": "Zx4DoGeBMJd4",
        "colab_type": "code",
        "outputId": "0503e570-ec64-40f8-9817-c8df942e3d1d",
        "colab": {
          "base_uri": "https://localhost:8080/",
          "height": 203
        }
      },
      "cell_type": "code",
      "source": [
        "w = torch.randn(1, requires_grad=True)\n",
        "\n",
        "w -= 1."
      ],
      "execution_count": 0,
      "outputs": [
        {
          "output_type": "error",
          "ename": "RuntimeError",
          "evalue": "ignored",
          "traceback": [
            "\u001b[0;31m---------------------------------------------------------------------------\u001b[0m",
            "\u001b[0;31mRuntimeError\u001b[0m                              Traceback (most recent call last)",
            "\u001b[0;32m<ipython-input-13-656a5a42591d>\u001b[0m in \u001b[0;36m<module>\u001b[0;34m()\u001b[0m\n\u001b[1;32m      1\u001b[0m \u001b[0mw\u001b[0m \u001b[0;34m=\u001b[0m \u001b[0mtorch\u001b[0m\u001b[0;34m.\u001b[0m\u001b[0mrandn\u001b[0m\u001b[0;34m(\u001b[0m\u001b[0;36m1\u001b[0m\u001b[0;34m,\u001b[0m \u001b[0mrequires_grad\u001b[0m\u001b[0;34m=\u001b[0m\u001b[0;32mTrue\u001b[0m\u001b[0;34m)\u001b[0m\u001b[0;34m\u001b[0m\u001b[0m\n\u001b[1;32m      2\u001b[0m \u001b[0;34m\u001b[0m\u001b[0m\n\u001b[0;32m----> 3\u001b[0;31m \u001b[0mw\u001b[0m \u001b[0;34m-=\u001b[0m \u001b[0;36m1.\u001b[0m\u001b[0;34m\u001b[0m\u001b[0m\n\u001b[0m",
            "\u001b[0;31mRuntimeError\u001b[0m: a leaf Variable that requires grad has been used in an in-place operation."
          ]
        }
      ]
    },
    {
      "metadata": {
        "id": "8OjoUh-SMPBt",
        "colab_type": "text"
      },
      "cell_type": "markdown",
      "source": [
        "Проблема в сложности поддержки in-place операций для работы autograd ([In place operations with autograd](https://pytorch.org/docs/stable/notes/autograd.html#in-place-operations-with-autograd)).\n",
        "\n",
        "Но нам и не нужна поддержка градиентов! Мы не будем делать backward pass через эту операцию - нужно всего лишь обновить значение переменной. Чтобы сделать это, можно воспользовать контекстом `no_grad`, либо производить обновление непосредственно буфера, который использует данный тензор:"
      ]
    },
    {
      "metadata": {
        "id": "zegkKd-cMOMj",
        "colab_type": "code",
        "colab": {}
      },
      "cell_type": "code",
      "source": [
        "w.data -= 1."
      ],
      "execution_count": 0,
      "outputs": []
    },
    {
      "metadata": {
        "id": "YVlaIdvHNXR_",
        "colab_type": "text"
      },
      "cell_type": "markdown",
      "source": [
        "Другое, что нужно помнить - градиенты в тензорах накапливаются. Между вызовами `loss.backward()` нужно обнулять градиенты у `w` и `b`:\n",
        "```python\n",
        "w.grad.zero_()\n",
        "b.grad.zero_()\n",
        "```\n",
        "\n",
        "**Задание** Реализовать линейную регрессию на pytorch."
      ]
    },
    {
      "metadata": {
        "id": "VRqxypuEU2ig",
        "colab_type": "code",
        "outputId": "b7fa8501-cbec-4a05-fe07-a08a38306c6d",
        "colab": {
          "base_uri": "https://localhost:8080/",
          "height": 283
        }
      },
      "cell_type": "code",
      "source": [
        "X = torch.as_tensor(X).float()\n",
        "y = torch.as_tensor(y).float()\n",
        "\n",
        "w = torch.randn(1, requires_grad=True)\n",
        "b = torch.randn(1, requires_grad=True)\n",
        "\n",
        "for i in range(100):\n",
        "#     <copy forward pass and add backward pass + parameters updates>\n",
        "    y_pred = w * X + b\n",
        "    loss = ((y - y_pred) ** 2).mean()\n",
        "    \n",
        "    loss.backward()\n",
        "    \n",
        "    w.data -= alpha * w.grad\n",
        "    b.data -= alpha * b.grad\n",
        "    \n",
        "    w.grad.zero_()\n",
        "    b.grad.zero_()\n",
        "    \n",
        "    \n",
        "    if (i + 1) % 5 == 0:\n",
        "        display_progress(i + 1, loss, w.item(), b.item(), \n",
        "                         X.data.numpy(), y.data.numpy(), y_pred.data.numpy())"
      ],
      "execution_count": 0,
      "outputs": [
        {
          "output_type": "stream",
          "text": [
            "Epoch = 100, Loss = 0.8427748680114746, w = 2.561131000518799, b = -0.22738531231880188\n"
          ],
          "name": "stdout"
        },
        {
          "output_type": "display_data",
          "data": {
            "image/png": "[encoded data removed]",
            "text/plain": [
              "<matplotlib.figure.Figure at 0x7fa67a7483c8>"
            ]
          },
          "metadata": {
            "tags": []
          }
        }
      ]
    },
    {
      "metadata": {
        "id": "KaKTKN_fOvo-",
        "colab_type": "text"
      },
      "cell_type": "markdown",
      "source": [
        "Думать нужно уже гораздо меньше, да? :)\n",
        "\n",
        "Про другие фишки низкоуровнего pytorch можно почитать здесь: [PyTorch — ваш новый фреймворк глубокого обучения](https://habr.com/post/334380/) (статья веселая, но немного устарела, читать лучше с оглядкой на [PyTorch 0.4.0 Migration Guide](https://pytorch.org/blog/pytorch-0_4_0-migration-guide/))"
      ]
    },
    {
      "metadata": {
        "id": "pZNq6ujzPtvd",
        "colab_type": "text"
      },
      "cell_type": "markdown",
      "source": [
        "## Word embeddings и высокоуровневый API PyTorch"
      ]
    },
    {
      "metadata": {
        "id": "ITLgcVz66AfV",
        "colab_type": "text"
      },
      "cell_type": "markdown",
      "source": [
        "Займёмся рассмотрением высокоуровневого API - в нем уже реализованы разные классы-запчасти для обучения нейронок.\n",
        "\n",
        "Будем решать всё ту же задачу, что и в прошлый раз - обучение словных эмбеддингов, только теперь мы будем учить их самостоятельно!\n",
        "\n",
        "Для начала нужно подготовить данные для обучения.\n",
        "\n",
        "Соберем и токенизируем тексты:"
      ]
    },
    {
      "metadata": {
        "id": "hKKb9Ya8hzIb",
        "colab_type": "code",
        "colab": {}
      },
      "cell_type": "code",
      "source": [
        "import pandas as pd\n",
        "from nltk.tokenize import word_tokenize\n",
        "\n",
        "quora_data = pd.read_csv('train.csv')\n",
        "\n",
        "quora_data.question1 = quora_data.question1.replace(np.nan, '', regex=True)\n",
        "quora_data.question2 = quora_data.question2.replace(np.nan, '', regex=True)\n",
        "\n",
        "texts = list(pd.concat([quora_data.question1, quora_data.question2]).unique())\n",
        "\n",
        "tokenized_texts = [word_tokenize(text.lower()) for text in texts]"
      ],
      "execution_count": 0,
      "outputs": []
    },
    {
      "metadata": {
        "id": "QYoj91iDDDfT",
        "colab_type": "text"
      },
      "cell_type": "markdown",
      "source": [
        "Соберем индекс самых частотных слов:"
      ]
    },
    {
      "metadata": {
        "id": "5PL471pGjuVN",
        "colab_type": "code",
        "outputId": "44563066-e573-47ae-c6e3-883010ddf2ed",
        "colab": {
          "base_uri": "https://localhost:8080/",
          "height": 87
        }
      },
      "cell_type": "code",
      "source": [
        "from collections import Counter\n",
        "\n",
        "MIN_COUNT = 5\n",
        "\n",
        "words_counter = Counter(token for tokens in tokenized_texts for token in tokens)\n",
        "word2index = {\n",
        "    '<unk>': 0\n",
        "}\n",
        "\n",
        "for word, count in words_counter.most_common():\n",
        "    if count < MIN_COUNT:\n",
        "        break\n",
        "        \n",
        "    word2index[word] = len(word2index)\n",
        "    \n",
        "index2word = [word for word, _ in sorted(word2index.items(), key=lambda x: x[1])]\n",
        "    \n",
        "print('Vocabulary size:', len(word2index))\n",
        "print('Tokens count:', sum(len(tokens) for tokens in tokenized_texts))\n",
        "print('Unknown tokens appeared:', sum(1 for tokens in tokenized_texts for token in tokens if token not in word2index))\n",
        "print('Most freq words:', index2word[1:21])"
      ],
      "execution_count": 0,
      "outputs": [
        {
          "output_type": "stream",
          "text": [
            "Vocabulary size: 28657\n",
            "Tokens count: 6969174\n",
            "Unknown tokens appeared: 123674\n",
            "Most freq words: ['?', 'the', 'what', 'is', 'a', 'i', 'to', 'in', 'how', 'of', 'do', 'are', 'and', 'for', ',', 'can', 'you', 'why', 'it', 'my']\n"
          ],
          "name": "stdout"
        }
      ]
    },
    {
      "metadata": {
        "id": "DF5mYpCsE9Uh",
        "colab_type": "text"
      },
      "cell_type": "markdown",
      "source": [
        "### Skip-Gram Word2vec"
      ]
    },
    {
      "metadata": {
        "id": "om1IG5XEMGRa",
        "colab_type": "text"
      },
      "cell_type": "markdown",
      "source": [
        "Начнем с skip-gram модели обучения word2vec.\n",
        "\n",
        "Это простая модель всего из двух слоев. Ее идея - учить вектора эмбеддингов такими, чтобы по ним можно было как можно лучше предсказать контекст соответствующих слов. То есть если мы хорошо научились кодировать слова, с которыми встречается данное - значит, мы что-то знаем и о нем самом. Например, естественным образом получится, что слова, встречающиеся в одинаковых контекстах (скажем, `apple` и `orange`)  будут иметь близкие вектора эмбеддингов.\n",
        "\n",
        "![](https://ask.qcloudimg.com/http-save/yehe-1565119/pv4604cabp.jpeg =600x)  \n",
        "*From cs224n, Lecture 2*\n",
        "\n",
        "Для этого мы моделируем вероятности $\\{P(w_{c+j}|w_c):  j = c-k, ..., c+k, j \\neq c\\}$, где $k$ - размер контекстного окна, $c$ - индекс центрального слова.\n",
        "\n",
        "Соберем такую модель: будем учить пару матриц $U$ - матрицу эмбеддингов, которую потом и возьмем для своих задач, и $V$ - матрицу выходного слоя.\n",
        "\n",
        "Каждому слову в словаре соответствует строка в матрице $U$ и столбец $V$.\n",
        "\n",
        "![skip-gram](https://image.ibb.co/khFXu9/Skip_gram.png =500x)\n",
        "\n",
        "Что тут происходит? Слово отображается в эмбеддинг - строку $u_c$. Дальше этот эмбеддинг умножается на матрицу $V$. \n",
        "\n",
        "В итоге получаем набор числе $v_j^T u_c$ - степень похожести слова с номером $j$ и нашего слова.\n",
        "\n",
        "Преобразуем эти числа в что-то вроде вероятностей - воспользуемся функцией softmax: $P(i) = \\frac{e^{x_i}}{\\sum_j e^{x_j}}$.\n",
        "\n",
        "А дальше будем считать кросс-энтропийные потери:\n",
        "\n",
        "$$-\\sum_{-k \\leq j \\leq k, j \\neq 0} \\log \\frac{\\exp(v_{c+j}^T u_c)}{\\sum_{i=1}^{|V|} \\exp(v_i^T u_c)} \\to \\min_{U, V}.$$\n",
        "\n",
        "В итоге, вектор $u_c$ будет приближаться к векторам $v_{c_j}$ из его контекста.\n",
        "\n",
        "Реализуем это всё, чтобы разобраться.\n",
        "\n",
        "#### Генерация батчей\n",
        "\n",
        "Для начала нужно собрать контексты."
      ]
    },
    {
      "metadata": {
        "id": "ocrsXgaynYPG",
        "colab_type": "code",
        "colab": {}
      },
      "cell_type": "code",
      "source": [
        "def build_contexts(tokenized_texts, window_size):\n",
        "    contexts = []\n",
        "    for tokens in tokenized_texts:\n",
        "        for i in range(len(tokens)):\n",
        "            central_word = tokens[i]\n",
        "            context = [tokens[i + delta] for delta in range(-window_size, window_size + 1) \n",
        "                       if delta != 0 and i + delta >= 0 and i + delta < len(tokens)]\n",
        "\n",
        "            contexts.append((central_word, context))\n",
        "            \n",
        "    return contexts"
      ],
      "execution_count": 0,
      "outputs": []
    },
    {
      "metadata": {
        "id": "AQBa6yQ9BXjp",
        "colab_type": "code",
        "colab": {}
      },
      "cell_type": "code",
      "source": [
        "contexts = build_contexts(tokenized_texts, window_size=2)"
      ],
      "execution_count": 0,
      "outputs": []
    },
    {
      "metadata": {
        "id": "KyQNK-9SBdb9",
        "colab_type": "code",
        "outputId": "e082bdc3-9e90-42cd-ed0a-4939684ad440",
        "colab": {
          "base_uri": "https://localhost:8080/",
          "height": 105
        }
      },
      "cell_type": "code",
      "source": [
        "contexts[:5]"
      ],
      "execution_count": 0,
      "outputs": [
        {
          "output_type": "execute_result",
          "data": {
            "text/plain": [
              "[('what', ['is', 'the']),\n",
              " ('is', ['what', 'the', 'step']),\n",
              " ('the', ['what', 'is', 'step', 'by']),\n",
              " ('step', ['is', 'the', 'by', 'step']),\n",
              " ('by', ['the', 'step', 'step', 'guide'])]"
            ]
          },
          "metadata": {
            "tags": []
          },
          "execution_count": 25
        }
      ]
    },
    {
      "metadata": {
        "id": "pbQKln_6yC4l",
        "colab_type": "text"
      },
      "cell_type": "markdown",
      "source": [
        "Преобразуем слова в индексы."
      ]
    },
    {
      "metadata": {
        "id": "hOPRlKlLvUBA",
        "colab_type": "code",
        "colab": {}
      },
      "cell_type": "code",
      "source": [
        "contexts = [(word2index.get(central_word, 0), [word2index.get(word, 0) for word in context]) \n",
        "            for central_word, context in contexts]"
      ],
      "execution_count": 0,
      "outputs": []
    },
    {
      "metadata": {
        "id": "GYmrAi9gyIe-",
        "colab_type": "text"
      },
      "cell_type": "markdown",
      "source": [
        "Реализуем генератор батчей для нашей нейронки:"
      ]
    },
    {
      "metadata": {
        "id": "6opX5cEp8LxC",
        "colab_type": "code",
        "colab": {}
      },
      "cell_type": "code",
      "source": [
        "import random\n",
        "\n",
        "def make_skip_gram_batchs_iter(contexts, window_size, num_skips, batch_size):\n",
        "    assert batch_size % num_skips == 0\n",
        "    assert num_skips <= 2 * window_size\n",
        "    \n",
        "    central_words = [word for word, context in contexts if len(context) == 2 * window_size and word != 0]\n",
        "    contexts = [context for word, context in contexts if len(context) == 2 * window_size and word != 0]\n",
        "    \n",
        "    batch_size = int(batch_size / num_skips)\n",
        "    batchs_count = int(math.ceil(len(contexts) / batch_size))\n",
        "    \n",
        "    print('Initializing batchs generator with {} batchs per epoch'.format(batchs_count))\n",
        "    \n",
        "    while True:\n",
        "        indices = np.arange(len(contexts))\n",
        "        np.random.shuffle(indices)\n",
        "\n",
        "        for i in range(batchs_count):\n",
        "            batch_begin, batch_end = i * batch_size, min((i + 1) * batch_size, len(contexts))\n",
        "            batch_indices = indices[batch_begin: batch_end]\n",
        "\n",
        "            batch_data, batch_labels = [], []\n",
        "\n",
        "            for data_ind in batch_indices:\n",
        "                central_word, context = central_words[data_ind], contexts[data_ind]\n",
        "                \n",
        "                words_to_use = random.sample(context, num_skips)\n",
        "                batch_labels.extend(words_to_use)\n",
        "                batch_data.extend([central_word] * num_skips)\n",
        "            \n",
        "            yield batch_data, batch_labels"
      ],
      "execution_count": 0,
      "outputs": []
    },
    {
      "metadata": {
        "id": "g0D79MwB_gMe",
        "colab_type": "code",
        "outputId": "71d4d60b-90d3-47f2-ba56-8302ff683703",
        "colab": {
          "base_uri": "https://localhost:8080/",
          "height": 35
        }
      },
      "cell_type": "code",
      "source": [
        "batch, labels = next(make_skip_gram_batchs_iter(contexts, window_size=2, num_skips=2, batch_size=32))"
      ],
      "execution_count": 0,
      "outputs": [
        {
          "output_type": "stream",
          "text": [
            "Initializing batchs generator with 295210 batchs per epoch\n"
          ],
          "name": "stdout"
        }
      ]
    },
    {
      "metadata": {
        "id": "6DXjZS3JyQZh",
        "colab_type": "text"
      },
      "cell_type": "markdown",
      "source": [
        "#### nn.Sequential\n",
        "\n",
        "Простейший способ реализовать модель на PyTorch - использовать модуль `nn.Sequential`. В нем нужно просто перечислить все слои, и он будет применять их последовательно."
      ]
    },
    {
      "metadata": {
        "id": "WRw9Z4G__46O",
        "colab_type": "code",
        "colab": {}
      },
      "cell_type": "code",
      "source": [
        "model = nn.Sequential(\n",
        "    nn.Embedding(len(word2index), 32),\n",
        "    nn.Linear(32, len(word2index))\n",
        ")"
      ],
      "execution_count": 0,
      "outputs": []
    },
    {
      "metadata": {
        "id": "Ysn0DDpLyj1S",
        "colab_type": "text"
      },
      "cell_type": "markdown",
      "source": [
        "Еще одна особенность pytorch, о которой до сих пор не говорили - поддержка вычислений на видеокарте. На видеокарте большинство нейронок считается гораздо быстрее благодаря высокой параллелизации. Сказать pytorch'у, чтобы он считал на видеокарте, очень просто:"
      ]
    },
    {
      "metadata": {
        "id": "EfmaUi3Uy9YT",
        "colab_type": "code",
        "outputId": "b01ebd12-8917-4041-ab51-1b91491e23f0",
        "colab": {
          "base_uri": "https://localhost:8080/",
          "height": 87
        }
      },
      "cell_type": "code",
      "source": [
        "model.cuda()"
      ],
      "execution_count": 0,
      "outputs": [
        {
          "output_type": "execute_result",
          "data": {
            "text/plain": [
              "Sequential(\n",
              "  (0): Embedding(28657, 32)\n",
              "  (1): Linear(in_features=32, out_features=28657, bias=True)\n",
              ")"
            ]
          },
          "metadata": {
            "tags": []
          },
          "execution_count": 10
        }
      ]
    },
    {
      "metadata": {
        "id": "a3c3UEa2zHhk",
        "colab_type": "text"
      },
      "cell_type": "markdown",
      "source": [
        "либо"
      ]
    },
    {
      "metadata": {
        "id": "OHxAg5ZWzEKT",
        "colab_type": "code",
        "colab": {}
      },
      "cell_type": "code",
      "source": [
        "device = torch.device(\"cuda\")\n",
        "\n",
        "model = model.to(device)"
      ],
      "execution_count": 0,
      "outputs": []
    },
    {
      "metadata": {
        "id": "pHi1CL2pzxOg",
        "colab_type": "text"
      },
      "cell_type": "markdown",
      "source": [
        "Создать тензоры на видеокарте можно, например, так:"
      ]
    },
    {
      "metadata": {
        "id": "Ycx1O3_SzvmC",
        "colab_type": "code",
        "colab": {}
      },
      "cell_type": "code",
      "source": [
        "batch = torch.cuda.LongTensor(batch)\n",
        "labels = torch.cuda.LongTensor(labels)"
      ],
      "execution_count": 0,
      "outputs": []
    },
    {
      "metadata": {
        "id": "YtLMvOO2z3c8",
        "colab_type": "text"
      },
      "cell_type": "markdown",
      "source": [
        "Заставить модель посчитать значение можно так:"
      ]
    },
    {
      "metadata": {
        "id": "N9wTpewTz3Dk",
        "colab_type": "code",
        "colab": {}
      },
      "cell_type": "code",
      "source": [
        "logits = model(batch)"
      ],
      "execution_count": 0,
      "outputs": []
    },
    {
      "metadata": {
        "id": "dWJmDy_uzJgD",
        "colab_type": "text"
      },
      "cell_type": "markdown",
      "source": [
        "Теперь нам нужна функция потерь"
      ]
    },
    {
      "metadata": {
        "id": "h7rlD62_ykYl",
        "colab_type": "code",
        "colab": {}
      },
      "cell_type": "code",
      "source": [
        "loss_function = nn.CrossEntropyLoss().cuda() "
      ],
      "execution_count": 0,
      "outputs": []
    },
    {
      "metadata": {
        "id": "OxLBiBua0OZM",
        "colab_type": "text"
      },
      "cell_type": "markdown",
      "source": [
        "Посчитать значение можно так:"
      ]
    },
    {
      "metadata": {
        "id": "fCaTB5cc0GVw",
        "colab_type": "code",
        "colab": {}
      },
      "cell_type": "code",
      "source": [
        "loss = loss_function(logits, labels)"
      ],
      "execution_count": 0,
      "outputs": []
    },
    {
      "metadata": {
        "id": "gAwx-pck0RxX",
        "colab_type": "text"
      },
      "cell_type": "markdown",
      "source": [
        "А теперь, конечно же, backprop!"
      ]
    },
    {
      "metadata": {
        "id": "JWt6gL0_0Npp",
        "colab_type": "code",
        "colab": {}
      },
      "cell_type": "code",
      "source": [
        "loss.backward()"
      ],
      "execution_count": 0,
      "outputs": []
    },
    {
      "metadata": {
        "id": "ZJkDOl6szRLm",
        "colab_type": "text"
      },
      "cell_type": "markdown",
      "source": [
        "И, наконец, оптимизатор.\n",
        "\n",
        "Будем использовать Adam. Интерфейс - передать список оптимизируемых параметров и learning rate."
      ]
    },
    {
      "metadata": {
        "id": "5-b5CIARzQ6m",
        "colab_type": "code",
        "colab": {}
      },
      "cell_type": "code",
      "source": [
        "optimizer = optim.Adam(model.parameters(), lr=0.01) "
      ],
      "execution_count": 0,
      "outputs": []
    },
    {
      "metadata": {
        "id": "ju5lO0Xi0hsV",
        "colab_type": "text"
      },
      "cell_type": "markdown",
      "source": [
        "Оптимизация идет просто - нужно вызвать `step()`:"
      ]
    },
    {
      "metadata": {
        "id": "_9QK7nHu0Zw8",
        "colab_type": "code",
        "colab": {}
      },
      "cell_type": "code",
      "source": [
        "print(model[1].weight)\n",
        "\n",
        "optimizer.step()\n",
        "\n",
        "print(model[1].weight)"
      ],
      "execution_count": 0,
      "outputs": []
    },
    {
      "metadata": {
        "id": "Hnxyk1ew0pSk",
        "colab_type": "text"
      },
      "cell_type": "markdown",
      "source": [
        "И последнее - нужно обнулить градиенты!"
      ]
    },
    {
      "metadata": {
        "id": "uMsuvEP90svi",
        "colab_type": "code",
        "colab": {}
      },
      "cell_type": "code",
      "source": [
        "optimizer.zero_grad()"
      ],
      "execution_count": 0,
      "outputs": []
    },
    {
      "metadata": {
        "id": "PibTw33Azg7q",
        "colab_type": "text"
      },
      "cell_type": "markdown",
      "source": [
        "#### Реализация обучения skip-gram модели\n",
        "\n",
        "Наконец, напишем цикл обучения - как уже было с линейной регрессией.\n",
        "\n",
        " **Задание** Заполните цикл."
      ]
    },
    {
      "metadata": {
        "id": "ewGMgYTXANzz",
        "colab_type": "code",
        "outputId": "7b4bf767-43d1-4c64-9e81-753261cb9440",
        "colab": {
          "base_uri": "https://localhost:8080/",
          "height": 1047
        }
      },
      "cell_type": "code",
      "source": [
        "loss_every_nsteps = 1000\n",
        "total_loss = 0\n",
        "start_time = time.time()\n",
        "\n",
        "loss_function = nn.CrossEntropyLoss().cuda() \n",
        "optimizer = optim.Adam(model.parameters(), lr=0.01) \n",
        "\n",
        "for step, (batch, labels) in enumerate(make_skip_gram_batchs_iter(contexts, window_size=2, num_skips=4, batch_size=128)):\n",
        "#     <1. convert data to tensors>\n",
        "    batch = torch.cuda.LongTensor(batch)\n",
        "    labels = torch.cuda.LongTensor(labels)\n",
        "    \n",
        "#     <2. make forward pass>\n",
        "    logits = model(batch)\n",
        "    loss = loss_function(logits, labels)\n",
        "\n",
        "#     <3. make backward pass>\n",
        "    loss.backward()\n",
        "\n",
        "#     <4. apply optimizer>\n",
        "    optimizer.step()\n",
        "    \n",
        "#     <5. zero grads>\n",
        "    optimizer.zero_grad()\n",
        "\n",
        "    total_loss += loss.item()\n",
        "    \n",
        "    if step != 0 and step % loss_every_nsteps == 0:\n",
        "        print(\"Step = {}, Avg Loss = {:.4f}, Time = {:.2f}s\".format(step, total_loss / loss_every_nsteps, \n",
        "                                                                    time.time() - start_time))\n",
        "        total_loss = 0\n",
        "        start_time = time.time()"
      ],
      "execution_count": 0,
      "outputs": [
        {
          "output_type": "stream",
          "text": [
            "Initializing batchs generator with 147605 batchs per epoch\n",
            "Step = 1000, Avg Loss = 7.4606, Time = 7.45s\n",
            "Step = 2000, Avg Loss = 6.8584, Time = 4.75s\n",
            "Step = 3000, Avg Loss = 6.7468, Time = 4.74s\n",
            "Step = 4000, Avg Loss = 6.7111, Time = 4.75s\n",
            "Step = 5000, Avg Loss = 6.6752, Time = 4.77s\n",
            "Step = 6000, Avg Loss = 6.6485, Time = 5.20s\n",
            "Step = 7000, Avg Loss = 6.6407, Time = 4.81s\n",
            "Step = 8000, Avg Loss = 6.6122, Time = 4.78s\n",
            "Step = 9000, Avg Loss = 6.5977, Time = 4.87s\n",
            "Step = 10000, Avg Loss = 6.6008, Time = 4.75s\n",
            "Step = 11000, Avg Loss = 6.5922, Time = 4.76s\n",
            "Step = 12000, Avg Loss = 6.5826, Time = 4.76s\n",
            "Step = 13000, Avg Loss = 6.5811, Time = 4.76s\n",
            "Step = 14000, Avg Loss = 6.5657, Time = 4.75s\n",
            "Step = 15000, Avg Loss = 6.5698, Time = 4.79s\n",
            "Step = 16000, Avg Loss = 6.5751, Time = 4.77s\n",
            "Step = 17000, Avg Loss = 6.5581, Time = 4.78s\n",
            "Step = 18000, Avg Loss = 6.5575, Time = 4.79s\n",
            "Step = 19000, Avg Loss = 6.5399, Time = 4.80s\n",
            "Step = 20000, Avg Loss = 6.5447, Time = 4.76s\n",
            "Step = 21000, Avg Loss = 6.5282, Time = 4.77s\n",
            "Step = 22000, Avg Loss = 6.5356, Time = 4.76s\n",
            "Step = 23000, Avg Loss = 6.5394, Time = 4.75s\n",
            "Step = 24000, Avg Loss = 6.5463, Time = 4.77s\n",
            "Step = 25000, Avg Loss = 6.5096, Time = 4.75s\n",
            "Step = 26000, Avg Loss = 6.5389, Time = 4.77s\n",
            "Step = 27000, Avg Loss = 6.5439, Time = 4.76s\n",
            "Step = 28000, Avg Loss = 6.5003, Time = 4.76s\n",
            "Step = 29000, Avg Loss = 6.5243, Time = 4.75s\n",
            "Step = 30000, Avg Loss = 6.5281, Time = 4.76s\n",
            "Step = 31000, Avg Loss = 6.5190, Time = 4.77s\n",
            "Step = 32000, Avg Loss = 6.5212, Time = 4.75s\n",
            "Step = 33000, Avg Loss = 6.5154, Time = 4.76s\n",
            "Step = 34000, Avg Loss = 6.5014, Time = 4.78s\n",
            "Step = 35000, Avg Loss = 6.5056, Time = 4.76s\n",
            "Step = 36000, Avg Loss = 6.5211, Time = 4.76s\n",
            "Step = 37000, Avg Loss = 6.5015, Time = 4.76s\n",
            "Step = 38000, Avg Loss = 6.5231, Time = 4.78s\n"
          ],
          "name": "stdout"
        },
        {
          "output_type": "error",
          "ename": "KeyboardInterrupt",
          "evalue": "ignored",
          "traceback": [
            "\u001b[0;31m---------------------------------------------------------------------------\u001b[0m",
            "\u001b[0;31mKeyboardInterrupt\u001b[0m                         Traceback (most recent call last)",
            "\u001b[0;32m<ipython-input-11-0bcc153e25a8>\u001b[0m in \u001b[0;36m<module>\u001b[0;34m()\u001b[0m\n\u001b[1;32m     21\u001b[0m \u001b[0;31m#     optimizer = optim.Adam(model.parameters(), lr=0.01)\u001b[0m\u001b[0;34m\u001b[0m\u001b[0;34m\u001b[0m\u001b[0m\n\u001b[1;32m     22\u001b[0m \u001b[0;31m#     print(model[1].weight)\u001b[0m\u001b[0;34m\u001b[0m\u001b[0;34m\u001b[0m\u001b[0m\n\u001b[0;32m---> 23\u001b[0;31m     \u001b[0moptimizer\u001b[0m\u001b[0;34m.\u001b[0m\u001b[0mstep\u001b[0m\u001b[0;34m(\u001b[0m\u001b[0;34m)\u001b[0m\u001b[0;34m\u001b[0m\u001b[0m\n\u001b[0m\u001b[1;32m     24\u001b[0m \u001b[0;31m#     print(model[1].weight)\u001b[0m\u001b[0;34m\u001b[0m\u001b[0;34m\u001b[0m\u001b[0m\n\u001b[1;32m     25\u001b[0m \u001b[0;34m\u001b[0m\u001b[0m\n",
            "\u001b[0;32m/usr/local/lib/python3.6/dist-packages/torch/optim/adam.py\u001b[0m in \u001b[0;36mstep\u001b[0;34m(self, closure)\u001b[0m\n\u001b[1;32m    104\u001b[0m                 \u001b[0mstep_size\u001b[0m \u001b[0;34m=\u001b[0m \u001b[0mgroup\u001b[0m\u001b[0;34m[\u001b[0m\u001b[0;34m'lr'\u001b[0m\u001b[0;34m]\u001b[0m \u001b[0;34m*\u001b[0m \u001b[0mmath\u001b[0m\u001b[0;34m.\u001b[0m\u001b[0msqrt\u001b[0m\u001b[0;34m(\u001b[0m\u001b[0mbias_correction2\u001b[0m\u001b[0;34m)\u001b[0m \u001b[0;34m/\u001b[0m \u001b[0mbias_correction1\u001b[0m\u001b[0;34m\u001b[0m\u001b[0m\n\u001b[1;32m    105\u001b[0m \u001b[0;34m\u001b[0m\u001b[0m\n\u001b[0;32m--> 106\u001b[0;31m                 \u001b[0mp\u001b[0m\u001b[0;34m.\u001b[0m\u001b[0mdata\u001b[0m\u001b[0;34m.\u001b[0m\u001b[0maddcdiv_\u001b[0m\u001b[0;34m(\u001b[0m\u001b[0;34m-\u001b[0m\u001b[0mstep_size\u001b[0m\u001b[0;34m,\u001b[0m \u001b[0mexp_avg\u001b[0m\u001b[0;34m,\u001b[0m \u001b[0mdenom\u001b[0m\u001b[0;34m)\u001b[0m\u001b[0;34m\u001b[0m\u001b[0m\n\u001b[0m\u001b[1;32m    107\u001b[0m \u001b[0;34m\u001b[0m\u001b[0m\n\u001b[1;32m    108\u001b[0m         \u001b[0;32mreturn\u001b[0m \u001b[0mloss\u001b[0m\u001b[0;34m\u001b[0m\u001b[0m\n",
            "\u001b[0;31mKeyboardInterrupt\u001b[0m: "
          ]
        }
      ]
    },
    {
      "metadata": {
        "id": "Pqq9kee41L4P",
        "colab_type": "text"
      },
      "cell_type": "markdown",
      "source": [
        "#### Анализ\n",
        "\n",
        "Получить эмбеддинги можно, скаставав такое заклинание:"
      ]
    },
    {
      "metadata": {
        "id": "uWsYkNn-Hnl_",
        "colab_type": "code",
        "colab": {}
      },
      "cell_type": "code",
      "source": [
        "embeddings = model[0].weight.cpu().data.numpy()"
      ],
      "execution_count": 0,
      "outputs": []
    },
    {
      "metadata": {
        "id": "EZtxY2D01RB6",
        "colab_type": "text"
      },
      "cell_type": "markdown",
      "source": [
        "Проверим, получилось ли хоть сколько-то адекватно."
      ]
    },
    {
      "metadata": {
        "id": "bhDwuhDSHEDm",
        "colab_type": "code",
        "outputId": "e0a2e6bd-892f-4d83-a6ca-73f80f66aeaa",
        "colab": {
          "base_uri": "https://localhost:8080/",
          "height": 193
        }
      },
      "cell_type": "code",
      "source": [
        "from sklearn.metrics.pairwise import cosine_similarity\n",
        "\n",
        "def most_similar(embeddings, index2word, word2index, word):\n",
        "    word_emb = embeddings[word2index[word]]\n",
        "    \n",
        "    similarities = cosine_similarity([word_emb], embeddings)[0]\n",
        "    top10 = np.argsort(similarities)[-10:]\n",
        "    \n",
        "    return [index2word[index] for index in reversed(top10)]\n",
        "\n",
        "most_similar(embeddings, index2word, word2index, 'warm')"
      ],
      "execution_count": 0,
      "outputs": [
        {
          "output_type": "execute_result",
          "data": {
            "text/plain": [
              "['warm',\n",
              " 'tap',\n",
              " 'hear',\n",
              " '1000s',\n",
              " 'broke',\n",
              " 'wipe',\n",
              " 'throw',\n",
              " 'wake',\n",
              " 'polka',\n",
              " 'loud']"
            ]
          },
          "metadata": {
            "tags": []
          },
          "execution_count": 13
        }
      ]
    },
    {
      "metadata": {
        "id": "0VS1x-mO1WKS",
        "colab_type": "text"
      },
      "cell_type": "markdown",
      "source": [
        "И визуализируем!"
      ]
    },
    {
      "metadata": {
        "id": "yuXv2HxsAecb",
        "colab_type": "code",
        "colab": {}
      },
      "cell_type": "code",
      "source": [
        "import bokeh.models as bm, bokeh.plotting as pl\n",
        "from bokeh.io import output_notebook\n",
        "\n",
        "from sklearn.manifold import TSNE\n",
        "from sklearn.preprocessing import scale\n",
        "\n",
        "\n",
        "def draw_vectors(x, y, radius=10, alpha=0.25, color='blue',\n",
        "                 width=600, height=400, show=True, **kwargs):\n",
        "    \"\"\" draws an interactive plot for data points with auxilirary info on hover \"\"\"\n",
        "    output_notebook()\n",
        "    \n",
        "    if isinstance(color, str): \n",
        "        color = [color] * len(x)\n",
        "    data_source = bm.ColumnDataSource({ 'x' : x, 'y' : y, 'color': color, **kwargs })\n",
        "\n",
        "    fig = pl.figure(active_scroll='wheel_zoom', width=width, height=height)\n",
        "    fig.scatter('x', 'y', size=radius, color='color', alpha=alpha, source=data_source)\n",
        "\n",
        "    fig.add_tools(bm.HoverTool(tooltips=[(key, \"@\" + key) for key in kwargs.keys()]))\n",
        "    if show: \n",
        "        pl.show(fig)\n",
        "    return fig\n",
        "\n",
        "\n",
        "def get_tsne_projection(word_vectors):\n",
        "    tsne = TSNE(n_components=2, verbose=100)\n",
        "    return scale(tsne.fit_transform(word_vectors))\n",
        "    \n",
        "    \n",
        "def visualize_embeddings(embeddings, index2word, word_count):\n",
        "    word_vectors = embeddings[1: word_count + 1]\n",
        "    words = index2word[1: word_count + 1]\n",
        "    \n",
        "    word_tsne = get_tsne_projection(word_vectors)\n",
        "    draw_vectors(word_tsne[:, 0], word_tsne[:, 1], color='green', token=words)\n",
        "    \n",
        "    \n",
        "# visualize_embeddings(embeddings, index2word, 1000)"
      ],
      "execution_count": 0,
      "outputs": []
    },
    {
      "metadata": {
        "id": "XGfhLR6x8D3r",
        "colab_type": "text"
      },
      "cell_type": "markdown",
      "source": [
        "### Continuous Bag of Words (CBoW)"
      ]
    },
    {
      "metadata": {
        "id": "3UuVr2IsaYhX",
        "colab_type": "text"
      },
      "cell_type": "markdown",
      "source": [
        "Альтернативный вариант модели:\n",
        "\n",
        "![](https://image.ibb.co/jnsW49/CBOW.png =500x)\n",
        "\n",
        "Теперь по *сумме* контекстных векторов предсказывается вектор центрального слова.\n",
        "\n",
        "**Задание** Реализуйте часть функции для генерации батчей."
      ]
    },
    {
      "metadata": {
        "id": "NP5VmnnjtsXn",
        "colab_type": "code",
        "colab": {}
      },
      "cell_type": "code",
      "source": [
        "import random\n",
        "\n",
        "def make_cbow_batchs_iter(contexts, window_size, batch_size):\n",
        "    data = np.array([context for word, context in contexts if len(context) == 2 * window_size and word != 0])\n",
        "    labels = np.array([word for word, context in contexts if len(context) == 2 * window_size and word != 0])\n",
        "        \n",
        "    batchs_count = int(math.ceil(len(data) / batch_size))\n",
        "    \n",
        "    print('Initializing batchs generator with {} batchs per epoch'.format(batchs_count))\n",
        "    \n",
        "    while True:\n",
        "        indices = np.arange(len(data))\n",
        "        np.random.shuffle(indices)\n",
        "\n",
        "        for i in range(batchs_count):\n",
        "            batch_begin, batch_end = i * batch_size, min((i + 1) * batch_size, len(data))\n",
        "            batch_indices = indices[batch_begin: batch_end]\n",
        "\n",
        "            batch_data, batch_labels = [], []\n",
        "\n",
        "            for data_ind in batch_indices:\n",
        "                context, label = data[data_ind], labels[data_ind]\n",
        "                batch_data.append(context)\n",
        "                batch_labels.append(label)\n",
        "            \n",
        "            yield batch_data, batch_labels"
      ],
      "execution_count": 0,
      "outputs": []
    },
    {
      "metadata": {
        "id": "S9HkY-VO61n3",
        "colab_type": "text"
      },
      "cell_type": "markdown",
      "source": [
        "Посмотрим на альтернативный вариант создания модели - им мы будем пользоваться чаще всего - отнаследоваться от `nn.Module`. Схематично её использование выглядит так:\n",
        "\n",
        "```python\n",
        "class MyNetModel(nn.Module):\n",
        "    def __init__(self, *args, **kwargs):\n",
        "        super(MyNetModel, self).__init__()\n",
        "        <initialize layers>\n",
        "        \n",
        "    def forward(self, inputs):\n",
        "        <apply layers>\n",
        "        return final_output\n",
        "```\n",
        "\n"
      ]
    },
    {
      "metadata": {
        "id": "8mHKLbMwx4c5",
        "colab_type": "code",
        "colab": {}
      },
      "cell_type": "code",
      "source": [
        "class CBoWModel(nn.Module):\n",
        "    def __init__(self, vocab_size, embedding_dim):\n",
        "        super().__init__()\n",
        "        \n",
        "        self.embeddings = nn.Embedding(vocab_size, embedding_dim)\n",
        "        self.out_layer = nn.Linear(embedding_dim, vocab_size)\n",
        "\n",
        "    def forward(self, inputs):\n",
        "        u = self.embeddings(inputs)  # (batch_size, cont_size, emb_size)\n",
        "        u_sum = torch.sum(u, dim=1)  # (batch_size, emb_size)\n",
        "        return self.out_layer(u_sum)\n",
        "      \n",
        "model = CBoWModel(vocab_size=len(word2index), embedding_dim=32).cuda()\n",
        "\n",
        "loss_function = nn.CrossEntropyLoss().cuda()\n",
        "optimizer = optim.Adam(model.parameters(), lr=0.01)"
      ],
      "execution_count": 0,
      "outputs": []
    },
    {
      "metadata": {
        "id": "xiIgaofEyyJ1",
        "colab_type": "code",
        "outputId": "c29b338b-0c8d-432b-8106-82ed90502d0b",
        "colab": {
          "base_uri": "https://localhost:8080/",
          "height": 907
        }
      },
      "cell_type": "code",
      "source": [
        "loss_every_nsteps = 1000\n",
        "total_loss = 0\n",
        "start_time = time.time()\n",
        "\n",
        "for step, (batch, labels) in enumerate(make_cbow_batchs_iter(contexts, window_size=2, batch_size=128)):\n",
        "    batch = torch.cuda.LongTensor(batch)\n",
        "    labels = torch.cuda.LongTensor(labels)\n",
        "    \n",
        "    logits = model.forward(batch)\n",
        "    loss = loss_function(logits, labels)\n",
        "    \n",
        "    loss.backward()\n",
        "    optimizer.step()\n",
        "    optimizer.zero_grad()\n",
        "\n",
        "    total_loss += loss.item()\n",
        "    \n",
        "    if step != 0 and step % loss_every_nsteps == 0:\n",
        "        print(\"Step = {}, Avg Loss = {:.4f}, Time = {:.2f}s\".format(step, total_loss / loss_every_nsteps, \n",
        "                                                                    time.time() - start_time))\n",
        "        total_loss = 0\n",
        "        start_time = time.time()"
      ],
      "execution_count": 0,
      "outputs": [
        {
          "output_type": "stream",
          "text": [
            "Initializing batchs generator with 36902 batchs per epoch\n",
            "Step = 1000, Avg Loss = 6.9463, Time = 11.03s\n",
            "Step = 2000, Avg Loss = 6.2923, Time = 4.86s\n",
            "Step = 3000, Avg Loss = 6.0273, Time = 4.88s\n",
            "Step = 4000, Avg Loss = 5.8922, Time = 4.87s\n",
            "Step = 5000, Avg Loss = 5.7964, Time = 4.88s\n",
            "Step = 6000, Avg Loss = 5.7030, Time = 4.88s\n",
            "Step = 7000, Avg Loss = 5.6520, Time = 4.87s\n",
            "Step = 8000, Avg Loss = 5.6172, Time = 4.87s\n",
            "Step = 9000, Avg Loss = 5.5593, Time = 4.88s\n",
            "Step = 10000, Avg Loss = 5.5492, Time = 4.87s\n",
            "Step = 11000, Avg Loss = 5.5198, Time = 4.86s\n",
            "Step = 12000, Avg Loss = 5.5092, Time = 4.87s\n",
            "Step = 13000, Avg Loss = 5.4830, Time = 4.86s\n",
            "Step = 14000, Avg Loss = 5.4779, Time = 4.91s\n",
            "Step = 15000, Avg Loss = 5.4517, Time = 4.87s\n",
            "Step = 16000, Avg Loss = 5.4528, Time = 4.91s\n",
            "Step = 17000, Avg Loss = 5.4570, Time = 4.88s\n",
            "Step = 18000, Avg Loss = 5.4197, Time = 4.88s\n",
            "Step = 19000, Avg Loss = 5.4311, Time = 4.87s\n",
            "Step = 20000, Avg Loss = 5.4002, Time = 4.86s\n",
            "Step = 21000, Avg Loss = 5.4168, Time = 4.87s\n",
            "Step = 22000, Avg Loss = 5.4123, Time = 4.87s\n",
            "Step = 23000, Avg Loss = 5.3990, Time = 4.87s\n"
          ],
          "name": "stdout"
        },
        {
          "output_type": "error",
          "ename": "KeyboardInterrupt",
          "evalue": "ignored",
          "traceback": [
            "\u001b[0;31m---------------------------------------------------------------------------\u001b[0m",
            "\u001b[0;31mKeyboardInterrupt\u001b[0m                         Traceback (most recent call last)",
            "\u001b[0;32m<ipython-input-51-3e3b074fd0a1>\u001b[0m in \u001b[0;36m<module>\u001b[0;34m()\u001b[0m\n\u001b[1;32m     10\u001b[0m     \u001b[0mloss\u001b[0m \u001b[0;34m=\u001b[0m \u001b[0mloss_function\u001b[0m\u001b[0;34m(\u001b[0m\u001b[0mlogits\u001b[0m\u001b[0;34m,\u001b[0m \u001b[0mlabels\u001b[0m\u001b[0;34m)\u001b[0m\u001b[0;34m\u001b[0m\u001b[0m\n\u001b[1;32m     11\u001b[0m \u001b[0;34m\u001b[0m\u001b[0m\n\u001b[0;32m---> 12\u001b[0;31m     \u001b[0mloss\u001b[0m\u001b[0;34m.\u001b[0m\u001b[0mbackward\u001b[0m\u001b[0;34m(\u001b[0m\u001b[0;34m)\u001b[0m\u001b[0;34m\u001b[0m\u001b[0m\n\u001b[0m\u001b[1;32m     13\u001b[0m     \u001b[0moptimizer\u001b[0m\u001b[0;34m.\u001b[0m\u001b[0mstep\u001b[0m\u001b[0;34m(\u001b[0m\u001b[0;34m)\u001b[0m\u001b[0;34m\u001b[0m\u001b[0m\n\u001b[1;32m     14\u001b[0m     \u001b[0moptimizer\u001b[0m\u001b[0;34m.\u001b[0m\u001b[0mzero_grad\u001b[0m\u001b[0;34m(\u001b[0m\u001b[0;34m)\u001b[0m\u001b[0;34m\u001b[0m\u001b[0m\n",
            "\u001b[0;32m/usr/local/lib/python3.6/dist-packages/torch/tensor.py\u001b[0m in \u001b[0;36mbackward\u001b[0;34m(self, gradient, retain_graph, create_graph)\u001b[0m\n\u001b[1;32m     91\u001b[0m                 \u001b[0mproducts\u001b[0m\u001b[0;34m.\u001b[0m \u001b[0mDefaults\u001b[0m \u001b[0mto\u001b[0m\u001b[0;31m \u001b[0m\u001b[0;31m`\u001b[0m\u001b[0;31m`\u001b[0m\u001b[0;32mFalse\u001b[0m\u001b[0;31m`\u001b[0m\u001b[0;31m`\u001b[0m\u001b[0;34m.\u001b[0m\u001b[0;34m\u001b[0m\u001b[0m\n\u001b[1;32m     92\u001b[0m         \"\"\"\n\u001b[0;32m---> 93\u001b[0;31m         \u001b[0mtorch\u001b[0m\u001b[0;34m.\u001b[0m\u001b[0mautograd\u001b[0m\u001b[0;34m.\u001b[0m\u001b[0mbackward\u001b[0m\u001b[0;34m(\u001b[0m\u001b[0mself\u001b[0m\u001b[0;34m,\u001b[0m \u001b[0mgradient\u001b[0m\u001b[0;34m,\u001b[0m \u001b[0mretain_graph\u001b[0m\u001b[0;34m,\u001b[0m \u001b[0mcreate_graph\u001b[0m\u001b[0;34m)\u001b[0m\u001b[0;34m\u001b[0m\u001b[0m\n\u001b[0m\u001b[1;32m     94\u001b[0m \u001b[0;34m\u001b[0m\u001b[0m\n\u001b[1;32m     95\u001b[0m     \u001b[0;32mdef\u001b[0m \u001b[0mregister_hook\u001b[0m\u001b[0;34m(\u001b[0m\u001b[0mself\u001b[0m\u001b[0;34m,\u001b[0m \u001b[0mhook\u001b[0m\u001b[0;34m)\u001b[0m\u001b[0;34m:\u001b[0m\u001b[0;34m\u001b[0m\u001b[0m\n",
            "\u001b[0;32m/usr/local/lib/python3.6/dist-packages/torch/autograd/__init__.py\u001b[0m in \u001b[0;36mbackward\u001b[0;34m(tensors, grad_tensors, retain_graph, create_graph, grad_variables)\u001b[0m\n\u001b[1;32m     88\u001b[0m     Variable._execution_engine.run_backward(\n\u001b[1;32m     89\u001b[0m         \u001b[0mtensors\u001b[0m\u001b[0;34m,\u001b[0m \u001b[0mgrad_tensors\u001b[0m\u001b[0;34m,\u001b[0m \u001b[0mretain_graph\u001b[0m\u001b[0;34m,\u001b[0m \u001b[0mcreate_graph\u001b[0m\u001b[0;34m,\u001b[0m\u001b[0;34m\u001b[0m\u001b[0m\n\u001b[0;32m---> 90\u001b[0;31m         allow_unreachable=True)  # allow_unreachable flag\n\u001b[0m\u001b[1;32m     91\u001b[0m \u001b[0;34m\u001b[0m\u001b[0m\n\u001b[1;32m     92\u001b[0m \u001b[0;34m\u001b[0m\u001b[0m\n",
            "\u001b[0;31mKeyboardInterrupt\u001b[0m: "
          ]
        }
      ]
    },
    {
      "metadata": {
        "id": "fTEWcyYmvips",
        "colab_type": "code",
        "outputId": "fb851be6-8ed8-4574-9f59-219378dccdd3",
        "colab": {
          "base_uri": "https://localhost:8080/",
          "height": 1030
        }
      },
      "cell_type": "code",
      "source": [
        "visualize_embeddings(model.embeddings.weight.data.cpu().numpy(), index2word, 1000)"
      ],
      "execution_count": 0,
      "outputs": [
        {
          "output_type": "stream",
          "text": [
            "[t-SNE] Computing 91 nearest neighbors...\n",
            "[t-SNE] Indexed 1000 samples in 0.002s...\n",
            "[t-SNE] Computed neighbors for 1000 samples in 0.092s...\n",
            "[t-SNE] Computed conditional probabilities for sample 1000 / 1000\n",
            "[t-SNE] Mean sigma: 1.092388\n",
            "[t-SNE] Computed conditional probabilities in 0.054s\n",
            "[t-SNE] Iteration 50: error = 77.7383499, gradient norm = 0.3197119 (50 iterations in 3.103s)\n",
            "[t-SNE] Iteration 100: error = 78.5404739, gradient norm = 0.3240739 (50 iterations in 2.691s)\n",
            "[t-SNE] Iteration 150: error = 82.4892197, gradient norm = 0.2654657 (50 iterations in 2.806s)\n",
            "[t-SNE] Iteration 200: error = 80.1245575, gradient norm = 0.2864281 (50 iterations in 2.720s)\n",
            "[t-SNE] Iteration 250: error = 79.3505096, gradient norm = 0.3083461 (50 iterations in 2.964s)\n",
            "[t-SNE] KL divergence after 250 iterations with early exaggeration: 79.350510\n",
            "[t-SNE] Iteration 300: error = 1.7634463, gradient norm = 0.0030017 (50 iterations in 2.355s)\n",
            "[t-SNE] Iteration 350: error = 1.6803041, gradient norm = 0.0006889 (50 iterations in 1.946s)\n",
            "[t-SNE] Iteration 400: error = 1.6381032, gradient norm = 0.0003715 (50 iterations in 1.954s)\n",
            "[t-SNE] Iteration 450: error = 1.6220697, gradient norm = 0.0002488 (50 iterations in 1.954s)\n",
            "[t-SNE] Iteration 500: error = 1.6098567, gradient norm = 0.0003963 (50 iterations in 1.854s)\n",
            "[t-SNE] Iteration 550: error = 1.6049920, gradient norm = 0.0001247 (50 iterations in 1.840s)\n",
            "[t-SNE] Iteration 600: error = 1.6023675, gradient norm = 0.0001559 (50 iterations in 1.940s)\n",
            "[t-SNE] Iteration 650: error = 1.5981773, gradient norm = 0.0003295 (50 iterations in 1.982s)\n",
            "[t-SNE] Iteration 700: error = 1.5961871, gradient norm = 0.0001157 (50 iterations in 1.926s)\n",
            "[t-SNE] Iteration 750: error = 1.5949768, gradient norm = 0.0000829 (50 iterations in 1.915s)\n",
            "[t-SNE] Iteration 800: error = 1.5939463, gradient norm = 0.0000736 (50 iterations in 1.933s)\n",
            "[t-SNE] Iteration 850: error = 1.5930883, gradient norm = 0.0000801 (50 iterations in 1.928s)\n",
            "[t-SNE] Iteration 900: error = 1.5917917, gradient norm = 0.0001213 (50 iterations in 1.956s)\n",
            "[t-SNE] Iteration 950: error = 1.5911958, gradient norm = 0.0000598 (50 iterations in 1.933s)\n",
            "[t-SNE] Iteration 1000: error = 1.5907296, gradient norm = 0.0000540 (50 iterations in 2.317s)\n",
            "[t-SNE] Error after 1000 iterations: 1.590730\n"
          ],
          "name": "stdout"
        },
        {
          "output_type": "stream",
          "text": [
            "/usr/local/lib/python3.6/dist-packages/sklearn/preprocessing/data.py:164: UserWarning: Numerical issues were encountered when centering the data and might not be solved. Dataset may contain too large values. You may need to prescale your features.\n",
            "  warnings.warn(\"Numerical issues were encountered \"\n",
            "/usr/local/lib/python3.6/dist-packages/sklearn/preprocessing/data.py:181: UserWarning: Numerical issues were encountered when scaling the data and might not be solved. The standard deviation of the data is probably very close to 0. \n",
            "  warnings.warn(\"Numerical issues were encountered \"\n"
          ],
          "name": "stderr"
        },
        {
          "output_type": "display_data",
          "data": {
            "text/html": [
              "\n",
              "    <div class=\"bk-root\">\n",
              "        <a href=\"https://bokeh.pydata.org\" target=\"_blank\" class=\"bk-logo bk-logo-small bk-logo-notebook\"></a>\n",
              "        <span id=\"0dd86d2b-b034-4efd-aea7-539e5855ddc4\">Loading BokehJS ...</span>\n",
              "    </div>"
            ]
          },
          "metadata": {
            "tags": []
          }
        },
        {
          "output_type": "display_data",
          "data": {
            "application/javascript": [
              "\n",
              "(function(root) {\n",
              "  function now() {\n",
              "    return new Date();\n",
              "  }\n",
              "\n",
              "  var force = true;\n",
              "\n",
              "  if (typeof (root._bokeh_onload_callbacks) === \"undefined\" || force === true) {\n",
              "    root._bokeh_onload_callbacks = [];\n",
              "    root._bokeh_is_loading = undefined;\n",
              "  }\n",
              "\n",
              "  var JS_MIME_TYPE = 'application/javascript';\n",
              "  var HTML_MIME_TYPE = 'text/html';\n",
              "  var EXEC_MIME_TYPE = 'application/vnd.bokehjs_exec.v0+json';\n",
              "  var CLASS_NAME = 'output_bokeh rendered_html';\n",
              "\n",
              "  /**\n",
              "   * Render data to the DOM node\n",
              "   */\n",
              "  function render(props, node) {\n",
              "    var script = document.createElement(\"script\");\n",
              "    node.appendChild(script);\n",
              "  }\n",
              "\n",
              "  /**\n",
              "   * Handle when an output is cleared or removed\n",
              "   */\n",
              "  function handleClearOutput(event, handle) {\n",
              "    var cell = handle.cell;\n",
              "\n",
              "    var id = cell.output_area._bokeh_element_id;\n",
              "    var server_id = cell.output_area._bokeh_server_id;\n",
              "    // Clean up Bokeh references\n",
              "    if (id != null && id in Bokeh.index) {\n",
              "      Bokeh.index[id].model.document.clear();\n",
              "      delete Bokeh.index[id];\n",
              "    }\n",
              "\n",
              "    if (server_id !== undefined) {\n",
              "      // Clean up Bokeh references\n",
              "      var cmd = \"from bokeh.io.state import curstate; print(curstate().uuid_to_server['\" + server_id + \"'].get_sessions()[0].document.roots[0]._id)\";\n",
              "      cell.notebook.kernel.execute(cmd, {\n",
              "        iopub: {\n",
              "          output: function(msg) {\n",
              "            var id = msg.content.text.trim();\n",
              "            if (id in Bokeh.index) {\n",
              "              Bokeh.index[id].model.document.clear();\n",
              "              delete Bokeh.index[id];\n",
              "            }\n",
              "          }\n",
              "        }\n",
              "      });\n",
              "      // Destroy server and session\n",
              "      var cmd = \"import bokeh.io.notebook as ion; ion.destroy_server('\" + server_id + \"')\";\n",
              "      cell.notebook.kernel.execute(cmd);\n",
              "    }\n",
              "  }\n",
              "\n",
              "  /**\n",
              "   * Handle when a new output is added\n",
              "   */\n",
              "  function handleAddOutput(event, handle) {\n",
              "    var output_area = handle.output_area;\n",
              "    var output = handle.output;\n",
              "\n",
              "    // limit handleAddOutput to display_data with EXEC_MIME_TYPE content only\n",
              "    if ((output.output_type != \"display_data\") || (!output.data.hasOwnProperty(EXEC_MIME_TYPE))) {\n",
              "      return\n",
              "    }\n",
              "\n",
              "    var toinsert = output_area.element.find(\".\" + CLASS_NAME.split(' ')[0]);\n",
              "\n",
              "    if (output.metadata[EXEC_MIME_TYPE][\"id\"] !== undefined) {\n",
              "      toinsert[toinsert.length - 1].firstChild.textContent = output.data[JS_MIME_TYPE];\n",
              "      // store reference to embed id on output_area\n",
              "      output_area._bokeh_element_id = output.metadata[EXEC_MIME_TYPE][\"id\"];\n",
              "    }\n",
              "    if (output.metadata[EXEC_MIME_TYPE][\"server_id\"] !== undefined) {\n",
              "      var bk_div = document.createElement(\"div\");\n",
              "      bk_div.innerHTML = output.data[HTML_MIME_TYPE];\n",
              "      var script_attrs = bk_div.children[0].attributes;\n",
              "      for (var i = 0; i < script_attrs.length; i++) {\n",
              "        toinsert[toinsert.length - 1].firstChild.setAttribute(script_attrs[i].name, script_attrs[i].value);\n",
              "      }\n",
              "      // store reference to server id on output_area\n",
              "      output_area._bokeh_server_id = output.metadata[EXEC_MIME_TYPE][\"server_id\"];\n",
              "    }\n",
              "  }\n",
              "\n",
              "  function register_renderer(events, OutputArea) {\n",
              "\n",
              "    function append_mime(data, metadata, element) {\n",
              "      // create a DOM node to render to\n",
              "      var toinsert = this.create_output_subarea(\n",
              "        metadata,\n",
              "        CLASS_NAME,\n",
              "        EXEC_MIME_TYPE\n",
              "      );\n",
              "      this.keyboard_manager.register_events(toinsert);\n",
              "      // Render to node\n",
              "      var props = {data: data, metadata: metadata[EXEC_MIME_TYPE]};\n",
              "      render(props, toinsert[toinsert.length - 1]);\n",
              "      element.append(toinsert);\n",
              "      return toinsert\n",
              "    }\n",
              "\n",
              "    /* Handle when an output is cleared or removed */\n",
              "    events.on('clear_output.CodeCell', handleClearOutput);\n",
              "    events.on('delete.Cell', handleClearOutput);\n",
              "\n",
              "    /* Handle when a new output is added */\n",
              "    events.on('output_added.OutputArea', handleAddOutput);\n",
              "\n",
              "    /**\n",
              "     * Register the mime type and append_mime function with output_area\n",
              "     */\n",
              "    OutputArea.prototype.register_mime_type(EXEC_MIME_TYPE, append_mime, {\n",
              "      /* Is output safe? */\n",
              "      safe: true,\n",
              "      /* Index of renderer in `output_area.display_order` */\n",
              "      index: 0\n",
              "    });\n",
              "  }\n",
              "\n",
              "  // register the mime type if in Jupyter Notebook environment and previously unregistered\n",
              "  if (root.Jupyter !== undefined) {\n",
              "    var events = require('base/js/events');\n",
              "    var OutputArea = require('notebook/js/outputarea').OutputArea;\n",
              "\n",
              "    if (OutputArea.prototype.mime_types().indexOf(EXEC_MIME_TYPE) == -1) {\n",
              "      register_renderer(events, OutputArea);\n",
              "    }\n",
              "  }\n",
              "\n",
              "  \n",
              "  if (typeof (root._bokeh_timeout) === \"undefined\" || force === true) {\n",
              "    root._bokeh_timeout = Date.now() + 5000;\n",
              "    root._bokeh_failed_load = false;\n",
              "  }\n",
              "\n",
              "  var NB_LOAD_WARNING = {'data': {'text/html':\n",
              "     \"<div style='background-color: #fdd'>\\n\"+\n",
              "     \"<p>\\n\"+\n",
              "     \"BokehJS does not appear to have successfully loaded. If loading BokehJS from CDN, this \\n\"+\n",
              "     \"may be due to a slow or bad network connection. Possible fixes:\\n\"+\n",
              "     \"</p>\\n\"+\n",
              "     \"<ul>\\n\"+\n",
              "     \"<li>re-rerun `output_notebook()` to attempt to load from CDN again, or</li>\\n\"+\n",
              "     \"<li>use INLINE resources instead, as so:</li>\\n\"+\n",
              "     \"</ul>\\n\"+\n",
              "     \"<code>\\n\"+\n",
              "     \"from bokeh.resources import INLINE\\n\"+\n",
              "     \"output_notebook(resources=INLINE)\\n\"+\n",
              "     \"</code>\\n\"+\n",
              "     \"</div>\"}};\n",
              "\n",
              "  function display_loaded() {\n",
              "    var el = document.getElementById(\"0dd86d2b-b034-4efd-aea7-539e5855ddc4\");\n",
              "    if (el != null) {\n",
              "      el.textContent = \"BokehJS is loading...\";\n",
              "    }\n",
              "    if (root.Bokeh !== undefined) {\n",
              "      if (el != null) {\n",
              "        el.textContent = \"BokehJS \" + root.Bokeh.version + \" successfully loaded.\";\n",
              "      }\n",
              "    } else if (Date.now() < root._bokeh_timeout) {\n",
              "      setTimeout(display_loaded, 100)\n",
              "    }\n",
              "  }\n",
              "\n",
              "\n",
              "  function run_callbacks() {\n",
              "    try {\n",
              "      root._bokeh_onload_callbacks.forEach(function(callback) { callback() });\n",
              "    }\n",
              "    finally {\n",
              "      delete root._bokeh_onload_callbacks\n",
              "    }\n",
              "    console.info(\"Bokeh: all callbacks have finished\");\n",
              "  }\n",
              "\n",
              "  function load_libs(js_urls, callback) {\n",
              "    root._bokeh_onload_callbacks.push(callback);\n",
              "    if (root._bokeh_is_loading > 0) {\n",
              "      console.log(\"Bokeh: BokehJS is being loaded, scheduling callback at\", now());\n",
              "      return null;\n",
              "    }\n",
              "    if (js_urls == null || js_urls.length === 0) {\n",
              "      run_callbacks();\n",
              "      return null;\n",
              "    }\n",
              "    console.log(\"Bokeh: BokehJS not loaded, scheduling load and callback at\", now());\n",
              "    root._bokeh_is_loading = js_urls.length;\n",
              "    for (var i = 0; i < js_urls.length; i++) {\n",
              "      var url = js_urls[i];\n",
              "      var s = document.createElement('script');\n",
              "      s.src = url;\n",
              "      s.async = false;\n",
              "      s.onreadystatechange = s.onload = function() {\n",
              "        root._bokeh_is_loading--;\n",
              "        if (root._bokeh_is_loading === 0) {\n",
              "          console.log(\"Bokeh: all BokehJS libraries loaded\");\n",
              "          run_callbacks()\n",
              "        }\n",
              "      };\n",
              "      s.onerror = function() {\n",
              "        console.warn(\"failed to load library \" + url);\n",
              "      };\n",
              "      console.log(\"Bokeh: injecting script tag for BokehJS library: \", url);\n",
              "      document.getElementsByTagName(\"head\")[0].appendChild(s);\n",
              "    }\n",
              "  };var element = document.getElementById(\"0dd86d2b-b034-4efd-aea7-539e5855ddc4\");\n",
              "  if (element == null) {\n",
              "    console.log(\"Bokeh: ERROR: autoload.js configured with elementid '0dd86d2b-b034-4efd-aea7-539e5855ddc4' but no matching script tag was found. \")\n",
              "    return false;\n",
              "  }\n",
              "\n",
              "  var js_urls = [\"https://cdn.pydata.org/bokeh/release/bokeh-0.13.0.min.js\", \"https://cdn.pydata.org/bokeh/release/bokeh-widgets-0.13.0.min.js\", \"https://cdn.pydata.org/bokeh/release/bokeh-tables-0.13.0.min.js\", \"https://cdn.pydata.org/bokeh/release/bokeh-gl-0.13.0.min.js\"];\n",
              "\n",
              "  var inline_js = [\n",
              "    function(Bokeh) {\n",
              "      Bokeh.set_log_level(\"info\");\n",
              "    },\n",
              "    \n",
              "    function(Bokeh) {\n",
              "      \n",
              "    },\n",
              "    function(Bokeh) {\n",
              "      console.log(\"Bokeh: injecting CSS: https://cdn.pydata.org/bokeh/release/bokeh-0.13.0.min.css\");\n",
              "      Bokeh.embed.inject_css(\"https://cdn.pydata.org/bokeh/release/bokeh-0.13.0.min.css\");\n",
              "      console.log(\"Bokeh: injecting CSS: https://cdn.pydata.org/bokeh/release/bokeh-widgets-0.13.0.min.css\");\n",
              "      Bokeh.embed.inject_css(\"https://cdn.pydata.org/bokeh/release/bokeh-widgets-0.13.0.min.css\");\n",
              "      console.log(\"Bokeh: injecting CSS: https://cdn.pydata.org/bokeh/release/bokeh-tables-0.13.0.min.css\");\n",
              "      Bokeh.embed.inject_css(\"https://cdn.pydata.org/bokeh/release/bokeh-tables-0.13.0.min.css\");\n",
              "    }\n",
              "  ];\n",
              "\n",
              "  function run_inline_js() {\n",
              "    \n",
              "    if ((root.Bokeh !== undefined) || (force === true)) {\n",
              "      for (var i = 0; i < inline_js.length; i++) {\n",
              "        inline_js[i].call(root, root.Bokeh);\n",
              "      }if (force === true) {\n",
              "        display_loaded();\n",
              "      }} else if (Date.now() < root._bokeh_timeout) {\n",
              "      setTimeout(run_inline_js, 100);\n",
              "    } else if (!root._bokeh_failed_load) {\n",
              "      console.log(\"Bokeh: BokehJS failed to load within specified timeout.\");\n",
              "      root._bokeh_failed_load = true;\n",
              "    } else if (force !== true) {\n",
              "      var cell = $(document.getElementById(\"0dd86d2b-b034-4efd-aea7-539e5855ddc4\")).parents('.cell').data().cell;\n",
              "      cell.output_area.append_execute_result(NB_LOAD_WARNING)\n",
              "    }\n",
              "\n",
              "  }\n",
              "\n",
              "  if (root._bokeh_is_loading === 0) {\n",
              "    console.log(\"Bokeh: BokehJS loaded, going straight to plotting\");\n",
              "    run_inline_js();\n",
              "  } else {\n",
              "    load_libs(js_urls, function() {\n",
              "      console.log(\"Bokeh: BokehJS plotting callback run at\", now());\n",
              "      run_inline_js();\n",
              "    });\n",
              "  }\n",
              "}(window));"
            ],
            "application/vnd.bokehjs_load.v0+json": "\n(function(root) {\n  function now() {\n    return new Date();\n  }\n\n  var force = true;\n\n  if (typeof (root._bokeh_onload_callbacks) === \"undefined\" || force === true) {\n    root._bokeh_onload_callbacks = [];\n    root._bokeh_is_loading = undefined;\n  }\n\n  \n\n  \n  if (typeof (root._bokeh_timeout) === \"undefined\" || force === true) {\n    root._bokeh_timeout = Date.now() + 5000;\n    root._bokeh_failed_load = false;\n  }\n\n  var NB_LOAD_WARNING = {'data': {'text/html':\n     \"<div style='background-color: #fdd'>\\n\"+\n     \"<p>\\n\"+\n     \"BokehJS does not appear to have successfully loaded. If loading BokehJS from CDN, this \\n\"+\n     \"may be due to a slow or bad network connection. Possible fixes:\\n\"+\n     \"</p>\\n\"+\n     \"<ul>\\n\"+\n     \"<li>re-rerun `output_notebook()` to attempt to load from CDN again, or</li>\\n\"+\n     \"<li>use INLINE resources instead, as so:</li>\\n\"+\n     \"</ul>\\n\"+\n     \"<code>\\n\"+\n     \"from bokeh.resources import INLINE\\n\"+\n     \"output_notebook(resources=INLINE)\\n\"+\n     \"</code>\\n\"+\n     \"</div>\"}};\n\n  function display_loaded() {\n    var el = document.getElementById(\"0dd86d2b-b034-4efd-aea7-539e5855ddc4\");\n    if (el != null) {\n      el.textContent = \"BokehJS is loading...\";\n    }\n    if (root.Bokeh !== undefined) {\n      if (el != null) {\n        el.textContent = \"BokehJS \" + root.Bokeh.version + \" successfully loaded.\";\n      }\n    } else if (Date.now() < root._bokeh_timeout) {\n      setTimeout(display_loaded, 100)\n    }\n  }\n\n\n  function run_callbacks() {\n    try {\n      root._bokeh_onload_callbacks.forEach(function(callback) { callback() });\n    }\n    finally {\n      delete root._bokeh_onload_callbacks\n    }\n    console.info(\"Bokeh: all callbacks have finished\");\n  }\n\n  function load_libs(js_urls, callback) {\n    root._bokeh_onload_callbacks.push(callback);\n    if (root._bokeh_is_loading > 0) {\n      console.log(\"Bokeh: BokehJS is being loaded, scheduling callback at\", now());\n      return null;\n    }\n    if (js_urls == null || js_urls.length === 0) {\n      run_callbacks();\n      return null;\n    }\n    console.log(\"Bokeh: BokehJS not loaded, scheduling load and callback at\", now());\n    root._bokeh_is_loading = js_urls.length;\n    for (var i = 0; i < js_urls.length; i++) {\n      var url = js_urls[i];\n      var s = document.createElement('script');\n      s.src = url;\n      s.async = false;\n      s.onreadystatechange = s.onload = function() {\n        root._bokeh_is_loading--;\n        if (root._bokeh_is_loading === 0) {\n          console.log(\"Bokeh: all BokehJS libraries loaded\");\n          run_callbacks()\n        }\n      };\n      s.onerror = function() {\n        console.warn(\"failed to load library \" + url);\n      };\n      console.log(\"Bokeh: injecting script tag for BokehJS library: \", url);\n      document.getElementsByTagName(\"head\")[0].appendChild(s);\n    }\n  };var element = document.getElementById(\"0dd86d2b-b034-4efd-aea7-539e5855ddc4\");\n  if (element == null) {\n    console.log(\"Bokeh: ERROR: autoload.js configured with elementid '0dd86d2b-b034-4efd-aea7-539e5855ddc4' but no matching script tag was found. \")\n    return false;\n  }\n\n  var js_urls = [\"https://cdn.pydata.org/bokeh/release/bokeh-0.13.0.min.js\", \"https://cdn.pydata.org/bokeh/release/bokeh-widgets-0.13.0.min.js\", \"https://cdn.pydata.org/bokeh/release/bokeh-tables-0.13.0.min.js\", \"https://cdn.pydata.org/bokeh/release/bokeh-gl-0.13.0.min.js\"];\n\n  var inline_js = [\n    function(Bokeh) {\n      Bokeh.set_log_level(\"info\");\n    },\n    \n    function(Bokeh) {\n      \n    },\n    function(Bokeh) {\n      console.log(\"Bokeh: injecting CSS: https://cdn.pydata.org/bokeh/release/bokeh-0.13.0.min.css\");\n      Bokeh.embed.inject_css(\"https://cdn.pydata.org/bokeh/release/bokeh-0.13.0.min.css\");\n      console.log(\"Bokeh: injecting CSS: https://cdn.pydata.org/bokeh/release/bokeh-widgets-0.13.0.min.css\");\n      Bokeh.embed.inject_css(\"https://cdn.pydata.org/bokeh/release/bokeh-widgets-0.13.0.min.css\");\n      console.log(\"Bokeh: injecting CSS: https://cdn.pydata.org/bokeh/release/bokeh-tables-0.13.0.min.css\");\n      Bokeh.embed.inject_css(\"https://cdn.pydata.org/bokeh/release/bokeh-tables-0.13.0.min.css\");\n    }\n  ];\n\n  function run_inline_js() {\n    \n    if ((root.Bokeh !== undefined) || (force === true)) {\n      for (var i = 0; i < inline_js.length; i++) {\n        inline_js[i].call(root, root.Bokeh);\n      }if (force === true) {\n        display_loaded();\n      }} else if (Date.now() < root._bokeh_timeout) {\n      setTimeout(run_inline_js, 100);\n    } else if (!root._bokeh_failed_load) {\n      console.log(\"Bokeh: BokehJS failed to load within specified timeout.\");\n      root._bokeh_failed_load = true;\n    } else if (force !== true) {\n      var cell = $(document.getElementById(\"0dd86d2b-b034-4efd-aea7-539e5855ddc4\")).parents('.cell').data().cell;\n      cell.output_area.append_execute_result(NB_LOAD_WARNING)\n    }\n\n  }\n\n  if (root._bokeh_is_loading === 0) {\n    console.log(\"Bokeh: BokehJS loaded, going straight to plotting\");\n    run_inline_js();\n  } else {\n    load_libs(js_urls, function() {\n      console.log(\"Bokeh: BokehJS plotting callback run at\", now());\n      run_inline_js();\n    });\n  }\n}(window));"
          },
          "metadata": {
            "tags": []
          }
        },
        {
          "output_type": "display_data",
          "data": {
            "text/html": [
              "\n",
              "\n",
              "\n",
              "\n",
              "\n",
              "\n",
              "  <div class=\"bk-root\" id=\"edec8a90-7cec-42b6-80d9-e473e01df4e6\"></div>\n"
            ]
          },
          "metadata": {
            "tags": []
          }
        },
        {
          "output_type": "display_data",
          "data": {
            "application/javascript": [
              "(function(root) {\n",
              "  function embed_document(root) {\n",
              "    \n",
              "  var docs_json = {\"65406c24-f3fd-459d-a2c8-3aefc7e79b33\":{\"roots\":{\"references\":[{\"attributes\":{},\"id\":\"81b401c3-cae5-49bf-8e02-ef09146aa54a\",\"type\":\"LinearScale\"},{\"attributes\":{},\"id\":\"e0dde159-8432-4ff5-9808-b271ce959611\",\"type\":\"BasicTickFormatter\"},{\"attributes\":{},\"id\":\"e41896be-9b07-4fab-a53a-32b64bf9f2c6\",\"type\":\"Selection\"},{\"attributes\":{},\"id\":\"21b638ad-4673-4459-b00e-b4e0fd2aebd2\",\"type\":\"HelpTool\"},{\"attributes\":{},\"id\":\"2299da8c-d603-40fe-a07f-c9803393901e\",\"type\":\"WheelZoomTool\"},{\"attributes\":{},\"id\":\"b2d478bb-c0c8-49fb-b760-d1f08546a7c1\",\"type\":\"ResetTool\"},{\"attributes\":{},\"id\":\"4e05c8fb-f0c4-4ccc-912c-e0ffaa39a797\",\"type\":\"UnionRenderers\"},{\"attributes\":{\"below\":[{\"id\":\"1ffc385a-dcfd-4eed-b56d-26548aee778a\",\"type\":\"LinearAxis\"}],\"left\":[{\"id\":\"dff378cd-8e8a-4988-918e-00bdc55c0587\",\"type\":\"LinearAxis\"}],\"plot_height\":400,\"renderers\":[{\"id\":\"1ffc385a-dcfd-4eed-b56d-26548aee778a\",\"type\":\"LinearAxis\"},{\"id\":\"7eb6bd77-4ad9-4867-91cc-9e743305ed22\",\"type\":\"Grid\"},{\"id\":\"dff378cd-8e8a-4988-918e-00bdc55c0587\",\"type\":\"LinearAxis\"},{\"id\":\"946b2b8e-90d1-43c1-82da-5880d921f91e\",\"type\":\"Grid\"},{\"id\":\"79564bb1-f30f-46a7-922a-a7ba5f4952cd\",\"type\":\"BoxAnnotation\"},{\"id\":\"22153b7d-784f-48a8-b309-175babe2dfc2\",\"type\":\"GlyphRenderer\"}],\"title\":{\"id\":\"5fbc7cca-a465-400e-8a2c-03f9c4bd8a5a\",\"type\":\"Title\"},\"toolbar\":{\"id\":\"d780a4c8-73ea-4aa8-b766-a50cef14311f\",\"type\":\"Toolbar\"},\"x_range\":{\"id\":\"059520b0-78b8-4778-9d52-879448ac338b\",\"type\":\"DataRange1d\"},\"x_scale\":{\"id\":\"8fe0c7ef-3069-4da5-8f54-24535f73a960\",\"type\":\"LinearScale\"},\"y_range\":{\"id\":\"13e3da72-426d-4579-97b1-2566dd0db67a\",\"type\":\"DataRange1d\"},\"y_scale\":{\"id\":\"81b401c3-cae5-49bf-8e02-ef09146aa54a\",\"type\":\"LinearScale\"}},\"id\":\"f4451711-8b50-4dba-84fb-a89748cf7d56\",\"subtype\":\"Figure\",\"type\":\"Plot\"},{\"attributes\":{\"bottom_units\":\"screen\",\"fill_alpha\":{\"value\":0.5},\"fill_color\":{\"value\":\"lightgrey\"},\"left_units\":\"screen\",\"level\":\"overlay\",\"line_alpha\":{\"value\":1.0},\"line_color\":{\"value\":\"black\"},\"line_dash\":[4,4],\"line_width\":{\"value\":2},\"plot\":null,\"render_mode\":\"css\",\"right_units\":\"screen\",\"top_units\":\"screen\"},\"id\":\"79564bb1-f30f-46a7-922a-a7ba5f4952cd\",\"type\":\"BoxAnnotation\"},{\"attributes\":{\"fill_alpha\":{\"value\":0.25},\"fill_color\":{\"field\":\"color\"},\"line_alpha\":{\"value\":0.25},\"line_color\":{\"field\":\"color\"},\"size\":{\"units\":\"screen\",\"value\":10},\"x\":{\"field\":\"x\"},\"y\":{\"field\":\"y\"}},\"id\":\"a68a0c37-ee7d-446f-8905-eafdfb5f5b02\",\"type\":\"Circle\"},{\"attributes\":{\"callback\":null},\"id\":\"059520b0-78b8-4778-9d52-879448ac338b\",\"type\":\"DataRange1d\"},{\"attributes\":{\"source\":{\"id\":\"e05761ff-d089-452b-b106-69918d265253\",\"type\":\"ColumnDataSource\"}},\"id\":\"13b7e6fc-0182-42a0-9c6c-0b9cb3f69fad\",\"type\":\"CDSView\"},{\"attributes\":{\"callback\":null},\"id\":\"13e3da72-426d-4579-97b1-2566dd0db67a\",\"type\":\"DataRange1d\"},{\"attributes\":{\"callback\":null,\"renderers\":\"auto\",\"tooltips\":[[\"token\",\"@token\"]]},\"id\":\"207a31bf-f711-4ac8-a501-911ef5f3311f\",\"type\":\"HoverTool\"},{\"attributes\":{\"callback\":null,\"data\":{\"color\":[\"green\",\"green\",\"green\",\"green\",\"green\",\"green\",\"green\",\"green\",\"green\",\"green\",\"green\",\"green\",\"green\",\"green\",\"green\",\"green\",\"green\",\"green\",\"green\",\"green\",\"green\",\"green\",\"green\",\"green\",\"green\",\"green\",\"green\",\"green\",\"green\",\"green\",\"green\",\"green\",\"green\",\"green\",\"green\",\"green\",\"green\",\"green\",\"green\",\"green\",\"green\",\"green\",\"green\",\"green\",\"green\",\"green\",\"green\",\"green\",\"green\",\"green\",\"green\",\"green\",\"green\",\"green\",\"green\",\"green\",\"green\",\"green\",\"green\",\"green\",\"green\",\"green\",\"green\",\"green\",\"green\",\"green\",\"green\",\"green\",\"green\",\"green\",\"green\",\"green\",\"green\",\"green\",\"green\",\"green\",\"green\",\"green\",\"green\",\"green\",\"green\",\"green\",\"green\",\"green\",\"green\",\"green\",\"green\",\"green\",\"green\",\"green\",\"green\",\"green\",\"green\",\"green\",\"green\",\"green\",\"green\",\"green\",\"green\",\"green\",\"green\",\"green\",\"green\",\"green\",\"green\",\"green\",\"green\",\"green\",\"green\",\"green\",\"green\",\"green\",\"green\",\"green\",\"green\",\"green\",\"green\",\"green\",\"green\",\"green\",\"green\",\"green\",\"green\",\"green\",\"green\",\"green\",\"green\",\"green\",\"green\",\"green\",\"green\",\"green\",\"green\",\"green\",\"green\",\"green\",\"green\",\"green\",\"green\",\"green\",\"green\",\"green\",\"green\",\"green\",\"green\",\"green\",\"green\",\"green\",\"green\",\"green\",\"green\",\"green\",\"green\",\"green\",\"green\",\"green\",\"green\",\"green\",\"green\",\"green\",\"green\",\"green\",\"green\",\"green\",\"green\",\"green\",\"green\",\"green\",\"green\",\"green\",\"green\",\"green\",\"green\",\"green\",\"green\",\"green\",\"green\",\"green\",\"green\",\"green\",\"green\",\"green\",\"green\",\"green\",\"green\",\"green\",\"green\",\"green\",\"green\",\"green\",\"green\",\"green\",\"green\",\"green\",\"green\",\"green\",\"green\",\"green\",\"green\",\"green\",\"green\",\"green\",\"green\",\"green\",\"green\",\"green\",\"green\",\"green\",\"green\",\"green\",\"green\",\"green\",\"green\",\"green\",\"green\",\"green\",\"green\",\"green\",\"green\",\"green\",\"green\",\"green\",\"green\",\"green\",\"green\",\"green\",\"green\",\"green\",\"green\",\"green\",\"green\",\"green\",\"green\",\"green\",\"green\",\"green\",\"green\",\"green\",\"green\",\"green\",\"green\",\"green\",\"green\",\"green\",\"green\",\"green\",\"green\",\"green\",\"green\",\"green\",\"green\",\"green\",\"green\",\"green\",\"green\",\"green\",\"green\",\"green\",\"green\",\"green\",\"green\",\"green\",\"green\",\"green\",\"green\",\"green\",\"green\",\"green\",\"green\",\"green\",\"green\",\"green\",\"green\",\"green\",\"green\",\"green\",\"green\",\"green\",\"green\",\"green\",\"green\",\"green\",\"green\",\"green\",\"green\",\"green\",\"green\",\"green\",\"green\",\"green\",\"green\",\"green\",\"green\",\"green\",\"green\",\"green\",\"green\",\"green\",\"green\",\"green\",\"green\",\"green\",\"green\",\"green\",\"green\",\"green\",\"green\",\"green\",\"green\",\"green\",\"green\",\"green\",\"green\",\"green\",\"green\",\"green\",\"green\",\"green\",\"green\",\"green\",\"green\",\"green\",\"green\",\"green\",\"green\",\"green\",\"green\",\"green\",\"green\",\"green\",\"green\",\"green\",\"green\",\"green\",\"green\",\"green\",\"green\",\"green\",\"green\",\"green\",\"green\",\"green\",\"green\",\"green\",\"green\",\"green\",\"green\",\"green\",\"green\",\"green\",\"green\",\"green\",\"green\",\"green\",\"green\",\"green\",\"green\",\"green\",\"green\",\"green\",\"green\",\"green\",\"green\",\"green\",\"green\",\"green\",\"green\",\"green\",\"green\",\"green\",\"green\",\"green\",\"green\",\"green\",\"green\",\"green\",\"green\",\"green\",\"green\",\"green\",\"green\",\"green\",\"green\",\"green\",\"green\",\"green\",\"green\",\"green\",\"green\",\"green\",\"green\",\"green\",\"green\",\"green\",\"green\",\"green\",\"green\",\"green\",\"green\",\"green\",\"green\",\"green\",\"green\",\"green\",\"green\",\"green\",\"green\",\"green\",\"green\",\"green\",\"green\",\"green\",\"green\",\"green\",\"green\",\"green\",\"green\",\"green\",\"green\",\"green\",\"green\",\"green\",\"green\",\"green\",\"green\",\"green\",\"green\",\"green\",\"green\",\"green\",\"green\",\"green\",\"green\",\"green\",\"green\",\"green\",\"green\",\"green\",\"green\",\"green\",\"green\",\"green\",\"green\",\"green\",\"green\",\"green\",\"green\",\"green\",\"green\",\"green\",\"green\",\"green\",\"green\",\"green\",\"green\",\"green\",\"green\",\"green\",\"green\",\"green\",\"green\",\"green\",\"green\",\"green\",\"green\",\"green\",\"green\",\"green\",\"green\",\"green\",\"green\",\"green\",\"green\",\"green\",\"green\",\"green\",\"green\",\"green\",\"green\",\"green\",\"green\",\"green\",\"green\",\"green\",\"green\",\"green\",\"green\",\"green\",\"green\",\"green\",\"green\",\"green\",\"green\",\"green\",\"green\",\"green\",\"green\",\"green\",\"green\",\"green\",\"green\",\"green\",\"green\",\"green\",\"green\",\"green\",\"green\",\"green\",\"green\",\"green\",\"green\",\"green\",\"green\",\"green\",\"green\",\"green\",\"green\",\"green\",\"green\",\"green\",\"green\",\"green\",\"green\",\"green\",\"green\",\"green\",\"green\",\"green\",\"green\",\"green\",\"green\",\"green\",\"green\",\"green\",\"green\",\"green\",\"green\",\"green\",\"green\",\"green\",\"green\",\"green\",\"green\",\"green\",\"green\",\"green\",\"green\",\"green\",\"green\",\"green\",\"green\",\"green\",\"green\",\"green\",\"green\",\"green\",\"green\",\"green\",\"green\",\"green\",\"green\",\"green\",\"green\",\"green\",\"green\",\"green\",\"green\",\"green\",\"green\",\"green\",\"green\",\"green\",\"green\",\"green\",\"green\",\"green\",\"green\",\"green\",\"green\",\"green\",\"green\",\"green\",\"green\",\"green\",\"green\",\"green\",\"green\",\"green\",\"green\",\"green\",\"green\",\"green\",\"green\",\"green\",\"green\",\"green\",\"green\",\"green\",\"green\",\"green\",\"green\",\"green\",\"green\",\"green\",\"green\",\"green\",\"green\",\"green\",\"green\",\"green\",\"green\",\"green\",\"green\",\"green\",\"green\",\"green\",\"green\",\"green\",\"green\",\"green\",\"green\",\"green\",\"green\",\"green\",\"green\",\"green\",\"green\",\"green\",\"green\",\"green\",\"green\",\"green\",\"green\",\"green\",\"green\",\"green\",\"green\",\"green\",\"green\",\"green\",\"green\",\"green\",\"green\",\"green\",\"green\",\"green\",\"green\",\"green\",\"green\",\"green\",\"green\",\"green\",\"green\",\"green\",\"green\",\"green\",\"green\",\"green\",\"green\",\"green\",\"green\",\"green\",\"green\",\"green\",\"green\",\"green\",\"green\",\"green\",\"green\",\"green\",\"green\",\"green\",\"green\",\"green\",\"green\",\"green\",\"green\",\"green\",\"green\",\"green\",\"green\",\"green\",\"green\",\"green\",\"green\",\"green\",\"green\",\"green\",\"green\",\"green\",\"green\",\"green\",\"green\",\"green\",\"green\",\"green\",\"green\",\"green\",\"green\",\"green\",\"green\",\"green\",\"green\",\"green\",\"green\",\"green\",\"green\",\"green\",\"green\",\"green\",\"green\",\"green\",\"green\",\"green\",\"green\",\"green\",\"green\",\"green\",\"green\",\"green\",\"green\",\"green\",\"green\",\"green\",\"green\",\"green\",\"green\",\"green\",\"green\",\"green\",\"green\",\"green\",\"green\",\"green\",\"green\",\"green\",\"green\",\"green\",\"green\",\"green\",\"green\",\"green\",\"green\",\"green\",\"green\",\"green\",\"green\",\"green\",\"green\",\"green\",\"green\",\"green\",\"green\",\"green\",\"green\",\"green\",\"green\",\"green\",\"green\",\"green\",\"green\",\"green\",\"green\",\"green\",\"green\",\"green\",\"green\",\"green\",\"green\",\"green\",\"green\",\"green\",\"green\",\"green\",\"green\",\"green\",\"green\",\"green\",\"green\",\"green\",\"green\",\"green\",\"green\",\"green\",\"green\",\"green\",\"green\",\"green\",\"green\",\"green\",\"green\",\"green\",\"green\",\"green\",\"green\",\"green\",\"green\",\"green\",\"green\",\"green\",\"green\",\"green\",\"green\",\"green\",\"green\",\"green\",\"green\",\"green\",\"green\",\"green\",\"green\",\"green\",\"green\",\"green\",\"green\",\"green\",\"green\",\"green\",\"green\",\"green\",\"green\",\"green\",\"green\",\"green\",\"green\",\"green\",\"green\",\"green\",\"green\",\"green\",\"green\",\"green\",\"green\",\"green\",\"green\",\"green\",\"green\",\"green\",\"green\",\"green\",\"green\",\"green\",\"green\",\"green\",\"green\",\"green\",\"green\",\"green\",\"green\",\"green\",\"green\",\"green\",\"green\",\"green\",\"green\",\"green\",\"green\",\"green\",\"green\",\"green\",\"green\",\"green\",\"green\",\"green\",\"green\",\"green\",\"green\",\"green\",\"green\",\"green\",\"green\",\"green\",\"green\",\"green\",\"green\",\"green\",\"green\",\"green\",\"green\",\"green\",\"green\",\"green\",\"green\",\"green\",\"green\",\"green\",\"green\",\"green\",\"green\",\"green\",\"green\",\"green\",\"green\",\"green\",\"green\",\"green\",\"green\",\"green\",\"green\",\"green\",\"green\",\"green\",\"green\",\"green\",\"green\",\"green\",\"green\",\"green\",\"green\",\"green\",\"green\",\"green\",\"green\",\"green\",\"green\",\"green\",\"green\",\"green\",\"green\",\"green\",\"green\",\"green\",\"green\",\"green\",\"green\",\"green\",\"green\",\"green\",\"green\",\"green\",\"green\",\"green\",\"green\",\"green\",\"green\",\"green\",\"green\",\"green\",\"green\",\"green\",\"green\",\"green\",\"green\",\"green\",\"green\",\"green\",\"green\",\"green\",\"green\",\"green\",\"green\",\"green\",\"green\",\"green\",\"green\",\"green\",\"green\",\"green\",\"green\",\"green\",\"green\",\"green\",\"green\",\"green\",\"green\",\"green\",\"green\",\"green\",\"green\",\"green\",\"green\",\"green\",\"green\",\"green\",\"green\",\"green\",\"green\",\"green\",\"green\",\"green\",\"green\",\"green\",\"green\",\"green\",\"green\",\"green\",\"green\",\"green\",\"green\",\"green\",\"green\",\"green\",\"green\",\"green\",\"green\",\"green\",\"green\",\"green\",\"green\",\"green\"],\"token\":[\"?\",\"the\",\"what\",\"is\",\"a\",\"i\",\"to\",\"in\",\"how\",\"of\",\"do\",\"are\",\"and\",\"for\",\",\",\"can\",\"you\",\"why\",\"it\",\"my\",\"does\",\"best\",\"on\",\".\",\"or\",\"have\",\"if\",\"be\",\"with\",\"which\",\"that\",\"an\",\"some\",\"should\",\"'s\",\"get\",\"from\",\")\",\"your\",\"(\",\"like\",\"when\",\"at\",\"india\",\"good\",\"who\",\"there\",\"will\",\"as\",\"would\",\"people\",\"not\",\"n't\",\"about\",\"``\",\"''\",\"between\",\"one\",\"did\",\"any\",\"we\",\"me\",\"where\",\"most\",\"was\",\"by\",\"make\",\"so\",\"they\",\"this\",\"am\",\"after\",\"way\",\":\",\"has\",\"use\",\"much\",\"difference\",\"time\",\"life\",\"their\",\"know\",\"work\",\"many\",\"but\",\"than\",\"more\",\"all\",\"want\",\"quora\",\"someone\",\"learn\",\"find\",\"other\",\"think\",\"new\",\"better\",\"job\",\"indian\",\"out\",\"money\",\"mean\",\"become\",\"ever\",\"world\",\"without\",\"he\",\"start\",\"take\",\"us\",\"up\",\"first\",\"feel\",\"year\",\"into\",\"go\",\"online\",\"used\",\"engineering\",\"could\",\"love\",\"'m\",\"person\",\"were\",\"possible\",\"day\",\"buy\",\"things\",\"being\",\"need\",\"business\",\"using\",\"them\",\"really\",\"trump\",\"girl\",\"her\",\"his\",\"years\",\"different\",\"long\",\"phone\",\"google\",\"company\",\"been\",\"old\",\"only\",\"no\",\"now\",\"'\",\"just\",\"2\",\"app\",\"college\",\"facebook\",\"number\",\"free\",\"books\",\"2016\",\"movie\",\"still\",\"its\",\"account\",\"ca\",\"women\",\"book\",\"english\",\"while\",\"she\",\"had\",\"change\",\"ways\",\"computer\",\"thing\",\"examples\",\"data\",\"country\",\"over\",\"see\",\"android\",\"help\",\"science\",\"live\",\"school\",\"software\",\"before\",\"&\",\"language\",\"same\",\"going\",\"bad\",\"sex\",\"student\",\"stop\",\"university\",\"happen\",\"back\",\"made\",\"3\",\"study\",\"our\",\"1\",\"two\",\"through\",\"system\",\"name\",\"say\",\"real\",\"during\",\"prepare\",\"water\",\"iphone\",\"website\",\"top\",\"car\",\"questions\",\"important\",\"men\",\"give\",\"getting\",\"anyone\",\"companies\",\"high\",\"black\",\"card\",\"read\",\"programming\",\"war\",\"learning\",\"10\",\"\\u2019\",\"exam\",\"[\",\"then\",\"]\",\"even\",\"movies\",\"china\",\"mobile\",\"cost\",\"donald\",\"right\",\"doing\",\"friend\",\"him\",\"working\",\"5\",\"under\",\"come\",\"president\",\"own\",\"question\",\"career\",\"experience\",\"bank\",\"true\",\"friends\",\"guy\",\"word\",\"hair\",\"home\",\"video\",\"having\",\"look\",\"usa\",\"tell\",\"man\",\"social\",\"web\",\"interview\",\"very\",\"engineer\",\"write\",\"game\",\"government\",\"weight\",\"earth\",\"girls\",\"service\",\"food\",\"students\",\"play\",\"countries\",\"human\",\"place\",\"future\",\"improve\",\"off\",\"big\",\"days\",\"happens\",\"'ve\",\"done\",\"class\",\"eat\",\"tv\",\"process\",\"got\",\"state\",\"average\",\"s\",\"meaning\",\"relationship\",\"music\",\"too\",\"math\",\"create\",\"instagram\",\"every\",\"history\",\"last\",\"pay\",\"windows\",\"white\",\"watch\",\"%\",\"salary\",\"body\",\"power\",\"4\",\"safe\",\"clinton\",\"ask\",\"age\",\"laptop\",\"makes\",\"$\",\"each\",\"hard\",\"lose\",\"american\",\"delhi\",\"youtube\",\"energy\",\"worth\",\"earn\",\"states\",\"against\",\"win\",\"girlfriend\",\"great\",\"keep\",\"test\",\"god\",\"hillary\",\"compare\",\"market\",\"differences\",\"making\",\"considered\",\"something\",\"answer\",\"apply\",\"myself\",\"mba\",\"tips\",\"around\",\"never\",\"next\",\"always\",\"mechanical\",\"another\",\"united\",\"java\",\"increase\",\"such\",\"course\",\"jobs\",\"c\",\"download\",\"song\",\"parents\",\"kind\",\"internet\",\"common\",\"review\",\"woman\",\"code\",\"design\",\"per\",\"employees\",\"end\",\"development\",\"chinese\",\"series\",\"score\",\"interesting\",\"degree\",\"month\",\"travel\",\"show\",\"management\",\"months\",\"able\",\"believe\",\"open\",\"program\",\"living\",\"looking\",\"because\",\"type\",\"bangalore\",\"light\",\"favorite\",\"america\",\"today\",\"actually\",\"major\",\"family\",\"marketing\",\"pakistan\",\"universities\",\"technology\",\"law\",\"call\",\"affect\",\"whatsapp\",\"6\",\"idea\",\"{\",\"build\",\"}\",\"choose\",\"cat\",\"current\",\"support\",\"problem\",\"popular\",\"speed\",\"air\",\"rid\",\"deal\",\"visa\",\"join\",\"run\",\"games\",\"space\",\"down\",\"both\",\"well\",\"city\",\"2017\",\"house\",\"exist\",\"services\",\"available\",\"civil\",\"u.s.\",\"site\",\"culture\",\"also\",\"normal\",\"given\",\"wrong\",\"apple\",\"small\",\"order\",\"date\",\"wear\",\"apps\",\"places\",\"songs\",\"differ\",\"project\",\"product\",\"international\",\"behind\",\"main\",\"research\",\"x\",\"7\",\"happened\",\"boyfriend\",\"media\",\"public\",\"canada\",\"value\",\"jee\",\"cause\",\"reason\",\"uk\",\"education\",\"email\",\"ms\",\"sleep\",\"-\",\"amazon\",\"instead\",\"these\",\"benefits\",\"startup\",\"less\",\"iit\",\"part\",\"list\",\"based\",\"die\",\"medical\",\"websites\",\"etc\",\"physics\",\"skills\",\"child\",\"form\",\"health\",\"causes\",\"called\",\"times\",\"visit\",\"hate\",\"level\",\"worst\",\"police\",\"legal\",\"control\",\"terms\",\"stay\",\"products\",\"mumbai\",\"post\",\"facts\",\"mind\",\"face\",\"application\",\"rate\",\"sites\",\"field\",\"file\",\"required\",\"humans\",\"sell\",\"seen\",\"story\",\"machine\",\"private\",\"dog\",\"notes\",\"stock\",\"modi\",\"biggest\",\"asked\",\"invest\",\"children\",\"point\",\"writing\",\"move\",\"night\",\"problems\",\"gate\",\"put\",\"'re\",\"successful\",\"single\",\"anything\",\"indians\",\"others\",\"remove\",\"compared\",\"theory\",\"death\",\"ideas\",\"talk\",\"marks\",\"answers\",\"plan\",\"similar\",\"sentence\",\"low\",\"group\",\"institute\",\"side\",\"hours\",\"again\",\"effects\",\"/math\",\"coaching\",\"australia\",\"solve\",\"advantages\",\"correct\",\"function\",\"tax\",\"lot\",\"center\",\"famous\",\"send\",\"germany\",\"guys\",\"add\",\"set\",\"offer\",\"south\",\"force\",\"credit\",\"foreign\",\"universe\",\"information\",\"fall\",\"period\",\"daily\",\"says\",\"developer\",\"training\",\"full\",\"videos\",\"area\",\"industry\",\"oil\",\"model\",\"general\",\"studying\",\"majors\",\"star\",\"colleges\",\"graduate\",\"size\",\"yourself\",\"drive\",\"python\",\"2015\",\"blood\",\"near\",\"search\",\"enough\",\"price\",\"kill\",\"quality\",\"words\",\"cons\",\"marriage\",\"found\",\"often\",\"\\u201d\",\"leave\",\"pros\",\"fast\",\"grow\",\"courses\",\"started\",\"week\",\"fix\",\"related\",\"purpose\",\"8\",\"network\",\"types\",\"russia\",\"advice\",\"those\",\"password\",\"follow\",\"taking\",\"married\",\"mass\",\"male\",\"store\",\"turn\",\"party\",\"left\",\"brain\",\"rs\",\"\\u201c\",\"numbers\",\"100\",\"500\",\"female\",\"share\",\"digital\",\"team\",\"1000\",\"effective\",\"economy\",\"term\",\"text\",\"delete\",\"election\",\"cell\",\"pc\",\"master\",\"office\",\"matter\",\"few\",\"role\",\"since\",\"preparation\",\"fat\",\"second\",\"page\",\"dark\",\"short\",\"said\",\"happy\",\"red\",\"line\",\"away\",\"security\",\"options\",\"easy\",\"effect\",\"three\",\"view\",\"admission\",\"must\",\"chemical\",\"source\",\"lost\",\"try\",\"dream\",\"understand\",\"care\",\"exams\",\"convert\",\"americans\",\"past\",\"electrical\",\"dogs\",\"profile\",\"alcohol\",\"exactly\",\"north\",\"ios\",\"develop\",\"paper\",\"japanese\",\"investment\",\"tech\",\"difficult\",\"hotel\",\"check\",\"beautiful\",\"personal\",\"calculate\",\"japan\",\"uber\",\"letter\",\"eating\",\"religion\",\"20\",\"explain\",\"languages\",\"c++\",\"hyderabad\",\"topics\",\"british\",\"b\",\"twitter\",\"basic\",\"news\",\"california\",\"self\",\"green\",\"political\",\"transfer\",\"wife\",\"12\",\"fight\",\"rank\",\"drug\",\"let\",\"porn\",\"film\",\"scope\",\"t\",\"army\",\"pune\",\"national\",\"once\",\"contact\",\"note\",\"known\",\"avoid\",\"boy\",\"gain\",\"please\",\"address\",\"wants\",\"reasons\",\"paid\",\"obama\",\"engine\",\"europe\",\"ex\",\"currently\",\"bollywood\",\"samsung\",\"smart\",\"everyone\",\"season\",\"phd\",\"income\",\"officer\",\"chances\",\"reduce\",\"option\",\"overcome\",\"everything\",\"across\",\"reading\",\"military\",\"else\",\"users\",\"meet\",\"15\",\"solar\",\"message\",\"charge\",\"knowledge\",\"due\",\"sound\",\"balance\",\"microsoft\",\"!\",\"internship\",\"faster\",\"photos\",\"pregnant\",\"sim\",\"yes\",\"moon\",\"taken\",\"financial\",\"hindi\",\"disadvantages\",\"pass\",\"animals\",\"messages\",\"gay\",\"/\",\"hack\",\"healthy\",\"pain\",\"systems\",\"amount\",\"color\",\"interested\",\"singapore\",\"ias\",\"natural\",\"skin\",\"screen\",\"chance\",\"names\",\"special\",\"height\",\"board\",\"case\",\"structure\",\"passport\",\"break\",\"pro\",\"created\",\"professional\",\"drink\",\"already\",\"percentage\",\"useful\",\"french\",\"crush\",\"sun\",\"dating\",\"likes\",\"presidential\",\"battery\",\"interest\",\"access\",\"coming\",\"provide\",\"muslim\",\"starting\",\"modern\",\"linux\",\"recover\",\"camera\",\"german\",\"expect\",\"vote\",\"muslims\",\"blue\",\"least\",\"install\",\"train\",\"studies\",\"solution\",\"thinking\",\"following\",\"negative\",\"mother\",\"jio\",\"mac\",\"user\",\"spend\",\"prime\",\"written\",\"buying\",\"feeling\",\"running\",\"football\",\"gift\",\"cold\",\"changed\",\"pressure\",\"allowed\",\"character\",\"brand\",\"rich\",\"snapchat\",\"resources\",\"within\",\"speak\",\"impact\",\"islam\",\"yet\",\"non\",\"marry\",\"eyes\",\"society\",\"bill\",\"likely\",\"though\",\"determine\",\"shows\",\"fake\",\"save\",\"capital\",\"final\",\"gmail\",\"picture\",\"laws\",\"middle\",\"applications\",\"nuclear\",\"chemistry\",\"young\",\"kids\",\"prefer\",\"device\",\"iq\",\"father\",\"views\",\"galaxy\",\"manager\",\"doctor\",\"personality\",\"hand\",\"greatest\",\"currency\",\"inside\",\"illegal\",\"stories\",\"strategy\",\"recruit\",\"pursue\",\"cs\",\"abroad\",\"gold\",\"projects\",\"consider\",\"works\",\"blog\",\"crack\",\"memory\",\"example\",\"neet\",\"growth\",\"schools\",\"necessary\",\"husband\",\"insurance\",\"alone\",\"economics\",\"depression\",\"higher\",\"dead\",\"b.tech\",\"30\",\"cse\",\"loss\",\"among\",\"files\",\"deleted\",\"easiest\",\"macbook\",\"together\",\"art\",\"wifi\",\"vs\",\"gas\",\"suggest\",\"late\",\"intelligence\",\"method\",\"gre\",\"head\",\"minimum\",\"version\",\"tools\",\"easily\",\"chennai\",\"cars\",\"suitable\"],\"x\":{\"__ndarray__\":\"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\",\"dtype\":\"float32\",\"shape\":[1000]},\"y\":{\"__ndarray__\":\"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\",\"dtype\":\"float32\",\"shape\":[1000]}},\"selected\":{\"id\":\"e41896be-9b07-4fab-a53a-32b64bf9f2c6\",\"type\":\"Selection\"},\"selection_policy\":{\"id\":\"4e05c8fb-f0c4-4ccc-912c-e0ffaa39a797\",\"type\":\"UnionRenderers\"}},\"id\":\"e05761ff-d089-452b-b106-69918d265253\",\"type\":\"ColumnDataSource\"},{\"attributes\":{},\"id\":\"e8ec47d3-4d58-4fdf-b9b0-f86ec8ffa933\",\"type\":\"BasicTicker\"},{\"attributes\":{\"dimension\":1,\"plot\":{\"id\":\"f4451711-8b50-4dba-84fb-a89748cf7d56\",\"subtype\":\"Figure\",\"type\":\"Plot\"},\"ticker\":{\"id\":\"e9b12d61-e608-465a-9382-b08e5e73add7\",\"type\":\"BasicTicker\"}},\"id\":\"946b2b8e-90d1-43c1-82da-5880d921f91e\",\"type\":\"Grid\"},{\"attributes\":{\"active_drag\":\"auto\",\"active_inspect\":\"auto\",\"active_multi\":null,\"active_scroll\":{\"id\":\"2299da8c-d603-40fe-a07f-c9803393901e\",\"type\":\"WheelZoomTool\"},\"active_tap\":\"auto\",\"tools\":[{\"id\":\"3c737dfe-da3e-4ef3-9211-b06aae46afa4\",\"type\":\"PanTool\"},{\"id\":\"2299da8c-d603-40fe-a07f-c9803393901e\",\"type\":\"WheelZoomTool\"},{\"id\":\"2f20a5de-0788-47a7-b0d3-7145eb175617\",\"type\":\"BoxZoomTool\"},{\"id\":\"2d509b02-0b61-4988-9963-0b67c19a6309\",\"type\":\"SaveTool\"},{\"id\":\"b2d478bb-c0c8-49fb-b760-d1f08546a7c1\",\"type\":\"ResetTool\"},{\"id\":\"21b638ad-4673-4459-b00e-b4e0fd2aebd2\",\"type\":\"HelpTool\"},{\"id\":\"207a31bf-f711-4ac8-a501-911ef5f3311f\",\"type\":\"HoverTool\"}]},\"id\":\"d780a4c8-73ea-4aa8-b766-a50cef14311f\",\"type\":\"Toolbar\"},{\"attributes\":{\"plot\":{\"id\":\"f4451711-8b50-4dba-84fb-a89748cf7d56\",\"subtype\":\"Figure\",\"type\":\"Plot\"},\"ticker\":{\"id\":\"e8ec47d3-4d58-4fdf-b9b0-f86ec8ffa933\",\"type\":\"BasicTicker\"}},\"id\":\"7eb6bd77-4ad9-4867-91cc-9e743305ed22\",\"type\":\"Grid\"},{\"attributes\":{},\"id\":\"2d509b02-0b61-4988-9963-0b67c19a6309\",\"type\":\"SaveTool\"},{\"attributes\":{\"fill_alpha\":{\"value\":0.1},\"fill_color\":{\"value\":\"#1f77b4\"},\"line_alpha\":{\"value\":0.1},\"line_color\":{\"value\":\"#1f77b4\"},\"size\":{\"units\":\"screen\",\"value\":10},\"x\":{\"field\":\"x\"},\"y\":{\"field\":\"y\"}},\"id\":\"9014f871-9e9f-417d-9244-b69d6d8aea2a\",\"type\":\"Circle\"},{\"attributes\":{},\"id\":\"862a6a2c-9114-4beb-a6f2-2c64622d61af\",\"type\":\"BasicTickFormatter\"},{\"attributes\":{},\"id\":\"8fe0c7ef-3069-4da5-8f54-24535f73a960\",\"type\":\"LinearScale\"},{\"attributes\":{\"overlay\":{\"id\":\"79564bb1-f30f-46a7-922a-a7ba5f4952cd\",\"type\":\"BoxAnnotation\"}},\"id\":\"2f20a5de-0788-47a7-b0d3-7145eb175617\",\"type\":\"BoxZoomTool\"},{\"attributes\":{},\"id\":\"3c737dfe-da3e-4ef3-9211-b06aae46afa4\",\"type\":\"PanTool\"},{\"attributes\":{\"formatter\":{\"id\":\"e0dde159-8432-4ff5-9808-b271ce959611\",\"type\":\"BasicTickFormatter\"},\"plot\":{\"id\":\"f4451711-8b50-4dba-84fb-a89748cf7d56\",\"subtype\":\"Figure\",\"type\":\"Plot\"},\"ticker\":{\"id\":\"e8ec47d3-4d58-4fdf-b9b0-f86ec8ffa933\",\"type\":\"BasicTicker\"}},\"id\":\"1ffc385a-dcfd-4eed-b56d-26548aee778a\",\"type\":\"LinearAxis\"},{\"attributes\":{\"formatter\":{\"id\":\"862a6a2c-9114-4beb-a6f2-2c64622d61af\",\"type\":\"BasicTickFormatter\"},\"plot\":{\"id\":\"f4451711-8b50-4dba-84fb-a89748cf7d56\",\"subtype\":\"Figure\",\"type\":\"Plot\"},\"ticker\":{\"id\":\"e9b12d61-e608-465a-9382-b08e5e73add7\",\"type\":\"BasicTicker\"}},\"id\":\"dff378cd-8e8a-4988-918e-00bdc55c0587\",\"type\":\"LinearAxis\"},{\"attributes\":{\"plot\":null,\"text\":\"\"},\"id\":\"5fbc7cca-a465-400e-8a2c-03f9c4bd8a5a\",\"type\":\"Title\"},{\"attributes\":{\"data_source\":{\"id\":\"e05761ff-d089-452b-b106-69918d265253\",\"type\":\"ColumnDataSource\"},\"glyph\":{\"id\":\"a68a0c37-ee7d-446f-8905-eafdfb5f5b02\",\"type\":\"Circle\"},\"hover_glyph\":null,\"muted_glyph\":null,\"nonselection_glyph\":{\"id\":\"9014f871-9e9f-417d-9244-b69d6d8aea2a\",\"type\":\"Circle\"},\"selection_glyph\":null,\"view\":{\"id\":\"13b7e6fc-0182-42a0-9c6c-0b9cb3f69fad\",\"type\":\"CDSView\"}},\"id\":\"22153b7d-784f-48a8-b309-175babe2dfc2\",\"type\":\"GlyphRenderer\"},{\"attributes\":{},\"id\":\"e9b12d61-e608-465a-9382-b08e5e73add7\",\"type\":\"BasicTicker\"}],\"root_ids\":[\"f4451711-8b50-4dba-84fb-a89748cf7d56\"]},\"title\":\"Bokeh Application\",\"version\":\"0.13.0\"}};\n",
              "  var render_items = [{\"docid\":\"65406c24-f3fd-459d-a2c8-3aefc7e79b33\",\"roots\":{\"f4451711-8b50-4dba-84fb-a89748cf7d56\":\"edec8a90-7cec-42b6-80d9-e473e01df4e6\"}}];\n",
              "  root.Bokeh.embed.embed_items_notebook(docs_json, render_items);\n",
              "\n",
              "  }\n",
              "  if (root.Bokeh !== undefined) {\n",
              "    embed_document(root);\n",
              "  } else {\n",
              "    var attempts = 0;\n",
              "    var timer = setInterval(function(root) {\n",
              "      if (root.Bokeh !== undefined) {\n",
              "        embed_document(root);\n",
              "        clearInterval(timer);\n",
              "      }\n",
              "      attempts++;\n",
              "      if (attempts > 100) {\n",
              "        console.log(\"Bokeh: ERROR: Unable to run BokehJS code because BokehJS library is missing\")\n",
              "        clearInterval(timer);\n",
              "      }\n",
              "    }, 10, root)\n",
              "  }\n",
              "})(window);"
            ],
            "application/vnd.bokehjs_exec.v0+json": ""
          },
          "metadata": {
            "tags": [],
            "application/vnd.bokehjs_exec.v0+json": {
              "id": "f4451711-8b50-4dba-84fb-a89748cf7d56"
            }
          }
        }
      ]
    },
    {
      "metadata": {
        "id": "CON4VOyG3iET",
        "colab_type": "text"
      },
      "cell_type": "markdown",
      "source": [
        "### Negative Sampling\n",
        "\n",
        "Что сейчас самое тяжелое? Вычисление softmax и применение градиентов ко всем словам в $V$.\n",
        "\n",
        "Один из способов справиться с этим - использовать *Negative Sampling*.\n",
        "\n",
        "По сути, вместо предсказания индекса слова по контексту предсказывается вероятность того, что такое слово $w$ может быть в таком контексте $c$: $P(D=1|w,c)$.\n",
        "\n",
        "Можно использовать обычную сигмоиду для получения данной вероятности: \n",
        "$$P(D=1|w, c) = \\sigma(v_w^T u_c) = \\frac 1 {1 + \\exp(-v^T_w u_c)}.$$\n",
        "\n",
        "Процесс обучения тогда выглядит так: для каждой пары слово и его контекст генерируем набор отрицательных примеров:\n",
        "\n",
        "![Negative Sampling](https://image.ibb.co/dnOUDH/Negative_Sampling.png =350x)\n",
        "\n",
        "Для CBoW функция потерь будет выглядеть так:\n",
        "$$-\\log \\sigma(v_c^T u_c) - \\sum_{k=1}^K \\log \\sigma(-\\tilde v_k^T u_c),$$\n",
        "где $v_c$ - вектор центрального слова, $u_c$ - вектор контекста (сумма контекстных векторов), $\\tilde v_1, \\ldots, \\tilde v_K$ - сэмплированные негативные примеры.\n",
        "\n",
        "Сравните эту формулу с обычным CBoW:\n",
        "$$-v_c^T u_c + \\log \\sum_{i=1}^{|V|} \\exp(v_i^T u_c).$$\n",
        "\n",
        "Обычно слова сэмплируются из $U^{3/4}$, где $U$ - униграмное распределение, т.е частоты появления слова делённые на суммарое число слов. \n",
        "\n",
        "Частотности мы уже считали: они получаются в `Counter(words)`. Достаточно просто преобразовать их в вероятности и домножить эти вероятности на $\\frac 3 4$. Почему $\\frac 3 4$? Некоторую интуицию можно найти в следующем примере:\n",
        "\n",
        "$$P(\\text{is}) = 0.9, \\ P(\\text{is})^{3/4} = 0.92$$\n",
        "$$P(\\text{Constitution}) = 0.09, \\ P(\\text{Constitution})^{3/4} = 0.16$$\n",
        "$$P(\\text{bombastic}) = 0.01, \\ P(\\text{bombastic})^{3/4} = 0.032$$\n",
        "\n",
        "Вероятность для высокочастотных слов особо не увеличилась (относительно), зато низкочастотные будут выпадать с заметно большей вероятностей.\n",
        "\n",
        "**Задание** Реализуйте свой Negative Sampling.\n",
        "\n",
        "Для начала зададим распределение для сэмплирования:"
      ]
    },
    {
      "metadata": {
        "id": "zcX4vRBLlXy6",
        "colab_type": "code",
        "outputId": "9b4493b6-47df-4739-eb60-046d0cde18a2",
        "colab": {
          "base_uri": "https://localhost:8080/",
          "height": 580
        }
      },
      "cell_type": "code",
      "source": [
        "words_sum_count = sum(words_counter.values())\n",
        "word_distribution = np.array([(words_counter[word] / words_sum_count) ** (3 / 4) for word in index2word])\n",
        "# Вообще-то, тут нечестно сделанно, можно лучше\n",
        "word_distribution /= word_distribution.sum()\n",
        "\n",
        "indices = np.arange(len(word_distribution))\n",
        "\n",
        "np.random.choice(indices, p=word_distribution, size=(32, 5))"
      ],
      "execution_count": 0,
      "outputs": [
        {
          "output_type": "execute_result",
          "data": {
            "text/plain": [
              "array([[  306, 18182,  3954,  1713,    21],\n",
              "       [   21,     5,  9537,  1740,  3407],\n",
              "       [    1, 21520,  7568,    46,    31],\n",
              "       [   31,   142,  1038,   512,   121],\n",
              "       [ 1866,    17,   122,   282,   623],\n",
              "       [ 5549,    39,   964,  1644,     3],\n",
              "       [ 1815,    26,     5, 17908, 20712],\n",
              "       [ 6453,   142,     9,  2940,   548],\n",
              "       [   13,   840,     2, 13055,    81],\n",
              "       [ 2570,   155,  1004,  1209,    32],\n",
              "       [21459,  5201, 16561, 11716,  1704],\n",
              "       [14382,     8,    37,     3,   182],\n",
              "       [  350,    94,  7382,   255,   106],\n",
              "       [ 1176,    17,  6197,     7, 25218],\n",
              "       [ 5106,    38,     1,  6760,  3382],\n",
              "       [ 3881,  5074,     7,   260,    12],\n",
              "       [ 9334,  2007,   194,     5,   154],\n",
              "       [  182,  3895,  2197, 11082,   707],\n",
              "       [   13,  3518,  4743,  1335,  5064],\n",
              "       [  831,  1023,   493,     2,    11],\n",
              "       [    2,  2181,   160,   926, 12882],\n",
              "       [   72,   426,  4587,    56,     7],\n",
              "       [  118,    23, 15298,  6441,  2140],\n",
              "       [ 9899,  6257,    33, 11522,  1149],\n",
              "       [ 6413, 11825,   167,    11,    55],\n",
              "       [  492,  6874,  9182,     1,   940],\n",
              "       [  453,    52,    13,   208, 17036],\n",
              "       [  178,   995,  3302,   274, 21884],\n",
              "       [20131,    74,   853,   136,   112],\n",
              "       [    3,  1838,   887,     4,   103],\n",
              "       [12951,    64,    18,   805, 24928],\n",
              "       [   66,  2728,  4769,    62,  3862]])"
            ]
          },
          "metadata": {
            "tags": []
          },
          "execution_count": 11
        }
      ]
    },
    {
      "metadata": {
        "id": "_o2pzsue16Lu",
        "colab_type": "code",
        "colab": {}
      },
      "cell_type": "code",
      "source": [
        "class NegativeSamplingModel(nn.Module):\n",
        "    def __init__(self, vocab_size, embedding_dim):\n",
        "        super().__init__()\n",
        "        \n",
        "        self.embeddings = nn.Embedding(vocab_size, embedding_dim)\n",
        "        self.out_layer = nn.Linear(embedding_dim, vocab_size)\n",
        "\n",
        "    def forward(self, inputs, targets, num_samples):\n",
        "        '''\n",
        "        inputs: (batch_size, context_size)\n",
        "        targets: (batch_size)\n",
        "        num_samples: int\n",
        "        '''\n",
        "        u = self.embeddings(inputs)  # (batch_size, cont_size, emb_size)        \n",
        "        u_sum = torch.sum(u, dim=1)  # (batch_size, emb_size)\n",
        "        v_weight = self.out_layer.weight  # (vocab_size, emb_size)\n",
        "        v = v_weight.index_select(0, targets)  # (batch_size, emb_size)\n",
        "        c_out = torch.sum(u_sum * v, dim=1).unsqueeze(1) # (batch_size, 1)\n",
        "        \n",
        "#         ---~3 sec\n",
        "        \n",
        "#         sample_indices = np.array([np.random.choice(indices, p=word_distribution, size=num_samples) for _ in range(u.shape[0])])\n",
        "#         ----~11 sec\n",
        "        sample_indices = torch.cuda.LongTensor(np.random.choice(indices, p=word_distribution, size=num_samples))\n",
        "        neg_v_w = v_weight.index_select(0, sample_indices)  # (num_samples, emb_dim)\n",
        "#         print(neg_v_w.shape)\n",
        "        out = -torch.mm(u_sum, neg_v_w.t())  # (batch_size, num_samples)\n",
        "        outputs = torch.cat((c_out, out), dim=1)  # (batch_size, num_samples + 1)\n",
        "        loss = -torch.sum(F.logsigmoid(outputs)) / outputs.shape[0]\n",
        "        return outputs, loss"
      ],
      "execution_count": 0,
      "outputs": []
    },
    {
      "metadata": {
        "id": "6wz2iRanqzlq",
        "colab_type": "code",
        "outputId": "81046966-b178-4864-f93e-8a0e7bba1d17",
        "colab": {
          "base_uri": "https://localhost:8080/",
          "height": 3036
        }
      },
      "cell_type": "code",
      "source": [
        "model = NegativeSamplingModel(vocab_size=len(word2index), embedding_dim=32).cuda()\n",
        "optimizer = optim.Adam(model.parameters(), lr=0.001)  \n",
        "# optimizer = optim.Adagrad(model.parameters(), lr=0.01, lr_decay=0.001) \n",
        "\n",
        "loss_every_nsteps = 1000\n",
        "total_loss = 0\n",
        "start_time = time.time()\n",
        "\n",
        "for step, (batch, labels) in enumerate(make_cbow_batchs_iter(contexts, window_size=2, batch_size=128)):\n",
        "    batch = torch.cuda.LongTensor(batch)\n",
        "    labels = torch.cuda.LongTensor(labels)\n",
        "    logits, loss = model.forward(batch, labels, 5)\n",
        "    \n",
        "    loss.backward()\n",
        "    optimizer.step()\n",
        "    optimizer.zero_grad()\n",
        "\n",
        "    total_loss += loss.item()\n",
        "    \n",
        "    if step != 0 and step % loss_every_nsteps == 0:\n",
        "        print(\"Step = {}, Avg Loss = {:.4f}, Time = {:.2f}s\".format(step, total_loss / loss_every_nsteps, \n",
        "                                                                    time.time() - start_time))\n",
        "        total_loss = 0\n",
        "        start_time = time.time()"
      ],
      "execution_count": 0,
      "outputs": [
        {
          "output_type": "stream",
          "text": [
            "Initializing batchs generator with 36902 batchs per epoch\n",
            "Step = 1000, Avg Loss = 4.7531, Time = 9.62s\n",
            "Step = 2000, Avg Loss = 4.3970, Time = 4.33s\n",
            "Step = 3000, Avg Loss = 4.2079, Time = 4.33s\n",
            "Step = 4000, Avg Loss = 4.0710, Time = 4.33s\n",
            "Step = 5000, Avg Loss = 3.9556, Time = 4.33s\n",
            "Step = 6000, Avg Loss = 3.8147, Time = 4.34s\n",
            "Step = 7000, Avg Loss = 3.7683, Time = 4.34s\n",
            "Step = 8000, Avg Loss = 3.6700, Time = 4.34s\n",
            "Step = 9000, Avg Loss = 3.6496, Time = 4.33s\n",
            "Step = 10000, Avg Loss = 3.6177, Time = 4.35s\n",
            "Step = 11000, Avg Loss = 3.5847, Time = 4.34s\n",
            "Step = 12000, Avg Loss = 3.4844, Time = 4.34s\n",
            "Step = 13000, Avg Loss = 3.4350, Time = 4.34s\n",
            "Step = 14000, Avg Loss = 3.4428, Time = 4.39s\n",
            "Step = 15000, Avg Loss = 3.4162, Time = 4.47s\n",
            "Step = 16000, Avg Loss = 3.3753, Time = 4.46s\n",
            "Step = 17000, Avg Loss = 3.2631, Time = 4.49s\n",
            "Step = 18000, Avg Loss = 3.3035, Time = 4.38s\n",
            "Step = 19000, Avg Loss = 3.2882, Time = 4.34s\n",
            "Step = 20000, Avg Loss = 3.2938, Time = 4.33s\n",
            "Step = 21000, Avg Loss = 3.3327, Time = 4.34s\n",
            "Step = 22000, Avg Loss = 3.2342, Time = 4.34s\n",
            "Step = 23000, Avg Loss = 3.2875, Time = 4.34s\n",
            "Step = 24000, Avg Loss = 3.2112, Time = 4.35s\n",
            "Step = 25000, Avg Loss = 3.2070, Time = 4.34s\n",
            "Step = 26000, Avg Loss = 3.1634, Time = 4.35s\n",
            "Step = 27000, Avg Loss = 3.1131, Time = 4.33s\n",
            "Step = 28000, Avg Loss = 3.1591, Time = 4.34s\n",
            "Step = 29000, Avg Loss = 3.1351, Time = 4.34s\n",
            "Step = 30000, Avg Loss = 3.1307, Time = 4.34s\n",
            "Step = 31000, Avg Loss = 3.1195, Time = 4.33s\n",
            "Step = 32000, Avg Loss = 3.1420, Time = 4.33s\n",
            "Step = 33000, Avg Loss = 3.1284, Time = 4.34s\n",
            "Step = 34000, Avg Loss = 3.1103, Time = 4.33s\n",
            "Step = 35000, Avg Loss = 3.1381, Time = 4.33s\n",
            "Step = 36000, Avg Loss = 3.1063, Time = 4.34s\n",
            "Step = 37000, Avg Loss = 3.0541, Time = 4.52s\n",
            "Step = 38000, Avg Loss = 3.0604, Time = 4.33s\n",
            "Step = 39000, Avg Loss = 3.0405, Time = 4.33s\n",
            "Step = 40000, Avg Loss = 3.0016, Time = 4.33s\n",
            "Step = 41000, Avg Loss = 3.0397, Time = 4.36s\n",
            "Step = 42000, Avg Loss = 2.9996, Time = 4.35s\n",
            "Step = 43000, Avg Loss = 3.0115, Time = 4.34s\n",
            "Step = 44000, Avg Loss = 2.9396, Time = 4.33s\n",
            "Step = 45000, Avg Loss = 3.0377, Time = 4.32s\n",
            "Step = 46000, Avg Loss = 3.0354, Time = 4.33s\n",
            "Step = 47000, Avg Loss = 2.9864, Time = 4.34s\n",
            "Step = 48000, Avg Loss = 2.9717, Time = 4.34s\n",
            "Step = 49000, Avg Loss = 3.0238, Time = 4.33s\n",
            "Step = 50000, Avg Loss = 3.0356, Time = 4.33s\n",
            "Step = 51000, Avg Loss = 2.9803, Time = 4.34s\n",
            "Step = 52000, Avg Loss = 2.9484, Time = 4.34s\n",
            "Step = 53000, Avg Loss = 3.0251, Time = 4.33s\n",
            "Step = 54000, Avg Loss = 3.0066, Time = 4.33s\n",
            "Step = 55000, Avg Loss = 3.0108, Time = 4.35s\n",
            "Step = 56000, Avg Loss = 2.9582, Time = 4.33s\n",
            "Step = 57000, Avg Loss = 2.9754, Time = 4.33s\n",
            "Step = 58000, Avg Loss = 3.0251, Time = 4.35s\n",
            "Step = 59000, Avg Loss = 2.9104, Time = 4.33s\n",
            "Step = 60000, Avg Loss = 2.9715, Time = 4.33s\n",
            "Step = 61000, Avg Loss = 2.9802, Time = 4.35s\n",
            "Step = 62000, Avg Loss = 2.9684, Time = 4.33s\n",
            "Step = 63000, Avg Loss = 3.0077, Time = 4.34s\n",
            "Step = 64000, Avg Loss = 2.9332, Time = 4.34s\n",
            "Step = 65000, Avg Loss = 2.9116, Time = 4.35s\n",
            "Step = 66000, Avg Loss = 2.9166, Time = 4.34s\n",
            "Step = 67000, Avg Loss = 2.9872, Time = 4.34s\n",
            "Step = 68000, Avg Loss = 2.9874, Time = 4.34s\n",
            "Step = 69000, Avg Loss = 2.9411, Time = 4.35s\n",
            "Step = 70000, Avg Loss = 2.9367, Time = 4.34s\n",
            "Step = 71000, Avg Loss = 2.9527, Time = 4.34s\n",
            "Step = 72000, Avg Loss = 2.8323, Time = 4.33s\n",
            "Step = 73000, Avg Loss = 2.9142, Time = 4.33s\n",
            "Step = 74000, Avg Loss = 3.0181, Time = 4.54s\n",
            "Step = 75000, Avg Loss = 2.9654, Time = 4.34s\n",
            "Step = 76000, Avg Loss = 2.8913, Time = 4.34s\n",
            "Step = 77000, Avg Loss = 2.9421, Time = 4.35s\n",
            "Step = 78000, Avg Loss = 2.9530, Time = 4.34s\n",
            "Step = 79000, Avg Loss = 2.9070, Time = 4.34s\n",
            "Step = 80000, Avg Loss = 2.9221, Time = 4.33s\n",
            "Step = 81000, Avg Loss = 2.8947, Time = 4.35s\n",
            "Step = 82000, Avg Loss = 2.8736, Time = 4.35s\n",
            "Step = 83000, Avg Loss = 2.8880, Time = 4.34s\n",
            "Step = 84000, Avg Loss = 2.9135, Time = 4.33s\n",
            "Step = 85000, Avg Loss = 2.8346, Time = 4.34s\n",
            "Step = 86000, Avg Loss = 2.8997, Time = 4.45s\n",
            "Step = 87000, Avg Loss = 2.8996, Time = 4.47s\n",
            "Step = 88000, Avg Loss = 2.8973, Time = 4.47s\n",
            "Step = 89000, Avg Loss = 2.8866, Time = 4.44s\n",
            "Step = 90000, Avg Loss = 2.9067, Time = 4.34s\n",
            "Step = 91000, Avg Loss = 2.8415, Time = 4.34s\n",
            "Step = 92000, Avg Loss = 2.9438, Time = 4.35s\n",
            "Step = 93000, Avg Loss = 2.9449, Time = 4.35s\n",
            "Step = 94000, Avg Loss = 2.9005, Time = 4.35s\n",
            "Step = 95000, Avg Loss = 2.8947, Time = 4.35s\n",
            "Step = 96000, Avg Loss = 2.9730, Time = 4.34s\n",
            "Step = 97000, Avg Loss = 2.8699, Time = 4.36s\n",
            "Step = 98000, Avg Loss = 2.8713, Time = 4.33s\n",
            "Step = 99000, Avg Loss = 2.8590, Time = 4.33s\n",
            "Step = 100000, Avg Loss = 2.9009, Time = 4.31s\n",
            "Step = 101000, Avg Loss = 2.9126, Time = 4.33s\n",
            "Step = 102000, Avg Loss = 2.8607, Time = 4.33s\n",
            "Step = 103000, Avg Loss = 2.9093, Time = 4.33s\n",
            "Step = 104000, Avg Loss = 2.9964, Time = 4.34s\n",
            "Step = 105000, Avg Loss = 2.9293, Time = 4.35s\n",
            "Step = 106000, Avg Loss = 2.9265, Time = 4.36s\n",
            "Step = 107000, Avg Loss = 2.8268, Time = 4.34s\n",
            "Step = 108000, Avg Loss = 2.9412, Time = 4.33s\n",
            "Step = 109000, Avg Loss = 2.9145, Time = 4.34s\n",
            "Step = 110000, Avg Loss = 2.9061, Time = 4.34s\n",
            "Step = 111000, Avg Loss = 2.9114, Time = 4.55s\n",
            "Step = 112000, Avg Loss = 2.9113, Time = 4.33s\n",
            "Step = 113000, Avg Loss = 2.8875, Time = 4.33s\n",
            "Step = 114000, Avg Loss = 2.9361, Time = 4.34s\n",
            "Step = 115000, Avg Loss = 2.8589, Time = 4.33s\n",
            "Step = 116000, Avg Loss = 2.8656, Time = 4.34s\n",
            "Step = 117000, Avg Loss = 2.8667, Time = 4.33s\n",
            "Step = 118000, Avg Loss = 2.9030, Time = 4.34s\n",
            "Step = 119000, Avg Loss = 2.8327, Time = 4.33s\n",
            "Step = 120000, Avg Loss = 2.8657, Time = 4.34s\n",
            "Step = 121000, Avg Loss = 2.8534, Time = 4.33s\n",
            "Step = 122000, Avg Loss = 2.8770, Time = 4.35s\n",
            "Step = 123000, Avg Loss = 2.9419, Time = 4.35s\n",
            "Step = 124000, Avg Loss = 2.9198, Time = 4.34s\n",
            "Step = 125000, Avg Loss = 2.9602, Time = 4.35s\n",
            "Step = 126000, Avg Loss = 2.8814, Time = 4.33s\n",
            "Step = 127000, Avg Loss = 2.8978, Time = 4.39s\n",
            "Step = 128000, Avg Loss = 2.9273, Time = 4.33s\n",
            "Step = 129000, Avg Loss = 2.9019, Time = 4.33s\n",
            "Step = 130000, Avg Loss = 2.9482, Time = 4.35s\n",
            "Step = 131000, Avg Loss = 2.8883, Time = 4.34s\n",
            "Step = 132000, Avg Loss = 2.9147, Time = 4.34s\n",
            "Step = 133000, Avg Loss = 2.8810, Time = 4.33s\n",
            "Step = 134000, Avg Loss = 2.9381, Time = 4.34s\n",
            "Step = 135000, Avg Loss = 2.9525, Time = 4.34s\n",
            "Step = 136000, Avg Loss = 2.8897, Time = 4.35s\n",
            "Step = 137000, Avg Loss = 2.9243, Time = 4.35s\n",
            "Step = 138000, Avg Loss = 2.9024, Time = 4.34s\n",
            "Step = 139000, Avg Loss = 2.8681, Time = 4.35s\n",
            "Step = 140000, Avg Loss = 2.8965, Time = 4.35s\n",
            "Step = 141000, Avg Loss = 2.9521, Time = 4.33s\n",
            "Step = 142000, Avg Loss = 2.8961, Time = 4.33s\n",
            "Step = 143000, Avg Loss = 2.8897, Time = 4.33s\n",
            "Step = 144000, Avg Loss = 2.8719, Time = 4.35s\n"
          ],
          "name": "stdout"
        },
        {
          "output_type": "error",
          "ename": "KeyboardInterrupt",
          "evalue": "ignored",
          "traceback": [
            "\u001b[0;31m---------------------------------------------------------------------------\u001b[0m",
            "\u001b[0;31mKeyboardInterrupt\u001b[0m                         Traceback (most recent call last)",
            "\u001b[0;32m<ipython-input-21-e1dbc1ac2547>\u001b[0m in \u001b[0;36m<module>\u001b[0;34m()\u001b[0m\n\u001b[1;32m     12\u001b[0m     \u001b[0mlogits\u001b[0m\u001b[0;34m,\u001b[0m \u001b[0mloss\u001b[0m \u001b[0;34m=\u001b[0m \u001b[0mmodel\u001b[0m\u001b[0;34m.\u001b[0m\u001b[0mforward\u001b[0m\u001b[0;34m(\u001b[0m\u001b[0mbatch\u001b[0m\u001b[0;34m,\u001b[0m \u001b[0mlabels\u001b[0m\u001b[0;34m,\u001b[0m \u001b[0;36m5\u001b[0m\u001b[0;34m)\u001b[0m\u001b[0;34m\u001b[0m\u001b[0m\n\u001b[1;32m     13\u001b[0m \u001b[0;34m\u001b[0m\u001b[0m\n\u001b[0;32m---> 14\u001b[0;31m     \u001b[0mloss\u001b[0m\u001b[0;34m.\u001b[0m\u001b[0mbackward\u001b[0m\u001b[0;34m(\u001b[0m\u001b[0;34m)\u001b[0m\u001b[0;34m\u001b[0m\u001b[0m\n\u001b[0m\u001b[1;32m     15\u001b[0m     \u001b[0moptimizer\u001b[0m\u001b[0;34m.\u001b[0m\u001b[0mstep\u001b[0m\u001b[0;34m(\u001b[0m\u001b[0;34m)\u001b[0m\u001b[0;34m\u001b[0m\u001b[0m\n\u001b[1;32m     16\u001b[0m     \u001b[0moptimizer\u001b[0m\u001b[0;34m.\u001b[0m\u001b[0mzero_grad\u001b[0m\u001b[0;34m(\u001b[0m\u001b[0;34m)\u001b[0m\u001b[0;34m\u001b[0m\u001b[0m\n",
            "\u001b[0;32m/usr/local/lib/python3.6/dist-packages/torch/tensor.py\u001b[0m in \u001b[0;36mbackward\u001b[0;34m(self, gradient, retain_graph, create_graph)\u001b[0m\n\u001b[1;32m     91\u001b[0m                 \u001b[0mproducts\u001b[0m\u001b[0;34m.\u001b[0m \u001b[0mDefaults\u001b[0m \u001b[0mto\u001b[0m\u001b[0;31m \u001b[0m\u001b[0;31m`\u001b[0m\u001b[0;31m`\u001b[0m\u001b[0;32mFalse\u001b[0m\u001b[0;31m`\u001b[0m\u001b[0;31m`\u001b[0m\u001b[0;34m.\u001b[0m\u001b[0;34m\u001b[0m\u001b[0m\n\u001b[1;32m     92\u001b[0m         \"\"\"\n\u001b[0;32m---> 93\u001b[0;31m         \u001b[0mtorch\u001b[0m\u001b[0;34m.\u001b[0m\u001b[0mautograd\u001b[0m\u001b[0;34m.\u001b[0m\u001b[0mbackward\u001b[0m\u001b[0;34m(\u001b[0m\u001b[0mself\u001b[0m\u001b[0;34m,\u001b[0m \u001b[0mgradient\u001b[0m\u001b[0;34m,\u001b[0m \u001b[0mretain_graph\u001b[0m\u001b[0;34m,\u001b[0m \u001b[0mcreate_graph\u001b[0m\u001b[0;34m)\u001b[0m\u001b[0;34m\u001b[0m\u001b[0m\n\u001b[0m\u001b[1;32m     94\u001b[0m \u001b[0;34m\u001b[0m\u001b[0m\n\u001b[1;32m     95\u001b[0m     \u001b[0;32mdef\u001b[0m \u001b[0mregister_hook\u001b[0m\u001b[0;34m(\u001b[0m\u001b[0mself\u001b[0m\u001b[0;34m,\u001b[0m \u001b[0mhook\u001b[0m\u001b[0;34m)\u001b[0m\u001b[0;34m:\u001b[0m\u001b[0;34m\u001b[0m\u001b[0m\n",
            "\u001b[0;32m/usr/local/lib/python3.6/dist-packages/torch/autograd/__init__.py\u001b[0m in \u001b[0;36mbackward\u001b[0;34m(tensors, grad_tensors, retain_graph, create_graph, grad_variables)\u001b[0m\n\u001b[1;32m     88\u001b[0m     Variable._execution_engine.run_backward(\n\u001b[1;32m     89\u001b[0m         \u001b[0mtensors\u001b[0m\u001b[0;34m,\u001b[0m \u001b[0mgrad_tensors\u001b[0m\u001b[0;34m,\u001b[0m \u001b[0mretain_graph\u001b[0m\u001b[0;34m,\u001b[0m \u001b[0mcreate_graph\u001b[0m\u001b[0;34m,\u001b[0m\u001b[0;34m\u001b[0m\u001b[0m\n\u001b[0;32m---> 90\u001b[0;31m         allow_unreachable=True)  # allow_unreachable flag\n\u001b[0m\u001b[1;32m     91\u001b[0m \u001b[0;34m\u001b[0m\u001b[0m\n\u001b[1;32m     92\u001b[0m \u001b[0;34m\u001b[0m\u001b[0m\n",
            "\u001b[0;31mKeyboardInterrupt\u001b[0m: "
          ]
        }
      ]
    },
    {
      "metadata": {
        "id": "DL-FAP28mfP7",
        "colab_type": "code",
        "colab": {}
      },
      "cell_type": "code",
      "source": [
        "embeddings = model.embeddings.weight.cpu().data.numpy()"
      ],
      "execution_count": 0,
      "outputs": []
    },
    {
      "metadata": {
        "id": "CFik_6djvg3F",
        "colab_type": "code",
        "outputId": "a69b58d3-14c0-4173-d652-341a971cee07",
        "colab": {
          "base_uri": "https://localhost:8080/",
          "height": 995
        }
      },
      "cell_type": "code",
      "source": [
        "visualize_embeddings(embeddings, index2word, 1000)"
      ],
      "execution_count": 0,
      "outputs": [
        {
          "output_type": "stream",
          "text": [
            "[t-SNE] Computing 91 nearest neighbors...\n",
            "[t-SNE] Indexed 1000 samples in 0.001s...\n",
            "[t-SNE] Computed neighbors for 1000 samples in 0.101s...\n",
            "[t-SNE] Computed conditional probabilities for sample 1000 / 1000\n",
            "[t-SNE] Mean sigma: 0.702050\n",
            "[t-SNE] Computed conditional probabilities in 0.050s\n",
            "[t-SNE] Iteration 50: error = 77.6514969, gradient norm = 0.3406288 (50 iterations in 2.684s)\n",
            "[t-SNE] Iteration 100: error = 80.1506271, gradient norm = 0.3022102 (50 iterations in 2.570s)\n",
            "[t-SNE] Iteration 150: error = 80.4417877, gradient norm = 0.3085726 (50 iterations in 2.515s)\n",
            "[t-SNE] Iteration 200: error = 80.8766708, gradient norm = 0.3065920 (50 iterations in 2.449s)\n",
            "[t-SNE] Iteration 250: error = 82.4396820, gradient norm = 0.2632923 (50 iterations in 2.427s)\n",
            "[t-SNE] KL divergence after 250 iterations with early exaggeration: 82.439682\n",
            "[t-SNE] Iteration 300: error = 1.9377933, gradient norm = 0.0036200 (50 iterations in 1.861s)\n",
            "[t-SNE] Iteration 350: error = 1.8386418, gradient norm = 0.0010196 (50 iterations in 1.718s)\n",
            "[t-SNE] Iteration 400: error = 1.7918983, gradient norm = 0.0004748 (50 iterations in 1.978s)\n",
            "[t-SNE] Iteration 450: error = 1.7707584, gradient norm = 0.0002973 (50 iterations in 1.920s)\n",
            "[t-SNE] Iteration 500: error = 1.7605084, gradient norm = 0.0002360 (50 iterations in 1.690s)\n",
            "[t-SNE] Iteration 550: error = 1.7498109, gradient norm = 0.0001911 (50 iterations in 1.650s)\n",
            "[t-SNE] Iteration 600: error = 1.7437178, gradient norm = 0.0001798 (50 iterations in 1.700s)\n",
            "[t-SNE] Iteration 650: error = 1.7383484, gradient norm = 0.0002314 (50 iterations in 1.661s)\n",
            "[t-SNE] Iteration 700: error = 1.7335646, gradient norm = 0.0001684 (50 iterations in 1.681s)\n",
            "[t-SNE] Iteration 750: error = 1.7271621, gradient norm = 0.0001987 (50 iterations in 1.675s)\n",
            "[t-SNE] Iteration 800: error = 1.7232065, gradient norm = 0.0001336 (50 iterations in 1.671s)\n",
            "[t-SNE] Iteration 850: error = 1.7196593, gradient norm = 0.0001734 (50 iterations in 1.706s)\n",
            "[t-SNE] Iteration 900: error = 1.7173948, gradient norm = 0.0001211 (50 iterations in 1.686s)\n",
            "[t-SNE] Iteration 950: error = 1.7163104, gradient norm = 0.0000855 (50 iterations in 1.719s)\n",
            "[t-SNE] Iteration 1000: error = 1.7142289, gradient norm = 0.0003535 (50 iterations in 1.700s)\n",
            "[t-SNE] Error after 1000 iterations: 1.714229\n"
          ],
          "name": "stdout"
        },
        {
          "output_type": "stream",
          "text": [
            "/usr/local/lib/python3.6/dist-packages/sklearn/preprocessing/data.py:164: UserWarning: Numerical issues were encountered when centering the data and might not be solved. Dataset may contain too large values. You may need to prescale your features.\n",
            "  warnings.warn(\"Numerical issues were encountered \"\n"
          ],
          "name": "stderr"
        },
        {
          "output_type": "display_data",
          "data": {
            "text/html": [
              "\n",
              "    <div class=\"bk-root\">\n",
              "        <a href=\"https://bokeh.pydata.org\" target=\"_blank\" class=\"bk-logo bk-logo-small bk-logo-notebook\"></a>\n",
              "        <span id=\"9857ef57-8e4e-4d6b-98c6-fadf11a8b31b\">Loading BokehJS ...</span>\n",
              "    </div>"
            ]
          },
          "metadata": {
            "tags": []
          }
        },
        {
          "output_type": "display_data",
          "data": {
            "application/javascript": [
              "\n",
              "(function(root) {\n",
              "  function now() {\n",
              "    return new Date();\n",
              "  }\n",
              "\n",
              "  var force = true;\n",
              "\n",
              "  if (typeof (root._bokeh_onload_callbacks) === \"undefined\" || force === true) {\n",
              "    root._bokeh_onload_callbacks = [];\n",
              "    root._bokeh_is_loading = undefined;\n",
              "  }\n",
              "\n",
              "  var JS_MIME_TYPE = 'application/javascript';\n",
              "  var HTML_MIME_TYPE = 'text/html';\n",
              "  var EXEC_MIME_TYPE = 'application/vnd.bokehjs_exec.v0+json';\n",
              "  var CLASS_NAME = 'output_bokeh rendered_html';\n",
              "\n",
              "  /**\n",
              "   * Render data to the DOM node\n",
              "   */\n",
              "  function render(props, node) {\n",
              "    var script = document.createElement(\"script\");\n",
              "    node.appendChild(script);\n",
              "  }\n",
              "\n",
              "  /**\n",
              "   * Handle when an output is cleared or removed\n",
              "   */\n",
              "  function handleClearOutput(event, handle) {\n",
              "    var cell = handle.cell;\n",
              "\n",
              "    var id = cell.output_area._bokeh_element_id;\n",
              "    var server_id = cell.output_area._bokeh_server_id;\n",
              "    // Clean up Bokeh references\n",
              "    if (id != null && id in Bokeh.index) {\n",
              "      Bokeh.index[id].model.document.clear();\n",
              "      delete Bokeh.index[id];\n",
              "    }\n",
              "\n",
              "    if (server_id !== undefined) {\n",
              "      // Clean up Bokeh references\n",
              "      var cmd = \"from bokeh.io.state import curstate; print(curstate().uuid_to_server['\" + server_id + \"'].get_sessions()[0].document.roots[0]._id)\";\n",
              "      cell.notebook.kernel.execute(cmd, {\n",
              "        iopub: {\n",
              "          output: function(msg) {\n",
              "            var id = msg.content.text.trim();\n",
              "            if (id in Bokeh.index) {\n",
              "              Bokeh.index[id].model.document.clear();\n",
              "              delete Bokeh.index[id];\n",
              "            }\n",
              "          }\n",
              "        }\n",
              "      });\n",
              "      // Destroy server and session\n",
              "      var cmd = \"import bokeh.io.notebook as ion; ion.destroy_server('\" + server_id + \"')\";\n",
              "      cell.notebook.kernel.execute(cmd);\n",
              "    }\n",
              "  }\n",
              "\n",
              "  /**\n",
              "   * Handle when a new output is added\n",
              "   */\n",
              "  function handleAddOutput(event, handle) {\n",
              "    var output_area = handle.output_area;\n",
              "    var output = handle.output;\n",
              "\n",
              "    // limit handleAddOutput to display_data with EXEC_MIME_TYPE content only\n",
              "    if ((output.output_type != \"display_data\") || (!output.data.hasOwnProperty(EXEC_MIME_TYPE))) {\n",
              "      return\n",
              "    }\n",
              "\n",
              "    var toinsert = output_area.element.find(\".\" + CLASS_NAME.split(' ')[0]);\n",
              "\n",
              "    if (output.metadata[EXEC_MIME_TYPE][\"id\"] !== undefined) {\n",
              "      toinsert[toinsert.length - 1].firstChild.textContent = output.data[JS_MIME_TYPE];\n",
              "      // store reference to embed id on output_area\n",
              "      output_area._bokeh_element_id = output.metadata[EXEC_MIME_TYPE][\"id\"];\n",
              "    }\n",
              "    if (output.metadata[EXEC_MIME_TYPE][\"server_id\"] !== undefined) {\n",
              "      var bk_div = document.createElement(\"div\");\n",
              "      bk_div.innerHTML = output.data[HTML_MIME_TYPE];\n",
              "      var script_attrs = bk_div.children[0].attributes;\n",
              "      for (var i = 0; i < script_attrs.length; i++) {\n",
              "        toinsert[toinsert.length - 1].firstChild.setAttribute(script_attrs[i].name, script_attrs[i].value);\n",
              "      }\n",
              "      // store reference to server id on output_area\n",
              "      output_area._bokeh_server_id = output.metadata[EXEC_MIME_TYPE][\"server_id\"];\n",
              "    }\n",
              "  }\n",
              "\n",
              "  function register_renderer(events, OutputArea) {\n",
              "\n",
              "    function append_mime(data, metadata, element) {\n",
              "      // create a DOM node to render to\n",
              "      var toinsert = this.create_output_subarea(\n",
              "        metadata,\n",
              "        CLASS_NAME,\n",
              "        EXEC_MIME_TYPE\n",
              "      );\n",
              "      this.keyboard_manager.register_events(toinsert);\n",
              "      // Render to node\n",
              "      var props = {data: data, metadata: metadata[EXEC_MIME_TYPE]};\n",
              "      render(props, toinsert[toinsert.length - 1]);\n",
              "      element.append(toinsert);\n",
              "      return toinsert\n",
              "    }\n",
              "\n",
              "    /* Handle when an output is cleared or removed */\n",
              "    events.on('clear_output.CodeCell', handleClearOutput);\n",
              "    events.on('delete.Cell', handleClearOutput);\n",
              "\n",
              "    /* Handle when a new output is added */\n",
              "    events.on('output_added.OutputArea', handleAddOutput);\n",
              "\n",
              "    /**\n",
              "     * Register the mime type and append_mime function with output_area\n",
              "     */\n",
              "    OutputArea.prototype.register_mime_type(EXEC_MIME_TYPE, append_mime, {\n",
              "      /* Is output safe? */\n",
              "      safe: true,\n",
              "      /* Index of renderer in `output_area.display_order` */\n",
              "      index: 0\n",
              "    });\n",
              "  }\n",
              "\n",
              "  // register the mime type if in Jupyter Notebook environment and previously unregistered\n",
              "  if (root.Jupyter !== undefined) {\n",
              "    var events = require('base/js/events');\n",
              "    var OutputArea = require('notebook/js/outputarea').OutputArea;\n",
              "\n",
              "    if (OutputArea.prototype.mime_types().indexOf(EXEC_MIME_TYPE) == -1) {\n",
              "      register_renderer(events, OutputArea);\n",
              "    }\n",
              "  }\n",
              "\n",
              "  \n",
              "  if (typeof (root._bokeh_timeout) === \"undefined\" || force === true) {\n",
              "    root._bokeh_timeout = Date.now() + 5000;\n",
              "    root._bokeh_failed_load = false;\n",
              "  }\n",
              "\n",
              "  var NB_LOAD_WARNING = {'data': {'text/html':\n",
              "     \"<div style='background-color: #fdd'>\\n\"+\n",
              "     \"<p>\\n\"+\n",
              "     \"BokehJS does not appear to have successfully loaded. If loading BokehJS from CDN, this \\n\"+\n",
              "     \"may be due to a slow or bad network connection. Possible fixes:\\n\"+\n",
              "     \"</p>\\n\"+\n",
              "     \"<ul>\\n\"+\n",
              "     \"<li>re-rerun `output_notebook()` to attempt to load from CDN again, or</li>\\n\"+\n",
              "     \"<li>use INLINE resources instead, as so:</li>\\n\"+\n",
              "     \"</ul>\\n\"+\n",
              "     \"<code>\\n\"+\n",
              "     \"from bokeh.resources import INLINE\\n\"+\n",
              "     \"output_notebook(resources=INLINE)\\n\"+\n",
              "     \"</code>\\n\"+\n",
              "     \"</div>\"}};\n",
              "\n",
              "  function display_loaded() {\n",
              "    var el = document.getElementById(\"9857ef57-8e4e-4d6b-98c6-fadf11a8b31b\");\n",
              "    if (el != null) {\n",
              "      el.textContent = \"BokehJS is loading...\";\n",
              "    }\n",
              "    if (root.Bokeh !== undefined) {\n",
              "      if (el != null) {\n",
              "        el.textContent = \"BokehJS \" + root.Bokeh.version + \" successfully loaded.\";\n",
              "      }\n",
              "    } else if (Date.now() < root._bokeh_timeout) {\n",
              "      setTimeout(display_loaded, 100)\n",
              "    }\n",
              "  }\n",
              "\n",
              "\n",
              "  function run_callbacks() {\n",
              "    try {\n",
              "      root._bokeh_onload_callbacks.forEach(function(callback) { callback() });\n",
              "    }\n",
              "    finally {\n",
              "      delete root._bokeh_onload_callbacks\n",
              "    }\n",
              "    console.info(\"Bokeh: all callbacks have finished\");\n",
              "  }\n",
              "\n",
              "  function load_libs(js_urls, callback) {\n",
              "    root._bokeh_onload_callbacks.push(callback);\n",
              "    if (root._bokeh_is_loading > 0) {\n",
              "      console.log(\"Bokeh: BokehJS is being loaded, scheduling callback at\", now());\n",
              "      return null;\n",
              "    }\n",
              "    if (js_urls == null || js_urls.length === 0) {\n",
              "      run_callbacks();\n",
              "      return null;\n",
              "    }\n",
              "    console.log(\"Bokeh: BokehJS not loaded, scheduling load and callback at\", now());\n",
              "    root._bokeh_is_loading = js_urls.length;\n",
              "    for (var i = 0; i < js_urls.length; i++) {\n",
              "      var url = js_urls[i];\n",
              "      var s = document.createElement('script');\n",
              "      s.src = url;\n",
              "      s.async = false;\n",
              "      s.onreadystatechange = s.onload = function() {\n",
              "        root._bokeh_is_loading--;\n",
              "        if (root._bokeh_is_loading === 0) {\n",
              "          console.log(\"Bokeh: all BokehJS libraries loaded\");\n",
              "          run_callbacks()\n",
              "        }\n",
              "      };\n",
              "      s.onerror = function() {\n",
              "        console.warn(\"failed to load library \" + url);\n",
              "      };\n",
              "      console.log(\"Bokeh: injecting script tag for BokehJS library: \", url);\n",
              "      document.getElementsByTagName(\"head\")[0].appendChild(s);\n",
              "    }\n",
              "  };var element = document.getElementById(\"9857ef57-8e4e-4d6b-98c6-fadf11a8b31b\");\n",
              "  if (element == null) {\n",
              "    console.log(\"Bokeh: ERROR: autoload.js configured with elementid '9857ef57-8e4e-4d6b-98c6-fadf11a8b31b' but no matching script tag was found. \")\n",
              "    return false;\n",
              "  }\n",
              "\n",
              "  var js_urls = [\"https://cdn.pydata.org/bokeh/release/bokeh-0.13.0.min.js\", \"https://cdn.pydata.org/bokeh/release/bokeh-widgets-0.13.0.min.js\", \"https://cdn.pydata.org/bokeh/release/bokeh-tables-0.13.0.min.js\", \"https://cdn.pydata.org/bokeh/release/bokeh-gl-0.13.0.min.js\"];\n",
              "\n",
              "  var inline_js = [\n",
              "    function(Bokeh) {\n",
              "      Bokeh.set_log_level(\"info\");\n",
              "    },\n",
              "    \n",
              "    function(Bokeh) {\n",
              "      \n",
              "    },\n",
              "    function(Bokeh) {\n",
              "      console.log(\"Bokeh: injecting CSS: https://cdn.pydata.org/bokeh/release/bokeh-0.13.0.min.css\");\n",
              "      Bokeh.embed.inject_css(\"https://cdn.pydata.org/bokeh/release/bokeh-0.13.0.min.css\");\n",
              "      console.log(\"Bokeh: injecting CSS: https://cdn.pydata.org/bokeh/release/bokeh-widgets-0.13.0.min.css\");\n",
              "      Bokeh.embed.inject_css(\"https://cdn.pydata.org/bokeh/release/bokeh-widgets-0.13.0.min.css\");\n",
              "      console.log(\"Bokeh: injecting CSS: https://cdn.pydata.org/bokeh/release/bokeh-tables-0.13.0.min.css\");\n",
              "      Bokeh.embed.inject_css(\"https://cdn.pydata.org/bokeh/release/bokeh-tables-0.13.0.min.css\");\n",
              "    }\n",
              "  ];\n",
              "\n",
              "  function run_inline_js() {\n",
              "    \n",
              "    if ((root.Bokeh !== undefined) || (force === true)) {\n",
              "      for (var i = 0; i < inline_js.length; i++) {\n",
              "        inline_js[i].call(root, root.Bokeh);\n",
              "      }if (force === true) {\n",
              "        display_loaded();\n",
              "      }} else if (Date.now() < root._bokeh_timeout) {\n",
              "      setTimeout(run_inline_js, 100);\n",
              "    } else if (!root._bokeh_failed_load) {\n",
              "      console.log(\"Bokeh: BokehJS failed to load within specified timeout.\");\n",
              "      root._bokeh_failed_load = true;\n",
              "    } else if (force !== true) {\n",
              "      var cell = $(document.getElementById(\"9857ef57-8e4e-4d6b-98c6-fadf11a8b31b\")).parents('.cell').data().cell;\n",
              "      cell.output_area.append_execute_result(NB_LOAD_WARNING)\n",
              "    }\n",
              "\n",
              "  }\n",
              "\n",
              "  if (root._bokeh_is_loading === 0) {\n",
              "    console.log(\"Bokeh: BokehJS loaded, going straight to plotting\");\n",
              "    run_inline_js();\n",
              "  } else {\n",
              "    load_libs(js_urls, function() {\n",
              "      console.log(\"Bokeh: BokehJS plotting callback run at\", now());\n",
              "      run_inline_js();\n",
              "    });\n",
              "  }\n",
              "}(window));"
            ],
            "application/vnd.bokehjs_load.v0+json": "\n(function(root) {\n  function now() {\n    return new Date();\n  }\n\n  var force = true;\n\n  if (typeof (root._bokeh_onload_callbacks) === \"undefined\" || force === true) {\n    root._bokeh_onload_callbacks = [];\n    root._bokeh_is_loading = undefined;\n  }\n\n  \n\n  \n  if (typeof (root._bokeh_timeout) === \"undefined\" || force === true) {\n    root._bokeh_timeout = Date.now() + 5000;\n    root._bokeh_failed_load = false;\n  }\n\n  var NB_LOAD_WARNING = {'data': {'text/html':\n     \"<div style='background-color: #fdd'>\\n\"+\n     \"<p>\\n\"+\n     \"BokehJS does not appear to have successfully loaded. If loading BokehJS from CDN, this \\n\"+\n     \"may be due to a slow or bad network connection. Possible fixes:\\n\"+\n     \"</p>\\n\"+\n     \"<ul>\\n\"+\n     \"<li>re-rerun `output_notebook()` to attempt to load from CDN again, or</li>\\n\"+\n     \"<li>use INLINE resources instead, as so:</li>\\n\"+\n     \"</ul>\\n\"+\n     \"<code>\\n\"+\n     \"from bokeh.resources import INLINE\\n\"+\n     \"output_notebook(resources=INLINE)\\n\"+\n     \"</code>\\n\"+\n     \"</div>\"}};\n\n  function display_loaded() {\n    var el = document.getElementById(\"9857ef57-8e4e-4d6b-98c6-fadf11a8b31b\");\n    if (el != null) {\n      el.textContent = \"BokehJS is loading...\";\n    }\n    if (root.Bokeh !== undefined) {\n      if (el != null) {\n        el.textContent = \"BokehJS \" + root.Bokeh.version + \" successfully loaded.\";\n      }\n    } else if (Date.now() < root._bokeh_timeout) {\n      setTimeout(display_loaded, 100)\n    }\n  }\n\n\n  function run_callbacks() {\n    try {\n      root._bokeh_onload_callbacks.forEach(function(callback) { callback() });\n    }\n    finally {\n      delete root._bokeh_onload_callbacks\n    }\n    console.info(\"Bokeh: all callbacks have finished\");\n  }\n\n  function load_libs(js_urls, callback) {\n    root._bokeh_onload_callbacks.push(callback);\n    if (root._bokeh_is_loading > 0) {\n      console.log(\"Bokeh: BokehJS is being loaded, scheduling callback at\", now());\n      return null;\n    }\n    if (js_urls == null || js_urls.length === 0) {\n      run_callbacks();\n      return null;\n    }\n    console.log(\"Bokeh: BokehJS not loaded, scheduling load and callback at\", now());\n    root._bokeh_is_loading = js_urls.length;\n    for (var i = 0; i < js_urls.length; i++) {\n      var url = js_urls[i];\n      var s = document.createElement('script');\n      s.src = url;\n      s.async = false;\n      s.onreadystatechange = s.onload = function() {\n        root._bokeh_is_loading--;\n        if (root._bokeh_is_loading === 0) {\n          console.log(\"Bokeh: all BokehJS libraries loaded\");\n          run_callbacks()\n        }\n      };\n      s.onerror = function() {\n        console.warn(\"failed to load library \" + url);\n      };\n      console.log(\"Bokeh: injecting script tag for BokehJS library: \", url);\n      document.getElementsByTagName(\"head\")[0].appendChild(s);\n    }\n  };var element = document.getElementById(\"9857ef57-8e4e-4d6b-98c6-fadf11a8b31b\");\n  if (element == null) {\n    console.log(\"Bokeh: ERROR: autoload.js configured with elementid '9857ef57-8e4e-4d6b-98c6-fadf11a8b31b' but no matching script tag was found. \")\n    return false;\n  }\n\n  var js_urls = [\"https://cdn.pydata.org/bokeh/release/bokeh-0.13.0.min.js\", \"https://cdn.pydata.org/bokeh/release/bokeh-widgets-0.13.0.min.js\", \"https://cdn.pydata.org/bokeh/release/bokeh-tables-0.13.0.min.js\", \"https://cdn.pydata.org/bokeh/release/bokeh-gl-0.13.0.min.js\"];\n\n  var inline_js = [\n    function(Bokeh) {\n      Bokeh.set_log_level(\"info\");\n    },\n    \n    function(Bokeh) {\n      \n    },\n    function(Bokeh) {\n      console.log(\"Bokeh: injecting CSS: https://cdn.pydata.org/bokeh/release/bokeh-0.13.0.min.css\");\n      Bokeh.embed.inject_css(\"https://cdn.pydata.org/bokeh/release/bokeh-0.13.0.min.css\");\n      console.log(\"Bokeh: injecting CSS: https://cdn.pydata.org/bokeh/release/bokeh-widgets-0.13.0.min.css\");\n      Bokeh.embed.inject_css(\"https://cdn.pydata.org/bokeh/release/bokeh-widgets-0.13.0.min.css\");\n      console.log(\"Bokeh: injecting CSS: https://cdn.pydata.org/bokeh/release/bokeh-tables-0.13.0.min.css\");\n      Bokeh.embed.inject_css(\"https://cdn.pydata.org/bokeh/release/bokeh-tables-0.13.0.min.css\");\n    }\n  ];\n\n  function run_inline_js() {\n    \n    if ((root.Bokeh !== undefined) || (force === true)) {\n      for (var i = 0; i < inline_js.length; i++) {\n        inline_js[i].call(root, root.Bokeh);\n      }if (force === true) {\n        display_loaded();\n      }} else if (Date.now() < root._bokeh_timeout) {\n      setTimeout(run_inline_js, 100);\n    } else if (!root._bokeh_failed_load) {\n      console.log(\"Bokeh: BokehJS failed to load within specified timeout.\");\n      root._bokeh_failed_load = true;\n    } else if (force !== true) {\n      var cell = $(document.getElementById(\"9857ef57-8e4e-4d6b-98c6-fadf11a8b31b\")).parents('.cell').data().cell;\n      cell.output_area.append_execute_result(NB_LOAD_WARNING)\n    }\n\n  }\n\n  if (root._bokeh_is_loading === 0) {\n    console.log(\"Bokeh: BokehJS loaded, going straight to plotting\");\n    run_inline_js();\n  } else {\n    load_libs(js_urls, function() {\n      console.log(\"Bokeh: BokehJS plotting callback run at\", now());\n      run_inline_js();\n    });\n  }\n}(window));"
          },
          "metadata": {
            "tags": []
          }
        },
        {
          "output_type": "display_data",
          "data": {
            "text/html": [
              "\n",
              "\n",
              "\n",
              "\n",
              "\n",
              "\n",
              "  <div class=\"bk-root\" id=\"b1b031dd-b211-40c7-9554-e5bef64e4586\"></div>\n"
            ]
          },
          "metadata": {
            "tags": []
          }
        },
        {
          "output_type": "display_data",
          "data": {
            "application/javascript": [
              "(function(root) {\n",
              "  function embed_document(root) {\n",
              "    \n",
              "  var docs_json = {\"b828265a-5fb9-4c37-a6bd-190fc929d472\":{\"roots\":{\"references\":[{\"attributes\":{\"below\":[{\"id\":\"c3135680-9cd1-4b65-a448-102cd5bfa5eb\",\"type\":\"LinearAxis\"}],\"left\":[{\"id\":\"d3937d15-e3bb-4186-8eac-6aeb38721cea\",\"type\":\"LinearAxis\"}],\"plot_height\":400,\"renderers\":[{\"id\":\"c3135680-9cd1-4b65-a448-102cd5bfa5eb\",\"type\":\"LinearAxis\"},{\"id\":\"e0d0f851-cfc4-45ac-a04a-1280952d74d2\",\"type\":\"Grid\"},{\"id\":\"d3937d15-e3bb-4186-8eac-6aeb38721cea\",\"type\":\"LinearAxis\"},{\"id\":\"e758a945-e969-440f-a3f2-9310378860c8\",\"type\":\"Grid\"},{\"id\":\"183d2652-7bc5-4897-94c3-e5d2cb6a64c3\",\"type\":\"BoxAnnotation\"},{\"id\":\"2d13ace4-f741-4129-828f-c3fe30afbc75\",\"type\":\"GlyphRenderer\"}],\"title\":{\"id\":\"9eea885d-8a1c-4550-98da-bd877999f98e\",\"type\":\"Title\"},\"toolbar\":{\"id\":\"87ed7899-b752-413c-97d0-fa94cb047e55\",\"type\":\"Toolbar\"},\"x_range\":{\"id\":\"3bc2c3cc-3e0e-4330-851d-a461725fe3c5\",\"type\":\"DataRange1d\"},\"x_scale\":{\"id\":\"fd0a175d-a212-4816-b2df-6fd48c031c54\",\"type\":\"LinearScale\"},\"y_range\":{\"id\":\"fd892e70-9945-4d6c-a1a3-fa0656b91bb0\",\"type\":\"DataRange1d\"},\"y_scale\":{\"id\":\"10371d90-df4f-4b02-8bc1-317e864008d6\",\"type\":\"LinearScale\"}},\"id\":\"bb6f89b6-35d6-4259-addd-285521f750bc\",\"subtype\":\"Figure\",\"type\":\"Plot\"},{\"attributes\":{\"plot\":null,\"text\":\"\"},\"id\":\"9eea885d-8a1c-4550-98da-bd877999f98e\",\"type\":\"Title\"},{\"attributes\":{\"callback\":null,\"data\":{\"color\":[\"green\",\"green\",\"green\",\"green\",\"green\",\"green\",\"green\",\"green\",\"green\",\"green\",\"green\",\"green\",\"green\",\"green\",\"green\",\"green\",\"green\",\"green\",\"green\",\"green\",\"green\",\"green\",\"green\",\"green\",\"green\",\"green\",\"green\",\"green\",\"green\",\"green\",\"green\",\"green\",\"green\",\"green\",\"green\",\"green\",\"green\",\"green\",\"green\",\"green\",\"green\",\"green\",\"green\",\"green\",\"green\",\"green\",\"green\",\"green\",\"green\",\"green\",\"green\",\"green\",\"green\",\"green\",\"green\",\"green\",\"green\",\"green\",\"green\",\"green\",\"green\",\"green\",\"green\",\"green\",\"green\",\"green\",\"green\",\"green\",\"green\",\"green\",\"green\",\"green\",\"green\",\"green\",\"green\",\"green\",\"green\",\"green\",\"green\",\"green\",\"green\",\"green\",\"green\",\"green\",\"green\",\"green\",\"green\",\"green\",\"green\",\"green\",\"green\",\"green\",\"green\",\"green\",\"green\",\"green\",\"green\",\"green\",\"green\",\"green\",\"green\",\"green\",\"green\",\"green\",\"green\",\"green\",\"green\",\"green\",\"green\",\"green\",\"green\",\"green\",\"green\",\"green\",\"green\",\"green\",\"green\",\"green\",\"green\",\"green\",\"green\",\"green\",\"green\",\"green\",\"green\",\"green\",\"green\",\"green\",\"green\",\"green\",\"green\",\"green\",\"green\",\"green\",\"green\",\"green\",\"green\",\"green\",\"green\",\"green\",\"green\",\"green\",\"green\",\"green\",\"green\",\"green\",\"green\",\"green\",\"green\",\"green\",\"green\",\"green\",\"green\",\"green\",\"green\",\"green\",\"green\",\"green\",\"green\",\"green\",\"green\",\"green\",\"green\",\"green\",\"green\",\"green\",\"green\",\"green\",\"green\",\"green\",\"green\",\"green\",\"green\",\"green\",\"green\",\"green\",\"green\",\"green\",\"green\",\"green\",\"green\",\"green\",\"green\",\"green\",\"green\",\"green\",\"green\",\"green\",\"green\",\"green\",\"green\",\"green\",\"green\",\"green\",\"green\",\"green\",\"green\",\"green\",\"green\",\"green\",\"green\",\"green\",\"green\",\"green\",\"green\",\"green\",\"green\",\"green\",\"green\",\"green\",\"green\",\"green\",\"green\",\"green\",\"green\",\"green\",\"green\",\"green\",\"green\",\"green\",\"green\",\"green\",\"green\",\"green\",\"green\",\"green\",\"green\",\"green\",\"green\",\"green\",\"green\",\"green\",\"green\",\"green\",\"green\",\"green\",\"green\",\"green\",\"green\",\"green\",\"green\",\"green\",\"green\",\"green\",\"green\",\"green\",\"green\",\"green\",\"green\",\"green\",\"green\",\"green\",\"green\",\"green\",\"green\",\"green\",\"green\",\"green\",\"green\",\"green\",\"green\",\"green\",\"green\",\"green\",\"green\",\"green\",\"green\",\"green\",\"green\",\"green\",\"green\",\"green\",\"green\",\"green\",\"green\",\"green\",\"green\",\"green\",\"green\",\"green\",\"green\",\"green\",\"green\",\"green\",\"green\",\"green\",\"green\",\"green\",\"green\",\"green\",\"green\",\"green\",\"green\",\"green\",\"green\",\"green\",\"green\",\"green\",\"green\",\"green\",\"green\",\"green\",\"green\",\"green\",\"green\",\"green\",\"green\",\"green\",\"green\",\"green\",\"green\",\"green\",\"green\",\"green\",\"green\",\"green\",\"green\",\"green\",\"green\",\"green\",\"green\",\"green\",\"green\",\"green\",\"green\",\"green\",\"green\",\"green\",\"green\",\"green\",\"green\",\"green\",\"green\",\"green\",\"green\",\"green\",\"green\",\"green\",\"green\",\"green\",\"green\",\"green\",\"green\",\"green\",\"green\",\"green\",\"green\",\"green\",\"green\",\"green\",\"green\",\"green\",\"green\",\"green\",\"green\",\"green\",\"green\",\"green\",\"green\",\"green\",\"green\",\"green\",\"green\",\"green\",\"green\",\"green\",\"green\",\"green\",\"green\",\"green\",\"green\",\"green\",\"green\",\"green\",\"green\",\"green\",\"green\",\"green\",\"green\",\"green\",\"green\",\"green\",\"green\",\"green\",\"green\",\"green\",\"green\",\"green\",\"green\",\"green\",\"green\",\"green\",\"green\",\"green\",\"green\",\"green\",\"green\",\"green\",\"green\",\"green\",\"green\",\"green\",\"green\",\"green\",\"green\",\"green\",\"green\",\"green\",\"green\",\"green\",\"green\",\"green\",\"green\",\"green\",\"green\",\"green\",\"green\",\"green\",\"green\",\"green\",\"green\",\"green\",\"green\",\"green\",\"green\",\"green\",\"green\",\"green\",\"green\",\"green\",\"green\",\"green\",\"green\",\"green\",\"green\",\"green\",\"green\",\"green\",\"green\",\"green\",\"green\",\"green\",\"green\",\"green\",\"green\",\"green\",\"green\",\"green\",\"green\",\"green\",\"green\",\"green\",\"green\",\"green\",\"green\",\"green\",\"green\",\"green\",\"green\",\"green\",\"green\",\"green\",\"green\",\"green\",\"green\",\"green\",\"green\",\"green\",\"green\",\"green\",\"green\",\"green\",\"green\",\"green\",\"green\",\"green\",\"green\",\"green\",\"green\",\"green\",\"green\",\"green\",\"green\",\"green\",\"green\",\"green\",\"green\",\"green\",\"green\",\"green\",\"green\",\"green\",\"green\",\"green\",\"green\",\"green\",\"green\",\"green\",\"green\",\"green\",\"green\",\"green\",\"green\",\"green\",\"green\",\"green\",\"green\",\"green\",\"green\",\"green\",\"green\",\"green\",\"green\",\"green\",\"green\",\"green\",\"green\",\"green\",\"green\",\"green\",\"green\",\"green\",\"green\",\"green\",\"green\",\"green\",\"green\",\"green\",\"green\",\"green\",\"green\",\"green\",\"green\",\"green\",\"green\",\"green\",\"green\",\"green\",\"green\",\"green\",\"green\",\"green\",\"green\",\"green\",\"green\",\"green\",\"green\",\"green\",\"green\",\"green\",\"green\",\"green\",\"green\",\"green\",\"green\",\"green\",\"green\",\"green\",\"green\",\"green\",\"green\",\"green\",\"green\",\"green\",\"green\",\"green\",\"green\",\"green\",\"green\",\"green\",\"green\",\"green\",\"green\",\"green\",\"green\",\"green\",\"green\",\"green\",\"green\",\"green\",\"green\",\"green\",\"green\",\"green\",\"green\",\"green\",\"green\",\"green\",\"green\",\"green\",\"green\",\"green\",\"green\",\"green\",\"green\",\"green\",\"green\",\"green\",\"green\",\"green\",\"green\",\"green\",\"green\",\"green\",\"green\",\"green\",\"green\",\"green\",\"green\",\"green\",\"green\",\"green\",\"green\",\"green\",\"green\",\"green\",\"green\",\"green\",\"green\",\"green\",\"green\",\"green\",\"green\",\"green\",\"green\",\"green\",\"green\",\"green\",\"green\",\"green\",\"green\",\"green\",\"green\",\"green\",\"green\",\"green\",\"green\",\"green\",\"green\",\"green\",\"green\",\"green\",\"green\",\"green\",\"green\",\"green\",\"green\",\"green\",\"green\",\"green\",\"green\",\"green\",\"green\",\"green\",\"green\",\"green\",\"green\",\"green\",\"green\",\"green\",\"green\",\"green\",\"green\",\"green\",\"green\",\"green\",\"green\",\"green\",\"green\",\"green\",\"green\",\"green\",\"green\",\"green\",\"green\",\"green\",\"green\",\"green\",\"green\",\"green\",\"green\",\"green\",\"green\",\"green\",\"green\",\"green\",\"green\",\"green\",\"green\",\"green\",\"green\",\"green\",\"green\",\"green\",\"green\",\"green\",\"green\",\"green\",\"green\",\"green\",\"green\",\"green\",\"green\",\"green\",\"green\",\"green\",\"green\",\"green\",\"green\",\"green\",\"green\",\"green\",\"green\",\"green\",\"green\",\"green\",\"green\",\"green\",\"green\",\"green\",\"green\",\"green\",\"green\",\"green\",\"green\",\"green\",\"green\",\"green\",\"green\",\"green\",\"green\",\"green\",\"green\",\"green\",\"green\",\"green\",\"green\",\"green\",\"green\",\"green\",\"green\",\"green\",\"green\",\"green\",\"green\",\"green\",\"green\",\"green\",\"green\",\"green\",\"green\",\"green\",\"green\",\"green\",\"green\",\"green\",\"green\",\"green\",\"green\",\"green\",\"green\",\"green\",\"green\",\"green\",\"green\",\"green\",\"green\",\"green\",\"green\",\"green\",\"green\",\"green\",\"green\",\"green\",\"green\",\"green\",\"green\",\"green\",\"green\",\"green\",\"green\",\"green\",\"green\",\"green\",\"green\",\"green\",\"green\",\"green\",\"green\",\"green\",\"green\",\"green\",\"green\",\"green\",\"green\",\"green\",\"green\",\"green\",\"green\",\"green\",\"green\",\"green\",\"green\",\"green\",\"green\",\"green\",\"green\",\"green\",\"green\",\"green\",\"green\",\"green\",\"green\",\"green\",\"green\",\"green\",\"green\",\"green\",\"green\",\"green\",\"green\",\"green\",\"green\",\"green\",\"green\",\"green\",\"green\",\"green\",\"green\",\"green\",\"green\",\"green\",\"green\",\"green\",\"green\",\"green\",\"green\",\"green\",\"green\",\"green\",\"green\",\"green\",\"green\",\"green\",\"green\",\"green\",\"green\",\"green\",\"green\",\"green\",\"green\",\"green\",\"green\",\"green\",\"green\",\"green\",\"green\",\"green\",\"green\",\"green\",\"green\",\"green\",\"green\",\"green\",\"green\",\"green\",\"green\",\"green\",\"green\",\"green\",\"green\",\"green\",\"green\",\"green\",\"green\",\"green\",\"green\",\"green\",\"green\",\"green\",\"green\",\"green\",\"green\",\"green\",\"green\",\"green\",\"green\",\"green\",\"green\",\"green\",\"green\",\"green\",\"green\",\"green\",\"green\",\"green\",\"green\",\"green\",\"green\",\"green\",\"green\",\"green\",\"green\",\"green\",\"green\",\"green\",\"green\",\"green\",\"green\",\"green\",\"green\",\"green\",\"green\",\"green\",\"green\",\"green\",\"green\",\"green\",\"green\",\"green\",\"green\",\"green\",\"green\",\"green\",\"green\",\"green\",\"green\",\"green\",\"green\",\"green\",\"green\",\"green\",\"green\",\"green\",\"green\",\"green\",\"green\",\"green\",\"green\",\"green\",\"green\",\"green\",\"green\",\"green\",\"green\",\"green\",\"green\",\"green\",\"green\",\"green\",\"green\",\"green\",\"green\",\"green\",\"green\",\"green\",\"green\",\"green\",\"green\",\"green\",\"green\",\"green\",\"green\",\"green\",\"green\",\"green\",\"green\",\"green\",\"green\",\"green\",\"green\",\"green\",\"green\",\"green\",\"green\",\"green\",\"green\",\"green\",\"green\",\"green\",\"green\",\"green\",\"green\",\"green\",\"green\",\"green\",\"green\",\"green\",\"green\",\"green\",\"green\",\"green\",\"green\",\"green\",\"green\",\"green\",\"green\",\"green\",\"green\",\"green\"],\"token\":[\"?\",\"the\",\"what\",\"is\",\"a\",\"i\",\"to\",\"in\",\"how\",\"of\",\"do\",\"are\",\"and\",\"for\",\",\",\"can\",\"you\",\"why\",\"it\",\"my\",\"does\",\"best\",\"on\",\".\",\"or\",\"have\",\"if\",\"be\",\"with\",\"which\",\"that\",\"an\",\"some\",\"should\",\"'s\",\"get\",\"from\",\")\",\"your\",\"(\",\"like\",\"when\",\"at\",\"india\",\"good\",\"who\",\"there\",\"will\",\"as\",\"would\",\"people\",\"not\",\"n't\",\"about\",\"``\",\"''\",\"between\",\"one\",\"did\",\"any\",\"we\",\"me\",\"where\",\"most\",\"was\",\"by\",\"make\",\"so\",\"they\",\"this\",\"am\",\"after\",\"way\",\":\",\"has\",\"use\",\"much\",\"difference\",\"time\",\"life\",\"their\",\"know\",\"work\",\"many\",\"but\",\"than\",\"more\",\"all\",\"want\",\"quora\",\"someone\",\"learn\",\"find\",\"other\",\"think\",\"new\",\"better\",\"job\",\"indian\",\"out\",\"money\",\"mean\",\"become\",\"ever\",\"world\",\"without\",\"he\",\"start\",\"take\",\"us\",\"up\",\"first\",\"feel\",\"year\",\"into\",\"go\",\"online\",\"used\",\"engineering\",\"could\",\"love\",\"'m\",\"person\",\"were\",\"possible\",\"day\",\"buy\",\"things\",\"being\",\"need\",\"business\",\"using\",\"them\",\"really\",\"trump\",\"girl\",\"her\",\"his\",\"years\",\"different\",\"long\",\"phone\",\"google\",\"company\",\"been\",\"old\",\"only\",\"no\",\"now\",\"'\",\"just\",\"2\",\"app\",\"college\",\"facebook\",\"number\",\"free\",\"books\",\"2016\",\"movie\",\"still\",\"its\",\"account\",\"ca\",\"women\",\"book\",\"english\",\"while\",\"she\",\"had\",\"change\",\"ways\",\"computer\",\"thing\",\"examples\",\"data\",\"country\",\"over\",\"see\",\"android\",\"help\",\"science\",\"live\",\"school\",\"software\",\"before\",\"&\",\"language\",\"same\",\"going\",\"bad\",\"sex\",\"student\",\"stop\",\"university\",\"happen\",\"back\",\"made\",\"3\",\"study\",\"our\",\"1\",\"two\",\"through\",\"system\",\"name\",\"say\",\"real\",\"during\",\"prepare\",\"water\",\"iphone\",\"website\",\"top\",\"car\",\"questions\",\"important\",\"men\",\"give\",\"getting\",\"anyone\",\"companies\",\"high\",\"black\",\"card\",\"read\",\"programming\",\"war\",\"learning\",\"10\",\"\\u2019\",\"exam\",\"[\",\"then\",\"]\",\"even\",\"movies\",\"china\",\"mobile\",\"cost\",\"donald\",\"right\",\"doing\",\"friend\",\"him\",\"working\",\"5\",\"under\",\"come\",\"president\",\"own\",\"question\",\"career\",\"experience\",\"bank\",\"true\",\"friends\",\"guy\",\"word\",\"hair\",\"home\",\"video\",\"having\",\"look\",\"usa\",\"tell\",\"man\",\"social\",\"web\",\"interview\",\"very\",\"engineer\",\"write\",\"game\",\"government\",\"weight\",\"earth\",\"girls\",\"service\",\"food\",\"students\",\"play\",\"countries\",\"human\",\"place\",\"future\",\"improve\",\"off\",\"big\",\"days\",\"happens\",\"'ve\",\"done\",\"class\",\"eat\",\"tv\",\"process\",\"got\",\"state\",\"average\",\"s\",\"meaning\",\"relationship\",\"music\",\"too\",\"math\",\"create\",\"instagram\",\"every\",\"history\",\"last\",\"pay\",\"windows\",\"white\",\"watch\",\"%\",\"salary\",\"body\",\"power\",\"4\",\"safe\",\"clinton\",\"ask\",\"age\",\"laptop\",\"makes\",\"$\",\"each\",\"hard\",\"lose\",\"american\",\"delhi\",\"youtube\",\"energy\",\"worth\",\"earn\",\"states\",\"against\",\"win\",\"girlfriend\",\"great\",\"keep\",\"test\",\"god\",\"hillary\",\"compare\",\"market\",\"differences\",\"making\",\"considered\",\"something\",\"answer\",\"apply\",\"myself\",\"mba\",\"tips\",\"around\",\"never\",\"next\",\"always\",\"mechanical\",\"another\",\"united\",\"java\",\"increase\",\"such\",\"course\",\"jobs\",\"c\",\"download\",\"song\",\"parents\",\"kind\",\"internet\",\"common\",\"review\",\"woman\",\"code\",\"design\",\"per\",\"employees\",\"end\",\"development\",\"chinese\",\"series\",\"score\",\"interesting\",\"degree\",\"month\",\"travel\",\"show\",\"management\",\"months\",\"able\",\"believe\",\"open\",\"program\",\"living\",\"looking\",\"because\",\"type\",\"bangalore\",\"light\",\"favorite\",\"america\",\"today\",\"actually\",\"major\",\"family\",\"marketing\",\"pakistan\",\"universities\",\"technology\",\"law\",\"call\",\"affect\",\"whatsapp\",\"6\",\"idea\",\"{\",\"build\",\"}\",\"choose\",\"cat\",\"current\",\"support\",\"problem\",\"popular\",\"speed\",\"air\",\"rid\",\"deal\",\"visa\",\"join\",\"run\",\"games\",\"space\",\"down\",\"both\",\"well\",\"city\",\"2017\",\"house\",\"exist\",\"services\",\"available\",\"civil\",\"u.s.\",\"site\",\"culture\",\"also\",\"normal\",\"given\",\"wrong\",\"apple\",\"small\",\"order\",\"date\",\"wear\",\"apps\",\"places\",\"songs\",\"differ\",\"project\",\"product\",\"international\",\"behind\",\"main\",\"research\",\"x\",\"7\",\"happened\",\"boyfriend\",\"media\",\"public\",\"canada\",\"value\",\"jee\",\"cause\",\"reason\",\"uk\",\"education\",\"email\",\"ms\",\"sleep\",\"-\",\"amazon\",\"instead\",\"these\",\"benefits\",\"startup\",\"less\",\"iit\",\"part\",\"list\",\"based\",\"die\",\"medical\",\"websites\",\"etc\",\"physics\",\"skills\",\"child\",\"form\",\"health\",\"causes\",\"called\",\"times\",\"visit\",\"hate\",\"level\",\"worst\",\"police\",\"legal\",\"control\",\"terms\",\"stay\",\"products\",\"mumbai\",\"post\",\"facts\",\"mind\",\"face\",\"application\",\"rate\",\"sites\",\"field\",\"file\",\"required\",\"humans\",\"sell\",\"seen\",\"story\",\"machine\",\"private\",\"dog\",\"notes\",\"stock\",\"modi\",\"biggest\",\"asked\",\"invest\",\"children\",\"point\",\"writing\",\"move\",\"night\",\"problems\",\"gate\",\"put\",\"'re\",\"successful\",\"single\",\"anything\",\"indians\",\"others\",\"remove\",\"compared\",\"theory\",\"death\",\"ideas\",\"talk\",\"marks\",\"answers\",\"plan\",\"similar\",\"sentence\",\"low\",\"group\",\"institute\",\"side\",\"hours\",\"again\",\"effects\",\"/math\",\"coaching\",\"australia\",\"solve\",\"advantages\",\"correct\",\"function\",\"tax\",\"lot\",\"center\",\"famous\",\"send\",\"germany\",\"guys\",\"add\",\"set\",\"offer\",\"south\",\"force\",\"credit\",\"foreign\",\"universe\",\"information\",\"fall\",\"period\",\"daily\",\"says\",\"developer\",\"training\",\"full\",\"videos\",\"area\",\"industry\",\"oil\",\"model\",\"general\",\"studying\",\"majors\",\"star\",\"colleges\",\"graduate\",\"size\",\"yourself\",\"drive\",\"python\",\"2015\",\"blood\",\"near\",\"search\",\"enough\",\"price\",\"kill\",\"quality\",\"words\",\"cons\",\"marriage\",\"found\",\"often\",\"\\u201d\",\"leave\",\"pros\",\"fast\",\"grow\",\"courses\",\"started\",\"week\",\"fix\",\"related\",\"purpose\",\"8\",\"network\",\"types\",\"russia\",\"advice\",\"those\",\"password\",\"follow\",\"taking\",\"married\",\"mass\",\"male\",\"store\",\"turn\",\"party\",\"left\",\"brain\",\"rs\",\"\\u201c\",\"numbers\",\"100\",\"500\",\"female\",\"share\",\"digital\",\"team\",\"1000\",\"effective\",\"economy\",\"term\",\"text\",\"delete\",\"election\",\"cell\",\"pc\",\"master\",\"office\",\"matter\",\"few\",\"role\",\"since\",\"preparation\",\"fat\",\"second\",\"page\",\"dark\",\"short\",\"said\",\"happy\",\"red\",\"line\",\"away\",\"security\",\"options\",\"easy\",\"effect\",\"three\",\"view\",\"admission\",\"must\",\"chemical\",\"source\",\"lost\",\"try\",\"dream\",\"understand\",\"care\",\"exams\",\"convert\",\"americans\",\"past\",\"electrical\",\"dogs\",\"profile\",\"alcohol\",\"exactly\",\"north\",\"ios\",\"develop\",\"paper\",\"japanese\",\"investment\",\"tech\",\"difficult\",\"hotel\",\"check\",\"beautiful\",\"personal\",\"calculate\",\"japan\",\"uber\",\"letter\",\"eating\",\"religion\",\"20\",\"explain\",\"languages\",\"c++\",\"hyderabad\",\"topics\",\"british\",\"b\",\"twitter\",\"basic\",\"news\",\"california\",\"self\",\"green\",\"political\",\"transfer\",\"wife\",\"12\",\"fight\",\"rank\",\"drug\",\"let\",\"porn\",\"film\",\"scope\",\"t\",\"army\",\"pune\",\"national\",\"once\",\"contact\",\"note\",\"known\",\"avoid\",\"boy\",\"gain\",\"please\",\"address\",\"wants\",\"reasons\",\"paid\",\"obama\",\"engine\",\"europe\",\"ex\",\"currently\",\"bollywood\",\"samsung\",\"smart\",\"everyone\",\"season\",\"phd\",\"income\",\"officer\",\"chances\",\"reduce\",\"option\",\"overcome\",\"everything\",\"across\",\"reading\",\"military\",\"else\",\"users\",\"meet\",\"15\",\"solar\",\"message\",\"charge\",\"knowledge\",\"due\",\"sound\",\"balance\",\"microsoft\",\"!\",\"internship\",\"faster\",\"photos\",\"pregnant\",\"sim\",\"yes\",\"moon\",\"taken\",\"financial\",\"hindi\",\"disadvantages\",\"pass\",\"animals\",\"messages\",\"gay\",\"/\",\"hack\",\"healthy\",\"pain\",\"systems\",\"amount\",\"color\",\"interested\",\"singapore\",\"ias\",\"natural\",\"skin\",\"screen\",\"chance\",\"names\",\"special\",\"height\",\"board\",\"case\",\"structure\",\"passport\",\"break\",\"pro\",\"created\",\"professional\",\"drink\",\"already\",\"percentage\",\"useful\",\"french\",\"crush\",\"sun\",\"dating\",\"likes\",\"presidential\",\"battery\",\"interest\",\"access\",\"coming\",\"provide\",\"muslim\",\"starting\",\"modern\",\"linux\",\"recover\",\"camera\",\"german\",\"expect\",\"vote\",\"muslims\",\"blue\",\"least\",\"install\",\"train\",\"studies\",\"solution\",\"thinking\",\"following\",\"negative\",\"mother\",\"jio\",\"mac\",\"user\",\"spend\",\"prime\",\"written\",\"buying\",\"feeling\",\"running\",\"football\",\"gift\",\"cold\",\"changed\",\"pressure\",\"allowed\",\"character\",\"brand\",\"rich\",\"snapchat\",\"resources\",\"within\",\"speak\",\"impact\",\"islam\",\"yet\",\"non\",\"marry\",\"eyes\",\"society\",\"bill\",\"likely\",\"though\",\"determine\",\"shows\",\"fake\",\"save\",\"capital\",\"final\",\"gmail\",\"picture\",\"laws\",\"middle\",\"applications\",\"nuclear\",\"chemistry\",\"young\",\"kids\",\"prefer\",\"device\",\"iq\",\"father\",\"views\",\"galaxy\",\"manager\",\"doctor\",\"personality\",\"hand\",\"greatest\",\"currency\",\"inside\",\"illegal\",\"stories\",\"strategy\",\"recruit\",\"pursue\",\"cs\",\"abroad\",\"gold\",\"projects\",\"consider\",\"works\",\"blog\",\"crack\",\"memory\",\"example\",\"neet\",\"growth\",\"schools\",\"necessary\",\"husband\",\"insurance\",\"alone\",\"economics\",\"depression\",\"higher\",\"dead\",\"b.tech\",\"30\",\"cse\",\"loss\",\"among\",\"files\",\"deleted\",\"easiest\",\"macbook\",\"together\",\"art\",\"wifi\",\"vs\",\"gas\",\"suggest\",\"late\",\"intelligence\",\"method\",\"gre\",\"head\",\"minimum\",\"version\",\"tools\",\"easily\",\"chennai\",\"cars\",\"suitable\"],\"x\":{\"__ndarray__\":\"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\",\"dtype\":\"float32\",\"shape\":[1000]},\"y\":{\"__ndarray__\":\"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\",\"dtype\":\"float32\",\"shape\":[1000]}},\"selected\":{\"id\":\"9dd5c4dc-ca09-478d-b5c3-e139e666d471\",\"type\":\"Selection\"},\"selection_policy\":{\"id\":\"f01ff570-0e97-418a-ba24-9382911f6ec0\",\"type\":\"UnionRenderers\"}},\"id\":\"5e12ed1b-120b-4443-8f57-0c3b04be2a60\",\"type\":\"ColumnDataSource\"},{\"attributes\":{},\"id\":\"aefab0bc-2ae1-4365-80ae-df721b57cbbf\",\"type\":\"PanTool\"},{\"attributes\":{\"active_drag\":\"auto\",\"active_inspect\":\"auto\",\"active_multi\":null,\"active_scroll\":{\"id\":\"ff2da313-e7f3-43d3-93a6-aee024c148f2\",\"type\":\"WheelZoomTool\"},\"active_tap\":\"auto\",\"tools\":[{\"id\":\"aefab0bc-2ae1-4365-80ae-df721b57cbbf\",\"type\":\"PanTool\"},{\"id\":\"ff2da313-e7f3-43d3-93a6-aee024c148f2\",\"type\":\"WheelZoomTool\"},{\"id\":\"2fce020a-bf65-4035-ba28-64786ecc20d5\",\"type\":\"BoxZoomTool\"},{\"id\":\"903363f6-df25-49b7-8311-19f57d8e89af\",\"type\":\"SaveTool\"},{\"id\":\"b2e31f10-4b49-4e4a-8475-d4ba88aa1ba2\",\"type\":\"ResetTool\"},{\"id\":\"e954f92b-0ad5-4cbc-bcf6-3bba567f6dbf\",\"type\":\"HelpTool\"},{\"id\":\"9cbe1693-03f9-4e95-80b5-16baf78a8ff1\",\"type\":\"HoverTool\"}]},\"id\":\"87ed7899-b752-413c-97d0-fa94cb047e55\",\"type\":\"Toolbar\"},{\"attributes\":{},\"id\":\"436d0eb8-fec8-4e83-adec-3ed864066e7f\",\"type\":\"BasicTickFormatter\"},{\"attributes\":{},\"id\":\"f01ff570-0e97-418a-ba24-9382911f6ec0\",\"type\":\"UnionRenderers\"},{\"attributes\":{},\"id\":\"ff2da313-e7f3-43d3-93a6-aee024c148f2\",\"type\":\"WheelZoomTool\"},{\"attributes\":{\"source\":{\"id\":\"5e12ed1b-120b-4443-8f57-0c3b04be2a60\",\"type\":\"ColumnDataSource\"}},\"id\":\"20df789f-7c61-4ca3-890a-8204e1ad8987\",\"type\":\"CDSView\"},{\"attributes\":{},\"id\":\"d983a6e6-f926-45a5-9cb1-5574af170ef0\",\"type\":\"BasicTickFormatter\"},{\"attributes\":{\"overlay\":{\"id\":\"183d2652-7bc5-4897-94c3-e5d2cb6a64c3\",\"type\":\"BoxAnnotation\"}},\"id\":\"2fce020a-bf65-4035-ba28-64786ecc20d5\",\"type\":\"BoxZoomTool\"},{\"attributes\":{\"fill_alpha\":{\"value\":0.1},\"fill_color\":{\"value\":\"#1f77b4\"},\"line_alpha\":{\"value\":0.1},\"line_color\":{\"value\":\"#1f77b4\"},\"size\":{\"units\":\"screen\",\"value\":10},\"x\":{\"field\":\"x\"},\"y\":{\"field\":\"y\"}},\"id\":\"241b0cf1-48e8-4c17-a568-51d29034cbf0\",\"type\":\"Circle\"},{\"attributes\":{},\"id\":\"903363f6-df25-49b7-8311-19f57d8e89af\",\"type\":\"SaveTool\"},{\"attributes\":{\"callback\":null,\"renderers\":\"auto\",\"tooltips\":[[\"token\",\"@token\"]]},\"id\":\"9cbe1693-03f9-4e95-80b5-16baf78a8ff1\",\"type\":\"HoverTool\"},{\"attributes\":{},\"id\":\"b2e31f10-4b49-4e4a-8475-d4ba88aa1ba2\",\"type\":\"ResetTool\"},{\"attributes\":{},\"id\":\"fd0a175d-a212-4816-b2df-6fd48c031c54\",\"type\":\"LinearScale\"},{\"attributes\":{},\"id\":\"9dd5c4dc-ca09-478d-b5c3-e139e666d471\",\"type\":\"Selection\"},{\"attributes\":{},\"id\":\"10371d90-df4f-4b02-8bc1-317e864008d6\",\"type\":\"LinearScale\"},{\"attributes\":{},\"id\":\"e954f92b-0ad5-4cbc-bcf6-3bba567f6dbf\",\"type\":\"HelpTool\"},{\"attributes\":{\"data_source\":{\"id\":\"5e12ed1b-120b-4443-8f57-0c3b04be2a60\",\"type\":\"ColumnDataSource\"},\"glyph\":{\"id\":\"b6cd236d-f7dc-4959-921e-2700fd318885\",\"type\":\"Circle\"},\"hover_glyph\":null,\"muted_glyph\":null,\"nonselection_glyph\":{\"id\":\"241b0cf1-48e8-4c17-a568-51d29034cbf0\",\"type\":\"Circle\"},\"selection_glyph\":null,\"view\":{\"id\":\"20df789f-7c61-4ca3-890a-8204e1ad8987\",\"type\":\"CDSView\"}},\"id\":\"2d13ace4-f741-4129-828f-c3fe30afbc75\",\"type\":\"GlyphRenderer\"},{\"attributes\":{\"formatter\":{\"id\":\"436d0eb8-fec8-4e83-adec-3ed864066e7f\",\"type\":\"BasicTickFormatter\"},\"plot\":{\"id\":\"bb6f89b6-35d6-4259-addd-285521f750bc\",\"subtype\":\"Figure\",\"type\":\"Plot\"},\"ticker\":{\"id\":\"afe3ba17-f248-49eb-b9d3-974767a21364\",\"type\":\"BasicTicker\"}},\"id\":\"c3135680-9cd1-4b65-a448-102cd5bfa5eb\",\"type\":\"LinearAxis\"},{\"attributes\":{},\"id\":\"afe3ba17-f248-49eb-b9d3-974767a21364\",\"type\":\"BasicTicker\"},{\"attributes\":{\"callback\":null},\"id\":\"3bc2c3cc-3e0e-4330-851d-a461725fe3c5\",\"type\":\"DataRange1d\"},{\"attributes\":{\"plot\":{\"id\":\"bb6f89b6-35d6-4259-addd-285521f750bc\",\"subtype\":\"Figure\",\"type\":\"Plot\"},\"ticker\":{\"id\":\"afe3ba17-f248-49eb-b9d3-974767a21364\",\"type\":\"BasicTicker\"}},\"id\":\"e0d0f851-cfc4-45ac-a04a-1280952d74d2\",\"type\":\"Grid\"},{\"attributes\":{\"formatter\":{\"id\":\"d983a6e6-f926-45a5-9cb1-5574af170ef0\",\"type\":\"BasicTickFormatter\"},\"plot\":{\"id\":\"bb6f89b6-35d6-4259-addd-285521f750bc\",\"subtype\":\"Figure\",\"type\":\"Plot\"},\"ticker\":{\"id\":\"fce8227f-aacb-4b6d-a677-2165532ccbfc\",\"type\":\"BasicTicker\"}},\"id\":\"d3937d15-e3bb-4186-8eac-6aeb38721cea\",\"type\":\"LinearAxis\"},{\"attributes\":{\"callback\":null},\"id\":\"fd892e70-9945-4d6c-a1a3-fa0656b91bb0\",\"type\":\"DataRange1d\"},{\"attributes\":{},\"id\":\"fce8227f-aacb-4b6d-a677-2165532ccbfc\",\"type\":\"BasicTicker\"},{\"attributes\":{\"fill_alpha\":{\"value\":0.25},\"fill_color\":{\"field\":\"color\"},\"line_alpha\":{\"value\":0.25},\"line_color\":{\"field\":\"color\"},\"size\":{\"units\":\"screen\",\"value\":10},\"x\":{\"field\":\"x\"},\"y\":{\"field\":\"y\"}},\"id\":\"b6cd236d-f7dc-4959-921e-2700fd318885\",\"type\":\"Circle\"},{\"attributes\":{\"dimension\":1,\"plot\":{\"id\":\"bb6f89b6-35d6-4259-addd-285521f750bc\",\"subtype\":\"Figure\",\"type\":\"Plot\"},\"ticker\":{\"id\":\"fce8227f-aacb-4b6d-a677-2165532ccbfc\",\"type\":\"BasicTicker\"}},\"id\":\"e758a945-e969-440f-a3f2-9310378860c8\",\"type\":\"Grid\"},{\"attributes\":{\"bottom_units\":\"screen\",\"fill_alpha\":{\"value\":0.5},\"fill_color\":{\"value\":\"lightgrey\"},\"left_units\":\"screen\",\"level\":\"overlay\",\"line_alpha\":{\"value\":1.0},\"line_color\":{\"value\":\"black\"},\"line_dash\":[4,4],\"line_width\":{\"value\":2},\"plot\":null,\"render_mode\":\"css\",\"right_units\":\"screen\",\"top_units\":\"screen\"},\"id\":\"183d2652-7bc5-4897-94c3-e5d2cb6a64c3\",\"type\":\"BoxAnnotation\"}],\"root_ids\":[\"bb6f89b6-35d6-4259-addd-285521f750bc\"]},\"title\":\"Bokeh Application\",\"version\":\"0.13.0\"}};\n",
              "  var render_items = [{\"docid\":\"b828265a-5fb9-4c37-a6bd-190fc929d472\",\"roots\":{\"bb6f89b6-35d6-4259-addd-285521f750bc\":\"b1b031dd-b211-40c7-9554-e5bef64e4586\"}}];\n",
              "  root.Bokeh.embed.embed_items_notebook(docs_json, render_items);\n",
              "\n",
              "  }\n",
              "  if (root.Bokeh !== undefined) {\n",
              "    embed_document(root);\n",
              "  } else {\n",
              "    var attempts = 0;\n",
              "    var timer = setInterval(function(root) {\n",
              "      if (root.Bokeh !== undefined) {\n",
              "        embed_document(root);\n",
              "        clearInterval(timer);\n",
              "      }\n",
              "      attempts++;\n",
              "      if (attempts > 100) {\n",
              "        console.log(\"Bokeh: ERROR: Unable to run BokehJS code because BokehJS library is missing\")\n",
              "        clearInterval(timer);\n",
              "      }\n",
              "    }, 10, root)\n",
              "  }\n",
              "})(window);"
            ],
            "application/vnd.bokehjs_exec.v0+json": ""
          },
          "metadata": {
            "tags": [],
            "application/vnd.bokehjs_exec.v0+json": {
              "id": "bb6f89b6-35d6-4259-addd-285521f750bc"
            }
          }
        }
      ]
    },
    {
      "metadata": {
        "id": "xqDmuu7m_PB5",
        "colab_type": "text"
      },
      "cell_type": "markdown",
      "source": [
        "# Дополнительные материалы\n",
        "## Почитать\n",
        "[Backpropagation, Intuitions, cs231n + next parts in the Module 1](http://cs231n.github.io/optimization-2/)  \n",
        "[On word embeddings - Part 1, Sebastian Ruder](http://ruder.io/word-embeddings-1/)  \n",
        "[On word embeddings - Part 2: Approximating the Softmax, Sebastian Ruder](http://ruder.io/word-embeddings-softmax/index.html)  \n",
        "[Word2Vec Tutorial - The Skip-Gram Model, Chris McCormick](http://mccormickml.com/2016/04/19/word2vec-tutorial-the-skip-gram-model/)  \n",
        "[Word2Vec Tutorial Part 2 - Negative Sampling, Chris McCormick](http://mccormickml.com/2017/01/11/word2vec-tutorial-part-2-negative-sampling/)  \n",
        "[Word2vec Parameter Learning Explained, Xin Rong](https://arxiv.org/abs/1411.2738)  \n",
        "[Neural word embedding as implicit matrix factorization, Levy, Omer, and Yoav Goldberg](http://u.cs.biu.ac.il/~nlp/wp-content/uploads/Neural-Word-Embeddings-as-Implicit-Matrix-Factorization-NIPS-2014.pdf)  \n",
        "[Two/Too Simple Adaptations of Word2Vec for Syntax Problems, Ling, Wang, et al.](https://www.aclweb.org/anthology/N/N15/N15-1142.pdf)\n",
        "\n",
        "## Посмотреть\n",
        "[cs224n \"Lecture 2 - Word Vector Representations: word2vec\"](https://www.youtube.com/watch?v=ERibwqs9p38&index=2&list=PLqdrfNEc5QnuV9RwUAhoJcoQvu4Q46Lja&t=0s)  \n",
        "[cs224n \"Lecture 5 - Backpropagation\"](https://www.youtube.com/watch?v=isPiE-DBagM&index=5&list=PLqdrfNEc5QnuV9RwUAhoJcoQvu4Q46Lja&t=0s)   \n"
      ]
    },
    {
      "metadata": {
        "id": "aM9C1i3Y-6kv",
        "colab_type": "text"
      },
      "cell_type": "markdown",
      "source": [
        "# Сдача задания\n",
        "\n",
        "[Сдача](https://goo.gl/forms/rzWjQQsGpqYNz5yt1)  \n",
        "[Опрос](https://goo.gl/forms/as640TWE058bFTpy2)"
      ]
    }
  ]
}