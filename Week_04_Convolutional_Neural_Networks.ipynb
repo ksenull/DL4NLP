{
  "nbformat": 4,
  "nbformat_minor": 0,
  "metadata": {
    "colab": {
      "name": "Week 04 - Convolutional Neural Networks.ipynb",
      "version": "0.3.2",
      "provenance": [],
      "collapsed_sections": []
    },
    "kernelspec": {
      "name": "python3",
      "display_name": "Python 3"
    },
    "accelerator": "GPU"
  },
  "cells": [
    {
      "metadata": {
        "id": "Z8LbImWBw4Zd",
        "colab_type": "code",
        "outputId": "b955d76f-0c95-4cd5-dff4-2c9ef7d3fe65",
        "colab": {
          "base_uri": "https://localhost:8080/",
          "height": 121
        }
      },
      "cell_type": "code",
      "source": [
        "!pip3 -qq install torch==0.4.1\n",
        "!pip install -qq bokeh==0.13.0\n",
        "!pip install -qq eli5==0.8\n",
        "!wget -O surnames.txt -qq --no-check-certificate \"https://drive.google.com/uc?export=download&id=1z7avv1JiI30V4cmHJGFIfDEs9iE4SHs5\""
      ],
      "execution_count": 1,
      "outputs": [
        {
          "output_type": "stream",
          "text": [
            "\u001b[K    100% |████████████████████████████████| 519.5MB 34kB/s \n",
            "\u001b[31mfastai 1.0.49 has requirement numpy>=1.15, but you'll have numpy 1.14.6 which is incompatible.\u001b[0m\n",
            "\u001b[31mfastai 1.0.49 has requirement torch>=1.0.0, but you'll have torch 0.4.1 which is incompatible.\u001b[0m\n",
            "\u001b[K    100% |████████████████████████████████| 16.0MB 1.2MB/s \n",
            "\u001b[?25h  Building wheel for bokeh (setup.py) ... \u001b[?25ldone\n",
            "\u001b[K    100% |████████████████████████████████| 102kB 3.9MB/s \n",
            "\u001b[?25h"
          ],
          "name": "stdout"
        }
      ]
    },
    {
      "metadata": {
        "id": "dF1fio53UKN6",
        "colab_type": "code",
        "colab": {}
      },
      "cell_type": "code",
      "source": [
        "import numpy as np\n",
        "\n",
        "import torch\n",
        "import torch.nn as nn\n",
        "import torch.nn.functional as F\n",
        "import torch.optim as optim\n",
        "\n",
        "\n",
        "if torch.cuda.is_available():\n",
        "    from torch.cuda import FloatTensor, LongTensor\n",
        "else:\n",
        "    from torch import FloatTensor, LongTensor\n",
        "    \n",
        "np.random.seed(42)"
      ],
      "execution_count": 0,
      "outputs": []
    },
    {
      "metadata": {
        "id": "Q3lN5pl5Stpp",
        "colab_type": "text"
      },
      "cell_type": "markdown",
      "source": [
        "# Свёрточные нейронные сети"
      ]
    },
    {
      "metadata": {
        "id": "9J6KBv-cniLw",
        "colab_type": "text"
      },
      "cell_type": "markdown",
      "source": [
        "## Классификация фамилий\n",
        "\n",
        "Будем учиться предсказывать, является ли слово фамилией."
      ]
    },
    {
      "metadata": {
        "id": "7f2Sk0mMFJeW",
        "colab_type": "code",
        "colab": {}
      },
      "cell_type": "code",
      "source": [
        "from sklearn.model_selection import train_test_split\n",
        "\n",
        "with open('surnames.txt') as f:\n",
        "    lines = f.readlines()\n",
        "    data = [line.strip().split('\\t')[0] for line in lines]\n",
        "    labels = np.array([int(line.strip().split('\\t')[1]) for line in lines])\n",
        "    del lines\n",
        "    \n",
        "train_data, test_data, train_labels, test_labels = train_test_split(data, labels, test_size=0.33, random_state=42)"
      ],
      "execution_count": 0,
      "outputs": []
    },
    {
      "metadata": {
        "id": "kfUIgqMznrXB",
        "colab_type": "text"
      },
      "cell_type": "markdown",
      "source": [
        "Посмотрим на данные:"
      ]
    },
    {
      "metadata": {
        "id": "YN1XYen8UauD",
        "colab_type": "code",
        "colab": {
          "base_uri": "https://localhost:8080/",
          "height": 643
        },
        "outputId": "d651c1ca-eedc-45ca-f49d-34a1ca12d5e9"
      },
      "cell_type": "code",
      "source": [
        "list(zip(train_data, train_labels))[::1500]"
      ],
      "execution_count": 8,
      "outputs": [
        {
          "output_type": "execute_result",
          "data": {
            "text/plain": [
              "[('вожакам', 0),\n",
              " ('посвящения', 0),\n",
              " ('изменницы', 0),\n",
              " ('тензорам', 0),\n",
              " ('Родзевич', 1),\n",
              " ('поломку', 0),\n",
              " ('ПРОВЕРКАМ', 0),\n",
              " ('майка', 0),\n",
              " ('ошеломлении', 0),\n",
              " ('эркере', 0),\n",
              " ('дешифрировании', 0),\n",
              " ('затоваривание', 0),\n",
              " ('громыханий', 0),\n",
              " ('выволочка', 0),\n",
              " ('Волдыри', 0),\n",
              " ('сербки', 0),\n",
              " ('ОТЛИЧИИ', 0),\n",
              " ('РАДИОГРАММА', 0),\n",
              " ('поэтике', 0),\n",
              " ('гобоя', 0),\n",
              " ('ОБЛАСТЯМИ', 0),\n",
              " ('пациентах', 0),\n",
              " ('трясогузка', 0),\n",
              " ('утепления', 0),\n",
              " ('Фингалу', 0),\n",
              " ('Хищение', 0),\n",
              " ('Джамал', 0),\n",
              " ('Лавчонка', 0),\n",
              " ('скольжению', 0),\n",
              " ('восстание', 0),\n",
              " ('Гудмэн', 1),\n",
              " ('консортах', 0),\n",
              " ('инфузорий', 0),\n",
              " ('постоянстве', 0),\n",
              " ('вахтенными', 0),\n",
              " ('полновластия', 0)]"
            ]
          },
          "metadata": {
            "tags": []
          },
          "execution_count": 8
        }
      ]
    },
    {
      "metadata": {
        "id": "uFlOaCNt3fuV",
        "colab_type": "text"
      },
      "cell_type": "markdown",
      "source": [
        "Данные ещё и сильно несбалансированы - положительных примеров в несколько раз меньше:"
      ]
    },
    {
      "metadata": {
        "id": "ikKB2DaK08-n",
        "colab_type": "code",
        "outputId": "3036a61e-4dfe-48ea-fe58-618a852f5896",
        "colab": {
          "base_uri": "https://localhost:8080/",
          "height": 264
        }
      },
      "cell_type": "code",
      "source": [
        "import matplotlib.pyplot as plt\n",
        "%matplotlib inline\n",
        "\n",
        "positive_count = np.sum(train_labels == 1)\n",
        "negative_count = len(train_labels) - positive_count\n",
        " \n",
        "plt.bar(np.arange(2), [negative_count, positive_count], align='center', alpha=0.5)\n",
        "plt.xticks(np.arange(2), ('Negative', 'Positive'))\n",
        "    \n",
        "plt.show()"
      ],
      "execution_count": 5,
      "outputs": [
        {
          "output_type": "display_data",
          "data": {
            "image/png": "[encoded data removed]",
            "text/plain": [
              "<Figure size 432x288 with 1 Axes>"
            ]
          },
          "metadata": {
            "tags": []
          }
        }
      ]
    },
    {
      "metadata": {
        "id": "4MwgOy5M8qPf",
        "colab_type": "text"
      },
      "cell_type": "markdown",
      "source": [
        "Accuracy очень легко оптимизировать - просто предсказывайте всегда ноль:"
      ]
    },
    {
      "metadata": {
        "id": "UuqFWWu38UwV",
        "colab_type": "code",
        "colab": {
          "base_uri": "https://localhost:8080/",
          "height": 34
        },
        "outputId": "e78e0cc4-9c3b-4f06-f5cc-1b94ec1d38b6"
      },
      "cell_type": "code",
      "source": [
        "print('Accuracy = {:.2%}'.format((train_labels == 0).mean()))"
      ],
      "execution_count": 6,
      "outputs": [
        {
          "output_type": "stream",
          "text": [
            "Accuracy = 87.90%\n"
          ],
          "name": "stdout"
        }
      ]
    },
    {
      "metadata": {
        "id": "LtOFSmy93pDl",
        "colab_type": "text"
      },
      "cell_type": "markdown",
      "source": [
        "Однако это будет довольно бесполезно - всегда говорить, что слово не является фамилией. Это, конечно, вопрос - что хуже, зря объявить слово фамилией (ошибка первого рода) или не найти фамилию.\n",
        "\n",
        "![](https://effectsizefaq.files.wordpress.com/2010/05/type-i-and-type-ii-errors.jpg =x350)  \n",
        "*From [effectsizefaq.com](https://effectsizefaq.com/2010/05/31/i-always-get-confused-about-type-i-and-ii-errors-can-you-show-me-something-to-help-me-remember-the-difference/)*\n",
        "\n",
        "Будем замерять precision, recall и их комбинацию - $F_1$-меру.\n",
        "\n",
        "![precision-recall](https://upload.wikimedia.org/wikipedia/commons/thumb/2/26/Precisionrecall.svg/350px-Precisionrecall.svg.png =x600)  \n",
        "*From [Wikipedia](https://en.wikipedia.org/wiki/Precision_and_recall)*\n",
        "\n",
        "$$\\text{precision} = \\frac{tp}{tp + fp}.$$\n",
        "$$\\text{recall} = \\frac{tp}{tp + fn}.$$\n",
        "$$\\text{F}_1 = 2 \\cdot \\frac{\\text{precision} \\cdot \\text{recall}}{\\text{precision} + \\text{recall}}.$$"
      ]
    },
    {
      "metadata": {
        "id": "9bl6O_bAtVqd",
        "colab_type": "text"
      },
      "cell_type": "markdown",
      "source": [
        "Начнём с бейзлайна на регулярках."
      ]
    },
    {
      "metadata": {
        "id": "Ut8kgj7vscEH",
        "colab_type": "code",
        "colab": {
          "base_uri": "https://localhost:8080/",
          "height": 34
        },
        "outputId": "fc305c69-d04c-46df-ed0b-acb7c2759f35"
      },
      "cell_type": "code",
      "source": [
        "positives = [train_data[i] for i in range(len(train_labels)) if train_labels[i]]\n",
        "positives[:5]"
      ],
      "execution_count": 7,
      "outputs": [
        {
          "output_type": "execute_result",
          "data": {
            "text/plain": [
              "['ШАФНЕР', 'крест', 'Берса', 'Гаспорян', 'БЕЛЬЯНИНЫ']"
            ]
          },
          "metadata": {
            "tags": []
          },
          "execution_count": 7
        }
      ]
    },
    {
      "metadata": {
        "id": "Q6tUhBLUy0Wf",
        "colab_type": "code",
        "cellView": "both",
        "colab": {
          "base_uri": "https://localhost:8080/",
          "height": 34
        },
        "outputId": "8148bd6c-6f28-49b6-f93f-92ccd067a776"
      },
      "cell_type": "code",
      "source": [
        "#@title Супер-бейзлайн\n",
        "surname_indicators = \"^[А-Я][а-я], .*ский,  .*ов, .*ова,  *ина, .*ый,  .*ой\" #@param {type:\"raw\"}\n",
        "\n",
        "surname_indicators = surname_indicators.split(', ')\n",
        "\n",
        "import re\n",
        "\n",
        "regexs = [re.compile(regex) for regex in surname_indicators]\n",
        "\n",
        "preds = np.array([any(regex.match(word) for regex in regexs) for word in test_data])\n",
        "\n",
        "from sklearn.metrics import f1_score\n",
        "print('F1-score = {:.2%}'.format(f1_score(test_labels, preds)))"
      ],
      "execution_count": 9,
      "outputs": [
        {
          "output_type": "stream",
          "text": [
            "F1-score = 39.26%\n"
          ],
          "name": "stdout"
        }
      ]
    },
    {
      "metadata": {
        "id": "LJJtiGMK1ATy",
        "colab_type": "text"
      },
      "cell_type": "markdown",
      "source": [
        "А теперь серьёзно - бейзлайн на логистической регрессии поверх N-грамм символов.\n",
        "\n",
        "**Задание** Сделать классификацию с LogisticRegression моделью. Посчитать F1-меру."
      ]
    },
    {
      "metadata": {
        "id": "8COAoh7b0TXs",
        "colab_type": "code",
        "colab": {
          "base_uri": "https://localhost:8080/",
          "height": 69
        },
        "outputId": "0f943f35-74eb-4291-a718-0029d241182b"
      },
      "cell_type": "code",
      "source": [
        "from sklearn.feature_extraction.text import CountVectorizer\n",
        "from sklearn.linear_model import LogisticRegression\n",
        "\n",
        "vectorizer = CountVectorizer(analyzer='char', ngram_range=(1, 3), lowercase=False)\n",
        "vectorizer.fit(train_data)\n",
        "X_train, X_test = vectorizer.transform(train_data), vectorizer.transform(test_data)\n",
        "\n",
        "model = LogisticRegression().fit(X_train, train_labels)\n",
        "\n",
        "test_preds = model.predict(X_test)\n",
        "print('F1-score = {:.2%}'.format(f1_score(test_labels, test_preds)))"
      ],
      "execution_count": 10,
      "outputs": [
        {
          "output_type": "stream",
          "text": [
            "/usr/local/lib/python3.6/dist-packages/sklearn/linear_model/logistic.py:433: FutureWarning: Default solver will be changed to 'lbfgs' in 0.22. Specify a solver to silence this warning.\n",
            "  FutureWarning)\n"
          ],
          "name": "stderr"
        },
        {
          "output_type": "stream",
          "text": [
            "F1-score = 66.24%\n"
          ],
          "name": "stdout"
        }
      ]
    },
    {
      "metadata": {
        "id": "vN46GwPrzeJW",
        "colab_type": "text"
      },
      "cell_type": "markdown",
      "source": [
        "Посмотрим на предсказания"
      ]
    },
    {
      "metadata": {
        "id": "F-P8OSD7yZQt",
        "colab_type": "code",
        "colab": {
          "base_uri": "https://localhost:8080/",
          "height": 794
        },
        "outputId": "62aeb599-84f0-462a-ae1b-dce4174c9fae"
      },
      "cell_type": "code",
      "source": [
        "import eli5\n",
        "\n",
        "eli5.show_weights(model, vec=vectorizer, top=40)"
      ],
      "execution_count": 11,
      "outputs": [
        {
          "output_type": "execute_result",
          "data": {
            "text/html": [
              "\n",
              "    <style>\n",
              "    table.eli5-weights tr:hover {\n",
              "        filter: brightness(85%);\n",
              "    }\n",
              "</style>\n",
              "\n",
              "\n",
              "\n",
              "    \n",
              "\n",
              "    \n",
              "\n",
              "    \n",
              "\n",
              "    \n",
              "\n",
              "    \n",
              "\n",
              "    \n",
              "\n",
              "\n",
              "    \n",
              "\n",
              "    \n",
              "\n",
              "    \n",
              "\n",
              "    \n",
              "        \n",
              "\n",
              "    \n",
              "\n",
              "        \n",
              "            \n",
              "                \n",
              "                \n",
              "    \n",
              "        <p style=\"margin-bottom: 0.5em; margin-top: 0em\">\n",
              "            <b>\n",
              "    \n",
              "        y=1\n",
              "    \n",
              "</b>\n",
              "\n",
              "top features\n",
              "        </p>\n",
              "    \n",
              "    <table class=\"eli5-weights\"\n",
              "           style=\"border-collapse: collapse; border: none; margin-top: 0em; table-layout: auto; margin-bottom: 2em;\">\n",
              "        <thead>\n",
              "        <tr style=\"border: none;\">\n",
              "            \n",
              "                <th style=\"padding: 0 1em 0 0.5em; text-align: right; border: none;\" title=\"Feature weights. Note that weights do not account for feature value scales, so if feature values have different scales, features with highest weights might not be the most important.\">\n",
              "                    Weight<sup>?</sup>\n",
              "                </th>\n",
              "            \n",
              "            <th style=\"padding: 0 0.5em 0 0.5em; text-align: left; border: none;\">Feature</th>\n",
              "            \n",
              "        </tr>\n",
              "        </thead>\n",
              "        <tbody>\n",
              "        \n",
              "            <tr style=\"background-color: hsl(120, 100.00%, 84.14%); border: none;\">\n",
              "    <td style=\"padding: 0 1em 0 0.5em; text-align: right; border: none;\">\n",
              "        +2.855\n",
              "    </td>\n",
              "    <td style=\"padding: 0 0.5em 0 0.5em; text-align: left; border: none;\">\n",
              "        кий\n",
              "    </td>\n",
              "    \n",
              "</tr>\n",
              "        \n",
              "            <tr style=\"background-color: hsl(120, 100.00%, 84.24%); border: none;\">\n",
              "    <td style=\"padding: 0 1em 0 0.5em; text-align: right; border: none;\">\n",
              "        +2.830\n",
              "    </td>\n",
              "    <td style=\"padding: 0 0.5em 0 0.5em; text-align: left; border: none;\">\n",
              "        юк\n",
              "    </td>\n",
              "    \n",
              "</tr>\n",
              "        \n",
              "            <tr style=\"background-color: hsl(120, 100.00%, 84.96%); border: none;\">\n",
              "    <td style=\"padding: 0 1em 0 0.5em; text-align: right; border: none;\">\n",
              "        +2.646\n",
              "    </td>\n",
              "    <td style=\"padding: 0 0.5em 0 0.5em; text-align: left; border: none;\">\n",
              "        кин\n",
              "    </td>\n",
              "    \n",
              "</tr>\n",
              "        \n",
              "            <tr style=\"background-color: hsl(120, 100.00%, 85.05%); border: none;\">\n",
              "    <td style=\"padding: 0 1em 0 0.5em; text-align: right; border: none;\">\n",
              "        +2.624\n",
              "    </td>\n",
              "    <td style=\"padding: 0 0.5em 0 0.5em; text-align: left; border: none;\">\n",
              "        чук\n",
              "    </td>\n",
              "    \n",
              "</tr>\n",
              "        \n",
              "            <tr style=\"background-color: hsl(120, 100.00%, 86.11%); border: none;\">\n",
              "    <td style=\"padding: 0 1em 0 0.5em; text-align: right; border: none;\">\n",
              "        +2.363\n",
              "    </td>\n",
              "    <td style=\"padding: 0 0.5em 0 0.5em; text-align: left; border: none;\">\n",
              "        ев\n",
              "    </td>\n",
              "    \n",
              "</tr>\n",
              "        \n",
              "            <tr style=\"background-color: hsl(120, 100.00%, 86.97%); border: none;\">\n",
              "    <td style=\"padding: 0 1em 0 0.5em; text-align: right; border: none;\">\n",
              "        +2.156\n",
              "    </td>\n",
              "    <td style=\"padding: 0 0.5em 0 0.5em; text-align: left; border: none;\">\n",
              "        вой\n",
              "    </td>\n",
              "    \n",
              "</tr>\n",
              "        \n",
              "            <tr style=\"background-color: hsl(120, 100.00%, 87.11%); border: none;\">\n",
              "    <td style=\"padding: 0 1em 0 0.5em; text-align: right; border: none;\">\n",
              "        +2.123\n",
              "    </td>\n",
              "    <td style=\"padding: 0 0.5em 0 0.5em; text-align: left; border: none;\">\n",
              "        сон\n",
              "    </td>\n",
              "    \n",
              "</tr>\n",
              "        \n",
              "            <tr style=\"background-color: hsl(120, 100.00%, 87.41%); border: none;\">\n",
              "    <td style=\"padding: 0 1em 0 0.5em; text-align: right; border: none;\">\n",
              "        +2.054\n",
              "    </td>\n",
              "    <td style=\"padding: 0 0.5em 0 0.5em; text-align: left; border: none;\">\n",
              "        овы\n",
              "    </td>\n",
              "    \n",
              "</tr>\n",
              "        \n",
              "            <tr style=\"background-color: hsl(120, 100.00%, 87.55%); border: none;\">\n",
              "    <td style=\"padding: 0 1em 0 0.5em; text-align: right; border: none;\">\n",
              "        +2.021\n",
              "    </td>\n",
              "    <td style=\"padding: 0 0.5em 0 0.5em; text-align: left; border: none;\">\n",
              "        цк\n",
              "    </td>\n",
              "    \n",
              "</tr>\n",
              "        \n",
              "            <tr style=\"background-color: hsl(120, 100.00%, 87.56%); border: none;\">\n",
              "    <td style=\"padding: 0 1em 0 0.5em; text-align: right; border: none;\">\n",
              "        +2.020\n",
              "    </td>\n",
              "    <td style=\"padding: 0 0.5em 0 0.5em; text-align: left; border: none;\">\n",
              "        енк\n",
              "    </td>\n",
              "    \n",
              "</tr>\n",
              "        \n",
              "            <tr style=\"background-color: hsl(120, 100.00%, 87.58%); border: none;\">\n",
              "    <td style=\"padding: 0 1em 0 0.5em; text-align: right; border: none;\">\n",
              "        +2.014\n",
              "    </td>\n",
              "    <td style=\"padding: 0 0.5em 0 0.5em; text-align: left; border: none;\">\n",
              "        ЕВ\n",
              "    </td>\n",
              "    \n",
              "</tr>\n",
              "        \n",
              "            <tr style=\"background-color: hsl(120, 100.00%, 87.85%); border: none;\">\n",
              "    <td style=\"padding: 0 1em 0 0.5em; text-align: right; border: none;\">\n",
              "        +1.952\n",
              "    </td>\n",
              "    <td style=\"padding: 0 0.5em 0 0.5em; text-align: left; border: none;\">\n",
              "        ый\n",
              "    </td>\n",
              "    \n",
              "</tr>\n",
              "        \n",
              "            <tr style=\"background-color: hsl(120, 100.00%, 88.01%); border: none;\">\n",
              "    <td style=\"padding: 0 1em 0 0.5em; text-align: right; border: none;\">\n",
              "        +1.915\n",
              "    </td>\n",
              "    <td style=\"padding: 0 0.5em 0 0.5em; text-align: left; border: none;\">\n",
              "        нск\n",
              "    </td>\n",
              "    \n",
              "</tr>\n",
              "        \n",
              "            <tr style=\"background-color: hsl(120, 100.00%, 88.15%); border: none;\">\n",
              "    <td style=\"padding: 0 1em 0 0.5em; text-align: right; border: none;\">\n",
              "        +1.882\n",
              "    </td>\n",
              "    <td style=\"padding: 0 0.5em 0 0.5em; text-align: left; border: none;\">\n",
              "        ияз\n",
              "    </td>\n",
              "    \n",
              "</tr>\n",
              "        \n",
              "            <tr style=\"background-color: hsl(120, 100.00%, 88.17%); border: none;\">\n",
              "    <td style=\"padding: 0 1em 0 0.5em; text-align: right; border: none;\">\n",
              "        +1.880\n",
              "    </td>\n",
              "    <td style=\"padding: 0 0.5em 0 0.5em; text-align: left; border: none;\">\n",
              "        Иль\n",
              "    </td>\n",
              "    \n",
              "</tr>\n",
              "        \n",
              "            <tr style=\"background-color: hsl(120, 100.00%, 88.18%); border: none;\">\n",
              "    <td style=\"padding: 0 1em 0 0.5em; text-align: right; border: none;\">\n",
              "        +1.876\n",
              "    </td>\n",
              "    <td style=\"padding: 0 0.5em 0 0.5em; text-align: left; border: none;\">\n",
              "        Ро\n",
              "    </td>\n",
              "    \n",
              "</tr>\n",
              "        \n",
              "            <tr style=\"background-color: hsl(120, 100.00%, 88.22%); border: none;\">\n",
              "    <td style=\"padding: 0 1em 0 0.5em; text-align: right; border: none;\">\n",
              "        +1.866\n",
              "    </td>\n",
              "    <td style=\"padding: 0 0.5em 0 0.5em; text-align: left; border: none;\">\n",
              "        Аб\n",
              "    </td>\n",
              "    \n",
              "</tr>\n",
              "        \n",
              "            <tr style=\"background-color: hsl(120, 100.00%, 88.48%); border: none;\">\n",
              "    <td style=\"padding: 0 1em 0 0.5em; text-align: right; border: none;\">\n",
              "        +1.809\n",
              "    </td>\n",
              "    <td style=\"padding: 0 0.5em 0 0.5em; text-align: left; border: none;\">\n",
              "        цын\n",
              "    </td>\n",
              "    \n",
              "</tr>\n",
              "        \n",
              "            <tr style=\"background-color: hsl(120, 100.00%, 88.52%); border: none;\">\n",
              "    <td style=\"padding: 0 1em 0 0.5em; text-align: right; border: none;\">\n",
              "        +1.799\n",
              "    </td>\n",
              "    <td style=\"padding: 0 0.5em 0 0.5em; text-align: left; border: none;\">\n",
              "        рау\n",
              "    </td>\n",
              "    \n",
              "</tr>\n",
              "        \n",
              "            <tr style=\"background-color: hsl(120, 100.00%, 88.63%); border: none;\">\n",
              "    <td style=\"padding: 0 1em 0 0.5em; text-align: right; border: none;\">\n",
              "        +1.776\n",
              "    </td>\n",
              "    <td style=\"padding: 0 0.5em 0 0.5em; text-align: left; border: none;\">\n",
              "        Оти\n",
              "    </td>\n",
              "    \n",
              "</tr>\n",
              "        \n",
              "            <tr style=\"background-color: hsl(120, 100.00%, 88.75%); border: none;\">\n",
              "    <td style=\"padding: 0 1em 0 0.5em; text-align: right; border: none;\">\n",
              "        +1.749\n",
              "    </td>\n",
              "    <td style=\"padding: 0 0.5em 0 0.5em; text-align: left; border: none;\">\n",
              "        ову\n",
              "    </td>\n",
              "    \n",
              "</tr>\n",
              "        \n",
              "            <tr style=\"background-color: hsl(120, 100.00%, 88.78%); border: none;\">\n",
              "    <td style=\"padding: 0 1em 0 0.5em; text-align: right; border: none;\">\n",
              "        +1.742\n",
              "    </td>\n",
              "    <td style=\"padding: 0 0.5em 0 0.5em; text-align: left; border: none;\">\n",
              "        иас\n",
              "    </td>\n",
              "    \n",
              "</tr>\n",
              "        \n",
              "            <tr style=\"background-color: hsl(120, 100.00%, 88.82%); border: none;\">\n",
              "    <td style=\"padding: 0 1em 0 0.5em; text-align: right; border: none;\">\n",
              "        +1.732\n",
              "    </td>\n",
              "    <td style=\"padding: 0 0.5em 0 0.5em; text-align: left; border: none;\">\n",
              "        бек\n",
              "    </td>\n",
              "    \n",
              "</tr>\n",
              "        \n",
              "            <tr style=\"background-color: hsl(120, 100.00%, 88.86%); border: none;\">\n",
              "    <td style=\"padding: 0 1em 0 0.5em; text-align: right; border: none;\">\n",
              "        +1.725\n",
              "    </td>\n",
              "    <td style=\"padding: 0 0.5em 0 0.5em; text-align: left; border: none;\">\n",
              "        ЫЙ\n",
              "    </td>\n",
              "    \n",
              "</tr>\n",
              "        \n",
              "            <tr style=\"background-color: hsl(120, 100.00%, 88.93%); border: none;\">\n",
              "    <td style=\"padding: 0 1em 0 0.5em; text-align: right; border: none;\">\n",
              "        +1.708\n",
              "    </td>\n",
              "    <td style=\"padding: 0 0.5em 0 0.5em; text-align: left; border: none;\">\n",
              "        КИН\n",
              "    </td>\n",
              "    \n",
              "</tr>\n",
              "        \n",
              "            <tr style=\"background-color: hsl(120, 100.00%, 89.01%); border: none;\">\n",
              "    <td style=\"padding: 0 1em 0 0.5em; text-align: right; border: none;\">\n",
              "        +1.692\n",
              "    </td>\n",
              "    <td style=\"padding: 0 0.5em 0 0.5em; text-align: left; border: none;\">\n",
              "        Ку\n",
              "    </td>\n",
              "    \n",
              "</tr>\n",
              "        \n",
              "            <tr style=\"background-color: hsl(120, 100.00%, 89.04%); border: none;\">\n",
              "    <td style=\"padding: 0 1em 0 0.5em; text-align: right; border: none;\">\n",
              "        +1.685\n",
              "    </td>\n",
              "    <td style=\"padding: 0 0.5em 0 0.5em; text-align: left; border: none;\">\n",
              "        Ш\n",
              "    </td>\n",
              "    \n",
              "</tr>\n",
              "        \n",
              "            <tr style=\"background-color: hsl(120, 100.00%, 89.10%); border: none;\">\n",
              "    <td style=\"padding: 0 1em 0 0.5em; text-align: right; border: none;\">\n",
              "        +1.672\n",
              "    </td>\n",
              "    <td style=\"padding: 0 0.5em 0 0.5em; text-align: left; border: none;\">\n",
              "        Лэ\n",
              "    </td>\n",
              "    \n",
              "</tr>\n",
              "        \n",
              "            <tr style=\"background-color: hsl(120, 100.00%, 89.17%); border: none;\">\n",
              "    <td style=\"padding: 0 1em 0 0.5em; text-align: right; border: none;\">\n",
              "        +1.657\n",
              "    </td>\n",
              "    <td style=\"padding: 0 0.5em 0 0.5em; text-align: left; border: none;\">\n",
              "        кев\n",
              "    </td>\n",
              "    \n",
              "</tr>\n",
              "        \n",
              "            <tr style=\"background-color: hsl(120, 100.00%, 89.23%); border: none;\">\n",
              "    <td style=\"padding: 0 1em 0 0.5em; text-align: right; border: none;\">\n",
              "        +1.642\n",
              "    </td>\n",
              "    <td style=\"padding: 0 0.5em 0 0.5em; text-align: left; border: none;\">\n",
              "        Ур\n",
              "    </td>\n",
              "    \n",
              "</tr>\n",
              "        \n",
              "            <tr style=\"background-color: hsl(120, 100.00%, 89.25%); border: none;\">\n",
              "    <td style=\"padding: 0 1em 0 0.5em; text-align: right; border: none;\">\n",
              "        +1.638\n",
              "    </td>\n",
              "    <td style=\"padding: 0 0.5em 0 0.5em; text-align: left; border: none;\">\n",
              "        нин\n",
              "    </td>\n",
              "    \n",
              "</tr>\n",
              "        \n",
              "            <tr style=\"background-color: hsl(120, 100.00%, 89.26%); border: none;\">\n",
              "    <td style=\"padding: 0 1em 0 0.5em; text-align: right; border: none;\">\n",
              "        +1.636\n",
              "    </td>\n",
              "    <td style=\"padding: 0 0.5em 0 0.5em; text-align: left; border: none;\">\n",
              "        улм\n",
              "    </td>\n",
              "    \n",
              "</tr>\n",
              "        \n",
              "        \n",
              "            <tr style=\"background-color: hsl(120, 100.00%, 89.26%); border: none;\">\n",
              "                <td colspan=\"2\" style=\"padding: 0 0.5em 0 0.5em; text-align: center; border: none; white-space: nowrap;\">\n",
              "                    <i>&hellip; 6527 more positive &hellip;</i>\n",
              "                </td>\n",
              "            </tr>\n",
              "        \n",
              "\n",
              "        \n",
              "            <tr style=\"background-color: hsl(0, 100.00%, 89.28%); border: none;\">\n",
              "                <td colspan=\"2\" style=\"padding: 0 0.5em 0 0.5em; text-align: center; border: none; white-space: nowrap;\">\n",
              "                    <i>&hellip; 13049 more negative &hellip;</i>\n",
              "                </td>\n",
              "            </tr>\n",
              "        \n",
              "        \n",
              "            <tr style=\"background-color: hsl(0, 100.00%, 89.28%); border: none;\">\n",
              "    <td style=\"padding: 0 1em 0 0.5em; text-align: right; border: none;\">\n",
              "        -1.632\n",
              "    </td>\n",
              "    <td style=\"padding: 0 0.5em 0 0.5em; text-align: left; border: none;\">\n",
              "        кон\n",
              "    </td>\n",
              "    \n",
              "</tr>\n",
              "        \n",
              "            <tr style=\"background-color: hsl(0, 100.00%, 88.37%); border: none;\">\n",
              "    <td style=\"padding: 0 1em 0 0.5em; text-align: right; border: none;\">\n",
              "        -1.834\n",
              "    </td>\n",
              "    <td style=\"padding: 0 0.5em 0 0.5em; text-align: left; border: none;\">\n",
              "        вар\n",
              "    </td>\n",
              "    \n",
              "</tr>\n",
              "        \n",
              "            <tr style=\"background-color: hsl(0, 100.00%, 88.21%); border: none;\">\n",
              "    <td style=\"padding: 0 1em 0 0.5em; text-align: right; border: none;\">\n",
              "        -1.871\n",
              "    </td>\n",
              "    <td style=\"padding: 0 0.5em 0 0.5em; text-align: left; border: none;\">\n",
              "        льк\n",
              "    </td>\n",
              "    \n",
              "</tr>\n",
              "        \n",
              "            <tr style=\"background-color: hsl(0, 100.00%, 88.10%); border: none;\">\n",
              "    <td style=\"padding: 0 1em 0 0.5em; text-align: right; border: none;\">\n",
              "        -1.894\n",
              "    </td>\n",
              "    <td style=\"padding: 0 0.5em 0 0.5em; text-align: left; border: none;\">\n",
              "        сть\n",
              "    </td>\n",
              "    \n",
              "</tr>\n",
              "        \n",
              "            <tr style=\"background-color: hsl(0, 100.00%, 87.95%); border: none;\">\n",
              "    <td style=\"padding: 0 1em 0 0.5em; text-align: right; border: none;\">\n",
              "        -1.930\n",
              "    </td>\n",
              "    <td style=\"padding: 0 0.5em 0 0.5em; text-align: left; border: none;\">\n",
              "        вер\n",
              "    </td>\n",
              "    \n",
              "</tr>\n",
              "        \n",
              "            <tr style=\"background-color: hsl(0, 100.00%, 87.70%); border: none;\">\n",
              "    <td style=\"padding: 0 1em 0 0.5em; text-align: right; border: none;\">\n",
              "        -1.986\n",
              "    </td>\n",
              "    <td style=\"padding: 0 0.5em 0 0.5em; text-align: left; border: none;\">\n",
              "        Мин\n",
              "    </td>\n",
              "    \n",
              "</tr>\n",
              "        \n",
              "            <tr style=\"background-color: hsl(0, 100.00%, 84.45%); border: none;\">\n",
              "    <td style=\"padding: 0 1em 0 0.5em; text-align: right; border: none;\">\n",
              "        -2.777\n",
              "    </td>\n",
              "    <td style=\"padding: 0 0.5em 0 0.5em; text-align: left; border: none;\">\n",
              "        <span style=\"background-color: hsl(0, 80%, 70%); margin: 0 0.1em 0 0\" title=\"A space symbol\">&emsp;</span>\n",
              "    </td>\n",
              "    \n",
              "</tr>\n",
              "        \n",
              "            <tr style=\"background-color: hsl(0, 100.00%, 80.00%); border: none;\">\n",
              "    <td style=\"padding: 0 1em 0 0.5em; text-align: right; border: none;\">\n",
              "        -3.978\n",
              "    </td>\n",
              "    <td style=\"padding: 0 0.5em 0 0.5em; text-align: left; border: none;\">\n",
              "        -\n",
              "    </td>\n",
              "    \n",
              "</tr>\n",
              "        \n",
              "\n",
              "        </tbody>\n",
              "    </table>\n",
              "\n",
              "            \n",
              "        \n",
              "\n",
              "        \n",
              "\n",
              "\n",
              "\n",
              "    \n",
              "\n",
              "    \n",
              "\n",
              "    \n",
              "\n",
              "    \n",
              "\n",
              "\n",
              "    \n",
              "\n",
              "    \n",
              "\n",
              "    \n",
              "\n",
              "    \n",
              "\n",
              "    \n",
              "\n",
              "    \n",
              "\n",
              "\n",
              "    \n",
              "\n",
              "    \n",
              "\n",
              "    \n",
              "\n",
              "    \n",
              "\n",
              "    \n",
              "\n",
              "    \n",
              "\n",
              "\n",
              "\n"
            ],
            "text/plain": [
              "<IPython.core.display.HTML object>"
            ]
          },
          "metadata": {
            "tags": []
          },
          "execution_count": 11
        }
      ]
    },
    {
      "metadata": {
        "id": "iYXljseDyd77",
        "colab_type": "code",
        "colab": {
          "base_uri": "https://localhost:8080/",
          "height": 167
        },
        "outputId": "adf198ca-8af4-4546-973b-bc1f60450aec"
      },
      "cell_type": "code",
      "source": [
        "sample_ind = np.random.randint(len(test_data))\n",
        "eli5.show_prediction(model, test_data[sample_ind], vec=vectorizer, targets=['surname'], target_names=['word', 'surname'])"
      ],
      "execution_count": 12,
      "outputs": [
        {
          "output_type": "execute_result",
          "data": {
            "text/html": [
              "\n",
              "    <style>\n",
              "    table.eli5-weights tr:hover {\n",
              "        filter: brightness(85%);\n",
              "    }\n",
              "</style>\n",
              "\n",
              "\n",
              "\n",
              "    \n",
              "\n",
              "    \n",
              "\n",
              "    \n",
              "\n",
              "    \n",
              "\n",
              "    \n",
              "\n",
              "    \n",
              "\n",
              "\n",
              "    \n",
              "\n",
              "    \n",
              "\n",
              "    \n",
              "\n",
              "    \n",
              "        \n",
              "\n",
              "    \n",
              "\n",
              "        \n",
              "\n",
              "        \n",
              "    \n",
              "        \n",
              "        \n",
              "    \n",
              "        <p style=\"margin-bottom: 0.5em; margin-top: 0em\">\n",
              "            <b>\n",
              "    \n",
              "        y=surname\n",
              "    \n",
              "</b>\n",
              "\n",
              "    \n",
              "    (probability <b>0.000</b>, score <b>-12.025</b>)\n",
              "\n",
              "top features\n",
              "        </p>\n",
              "    \n",
              "    <table class=\"eli5-weights\"\n",
              "           style=\"border-collapse: collapse; border: none; margin-top: 0em; table-layout: auto; margin-bottom: 2em;\">\n",
              "        <thead>\n",
              "        <tr style=\"border: none;\">\n",
              "            \n",
              "                <th style=\"padding: 0 1em 0 0.5em; text-align: right; border: none;\" title=\"Feature contribution already accounts for the feature value (for linear models, contribution = weight * feature value), and the sum of feature contributions is equal to the score or, for some classifiers, to the probability. Feature values are shown if &quot;show_feature_values&quot; is True.\">\n",
              "                    Contribution<sup>?</sup>\n",
              "                </th>\n",
              "            \n",
              "            <th style=\"padding: 0 0.5em 0 0.5em; text-align: left; border: none;\">Feature</th>\n",
              "            \n",
              "        </tr>\n",
              "        </thead>\n",
              "        <tbody>\n",
              "        \n",
              "        \n",
              "\n",
              "        \n",
              "        \n",
              "            <tr style=\"background-color: hsl(0, 100.00%, 95.09%); border: none;\">\n",
              "    <td style=\"padding: 0 1em 0 0.5em; text-align: right; border: none;\">\n",
              "        -1.424\n",
              "    </td>\n",
              "    <td style=\"padding: 0 0.5em 0 0.5em; text-align: left; border: none;\">\n",
              "        &lt;BIAS&gt;\n",
              "    </td>\n",
              "    \n",
              "</tr>\n",
              "        \n",
              "            <tr style=\"background-color: hsl(0, 100.00%, 80.00%); border: none;\">\n",
              "    <td style=\"padding: 0 1em 0 0.5em; text-align: right; border: none;\">\n",
              "        -10.601\n",
              "    </td>\n",
              "    <td style=\"padding: 0 0.5em 0 0.5em; text-align: left; border: none;\">\n",
              "        Highlighted in text (sum)\n",
              "    </td>\n",
              "    \n",
              "</tr>\n",
              "        \n",
              "\n",
              "        </tbody>\n",
              "    </table>\n",
              "\n",
              "    \n",
              "\n",
              "\n",
              "\n",
              "    <p style=\"margin-bottom: 2.5em; margin-top:-0.5em;\">\n",
              "        <span style=\"background-color: hsl(0, 100.00%, 86.61%); opacity: 0.84\" title=\"-0.345\">г</span><span style=\"background-color: hsl(0, 100.00%, 80.05%); opacity: 0.87\" title=\"-0.609\">р</span><span style=\"background-color: hsl(0, 100.00%, 90.89%); opacity: 0.82\" title=\"-0.199\">у</span><span style=\"background-color: hsl(0, 100.00%, 90.80%); opacity: 0.82\" title=\"-0.202\">з</span><span style=\"background-color: hsl(120, 100.00%, 94.56%); opacity: 0.81\" title=\"0.095\">о</span><span style=\"background-color: hsl(0, 100.00%, 82.68%); opacity: 0.86\" title=\"-0.498\">п</span><span style=\"background-color: hsl(0, 100.00%, 94.18%); opacity: 0.81\" title=\"-0.105\">о</span><span style=\"background-color: hsl(0, 100.00%, 83.83%); opacity: 0.85\" title=\"-0.451\">д</span><span style=\"background-color: hsl(0, 100.00%, 83.48%); opacity: 0.86\" title=\"-0.465\">ъ</span><span style=\"background-color: hsl(0, 100.00%, 81.26%); opacity: 0.87\" title=\"-0.557\">ё</span><span style=\"background-color: hsl(0, 100.00%, 79.24%); opacity: 0.88\" title=\"-0.645\">м</span><span style=\"background-color: hsl(0, 100.00%, 79.86%); opacity: 0.88\" title=\"-0.618\">н</span><span style=\"background-color: hsl(0, 100.00%, 72.20%); opacity: 0.92\" title=\"-0.979\">о</span><span style=\"background-color: hsl(0, 100.00%, 60.00%); opacity: 1.00\" title=\"-1.646\">с</span><span style=\"background-color: hsl(0, 100.00%, 69.93%); opacity: 0.93\" title=\"-1.095\">т</span><span style=\"background-color: hsl(0, 100.00%, 70.26%); opacity: 0.93\" title=\"-1.078\">ь</span><span style=\"background-color: hsl(0, 100.00%, 67.82%); opacity: 0.95\" title=\"-1.206\">ю</span>\n",
              "    </p>\n",
              "\n",
              "\n",
              "    \n",
              "\n",
              "    \n",
              "\n",
              "    \n",
              "\n",
              "    \n",
              "\n",
              "\n",
              "    \n",
              "\n",
              "    \n",
              "\n",
              "    \n",
              "\n",
              "    \n",
              "\n",
              "    \n",
              "\n",
              "    \n",
              "\n",
              "\n",
              "    \n",
              "\n",
              "    \n",
              "\n",
              "    \n",
              "\n",
              "    \n",
              "\n",
              "    \n",
              "\n",
              "    \n",
              "\n",
              "\n",
              "\n"
            ],
            "text/plain": [
              "<IPython.core.display.HTML object>"
            ]
          },
          "metadata": {
            "tags": []
          },
          "execution_count": 12
        }
      ]
    },
    {
      "metadata": {
        "id": "cQF3JlD7twQK",
        "colab_type": "text"
      },
      "cell_type": "markdown",
      "source": [
        "Кроме тупого подсчета F1-score можно посмотреть на precision-recall кривые. Во-первых, они красивые. Во-вторых, по ним видно, что можно повысить качество (F1-score), подобрав другой порог - **хотя на тесте это делать нельзя**."
      ]
    },
    {
      "metadata": {
        "id": "a7oyvJ-2EG0m",
        "colab_type": "code",
        "colab": {
          "base_uri": "https://localhost:8080/",
          "height": 456
        },
        "outputId": "b8758118-68b6-4af7-fa38-266409c9b1a1"
      },
      "cell_type": "code",
      "source": [
        "from sklearn.metrics import precision_recall_curve\n",
        "\n",
        "precision, recall, _ = precision_recall_curve(test_labels, model.predict_proba(X_test)[:, 1])\n",
        "\n",
        "plt.figure(figsize=(7, 7))\n",
        "f_scores = np.linspace(0.2, 0.8, num=4)\n",
        "lines = []\n",
        "labels = []\n",
        "for f_score in f_scores:\n",
        "    x = np.linspace(0.01, 1)\n",
        "    y = f_score * x / (2 * x - f_score)\n",
        "    l, = plt.plot(x[y >= 0], y[y >= 0], color='gray', alpha=0.2)\n",
        "    plt.annotate('F1 = {0:0.1f}'.format(f_score), xy=(0.9, y[45] + 0.02))\n",
        "\n",
        "plt.plot(recall, precision)\n",
        "\n",
        "plt.xlim([0.0, 1.0])\n",
        "plt.ylim([0.0, 1.05])\n",
        "plt.xlabel('Recall')\n",
        "plt.ylabel('Precision')\n",
        "plt.title('Precision-Recall Curve')\n",
        "\n",
        "plt.show()"
      ],
      "execution_count": 13,
      "outputs": [
        {
          "output_type": "display_data",
          "data": {
            "image/png": "[encoded data removed]",
            "text/plain": [
              "<Figure size 504x504 with 1 Axes>"
            ]
          },
          "metadata": {
            "tags": []
          }
        }
      ]
    },
    {
      "metadata": {
        "id": "tL6Bnl8ftoYP",
        "colab_type": "text"
      },
      "cell_type": "markdown",
      "source": [
        "**Задание** Придумайте признаки, чтобы улучшить качество модели."
      ]
    },
    {
      "metadata": {
        "id": "rRhcCJcAS4S5",
        "colab_type": "text"
      },
      "cell_type": "markdown",
      "source": [
        "## Character-Level Convolutions\n",
        "\n",
        "### Общее описание сверток\n",
        "\n",
        "Напомню, свертки - это то, с чего начался хайп нейронных сетей в районе 2012-ого.\n",
        "\n",
        "Работают они примерно так:  \n",
        "![Conv example](https://image.ibb.co/e6t8ZK/Convolution.gif)   \n",
        "From [Feature extraction using convolution](http://deeplearning.stanford.edu/wiki/index.php/Feature_extraction_using_convolution).\n",
        "\n",
        "Формально - учатся наборы фильтров, каждый из которых скалярно умножается на элементы матрицы признаков. На картинке выше исходная матрица сворачивается с фильтром\n",
        "$$\n",
        " \\begin{pmatrix}\n",
        "  1 & 0 & 1 \\\\\n",
        "  0 & 1 & 0 \\\\\n",
        "  1 & 0 & 1\n",
        " \\end{pmatrix}\n",
        "$$\n",
        "\n",
        "Но нужно не забывать, что свертки обычно имеют ещё такую размерность, как число каналов. Например, картинки имеют обычно три канала: RGB.  \n",
        "Наглядно демонстрируется как выглядят при этом фильтры [здесь](http://cs231n.github.io/convolutional-networks/#conv).\n",
        "\n",
        "После сверток обычно следуют pooling-слои. Они помогают уменьшить размерность тензора, с которым приходится работать. Самым частым является max-pooling:  \n",
        "![maxpooling](http://cs231n.github.io/assets/cnn/maxpool.jpeg =x300)  \n",
        "From [CS231n Convolutional Neural Networks for Visual Recognition](http://cs231n.github.io/convolutional-networks/#pool)"
      ]
    },
    {
      "metadata": {
        "id": "x-M3lCE1ealB",
        "colab_type": "text"
      },
      "cell_type": "markdown",
      "source": [
        "### Свёртки для текстов\n",
        "\n",
        "Для текстов свертки работают как n-граммные детекторы (примерно). Каноничный пример символьной сверточной сети:\n",
        "\n",
        "![text-convs](https://image.ibb.co/bC3Xun/2018_03_27_01_24_39.png =x500)  \n",
        "From [Character-Aware Neural Language Models](https://arxiv.org/abs/1508.06615)\n",
        "\n",
        "*Сколько учится фильтров на данном примере?*\n",
        "\n",
        "На картинке показано, как из слова извлекаются 2, 3 и 4-граммы. Например, желтые - это триграммы. Желтый фильтр прикладывают ко всем триграммам в слове, а потом с помощью global max-pooling извлекают наиболее сильный сигнал.\n",
        "\n",
        "Что это значит, если конкретнее?\n",
        "\n",
        "Каждый символ отображается с помощью эмбеддингов в некоторый вектор. А их последовательности - в конкатенации эмбеддингов.  \n",
        "Например, \"abs\" $\\to [v_a; v_b; v_s] \\in \\mathbb{R}^{3 d}$, где $d$ - размерность эмбеддинга. Желтый фильтр $f_k$ имеет такую же размерность $3d$.  \n",
        "Его прикладывание - это скалярное произведение $\\left([v_a; v_b; v_s] \\odot f_k \\right) \\in \\mathbb R$ (один из желтых квадратиков в feature map для данного фильтра).\n",
        "\n",
        "Max-pooling выбирает $max_i \\left( [v_{i-1}; v_{i}; v_{i+1}] \\odot f_k \\right)$, где $i$ пробегается по всем индексам слова от 1 до $|w| - 1$ (либо по большему диапазону, если есть padding'и).   \n",
        "Этот максимум соответствует той триграмме, которая наиболее близка к фильтру по косинусному расстоянию.\n",
        "\n",
        "В результате в векторе после max-pooling'а закодирована информация о том, какие из n-грамм встретились в слове: если встретилась близкая к нашему $f_k$ триграмма, то в $k$-той позиции вектора будет стоять большое значение, иначе - маленькое.\n",
        "\n",
        "А учим мы как раз фильтры. То есть сеть должна научиться определять, какие из n-грамм значимы, а какие - нет."
      ]
    },
    {
      "metadata": {
        "id": "xz7ApwLZ05kc",
        "colab_type": "text"
      },
      "cell_type": "markdown",
      "source": [
        "### Игрушечный пример\n",
        "\n",
        "Посмотрим на примере, что там происходит. Возьмем слово:"
      ]
    },
    {
      "metadata": {
        "id": "P7fbpo630iZa",
        "colab_type": "code",
        "colab": {}
      },
      "cell_type": "code",
      "source": [
        "word = 'Смирнов'"
      ],
      "execution_count": 0,
      "outputs": []
    },
    {
      "metadata": {
        "id": "1R4gvJVD0-0f",
        "colab_type": "text"
      },
      "cell_type": "markdown",
      "source": [
        "Для начала нужно перенумеровать символы:"
      ]
    },
    {
      "metadata": {
        "id": "x99Q65ot02Vi",
        "colab_type": "code",
        "colab": {
          "base_uri": "https://localhost:8080/",
          "height": 34
        },
        "outputId": "fdcd5fdb-c565-447d-e2df-b375ced4587b"
      },
      "cell_type": "code",
      "source": [
        "char2index = {symb: ind for ind, symb in enumerate(set(word))}\n",
        "\n",
        "char2index"
      ],
      "execution_count": 15,
      "outputs": [
        {
          "output_type": "execute_result",
          "data": {
            "text/plain": [
              "{'С': 2, 'в': 5, 'и': 6, 'м': 3, 'н': 1, 'о': 0, 'р': 4}"
            ]
          },
          "metadata": {
            "tags": []
          },
          "execution_count": 15
        }
      ]
    },
    {
      "metadata": {
        "id": "3sxJYZEs1M8y",
        "colab_type": "text"
      },
      "cell_type": "markdown",
      "source": [
        "Каждому символу сопоставляется эмбеддинг. Простейший способ сделать эмбеддинги - взять единичную матрицу. Когда у нас были десятки тысяч слов, такие эмбеддинги были не оч, а сейчас всего несколько символов вполне адекватно присвоить им ортогональные вектора небольшой размерности."
      ]
    },
    {
      "metadata": {
        "id": "wbApeJdb1EGq",
        "colab_type": "code",
        "colab": {
          "base_uri": "https://localhost:8080/",
          "height": 138
        },
        "outputId": "e60d03d8-b070-4b2d-8e38-2e0dd15e6b13"
      },
      "cell_type": "code",
      "source": [
        "embeddings = torch.eye(len(char2index))\n",
        "\n",
        "embeddings"
      ],
      "execution_count": 16,
      "outputs": [
        {
          "output_type": "execute_result",
          "data": {
            "text/plain": [
              "tensor([[1., 0., 0., 0., 0., 0., 0.],\n",
              "        [0., 1., 0., 0., 0., 0., 0.],\n",
              "        [0., 0., 1., 0., 0., 0., 0.],\n",
              "        [0., 0., 0., 1., 0., 0., 0.],\n",
              "        [0., 0., 0., 0., 1., 0., 0.],\n",
              "        [0., 0., 0., 0., 0., 1., 0.],\n",
              "        [0., 0., 0., 0., 0., 0., 1.]])"
            ]
          },
          "metadata": {
            "tags": []
          },
          "execution_count": 16
        }
      ]
    },
    {
      "metadata": {
        "id": "mP9i5pPx2BGs",
        "colab_type": "text"
      },
      "cell_type": "markdown",
      "source": [
        "Построим тензор индексов символов слова:"
      ]
    },
    {
      "metadata": {
        "id": "PBIIlHy91ohP",
        "colab_type": "code",
        "colab": {
          "base_uri": "https://localhost:8080/",
          "height": 34
        },
        "outputId": "5d835904-9471-4c2c-9c3d-758222a0c703"
      },
      "cell_type": "code",
      "source": [
        "word_tensor = torch.LongTensor([char2index[symb] for symb in word])\n",
        "\n",
        "word_tensor"
      ],
      "execution_count": 17,
      "outputs": [
        {
          "output_type": "execute_result",
          "data": {
            "text/plain": [
              "tensor([2, 3, 6, 4, 1, 0, 5])"
            ]
          },
          "metadata": {
            "tags": []
          },
          "execution_count": 17
        }
      ]
    },
    {
      "metadata": {
        "id": "eL3qLw-p2Htk",
        "colab_type": "text"
      },
      "cell_type": "markdown",
      "source": [
        "Отобразим его в эмбеддинги. Получили такой же прямоугольничек, как на картинке (транспонирование нужно, чтобы смотрело в ту же сторону)."
      ]
    },
    {
      "metadata": {
        "id": "4fkChxtt1yqY",
        "colab_type": "code",
        "colab": {
          "base_uri": "https://localhost:8080/",
          "height": 138
        },
        "outputId": "e0dfdd3a-307e-482f-d0c2-dace9e5e30c9"
      },
      "cell_type": "code",
      "source": [
        "word_embs = embeddings[word_tensor].t()\n",
        "\n",
        "word_embs"
      ],
      "execution_count": 18,
      "outputs": [
        {
          "output_type": "execute_result",
          "data": {
            "text/plain": [
              "tensor([[0., 0., 0., 0., 0., 1., 0.],\n",
              "        [0., 0., 0., 0., 1., 0., 0.],\n",
              "        [1., 0., 0., 0., 0., 0., 0.],\n",
              "        [0., 1., 0., 0., 0., 0., 0.],\n",
              "        [0., 0., 0., 1., 0., 0., 0.],\n",
              "        [0., 0., 0., 0., 0., 0., 1.],\n",
              "        [0., 0., 1., 0., 0., 0., 0.]])"
            ]
          },
          "metadata": {
            "tags": []
          },
          "execution_count": 18
        }
      ]
    },
    {
      "metadata": {
        "id": "QL4o1EI-2O_I",
        "colab_type": "text"
      },
      "cell_type": "markdown",
      "source": [
        "Теперь дело дошло до сверток. Сделаем фильтр-детектор триграммы `нов`:"
      ]
    },
    {
      "metadata": {
        "id": "ToW8KCUY1723",
        "colab_type": "code",
        "colab": {
          "base_uri": "https://localhost:8080/",
          "height": 138
        },
        "outputId": "71c3e330-2dba-4ce6-de5b-9a2e424cac5e"
      },
      "cell_type": "code",
      "source": [
        "kernel_name = 'нов'\n",
        "\n",
        "kernel_indices = torch.LongTensor([char2index[symb] for symb in kernel_name])\n",
        "kernel_weights = embeddings[kernel_indices].t()\n",
        "\n",
        "kernel_weights"
      ],
      "execution_count": 19,
      "outputs": [
        {
          "output_type": "execute_result",
          "data": {
            "text/plain": [
              "tensor([[0., 1., 0.],\n",
              "        [1., 0., 0.],\n",
              "        [0., 0., 0.],\n",
              "        [0., 0., 0.],\n",
              "        [0., 0., 0.],\n",
              "        [0., 0., 1.],\n",
              "        [0., 0., 0.]])"
            ]
          },
          "metadata": {
            "tags": []
          },
          "execution_count": 19
        }
      ]
    },
    {
      "metadata": {
        "id": "kTxfchOy4c9w",
        "colab_type": "text"
      },
      "cell_type": "markdown",
      "source": [
        "Чтобы посчитать свёртку, воспользуемся функцией:\n",
        "\n",
        "```python\n",
        "F.conv2d(input, weight, bias=None, stride=1, padding=0, dilation=1, groups=1) -> Tensor\n",
        "```\n",
        "\n",
        "input: input tensor of shape ($N \\times C_{in} \\times H_{in} \\times W_{in}$)  \n",
        "weight: filters of shape ($C_{out} \\times C_{in} \\times H_{out} \\times W_{out}$)\n",
        "\n",
        "$N$ - размер батча (1 у нас). $C_{in}$ - число каналов. В нашем случае оно всегда будет 1 (пока что). $C_{out}$ - число фильтров. Оно пока 1.\n",
        "\n",
        "Нам понадобятся четырехмерные тензоры, для этого воспользуемся `view`:"
      ]
    },
    {
      "metadata": {
        "id": "Oyd3Na7V3JMr",
        "colab_type": "code",
        "colab": {
          "base_uri": "https://localhost:8080/",
          "height": 51
        },
        "outputId": "9a06d238-38ba-4051-d111-9d2f6289bd9e"
      },
      "cell_type": "code",
      "source": [
        "word_embs = word_embs.view(1, 1, word_embs.shape[0], word_embs.shape[1])\n",
        "kernel_weights = kernel_weights.view(1, 1, kernel_weights.shape[0], kernel_weights.shape[1])\n",
        "\n",
        "conv_result = F.conv2d(word_embs, kernel_weights)[0, 0]\n",
        "\n",
        "print('Conv =', conv_result)\n",
        "print('Max pooling =', conv_result.max())"
      ],
      "execution_count": 20,
      "outputs": [
        {
          "output_type": "stream",
          "text": [
            "Conv = tensor([[0., 0., 0., 0., 3.]])\n",
            "Max pooling = tensor(3.)\n"
          ],
          "name": "stdout"
        }
      ]
    },
    {
      "metadata": {
        "id": "tVAiQ2PG6SOd",
        "colab_type": "text"
      },
      "cell_type": "markdown",
      "source": [
        "Свертка сказала, что данный фильтр есть на последней позиции. Пулинг сказал, пофиг на какой позиции - главное, он есть."
      ]
    },
    {
      "metadata": {
        "id": "h7ZVbNOGoV5z",
        "colab_type": "text"
      },
      "cell_type": "markdown",
      "source": [
        "### Подготовка данных\n",
        "\n",
        "Первый шаг - определить, какой длины слова у нас. Ограничимся каким-то числом, а более длинные будем обрезать."
      ]
    },
    {
      "metadata": {
        "id": "DEtZ6g78Wtj-",
        "colab_type": "code",
        "outputId": "529a376f-3282-4aa1-dabd-fd2d0788a37e",
        "colab": {
          "base_uri": "https://localhost:8080/",
          "height": 34
        }
      },
      "cell_type": "code",
      "source": [
        "from collections import Counter \n",
        "    \n",
        "def find_max_len(counter, threshold):\n",
        "    sum_count = sum(counter.values())\n",
        "    cum_count = 0\n",
        "    for i in range(max(counter)):\n",
        "        cum_count += counter[i]\n",
        "        if cum_count > sum_count * threshold:\n",
        "            return i\n",
        "    return max(counter)\n",
        "\n",
        "word_len_counter = Counter()\n",
        "for word in train_data:\n",
        "    word_len_counter[len(word)] += 1\n",
        "    \n",
        "threshold = 0.99\n",
        "MAX_WORD_LEN = find_max_len(word_len_counter, threshold)\n",
        "\n",
        "print('Max word length for {:.0%} of words is {}'.format(threshold, MAX_WORD_LEN))"
      ],
      "execution_count": 21,
      "outputs": [
        {
          "output_type": "stream",
          "text": [
            "Max word length for 99% of words is 17\n"
          ],
          "name": "stdout"
        }
      ]
    },
    {
      "metadata": {
        "id": "MdKoOBdE8uj4",
        "colab_type": "text"
      },
      "cell_type": "markdown",
      "source": [
        "Соберем отображение из символов в индексы."
      ]
    },
    {
      "metadata": {
        "id": "YyMoPEXGVs3s",
        "colab_type": "code",
        "outputId": "be257aed-3bb4-400b-d022-d09af3eaeec5",
        "colab": {
          "base_uri": "https://localhost:8080/",
          "height": 54
        }
      },
      "cell_type": "code",
      "source": [
        "chars = set()\n",
        "for word in train_data:\n",
        "    chars.update(word)\n",
        "\n",
        "char_index = {c : i + 1 for i, c in enumerate(chars)}\n",
        "char_index['<pad>'] = 0\n",
        "    \n",
        "print(char_index)"
      ],
      "execution_count": 22,
      "outputs": [
        {
          "output_type": "stream",
          "text": [
            "{'З': 1, 'а': 2, 'л': 3, 'С': 4, 'Ш': 5, 'п': 6, 'я': 7, 'ё': 8, 'Д': 9, 'Р': 10, 'Ь': 11, '2': 12, 'ь': 13, 'в': 14, 'Л': 15, '-': 16, 'Щ': 17, 'Н': 18, 'А': 19, 'М': 20, 'э': 21, 'ш': 22, 'ц': 23, 'Ц': 24, 'о': 25, 'щ': 26, '.': 27, '3': 28, \"'\": 29, ' ': 30, 'х': 31, 'Х': 32, '/': 33, 'Ч': 34, 'Ё': 35, 'й': 36, '’': 37, 'Ъ': 38, '»': 39, 'Г': 40, 'к': 41, 'Б': 42, 'К': 43, 'ф': 44, 'Т': 45, '·': 46, 'ó': 47, 'ъ': 48, 'ы': 49, '”': 50, '7': 51, 'О': 52, 'Я': 53, 'у': 54, '4': 55, 'Ó': 56, 'з': 57, 'д': 58, 'р': 59, 'ч': 60, '“': 61, 'ж': 62, 'И': 63, 'Ж': 64, 'В': 65, 'б': 66, 'Э': 67, 'ѐ': 68, 'У': 69, 'т': 70, 'Ф': 71, 'н': 72, 'г': 73, 'м': 74, 'Ы': 75, 'Ю': 76, '«': 77, 'е': 78, 'П': 79, 'Е': 80, 'с': 81, 'и': 82, 'ю': 83, 'Й': 84, '<pad>': 0}\n"
          ],
          "name": "stdout"
        }
      ]
    },
    {
      "metadata": {
        "id": "4spzGF2CImtL",
        "colab_type": "text"
      },
      "cell_type": "markdown",
      "source": [
        "**Задание** Сконвертируйте данные"
      ]
    },
    {
      "metadata": {
        "id": "qETmYKm8W_TX",
        "colab_type": "code",
        "colab": {}
      },
      "cell_type": "code",
      "source": [
        "def convert_data(data, max_word_len, char_index):\n",
        "    res = np.zeros((len(data), max_word_len))\n",
        "    for i, word in enumerate(data):\n",
        "        word = word[-max_word_len:]\n",
        "        res[i][:len(word)] = [char_index.get(symb, 0) for symb in word]\n",
        "  \n",
        "    return res\n",
        "\n",
        "X_train = convert_data(train_data, MAX_WORD_LEN, char_index)\n",
        "X_test = convert_data(test_data, MAX_WORD_LEN, char_index)"
      ],
      "execution_count": 0,
      "outputs": []
    },
    {
      "metadata": {
        "id": "VufrP006Vk-y",
        "colab_type": "code",
        "colab": {}
      },
      "cell_type": "code",
      "source": [
        "def iterate_batches(X, y, batch_size):\n",
        "    num_samples = X.shape[0]\n",
        "\n",
        "    indices = np.arange(num_samples)\n",
        "    np.random.shuffle(indices)\n",
        "    \n",
        "    for start in range(0, num_samples, batch_size):\n",
        "        end = min(start + batch_size, num_samples)\n",
        "        \n",
        "        batch_idx = indices[start: end]\n",
        "        \n",
        "        yield X[batch_idx], y[batch_idx]"
      ],
      "execution_count": 0,
      "outputs": []
    },
    {
      "metadata": {
        "id": "gkXlKB7lobYE",
        "colab_type": "text"
      },
      "cell_type": "markdown",
      "source": [
        "### MyFirstConvCharNN\n",
        "\n",
        "Теперь построим свёрточную модель.\n",
        "\n",
        "Пусть она будет строить триграммы - то есть применять фильтры на 3 символа.\n",
        "\n",
        "Начнем с последовательности: `nn.Embedding -> nn.Conv2d -> nn.ReLU -> max pooling -> nn.Linear`\n",
        "\n",
        "`nn.Conv2d` - это слой, содержащий создание и инициализацию фильтров, и вызов `F.conv2d` к ним и входу.\n",
        "\n",
        "*Лайфхак:* последовательности операций можно запаковывать в `nn.Sequential`."
      ]
    },
    {
      "metadata": {
        "id": "v2T4AorsZ530",
        "colab_type": "code",
        "colab": {}
      },
      "cell_type": "code",
      "source": [
        "class ConvClassifier(nn.Module):\n",
        "    def __init__(self, vocab_size, emb_dim, filters_count):\n",
        "        super().__init__()\n",
        "        \n",
        "        self._embedding = nn.Embedding(vocab_size, emb_dim)\n",
        "        self._conv3 = nn.Sequential(\n",
        "            nn.Conv2d(in_channels=1, out_channels=filters_count, kernel_size=(4, emb_dim)), # 4 - conv size\n",
        "            nn.ReLU(inplace=True)\n",
        "        )\n",
        "        self._out_layer = nn.Linear(filters_count, 1)\n",
        "        \n",
        "    def forward(self, inputs):\n",
        "        '''\n",
        "        inputs - LongTensor with shape (batch_size, max_word_len)\n",
        "        outputs - FloatTensor with shape (batch_size,)\n",
        "        '''\n",
        "        \n",
        "        outputs = self.embed(inputs)\n",
        "        return self._out_layer(outputs).squeeze(-1)\n",
        "    \n",
        "    def embed(self, inputs):\n",
        "        outputs = self._embedding(inputs)  # shape: (batch_size, max_word_len, emb_dim)\n",
        "        outputs = outputs.unsqueeze(1) # (batch_size, 1, max_word_len, emb_dim) \n",
        "        outputs = self._conv3(outputs) # (batch_size, filters_count, H_out=(max_word_len - filter_size + 1), W_out=1)\n",
        "#         outputs = self._maxpool(outputs) # (batch_size, filters_count, H_out / kernel_size[0], 1)\n",
        "        outputs = outputs.max(dim=2)[0]\n",
        "        outputs = outputs.squeeze(-1) # (batch_size, filters_count)\n",
        "        return outputs\n",
        "        "
      ],
      "execution_count": 0,
      "outputs": []
    },
    {
      "metadata": {
        "id": "0iTDc9rEAHN6",
        "colab_type": "text"
      },
      "cell_type": "markdown",
      "source": [
        "Проверьте, что всё работает:"
      ]
    },
    {
      "metadata": {
        "id": "WiAdrSaU_wjQ",
        "colab_type": "code",
        "colab": {}
      },
      "cell_type": "code",
      "source": [
        "X_batch, y_batch = next(iterate_batches(X_train, train_labels, 32))\n",
        "X_batch, y_batch = torch.cuda.LongTensor(X_batch), torch.cuda.LongTensor(y_batch)\n",
        "\n",
        "model = ConvClassifier(len(char_index) + 1, 24, 64).cuda()\n",
        "logits = model(X_batch)"
      ],
      "execution_count": 0,
      "outputs": []
    },
    {
      "metadata": {
        "id": "x39p9w-tA_Ds",
        "colab_type": "text"
      },
      "cell_type": "markdown",
      "source": [
        "**Задание** Подсчитайте precision, recall и F1-score для полученных предсказаний."
      ]
    },
    {
      "metadata": {
        "id": "YmiOd1IFWLxU",
        "colab_type": "code",
        "colab": {}
      },
      "cell_type": "code",
      "source": [
        "def TP(logits, labels):\n",
        "    logits_bin = logits.ge(0).type(torch.long).cpu()\n",
        "    return torch.dot(logits_bin, labels.cpu()).data.tolist()\n",
        "\n",
        "def FP(logits, labels):\n",
        "    logits_bin = logits.ge(0).type(torch.long).cpu()\n",
        "    return torch.dot(logits_bin, labels.eq(0).type(torch.long).cpu()).data.tolist()\n",
        "\n",
        "def FN(logits, labels):\n",
        "    logits_bin = logits.ge(0).type(torch.long).cpu()\n",
        "    return torch.dot(logits_bin.eq(0).type(torch.long).cpu(), labels.cpu()).data.tolist()\n",
        "\n",
        "\n",
        "def get_precision(tp, fp):\n",
        "    return tp / (tp + fp) if tp + fp != 0 else 0\n",
        "\n",
        "def get_recall(tp, fn):\n",
        "    return tp / (tp + fn) if tp + fn != 0 else 0\n",
        "\n",
        "\n",
        "def get_f1(precision, recall):\n",
        "    return 2 * precision * recall / (precision + recall) if precision + recall != 0 else 0"
      ],
      "execution_count": 0,
      "outputs": []
    },
    {
      "metadata": {
        "id": "80k7dwHOMLm_",
        "colab_type": "code",
        "outputId": "017527f3-4760-4a21-9489-351bc7a66279",
        "colab": {
          "base_uri": "https://localhost:8080/",
          "height": 34
        }
      },
      "cell_type": "code",
      "source": [
        "'F1 on 1st batch {0:0.2f}'.format(get_f1( get_precision( TP(logits, y_batch), FP(logits, y_batch) ), get_recall( TP(logits, y_batch), FN(logits, y_batch) ) ))"
      ],
      "execution_count": 28,
      "outputs": [
        {
          "output_type": "execute_result",
          "data": {
            "text/plain": [
              "'F1 on 1st batch 0.22'"
            ]
          },
          "metadata": {
            "tags": []
          },
          "execution_count": 28
        }
      ]
    },
    {
      "metadata": {
        "id": "1TFsKlF9BV8X",
        "colab_type": "text"
      },
      "cell_type": "markdown",
      "source": [
        "**Задание** Напишем теперь цикл обучения, который не слишком сложно будет переиспользовать"
      ]
    },
    {
      "metadata": {
        "id": "MsCtTJucVjMH",
        "colab_type": "code",
        "colab": {}
      },
      "cell_type": "code",
      "source": [
        "import math\n",
        "import time\n",
        "\n",
        "def do_epoch(model, criterion, data, batch_size, optimizer=None):\n",
        "    epoch_loss, epoch_tp, epoch_fp, epoch_fn = 0, 0, 0, 0\n",
        "    \n",
        "    is_train = not optimizer is None\n",
        "    model.train(is_train)\n",
        "    \n",
        "    data, labels = data\n",
        "    batchs_count = math.ceil(data.shape[0] / batch_size)\n",
        "    \n",
        "    with torch.autograd.set_grad_enabled(is_train):\n",
        "        for i, (X_batch, y_batch) in enumerate(iterate_batches(data, labels, batch_size)):\n",
        "            X_batch, y_batch = LongTensor(X_batch), FloatTensor(y_batch)\n",
        "\n",
        "            logits = model(X_batch)\n",
        "\n",
        "            loss = criterion(logits, y_batch)\n",
        "            epoch_loss += loss.item()\n",
        "\n",
        "            if is_train:\n",
        "                loss.backward()\n",
        "                optimizer.step()\n",
        "                optimizer.zero_grad()\n",
        "\n",
        "            y_batch = y_batch.type(torch.long)\n",
        "            tp = TP(logits, y_batch)\n",
        "            fp = FP(logits, y_batch)\n",
        "            fn = FN(logits, y_batch)\n",
        "\n",
        "            precision = get_precision(tp, fp)\n",
        "            recall = get_recall(tp, fn)\n",
        "            f1 = get_f1(precision, recall)\n",
        "            \n",
        "            epoch_tp += tp\n",
        "            epoch_fp += fp\n",
        "            epoch_fn += fn\n",
        "\n",
        "            print('\\r[{} / {}]: Loss = {:.4f}, Precision = {:.2%}, Recall = {:.2%}, F1 = {:.2%}'.format(\n",
        "                  i, batchs_count, loss.item(), precision, recall, f1), end='')\n",
        "        \n",
        "    precision = get_precision(epoch_tp, epoch_fp)\n",
        "    recall = get_recall(epoch_tp, epoch_fn)\n",
        "    f1 = get_f1(precision, recall)\n",
        "        \n",
        "    return epoch_loss / batchs_count, recall, precision, f1\n",
        "\n",
        "def fit(model, criterion, optimizer, train_data, epochs_count=1, \n",
        "        batch_size=32, val_data=None, val_batch_size=None):\n",
        "    if not val_data is None and val_batch_size is None:\n",
        "        val_batch_size = batch_size\n",
        "        \n",
        "    for epoch in range(epochs_count):\n",
        "        start_time = time.time()\n",
        "        train_loss, train_recall, train_precision, train_f1 = do_epoch(\n",
        "            model, criterion, train_data, batch_size, optimizer\n",
        "        )\n",
        "        \n",
        "        output_info = '\\rEpoch {} / {}, Epoch Time = {:.2f}s: Train Loss = {:.4f}, Precision = {:.2%}, Recall = {:.2%}, F1 = {:.2%}'\n",
        "        if not val_data is None:\n",
        "            val_loss, val_recall, val_precision, val_f1 = do_epoch(model, criterion, val_data, val_batch_size, None)\n",
        "            \n",
        "            epoch_time = time.time() - start_time\n",
        "            output_info += ', Val Loss = {:.4f}, Precision = {:.2%}, Recall = {:.2%}, F1 = {:.2%}'\n",
        "            print(output_info.format(epoch+1, epochs_count, epoch_time, \n",
        "                                     train_loss, train_recall, train_precision, train_f1,\n",
        "                                     val_loss, val_recall, val_precision, val_f1))\n",
        "        else:\n",
        "            epoch_time = time.time() - start_time\n",
        "            print(output_info.format(epoch+1, epochs_count, epoch_time, train_loss))"
      ],
      "execution_count": 0,
      "outputs": []
    },
    {
      "metadata": {
        "id": "jlq63hAXh0Gr",
        "colab_type": "code",
        "outputId": "c4740213-d4fd-436f-88b0-116785d87a04",
        "colab": {
          "base_uri": "https://localhost:8080/",
          "height": 3417
        }
      },
      "cell_type": "code",
      "source": [
        "model = ConvClassifier(len(char_index) + 1, 24, 128).cuda()\n",
        "\n",
        "criterion = nn.BCEWithLogitsLoss().cuda()\n",
        "\n",
        "optimizer = optim.Adam([param for param in model.parameters() if param.requires_grad])\n",
        "\n",
        "fit(model, criterion, optimizer, train_data=(X_train, train_labels), epochs_count=200, \n",
        "    batch_size=512, val_data=(X_test, test_labels), val_batch_size=1024)"
      ],
      "execution_count": 0,
      "outputs": [
        {
          "output_type": "stream",
          "text": [
            "Epoch 1 / 200, Epoch Time = 2.57s: Train Loss = 0.3401, Precision = 0.31%, Recall = 14.71%, F1 = 0.60%, Val Loss = 0.3037, Precision = 1.98%, Recall = 60.75%, F1 = 3.84%\n",
            "Epoch 2 / 200, Epoch Time = 2.48s: Train Loss = 0.2756, Precision = 11.78%, Recall = 74.23%, F1 = 20.34%, Val Loss = 0.2596, Precision = 25.09%, Recall = 75.23%, F1 = 37.63%\n",
            "Epoch 3 / 200, Epoch Time = 2.42s: Train Loss = 0.2417, Precision = 31.26%, Recall = 74.37%, F1 = 44.02%, Val Loss = 0.2379, Precision = 29.48%, Recall = 79.79%, F1 = 43.05%\n",
            "Epoch 4 / 200, Epoch Time = 2.44s: Train Loss = 0.2224, Precision = 39.58%, Recall = 75.99%, F1 = 52.05%, Val Loss = 0.2232, Precision = 35.61%, Recall = 79.89%, F1 = 49.26%\n",
            "Epoch 5 / 200, Epoch Time = 2.46s: Train Loss = 0.2100, Precision = 44.36%, Recall = 76.77%, F1 = 56.23%, Val Loss = 0.2124, Precision = 49.39%, Recall = 75.24%, F1 = 59.64%\n",
            "Epoch 6 / 200, Epoch Time = 2.46s: Train Loss = 0.1994, Precision = 48.88%, Recall = 78.36%, F1 = 60.21%, Val Loss = 0.2068, Precision = 46.71%, Recall = 78.73%, F1 = 58.63%\n",
            "Epoch 7 / 200, Epoch Time = 2.45s: Train Loss = 0.1923, Precision = 51.26%, Recall = 79.19%, F1 = 62.23%, Val Loss = 0.2040, Precision = 47.53%, Recall = 79.79%, F1 = 59.57%\n",
            "Epoch 8 / 200, Epoch Time = 2.46s: Train Loss = 0.1857, Precision = 53.72%, Recall = 80.28%, F1 = 64.37%, Val Loss = 0.2016, Precision = 46.65%, Recall = 80.91%, F1 = 59.18%\n",
            "Epoch 9 / 200, Epoch Time = 2.45s: Train Loss = 0.1808, Precision = 54.58%, Recall = 80.94%, F1 = 65.20%, Val Loss = 0.1988, Precision = 54.18%, Recall = 75.68%, F1 = 63.15%\n",
            "Epoch 10 / 200, Epoch Time = 2.44s: Train Loss = 0.1765, Precision = 56.85%, Recall = 81.25%, F1 = 66.90%, Val Loss = 0.1967, Precision = 50.52%, Recall = 79.70%, F1 = 61.84%\n",
            "Epoch 11 / 200, Epoch Time = 2.39s: Train Loss = 0.1714, Precision = 57.80%, Recall = 81.72%, F1 = 67.71%, Val Loss = 0.1969, Precision = 49.30%, Recall = 81.50%, F1 = 61.44%\n",
            "Epoch 12 / 200, Epoch Time = 2.44s: Train Loss = 0.1666, Precision = 59.15%, Recall = 81.95%, F1 = 68.71%, Val Loss = 0.1955, Precision = 51.31%, Recall = 80.99%, F1 = 62.82%\n",
            "Epoch 13 / 200, Epoch Time = 2.44s: Train Loss = 0.1629, Precision = 60.11%, Recall = 82.71%, F1 = 69.62%, Val Loss = 0.1934, Precision = 54.45%, Recall = 79.06%, F1 = 64.49%\n",
            "Epoch 14 / 200, Epoch Time = 2.46s: Train Loss = 0.1589, Precision = 61.62%, Recall = 83.37%, F1 = 70.86%, Val Loss = 0.1932, Precision = 58.02%, Recall = 76.46%, F1 = 65.97%\n",
            "Epoch 15 / 200, Epoch Time = 2.45s: Train Loss = 0.1550, Precision = 62.50%, Recall = 83.72%, F1 = 71.57%, Val Loss = 0.1945, Precision = 61.43%, Recall = 72.74%, F1 = 66.61%\n",
            "Epoch 16 / 200, Epoch Time = 2.45s: Train Loss = 0.1519, Precision = 63.81%, Recall = 84.41%, F1 = 72.68%, Val Loss = 0.1940, Precision = 52.59%, Recall = 80.01%, F1 = 63.47%\n",
            "Epoch 17 / 200, Epoch Time = 2.45s: Train Loss = 0.1484, Precision = 64.97%, Recall = 84.63%, F1 = 73.51%, Val Loss = 0.1968, Precision = 64.27%, Recall = 71.05%, F1 = 67.49%\n",
            "Epoch 18 / 200, Epoch Time = 2.45s: Train Loss = 0.1464, Precision = 65.22%, Recall = 84.65%, F1 = 73.67%, Val Loss = 0.1944, Precision = 53.51%, Recall = 80.10%, F1 = 64.16%\n",
            "Epoch 19 / 200, Epoch Time = 2.41s: Train Loss = 0.1424, Precision = 66.49%, Recall = 85.82%, F1 = 74.93%, Val Loss = 0.1957, Precision = 63.48%, Recall = 71.33%, F1 = 67.17%\n",
            "Epoch 20 / 200, Epoch Time = 2.39s: Train Loss = 0.1388, Precision = 68.42%, Recall = 86.35%, F1 = 76.34%, Val Loss = 0.1944, Precision = 54.05%, Recall = 80.44%, F1 = 64.66%\n",
            "Epoch 21 / 200, Epoch Time = 2.40s: Train Loss = 0.1359, Precision = 68.86%, Recall = 86.98%, F1 = 76.87%, Val Loss = 0.1946, Precision = 55.18%, Recall = 79.53%, F1 = 65.15%\n",
            "Epoch 22 / 200, Epoch Time = 2.43s: Train Loss = 0.1340, Precision = 69.57%, Recall = 86.84%, F1 = 77.25%, Val Loss = 0.1950, Precision = 54.63%, Recall = 79.64%, F1 = 64.81%\n",
            "Epoch 23 / 200, Epoch Time = 2.44s: Train Loss = 0.1311, Precision = 70.12%, Recall = 86.83%, F1 = 77.59%, Val Loss = 0.1962, Precision = 64.48%, Recall = 69.92%, F1 = 67.09%\n",
            "Epoch 24 / 200, Epoch Time = 2.44s: Train Loss = 0.1290, Precision = 70.69%, Recall = 87.09%, F1 = 78.03%, Val Loss = 0.1940, Precision = 56.25%, Recall = 78.41%, F1 = 65.51%\n",
            "Epoch 25 / 200, Epoch Time = 2.44s: Train Loss = 0.1254, Precision = 71.25%, Recall = 87.79%, F1 = 78.66%, Val Loss = 0.1947, Precision = 58.23%, Recall = 77.71%, F1 = 66.57%\n",
            "Epoch 26 / 200, Epoch Time = 2.42s: Train Loss = 0.1236, Precision = 71.71%, Recall = 87.79%, F1 = 78.94%, Val Loss = 0.1954, Precision = 58.72%, Recall = 76.34%, F1 = 66.38%\n",
            "Epoch 27 / 200, Epoch Time = 2.41s: Train Loss = 0.1211, Precision = 73.11%, Recall = 88.29%, F1 = 79.98%, Val Loss = 0.1950, Precision = 59.97%, Recall = 74.93%, F1 = 66.62%\n",
            "Epoch 28 / 200, Epoch Time = 2.46s: Train Loss = 0.1189, Precision = 73.57%, Recall = 88.81%, F1 = 80.47%, Val Loss = 0.1979, Precision = 61.55%, Recall = 74.06%, F1 = 67.23%\n",
            "Epoch 29 / 200, Epoch Time = 2.43s: Train Loss = 0.1175, Precision = 73.43%, Recall = 88.53%, F1 = 80.27%, Val Loss = 0.2064, Precision = 69.27%, Recall = 66.98%, F1 = 68.11%\n",
            "Epoch 30 / 200, Epoch Time = 2.47s: Train Loss = 0.1157, Precision = 74.26%, Recall = 88.40%, F1 = 80.71%, Val Loss = 0.1983, Precision = 60.88%, Recall = 73.91%, F1 = 66.77%\n",
            "Epoch 31 / 200, Epoch Time = 2.48s: Train Loss = 0.1125, Precision = 75.04%, Recall = 89.04%, F1 = 81.44%, Val Loss = 0.1979, Precision = 60.91%, Recall = 74.00%, F1 = 66.82%\n",
            "Epoch 32 / 200, Epoch Time = 2.47s: Train Loss = 0.1103, Precision = 75.62%, Recall = 89.84%, F1 = 82.12%, Val Loss = 0.2005, Precision = 59.36%, Recall = 74.97%, F1 = 66.26%\n",
            "Epoch 33 / 200, Epoch Time = 2.49s: Train Loss = 0.1085, Precision = 76.28%, Recall = 89.73%, F1 = 82.46%, Val Loss = 0.2015, Precision = 56.86%, Recall = 77.71%, F1 = 65.67%\n",
            "Epoch 34 / 200, Epoch Time = 2.49s: Train Loss = 0.1072, Precision = 76.75%, Recall = 90.07%, F1 = 82.88%, Val Loss = 0.2016, Precision = 57.74%, Recall = 76.65%, F1 = 65.87%\n",
            "Epoch 35 / 200, Epoch Time = 2.49s: Train Loss = 0.1046, Precision = 77.26%, Recall = 90.44%, F1 = 83.33%, Val Loss = 0.2023, Precision = 59.94%, Recall = 74.55%, F1 = 66.45%\n",
            "Epoch 36 / 200, Epoch Time = 2.47s: Train Loss = 0.1033, Precision = 77.57%, Recall = 90.25%, F1 = 83.43%, Val Loss = 0.2047, Precision = 64.63%, Recall = 70.57%, F1 = 67.47%\n",
            "Epoch 37 / 200, Epoch Time = 2.47s: Train Loss = 0.1014, Precision = 78.19%, Recall = 90.29%, F1 = 83.81%, Val Loss = 0.2087, Precision = 55.03%, Recall = 79.17%, F1 = 64.93%\n",
            "Epoch 38 / 200, Epoch Time = 2.49s: Train Loss = 0.1011, Precision = 78.18%, Recall = 90.32%, F1 = 83.81%, Val Loss = 0.2088, Precision = 55.79%, Recall = 78.41%, F1 = 65.19%\n",
            "Epoch 39 / 200, Epoch Time = 2.47s: Train Loss = 0.0988, Precision = 79.31%, Recall = 90.60%, F1 = 84.58%, Val Loss = 0.2066, Precision = 59.39%, Recall = 74.66%, F1 = 66.16%\n",
            "Epoch 40 / 200, Epoch Time = 2.51s: Train Loss = 0.0963, Precision = 79.42%, Recall = 91.07%, F1 = 84.85%, Val Loss = 0.2078, Precision = 59.63%, Recall = 74.37%, F1 = 66.19%\n",
            "Epoch 41 / 200, Epoch Time = 2.50s: Train Loss = 0.0959, Precision = 79.33%, Recall = 91.08%, F1 = 84.80%, Val Loss = 0.2097, Precision = 65.21%, Recall = 69.40%, F1 = 67.24%\n",
            "Epoch 42 / 200, Epoch Time = 2.51s: Train Loss = 0.0935, Precision = 80.11%, Recall = 91.21%, F1 = 85.30%, Val Loss = 0.2102, Precision = 58.26%, Recall = 75.53%, F1 = 65.78%\n",
            "Epoch 43 / 200, Epoch Time = 2.48s: Train Loss = 0.0927, Precision = 80.63%, Recall = 91.47%, F1 = 85.71%, Val Loss = 0.2108, Precision = 63.14%, Recall = 70.39%, F1 = 66.57%\n",
            "Epoch 44 / 200, Epoch Time = 2.49s: Train Loss = 0.0908, Precision = 81.41%, Recall = 91.76%, F1 = 86.28%, Val Loss = 0.2124, Precision = 62.65%, Recall = 71.88%, F1 = 66.95%\n",
            "Epoch 45 / 200, Epoch Time = 2.48s: Train Loss = 0.0896, Precision = 81.57%, Recall = 91.74%, F1 = 86.36%, Val Loss = 0.2140, Precision = 61.13%, Recall = 73.36%, F1 = 66.69%\n",
            "Epoch 46 / 200, Epoch Time = 2.49s: Train Loss = 0.0871, Precision = 82.18%, Recall = 92.08%, F1 = 86.85%, Val Loss = 0.2152, Precision = 58.11%, Recall = 75.85%, F1 = 65.80%\n",
            "Epoch 47 / 200, Epoch Time = 2.51s: Train Loss = 0.0870, Precision = 82.18%, Recall = 91.82%, F1 = 86.73%, Val Loss = 0.2158, Precision = 63.02%, Recall = 71.06%, F1 = 66.80%\n",
            "Epoch 48 / 200, Epoch Time = 2.52s: Train Loss = 0.0856, Precision = 83.11%, Recall = 92.18%, F1 = 87.41%, Val Loss = 0.2170, Precision = 64.63%, Recall = 69.87%, F1 = 67.15%\n",
            "Epoch 49 / 200, Epoch Time = 2.48s: Train Loss = 0.0839, Precision = 82.68%, Recall = 92.54%, F1 = 87.34%, Val Loss = 0.2185, Precision = 61.71%, Recall = 71.57%, F1 = 66.27%\n",
            "Epoch 50 / 200, Epoch Time = 2.49s: Train Loss = 0.0838, Precision = 83.21%, Recall = 92.22%, F1 = 87.48%, Val Loss = 0.2191, Precision = 63.48%, Recall = 70.41%, F1 = 66.76%\n",
            "Epoch 51 / 200, Epoch Time = 2.48s: Train Loss = 0.0821, Precision = 83.31%, Recall = 92.67%, F1 = 87.74%, Val Loss = 0.2200, Precision = 61.68%, Recall = 72.46%, F1 = 66.63%\n",
            "Epoch 52 / 200, Epoch Time = 2.49s: Train Loss = 0.0801, Precision = 84.19%, Recall = 92.77%, F1 = 88.27%, Val Loss = 0.2257, Precision = 62.16%, Recall = 70.36%, F1 = 66.01%\n",
            "Epoch 53 / 200, Epoch Time = 2.51s: Train Loss = 0.0800, Precision = 83.79%, Recall = 92.69%, F1 = 88.02%, Val Loss = 0.2368, Precision = 52.71%, Recall = 78.45%, F1 = 63.06%\n",
            "Epoch 54 / 200, Epoch Time = 2.47s: Train Loss = 0.0784, Precision = 84.52%, Recall = 93.16%, F1 = 88.63%, Val Loss = 0.2261, Precision = 64.36%, Recall = 68.54%, F1 = 66.38%\n",
            "Epoch 55 / 200, Epoch Time = 2.48s: Train Loss = 0.0776, Precision = 84.68%, Recall = 93.03%, F1 = 88.66%, Val Loss = 0.2271, Precision = 62.23%, Recall = 71.04%, F1 = 66.34%\n",
            "Epoch 56 / 200, Epoch Time = 2.47s: Train Loss = 0.0761, Precision = 85.27%, Recall = 93.37%, F1 = 89.14%, Val Loss = 0.2302, Precision = 65.46%, Recall = 67.96%, F1 = 66.69%\n",
            "Epoch 57 / 200, Epoch Time = 2.48s: Train Loss = 0.0754, Precision = 85.37%, Recall = 92.85%, F1 = 88.95%, Val Loss = 0.2324, Precision = 58.84%, Recall = 73.97%, F1 = 65.55%\n",
            "Epoch 58 / 200, Epoch Time = 2.47s: Train Loss = 0.0738, Precision = 85.70%, Recall = 93.69%, F1 = 89.52%, Val Loss = 0.2317, Precision = 61.04%, Recall = 71.83%, F1 = 66.00%\n",
            "Epoch 59 / 200, Epoch Time = 2.46s: Train Loss = 0.0725, Precision = 85.80%, Recall = 93.52%, F1 = 89.49%, Val Loss = 0.2360, Precision = 57.68%, Recall = 74.90%, F1 = 65.17%\n",
            "Epoch 60 / 200, Epoch Time = 2.46s: Train Loss = 0.0711, Precision = 86.52%, Recall = 94.18%, F1 = 90.18%, Val Loss = 0.2342, Precision = 62.10%, Recall = 70.93%, F1 = 66.22%\n",
            "Epoch 61 / 200, Epoch Time = 2.46s: Train Loss = 0.0706, Precision = 86.45%, Recall = 93.77%, F1 = 89.96%, Val Loss = 0.2399, Precision = 57.90%, Recall = 73.66%, F1 = 64.83%\n",
            "Epoch 62 / 200, Epoch Time = 2.47s: Train Loss = 0.0699, Precision = 86.75%, Recall = 93.96%, F1 = 90.21%, Val Loss = 0.2386, Precision = 59.05%, Recall = 73.23%, F1 = 65.38%\n",
            "Epoch 63 / 200, Epoch Time = 2.46s: Train Loss = 0.0690, Precision = 86.87%, Recall = 93.95%, F1 = 90.27%, Val Loss = 0.2399, Precision = 59.97%, Recall = 72.74%, F1 = 65.74%\n",
            "Epoch 64 / 200, Epoch Time = 2.49s: Train Loss = 0.0676, Precision = 87.68%, Recall = 94.19%, F1 = 90.82%, Val Loss = 0.2408, Precision = 61.55%, Recall = 71.44%, F1 = 66.13%\n",
            "Epoch 65 / 200, Epoch Time = 2.47s: Train Loss = 0.0666, Precision = 87.57%, Recall = 94.20%, F1 = 90.76%, Val Loss = 0.2432, Precision = 60.79%, Recall = 71.86%, F1 = 65.86%\n",
            "Epoch 66 / 200, Epoch Time = 2.48s: Train Loss = 0.0669, Precision = 87.50%, Recall = 94.21%, F1 = 90.73%, Val Loss = 0.2510, Precision = 56.71%, Recall = 75.89%, F1 = 64.91%\n",
            "Epoch 67 / 200, Epoch Time = 2.47s: Train Loss = 0.0638, Precision = 88.23%, Recall = 94.58%, F1 = 91.30%, Val Loss = 0.2456, Precision = 61.07%, Recall = 72.13%, F1 = 66.14%\n",
            "Epoch 68 / 200, Epoch Time = 2.46s: Train Loss = 0.0639, Precision = 88.31%, Recall = 94.38%, F1 = 91.24%, Val Loss = 0.2457, Precision = 60.88%, Recall = 71.99%, F1 = 65.97%\n",
            "Epoch 69 / 200, Epoch Time = 2.50s: Train Loss = 0.0658, Precision = 87.42%, Recall = 94.13%, F1 = 90.65%, Val Loss = 0.2508, Precision = 67.13%, Recall = 65.81%, F1 = 66.47%\n",
            "Epoch 70 / 200, Epoch Time = 2.53s: Train Loss = 0.0623, Precision = 88.75%, Recall = 94.55%, F1 = 91.56%, Val Loss = 0.2488, Precision = 64.60%, Recall = 68.29%, F1 = 66.40%\n",
            "Epoch 71 / 200, Epoch Time = 2.53s: Train Loss = 0.0609, Precision = 88.98%, Recall = 94.58%, F1 = 91.69%, Val Loss = 0.2505, Precision = 61.28%, Recall = 71.84%, F1 = 66.14%\n",
            "Epoch 72 / 200, Epoch Time = 2.55s: Train Loss = 0.0606, Precision = 88.95%, Recall = 94.78%, F1 = 91.77%, Val Loss = 0.2561, Precision = 59.33%, Recall = 73.41%, F1 = 65.62%\n",
            "Epoch 73 / 200, Epoch Time = 2.55s: Train Loss = 0.0611, Precision = 89.29%, Recall = 94.70%, F1 = 91.92%, Val Loss = 0.2583, Precision = 58.78%, Recall = 74.21%, F1 = 65.60%\n",
            "Epoch 74 / 200, Epoch Time = 2.56s: Train Loss = 0.0586, Precision = 89.63%, Recall = 94.86%, F1 = 92.17%, Val Loss = 0.2640, Precision = 56.62%, Recall = 74.43%, F1 = 64.31%\n",
            "Epoch 75 / 200, Epoch Time = 2.55s: Train Loss = 0.0590, Precision = 89.09%, Recall = 94.81%, F1 = 91.86%, Val Loss = 0.2562, Precision = 63.38%, Recall = 69.46%, F1 = 66.28%\n",
            "Epoch 76 / 200, Epoch Time = 2.50s: Train Loss = 0.0566, Precision = 89.86%, Recall = 95.43%, F1 = 92.56%, Val Loss = 0.2686, Precision = 55.85%, Recall = 75.80%, F1 = 64.31%\n",
            "Epoch 77 / 200, Epoch Time = 2.49s: Train Loss = 0.0559, Precision = 90.19%, Recall = 95.35%, F1 = 92.70%, Val Loss = 0.2602, Precision = 63.14%, Recall = 69.22%, F1 = 66.04%\n",
            "Epoch 78 / 200, Epoch Time = 2.49s: Train Loss = 0.0559, Precision = 90.09%, Recall = 95.11%, F1 = 92.53%, Val Loss = 0.2719, Precision = 56.31%, Recall = 75.63%, F1 = 64.56%\n",
            "Epoch 79 / 200, Epoch Time = 2.47s: Train Loss = 0.0555, Precision = 89.96%, Recall = 95.60%, F1 = 92.70%, Val Loss = 0.2629, Precision = 63.57%, Recall = 69.64%, F1 = 66.46%\n",
            "Epoch 80 / 200, Epoch Time = 2.48s: Train Loss = 0.0536, Precision = 90.59%, Recall = 96.02%, F1 = 93.23%, Val Loss = 0.2707, Precision = 58.05%, Recall = 73.57%, F1 = 64.89%\n",
            "Epoch 81 / 200, Epoch Time = 2.49s: Train Loss = 0.0521, Precision = 91.24%, Recall = 95.86%, F1 = 93.49%, Val Loss = 0.2749, Precision = 56.68%, Recall = 74.51%, F1 = 64.38%\n",
            "Epoch 82 / 200, Epoch Time = 2.49s: Train Loss = 0.0524, Precision = 91.11%, Recall = 95.70%, F1 = 93.35%, Val Loss = 0.2664, Precision = 62.87%, Recall = 69.54%, F1 = 66.04%\n",
            "Epoch 83 / 200, Epoch Time = 2.48s: Train Loss = 0.0506, Precision = 91.37%, Recall = 95.82%, F1 = 93.54%, Val Loss = 0.2720, Precision = 60.79%, Recall = 71.29%, F1 = 65.62%\n",
            "Epoch 84 / 200, Epoch Time = 2.49s: Train Loss = 0.0510, Precision = 91.07%, Recall = 96.26%, F1 = 93.59%, Val Loss = 0.2771, Precision = 58.69%, Recall = 72.89%, F1 = 65.02%\n",
            "Epoch 85 / 200, Epoch Time = 2.47s: Train Loss = 0.0513, Precision = 91.14%, Recall = 95.61%, F1 = 93.32%, Val Loss = 0.2831, Precision = 57.56%, Recall = 74.71%, F1 = 65.02%\n",
            "Epoch 86 / 200, Epoch Time = 2.49s: Train Loss = 0.0497, Precision = 91.34%, Recall = 95.93%, F1 = 93.58%, Val Loss = 0.2779, Precision = 60.06%, Recall = 71.61%, F1 = 65.33%\n",
            "Epoch 87 / 200, Epoch Time = 2.47s: Train Loss = 0.0485, Precision = 92.11%, Recall = 96.24%, F1 = 94.13%, Val Loss = 0.2780, Precision = 64.15%, Recall = 67.39%, F1 = 65.73%\n",
            "Epoch 88 / 200, Epoch Time = 2.47s: Train Loss = 0.0492, Precision = 91.30%, Recall = 95.56%, F1 = 93.38%, Val Loss = 0.2805, Precision = 61.10%, Recall = 71.62%, F1 = 65.94%\n",
            "Epoch 89 / 200, Epoch Time = 2.49s: Train Loss = 0.0473, Precision = 92.48%, Recall = 96.45%, F1 = 94.42%, Val Loss = 0.2841, Precision = 60.85%, Recall = 70.55%, F1 = 65.35%\n",
            "Epoch 90 / 200, Epoch Time = 2.52s: Train Loss = 0.0462, Precision = 92.49%, Recall = 96.61%, F1 = 94.50%, Val Loss = 0.2849, Precision = 60.67%, Recall = 71.07%, F1 = 65.46%\n",
            "Epoch 91 / 200, Epoch Time = 2.48s: Train Loss = 0.0460, Precision = 92.51%, Recall = 96.62%, F1 = 94.52%, Val Loss = 0.2851, Precision = 61.13%, Recall = 70.75%, F1 = 65.59%\n",
            "Epoch 92 / 200, Epoch Time = 2.49s: Train Loss = 0.0448, Precision = 92.43%, Recall = 96.70%, F1 = 94.52%, Val Loss = 0.2864, Precision = 62.29%, Recall = 69.44%, F1 = 65.67%\n",
            "Epoch 93 / 200, Epoch Time = 2.45s: Train Loss = 0.0442, Precision = 92.95%, Recall = 96.44%, F1 = 94.66%, Val Loss = 0.2904, Precision = 61.62%, Recall = 70.00%, F1 = 65.54%\n",
            "Epoch 94 / 200, Epoch Time = 2.44s: Train Loss = 0.0443, Precision = 92.87%, Recall = 96.54%, F1 = 94.67%, Val Loss = 0.2922, Precision = 61.83%, Recall = 69.62%, F1 = 65.49%\n",
            "Epoch 95 / 200, Epoch Time = 2.44s: Train Loss = 0.0434, Precision = 92.61%, Recall = 96.89%, F1 = 94.70%, Val Loss = 0.2927, Precision = 63.41%, Recall = 67.95%, F1 = 65.60%\n",
            "Epoch 96 / 200, Epoch Time = 2.43s: Train Loss = 0.0428, Precision = 93.04%, Recall = 96.56%, F1 = 94.77%, Val Loss = 0.2933, Precision = 63.38%, Recall = 68.59%, F1 = 65.88%\n",
            "Epoch 97 / 200, Epoch Time = 2.43s: Train Loss = 0.0416, Precision = 93.56%, Recall = 96.95%, F1 = 95.23%, Val Loss = 0.2966, Precision = 61.46%, Recall = 69.93%, F1 = 65.42%\n",
            "Epoch 98 / 200, Epoch Time = 2.44s: Train Loss = 0.0408, Precision = 93.70%, Recall = 97.19%, F1 = 95.41%, Val Loss = 0.2997, Precision = 61.19%, Recall = 69.66%, F1 = 65.15%\n",
            "Epoch 99 / 200, Epoch Time = 2.43s: Train Loss = 0.0409, Precision = 93.56%, Recall = 96.86%, F1 = 95.18%, Val Loss = 0.3014, Precision = 63.81%, Recall = 67.04%, F1 = 65.39%\n",
            "Epoch 100 / 200, Epoch Time = 2.44s: Train Loss = 0.0400, Precision = 93.76%, Recall = 96.91%, F1 = 95.31%, Val Loss = 0.3048, Precision = 65.91%, Recall = 65.69%, F1 = 65.80%\n",
            "Epoch 101 / 200, Epoch Time = 2.45s: Train Loss = 0.0406, Precision = 93.41%, Recall = 96.90%, F1 = 95.12%, Val Loss = 0.3079, Precision = 59.73%, Recall = 71.31%, F1 = 65.01%\n",
            "Epoch 102 / 200, Epoch Time = 2.43s: Train Loss = 0.0392, Precision = 93.90%, Recall = 97.33%, F1 = 95.59%, Val Loss = 0.3152, Precision = 68.63%, Recall = 62.68%, F1 = 65.52%\n",
            "Epoch 103 / 200, Epoch Time = 2.42s: Train Loss = 0.0386, Precision = 94.10%, Recall = 96.94%, F1 = 95.50%, Val Loss = 0.3065, Precision = 66.01%, Recall = 66.05%, F1 = 66.03%\n",
            "Epoch 104 / 200, Epoch Time = 2.44s: Train Loss = 0.0378, Precision = 94.22%, Recall = 97.53%, F1 = 95.85%, Val Loss = 0.3092, Precision = 62.93%, Recall = 69.47%, F1 = 66.04%\n",
            "Epoch 105 / 200, Epoch Time = 2.44s: Train Loss = 0.0372, Precision = 94.48%, Recall = 97.07%, F1 = 95.76%, Val Loss = 0.3120, Precision = 62.53%, Recall = 68.96%, F1 = 65.59%\n",
            "Epoch 106 / 200, Epoch Time = 2.45s: Train Loss = 0.0374, Precision = 94.05%, Recall = 97.37%, F1 = 95.68%, Val Loss = 0.3194, Precision = 60.30%, Recall = 70.69%, F1 = 65.09%\n",
            "Epoch 107 / 200, Epoch Time = 2.44s: Train Loss = 0.0370, Precision = 94.30%, Recall = 97.10%, F1 = 95.68%, Val Loss = 0.3160, Precision = 61.77%, Recall = 69.93%, F1 = 65.60%\n",
            "Epoch 108 / 200, Epoch Time = 2.45s: Train Loss = 0.0351, Precision = 94.91%, Recall = 97.76%, F1 = 96.31%, Val Loss = 0.3195, Precision = 62.23%, Recall = 69.21%, F1 = 65.53%\n",
            "Epoch 109 / 200, Epoch Time = 2.45s: Train Loss = 0.0347, Precision = 94.99%, Recall = 97.61%, F1 = 96.28%, Val Loss = 0.3202, Precision = 63.84%, Recall = 67.27%, F1 = 65.51%\n",
            "Epoch 110 / 200, Epoch Time = 2.44s: Train Loss = 0.0344, Precision = 95.17%, Recall = 97.40%, F1 = 96.27%, Val Loss = 0.3273, Precision = 60.18%, Recall = 72.31%, F1 = 65.69%\n",
            "Epoch 111 / 200, Epoch Time = 2.44s: Train Loss = 0.0345, Precision = 95.10%, Recall = 97.69%, F1 = 96.37%, Val Loss = 0.3277, Precision = 59.63%, Recall = 71.20%, F1 = 64.91%\n",
            "Epoch 112 / 200, Epoch Time = 2.50s: Train Loss = 0.0329, Precision = 95.54%, Recall = 97.73%, F1 = 96.62%, Val Loss = 0.3261, Precision = 64.02%, Recall = 67.72%, F1 = 65.82%\n",
            "Epoch 113 / 200, Epoch Time = 2.49s: Train Loss = 0.0347, Precision = 95.02%, Recall = 97.16%, F1 = 96.08%, Val Loss = 0.3388, Precision = 58.05%, Recall = 72.45%, F1 = 64.45%\n",
            "Epoch 114 / 200, Epoch Time = 2.44s: Train Loss = 0.0338, Precision = 95.31%, Recall = 97.55%, F1 = 96.42%, Val Loss = 0.3324, Precision = 62.01%, Recall = 69.28%, F1 = 65.44%\n",
            "Epoch 115 / 200, Epoch Time = 2.45s: Train Loss = 0.0327, Precision = 95.11%, Recall = 97.70%, F1 = 96.39%, Val Loss = 0.3321, Precision = 64.12%, Recall = 67.36%, F1 = 65.70%\n",
            "Epoch 116 / 200, Epoch Time = 2.49s: Train Loss = 0.0317, Precision = 95.33%, Recall = 97.77%, F1 = 96.53%, Val Loss = 0.3340, Precision = 64.63%, Recall = 66.17%, F1 = 65.39%\n",
            "Epoch 117 / 200, Epoch Time = 2.49s: Train Loss = 0.0305, Precision = 95.99%, Recall = 97.86%, F1 = 96.91%, Val Loss = 0.3368, Precision = 63.35%, Recall = 67.01%, F1 = 65.13%\n",
            "Epoch 118 / 200, Epoch Time = 2.51s: Train Loss = 0.0307, Precision = 95.95%, Recall = 97.87%, F1 = 96.90%, Val Loss = 0.3384, Precision = 65.00%, Recall = 65.88%, F1 = 65.44%\n",
            "Epoch 119 / 200, Epoch Time = 2.50s: Train Loss = 0.0300, Precision = 96.00%, Recall = 98.07%, F1 = 97.03%, Val Loss = 0.3461, Precision = 67.35%, Recall = 63.42%, F1 = 65.33%\n",
            "Epoch 120 / 200, Epoch Time = 2.48s: Train Loss = 0.0296, Precision = 95.89%, Recall = 98.00%, F1 = 96.93%, Val Loss = 0.3470, Precision = 62.23%, Recall = 69.35%, F1 = 65.60%\n",
            "Epoch 121 / 200, Epoch Time = 2.50s: Train Loss = 0.0292, Precision = 96.20%, Recall = 98.11%, F1 = 97.15%, Val Loss = 0.3471, Precision = 64.36%, Recall = 66.11%, F1 = 65.22%\n",
            "Epoch 122 / 200, Epoch Time = 2.50s: Train Loss = 0.0287, Precision = 96.25%, Recall = 98.20%, F1 = 97.21%, Val Loss = 0.3541, Precision = 60.00%, Recall = 70.59%, F1 = 64.86%\n",
            "Epoch 123 / 200, Epoch Time = 2.49s: Train Loss = 0.0286, Precision = 96.40%, Recall = 97.99%, F1 = 97.19%, Val Loss = 0.3638, Precision = 57.16%, Recall = 73.41%, F1 = 64.28%\n",
            "Epoch 124 / 200, Epoch Time = 2.51s: Train Loss = 0.0298, Precision = 95.66%, Recall = 97.90%, F1 = 96.77%, Val Loss = 0.3532, Precision = 66.28%, Recall = 64.64%, F1 = 65.45%\n",
            "Epoch 125 / 200, Epoch Time = 2.51s: Train Loss = 0.0284, Precision = 96.37%, Recall = 98.14%, F1 = 97.25%, Val Loss = 0.3545, Precision = 65.85%, Recall = 65.18%, F1 = 65.51%\n",
            "Epoch 126 / 200, Epoch Time = 2.49s: Train Loss = 0.0279, Precision = 96.49%, Recall = 97.93%, F1 = 97.21%, Val Loss = 0.3570, Precision = 63.26%, Recall = 67.92%, F1 = 65.51%\n",
            "Epoch 127 / 200, Epoch Time = 2.50s: Train Loss = 0.0261, Precision = 96.90%, Recall = 98.43%, F1 = 97.66%, Val Loss = 0.3569, Precision = 62.87%, Recall = 68.08%, F1 = 65.37%\n",
            "Epoch 128 / 200, Epoch Time = 2.50s: Train Loss = 0.0260, Precision = 96.95%, Recall = 98.34%, F1 = 97.64%, Val Loss = 0.3583, Precision = 63.41%, Recall = 67.84%, F1 = 65.55%\n",
            "Epoch 129 / 200, Epoch Time = 2.50s: Train Loss = 0.0264, Precision = 96.44%, Recall = 98.37%, F1 = 97.40%, Val Loss = 0.3632, Precision = 62.41%, Recall = 68.71%, F1 = 65.41%\n",
            "Epoch 130 / 200, Epoch Time = 2.52s: Train Loss = 0.0262, Precision = 96.87%, Recall = 98.43%, F1 = 97.64%, Val Loss = 0.3637, Precision = 65.27%, Recall = 65.80%, F1 = 65.53%\n",
            "Epoch 131 / 200, Epoch Time = 2.51s: Train Loss = 0.0253, Precision = 97.04%, Recall = 98.43%, F1 = 97.73%, Val Loss = 0.3687, Precision = 63.26%, Recall = 66.68%, F1 = 64.92%\n",
            "Epoch 132 / 200, Epoch Time = 2.51s: Train Loss = 0.0246, Precision = 97.04%, Recall = 98.48%, F1 = 97.75%, Val Loss = 0.3692, Precision = 62.71%, Recall = 67.05%, F1 = 64.81%\n",
            "Epoch 133 / 200, Epoch Time = 2.50s: Train Loss = 0.0253, Precision = 96.83%, Recall = 98.43%, F1 = 97.62%, Val Loss = 0.3847, Precision = 57.56%, Recall = 72.67%, F1 = 64.24%\n",
            "Epoch 134 / 200, Epoch Time = 2.51s: Train Loss = 0.0262, Precision = 96.67%, Recall = 98.27%, F1 = 97.47%, Val Loss = 0.3807, Precision = 59.02%, Recall = 71.70%, F1 = 64.75%\n",
            "Epoch 135 / 200, Epoch Time = 2.55s: Train Loss = 0.0240, Precision = 97.12%, Recall = 98.49%, F1 = 97.80%, Val Loss = 0.3789, Precision = 60.79%, Recall = 69.84%, F1 = 65.00%\n",
            "Epoch 136 / 200, Epoch Time = 2.52s: Train Loss = 0.0229, Precision = 97.44%, Recall = 98.60%, F1 = 98.02%, Val Loss = 0.3800, Precision = 61.22%, Recall = 69.72%, F1 = 65.19%\n",
            "Epoch 137 / 200, Epoch Time = 2.49s: Train Loss = 0.0226, Precision = 97.43%, Recall = 98.71%, F1 = 98.06%, Val Loss = 0.3803, Precision = 63.99%, Recall = 66.38%, F1 = 65.17%\n",
            "Epoch 138 / 200, Epoch Time = 2.48s: Train Loss = 0.0232, Precision = 97.15%, Recall = 98.42%, F1 = 97.78%, Val Loss = 0.3818, Precision = 61.46%, Recall = 68.71%, F1 = 64.89%\n",
            "Epoch 139 / 200, Epoch Time = 2.51s: Train Loss = 0.0241, Precision = 96.94%, Recall = 98.41%, F1 = 97.67%, Val Loss = 0.3840, Precision = 64.15%, Recall = 66.56%, F1 = 65.33%\n",
            "Epoch 140 / 200, Epoch Time = 2.48s: Train Loss = 0.0230, Precision = 97.01%, Recall = 98.37%, F1 = 97.69%, Val Loss = 0.3854, Precision = 63.41%, Recall = 66.35%, F1 = 64.85%\n",
            "Epoch 141 / 200, Epoch Time = 2.48s: Train Loss = 0.0215, Precision = 97.75%, Recall = 98.82%, F1 = 98.28%, Val Loss = 0.3941, Precision = 61.19%, Recall = 70.05%, F1 = 65.32%\n",
            "Epoch 142 / 200, Epoch Time = 2.49s: Train Loss = 0.0211, Precision = 97.49%, Recall = 98.73%, F1 = 98.10%, Val Loss = 0.3924, Precision = 62.84%, Recall = 68.27%, F1 = 65.44%\n",
            "Epoch 143 / 200, Epoch Time = 2.49s: Train Loss = 0.0209, Precision = 97.70%, Recall = 98.84%, F1 = 98.27%, Val Loss = 0.3919, Precision = 63.81%, Recall = 66.13%, F1 = 64.95%\n",
            "Epoch 144 / 200, Epoch Time = 2.48s: Train Loss = 0.0210, Precision = 97.62%, Recall = 98.74%, F1 = 98.18%, Val Loss = 0.3965, Precision = 66.07%, Recall = 64.07%, F1 = 65.06%\n",
            "Epoch 145 / 200, Epoch Time = 2.49s: Train Loss = 0.0208, Precision = 97.92%, Recall = 98.73%, F1 = 98.32%, Val Loss = 0.4000, Precision = 61.22%, Recall = 69.38%, F1 = 65.05%\n",
            "Epoch 146 / 200, Epoch Time = 2.47s: Train Loss = 0.0194, Precision = 98.04%, Recall = 98.87%, F1 = 98.45%, Val Loss = 0.4017, Precision = 61.59%, Recall = 69.42%, F1 = 65.27%\n",
            "Epoch 147 / 200, Epoch Time = 2.48s: Train Loss = 0.0205, Precision = 97.72%, Recall = 98.73%, F1 = 98.22%, Val Loss = 0.4007, Precision = 64.24%, Recall = 66.32%, F1 = 65.26%\n",
            "Epoch 148 / 200, Epoch Time = 2.49s: Train Loss = 0.0195, Precision = 98.08%, Recall = 99.06%, F1 = 98.57%, Val Loss = 0.4049, Precision = 63.72%, Recall = 65.95%, F1 = 64.82%\n",
            "Epoch 149 / 200, Epoch Time = 2.49s: Train Loss = 0.0195, Precision = 98.01%, Recall = 98.86%, F1 = 98.43%, Val Loss = 0.4121, Precision = 59.79%, Recall = 70.36%, F1 = 64.64%\n",
            "Epoch 150 / 200, Epoch Time = 2.48s: Train Loss = 0.0191, Precision = 98.19%, Recall = 98.90%, F1 = 98.55%, Val Loss = 0.4098, Precision = 61.55%, Recall = 67.96%, F1 = 64.60%\n",
            "Epoch 151 / 200, Epoch Time = 2.48s: Train Loss = 0.0197, Precision = 98.02%, Recall = 98.87%, F1 = 98.45%, Val Loss = 0.4116, Precision = 63.35%, Recall = 67.08%, F1 = 65.16%\n",
            "Epoch 152 / 200, Epoch Time = 2.48s: Train Loss = 0.0193, Precision = 97.84%, Recall = 99.07%, F1 = 98.45%, Val Loss = 0.4130, Precision = 64.91%, Recall = 65.29%, F1 = 65.10%\n",
            "Epoch 153 / 200, Epoch Time = 2.49s: Train Loss = 0.0181, Precision = 98.25%, Recall = 98.94%, F1 = 98.59%, Val Loss = 0.4181, Precision = 62.50%, Recall = 67.37%, F1 = 64.84%\n",
            "Epoch 154 / 200, Epoch Time = 2.50s: Train Loss = 0.0185, Precision = 98.05%, Recall = 98.95%, F1 = 98.50%, Val Loss = 0.4249, Precision = 58.96%, Recall = 70.95%, F1 = 64.40%\n",
            "Epoch 155 / 200, Epoch Time = 2.48s: Train Loss = 0.0185, Precision = 98.04%, Recall = 98.78%, F1 = 98.41%, Val Loss = 0.4188, Precision = 62.65%, Recall = 67.24%, F1 = 64.87%\n",
            "Epoch 156 / 200, Epoch Time = 2.49s: Train Loss = 0.0171, Precision = 98.30%, Recall = 99.17%, F1 = 98.73%, Val Loss = 0.4210, Precision = 63.66%, Recall = 67.25%, F1 = 65.40%\n",
            "Epoch 157 / 200, Epoch Time = 2.48s: Train Loss = 0.0171, Precision = 98.33%, Recall = 99.17%, F1 = 98.75%, Val Loss = 0.4328, Precision = 59.54%, Recall = 70.40%, F1 = 64.52%\n",
            "Epoch 158 / 200, Epoch Time = 2.49s: Train Loss = 0.0170, Precision = 98.30%, Recall = 98.98%, F1 = 98.64%, Val Loss = 0.4404, Precision = 58.72%, Recall = 71.47%, F1 = 64.47%\n",
            "Epoch 159 / 200, Epoch Time = 2.49s: Train Loss = 0.0180, Precision = 98.12%, Recall = 98.87%, F1 = 98.49%, Val Loss = 0.4291, Precision = 65.98%, Recall = 64.46%, F1 = 65.21%\n",
            "Epoch 160 / 200, Epoch Time = 2.48s: Train Loss = 0.0166, Precision = 98.42%, Recall = 99.06%, F1 = 98.74%, Val Loss = 0.4342, Precision = 66.40%, Recall = 62.88%, F1 = 64.59%\n",
            "Epoch 161 / 200, Epoch Time = 2.48s: Train Loss = 0.0163, Precision = 98.41%, Recall = 99.06%, F1 = 98.73%, Val Loss = 0.4330, Precision = 64.57%, Recall = 66.06%, F1 = 65.31%\n",
            "Epoch 162 / 200, Epoch Time = 2.47s: Train Loss = 0.0163, Precision = 98.44%, Recall = 99.12%, F1 = 98.78%, Val Loss = 0.4367, Precision = 65.43%, Recall = 64.16%, F1 = 64.78%\n",
            "Epoch 163 / 200, Epoch Time = 2.48s: Train Loss = 0.0154, Precision = 98.65%, Recall = 99.08%, F1 = 98.86%, Val Loss = 0.4403, Precision = 60.85%, Recall = 69.28%, F1 = 64.79%\n",
            "Epoch 164 / 200, Epoch Time = 2.53s: Train Loss = 0.0160, Precision = 98.45%, Recall = 99.11%, F1 = 98.78%, Val Loss = 0.4382, Precision = 62.44%, Recall = 68.52%, F1 = 65.34%\n",
            "Epoch 165 / 200, Epoch Time = 2.52s: Train Loss = 0.0148, Precision = 98.65%, Recall = 99.24%, F1 = 98.95%, Val Loss = 0.4433, Precision = 62.04%, Recall = 67.81%, F1 = 64.80%\n",
            "Epoch 166 / 200, Epoch Time = 2.55s: Train Loss = 0.0150, Precision = 98.65%, Recall = 99.20%, F1 = 98.92%, Val Loss = 0.4453, Precision = 64.27%, Recall = 65.26%, F1 = 64.76%\n",
            "Epoch 167 / 200, Epoch Time = 2.52s: Train Loss = 0.0151, Precision = 98.48%, Recall = 99.18%, F1 = 98.83%, Val Loss = 0.4476, Precision = 66.01%, Recall = 63.23%, F1 = 64.59%\n",
            "Epoch 168 / 200, Epoch Time = 2.50s: Train Loss = 0.0153, Precision = 98.53%, Recall = 99.24%, F1 = 98.89%, Val Loss = 0.4490, Precision = 65.15%, Recall = 64.29%, F1 = 64.72%\n",
            "Epoch 169 / 200, Epoch Time = 2.51s: Train Loss = 0.0150, Precision = 98.59%, Recall = 99.37%, F1 = 98.98%, Val Loss = 0.4566, Precision = 61.28%, Recall = 68.58%, F1 = 64.72%\n",
            "Epoch 170 / 200, Epoch Time = 2.50s: Train Loss = 0.0145, Precision = 98.74%, Recall = 99.23%, F1 = 98.99%, Val Loss = 0.4526, Precision = 63.32%, Recall = 66.55%, F1 = 64.90%\n",
            "Epoch 171 / 200, Epoch Time = 2.51s: Train Loss = 0.0144, Precision = 98.65%, Recall = 99.26%, F1 = 98.95%, Val Loss = 0.4569, Precision = 63.78%, Recall = 65.60%, F1 = 64.68%\n",
            "Epoch 172 / 200, Epoch Time = 2.50s: Train Loss = 0.0141, Precision = 98.71%, Recall = 99.14%, F1 = 98.93%, Val Loss = 0.4553, Precision = 63.69%, Recall = 66.40%, F1 = 65.02%\n",
            "Epoch 173 / 200, Epoch Time = 2.52s: Train Loss = 0.0134, Precision = 98.90%, Recall = 99.29%, F1 = 99.09%, Val Loss = 0.4600, Precision = 63.78%, Recall = 65.99%, F1 = 64.87%\n",
            "Epoch 174 / 200, Epoch Time = 2.50s: Train Loss = 0.0139, Precision = 98.76%, Recall = 99.23%, F1 = 98.99%, Val Loss = 0.4651, Precision = 61.52%, Recall = 68.57%, F1 = 64.86%\n",
            "Epoch 175 / 200, Epoch Time = 2.51s: Train Loss = 0.0146, Precision = 98.50%, Recall = 99.20%, F1 = 98.85%, Val Loss = 0.4640, Precision = 64.85%, Recall = 64.53%, F1 = 64.69%\n",
            "Epoch 176 / 200, Epoch Time = 2.50s: Train Loss = 0.0137, Precision = 98.70%, Recall = 99.06%, F1 = 98.88%, Val Loss = 0.4693, Precision = 61.92%, Recall = 67.54%, F1 = 64.61%\n",
            "Epoch 177 / 200, Epoch Time = 2.51s: Train Loss = 0.0134, Precision = 98.76%, Recall = 99.35%, F1 = 99.05%, Val Loss = 0.4714, Precision = 60.85%, Recall = 69.14%, F1 = 64.73%\n",
            "Epoch 178 / 200, Epoch Time = 2.52s: Train Loss = 0.0125, Precision = 99.03%, Recall = 99.28%, F1 = 99.16%, Val Loss = 0.4758, Precision = 59.88%, Recall = 69.60%, F1 = 64.37%\n",
            "Epoch 179 / 200, Epoch Time = 2.50s: Train Loss = 0.0132, Precision = 98.84%, Recall = 99.29%, F1 = 99.06%, Val Loss = 0.4725, Precision = 61.83%, Recall = 67.76%, F1 = 64.66%\n",
            "Epoch 180 / 200, Epoch Time = 2.50s: Train Loss = 0.0130, Precision = 98.85%, Recall = 99.34%, F1 = 99.09%, Val Loss = 0.4800, Precision = 60.64%, Recall = 68.30%, F1 = 64.24%\n",
            "Epoch 181 / 200, Epoch Time = 2.51s: Train Loss = 0.0124, Precision = 99.13%, Recall = 99.43%, F1 = 99.28%, Val Loss = 0.4803, Precision = 60.73%, Recall = 69.38%, F1 = 64.77%\n",
            "Epoch 182 / 200, Epoch Time = 2.53s: Train Loss = 0.0128, Precision = 98.77%, Recall = 99.18%, F1 = 98.98%, Val Loss = 0.4793, Precision = 64.02%, Recall = 65.26%, F1 = 64.64%\n",
            "Epoch 183 / 200, Epoch Time = 2.50s: Train Loss = 0.0118, Precision = 98.96%, Recall = 99.40%, F1 = 99.18%, Val Loss = 0.4824, Precision = 62.56%, Recall = 67.06%, F1 = 64.73%\n",
            "Epoch 184 / 200, Epoch Time = 2.50s: Train Loss = 0.0126, Precision = 98.90%, Recall = 99.29%, F1 = 99.09%, Val Loss = 0.4874, Precision = 61.10%, Recall = 67.77%, F1 = 64.26%\n",
            "Epoch 185 / 200, Epoch Time = 2.53s: Train Loss = 0.0129, Precision = 98.80%, Recall = 99.20%, F1 = 99.00%, Val Loss = 0.4893, Precision = 63.69%, Recall = 65.65%, F1 = 64.65%\n",
            "Epoch 186 / 200, Epoch Time = 2.54s: Train Loss = 0.0119, Precision = 98.97%, Recall = 99.38%, F1 = 99.18%, Val Loss = 0.4895, Precision = 64.73%, Recall = 63.60%, F1 = 64.16%\n",
            "Epoch 187 / 200, Epoch Time = 2.52s: Train Loss = 0.0127, Precision = 98.77%, Recall = 99.09%, F1 = 98.93%, Val Loss = 0.4935, Precision = 66.04%, Recall = 62.95%, F1 = 64.45%\n",
            "Epoch 188 / 200, Epoch Time = 2.51s: Train Loss = 0.0118, Precision = 98.97%, Recall = 99.43%, F1 = 99.20%, Val Loss = 0.4931, Precision = 65.43%, Recall = 64.93%, F1 = 65.18%\n",
            "Epoch 189 / 200, Epoch Time = 2.52s: Train Loss = 0.0119, Precision = 99.05%, Recall = 99.34%, F1 = 99.19%, Val Loss = 0.4953, Precision = 65.37%, Recall = 64.58%, F1 = 64.97%\n",
            "Epoch 190 / 200, Epoch Time = 2.51s: Train Loss = 0.0110, Precision = 98.99%, Recall = 99.43%, F1 = 99.21%, Val Loss = 0.4981, Precision = 64.97%, Recall = 64.15%, F1 = 64.56%\n",
            "Epoch 191 / 200, Epoch Time = 2.52s: Train Loss = 0.0112, Precision = 99.14%, Recall = 99.36%, F1 = 99.25%, Val Loss = 0.5005, Precision = 62.32%, Recall = 66.51%, F1 = 64.35%\n",
            "Epoch 192 / 200, Epoch Time = 2.51s: Train Loss = 0.0114, Precision = 99.08%, Recall = 99.40%, F1 = 99.24%, Val Loss = 0.5062, Precision = 61.34%, Recall = 68.58%, F1 = 64.76%\n",
            "Epoch 193 / 200, Epoch Time = 2.50s: Train Loss = 0.0105, Precision = 99.19%, Recall = 99.51%, F1 = 99.35%, Val Loss = 0.5058, Precision = 62.84%, Recall = 67.05%, F1 = 64.87%\n",
            "Epoch 194 / 200, Epoch Time = 2.55s: Train Loss = 0.0112, Precision = 99.13%, Recall = 99.29%, F1 = 99.21%, Val Loss = 0.5063, Precision = 62.62%, Recall = 67.10%, F1 = 64.78%\n",
            "Epoch 195 / 200, Epoch Time = 2.58s: Train Loss = 0.0107, Precision = 99.05%, Recall = 99.46%, F1 = 99.26%, Val Loss = 0.5100, Precision = 64.36%, Recall = 63.53%, F1 = 63.94%\n",
            "Epoch 196 / 200, Epoch Time = 2.57s: Train Loss = 0.0108, Precision = 99.11%, Recall = 99.32%, F1 = 99.22%, Val Loss = 0.5312, Precision = 57.01%, Recall = 71.10%, F1 = 63.28%\n",
            "Epoch 197 / 200, Epoch Time = 2.57s: Train Loss = 0.0104, Precision = 99.14%, Recall = 99.42%, F1 = 99.28%, Val Loss = 0.5146, Precision = 60.34%, Recall = 68.95%, F1 = 64.36%\n",
            "Epoch 198 / 200, Epoch Time = 2.56s: Train Loss = 0.0102, Precision = 99.13%, Recall = 99.57%, F1 = 99.35%, Val Loss = 0.5141, Precision = 63.17%, Recall = 66.01%, F1 = 64.56%\n",
            "Epoch 199 / 200, Epoch Time = 2.57s: Train Loss = 0.0099, Precision = 99.37%, Recall = 99.37%, F1 = 99.37%, Val Loss = 0.5172, Precision = 62.10%, Recall = 66.70%, F1 = 64.32%\n",
            "Epoch 200 / 200, Epoch Time = 2.52s: Train Loss = 0.0100, Precision = 99.30%, Recall = 99.43%, F1 = 99.36%, Val Loss = 0.5185, Precision = 63.32%, Recall = 65.79%, F1 = 64.53%\n"
          ],
          "name": "stdout"
        }
      ]
    },
    {
      "metadata": {
        "id": "4o-1AEcFCjAk",
        "colab_type": "text"
      },
      "cell_type": "markdown",
      "source": [
        "**Задание** Проверьте работу классификатора на вашей фамилии.\n",
        "\n",
        "Нужно не забыть перевести модель в режим инференса - некоторые слои на трейне и инференсе ведут себя по-разному."
      ]
    },
    {
      "metadata": {
        "id": "svO9OrF4CiLI",
        "colab_type": "code",
        "outputId": "aac2fc67-5013-4579-8407-f0460dc1b34d",
        "colab": {
          "base_uri": "https://localhost:8080/",
          "height": 34
        }
      },
      "cell_type": "code",
      "source": [
        "model.eval()\n",
        "\n",
        "surname = \"Леонтьева\"\n",
        "surname_tensor = convert_data([surname], MAX_WORD_LEN, char_index)\n",
        "surname_tensor = torch.cuda.LongTensor(surname_tensor)\n",
        "# print(surname_tensor.shape)\n",
        "print('P({} is surname) = {}'.format(surname, torch.sigmoid(model(surname_tensor))))"
      ],
      "execution_count": 0,
      "outputs": [
        {
          "output_type": "stream",
          "text": [
            "P(Леонтьева is surname) = tensor([0.9617], device='cuda:0', grad_fn=<SigmoidBackward>)\n"
          ],
          "name": "stdout"
        }
      ]
    },
    {
      "metadata": {
        "id": "djkksZKcDPA1",
        "colab_type": "text"
      },
      "cell_type": "markdown",
      "source": [
        "**Задание** Постройте precision-recall curve для данного классификатора и предыдущей модели"
      ]
    },
    {
      "metadata": {
        "id": "PZm7O56pDcH_",
        "colab_type": "code",
        "outputId": "6cba1112-d4f4-4a60-a5e5-c224208a176c",
        "colab": {
          "base_uri": "https://localhost:8080/",
          "height": 457
        }
      },
      "cell_type": "code",
      "source": [
        "from sklearn.metrics import precision_recall_curve\n",
        "import matplotlib.pyplot as plt\n",
        "%matplotlib inline\n",
        "\n",
        "inputs = torch.cuda.LongTensor(X_test)\n",
        "logits = model(inputs).data.cpu().numpy()\n",
        "precision, recall, _ = precision_recall_curve(test_labels, logits)\n",
        "\n",
        "plt.figure(figsize=(7, 7))\n",
        "f_scores = np.linspace(0.2, 0.8, num=4)\n",
        "lines = []\n",
        "labels = []\n",
        "for f_score in f_scores:\n",
        "    x = np.linspace(0.01, 1)\n",
        "    y = f_score * x / (2 * x - f_score)\n",
        "    l, = plt.plot(x[y >= 0], y[y >= 0], color='gray', alpha=0.2)\n",
        "    plt.annotate('F1 = {0:0.1f}'.format(f_score), xy=(0.9, y[45] + 0.02))\n",
        "\n",
        "plt.plot(recall, precision)\n",
        "\n",
        "plt.xlim([0.0, 1.0])\n",
        "plt.ylim([0.0, 1.05])\n",
        "plt.xlabel('Recall')\n",
        "plt.ylabel('Precision')\n",
        "plt.title('Precision-Recall Curve')\n",
        "\n",
        "plt.show()"
      ],
      "execution_count": 0,
      "outputs": [
        {
          "output_type": "display_data",
          "data": {
            "image/png": "[encoded data removed]",
            "text/plain": [
              "<matplotlib.figure.Figure at 0x7ff5f8b3edd8>"
            ]
          },
          "metadata": {
            "tags": []
          }
        }
      ]
    },
    {
      "metadata": {
        "id": "_FPTfBzSDheP",
        "colab_type": "text"
      },
      "cell_type": "markdown",
      "source": [
        "## Визуализации\n",
        "\n",
        "### Визуализация эмбеддингов\n",
        "\n",
        "**Задание** Визуализируем эмбеддинги слов, как это делали раньше"
      ]
    },
    {
      "metadata": {
        "id": "DeW5av_ASrn4",
        "colab_type": "code",
        "colab": {}
      },
      "cell_type": "code",
      "source": [
        "import bokeh.models as bm, bokeh.plotting as pl\n",
        "from bokeh.io import output_notebook\n",
        "\n",
        "from sklearn.manifold import TSNE\n",
        "from sklearn.preprocessing import scale\n",
        "\n",
        "\n",
        "def draw_vectors(x, y, radius=10, alpha=0.25, color='blue',\n",
        "                 width=600, height=400, show=True, **kwargs):\n",
        "    \"\"\" draws an interactive plot for data points with auxilirary info on hover \"\"\"\n",
        "    output_notebook()\n",
        "    \n",
        "    if isinstance(color, str): \n",
        "        color = [color] * len(x)\n",
        "    data_source = bm.ColumnDataSource({ 'x' : x, 'y' : y, 'color': color, **kwargs })\n",
        "\n",
        "    fig = pl.figure(active_scroll='wheel_zoom', width=width, height=height)\n",
        "    fig.scatter('x', 'y', size=radius, color='color', alpha=alpha, source=data_source)\n",
        "\n",
        "    fig.add_tools(bm.HoverTool(tooltips=[(key, \"@\" + key) for key in kwargs.keys()]))\n",
        "    if show: \n",
        "        pl.show(fig)\n",
        "    return fig\n",
        "\n",
        "\n",
        "def get_tsne_projection(word_vectors):\n",
        "    tsne = TSNE(n_components=2, verbose=100)\n",
        "    return scale(tsne.fit_transform(word_vectors))\n",
        "    \n",
        "    \n",
        "def visualize_embeddings(embeddings, token, colors):\n",
        "    tsne = get_tsne_projection(embeddings)\n",
        "    draw_vectors(tsne[:, 0], tsne[:, 1], color=colors, token=token)"
      ],
      "execution_count": 0,
      "outputs": []
    },
    {
      "metadata": {
        "id": "67KNX5lBTdrt",
        "colab_type": "code",
        "outputId": "830d7d3b-aae2-4576-a0ef-967ae79e7983",
        "colab": {
          "base_uri": "https://localhost:8080/",
          "height": 1011
        }
      },
      "cell_type": "code",
      "source": [
        "word_indices = np.random.choice(np.arange(len(test_data)), 1000, replace=False)\n",
        "words = [test_data[ind] for ind in word_indices]\n",
        "labels = test_labels[word_indices]\n",
        "max_word_len = max(len(x) for x in words)\n",
        "# print(max_word_len)\n",
        "\n",
        "word_tensor = torch.cuda.LongTensor(convert_data(words, max_word_len, char_index))\n",
        "print(word_tensor.shape)\n",
        "embeddings = model.embed(word_tensor)\n",
        "print(embeddings.shape)\n",
        "embeddings = embeddings.detach().cpu().numpy()\n",
        "\n",
        "colors = ['red' if label else 'blue' for label in labels]\n",
        "\n",
        "visualize_embeddings(embeddings, words, colors)"
      ],
      "execution_count": 0,
      "outputs": [
        {
          "output_type": "stream",
          "text": [
            "torch.Size([1000, 20])\n",
            "torch.Size([1000, 128])\n",
            "[t-SNE] Computing 91 nearest neighbors...\n",
            "[t-SNE] Indexed 1000 samples in 0.004s...\n",
            "[t-SNE] Computed neighbors for 1000 samples in 0.299s...\n",
            "[t-SNE] Computed conditional probabilities for sample 1000 / 1000\n",
            "[t-SNE] Mean sigma: 5.396713\n",
            "[t-SNE] Computed conditional probabilities in 0.080s\n",
            "[t-SNE] Iteration 50: error = 72.9495239, gradient norm = 0.3248853 (50 iterations in 3.021s)\n",
            "[t-SNE] Iteration 100: error = 73.8364563, gradient norm = 0.3073391 (50 iterations in 2.490s)\n",
            "[t-SNE] Iteration 150: error = 73.7557907, gradient norm = 0.3070364 (50 iterations in 3.016s)\n",
            "[t-SNE] Iteration 200: error = 73.9617386, gradient norm = 0.3125691 (50 iterations in 2.475s)\n",
            "[t-SNE] Iteration 250: error = 75.0434952, gradient norm = 0.2943079 (50 iterations in 2.578s)\n",
            "[t-SNE] KL divergence after 250 iterations with early exaggeration: 75.043495\n",
            "[t-SNE] Iteration 300: error = 1.6672332, gradient norm = 0.0027458 (50 iterations in 2.029s)\n",
            "[t-SNE] Iteration 350: error = 1.5558605, gradient norm = 0.0005404 (50 iterations in 1.810s)\n",
            "[t-SNE] Iteration 400: error = 1.5139875, gradient norm = 0.0003332 (50 iterations in 1.840s)\n",
            "[t-SNE] Iteration 450: error = 1.4951122, gradient norm = 0.0002046 (50 iterations in 1.854s)\n",
            "[t-SNE] Iteration 500: error = 1.4860189, gradient norm = 0.0001737 (50 iterations in 1.873s)\n",
            "[t-SNE] Iteration 550: error = 1.4800951, gradient norm = 0.0001633 (50 iterations in 1.894s)\n",
            "[t-SNE] Iteration 600: error = 1.4750264, gradient norm = 0.0001664 (50 iterations in 1.885s)\n",
            "[t-SNE] Iteration 650: error = 1.4697824, gradient norm = 0.0001982 (50 iterations in 1.895s)\n",
            "[t-SNE] Iteration 700: error = 1.4669003, gradient norm = 0.0000903 (50 iterations in 1.852s)\n",
            "[t-SNE] Iteration 750: error = 1.4644409, gradient norm = 0.0001083 (50 iterations in 1.878s)\n",
            "[t-SNE] Iteration 800: error = 1.4627038, gradient norm = 0.0000829 (50 iterations in 1.854s)\n",
            "[t-SNE] Iteration 850: error = 1.4621527, gradient norm = 0.0000590 (50 iterations in 1.842s)\n",
            "[t-SNE] Iteration 900: error = 1.4612423, gradient norm = 0.0000574 (50 iterations in 2.457s)\n",
            "[t-SNE] Iteration 950: error = 1.4608560, gradient norm = 0.0000519 (50 iterations in 1.877s)\n",
            "[t-SNE] Iteration 1000: error = 1.4603063, gradient norm = 0.0000537 (50 iterations in 1.836s)\n",
            "[t-SNE] Error after 1000 iterations: 1.460306\n"
          ],
          "name": "stdout"
        },
        {
          "output_type": "stream",
          "text": [
            "/usr/local/lib/python3.6/dist-packages/sklearn/preprocessing/data.py:164: UserWarning: Numerical issues were encountered when centering the data and might not be solved. Dataset may contain too large values. You may need to prescale your features.\n",
            "  warnings.warn(\"Numerical issues were encountered \"\n"
          ],
          "name": "stderr"
        },
        {
          "output_type": "display_data",
          "data": {
            "text/html": [
              "\n",
              "    <div class=\"bk-root\">\n",
              "        <a href=\"https://bokeh.pydata.org\" target=\"_blank\" class=\"bk-logo bk-logo-small bk-logo-notebook\"></a>\n",
              "        <span id=\"e46dc741-c8c9-4a42-892d-592897eba11c\">Loading BokehJS ...</span>\n",
              "    </div>"
            ]
          },
          "metadata": {
            "tags": []
          }
        },
        {
          "output_type": "display_data",
          "data": {
            "application/javascript": [
              "\n",
              "(function(root) {\n",
              "  function now() {\n",
              "    return new Date();\n",
              "  }\n",
              "\n",
              "  var force = true;\n",
              "\n",
              "  if (typeof (root._bokeh_onload_callbacks) === \"undefined\" || force === true) {\n",
              "    root._bokeh_onload_callbacks = [];\n",
              "    root._bokeh_is_loading = undefined;\n",
              "  }\n",
              "\n",
              "  var JS_MIME_TYPE = 'application/javascript';\n",
              "  var HTML_MIME_TYPE = 'text/html';\n",
              "  var EXEC_MIME_TYPE = 'application/vnd.bokehjs_exec.v0+json';\n",
              "  var CLASS_NAME = 'output_bokeh rendered_html';\n",
              "\n",
              "  /**\n",
              "   * Render data to the DOM node\n",
              "   */\n",
              "  function render(props, node) {\n",
              "    var script = document.createElement(\"script\");\n",
              "    node.appendChild(script);\n",
              "  }\n",
              "\n",
              "  /**\n",
              "   * Handle when an output is cleared or removed\n",
              "   */\n",
              "  function handleClearOutput(event, handle) {\n",
              "    var cell = handle.cell;\n",
              "\n",
              "    var id = cell.output_area._bokeh_element_id;\n",
              "    var server_id = cell.output_area._bokeh_server_id;\n",
              "    // Clean up Bokeh references\n",
              "    if (id != null && id in Bokeh.index) {\n",
              "      Bokeh.index[id].model.document.clear();\n",
              "      delete Bokeh.index[id];\n",
              "    }\n",
              "\n",
              "    if (server_id !== undefined) {\n",
              "      // Clean up Bokeh references\n",
              "      var cmd = \"from bokeh.io.state import curstate; print(curstate().uuid_to_server['\" + server_id + \"'].get_sessions()[0].document.roots[0]._id)\";\n",
              "      cell.notebook.kernel.execute(cmd, {\n",
              "        iopub: {\n",
              "          output: function(msg) {\n",
              "            var id = msg.content.text.trim();\n",
              "            if (id in Bokeh.index) {\n",
              "              Bokeh.index[id].model.document.clear();\n",
              "              delete Bokeh.index[id];\n",
              "            }\n",
              "          }\n",
              "        }\n",
              "      });\n",
              "      // Destroy server and session\n",
              "      var cmd = \"import bokeh.io.notebook as ion; ion.destroy_server('\" + server_id + \"')\";\n",
              "      cell.notebook.kernel.execute(cmd);\n",
              "    }\n",
              "  }\n",
              "\n",
              "  /**\n",
              "   * Handle when a new output is added\n",
              "   */\n",
              "  function handleAddOutput(event, handle) {\n",
              "    var output_area = handle.output_area;\n",
              "    var output = handle.output;\n",
              "\n",
              "    // limit handleAddOutput to display_data with EXEC_MIME_TYPE content only\n",
              "    if ((output.output_type != \"display_data\") || (!output.data.hasOwnProperty(EXEC_MIME_TYPE))) {\n",
              "      return\n",
              "    }\n",
              "\n",
              "    var toinsert = output_area.element.find(\".\" + CLASS_NAME.split(' ')[0]);\n",
              "\n",
              "    if (output.metadata[EXEC_MIME_TYPE][\"id\"] !== undefined) {\n",
              "      toinsert[toinsert.length - 1].firstChild.textContent = output.data[JS_MIME_TYPE];\n",
              "      // store reference to embed id on output_area\n",
              "      output_area._bokeh_element_id = output.metadata[EXEC_MIME_TYPE][\"id\"];\n",
              "    }\n",
              "    if (output.metadata[EXEC_MIME_TYPE][\"server_id\"] !== undefined) {\n",
              "      var bk_div = document.createElement(\"div\");\n",
              "      bk_div.innerHTML = output.data[HTML_MIME_TYPE];\n",
              "      var script_attrs = bk_div.children[0].attributes;\n",
              "      for (var i = 0; i < script_attrs.length; i++) {\n",
              "        toinsert[toinsert.length - 1].firstChild.setAttribute(script_attrs[i].name, script_attrs[i].value);\n",
              "      }\n",
              "      // store reference to server id on output_area\n",
              "      output_area._bokeh_server_id = output.metadata[EXEC_MIME_TYPE][\"server_id\"];\n",
              "    }\n",
              "  }\n",
              "\n",
              "  function register_renderer(events, OutputArea) {\n",
              "\n",
              "    function append_mime(data, metadata, element) {\n",
              "      // create a DOM node to render to\n",
              "      var toinsert = this.create_output_subarea(\n",
              "        metadata,\n",
              "        CLASS_NAME,\n",
              "        EXEC_MIME_TYPE\n",
              "      );\n",
              "      this.keyboard_manager.register_events(toinsert);\n",
              "      // Render to node\n",
              "      var props = {data: data, metadata: metadata[EXEC_MIME_TYPE]};\n",
              "      render(props, toinsert[toinsert.length - 1]);\n",
              "      element.append(toinsert);\n",
              "      return toinsert\n",
              "    }\n",
              "\n",
              "    /* Handle when an output is cleared or removed */\n",
              "    events.on('clear_output.CodeCell', handleClearOutput);\n",
              "    events.on('delete.Cell', handleClearOutput);\n",
              "\n",
              "    /* Handle when a new output is added */\n",
              "    events.on('output_added.OutputArea', handleAddOutput);\n",
              "\n",
              "    /**\n",
              "     * Register the mime type and append_mime function with output_area\n",
              "     */\n",
              "    OutputArea.prototype.register_mime_type(EXEC_MIME_TYPE, append_mime, {\n",
              "      /* Is output safe? */\n",
              "      safe: true,\n",
              "      /* Index of renderer in `output_area.display_order` */\n",
              "      index: 0\n",
              "    });\n",
              "  }\n",
              "\n",
              "  // register the mime type if in Jupyter Notebook environment and previously unregistered\n",
              "  if (root.Jupyter !== undefined) {\n",
              "    var events = require('base/js/events');\n",
              "    var OutputArea = require('notebook/js/outputarea').OutputArea;\n",
              "\n",
              "    if (OutputArea.prototype.mime_types().indexOf(EXEC_MIME_TYPE) == -1) {\n",
              "      register_renderer(events, OutputArea);\n",
              "    }\n",
              "  }\n",
              "\n",
              "  \n",
              "  if (typeof (root._bokeh_timeout) === \"undefined\" || force === true) {\n",
              "    root._bokeh_timeout = Date.now() + 5000;\n",
              "    root._bokeh_failed_load = false;\n",
              "  }\n",
              "\n",
              "  var NB_LOAD_WARNING = {'data': {'text/html':\n",
              "     \"<div style='background-color: #fdd'>\\n\"+\n",
              "     \"<p>\\n\"+\n",
              "     \"BokehJS does not appear to have successfully loaded. If loading BokehJS from CDN, this \\n\"+\n",
              "     \"may be due to a slow or bad network connection. Possible fixes:\\n\"+\n",
              "     \"</p>\\n\"+\n",
              "     \"<ul>\\n\"+\n",
              "     \"<li>re-rerun `output_notebook()` to attempt to load from CDN again, or</li>\\n\"+\n",
              "     \"<li>use INLINE resources instead, as so:</li>\\n\"+\n",
              "     \"</ul>\\n\"+\n",
              "     \"<code>\\n\"+\n",
              "     \"from bokeh.resources import INLINE\\n\"+\n",
              "     \"output_notebook(resources=INLINE)\\n\"+\n",
              "     \"</code>\\n\"+\n",
              "     \"</div>\"}};\n",
              "\n",
              "  function display_loaded() {\n",
              "    var el = document.getElementById(\"e46dc741-c8c9-4a42-892d-592897eba11c\");\n",
              "    if (el != null) {\n",
              "      el.textContent = \"BokehJS is loading...\";\n",
              "    }\n",
              "    if (root.Bokeh !== undefined) {\n",
              "      if (el != null) {\n",
              "        el.textContent = \"BokehJS \" + root.Bokeh.version + \" successfully loaded.\";\n",
              "      }\n",
              "    } else if (Date.now() < root._bokeh_timeout) {\n",
              "      setTimeout(display_loaded, 100)\n",
              "    }\n",
              "  }\n",
              "\n",
              "\n",
              "  function run_callbacks() {\n",
              "    try {\n",
              "      root._bokeh_onload_callbacks.forEach(function(callback) { callback() });\n",
              "    }\n",
              "    finally {\n",
              "      delete root._bokeh_onload_callbacks\n",
              "    }\n",
              "    console.info(\"Bokeh: all callbacks have finished\");\n",
              "  }\n",
              "\n",
              "  function load_libs(js_urls, callback) {\n",
              "    root._bokeh_onload_callbacks.push(callback);\n",
              "    if (root._bokeh_is_loading > 0) {\n",
              "      console.log(\"Bokeh: BokehJS is being loaded, scheduling callback at\", now());\n",
              "      return null;\n",
              "    }\n",
              "    if (js_urls == null || js_urls.length === 0) {\n",
              "      run_callbacks();\n",
              "      return null;\n",
              "    }\n",
              "    console.log(\"Bokeh: BokehJS not loaded, scheduling load and callback at\", now());\n",
              "    root._bokeh_is_loading = js_urls.length;\n",
              "    for (var i = 0; i < js_urls.length; i++) {\n",
              "      var url = js_urls[i];\n",
              "      var s = document.createElement('script');\n",
              "      s.src = url;\n",
              "      s.async = false;\n",
              "      s.onreadystatechange = s.onload = function() {\n",
              "        root._bokeh_is_loading--;\n",
              "        if (root._bokeh_is_loading === 0) {\n",
              "          console.log(\"Bokeh: all BokehJS libraries loaded\");\n",
              "          run_callbacks()\n",
              "        }\n",
              "      };\n",
              "      s.onerror = function() {\n",
              "        console.warn(\"failed to load library \" + url);\n",
              "      };\n",
              "      console.log(\"Bokeh: injecting script tag for BokehJS library: \", url);\n",
              "      document.getElementsByTagName(\"head\")[0].appendChild(s);\n",
              "    }\n",
              "  };var element = document.getElementById(\"e46dc741-c8c9-4a42-892d-592897eba11c\");\n",
              "  if (element == null) {\n",
              "    console.log(\"Bokeh: ERROR: autoload.js configured with elementid 'e46dc741-c8c9-4a42-892d-592897eba11c' but no matching script tag was found. \")\n",
              "    return false;\n",
              "  }\n",
              "\n",
              "  var js_urls = [\"https://cdn.pydata.org/bokeh/release/bokeh-0.13.0.min.js\", \"https://cdn.pydata.org/bokeh/release/bokeh-widgets-0.13.0.min.js\", \"https://cdn.pydata.org/bokeh/release/bokeh-tables-0.13.0.min.js\", \"https://cdn.pydata.org/bokeh/release/bokeh-gl-0.13.0.min.js\"];\n",
              "\n",
              "  var inline_js = [\n",
              "    function(Bokeh) {\n",
              "      Bokeh.set_log_level(\"info\");\n",
              "    },\n",
              "    \n",
              "    function(Bokeh) {\n",
              "      \n",
              "    },\n",
              "    function(Bokeh) {\n",
              "      console.log(\"Bokeh: injecting CSS: https://cdn.pydata.org/bokeh/release/bokeh-0.13.0.min.css\");\n",
              "      Bokeh.embed.inject_css(\"https://cdn.pydata.org/bokeh/release/bokeh-0.13.0.min.css\");\n",
              "      console.log(\"Bokeh: injecting CSS: https://cdn.pydata.org/bokeh/release/bokeh-widgets-0.13.0.min.css\");\n",
              "      Bokeh.embed.inject_css(\"https://cdn.pydata.org/bokeh/release/bokeh-widgets-0.13.0.min.css\");\n",
              "      console.log(\"Bokeh: injecting CSS: https://cdn.pydata.org/bokeh/release/bokeh-tables-0.13.0.min.css\");\n",
              "      Bokeh.embed.inject_css(\"https://cdn.pydata.org/bokeh/release/bokeh-tables-0.13.0.min.css\");\n",
              "    }\n",
              "  ];\n",
              "\n",
              "  function run_inline_js() {\n",
              "    \n",
              "    if ((root.Bokeh !== undefined) || (force === true)) {\n",
              "      for (var i = 0; i < inline_js.length; i++) {\n",
              "        inline_js[i].call(root, root.Bokeh);\n",
              "      }if (force === true) {\n",
              "        display_loaded();\n",
              "      }} else if (Date.now() < root._bokeh_timeout) {\n",
              "      setTimeout(run_inline_js, 100);\n",
              "    } else if (!root._bokeh_failed_load) {\n",
              "      console.log(\"Bokeh: BokehJS failed to load within specified timeout.\");\n",
              "      root._bokeh_failed_load = true;\n",
              "    } else if (force !== true) {\n",
              "      var cell = $(document.getElementById(\"e46dc741-c8c9-4a42-892d-592897eba11c\")).parents('.cell').data().cell;\n",
              "      cell.output_area.append_execute_result(NB_LOAD_WARNING)\n",
              "    }\n",
              "\n",
              "  }\n",
              "\n",
              "  if (root._bokeh_is_loading === 0) {\n",
              "    console.log(\"Bokeh: BokehJS loaded, going straight to plotting\");\n",
              "    run_inline_js();\n",
              "  } else {\n",
              "    load_libs(js_urls, function() {\n",
              "      console.log(\"Bokeh: BokehJS plotting callback run at\", now());\n",
              "      run_inline_js();\n",
              "    });\n",
              "  }\n",
              "}(window));"
            ],
            "application/vnd.bokehjs_load.v0+json": "\n(function(root) {\n  function now() {\n    return new Date();\n  }\n\n  var force = true;\n\n  if (typeof (root._bokeh_onload_callbacks) === \"undefined\" || force === true) {\n    root._bokeh_onload_callbacks = [];\n    root._bokeh_is_loading = undefined;\n  }\n\n  \n\n  \n  if (typeof (root._bokeh_timeout) === \"undefined\" || force === true) {\n    root._bokeh_timeout = Date.now() + 5000;\n    root._bokeh_failed_load = false;\n  }\n\n  var NB_LOAD_WARNING = {'data': {'text/html':\n     \"<div style='background-color: #fdd'>\\n\"+\n     \"<p>\\n\"+\n     \"BokehJS does not appear to have successfully loaded. If loading BokehJS from CDN, this \\n\"+\n     \"may be due to a slow or bad network connection. Possible fixes:\\n\"+\n     \"</p>\\n\"+\n     \"<ul>\\n\"+\n     \"<li>re-rerun `output_notebook()` to attempt to load from CDN again, or</li>\\n\"+\n     \"<li>use INLINE resources instead, as so:</li>\\n\"+\n     \"</ul>\\n\"+\n     \"<code>\\n\"+\n     \"from bokeh.resources import INLINE\\n\"+\n     \"output_notebook(resources=INLINE)\\n\"+\n     \"</code>\\n\"+\n     \"</div>\"}};\n\n  function display_loaded() {\n    var el = document.getElementById(\"e46dc741-c8c9-4a42-892d-592897eba11c\");\n    if (el != null) {\n      el.textContent = \"BokehJS is loading...\";\n    }\n    if (root.Bokeh !== undefined) {\n      if (el != null) {\n        el.textContent = \"BokehJS \" + root.Bokeh.version + \" successfully loaded.\";\n      }\n    } else if (Date.now() < root._bokeh_timeout) {\n      setTimeout(display_loaded, 100)\n    }\n  }\n\n\n  function run_callbacks() {\n    try {\n      root._bokeh_onload_callbacks.forEach(function(callback) { callback() });\n    }\n    finally {\n      delete root._bokeh_onload_callbacks\n    }\n    console.info(\"Bokeh: all callbacks have finished\");\n  }\n\n  function load_libs(js_urls, callback) {\n    root._bokeh_onload_callbacks.push(callback);\n    if (root._bokeh_is_loading > 0) {\n      console.log(\"Bokeh: BokehJS is being loaded, scheduling callback at\", now());\n      return null;\n    }\n    if (js_urls == null || js_urls.length === 0) {\n      run_callbacks();\n      return null;\n    }\n    console.log(\"Bokeh: BokehJS not loaded, scheduling load and callback at\", now());\n    root._bokeh_is_loading = js_urls.length;\n    for (var i = 0; i < js_urls.length; i++) {\n      var url = js_urls[i];\n      var s = document.createElement('script');\n      s.src = url;\n      s.async = false;\n      s.onreadystatechange = s.onload = function() {\n        root._bokeh_is_loading--;\n        if (root._bokeh_is_loading === 0) {\n          console.log(\"Bokeh: all BokehJS libraries loaded\");\n          run_callbacks()\n        }\n      };\n      s.onerror = function() {\n        console.warn(\"failed to load library \" + url);\n      };\n      console.log(\"Bokeh: injecting script tag for BokehJS library: \", url);\n      document.getElementsByTagName(\"head\")[0].appendChild(s);\n    }\n  };var element = document.getElementById(\"e46dc741-c8c9-4a42-892d-592897eba11c\");\n  if (element == null) {\n    console.log(\"Bokeh: ERROR: autoload.js configured with elementid 'e46dc741-c8c9-4a42-892d-592897eba11c' but no matching script tag was found. \")\n    return false;\n  }\n\n  var js_urls = [\"https://cdn.pydata.org/bokeh/release/bokeh-0.13.0.min.js\", \"https://cdn.pydata.org/bokeh/release/bokeh-widgets-0.13.0.min.js\", \"https://cdn.pydata.org/bokeh/release/bokeh-tables-0.13.0.min.js\", \"https://cdn.pydata.org/bokeh/release/bokeh-gl-0.13.0.min.js\"];\n\n  var inline_js = [\n    function(Bokeh) {\n      Bokeh.set_log_level(\"info\");\n    },\n    \n    function(Bokeh) {\n      \n    },\n    function(Bokeh) {\n      console.log(\"Bokeh: injecting CSS: https://cdn.pydata.org/bokeh/release/bokeh-0.13.0.min.css\");\n      Bokeh.embed.inject_css(\"https://cdn.pydata.org/bokeh/release/bokeh-0.13.0.min.css\");\n      console.log(\"Bokeh: injecting CSS: https://cdn.pydata.org/bokeh/release/bokeh-widgets-0.13.0.min.css\");\n      Bokeh.embed.inject_css(\"https://cdn.pydata.org/bokeh/release/bokeh-widgets-0.13.0.min.css\");\n      console.log(\"Bokeh: injecting CSS: https://cdn.pydata.org/bokeh/release/bokeh-tables-0.13.0.min.css\");\n      Bokeh.embed.inject_css(\"https://cdn.pydata.org/bokeh/release/bokeh-tables-0.13.0.min.css\");\n    }\n  ];\n\n  function run_inline_js() {\n    \n    if ((root.Bokeh !== undefined) || (force === true)) {\n      for (var i = 0; i < inline_js.length; i++) {\n        inline_js[i].call(root, root.Bokeh);\n      }if (force === true) {\n        display_loaded();\n      }} else if (Date.now() < root._bokeh_timeout) {\n      setTimeout(run_inline_js, 100);\n    } else if (!root._bokeh_failed_load) {\n      console.log(\"Bokeh: BokehJS failed to load within specified timeout.\");\n      root._bokeh_failed_load = true;\n    } else if (force !== true) {\n      var cell = $(document.getElementById(\"e46dc741-c8c9-4a42-892d-592897eba11c\")).parents('.cell').data().cell;\n      cell.output_area.append_execute_result(NB_LOAD_WARNING)\n    }\n\n  }\n\n  if (root._bokeh_is_loading === 0) {\n    console.log(\"Bokeh: BokehJS loaded, going straight to plotting\");\n    run_inline_js();\n  } else {\n    load_libs(js_urls, function() {\n      console.log(\"Bokeh: BokehJS plotting callback run at\", now());\n      run_inline_js();\n    });\n  }\n}(window));"
          },
          "metadata": {
            "tags": []
          }
        },
        {
          "output_type": "display_data",
          "data": {
            "text/html": [
              "\n",
              "\n",
              "\n",
              "\n",
              "\n",
              "\n",
              "  <div class=\"bk-root\" id=\"f7f3f1a7-59bb-4207-8150-5b899be45198\"></div>\n"
            ]
          },
          "metadata": {
            "tags": []
          }
        },
        {
          "output_type": "display_data",
          "data": {
            "application/javascript": [
              "(function(root) {\n",
              "  function embed_document(root) {\n",
              "    \n",
              "  var docs_json = {\"55c29909-6a67-4723-b8ad-3a910f506c72\":{\"roots\":{\"references\":[{\"attributes\":{},\"id\":\"1355e6d2-22d3-42c0-a34e-a1dd4469f6bb\",\"type\":\"BasicTicker\"},{\"attributes\":{},\"id\":\"a04f8aea-da10-4a12-8e19-7b387f5a4a9c\",\"type\":\"BasicTickFormatter\"},{\"attributes\":{\"dimension\":1,\"plot\":{\"id\":\"fe2aff6f-10c9-4f17-8797-e23a380c219f\",\"subtype\":\"Figure\",\"type\":\"Plot\"},\"ticker\":{\"id\":\"1355e6d2-22d3-42c0-a34e-a1dd4469f6bb\",\"type\":\"BasicTicker\"}},\"id\":\"cdc96687-e29a-4d3f-a172-d5cee7aeced5\",\"type\":\"Grid\"},{\"attributes\":{\"active_drag\":\"auto\",\"active_inspect\":\"auto\",\"active_multi\":null,\"active_scroll\":{\"id\":\"fc26b2f6-110b-4528-8589-2bd02a068931\",\"type\":\"WheelZoomTool\"},\"active_tap\":\"auto\",\"tools\":[{\"id\":\"775db212-277e-4f2c-af07-22e624dd7c9e\",\"type\":\"PanTool\"},{\"id\":\"fc26b2f6-110b-4528-8589-2bd02a068931\",\"type\":\"WheelZoomTool\"},{\"id\":\"e9b82c41-6a0e-4bfc-878d-d8074ac9ddd7\",\"type\":\"BoxZoomTool\"},{\"id\":\"ae30b8db-acbf-4ea1-ad03-4cb396f1ed11\",\"type\":\"SaveTool\"},{\"id\":\"3859466f-7b47-4636-bf07-e1bf4bef234b\",\"type\":\"ResetTool\"},{\"id\":\"44859a56-1c64-4d9c-803f-3f756a44b354\",\"type\":\"HelpTool\"},{\"id\":\"7a11fc40-a6c3-4e99-af3f-7d6d2d543424\",\"type\":\"HoverTool\"}]},\"id\":\"3d94173c-33f4-4922-bac4-48195c4b4ea4\",\"type\":\"Toolbar\"},{\"attributes\":{\"bottom_units\":\"screen\",\"fill_alpha\":{\"value\":0.5},\"fill_color\":{\"value\":\"lightgrey\"},\"left_units\":\"screen\",\"level\":\"overlay\",\"line_alpha\":{\"value\":1.0},\"line_color\":{\"value\":\"black\"},\"line_dash\":[4,4],\"line_width\":{\"value\":2},\"plot\":null,\"render_mode\":\"css\",\"right_units\":\"screen\",\"top_units\":\"screen\"},\"id\":\"f0bdce7e-9fcb-4c5e-933a-a272010e2a60\",\"type\":\"BoxAnnotation\"},{\"attributes\":{},\"id\":\"e120917e-6d70-4fb4-9151-3adb791cd18d\",\"type\":\"LinearScale\"},{\"attributes\":{},\"id\":\"775db212-277e-4f2c-af07-22e624dd7c9e\",\"type\":\"PanTool\"},{\"attributes\":{\"fill_alpha\":{\"value\":0.1},\"fill_color\":{\"value\":\"#1f77b4\"},\"line_alpha\":{\"value\":0.1},\"line_color\":{\"value\":\"#1f77b4\"},\"size\":{\"units\":\"screen\",\"value\":10},\"x\":{\"field\":\"x\"},\"y\":{\"field\":\"y\"}},\"id\":\"fbc9c3e8-f1b2-4600-9aaf-69e2e18e044e\",\"type\":\"Circle\"},{\"attributes\":{\"plot\":null,\"text\":\"\"},\"id\":\"be2fd69a-2a5c-4535-af1f-15f31c1d3db2\",\"type\":\"Title\"},{\"attributes\":{\"callback\":null,\"data\":{\"color\":[\"blue\",\"blue\",\"blue\",\"blue\",\"blue\",\"blue\",\"blue\",\"blue\",\"blue\",\"blue\",\"blue\",\"blue\",\"blue\",\"blue\",\"blue\",\"blue\",\"blue\",\"blue\",\"blue\",\"blue\",\"blue\",\"blue\",\"blue\",\"blue\",\"blue\",\"blue\",\"blue\",\"blue\",\"blue\",\"blue\",\"blue\",\"red\",\"blue\",\"blue\",\"blue\",\"blue\",\"blue\",\"blue\",\"blue\",\"blue\",\"blue\",\"red\",\"blue\",\"blue\",\"red\",\"blue\",\"red\",\"blue\",\"blue\",\"blue\",\"blue\",\"blue\",\"blue\",\"blue\",\"blue\",\"blue\",\"blue\",\"blue\",\"blue\",\"blue\",\"blue\",\"blue\",\"blue\",\"blue\",\"blue\",\"blue\",\"blue\",\"blue\",\"blue\",\"blue\",\"blue\",\"red\",\"blue\",\"red\",\"blue\",\"blue\",\"blue\",\"blue\",\"blue\",\"red\",\"blue\",\"blue\",\"red\",\"blue\",\"blue\",\"blue\",\"blue\",\"blue\",\"blue\",\"blue\",\"red\",\"blue\",\"blue\",\"blue\",\"blue\",\"red\",\"blue\",\"blue\",\"blue\",\"red\",\"blue\",\"blue\",\"red\",\"blue\",\"blue\",\"blue\",\"blue\",\"blue\",\"blue\",\"blue\",\"blue\",\"blue\",\"blue\",\"blue\",\"blue\",\"blue\",\"blue\",\"blue\",\"blue\",\"blue\",\"blue\",\"blue\",\"blue\",\"blue\",\"blue\",\"blue\",\"blue\",\"blue\",\"blue\",\"blue\",\"blue\",\"blue\",\"blue\",\"blue\",\"blue\",\"red\",\"red\",\"blue\",\"blue\",\"blue\",\"blue\",\"blue\",\"blue\",\"red\",\"blue\",\"blue\",\"blue\",\"blue\",\"blue\",\"blue\",\"blue\",\"blue\",\"blue\",\"blue\",\"blue\",\"blue\",\"blue\",\"blue\",\"blue\",\"red\",\"blue\",\"red\",\"blue\",\"blue\",\"blue\",\"blue\",\"blue\",\"blue\",\"blue\",\"blue\",\"blue\",\"blue\",\"red\",\"blue\",\"blue\",\"blue\",\"red\",\"blue\",\"blue\",\"red\",\"blue\",\"blue\",\"blue\",\"blue\",\"blue\",\"blue\",\"blue\",\"blue\",\"blue\",\"blue\",\"blue\",\"blue\",\"blue\",\"blue\",\"blue\",\"blue\",\"blue\",\"blue\",\"blue\",\"blue\",\"blue\",\"blue\",\"blue\",\"blue\",\"blue\",\"blue\",\"blue\",\"blue\",\"blue\",\"blue\",\"blue\",\"blue\",\"blue\",\"blue\",\"blue\",\"blue\",\"blue\",\"blue\",\"blue\",\"blue\",\"blue\",\"blue\",\"blue\",\"blue\",\"red\",\"blue\",\"red\",\"blue\",\"blue\",\"blue\",\"blue\",\"blue\",\"blue\",\"blue\",\"blue\",\"blue\",\"blue\",\"blue\",\"blue\",\"blue\",\"blue\",\"red\",\"blue\",\"blue\",\"blue\",\"blue\",\"blue\",\"blue\",\"blue\",\"blue\",\"blue\",\"blue\",\"blue\",\"blue\",\"blue\",\"blue\",\"blue\",\"blue\",\"blue\",\"blue\",\"blue\",\"red\",\"blue\",\"blue\",\"blue\",\"blue\",\"blue\",\"blue\",\"blue\",\"blue\",\"blue\",\"blue\",\"blue\",\"blue\",\"blue\",\"blue\",\"blue\",\"blue\",\"blue\",\"red\",\"blue\",\"blue\",\"red\",\"blue\",\"blue\",\"blue\",\"red\",\"blue\",\"blue\",\"blue\",\"blue\",\"blue\",\"blue\",\"blue\",\"blue\",\"blue\",\"blue\",\"blue\",\"blue\",\"red\",\"blue\",\"blue\",\"blue\",\"blue\",\"blue\",\"blue\",\"blue\",\"blue\",\"blue\",\"blue\",\"blue\",\"blue\",\"blue\",\"blue\",\"blue\",\"blue\",\"blue\",\"blue\",\"blue\",\"blue\",\"blue\",\"blue\",\"blue\",\"blue\",\"blue\",\"blue\",\"red\",\"blue\",\"blue\",\"red\",\"blue\",\"blue\",\"red\",\"blue\",\"blue\",\"blue\",\"blue\",\"blue\",\"blue\",\"blue\",\"blue\",\"blue\",\"blue\",\"blue\",\"blue\",\"blue\",\"red\",\"blue\",\"blue\",\"blue\",\"blue\",\"blue\",\"blue\",\"blue\",\"blue\",\"blue\",\"blue\",\"blue\",\"blue\",\"blue\",\"blue\",\"red\",\"blue\",\"blue\",\"blue\",\"blue\",\"blue\",\"blue\",\"blue\",\"blue\",\"blue\",\"red\",\"blue\",\"blue\",\"blue\",\"blue\",\"blue\",\"blue\",\"blue\",\"blue\",\"blue\",\"red\",\"blue\",\"red\",\"blue\",\"red\",\"red\",\"blue\",\"blue\",\"blue\",\"blue\",\"blue\",\"blue\",\"blue\",\"blue\",\"red\",\"blue\",\"red\",\"blue\",\"blue\",\"blue\",\"red\",\"blue\",\"blue\",\"blue\",\"blue\",\"blue\",\"red\",\"blue\",\"blue\",\"blue\",\"blue\",\"blue\",\"blue\",\"blue\",\"blue\",\"blue\",\"blue\",\"blue\",\"blue\",\"blue\",\"blue\",\"blue\",\"blue\",\"blue\",\"blue\",\"red\",\"red\",\"blue\",\"blue\",\"blue\",\"blue\",\"blue\",\"blue\",\"blue\",\"blue\",\"blue\",\"blue\",\"blue\",\"blue\",\"blue\",\"blue\",\"blue\",\"blue\",\"red\",\"blue\",\"blue\",\"blue\",\"blue\",\"blue\",\"blue\",\"blue\",\"blue\",\"blue\",\"blue\",\"blue\",\"blue\",\"red\",\"blue\",\"blue\",\"blue\",\"blue\",\"red\",\"blue\",\"blue\",\"blue\",\"red\",\"red\",\"blue\",\"blue\",\"blue\",\"blue\",\"blue\",\"blue\",\"blue\",\"red\",\"blue\",\"blue\",\"blue\",\"blue\",\"blue\",\"blue\",\"blue\",\"blue\",\"blue\",\"blue\",\"blue\",\"blue\",\"blue\",\"blue\",\"blue\",\"blue\",\"blue\",\"blue\",\"red\",\"blue\",\"red\",\"blue\",\"blue\",\"red\",\"blue\",\"blue\",\"blue\",\"blue\",\"blue\",\"blue\",\"blue\",\"blue\",\"blue\",\"blue\",\"blue\",\"blue\",\"blue\",\"blue\",\"blue\",\"blue\",\"blue\",\"blue\",\"blue\",\"blue\",\"blue\",\"blue\",\"blue\",\"blue\",\"blue\",\"red\",\"red\",\"blue\",\"blue\",\"blue\",\"blue\",\"blue\",\"blue\",\"blue\",\"blue\",\"blue\",\"blue\",\"blue\",\"blue\",\"blue\",\"blue\",\"blue\",\"blue\",\"blue\",\"blue\",\"blue\",\"blue\",\"blue\",\"blue\",\"blue\",\"blue\",\"blue\",\"blue\",\"blue\",\"blue\",\"blue\",\"blue\",\"blue\",\"blue\",\"red\",\"blue\",\"blue\",\"blue\",\"blue\",\"blue\",\"blue\",\"blue\",\"blue\",\"blue\",\"blue\",\"blue\",\"blue\",\"blue\",\"blue\",\"blue\",\"blue\",\"blue\",\"blue\",\"blue\",\"blue\",\"blue\",\"blue\",\"blue\",\"blue\",\"blue\",\"blue\",\"blue\",\"blue\",\"blue\",\"blue\",\"blue\",\"blue\",\"red\",\"blue\",\"blue\",\"blue\",\"blue\",\"blue\",\"blue\",\"blue\",\"blue\",\"blue\",\"blue\",\"blue\",\"blue\",\"blue\",\"blue\",\"blue\",\"blue\",\"blue\",\"blue\",\"red\",\"blue\",\"blue\",\"blue\",\"blue\",\"blue\",\"red\",\"blue\",\"blue\",\"blue\",\"red\",\"blue\",\"red\",\"blue\",\"blue\",\"blue\",\"blue\",\"blue\",\"blue\",\"blue\",\"blue\",\"blue\",\"blue\",\"blue\",\"blue\",\"blue\",\"blue\",\"blue\",\"blue\",\"blue\",\"blue\",\"blue\",\"blue\",\"blue\",\"blue\",\"red\",\"blue\",\"blue\",\"blue\",\"blue\",\"blue\",\"blue\",\"blue\",\"blue\",\"blue\",\"red\",\"blue\",\"blue\",\"blue\",\"blue\",\"blue\",\"blue\",\"blue\",\"red\",\"blue\",\"blue\",\"blue\",\"blue\",\"blue\",\"blue\",\"blue\",\"blue\",\"blue\",\"blue\",\"blue\",\"blue\",\"blue\",\"blue\",\"blue\",\"blue\",\"blue\",\"blue\",\"blue\",\"blue\",\"blue\",\"blue\",\"blue\",\"blue\",\"blue\",\"blue\",\"blue\",\"blue\",\"blue\",\"red\",\"blue\",\"blue\",\"blue\",\"blue\",\"blue\",\"blue\",\"blue\",\"blue\",\"blue\",\"blue\",\"blue\",\"blue\",\"blue\",\"blue\",\"blue\",\"red\",\"blue\",\"blue\",\"blue\",\"blue\",\"blue\",\"blue\",\"blue\",\"blue\",\"blue\",\"red\",\"blue\",\"blue\",\"blue\",\"blue\",\"blue\",\"blue\",\"blue\",\"blue\",\"blue\",\"blue\",\"blue\",\"red\",\"blue\",\"blue\",\"blue\",\"red\",\"blue\",\"red\",\"blue\",\"blue\",\"blue\",\"blue\",\"blue\",\"red\",\"red\",\"blue\",\"blue\",\"red\",\"blue\",\"blue\",\"blue\",\"blue\",\"blue\",\"blue\",\"blue\",\"blue\",\"blue\",\"blue\",\"blue\",\"red\",\"blue\",\"blue\",\"blue\",\"blue\",\"blue\",\"blue\",\"blue\",\"blue\",\"blue\",\"blue\",\"blue\",\"blue\",\"blue\",\"blue\",\"blue\",\"blue\",\"blue\",\"blue\",\"red\",\"blue\",\"blue\",\"red\",\"blue\",\"blue\",\"blue\",\"red\",\"blue\",\"blue\",\"blue\",\"blue\",\"blue\",\"blue\",\"red\",\"blue\",\"blue\",\"blue\",\"blue\",\"blue\",\"blue\",\"blue\",\"blue\",\"blue\",\"blue\",\"blue\",\"blue\",\"blue\",\"blue\",\"blue\",\"blue\",\"red\",\"blue\",\"red\",\"blue\",\"blue\",\"blue\",\"blue\",\"blue\",\"blue\",\"blue\",\"blue\",\"blue\",\"blue\",\"blue\",\"blue\",\"blue\",\"blue\",\"blue\",\"red\",\"blue\",\"red\",\"blue\",\"blue\",\"red\",\"blue\",\"blue\",\"blue\",\"blue\",\"blue\",\"red\",\"blue\",\"blue\",\"blue\",\"blue\",\"blue\",\"blue\",\"blue\",\"blue\",\"blue\",\"blue\",\"blue\",\"blue\",\"blue\",\"blue\",\"blue\",\"blue\",\"blue\",\"blue\",\"blue\",\"blue\",\"blue\",\"blue\",\"blue\",\"blue\",\"blue\",\"blue\",\"blue\",\"blue\",\"blue\",\"blue\",\"blue\",\"blue\",\"blue\",\"blue\",\"blue\",\"blue\",\"blue\",\"red\",\"blue\",\"red\",\"blue\",\"blue\",\"blue\",\"red\",\"blue\",\"blue\",\"blue\",\"blue\",\"blue\",\"blue\",\"blue\",\"blue\",\"blue\",\"blue\",\"blue\",\"blue\",\"blue\",\"blue\",\"blue\",\"red\",\"red\",\"blue\",\"blue\",\"blue\",\"blue\",\"blue\",\"blue\",\"blue\",\"blue\",\"blue\",\"blue\",\"blue\",\"red\",\"blue\",\"blue\",\"blue\",\"blue\",\"red\",\"red\",\"blue\",\"blue\",\"blue\",\"blue\",\"blue\",\"blue\",\"blue\",\"blue\",\"red\",\"blue\",\"blue\",\"red\",\"blue\",\"blue\",\"blue\",\"red\",\"blue\",\"blue\",\"blue\",\"red\",\"blue\",\"blue\",\"red\",\"blue\",\"red\",\"red\",\"blue\",\"blue\",\"blue\",\"blue\",\"blue\",\"blue\",\"blue\",\"red\",\"blue\",\"blue\",\"blue\",\"blue\",\"blue\",\"blue\",\"blue\",\"blue\",\"blue\",\"blue\",\"blue\",\"red\",\"blue\",\"blue\",\"blue\",\"blue\",\"blue\",\"blue\",\"red\",\"red\",\"blue\",\"blue\",\"blue\",\"blue\",\"blue\",\"blue\",\"blue\",\"blue\",\"blue\",\"blue\",\"blue\",\"blue\",\"blue\",\"blue\",\"blue\",\"blue\",\"red\",\"blue\",\"red\",\"blue\",\"blue\",\"red\",\"blue\",\"red\",\"blue\",\"blue\",\"red\"],\"token\":[\"\\u0441\\u0442\\u0440\\u0443\\u043d\\u043a\\u0430\\u0445\",\"\\u0437\\u0430\\u043c\\u043e\\u0440\\u0430\\u0436\\u0438\\u0432\\u0430\\u043d\\u0438\\u044f\\u043c\\u0438\",\"\\u043f\\u043e\\u0434\\u043a\\u043b\\u044e\\u0447\\u0435\\u043d\\u0438\\u044f\\u0445\",\"\\u0443\\u0442\\u044f\\u0442\",\"\\u0441\\u0430\\u043c\\u043e\\u0434\\u0438\\u0430\\u0433\\u043d\\u043e\\u0437\\u0430\",\"\\u0420\\u0415\\u0421\\u0423\\u0420\\u0421\\u041e\\u041c\",\"\\u043e\\u0442\\u0431\\u0440\\u0430\\u0441\\u044b\\u0432\\u0430\\u043d\\u0438\\u0435\",\"\\u0432\\u044b\\u0434\\u0432\\u0438\\u0436\\u0435\\u043d\\u0446\\u0435\\u043c\",\"\\u0420\\u0430\\u0437\\u0434\\u0443\\u0432\\u0430\\u043d\\u0438\\u0435\",\"\\u041f\\u0420\\u0418\\u0427\\u0410\\u041b\",\"\\u041b\\u0418\\u0411\\u0415\\u0420\\u0410\\u041b\\u0418\\u0417\\u041c\",\"\\u0422\\u0415\\u0411\\u042f\",\"\\u041a\\u043e\\u0440\\u0440\\u0435\\u0441\\u043f\\u043e\\u043d\\u0434\\u0435\\u043d\\u0446\\u0438\\u044f\",\"\\u0412\\u044b\\u0431\\u044b\\u0442\\u0438\\u044f\",\"\\u0428\\u0430\\u043b\\u0432\\u044b\",\"\\u043f\\u0443\\u0441\\u0442\\u0443\\u043b\",\"\\u043c\\u0430\\u0433\\u043d\\u0435\\u0442\\u043e\",\"\\u043f\\u0440\\u0430\\u0433\\u043c\\u0430\\u0442\\u0438\\u043a\\u043e\\u043c\",\"\\u041a\\u0440\\u0435\\u0434\\u0438\\u0442\\u043e\\u0440\\u044b\",\"\\u0448\\u043a\\u0430\\u0444\\u043e\\u043c\",\"\\u0413\\u0438\\u0433\\u0430\\u043d\\u0442\\u043e\\u043c\",\"\\u044d\\u0433\\u043e\\u0438\\u0441\\u0442\\u044b\",\"\\u0420\\u0423\\u041a\\u041e\\u041f\\u041e\\u0416\\u0410\\u0422\\u0418\\u042f\",\"\\u0437\\u0430\\u0442\\u043e\\u043d\\u0443\",\"\\u043f\\u043b\\u0435\\u044f\\u0434\\u0435\",\"\\u0413\\u0435\\u043d\\u0440\\u0438\",\"\\u0443\\u0431\\u0435\\u0436\\u0434\\u0435\\u043d\\u0438\\u044f\\u043c\",\"\\u043b\\u0438\\u0434\\u0438\\u0439\\u0446\\u044b\",\"\\u0440\\u0438\\u0437\\u043e\\u0442\\u0442\\u043e\",\"\\u044d\\u043f\\u043e\\u0441\\u0443\",\"\\u0447\\u0443\\u0448\\u043a\\u043e\\u0439\",\"\\u0442\\u0440\\u0443\\u043f\",\"\\u043d\\u0435\\u0434\\u043e\\u0443\\u0437\\u0434\\u043a\\u0438\",\"\\u044d\\u043a\\u0441\\u043b\\u0438\\u0431\\u0440\\u0438\\u0441\\u0430\\u0445\",\"\\u0421\\u041e\\u0411\\u0410\\u0427\\u041a\\u0423\",\"\\u041b\\u0435\\u043d\\u043d\\u043e\\u043a\\u0441\\u0435\",\"\\u043f\\u0440\\u043e\\u0432\\u0438\\u043d\\u0446\\u0438\\u0430\\u043b\\u044b\",\"\\u0411\\u0430\\u0434\\u0435\\u043d-\\u0411\\u0430\\u0434\\u0435\\u043d\",\"\\u043f\\u043e\\u043b\\u043d\\u043e\\u043b\\u0443\\u043d\\u0438\\u0435\\u043c\",\"\\u0430\\u043b\\u043b\\u0435\\u0433\\u043e\\u0440\\u0438\\u044f\\u0445\",\"\\u0431\\u0435\\u0440\\u0435\\u043c\\u0435\\u043d\\u043d\\u043e\\u0441\\u0442\\u044f\\u043c\\u0438\",\"\\u0420\\u0430\\u0439\\u0442\\u0443\",\"\\u0432\\u043e\\u0436\\u0430\\u0442\\u043e\\u043c\\u0443\",\"\\u0441\\u0442\\u043e\\u043b\\u0431\\u0446\\u043e\\u0432\",\"\\u041d\\u041e\\u0411\\u0415\\u041b\\u042c\",\"\\u043b\\u0435\\u0442\\u043e\\u0441\\u0447\\u0438\\u0441\\u043b\\u0435\\u043d\\u0438\\u0435\\u043c\",\"\\u0412\\u0435\\u0440\\u0435\\u0439\\u0441\\u043a\\u043e\\u043c\",\"\\u043a\\u0438\\u043d\\u043e\\u0441\\u044a\\u0435\\u043c\\u043a\\u0438\",\"\\u041a\\u043e\\u043c\\u0438\\u0442\\u0435\\u0442\\u0435\",\"\\u043f\\u0430\\u0440\\u0430\\u0434\\u0438\\u0433\\u043c\\u0430\\u043c\\u0438\",\"\\u043c\\u0435\\u0440\\u0438\\u0434\\u0438\\u0430\\u043d\\u0435\",\"\\u0421\\u043a\\u0430\\u0437\\u043e\\u0447\\u043d\\u0438\\u043a\",\"\\u041e\\u0431\\u0440\\u0435\\u043c\\u0435\\u043d\\u0438\\u0442\\u0435\\u043b\\u044c\\u043d\\u043e\\u0441\\u0442\\u044c\",\"\\u041a\\u041e\\u041c\\u041c\\u0415\\u041d\\u0422\\u0410\\u0420\\u0418\\u042f\\u0425\",\"\\u0423\\u043c\\u044b\\u0441\\u0435\\u043b\",\"\\u0421\\u0423\\u0422\\u041e\\u0427\\u041d\\u042b\\u0425\",\"\\u0421\\u0438\\u043c\\u043b\\u0435\",\"\\u0443\\u0441\\u043e\\u043f\\u0448\\u0438\\u0435\",\"\\u0421\\u0443\\u0449\\u0435\\u0441\\u0442\\u0432\\u0438\\u0442\\u0435\\u043b\\u044c\\u043d\\u044b\\u0435\",\"\\u0432\\u043f\\u0440\\u044b\\u0441\\u043a\\u0438\\u0432\\u0430\\u043d\\u0438\\u0435\\u043c\",\"\\u0437\\u0430\\u0442\\u0443\\u0448\\u0435\\u0432\\u044b\\u0432\\u0430\\u043d\\u0438\\u044e\",\"\\u0420\\u0430\\u0441\\u0442\\u044f\\u043f\\u0430\",\"\\u043d\\u0430\\u0441\\u0442\\u043e\\u0439\\u0447\\u0438\\u0432\\u043e\\u0441\\u0442\\u0438\",\"\\u043f\\u043e\\u043c\\u0435\\u0441\\u044c\\u044e\",\"\\u0443\\u0442\\u0432\\u0435\\u0440\\u0436\\u0434\\u0435\\u043d\\u0438\\u044f\\u0445\",\"\\u041a\\u0430\\u0441\\u0438\\u043c\\u044b\",\"\\u0430\\u043d\\u0442\\u0438\\u0433\\u0435\\u043d\\u044b\",\"\\u0425\\u0430\\u0431\\u0431\\u0443\\u0448\",\"\\u043a\\u0430\\u043f\\u0442\\u0435\\u043d\\u0430\\u0440\\u043c\\u0443\\u0441\\u043e\\u043c\",\"\\u0414\\u0438\\u0441\\u0441\\u0435\\u0440\\u0442\\u0430\\u0446\\u0438\\u044e\",\"\\u043c\\u0443\\u043b\\u044c\\u0442\\u0438\\u043f\\u0440\\u043e\\u0446\\u0435\\u0441\\u0441\\u043e\\u0440\\u0430\\u0445\",\"\\u041e\\u041b\\u0415\\u0424\\u0418\\u0420\\u0415\",\"\\u0446\\u043e\\u043a\\u0430\\u043d\\u044c\\u0435\",\"\\u0425\\u041e\\u0420\\u042f\\u041a\\u0410\\u041c\",\"\\u0433\\u0430\\u043b\\u0430\\u043a\\u0442\\u0438\\u043a\\u0430\\u0445\",\"\\u041e\\u0431\\u0448\\u0438\\u0440\\u043d\\u043e\\u0441\\u0442\\u044c\",\"\\u043f\\u043e\\u0447\\u0451\\u0442\\u0430\",\"\\u043b\\u044f\\u0437\\u0433\\u0430\",\"\\u0441\\u0442\\u043e\\u043b\\u043f\\u0430\\u0445\",\"\\u0411\\u0430\\u0439\\u0442\\u0430\\u0448\\u043e\\u0432\",\"\\u0440\\u0435\\u0431\\u044f\\u0442\\u043d\\u044e\",\"\\u043f\\u043b\\u0435\\u0448\\u0438\\u043d\",\"\\u0411\\u0438\\u043b\\u0438\\u0446\\u043a\\u0438\\u0451\\u0432\",\"\\u0430\\u043d\\u0435\\u0432\\u0440\\u0438\\u0437\\u043c\\u0430\\u043c\\u0438\",\"\\u0433\\u0440\\u0430\\u043c\\u043c\\u043e\\u043c\",\"\\u0446\\u0435\\u043d\\u0437\\u0435\",\"\\u0436\\u0435\\u0440\\u0435\\u0431\\u0446\\u0430\\u043c\",\"\\u0431\\u043b\\u0443\\u0436\\u0434\\u0430\\u043d\\u0438\\u044e\",\"\\u0431\\u0430\\u0448\\u0438\\u0431\\u0443\\u0437\\u0443\\u043a\\u043e\\u0432\",\"\\u043f\\u0440\\u043e\\u0442\\u0435\\u043a\\u0430\\u043d\\u0438\\u044e\",\"\\u0421\\u0430\\u043b\\u0435\\u043d\\u043e\\u0432\\u043e\\u0439\",\"\\u043c\\u043e\\u0440\\u0430\\u0442\\u043e\\u0440\\u0438\\u044f\\u043c\\u0438\",\"\\u0432\\u044b\\u0440\\u0435\\u0437\\u0443\",\"\\u041a\\u0443\\u0437\\u044c\\u043c\\u0438\\u043d\\u0438\\u0447\\u043d\\u0430\",\"\\u0433\\u0435\\u043d\\u0435\\u0440\\u0430\\u043b\\u0438\\u0437\\u0430\\u0446\\u0438\\u044f\\u043c\\u0438\",\"\\u0414\\u0440\\u0430\\u043d\\u0435\\u0432\\u0438\\u0447\",\"\\u0421.\",\"\\u0432\\u0435\\u0440\\u0430\\u043d\\u0434\\u0430\\u043c\\u0438\",\"\\u0410\\u043d\\u0442\\u0438\\u0433\\u0443\\u0430\\u043d\\u0446\\u044b\",\"\\u041a\\u0438\\u0440\\u0434\\u044f\\u0448\\u043a\\u0438\\u043d\",\"\\u043f\\u0435\\u0440\\u0435\\u043a\\u043e\\u043c\\u043f\\u0438\\u043b\\u044f\\u0446\\u0438\\u0438\",\"\\u043c\\u0438\\u043d\\u0438\\u043c\\u0430\\u043b\\u044c\\u043d\\u043e\\u0441\\u0442\\u0438\",\"\\u0432\\u0438\\u0442\\u0430\\u043c\\u0438\\u043d\",\"\\u042d\\u0434\",\"\\u0438\\u043d\\u0441\\u043f\\u0435\\u043a\\u0442\\u043e\\u0440\\u043e\\u043c\",\"\\u044d\\u0442\\u0430\\u043d\\u043e\\u043b\\u0430\",\"\\u0441\\u043b\\u0438\\u0442\\u043a\\u043e\\u043c\",\"\\u0432\\u0438\\u043a\\u0442\\u043e\\u0440\\u0438\\u043d\\u043e\\u0439\",\"\\u042d\\u041d\\u0415\\u0420\\u0413\\u0418\\u0418\",\"\\u0430\\u0440\\u0438\\u044f\",\"\\u0443\\u0434\\u0438\\u043b\\u044c\\u0449\\u0438\\u043a\\u0430\",\"\\u043f\\u043e\\u0441\\u044b\\u043b\\u0430\\u043d\\u0438\\u0438\",\"\\u043f\\u043e\\u043a\\u0443\\u0448\\u0435\\u043d\\u0438\\u044f\\u043c\\u0438\",\"\\u043f\\u0438\\u043a\\u0442\\u043e\\u0433\\u0440\\u0430\\u043c\\u043c\\u0430\\u043c\",\"\\u0433\\u043d\\u0435\\u0437\\u0434\\u043e\\u0432\\u0430\\u043d\\u0438\\u0439\",\"\\u043f\\u043e\\u0441\\u043b\\u0430\\u043d\\u043d\\u0438\\u043a\\u043e\\u043c\",\"\\u0430\\u043d\\u0442\\u0438\\u0441\\u0442\\u0438\\u043c\\u0443\\u043b\\u0430\\u043c\",\"\\u041a\\u041e\\u041d\\u0421\\u0415\\u041d\\u0421\\u0423\\u0421\",\"\\u041c\\u0430\\u0433\\u043d\\u0435\\u0442\\u043e\",\"\\u042e\\u0420\\u042c\\u0415\\u0412\\u0418\\u0427\\u0410\",\"\\u0438\\u0441\\u043f\\u043e\\u043b\\u043d\\u0438\\u0442\\u0435\\u043b\\u0435\\u0439\",\"\\u043f\\u043e\\u0434\\u0436\\u0438\\u043b\\u043a\\u0430\\u0445\",\"\\u043c\\u0430\\u0440\\u0438\\u043d\\u0430\\u0434\\u044b\",\"\\u043e\\u0442\\u0437\\u0432\\u0443\\u043a\",\"\\u043a\\u043e\\u043e\\u0440\\u0434\\u0438\\u043d\\u0438\\u0440\\u043e\\u0432\\u0430\\u043d\\u0438\\u0435\\u043c\",\"\\u043d\\u0435\\u0434\\u043e\\u043f\\u043b\\u0430\\u0442\\u0443\",\"\\u043f\\u043e\\u0434\\u0430\\u0447\\u043a\\u0438\",\"\\u043f\\u043e\\u0445\\u0438\\u0442\\u0438\\u0442\\u0435\\u043b\\u044f\\u0445\",\"\\u0417\\u0430\\u0433\\u043e\\u043b\\u043e\\u0432\\u043a\\u0430\\u043c\",\"\\u0442\\u0435\\u0445\\u043d\\u043e\\u043b\\u043e\\u0433\\u0438\\u0439\",\"\\u0430\\u0432\\u0442\\u043e\\u043e\\u0442\\u0432\\u0435\\u0442\\u0447\\u0438\\u043a\\u0430\",\"\\u043a\\u0440\\u0435\\u0441\\u0442\\u0446\\u043e\\u043c\",\"\\u0428\\u0430\\u0431\\u0431\\u0430\\u0442\\u043e\\u043c\",\"\\u041c\\u0430\\u043b\\u043a\\u043e\\u043b\\u044c\\u043c\\u0430\",\"\\u043f\\u0435\\u0434\\u0430\\u043d\\u0442\\u0430\\u043c\",\"\\u0410\\u0414\\u0410\\u041c\\u0421\\u0410\",\"\\u041b\\u0443\\u0433\\u0430\\u043d\\u0441\\u043a\\u0438\\u0439\",\"\\u043b\\u044e\\u0431\\u043e\\u0437\\u043d\\u0430\\u0442\\u0435\\u043b\\u044c\\u043d\\u043e\\u0441\\u0442\\u044c\\u044e\",\"\\u0423\\u0437\\u0431\\u0435\\u043a\\u0438\\u0441\\u0442\\u0430\\u043d\\u043e\\u043c\",\"\\u043f\\u043e\\u0437\\u043d\\u0430\\u0432\\u0430\\u0435\\u043c\\u043e\\u0441\\u0442\\u044c\\u044e\",\"\\u041a\\u043b\\u0438\\u043d\",\"\\u0422\\u0443\\u0431\\u0435\\u0440\\u043a\\u0443\\u043b\\u0435\\u0437\\u043e\\u043c\",\"\\u041a\\u0420\\u0415\\u041f\\u041e\\u0421\\u0422\\u0418\",\"\\u0421\\u0435\\u0432\\u0435\\u0440\\u044f\\u043d\\u0438\\u043d\",\"\\u0437\\u0430\\u043d\\u0438\\u043c\\u0430\\u043d\\u0438\\u044f\",\"\\u041a\\u043e\\u043d\\u0441\\u0435\\u0440\\u0432\\u0430\\u0442\\u043e\\u0440\\u0438\\u044e\",\"\\u0438\\u0449\\u0435\\u0439\\u043a\\u0430\\u0445\",\"\\u041d\\u043e\\u0440\\u0434\\u043a\\u0430\\u043f\\u0430\",\"\\u041f\\u041e\\u0414\\u0413\\u0420\\u0410\\u0424\\u042b\",\"\\u043e\\u043d\\u0435\\u043c\\u0435\\u043b\\u043e\\u0441\\u0442\\u044c\",\"\\u043e\\u0431\\u0448\\u0438\\u0432\\u043a\\u0435\",\"\\u0432\\u043e\\u043b\\u043d\\u0435\\u043d\\u0438\\u044f\\u0445\",\"\\u041a\\u0421\\u0415\\u041d\\u0418\\u042f\",\"\\u043d\\u0443\\u043a\\u043b\\u0435\\u043e\\u0442\\u0438\\u0434\\u044b\",\"\\u0413\\u043e\\u0441\\u0443\\u0434\\u0430\\u0440\\u0441\\u0442\\u0432\\u0435\",\"\\u0416\\u0418\\u0412\\u041e\\u0422\\u041d\\u041e\\u0415\",\"\\u0432\\u0434\\u043e\\u0445\\u043d\\u043e\\u0432\\u0435\\u043d\\u043d\\u043e\\u0441\\u0442\\u044c\",\"\\u043a\\u0440\\u0435\\u0441\\u0442\\u043e\\u043d\\u043e\\u0441\\u0446\\u0430\\u043c\\u0438\",\"\\u0430\\u043d\\u043e\\u0434\\u043e\\u0432\",\"\\u041a\\u0440\\u0443\\u0441\\u0430\\u043d\\u043e\\u0432\\u0430\",\"\\u0443\\u0433\\u0430\\u0441\\u0430\\u043d\\u0438\\u0435\\u043c\",\"\\u0424\\u0430\\u043d\\u043a\",\"\\u0424\\u0440\\u0435\\u0434\\u0435\",\"\\u043a\\u043e\\u0440\\u043c\\u0438\\u043b\\u0438\\u0446\",\"\\u041f\\u0440\\u0438\\u0435\\u043c\\u043b\\u0435\\u043c\\u043e\\u0441\\u0442\\u044c\",\"\\u043a\\u043e\\u043c\\u0431\\u0438\\u043d\\u0430\\u0442\\u0435\",\"\\u041d\\u0430\\u0432\\u0435\\u0440\\u0441\\u0442\\u044b\\u0432\\u0430\\u043d\\u0438\\u0435\",\"\\u0433\\u0430\\u0434\\u0430\\u043b\\u043a\\u0438\",\"\\u041a\\u043d\\u0435\\u0441\\u0441\\u0435\\u0442\\u0430\",\"\\u043c\\u0438\\u043a\\u043e\\u0431\\u0430\\u043a\\u0442\\u0435\\u0440\\u0438\\u044f\",\"\\u0424\\u0430\\u043a\\u0438\\u0440\\u044b\",\"\\u0431\\u0430\\u0440\\u0449\\u0438\\u043d\\u0435\",\"\\u041c\\u0438\\u043a\\u043e\\u0432\\u0430\",\"\\u0441\\u0438\\u0433\\u0430\\u0440\\u0435\\u0442\\u0430\\u0445\",\"\\u0423\\u043a\\u0440\\u0430\\u0448\\u0435\\u043d\\u0438\\u0439\",\"\\u0410\\u043f\\u043f\\u0435\\u0442\\u0438\\u0442\",\"\\u0431\\u043b\\u044d\\u0439\\u0434\",\"\\u043e\\u0442\\u0436\\u0438\\u043c\\u043e\\u043c\",\"\\u0442\\u0435\\u0441\\u0442\\u0438\\u0440\\u043e\\u0432\\u0449\\u0438\\u043a\\u0438\",\"\\u0434\\u043e\\u0431\\u0440\\u043e\\u0432\\u043e\\u043b\\u044c\\u0446\\u044b\",\"\\u0412\\u0430\\u0440\\u0444\\u043e\\u043b\\u043e\\u043c\\u0435\\u044e\",\"\\u0422\\u0430\\u043c\\u043e\\u0436\\u0435\\u043d\\u043d\\u0438\\u043a\\u0430\",\"\\u0411\\u0438\\u043b\\u0435\\u0442\\u044b\",\"\\u0434\\u0430\\u0433\\u0435\\u0441\\u0442\\u0430\\u043d\\u0446\\u044b\",\"\\u0410\\u041b\\u0425\\u0418\\u041c\\u0418\\u0418\",\"\\u0421\\u0442\\u0435\\u043f\\u0430\\u043d\\u043e\\u0432\\u0438\\u0447\",\"\\u0445\\u0435\\u0448\",\"\\u0421\\u043e\\u0441\\u0442\\u044f\\u0437\\u0430\\u043d\\u0438\\u044f\",\"\\u0446\\u0435\\u0441\\u0430\\u0440\\u0435\\u0432\\u0438\\u0447\\u0430\",\"\\u043f\\u0440\\u043e\\u0441\\u0435\\u0434\\u0430\\u043d\\u0438\\u0438\",\"\\u041f\\u0440\\u0430\\u0437\\u0434\\u043d\\u043e\\u0441\\u0442\\u044c\",\"\\u041c\\u0430\\u0434\\u043e\\u043d\\u043d\\u0443\",\"\\u0437\\u0430\\u043c\\u043e\\u0440\\u043e\\u0437\\u043e\\u043a\",\"\\u043f\\u0440\\u0438\\u0437\\u043d\\u0430\\u043a\",\"\\u043a\\u0430\\u0440\\u0442\\u0435\\u0436\\u043d\\u0438\\u043a\\u0430\",\"\\u0440\\u0430\\u0437\\u043c\\u0438\\u043d\\u0438\\u0440\\u043e\\u0432\\u0430\\u043d\\u0438\\u044f\",\"\\u041d\\u0430\\u0441\\u0442\\u043e\\u044f\\u0442\\u0435\\u043b\\u0438\",\"\\u041f\\u041e\\u041b\\u0415\\u0422\\u0410\\u041c\",\"\\u041c\\u043e\\u043b\\u0447\\u0430\\u043d\\u0438\\u044f\",\"\\u0432\\u043e\\u043b\\u044c\\u043d\\u043e\\u043e\\u043f\\u0440\\u0435\\u0434\\u0435\\u043b\\u044f\\u044e\\u0449\\u0438\\u0445\\u0441\\u044f\",\"\\u043d\\u0435\\u0439\\u0440\\u043e\\u0441\\u0435\\u0442\\u0438\",\"\\u0442\\u0440\\u044f\\u043f\\u043e\\u0447\\u043a\\u0438\",\"\\u0434\\u0438\\u0430\\u043c\\u0435\\u0442\\u0440\\u043e\\u0432\",\"\\u0440\\u0435\\u0441\\u043f\\u043e\\u043d\\u0434\\u0435\\u043d\\u0442\\u0430\\u0445\",\"\\u043c\\u0435\\u0442\\u0435\\u043e\\u0443\\u0441\\u043b\\u043e\\u0432\\u0438\\u044f\\u043c\",\"\\u043b\\u0438\\u0442\\u0435\\u0440\\u0430\\u0442\\u043e\\u0440\\u0441\\u0442\\u0432\\u043e\",\"\\u0438\\u0441\\u043a\\u0430\\u0436\\u0435\\u043d\\u0438\\u0435\\u043c\",\"\\u043b\\u044e\\u043c\\u0438\\u043d\\u043e\\u0444\\u043e\\u0440\\u0430\",\"\\u043f\\u0435\\u0440\\u0435\\u0440\\u043e\\u0436\\u0434\\u0435\\u043d\\u0438\\u0435\\u043c\",\"\\u043c\\u043e\\u043d\\u043e\\u0433\\u0430\\u043c\\u0438\\u044f\",\"\\u0431\\u0440\\u043e\\u0434\\u044f\\u0433\\u0435\",\"\\u0426\\u0430\\u0440\\u0438\\u0437\\u043c\",\"\\u041a\\u043e\\u043b\\u0434\\u0443\\u043d\\u044c\\u044f\",\"\\u043e\\u0431\\u043b\\u043e\\u0436\\u043a\\u0435\",\"\\u041f\\u0420\\u041e\\u0424\\u0418\\u041b\\u0418\\u0420\\u041e\\u0412\\u0410\\u041d\\u0418\\u0415\",\"\\u041d\\u0438\\u043a\\u043e\\u043b\\u0430\\u0435\\u0432\\u043d\\u0443\",\"\\u0416\\u041a-\\u0434\\u0438\\u0441\\u043f\\u043b\\u0435\\u044e\",\"\\u043a\\u0430\\u0442\\u043e\\u043b\\u0438\\u0446\\u0438\\u0437\\u043c\\u0435\",\"\\u0444\\u043b\\u0435\\u0433\\u043c\\u043e\\u043d\\u0443\",\"\\u043d\\u0430\\u0440\\u0446\\u0438\\u0441\\u0441\\u0438\\u0437\\u043c\\u0443\",\"\\u0446\\u0438\\u0441\\u0442\\u044b\",\"\\u041a\\u0410\\u0417\\u041d\\u0410\\u0427\\u0415\\u0419\\u0421\\u0422\\u0412\\u0410\",\"\\u041d\\u0435\\u0443\\u0434\\u043e\\u0431\\u0441\\u0442\\u0432\\u0430\",\"\\u0441\\u0438\\u043c\\u043f\\u043e\\u0437\\u0438\\u0443\\u043c\\u0430\\u0445\",\"\\u0428\\u0430\\u0440\\u0430\\u0431\\u0430\\u0440\",\"\\u0442\\u044f\\u0436\\u0435\\u043b\\u043e\\u0440\\u0430\\u043d\\u0435\\u043d\\u044b\\u0445\",\"\\u0421\\u043f\\u0440\\u0438\\u043d\\u0433\\u0435\\u0440\\u0430\",\"\\u0434\\u0435\\u0440\\u0436\\u0430\\u0432\\u043a\\u0430\\u0445\",\"\\u041d\\u0435\\u0437\\u0430\\u043c\\u0435\\u043d\\u0438\\u043c\\u043e\\u0441\\u0442\\u044c\",\"\\u0418\\u043d\\u0442\\u0435\\u0440\\u043c\\u0435\\u0434\\u0438\\u0430\\u0442\",\"\\u0414\\u0435\\u043b\\u0430\\u043c\\u0438\",\"\\u043e\\u043a\\u0440\\u0443\\u0436\\u043d\\u043e\\u0441\\u0442\\u0438\",\"\\u0442\\u043e\\u0440\\u0435\\u0430\\u0434\\u043e\\u0440\\u0430\\u043c\",\"\\u0440\\u0430\\u0437\\u0440\\u0430\\u0441\\u0442\\u0430\\u043d\\u0438\\u044f\",\"\\u0422\\u0435\\u043d\\u0437\\u043e\\u0440\",\"\\u0430\\u0440\\u0435\\u043e\\u043c\\u0435\\u0442\\u0440\\u043e\\u043c\",\"\\u041a\\u043e\\u043c\\u0438\\u0441\\u0441\\u0438\\u043e\\u043d\\u043d\\u044b\\u0435\",\"\\u044d\\u043a\\u0441\\u0442\\u0440\\u0430\\u043d\\u0435\\u0442\\u044b\",\"\\u043c\\u0430\\u0442\\u0447\",\"\\u041f\\u0418\\u041a\\u0422\\u041e\\u0413\\u0420\\u0410\\u041c\\u041c\\u042b\",\"\\u0425\\u0430\\u0440\\u0442\\u0444\\u043e\\u0440\\u0434\\u0435\",\"\\u0422\\u0420\\u0423\\u0428\\u0418\\u041a\\u0423\",\"\\u0440\\u0430\\u0432\\u043d\\u043e\\u0434\\u0435\\u043d\\u0441\\u0442\\u0432\\u0438\\u044f\\u043c\\u0438\",\"\\u0414\\u0436\\u043e\\u043d\\u0430\\u0442\\u0430\\u043d\",\"\\u043b\\u0435\\u043a\\u0446\\u0438\\u044f\",\"\\u0414\\u043e\\u0445\\u043b\\u044f\\u043a\\u0443\",\"\\u043f\\u043e\\u0441\\u0443\\u043b\\u0430\\u043c\\u0438\",\"\\u0430\\u043b\\u043b\\u0435\\u0439\\u043a\\u0435\",\"\\u043f\\u0435\\u0440\\u0435\\u0446\",\"\\u043f\\u043e\\u0440\\u0442\\u0444\\u0435\\u043b\\u0435\\u0439\",\"\\u0437\\u0432\\u043e\\u043d\\u044b\",\"\\u043c\\u043d\\u043e\\u0433\\u043e\\u043d\\u043e\\u0436\\u043a\\u0435\",\"\\u0434\\u0440\\u043e\\u0431\\u0438\\u043d\\u043a\\u0438\",\"\\u0414\\u0435\\u0442\\u0435\\u043a\\u0442\\u0438\\u0432\\u0430\",\"\\u0431\\u043b\\u0435\\u044f\\u043d\\u0438\\u0435\",\"\\u043d\\u0435\\u0443\\u0432\\u0430\\u0436\\u0435\\u043d\\u0438\\u0435\",\"\\u0414\\u0418\\u0421\\u041a\\u0410\",\"\\u0410\\u043c\\u0431\\u0438\\u0446\\u0438\\u0439\",\"\\u041f\\u043e\\u0442\\u0441\\u0434\\u0430\\u043c\\u043e\\u043c\",\"\\u042d\\u043b\\u0435\\u043a\\u0442\\u0440\\u0438\\u0447\\u043a\\u0438\",\"\\u043e\\u0442\\u043d\\u0435\\u0441\\u0435\\u043d\\u0438\\u044e\",\"\\u0424\\u041b\\u0415\\u0419\\u0428\\u0413\\u0410\\u0423\\u042d\\u0420\",\"\\u041f\\u0440\\u043e\\u0442\\u0438\\u0432\\u043e\\u043f\\u043e\\u043a\\u0430\\u0437\\u0430\\u043d\\u0438\\u044f\",\"\\u043d\\u043e\\u043a\\u0442\\u044e\\u0440\\u043d\\u0430\",\"\\u0441\\u0443\\u0431\\u0430\\u0433\\u0435\\u043d\\u0442\\u0430\",\"\\u0418\\u041d\\u0424\\u0420\\u0410\\u0421\\u0422\\u0420\\u0423\\u041a\\u0422\\u0423\\u0420\",\"\\u043d\\u043e\\u0440\\u043c\\u0438\\u0440\\u043e\\u0432\\u0449\\u0438\\u043a\\u043e\\u043c\",\"\\u043c\\u0430\\u043d\\u0442\\u0438\\u043b\\u044c\\u044f\",\"\\u0415\\u0433\\u043e\\u0440\\u043e\\u0432\\u0438\\u0447\",\"\\u0411\\u0435\\u043b\\u043e\\u0441\\u043d\\u0435\\u0436\\u043a\\u0430\",\"\\u041e\\u0431\\u0432\\u0438\\u043d\\u0438\\u0442\\u0435\\u043b\\u044c\\u043d\\u0438\\u0446\\u0430\",\"\\u0415\\u0432\\u0434\\u043e\\u043a\\u0438\\u044f\",\"\\u0441\\u0430\\u0435\\u043a\",\"\\u043f\\u043e\\u0441\\u043e\\u0431\\u043d\\u0438\\u043a\\u0430\\u043c\\u0438\",\"\\u0433\\u0438\\u043f\\u0435\\u0440\\u043c\\u0430\\u0440\\u043a\\u0435\\u0442\\u0430\",\"\\u0434\\u0435\\u0437\\u0430\\u043a\\u0442\\u0438\\u0432\\u0430\\u0446\\u0438\\u0438\",\"\\u044d\\u0440\\u0437\\u0438\",\"\\u041f\\u0440\\u043e\\u0442\\u0435\\u043a\\u0442\\u043e\\u0440\\u0430\\u0442\\u0435\",\"\\u0443\\u043d\\u0438\\u0442\\u0430\\u0440\\u043d\\u043e\\u0441\\u0442\\u044c\",\"\\u041a\\u041b\\u0415\\u041c\\u0410\\u041d\",\"\\u0420\\u0435\\u043d\\u0435\\u0441\\u0441\\u0430\\u043d\\u0441\\u0443\",\"\\u043e\\u0431\\u043e\\u0436\\u0430\\u043d\\u0438\\u044f\",\"\\u041a\\u043e\\u0433\\u0430\\u043d\\u0430\",\"\\u0432\\u043e\\u0437\\u043d\\u0435\\u0441\\u0435\\u043d\\u0438\\u0435\\u043c\",\"\\u0434\\u0443\\u043d\\u043e\\u0432\\u0435\\u043d\\u0438\\u044e\",\"\\u041f\\u0440\\u043e\\u0442\\u0438\\u0432\\u043e\\u0440\\u0435\\u0447\\u0438\\u0432\\u043e\\u0441\\u0442\\u044c\",\"\\u041a\\u0430\\u043c\\u0438\\u043b\\u0436\\u0430\\u043d\",\"\\u0441\\u043e\\u0440\\u043e\\u043a\\u043e\\u043d\\u043e\\u0436\\u043a\\u0438\",\"\\u043d\\u043e\\u0441\\u0442\\u0430\\u043b\\u044c\\u0433\\u0438\\u0438\",\"\\u0413\\u0430\\u043d\\u043d\\u0438\\u0431\\u0430\\u043b\\u0443\",\"\\u043f\\u043e\\u0441\\u0435\\u043b\\u043a\\u043e\\u0432\",\"\\u041d\\u0435\\u043a\\u0440\\u043e\\u0444\\u0438\\u043b\\u0438\\u0438\",\"\\u0432\\u044f\\u0445\\u0438\\u0440\\u0435\",\"\\u041d\\u043e\\u0432\\u043e\\u043b\\u0443\\u043d\\u0438\\u0435\",\"\\u043d\\u0435\\u0434\\u0440\\u043e\\u043f\\u043e\\u043b\\u044c\\u0437\\u043e\\u0432\\u0430\\u043d\\u0438\\u0435\\u043c\",\"\\u043f\\u0430\\u043f\\u044c\\u0435-\\u043c\\u0430\\u0448\\u0435\",\"\\u043d\\u0430\\u0436\\u0438\\u0432\\u044b\",\"\\u0427\\u0435\\u0441\\u0430\\u043f\\u0438\\u043a\\u0430\",\"\\u0420\\u043e\\u0441\\u0441\\u044b\\u043f\\u044c\",\"\\u0425\\u0410\\u0419\\u0420\\u0422\\u0414\\u0418\\u041d\\u041e\\u0412\",\"\\u043a\\u0430\\u0440\\u0430\\u043a\\u0443\\u043b\\u0435\\u0439\",\"\\u0414\\u0418\\u0410\\u041b\\u041e\\u0413\\u041e\\u0412\",\"\\u0430\\u043d\\u0435\\u043c\\u0438\\u044f\\u043c\\u0438\",\"\\u041b\\u044c\\u0432\\u0438\\u0446\\u0435\",\"\\u041d\\u0415\\u0423\\u0414\\u0410\\u0427\\u041d\\u0418\\u041a\",\"\\u043e\\u0431\\u0440\\u0430\\u0431\\u043e\\u0442\\u043a\\u0430\\u043c\",\"\\u043f\\u0440\\u043e\\u0432\\u0435\\u0440\\u043a\\u0435\",\"\\u041c\\u0443\\u043d\\u0438\\u0440\\u0443\",\"\\u041f\\u043b\\u044e\\u0449\",\"\\u0447\\u0435\\u0440\\u043d\\u043e\\u0432\\u0438\\u043a\\u0430\\u043c\",\"\\u0420\\u0430\\u0439\\u043e\\u043d\\u0438\\u0440\\u043e\\u0432\\u0430\\u043d\\u0438\\u0435\",\"\\u043a\\u043e\\u043d\\u0446\\u0435\\u0441\\u0441\\u0438\\u0438\",\"\\u0424\\u0438\\u043d\\u0433\\u0430\\u043b\",\"\\u0420\\u043e\\u0436\\u0434\\u0435\\u043d\\u0438\\u0435\",\"\\u0412\\u043e\\u0437\\u0432\\u0440\\u0430\\u0442\\u044b\",\"\\u041f\\u041e\\u041b\\u0418\\u042d\\u0422\\u0418\\u041b\\u0415\\u041d\\u0410\",\"\\u041e\\u043d\\u0430\",\"\\u043f\\u043e\\u043a\\u0440\\u044b\\u0432\\u0430\\u043b\\u043e\\u043c\",\"\\u0425\\u0430\\u043a\\u0438\\u043d\\u0433\",\"\\u0438\\u0441\\u043f\\u043e\\u043b\\u043d\\u0438\\u0442\\u0435\\u043b\\u044c\\u043d\\u0438\\u0446\\u0430\",\"\\u0411\\u0440\\u043e\\u043a\\u0435\\u043d\\u043e\\u043c\",\"\\u041b\\u0435\\u0442\\u0438\\u0446\\u0438\\u0438\",\"\\u041f\\u0438\\u0441\\u0430\\u0442\\u0435\\u043b\\u044f\\u043c\",\"\\u043a\\u043e\\u043d\\u0441\\u044c\\u0435\\u0440\\u0436\\u043a\\u043e\\u0439\",\"\\u043f\\u0440\\u043e\\u0449\\u0435\\u043d\\u0438\\u044f\",\"\\u041f\\u0430\\u0443\\u0437\\u0443\",\"\\u0413\\u0440\\u0430\\u0439\\u043c\\u0441\\u043e\\u043c\",\"\\u043b\\u0438\\u043a\\u0451\\u0440\\u043e\\u043c\",\"\\u042f\\u0420\\u041c\\u0410\\u0420\\u041a\\u0418\",\"\\u0420\\u043e\\u0443\\u043a\\u0430\",\"\\u042f\\u0441\\u0441\",\"\\u0413\\u0435\\u0440\\u043a\\u0443\\u043b\\u0435\\u0441\\u0443\",\"\\u041c\\u0430\\u0442\\u0435\\u043d\\u0447\\u0443\\u043a\",\"\\u0441\\u043b\\u043e\\u0432\\u0435\\u043d\\u0446\\u0443\",\"\\u0447\\u0435\\u043b\\u043e\\u0432\\u0435\\u0447\\u043a\\u043e\\u0432\",\"\\u043c\\u0443\\u0437\\u044b\\u043a\\u043e\\u0432\\u0435\\u0434\",\"\\u043c\\u0435\\u043d\\u0435\",\"\\u0430\\u043a\\u043a\\u043b\\u0438\\u043c\\u0430\\u0442\\u0438\\u0437\\u0430\\u0446\\u0438\\u044e\",\"\\u043b\\u043e\\u0445\\u043c\\u043e\\u0442\\u044c\\u044f\\u043c\\u0438\",\"\\u0431\\u0443\\u0442\\u0441\\u0430\\u043c\\u0438\",\"\\u043d\\u0435\\u0444\\u0442\\u0435\\u0434\\u043e\\u0431\\u044b\\u0447\\u0435\",\"\\u0440\\u0430\\u0441\\u0442\\u0435\\u043d\\u0438\\u0439\",\"\\u041c\\u0430\\u0440\\u0438\\u0430\\u043d\\u0430\",\"\\u041b\\u0435\\u0433\\u0438\\u0442\\u0438\\u043c\\u0438\\u0437\\u0430\\u0446\\u0438\\u044f\",\"\\u0447\\u0435\\u0440\\u0442\\u0435\\u0436\\u0435\",\"\\u041d\\u0443\\u0431\\u0438\\u044f\",\"\\u0417\\u0415\\u041b\\u0415\\u041f\\u0423\\u0413\\u0418\\u041d\",\"\\u0441\\u043b\\u0443\\u0433\\u0430\",\"\\u0422\\u0435\\u043c\\u0443\\u0440\",\"\\u043f\\u0440\\u043e\\u0442\\u0435\\u0441\\u0442\\u0430\\u043d\\u0442\\u0438\\u0437\\u043c\\u043e\\u043c\",\"\\u043f\\u0440\\u0438\\u0441\\u0442\\u0440\\u0430\\u0441\\u0442\\u0438\\u0435\\u043c\",\"\\u0436\\u0438\\u0432\\u043e\\u0441\\u0442\\u0438\",\"\\u0442\\u0435\\u043a\\u0438\",\"\\u0441\\u043e\\u0432\\u043b\\u0430\\u0434\\u0435\\u043b\\u0438\\u0446\\u0435\\u0439\",\"\\u043f\\u0435\\u0440\\u0435\\u0431\\u0440\\u0430\\u043d\\u043a\\u0430\\u043c\\u0438\",\"\\u0412\\u043b\\u0430\\u0434\\u0435\\u043d\\u0438\\u0435\",\"\\u043f\\u0435\\u043b\\u0435\\u043d\\u043e\\u0439\",\"\\u0444\\u0443\\u0440\\u044c\\u0435\\u0440\\u0438\\u0437\\u043c\",\"\\u043d\\u0435\\u0443\\u0434\\u043e\\u0432\\u043e\\u043b\\u044c\\u0441\\u0442\\u0432\\u0438\\u044f\",\"\\u0432\\u0441\\u0442\\u0440\\u044f\\u0445\\u0438\\u0432\\u0430\\u043d\\u0438\\u0438\",\"\\u0421\\u043e\\u0432\\u0435\\u0449\\u0430\\u043d\\u0438\\u044f\\u043c\",\"\\u041b\\u0435\\u0439\\u043d\\u043e\\u043c\",\"\\u0441\\u043a\\u0440\\u0438\\u043f\\u0435\\u043d\\u0438\\u0435\",\"\\u0431\\u043e\\u0431\\u0430\",\"\\u041f\\u0440\\u0435\\u0435\\u043c\\u043d\\u0438\\u043a\\u0430\\u043c\\u0438\",\"\\u0418\\u0441\\u043a\\u0443\\u0448\\u0435\\u043d\\u0438\\u0435\",\"\\u0430\\u0444\\u0440\\u0438\\u043a\\u0430\\u043d\\u0435\\u0440\\u044b\",\"\\u0442\\u043e\\u043d\\u044f\",\"\\u043f\\u0440\\u0438\\u043b\\u0438\\u0447\\u0438\\u044f\\u043c\\u0438\",\"\\u0441\\u043e\\u043b\\u043e\\u043d\\u043a\\u0430\",\"\\u0441\\u043e\\u0440\\u0435\\u0432\\u043d\\u043e\\u0432\\u0430\\u043d\\u0438\\u044f\\u0445\",\"\\u0421\\u043f\\u0435\\u0448\\u043a\\u043e\\u0432\",\"\\u043f\\u0440\\u043e\\u043a\\u0443\\u0440\\u0430\\u0442\\u043e\\u0440\\u044b\",\"\\u043d\\u0435\\u0433\\u0440\\u0430\\u043c\\u043e\\u0442\\u043d\\u043e\\u0441\\u0442\\u044c\",\"\\u0430\\u043c\\u0431\\u0440\\u0430\\u0437\\u0443\\u0440\\u0430\",\"\\u043f\\u043e\\u043b\\u0438\\u044d\\u0434\\u0440\\u0435\",\"\\u041f\\u044f\\u0442\\u0438\\u0434\\u0435\\u0441\\u044f\\u0442\\u043d\\u0438\\u0446\\u0430\",\"\\u043c\\u0430\\u0448\\u0438\\u043d\\u043e\\u0441\\u0442\\u0440\\u043e\\u0435\\u043d\\u0438\\u0435\\u043c\",\"\\u0441\\u043b\\u0438\\u0437\\u043d\\u044f\\u043a\\u043e\\u043c\",\"\\u043a\\u0440\\u043e\\u0432\\u043b\\u0438\",\"\\u043b\\u0430\\u043a\\u0442\\u043e\\u0437\\u0443\",\"\\u041a\\u0440\\u0443\\u0433\\u043e\\u0432\\u043e\\u0439\",\"\\u0411\\u0435\\u0441\\u043a\\u043e\\u0440\\u043c\\u0438\\u0446\\u0430\",\"\\u041f\\u0430\\u0442\\u0442\\u0430\\u0435\\u0432\",\"\\u0448\\u0438\\u0442\\u044c\\u0451\",\"\\u041a\\u0430\\u0437\\u0430\\u0440\\u044f\\u043d\\u043e\\u0432\",\"\\u0412\\u0435\\u043d\\u0446\\u0435\\u043b\\u044e\",\"\\u043d\\u0435\\u043e\\u0431\\u0445\\u043e\\u0434\\u0438\\u043c\\u043e\\u0441\\u0442\\u044f\\u043c\",\"\\u0417\\u0414\\u0420\\u0410\\u0412\\u041e\\u041e\\u0425\\u0420\\u0410\\u041d\\u0415\\u041d\\u0418\\u0415\",\"\\u0440\\u0430\\u0437\\u0432\\u0438\\u0442\\u0438\\u0438\",\"\\u0437\\u0432\\u0435\\u0437\\u0434\\u043e\\u043b\\u0435\\u0442\\u0430\\u0445\",\"\\u0442\\u044e\\u0440\\u044c\\u043c\\u043e\",\"\\u0423\\u044d\\u043a\\u0441\\u0444\\u043e\\u0440\\u0434\\u043e\\u043c\",\"\\u043d\\u043e\\u0432\\u043e\\u0431\\u0440\\u0430\\u0447\\u043d\\u044b\\u0439\",\"\\u041f\\u043e\\u0441\\u043b\\u0430\\u043d\\u0446\\u0435\\u043c\",\"\\u042f\\u0440\\u0437\\u0443\\u0442\\u043a\\u0438\\u043d\\u0443\",\"\\u041e\\u0442\\u0432\\u0435\\u0442\\u0432\\u043b\\u0435\\u043d\\u0438\\u0439\",\"\\u0428\\u0435\\u0432\\u0446\\u043e\\u0432\\u0430\",\"\\u043d\\u0435\\u043a\\u0430\\u0437\\u0438\\u0441\\u0442\\u043e\\u0441\\u0442\\u044c\",\"\\u0444\\u043e\\u0442\\u043e\\u0442\\u0435\\u043a\\u043e\\u0439\",\"\\u043f\\u043e\\u0434\\u0432\\u0430\\u043b\",\"\\u041e\\u043a\\u0441\\u0430\\u043a\",\"\\u0430\\u043a\\u0432\\u0435\\u0434\\u0443\\u043a\\u043e\\u043c\",\"\\u043f\\u043e\\u0434\\u043f\\u0438\\u0441\\u0430\\u0432\\u0448\\u0438\\u0435\",\"\\u0422\\u0440\\u0438\\u043a\\u043e\\u0442\\u0430\\u0436\",\"\\u043d\\u0435\\u0434\\u043e\\u0438\\u043d\\u0432\\u0435\\u0441\\u0442\\u0438\\u0440\\u043e\\u0432\\u0430\\u043d\\u0438\\u0435\",\"\\u0410\\u0440\\u043a\\u0430\\u043d\\u0437\\u0430\\u0441\\u0435\",\"\\u0424\\u043e\\u0440\\u0435\\u0441\\u0442\\u0430\",\"\\u043f\\u043b\\u0430\\u043d\\u0438\\u0440\\u043e\\u0432\\u0430\\u043d\\u0438\\u044f\\u043c\",\"\\u0421\\u0443\\u0431\\u043f\\u0440\\u043e\\u0434\\u0443\\u043a\\u0442\\u0430\\u043c\\u0438\",\"\\u0440\\u0443\\u0431\\u0438\\u043b\\u044c\\u043d\\u0438\\u043a\\u0438\",\"\\u0438\\u043d\\u0441\\u0442\\u0430\\u043b\\u043b\\u044f\\u0446\\u0438\\u0435\\u0439\",\"\\u041d\\u0430\\u0446\\u043f\\u0440\\u043e\\u0435\\u043a\\u0442\\u0430\",\"\\u043f\\u0435\\u0447\\u0435\\u043d\\u043a\\u0438\",\"\\u043f\\u0430\\u043f\\u0443\\u0430\\u0441\",\"\\u0432\\u044b\\u0447\\u0438\\u0442\\u0430\\u043d\\u0438\\u044f\\u043c\",\"\\u043a\\u043e\\u043c\\u0435\\u0434\\u0438\\u0430\\u043d\\u0442\\u0430\\u0445\",\"\\u0437\\u0430\\u043c\\u0435\\u0434\\u043b\\u0435\\u043d\\u0438\\u0438\",\"\\u0434\\u0435\\u043f\\u0435\\u0448\\u0430\\u043c\",\"\\u043e\\u0442\\u0440\\u043e\\u0433\\u0430\\u043c\",\"\\u0441\\u043b\\u0430\\u043a\\u0441\\u044b\",\"\\u041c\\u0438\\u0448\\u0435\\u0439\",\"\\u041d\\u0430\\u043a\\u0441\\u043e\\u0441\\u0435\",\"\\u0438\\u0437\\u043c\\u043e\\u0440\\u043e\\u0437\\u044c\",\"\\u043f\\u0435\\u0440\\u0435\\u043a\\u0430\\u043f\\u0438\\u0442\\u0430\\u043b\\u0438\\u0437\\u0430\\u0446\\u0438\\u0438\",\"\\u043f\\u0440\\u043e\\u043f\\u0430\\u0433\\u0430\\u043d\\u0434\\u0438\\u0440\\u043e\\u0432\\u0430\\u043d\\u0438\\u0435\",\"\\u0413\\u043e\\u0440\\u044f\\u0447\\u0435\\u0432\\u0430\",\"\\u041e\\u0440\\u043b\\u043e\\u0432\\u0443\",\"\\u0440\\u0435\\u0441\\u043a\\u0440\\u0438\\u043f\\u0442\\u043e\\u0432\",\"\\u0434\\u0437\\u044e\\u0434\\u043e\",\"\\u0444\\u0438\\u043d\\u0430\\u043b\\u044b\",\"\\u0411\\u0430\\u0445\\u0442\\u0438\\u044f\\u0440\\u0443\",\"\\u043c\\u0435\\u0442\\u043e\\u0442\\u0440\\u0435\\u043a\\u0441\\u0430\\u0442\",\"\\u0445\\u0440\\u043e\\u043c\\u0430\\u0442\\u043e\\u0433\\u0440\\u0430\\u0444\",\"\\u043b\\u0438\\u0434\\u0435\\u0440\\u0441\\u0442\\u0432\\u043e\\u043c\",\"\\u0431\\u0443\\u0442\\u043e\\u043d\\u044c\\u0435\\u0440\\u043a\\u0430\\u0445\",\"\\u043f\\u0430\\u043d\\u0442\\u0435\\u043e\\u043d\",\"\\u0430\\u043c\\u043d\\u0435\\u0437\\u0438\\u0435\\u0439\",\"\\u0430\\u0432\\u0430\\u043d\\u0442\\u044e\\u0440\\u0438\\u0441\\u0442\\u043a\\u0430\\u043c\\u0438\",\"\\u0430\\u0432\\u0438\\u0430\\u0441\\u0442\\u0440\\u043e\\u0435\\u043d\\u0438\\u044f\",\"\\u0436\\u0435\\u043c\\u0430\\u043d\\u043d\\u0438\\u0446\\u0430\\u043c\",\"\\u043d\\u0435\\u0434\\u0430\\u043b\\u0435\\u043a\\u043e\\u0441\\u0442\\u0438\",\"\\u041f\\u0440\\u0438\\u0437\\u0435\\u0440\\u044b\",\"\\u0423\\u0447\\u0451\\u043d\\u044b\\u0445\",\"\\u0421\\u0442\\u0438\\u043b\\u0441\\u0430\\u043c\\u0438\",\"\\u0421\\u0410\\u041f\\u0415\\u0420\",\"\\u0433\\u0430\\u043b\\u0438\\u043b\\u0435\\u044f\\u043d\\u0438\\u043d\\u043e\\u043c\",\"\\u0422\\u0435\\u043e\\u0441\\u043e\\u0444\\u0438\\u0435\\u0439\",\"\\u043f\\u0440\\u0438\\u043c\\u0438\\u0442\\u0438\\u0432\\u0438\\u0437\\u043c\\u0430\",\"\\u0440\\u0430\\u0434\\u0438\\u043e\\u043f\\u0435\\u0440\\u0435\\u0434\\u0430\\u0442\\u0447\\u0438\\u043a\",\"\\u041f\\u043e\\u043b\\u0443\\u043f\\u0440\\u043e\\u0432\\u043e\\u0434\\u043d\\u0438\\u043a\\u043e\\u0432\",\"\\u0413\\u0443\\u043c\\u0430\\u043d\\u0438\\u0442\\u0430\\u0440\\u0438\\u0439\",\"\\u044f\\u0449\\u0435\\u0440\\u0438\\u0446\\u044b\",\"\\u0417\\u0430\\u044f\\u0432\\u043a\\u0438\",\"\\u0440\\u0435\\u043c\\u0430\\u0440\\u043a\\u0435\",\"\\u043f\\u043e\\u0447\\u0442\",\"\\u043c\\u044e\\u0437\\u0438\\u043a-\\u0445\\u043e\\u043b\\u043b\",\"\\u042f\\u043d\\u0433\\u0430\",\"\\u0424\\u0430\\u044d\\u0442\\u043e\\u043d\\u043e\\u043c\",\"\\u0441\\u043f\\u0435\\u0446\\u0438\\u0444\\u0438\\u0447\\u043d\\u043e\\u0441\\u0442\\u044c\",\"\\u0434\\u0435\\u0437\\u043e\\u0440\\u0433\\u0430\\u043d\\u0438\\u0437\\u0430\\u0446\\u0438\\u044f\",\"\\u0448\\u0435\\u0444\\u0441\\u0442\\u0432\\u0435\",\"\\u041a\\u0443\\u043b\\u0438\\u043a\\u043e\\u0432\\u044b\\u043c\",\"\\u0428\\u0432\\u0435\\u0434\\u043a\\u0430\",\"\\u043a\\u0432\\u0430\\u0440\\u0442\\u0438\\u0440\\u0430\",\"\\u0428\\u0442\\u0430\\u043d\\u0434\\u0430\\u0440\\u0442\\u0430\",\"\\u0414\\u0430\\u0440\\u0442\\u0435\",\"\\u041b\\u0451\",\"\\u043a\\u0430\\u0440\\u044c\\u0435\\u0440\\u0438\\u0441\\u0442\",\"\\u043e\\u0431\\u0449\\u043d\\u043e\\u0441\\u0442\\u044c\",\"\\u0410\\u0441\\u0441\\u0438\\u0441\\u0442\\u0435\\u043d\\u0442\\u043e\\u043c\",\"\\u043b\\u0438\\u0441\\u0442\\u0432\\u043e\\u0439\",\"\\u043a\\u0430\\u0434\\u0435\\u0442\\u0435\",\"\\u0421\\u0447\\u0435\\u0442\",\"\\u0441\\u0435\\u0442\\u0442\\u0435\\u0440\\u043e\\u043c\",\"\\u0410\\u0432\\u0435\\u0440\\u043a\\u0438\\u0435\\u0432\",\"\\u0427\\u0418\\u0422\\u0410\\u0422\\u0415\\u041b\\u0415\\u0419\",\"\\u0421\\u043b\\u0430\\u0431\\u043e\\u0441\\u0442\\u044c\",\"\\u0421\\u0443\\u043d\\u043d\\u0438\\u0442\\u0430\\u043c\\u0438\",\"\\u044f\\u0438\\u0447\\u043d\\u0438\\u0446\\u0435\\u0439\",\"\\u041a\\u0410\\u0421\\u0421\\u0415\\u0422\\u042b\",\"\\u0434\\u0435\\u043f\\u0440\\u0435\\u0441\\u0441\\u0438\\u0439\",\"\\u0416\\u0451\\u043d\\u0430\\u043c\",\"\\u0441\\u043e\\u043f\\u043b\\u044f\\u0445\",\"\\u0442\\u0435\\u043b\\u043e\\u0434\\u0432\\u0438\\u0436\\u0435\\u043d\\u0438\\u044f\\u0445\",\"\\u0410\\u0433\\u0438\\u0442\\u0430\\u0442\\u043e\\u0440\\u044b\",\"\\u0441\\u043b\\u0438\\u0437\\u043d\\u044f\\u043a\\u0430\",\"\\u043d\\u0435\\u0434\\u043e\\u0434\\u0435\\u043b\\u043a\\u0438\",\"\\u043d\\u0430\\u043a\\u043e\\u043b\\u043a\\u0438\",\"\\u0441\\u043e\\u0437\\u0438\\u0434\\u0430\\u043d\\u0438\\u0438\",\"\\u043a\\u043e\\u0440\\u044b\\u0441\\u0442\\u043e\\u043b\\u044e\\u0431\\u0446\\u044b\",\"\\u041d\\u043e\\u0440\\u0432\\u0443\\u0434\\u0430\",\"\\u0441\\u044a\\u0435\\u043c\\u043e\\u043a\",\"\\u0442\\u0440\\u0430\\u043a\\u0442\\u0430\\u0442\\u0435\",\"\\u0411\\u0430\\u0442\\u043b\\u0435\\u0440\\u0443\",\"\\u0441\\u0442\\u0440\\u0430\\u0445\\u043e\\u0432\\u0430\\u043d\\u0438\\u044f\",\"\\u0412\\u043e\\u0440\\u043e\\u043d\\u0446\\u043e\\u0432\\u044b\\u0445\",\"\\u0440\\u0443\\u0441\\u0441\\u043e\\u0438\\u0437\\u043c\\u0430\",\"\\u0430\\u043d\\u0430\\u0440\\u0445\\u0438\\u0438\",\"\\u041c\\u0430\\u043a\\u0413\\u0438\\u043b\\u043b\\u0430\",\"\\u0440\\u0430\\u0441\\u0441\\u0442\\u043e\\u044f\\u043d\\u0438\\u044f\\u043c\",\"\\u0434\\u0435\\u043b\\u0430\\u043d\\u0438\\u044f\\u043c\\u0438\",\"\\u0411\\u0438\\u0442\\u0430\",\"\\u0432\\u0435\\u0449\\u0438\\u0446\\u0435\\u044e\",\"\\u041a\\u0435\\u0440\\u0431\\u0435\\u0440\\u0438\\u0437\\u0430\\u0446\\u0438\\u044f\",\"\\u041e\\u0432\\u0447\\u0430\\u0440\\u043a\\u0438\",\"\\u043f\\u0435\\u0440\\u0435\\u0434\\u0432\\u0438\\u0436\\u0435\\u043d\\u0438\\u044f\\u043c\\u0438\",\"\\u043f\\u0440\\u043e\\u0434\\u043e\\u043b\\u0436\\u0435\\u043d\\u0438\\u0435\",\"\\u0432\\u0435\\u0431-\\u0441\\u0442\\u0440\\u0430\\u043d\\u0438\\u0446\\u0430\",\"\\u044d\\u043f\\u0438\\u0442\\u0430\\u0444\\u0438\\u044f\\u0445\",\"\\u0411\\u0440\\u0430\\u0442\\u0438\\u044f\",\"\\u043a\\u043e\\u0431\\u044b\\u043b\\u0430\\u043c\",\"\\u0421\\u0443\\u0431\\u0441\\u0442\\u0440\\u0430\\u0442\\u0430\\u043c\\u0438\",\"\\u041f\\u0435\\u0440\\u0435\\u0440\\u0438\\u0441\\u043e\\u0432\\u043a\\u0430\",\"\\u041f\\u041e\\u041b\\u0423\\u0414\\u041d\\u042f\",\"\\u043b\\u0433\\u0430\\u043d\\u044c\\u044f\",\"\\u0424\\u0435\\u0434\\u043e\\u0440\\u0435\",\"\\u0433\\u043e\\u0440\\u0438\\u0437\\u043e\\u043d\\u0442\\u0430\\u043b\\u044c\\u043d\\u043e\\u0441\\u0442\\u0438\",\"\\u0422\\u0435\\u0440\\u0435\\u043d\\u0446\\u0438\\u044f\",\"\\u042e\\u0421\\u0422\\u0418\\u0426\\u0418\\u0418\",\"\\u0430\\u0432\\u0430\\u043d\\u0433\\u0430\\u0440\\u0434\\u043e\\u043c\",\"\\u0414\\u044d\\u0432\\u0438\\u0434\\u043e\\u0432\",\"\\u041c\\u0438\\u043b\\u0435\\u043d\\u0435\",\"\\u043f\\u0435\\u0440\\u0435\\u0441\\u044b\\u043b\\u043a\\u0430\\u0445\",\"\\u0414\\u0435\\u0440\\u0436\\u0430\\u0442\\u0435\\u043b\\u0435\\u0439\",\"\\u0411\\u0435\\u0440\\u043b\\u0438\\u043d\\u0435\\u0440\\u043e\\u043c\",\"\\u0420\\u0430\\u0439\\u0445\\u0443\",\"\\u0440\\u043e\\u0437\\u044b\\u0441\\u043a\\u0435\",\"\\u0441\\u043d\\u0430\\u0434\\u043e\\u0431\\u044c\\u044f\\u043c\\u0438\",\"\\u043f\\u043e\\u043f\\u0443\\u043b\\u044f\\u0440\\u0438\\u0437\\u0430\\u0442\\u043e\\u0440\\u044b\",\"\\u044d\\u0448\\u0430\\u0444\\u043e\\u0442\\u0430\\u043c\\u0438\",\"\\u0421\\u0410\\u041c\\u041e\\u041b\\u042e\\u0411\\u0418\\u0415\",\"\\u0417\\u0410\\u0413\\u041e\\u0422\\u041e\\u0412\\u041e\\u041a\",\"\\u043d\\u0430\\u043a\\u043b\\u043e\\u043d\\u0430\",\"\\u0434\\u0435\\u0444\\u0435\\u043a\\u0442\\u0430\\u043c\",\"\\u0433\\u0435\\u0448\\u0442\\u0430\\u043b\\u044c\\u0442\\u043e\\u0432\",\"\\u0421\\u043e\\u0432\\u043c\\u0435\\u0441\\u0442\\u0438\\u0442\\u0435\\u043b\\u044c\\u0441\\u0442\\u0432\\u043e\",\"\\u043f\\u0440\\u0438\\u0447\\u0443\\u0434\\u043e\\u044e\",\"\\u0441\\u044a\\u0435\\u043c\\u043a\\u0430\\u043c\",\"\\u043f\\u0435\\u0440\\u0435\\u0433\\u0438\\u0431\\u0430\",\"\\u043a\\u0430\\u043f\\u0438\\u0442\\u0430\\u043b\\u043e\",\"\\u0441\\u0443\\u043a\\u043d\\u0443\",\"\\u0434\\u0430\\u0442\\u0438\\u0440\\u043e\\u0432\\u043a\\u0443\",\"\\u0443\\u0447\\u0430\\u0441\\u0442\\u043d\\u0438\\u043a\",\"\\u0437\\u043d\\u0430\\u043c\\u0435\\u043d\\u0430\\u0442\\u0435\\u043b\\u044f\",\"\\u041e\\u041f\\u041b\\u0410\\u0422\\u041e\\u0419\",\"\\u041a\\u043e\\u043b\\u044b\\u043c\\u044b\",\"\\u0444\\u0435\\u0441\\u0442\\u0438\\u0432\\u0430\\u043b\\u044f\\u043c\",\"\\u0411\\u0435\\u0441\\u0444\\u043e\\u0440\\u043c\\u0435\\u043d\\u043d\\u043e\\u0441\\u0442\\u044c\",\"\\u0433\\u0430\\u0434\\u043e\\u0441\\u0442\\u044f\\u043c\",\"\\u043c\\u0430\\u0433\\u0430\\u0437\\u0438\\u043d\\u0447\\u0438\\u043a\\u0430\",\"\\u043c\\u0443\\u044d\\u0434\\u0437\\u0438\\u043d\\u044b\",\"\\u043f\\u0440\\u043e\\u0441\\u043c\\u043e\\u0442\\u0440\\u043e\\u0432\\u0430\\u044f\",\"\\u0414\\u044e\\u0439\\u043c\\u043e\\u0432\",\"\\u043f\\u0440\\u0430\\u043a\\u0442\\u0438\\u043a\\u0430\\u043d\\u0442\\u0443\",\"\\u0434\\u0438\\u0430\\u043f\\u0430\\u0437\\u043e\\u043d\\u0430\\u043c\\u0438\",\"\\u0434\\u0435\\u0432\\u0441\\u0442\\u0432\\u0435\\u043d\\u043d\\u0438\\u043a\\u0430\\u043c\\u0438\",\"\\u043a\\u043e\\u043b\\u043e\\u0442\\u044c\\u044f\",\"\\u041a\\u043e\\u0440\\u043a\\u0430\\u043c\",\"\\u0428\\u0435\\u043b\\u043b\",\"\\u0434\\u0440\\u0435\\u043c\\u043e\\u0442\\u0435\",\"\\u0421\\u0415\\u041d\\u0421\\u0410\\u0426\\u0418\\u042f\",\"\\u0441\\u0435\\u043c\\u0430\\u043d\\u0442\\u0438\\u043a\\u0430\\u043c\\u0438\",\"\\u043c\\u043e\\u0440\\u0434\\u043e\\u0447\\u043a\\u0435\",\"\\u0434\\u0432\\u0443\\u0445\\u0441\\u043e\\u0442\\u043b\\u0435\\u0442\\u0438\\u044e\",\"\\u043f\\u043e\\u0434\\u043c\\u043d\\u043e\\u0433\\u043e\\u043e\\u0431\\u0440\\u0430\\u0437\\u0438\\u0439\",\"\\u041c\\u0423\",\"\\u0418\\u043d\\u0430\\u0440\\u0430\",\"\\u0431\\u0440\\u043e\\u0443\\u0437\\u0435\\u0440\\u0430\\u043c\\u0438\",\"\\u041b\\u0435\\u0441\\u0442\\u043d\\u0438\\u0446\\u0430\",\"\\u0432\\u0435\\u0440\\u0442\\u0438\\u043a\\u0430\\u043b\\u044f\\u043c\\u0438\",\"\\u0431\\u0435\\u0440\\u043b\\u043e\\u0433\\u0443\",\"\\u043b\\u043e\\u0436\\u0435\\u0439\",\"\\u0448\\u0430\\u0440\\u0442\\u0440\\u0435\\u0437\\u0430\",\"\\u041e\\u0431\\u0435\\u0440\\u0442\\u043a\\u0438\",\"\\u0417\\u0412\\u0415\\u0417\\u0414\\u041e\\u0427\\u041a\\u041e\\u0419\",\"\\u0437\\u0430\\u0441\\u0442\\u0440\\u043e\\u0439\\u0449\\u0438\\u043a\\u0438\",\"\\u0441\\u043a\\u0430\\u043d\\u0434\\u0438\\u043d\\u0430\\u0432\\u0430\\u0445\",\"\\u043d\\u0430\\u0448\\u0438\\u0432\\u043a\\u0438\",\"\\u041f\\u0441\\u0438\\u0445\\u043e\\u043b\\u043e\\u0433\\u0438\\u0437\\u043c\",\"\\u0430\\u0440\\u0445\\u0438\\u0442\\u0435\\u043a\\u0442\\u0443\\u0440\\u0443\",\"\\u041f\\u043e\\u043f\\u0443\\u043b\\u0438\\u0441\\u0442\",\"\\u0447\\u0430\\u0441\\u0442\\u044f\\u043c\",\"\\u0441\\u043a\\u043b\\u043e\\u043d\\u043d\\u043e\\u0441\\u0442\\u044f\\u0445\",\"\\u043f\\u044f\\u0442\\u0438\\u043a\\u0443\\u0440\\u0441\\u043d\\u0438\\u043a\\u043e\\u0432\",\"\\u0421\\u0438\\u043d\\u044c\\u043e\\u0440\",\"\\u0416\\u0438\\u043b\\u0438\\u0449\\u0430\",\"\\u0440\\u0430\\u0437\\u0433\\u0440\\u043e\\u043c\\u0430\",\"\\u0441\\u0443\\u0440\\u0440\\u043e\\u0433\\u0430\\u0442\\u043e\\u0432\",\"\\u0442\\u0440\\u0430\\u043d\\u0437\\u0438\\u0441\\u0442\\u043e\\u0440\\u044b\",\"\\u041f\\u0440\\u0438\\u0440\\u043e\\u0434\\u043e\\u0439\",\"\\u0427\\u0438\\u043d\\u044b\",\"\\u0411\\u0430\\u0431\\u0438\\u0442\\u044c\",\"\\u0447\\u0435\\u0440\\u0435\\u0434\\u043e\\u0432\\u0430\\u043d\\u0438\\u044f\\u043c\\u0438\",\"\\u0432\\u0437\\u0431\\u0443\\u0447\\u043a\\u0430\\u0445\",\"\\u043f\\u043e\\u043a\\u043e\\u0439\\u043d\\u043e\\u043c\",\"\\u043d\\u0430\\u0440\\u0443\\u0447\\u043d\\u0438\\u043a\\u0435\",\"\\u0432\\u0435\\u0449\\u0430\\u0442\\u0435\\u043b\\u044f\\u0445\",\"\\u0421\\u043a\\u0438\\u0442\\u0430\\u043d\\u0438\\u044f\\u043c\",\"\\u043e\\u0441\\u043d\\u0430\\u0441\\u0442\\u043a\\u0443\",\"\\u0448\\u0430\\u0440\\u0438\\u043a\\u043e\\u0432\",\"\\u0411\\u0435\\u0441\\u0441\\u043c\\u0435\\u0440\\u0442\\u044c\\u0435\",\"\\u0410\\u043d\\u0430\\u043a\\u0441\\u0438\\u043c\\u0435\\u043d\\u0443\",\"\\u0441\\u043e\\u0443\\u0447\\u0430\\u0441\\u0442\\u043d\\u0438\\u043a\\u0438\",\"\\u043f\\u0435\\u0440\\u0435\\u0434\\u0435\\u043b\\u043a\\u0430\\u043c\",\"\\u041f\\u043e\\u043a\\u043e\\u0439\\u043d\\u0438\\u0446\\u0430\",\"\\u043e\\u0437\\u0430\\u0440\\u0435\\u043d\\u0438\\u0435\\u043c\",\"\\u0421\\u0435\\u043d\\u0441\\u0438\\u0431\\u0438\\u043b\\u0438\\u0437\\u0430\\u0446\\u0438\\u044f\",\"\\u0421\\u041e\\u0412\\u0415\\u0420\\u0428\\u0415\\u041d\\u0421\\u0422\\u0412\\u041e\",\"\\u043f\\u0440\\u043e\\u0444\\u043e\\u0440\\u0438\\u0435\\u043d\\u0442\\u0430\\u0446\\u0438\\u044e\",\"\\u043f\\u0435\\u0440\\u0435\\u043d\\u043e\\u0441\\u0438\\u043c\\u043e\\u0441\\u0442\\u0438\",\"\\u0413\\u0443\\u043b\\u044c\\u0434\\u0435\",\"\\u0445\\u043b\\u0435\\u0431\\u043e\\u0440\\u043e\\u0431\\u043e\\u043c\",\"\\u0434\\u0440\\u0430\\u0433\\u043e\\u0446\\u0435\\u043d\\u043d\\u043e\\u0441\\u0442\\u0435\\u0439\",\"\\u041d\\u0430\\u0446\\u0438\\u043e\\u043d\\u0430\\u043b-\\u0441\\u043e\\u0446\\u0438\\u0430\\u043b\\u0438\\u0437\\u043c\",\"\\u0420\\u043e\\u043d\\u0430\\u043b\\u044c\\u0434\\u0443\",\"\\u0431\\u0435\\u0441\\u043f\\u043e\\u0440\\u044f\\u0434\\u043a\\u0430\\u0445\",\"\\u0418\\u0448\\u043c\\u0443\\u0445\\u0430\\u043c\\u0435\\u0434\\u0435\",\"\\u0412\\u041e\\u0417\\u041e\\u0411\\u041d\\u041e\\u0412\\u041b\\u0415\\u041d\\u0418\\u0418\",\"\\u043a\\u0430\\u0431\\u0430\\u043a\\u0435\",\"\\u041f\\u0443\\u043b\\u044f\",\"\\u0412\\u0435\\u0440\\u0435\\u0432\\u043a\\u0438\\u043d\\u044b\\u043c\",\"\\u043a\\u043e\\u043d\\u0441\\u044c\\u0435\\u0440\\u0436\\u0435\\u0439\",\"\\u0427\\u0415\\u0420\\u041d\\u0410\\u0423\\u0421\\u041e\\u0412\\u041d\\u0410\\u0425\",\"\\u0430\\u043e\\u0440\\u0442\\u0443\",\"\\u0418\\u043d\\u0433\\u0430\",\"\\u043e\\u0442\\u043e\\u0431\\u0440\\u0430\\u0436\\u0435\\u043d\\u0438\\u044e\",\"\\u0441\\u0438\\u0441\\u0442\\u0435\\u043c\\u0430\\u0442\\u0438\\u043a\\u043e\\u0432\",\"\\u0421\\u041d\\u0418\\u0416\\u0415\\u041d\\u0418\\u0415\",\"\\u0442\\u043e\\u043a\\u0441\\u0438\\u043a\\u043e\\u043c\\u0430\\u043d\\u0430\",\"\\u041d\\u044c\\u044e-\\u0413\\u0435\\u043c\\u043f\\u0448\\u0438\\u0440\\u0430\",\"\\u0410\\u041d\\u041d\\u0415\\u041a\\u0421\\u0418\\u042f\",\"\\u0425\\u043e\\u0440\\u0435\\u043e\\u0433\\u0440\\u0430\\u0444\",\"\\u0434\\u0435\\u0431\\u043b\\u043e\\u043a\\u0438\\u0440\\u043e\\u0432\\u0430\\u043d\\u0438\\u044f\",\"\\u0411\\u0435\\u0441\\u0441\\u043c\\u044b\\u0441\\u043b\\u0438\\u0446\\u0430\",\"\\u0434\\u0438\\u043a\\u0442\\u0430\\u043d\\u0442\\u043e\\u043c\",\"\\u043a\\u043e\\u043d\\u043e\\u043a\\u0440\\u0430\\u0434\\u043e\\u043c\",\"\\u041c\\u0430\\u0432\\u0437\\u043e\\u043b\\u0435\\u0439\",\"\\u041c\\u0430\\u0440\\u043c\\u0435\\u043b\\u0430\\u0434\",\"\\u0442\\u0430\\u0447\\u0430\\u043d\\u043e\\u043a\",\"\\u041c\\u0435\\u0434\\u0438\\u043a\\u0430\\u043c\\u0435\\u043d\\u0442\\u0430\\u043c\\u0438\",\"\\u0414\\u041d\\u0415\",\"\\u041b\\u043e\\u043d\\u0433-\\u0411\\u0438\\u0447\\u0430\",\"\\u043f\\u0440\\u043e\\u044f\\u0432\\u043b\\u0435\\u043d\\u0438\\u0439\",\"\\u043e\\u0441\\u0442\\u044b\\u0432\\u0430\\u043d\\u0438\\u0435\",\"\\u0434\\u0435\\u043a\\u043b\\u0430\\u0440\\u0430\\u0446\\u0438\\u0438\",\"\\u0421\\u043f\\u0438\\u0440\\u0438\\u0434\\u043e\\u043d\\u043e\\u0432\\u044b\\u043c\",\"\\u0421\\u0412\\u0418\\u0414\\u0415\\u0422\\u0415\\u041b\\u042c\\u0421\\u0422\\u0412\\u041e\",\"\\u043f\\u0435\\u0440\\u0435\\u0434\\u0435\\u043b\\u043a\\u0438\",\"\\u0441\\u043e\\u0443\\u0441\",\"\\u041e\\u0411\\u041e\\u0420\\u041e\\u041d\\u0415\",\"\\u043d\\u0430\\u0442\\u0438\\u0440\\u0430\\u043d\\u0438\\u0438\",\"\\u043c\\u043e\\u0440\\u043e\\u0437\\u0438\\u043b\\u044c\\u043d\\u0438\\u043a\\u0430\\u043c\",\"\\u0421\\u0443\\u043d\\u043d\\u0438\\u0442\\u0430\\u043c\",\"\\u043d\\u0430\\u0441\\u0442\\u0440\\u043e\\u0435\\u043a\",\"\\u0414\\u0418\\u0412\\u0418\\u0414\\u0415\\u041d\\u0414\\u041e\\u0412\",\"\\u043f\\u0440\\u043e\\u0432\\u0430\\u043b\\u044b\",\"\\u0437\\u0435\\u043c\\u043b\\u044f\\u0445\",\"\\u043f\\u0435\\u0440\\u0435\\u043c\\u0438\\u0440\\u0438\\u0438\",\"\\u0437\\u043e\\u043b\\u043e\\u0442\\u043e\\u0434\\u043e\\u0431\\u044b\\u0447\\u0430\",\"\\u043c\\u043e\\u0434\\u0435\\u043b\\u0438\\u0440\\u043e\\u0432\\u0430\\u043d\\u0438\\u0435\",\"\\u043d\\u0430\\u0447\\u0438\\u0441\\u043b\\u0435\\u043d\\u0438\\u0439\",\"\\u0438\\u0437\\u044a\\u044f\\u0432\\u043b\\u0435\\u043d\\u0438\\u0438\",\"\\u0443\\u043f\\u043e\\u0435\\u043d\\u0438\\u0438\",\"\\u0421\\u0430\\u043b\\u044b\\u043d\\u0441\\u043a\\u0438\\u0439\",\"\\u044d\\u043b\\u0435\\u043a\\u0442\\u0440\\u043e\\u0441\\u043d\\u0430\\u0431\\u0436\\u0435\\u043d\\u0438\\u044e\",\"\\u043e\\u0442\\u0435\\u043a\\u0443\",\"\\u0440\\u0430\\u0437\\u0431\\u0430\\u0437\\u0430\\u0440\\u0438\\u0432\\u0430\\u043d\\u0438\\u0438\",\"\\u0412\\u0437\\u0440\\u044b\\u0432\\u0447\\u0430\\u0442\\u043a\\u0430\",\"\\u043c\\u0435\\u0446\\u0435\\u043d\\u0430\\u0442\\u0430\\u043c\",\"\\u043d\\u0435\\u043d\\u043e\\u0440\\u043c\\u0430\\u043b\\u044c\\u043d\\u043e\\u0441\\u0442\\u044f\\u0445\",\"\\u0441\\u043f\\u0430\\u0437\\u043c\\u044b\",\"\\u0421\\u0435\\u0440\\u0432\\u0438\\u0437\\u0430\",\"\\u043f\\u0440\\u0438\\u0441\\u0442\\u0435\\u0433\\u0438\\u0432\\u0430\\u043d\\u0438\\u0435\",\"\\u044d\\u0433\\u0438\\u0434\\u0443\",\"\\u0411\\u043e\\u043b\\u0438\\u0432\\u0438\\u0439\\u0446\\u044b\",\"\\u0433\\u0435\\u043d\\u0435\\u0437\\u0438\\u0441\",\"\\u0410\\u043a\\u0446\\u0438\\u0437\\u044b\",\"\\u0432\\u0435\\u043d\\u0447\\u0430\\u043d\\u0438\\u044f\",\"\\u043e\\u0431\\u0438\\u0442\\u0430\\u0442\\u0435\\u043b\\u044c\\u043d\\u0438\\u0446\\u0430\",\"\\u0441\\u043b\\u0443\\u0436\\u0430\\u043d\\u043a\\u0430\\u043c\\u0438\",\"\\u0433\\u043b\\u0430\\u0437\\u0443\\u0440\\u0438\",\"\\u041a\\u0440\\u044b\\u0441\\u043e\",\"\\u043d\\u0435\\u0439\\u0442\\u0440\\u0430\\u043b\\u0438\\u0437\\u043c\\u0430\",\"\\u0441\\u0432\\u044f\\u0437\\u043d\\u043e\\u0441\\u0442\\u044f\\u043c\\u0438\",\"\\u043c\\u0435\\u0441\\u0442\\u043d\\u043e\\u0441\\u0442\\u044f\\u043c\",\"\\u043f\\u0440\\u043e\\u0438\\u0437\\u0432\\u043e\\u0434\\u043d\\u0443\\u044e\",\"\\u041e\\u0444\\u0448\\u043e\\u0440\",\"\\u0432\\u0438\\u0434\\u0435\\u043e\\u0434\\u0430\\u043d\\u043d\\u044b\\u043c\",\"\\u0444\\u0440\\u0430\\u0433\\u043c\\u0435\\u043d\\u0442\\u0438\\u0440\\u043e\\u0432\\u0430\\u043d\\u0438\\u0435\",\"\\u043a\\u0438\\u043f\\u0435\\u043d\\u0438\\u0435\\u043c\",\"\\u043a\\u043e\\u043d\\u0434\\u043e\\u043c\\u0438\\u043d\\u0438\\u0443\\u043c\\u0430\",\"\\u0417\\u0410\\u041a\\u0410\\u0417\\u0415\",\"\\u0441\\u0442\\u043e\\u043b\\u043e\\u0432\\u043a\\u0435\",\"\\u0420\\u043e\\u043d\\u0441\\u043e\\u043d\",\"\\u0417\\u0410\\u0420\\u041e\\u041a\",\"\\u0420\\u043e\\u0436\\u0435\\u043d\\u0438\\u0446\\u0430\",\"\\u0431\\u0440\\u0430\\u0442\\u0430\\u043d\\u0438\\u044e\",\"\\u0442\\u0435\\u0437\\u0438\\u0441\\u043e\\u043c\",\"\\u041f\\u0435\\u0440\\u0432\\u043e\\u043e\\u0442\\u043a\\u0440\\u044b\\u0432\\u0430\\u0442\\u0435\\u043b\\u0435\\u0439\",\"\\u0421\\u043e\\u0441\\u0435\\u0434\\u0435\\u0439\",\"\\u0431\\u043b\\u0430\\u0433\\u043e\\u0441\\u043e\\u0441\\u0442\\u043e\\u044f\\u043d\\u0438\\u0435\\u043c\",\"\\u041f\\u0440\\u0438\\u0437\\u043d\\u0430\\u043d\\u0438\\u0435\",\"\\u0434\\u0438\\u043a\\u043e\\u0432\\u0438\\u043d\\u0435\",\"\\u0413\\u0440\\u0438\\u043d\\u044c\",\"\\u0443\\u0433\\u043b\\u0443\\u0431\\u043b\\u0435\\u043d\\u043d\\u043e\\u0441\\u0442\\u044c\\u044e\",\"\\u0418\\u043d\\u0442\\u0435\\u0440\\u0432\\u0430\\u043b\\u044b\",\"\\u0434\\u0435\\u043b\\u044c\\u0442\\u0430\\u043f\\u043b\\u0430\\u043d\\u0435\\u0440\\u0438\\u0441\\u0442\\u044b\",\"\\u0414\\u043e\\u0432\\u043e\\u0434\",\"\\u0440\\u0435\\u0439\\u0434\\u0435\\u0440\\u0441\\u0442\\u0432\\u043e\",\"\\u042f\\u041d\\u0413\\u041e\\u041c\",\"\\u0441\\u0435\\u043f\\u0430\\u0440\\u0430\\u0442\\u0438\\u0437\\u043c\\u0430\",\"\\u0417\\u0430\\u0434\\u0435\\u0440\\u0436\\u043a\\u0430\\u043c\",\"\\u0411\\u0438\\u043e\\u0442\\u0435\\u0445\\u043d\\u043e\\u043b\\u043e\\u0433\\u0438\\u044f\\u043c\",\"\\u043f\\u043e\\u043f\\u0435\\u0447\\u0438\\u0442\\u0435\\u043b\\u044c\\u0441\\u0442\\u0432\\u043e\\u043c\",\"\\u0418\\u043d\\u0441\\u0442\\u0430\\u043b\\u043b\\u044f\\u0446\\u0438\\u044e\",\"\\u0442\\u0435\\u043b\\u044c\\u0446\\u0435\\u043c\",\"\\u0446\\u0435\\u043b\\u043e\\u0432\\u0430\\u043d\\u0438\\u0438\",\"\\u043d\\u0435\\u0434\\u043e\\u0441\\u0442\\u0430\\u0442\\u043a\\u043e\\u043c\",\"\\u0440\\u0435\\u0437\\u044e\\u043c\\u0438\\u0440\\u043e\\u0432\\u0430\\u043d\\u0438\\u044f\",\"\\u041a\\u041e\\u0421\\u042c\\u042f\\u041d\",\"\\u043f\\u044f\\u0442\\u043e\\u044e\",\"\\u0413\\u0440\\u0430\\u043d-\\u041a\\u0430\\u043d\\u0430\\u0440\\u0438\\u044f\",\"\\u041d\\u0430\\u0432\\u044b\\u043a\\u0430\\u043c\\u0438\",\"\\u0441\\u043a\\u0430\\u043c\\u044c\\u044f\\u0445\",\"\\u0432\\u0443\\u0437\\u0430\\u043c\",\"\\u0438\\u0434\\u0435\\u0430\\u043b\\u0438\\u0441\\u0442\\u043e\\u043a\",\"\\u0432\\u0430\\u043b\\u0435\\u0436\\u043d\\u0438\\u043a\\u0430\",\"\\u043f\\u0440\\u043e\\u0435\\u043a\\u0446\\u0438\\u044f\\u043c\",\"\\u041e\\u0422\\u041c\\u0415\\u041d\\u041e\\u0419\",\"\\u0433\\u0435\\u043d\\u0434\\u0435\\u0440\\u0435\",\"\\u041a\\u0440\\u044b\\u043b\\u0430\\u0442\\u0441\\u043a\\u043e\\u043c\",\"\\u0410\\u0440\\u0445\\u0438\\u043f\\u043e\\u0432\",\"\\u0432\\u043e\\u0441\\u043f\\u0430\\u043b\\u0435\\u043d\\u0438\\u0438\",\"\\u0432\\u0441\\u043f\\u0435\\u043d\\u0438\\u0432\\u0430\\u043d\\u0438\\u044f\",\"\\u0414\\u0438\\u0437\\u0430\\u0441\\u0441\\u0435\\u043c\\u0431\\u043b\\u0438\\u0440\\u043e\\u0432\\u0430\\u043d\\u0438\\u0435\",\"\\u041a\\u043d\\u044f\\u0436\\u043d\\u0438\\u043d\\u0430\",\"\\u043d\\u0430\\u0434\\u043b\\u043e\\u043c\\u043e\\u0432\",\"\\u0432\\u043e\\u0441\\u043a\\u043b\\u0438\\u0446\\u0430\\u043d\\u0438\\u0435\",\"\\u0438\\u0437\\u043e\\u0431\\u0440\\u0430\\u0436\\u0435\\u043d\\u0438\\u044f\\u0445\",\"\\u0426\\u0435\\u043b\\u043e\\u043c\\u0443\\u0434\\u0440\\u0438\\u0435\",\"\\u043d\\u0430\\u043a\\u0430\\u0437\\u043e\\u043c\",\"\\u0421\\u041e\\u0423\\u0421\\u0415\",\"\\u0432\\u044b\\u0440\\u0430\\u0431\\u043e\\u0442\\u043a\\u0430\",\"\\u0410\\u0431\\u0440\\u0438\\u043a\\u043e\\u0441\\u043e\\u0432\",\"\\u041b\\u0443\\u0431\\u044f\\u043d\\u043a\\u043e\",\"\\u043a\\u043e\\u043d\\u044e\\u0448\\u0438\\u0439\",\"\\u0442\\u0435\\u0442\\u0440\\u0430\\u0434\\u0438\",\"\\u0414\\u043e\\u0441\\u0442\\u0430\\u0432\\u043a\\u0438\\u043d\\u0430\",\"\\u041d\\u0435\\u0443\\u044f\\u0437\\u0432\\u0438\\u043c\\u043e\\u0441\\u0442\\u044c\",\"\\u044d\\u0441\\u043a\\u0430\\u0434\\u0440\\u043e\\u0439\",\"\\u0441\\u0435\\u0440\\u0432\\u0438\\u0437\\u0430\\u0445\",\"\\u043d\\u0435\\u043a\\u0440\\u043e\\u0444\\u0438\\u043b\",\"\\u043f\\u0430\\u0448\\u043d\\u0435\",\"\\u0448\\u0430\\u0445\\u0442\\u0435\\u0440\",\"\\u0412\\u0440\\u0430\\u0433\\u0430\\u043c\",\"\\u0433\\u0440\\u0430\\u043d\\u0434\\u0438\\u043e\\u0437\\u043d\\u043e\\u0441\\u0442\\u044c\",\"\\u0442\\u0435\\u0440\\u0430\\u043a\\u0442\\u0430\\u043c\\u0438\",\"\\u0417\\u0430\\u043a\\u043b\\u0438\\u043d\\u0430\\u043d\\u0438\\u044f\\u043c\\u0438\",\"\\u0438\\u0441\\u0441\\u0442\\u0443\\u043f\\u043b\\u0435\\u043d\\u0438\\u044f\",\"\\u041a\\u0440\\u044e\",\"\\u043a\\u0438\\u043d\\u043e\\u0441\\u0442\\u0443\\u0434\\u0438\\u0439\",\"\\u043f\\u0430\\u043d\\u0441\\u0438\\u043e\\u043d\\u0435\\u0440\\u043a\\u0430\",\"\\u043e\\u0442\\u0431\\u0435\\u043b\\u0438\\u0432\\u0430\\u0442\\u0435\\u043b\\u0435\\u043c\",\"\\u0425\\u0410\\u0419\",\"\\u0425\\u0430\\u043b\\u043b\\u0438\\u0431\\u0435\\u0440\\u0442\\u043e\\u043d\\u0430\",\"\\u0446\\u0435\\u043d\\u043d\\u0438\\u043a\\u043e\\u0432\",\"\\u041f\\u041e\\u0427\\u0422\\u0410\",\"\\u043a\\u043e\\u0441\\u0442\\u044f\\u0448\\u043a\\u0430\\u043c\",\"\\u0441\\u0430\\u043c\\u043e\\u0432\\u0440\\u0435\\u0434\\u0438\\u0442\\u0435\\u043b\\u044c\\u0441\\u0442\\u0432\\u043e\\u043c\",\"\\u0411\\u043e\\u0433\\u043e\\u0445\\u0443\\u043b\\u044c\\u043d\\u0438\\u043a\\u043e\\u0432\",\"\\u0424\\u041e\\u0420\\u041c\\u0418\\u0420\\u041e\\u0412\\u0410\\u041d\\u0418\\u0418\",\"\\u0411\\u041e\\u042f\\u0417\\u041d\\u042c\",\"\\u0410\\u043c\\u0435\\u0440\\u0438\\u043a\\u0430\\u043d\\u0446\\u0430\\u043c\",\"\\u0444\\u0438\\u0437\\u0437\\u0430\\u0440\\u044f\\u0434\\u043a\\u0435\",\"\\u0433\\u0435\\u043c\\u0430\\u0442\\u0438\\u0442\\u044b\",\"\\u0441\\u0435\\u0440\\u0442\\u0438\\u0444\\u0438\\u043a\\u0430\\u0446\\u0438\\u0439\",\"\\u0413\\u0435\\u0433\\u0430\\u043c\",\"\\u0434\\u0435\\u0441\\u043f\\u043e\\u0442\\u0438\\u0447\\u043d\\u043e\\u0441\\u0442\\u0438\",\"\\u0413\\u043e\\u0434\\u043e\\u0432\\u0430\\u043b\\u043e\\u0432\",\"\\u043f\\u043e\\u0447\\u0438\\u0442\\u0430\\u0442\\u0435\\u043b\\u0435\\u043c\",\"\\u041a\\u044c\\u044f\\u043d\\u0442\\u0438\",\"\\u0416\\u0430\\u0439\\u0432\\u043e\\u0440\\u043e\\u043d\\u043a\\u043e\",\"\\u041f\\u0440\\u0435\\u0434\\u0432\\u043e\\u0434\\u0438\\u0442\\u0435\\u043b\\u044c\",\"\\u0441\\u043b\\u0430\\u0434\\u043e\\u0441\\u0442\\u0435\\u0439\",\"\\u041c\\u0415\\u041d\\u0415\\u0414\\u0416\\u0415\\u0420\\u041e\\u0412\",\"\\u0411\\u0410\\u0420\\u041b\\u041e\\u0423\",\"\\u0441\\u0443\\u0431\\u043a\\u0443\\u043b\\u044c\\u0442\\u0443\\u0440\\u043e\\u0439\",\"\\u043f\\u0435\\u0447\\u0430\\u0442\\u0430\\u043d\\u0438\\u0435\",\"\\u0430\\u043d\\u0442\\u0438\\u0440\\u0435\\u043a\\u043b\\u0430\\u043c\\u044b\",\"\\u0441\\u043f\\u0443\\u0442\\u044b\\u0432\\u0430\\u043d\\u0438\\u0435\",\"\\u043e\\u0431\\u044b\\u0432\\u0430\\u0442\\u0435\\u043b\\u044f\\u043c\",\"\\u041e\\u0414\\u041e\\u0411\\u0420\\u0415\\u041d\\u0418\\u0418\",\"\\u041c\\u0410\\u041d\\u0416\\u0415\\u0412\\u041d\\u041e\\u0419\",\"\\u0420\\u0430\\u0431\\u0431\\u0438\",\"\\u043c\\u0435\\u0440\\u0435\\u043d\\u0433\\u0430\\u043c\\u0438\",\"\\u0434\\u0435\\u0440\\u0435\\u0432\\u0443\\u0448\\u0435\\u043a\",\"\\u041f\\u041e\\u0412\\u042b\\u0428\\u0415\\u041d\\u0418\\u0415\",\"\\u043f\\u043e\\u0434\\u0441\\u0442\\u0440\\u043e\\u043a\\u0430\\u043c\\u0438\",\"\\u0432\\u0438\\u0440\\u0448\\u0430\\u0445\",\"\\u041f\\u0420\\u041e\\u0414\\u0423\\u041a\\u0422\\u0410\\u041c\",\"\\u043d\\u0430\\u0441\\u0442\\u0430\\u0432\\u043b\\u0435\\u043d\\u0438\\u044f\\u043c\",\"\\u0421\\u0442\\u044d\\u043c\\u0444\\u043e\\u0440\\u0434\",\"\\u0431\\u043b\\u0435\\u043d\\u0434\\u044b\",\"\\u041c\\u0430\\u043b\\u0430\\u0439\\u0437\\u0438\\u0435\\u0439\",\"\\u043c\\u043e\\u043b\\u043e\\u0442\\u043e\\u0447\\u043a\\u0438\",\"\\u0443\\u0434\\u043e\\u0432\\u043e\\u043b\\u044c\\u0441\\u0442\\u0432\\u0438\\u044f\\u0445\",\"\\u0445\\u0430\\u0437\\u0430\\u0440\\u0435\\u0435\\u0446\",\"\\u0424\\u0440\\u043e\\u0441\\u044e\",\"\\u0416\\u041a-\\u0434\\u0438\\u0441\\u043f\\u043b\\u0435\\u0435\",\"\\u0411\\u043b\\u0430\\u0439\\u0442\\u0430\",\"\\u0438\\u043d\\u0438\\u0446\\u0438\\u0430\\u043b\\u0430\\u043c\",\"\\u0421\\u043c\\u043e\\u043b\\u044f\\u043d\\u0438\\u043d\\u043e\\u0432\",\"\\u0444\\u0438\\u0437\\u0438\\u043e\\u0442\\u0435\\u0440\\u0430\\u043f\\u0438\\u0438\",\"\\u0411\\u0415\\u0413\\u0421\\u0422\\u0412\\u041e\",\"\\u0444\\u043e\\u043b\\u0438\\u0430\\u043d\\u0442\\u0430\\u0445\",\"\\u041b\\u0438\\u0441\\u0442\\u0430\\u043d\\u0438\\u0435\",\"\\u0422\\u0440\\u0438\\u043c\\u0435\\u0441\\u0442\\u0440\\u044b\",\"\\u043d\\u043e\\u0432\\u043e\\u0431\\u0440\\u0430\\u0447\\u043d\\u043e\\u043c\\u0443\",\"\\u043d\\u0430\\u0432\\u0435\\u0434\\u0435\\u043d\\u0438\\u0438\",\"\\u0441\\u043e\\u0431\\u0430\\u0447\\u0435\\u043a\",\"\\u041d\\u0430\\u043b\\u0435\\u0442\\u0447\\u0438\\u043a\\u0430\",\"\\u041f\\u0418\\u0421\\u042c\\u041c\\u0410\\u041c\\u0418\",\"\\u041e\\u0441\\u0430\\u0434\\u043a\\u0430\",\"\\u0444\\u043e\\u0440\\u0443\\u043c\\u043e\\u0432\",\"\\u041f\\u0440\\u0430\\u0440\\u043e\\u0434\\u0438\\u0442\\u0435\\u043b\\u0435\\u0439\",\"\\u042d\\u043b\\u0441\\u043c\\u0438\\u0440\\u0430\",\"\\u0440\\u0430\\u0437\\u0440\\u0443\\u0445\\u0443\",\"\\u041c\\u0430\\u0442\\u0432\\u0435\\u0435\\u0432\\u044b\\u043c\",\"\\u0438\\u043c\\u043f\\u0443\\u043b\\u044c\\u0441\\u0435\",\"\\u0414\\u0416\\u0415\\u0424\\u0424\\u0415\\u0420\\u0421\\u041e\\u041d\",\"\\u0441\\u0438\\u043d\\u043e\\u043b\\u043e\\u0433\",\"\\u0432\\u0437\\u044f\\u0442\\u0438\\u0435\",\"\\u0421\\u0435\\u043c\\u0435\\u043d\\u0434\\u044f\\u0435\\u0432\",\"\\u0437\\u0430\\u0440\\u044f\\u0434\\u043a\\u0430\",\"\\u041f\\u0440\\u043e\\u0432\\u043e\\u043b\\u043e\\u0447\\u043a\\u0430\",\"\\u043f\\u043e\\u0434\\u0442\\u0435\\u043a\\u043e\\u0432\",\"\\u042d\\u0440\\u0435\\u0431\\u0440\\u0443\",\"\\u0437\\u0430\\u043a\\u0432\\u0430\\u0441\\u043a\\u0443\",\"\\u0412\\u0438\\u0434\\u044b\",\"\\u043f\\u043e\\u0436\\u0438\\u0440\\u0430\\u0442\\u0435\\u043b\\u044f\\u043c\\u0438\",\"\\u043f\\u043e\\u0434\\u0442\\u044f\\u0436\\u043a\\u0430\\u043c\",\"\\u041b\\u043e\\u043b\\u0438\\u0442\\u0435\",\"\\u0431\\u0435\\u043d\\u0437\\u043e\\u0432\\u043e\\u0437\\u043e\\u0432\",\"\\u0444\\u043e\\u0442\\u043e\\u0441\\u043d\\u0438\\u043c\\u043a\\u043e\\u043c\",\"\\u044d\\u043b\\u0435\\u0432\\u0430\\u0442\\u043e\\u0440\\u044b\",\"\\u0420\\u0430\\u0437\\u0434\\u0435\\u043b\\u0438\\u0442\\u0435\\u043b\\u044c\",\"\\u043f\\u043e\\u0441\\u044f\\u0433\\u0430\\u0442\\u0435\\u043b\\u044c\\u0441\\u0442\\u0432\\u0430\\u043c\\u0438\",\"\\u043f\\u0440\\u043e\\u0442\\u0438\\u0432\\u043e\\u0440\\u0435\\u0447\\u0438\\u0438\",\"\\u041f\\u041b\\u0410\\u0429\\u0418\",\"\\u0412\\u0434\\u043e\\u0432\\u0443\",\"\\u041f\\u0430\\u043a\\u0442\\u0430\\u043c\",\"\\u0413\\u0443\\u0441\\u0442\\u043e\\u0442\\u043e\\u0439\",\"\\u043f\\u0440\\u043e\\u043f\\u0443\\u0441\\u043a\\u0430\\u043d\\u0438\\u0435\\u043c\",\"\\u0440\\u0435\\u0448\\u0438\\u043c\\u043e\\u0441\\u0442\\u0438\",\"\\u041f\\u0440\\u043e\\u043b\\u0435\\u0436\\u043d\\u0435\\u0439\",\"\\u0414\\u0435\\u043a\\u043e\\u043b\\u044c\\u0442\\u0435\",\"\\u0413\\u0440\\u0430\\u0444\\u043e\\u043b\\u043e\\u0433\\u0438\",\"\\u0432\\u0435\\u0440\\u0445\\u043e\\u0432\\u044c\\u0435\",\"\\u044f\\u0434\\u043e\\u0432\\u0438\\u0442\\u043e\\u0441\\u0442\\u044c\\u044e\",\"\\u0410\\u0441\\u0442\\u043c\\u0430\\u0442\\u0438\\u043a\",\"\\u0430\\u043c\\u0435\\u0440\\u0438\\u0446\\u0438\\u044f\",\"\\u041f\\u0440\\u0435\\u0434\\u044a\\u044f\\u0432\\u043b\\u0435\\u043d\\u0438\\u044f\",\"\\u043f\\u0440\\u0438\\u0432\\u0438\\u0434\\u0435\\u043d\\u0438\\u0435\\u043c\",\"\\u043f\\u0441\\u0438\\u0445\\u043e\\u0430\\u043d\\u0430\\u043b\\u0438\\u0442\\u0438\\u043a\\u0435\",\"\\u0410\\u043b\\u043b\",\"\\u043f\\u0435\\u0440\\u0435\\u0440\\u0430\\u0441\\u0445\\u043e\\u0434\\u0430\\u0445\",\"\\u0410\\u043b\\u0430\\u043d\",\"\\u043e\\u0433\\u0440\\u0430\\u0434\\u044b\",\"\\u0414\\u041e\\u0417\\u0410\\u041c\",\"\\u043a\\u043e\\u043b\\u043e\\u0440\\u0438\\u0442\",\"\\u043f\\u0435\\u0440\\u0438\\u043c\\u0435\\u0442\\u0440\\u0430\\u043c\\u0438\",\"\\u0438\\u0441\\u0442\\u0446\\u0430\\u043c\\u0438\",\"\\u0431\\u043e\\u043d\\u0437\\u0430\\u043c\",\"\\u043e\\u0449\\u0443\\u0449\\u0435\\u043d\\u0438\\u0438\",\"\\u0444\\u0443\\u0440\\u0438\\u0438\",\"\\u0413\\u0438\\u0431\\u0440\\u0430\\u043b\\u0442\\u0430\\u0440\",\"\\u0413\\u0435\\u0431\\u0435\\u043b\\u044c\",\"\\u0441\\u0432\\u0438\\u043d\\u044c\\u0451\\u0439\",\"\\u0410\\u043b\\u0435\\u043a\\u0441\\u0435\\u0435\\u0432\\u0443\",\"\\u043f\\u043e\\u0441\\u0442\\u0430\\u043d\\u043e\\u0432\\u0449\\u0438\\u043a\\u0430\\u043c\",\"\\u044d\\u0440\\u043e\\u0442\\u0438\\u0437\\u043c\\u0443\",\"\\u0418\\u0437\\u0431\\u0438\\u0440\\u0430\\u0442\\u0435\\u043b\\u044c\",\"\\u0421\\u0422\\u042d\\u041f\",\"\\u0446\\u0435\\u043d\\u0442\\u0440\\u0438\\u0440\\u043e\\u0432\\u0430\\u043d\\u0438\\u0435\",\"\\u044d\\u0442\\u043d\\u043e\\u0433\\u0440\\u0430\\u0444\\u0443\",\"\\u0420\\u0415\\u0419\\u0422\\u0418\\u041d\\u0413\\u0423\",\"\\u0432\\u0438\\u043d\\u043e\\u0432\\u043d\\u0438\\u043a\",\"\\u0438\\u0441\\u043f\\u043e\\u043b\\u043d\\u0438\\u0442\\u0435\\u043b\\u044c\\u043d\\u0438\\u0446\\u044b\",\"\\u043c\\u0438\\u0441\\u0442\\u0438\\u0444\\u0438\\u043a\\u0430\\u0442\\u043e\\u0440\\u043e\\u0432\",\"\\u041e\\u0442\\u043a\\u0430\\u0437\",\"\\u043d\\u0430\\u0446\\u0438\\u0437\\u043c\\u043e\\u043c\",\"\\u043e\\u0431\\u0434\\u043e\\u043b\\u0431\\u0430\\u043d\\u043d\\u043e\\u0441\\u0442\\u044c\",\"\\u0436\\u0438\\u0442\\u0435\\u043b\\u0435\",\"\\u0443\\u043d\\u0438\\u0444\\u043e\\u0440\\u043c\",\"\\u0432\\u0435\\u044f\\u043b\\u043a\\u0430\",\"\\u0421\\u0431\\u043b\\u0438\\u0436\\u0435\\u043d\\u0438\\u0435\",\"\\u043a\\u043e\\u043d\\u0442\\u0440\\u0440\\u0430\\u0437\\u0432\\u0435\\u0434\\u043a\\u0435\",\"\\u0430\\u043c\\u0444\\u0435\\u0442\\u0430\\u043c\\u0438\\u043d\\u044b\",\"\\u0422\\u041b\\u0415\\u0423\\u0416\\u0410\\u041d\",\"\\u0411\\u0430\\u0440\\u0434\\u0430\\u0441\\u0435\\u044e\",\"\\u0437\\u0430\\u043a\\u043b\\u0435\\u043f\\u043a\\u0443\",\"\\u0428\\u0430\\u0442\\u0435\\u0440\",\"\\u0414\\u043d\\u0435\\u043f\\u0440\\u043e\\u043f\\u0435\\u0442\\u0440\\u043e\\u0432\\u0441\\u043a\\u0430\",\"\\u0434\\u0436\\u0435\\u043c\\u043f\\u0435\\u0440\",\"\\u0444\\u0430\\u0440\\u0438\\u0441\\u0435\\u0439\\u0441\\u0442\\u0432\\u0435\",\"\\u0440\\u0430\\u0441\\u043f\\u043b\\u044b\\u0432\\u0430\\u043d\\u0438\\u044e\",\"\\u043f\\u0435\\u0440\\u0435\\u0441\\u0435\\u043b\\u0435\\u043d\\u0438\\u044f\\u0445\",\"\\u0431\\u0435\\u043b\\u043e\\u0433\\u0432\\u0430\\u0440\\u0434\\u0435\\u0439\\u0446\\u0430\",\"\\u0434\\u0432\\u043e\\u0439\\u0441\\u0442\\u0432\\u0435\\u043d\\u043d\\u043e\\u0441\\u0442\\u0438\",\"\\u0420\\u041e\\u0423\\u041c\\u0418\\u041d\\u0413\\u0415\",\"\\u0411\\u0438\\u0440\\u043c\\u043e\\u0439\",\"\\u0414\\u0436\\u0435\\u0444\\u0444\\u0435\\u0440\\u0441\\u043e\\u043d\\u043e\\u043c\",\"\\u0412\\u0430\\u043d\\u044c\\u043a\\u0430\",\"\\u0422\\u043e\\u043b\\u0449\\u0443\",\"\\u0432\\u0442\\u0438\\u0440\\u0430\\u043d\\u0438\\u0435\",\"\\u044e\\u0441\\u0442\\u0438\\u0446\\u0438\\u044e\",\"\\u0420\\u0435\\u0439\\u043c\\u043e\\u043d\\u0434\",\"\\u0417\\u0430\\u0432\\u0430\\u0440\\u0437\\u0438\\u043d\\u0430\",\"\\u0441\\u0435\\u0434\\u043b\\u0443\",\"\\u041d\\u0438\\u043a\\u0438\\u0444\\u043e\\u0440\\u043e\\u043c\",\"\\u0421\\u0422\\u0420\\u041e\\u041f\\u042b\",\"\\u043f\\u043e\\u043c\\u0435\\u0441\\u0435\\u0439\",\"\\u0410\\u043d\\u0430\\u043b\\u0438\\u0437\\u0435\",\"\\u041e\\u0411\\u0429\\u0418\\u041d\\u0410\\u041c\\u0418\",\"\\u0438\\u0434\\u0438\\u043e\\u043c\\u0430\",\"\\u0443\\u0441\\u043c\\u043e\\u0442\\u0440\\u0435\\u043d\\u0438\\u044f\\u0445\",\"\\u0441\\u0442\\u0430\\u0440\\u043a\\u043e\\u0432\\u0441\\u043a\\u043e\\u0433\\u043e\",\"\\u0442\\u0430\\u0439\\u0446\\u0435\\u043c\",\"\\u043a\\u043e\\u043c\\u0431\\u0430\\u0442\\u0430\\u043d\\u0442\\u044b\",\"\\u0410\\u043b\\u0435\\u0441\\u043a\\u0435\\u0440\\u043e\\u0432\\u0443\",\"\\u0421\\u041e\\u0422\\u0420\\u0423\\u0414\\u041d\\u0418\\u041a\\u0410\",\"\\u043b\\u0435\\u0441\\u0435\\u043d\\u043e\\u043a\",\"\\u043f\\u043e\\u043c\\u0438\\u0434\\u043e\\u0440\\u0430\\u0445\",\"\\u041d\\u0430\\u0444\\u0442\\u0430\\u043b\\u0438\\u0435\\u0432\",\"\\u0422\\u0438\\u0440\\u0430\\u043d\\u0438\\u0435\\u0439\",\"\\u043f\\u044c\\u044f\\u043d\\u0438\\u0446\\u0430\\u0445\",\"\\u0441\\u0442\\u0430\\u043d\\u0438\\u0446\\u0443\",\"\\u0410\\u0425\\u041c\\u0410\\u0422\\u0423\\u041b\\u041b\\u0418\\u041d\",\"\\u0434\\u0435\\u0444\\u0435\\u043a\\u0442\\u044b\",\"\\u041e\\u0441\\u0432\\u043e\\u0431\\u043e\\u0434\\u0438\\u0442\\u0435\\u043b\\u0435\\u043c\",\"\\u0410\\u041a\\u0421\\u0415\\u041d\\u0427\\u0423\\u041a\",\"\\u0448\\u0435\\u043b\\u043b\",\"\\u041b\\u043e\\u043a\\u0432\\u0443\\u0434\\u0435\",\"\\u041a\\u0438\\u0441\\u0435\\u043b\\u0435\\u0432\\u0430\",\"\\u0434\\u043e\\u0431\\u043b\\u0435\\u0441\\u0442\\u044f\\u0445\",\"\\u041e\\u0411\\u041b\\u0415\\u0413\\u0427\\u0415\\u041d\\u0418\\u0415\",\"\\u044d\\u043b\\u0435\\u043a\\u0442\\u0440\\u043e\\u044d\\u043d\\u0435\\u0440\\u0433\\u0435\\u0442\\u0438\\u043a\\u0430\",\"\\u043e\\u0441\\u043b\\u0430\",\"\\u043f\\u0440\\u0438\\u0442\\u0432\\u043e\\u0440\\u0449\\u0438\\u043a\\u0430\",\"\\u041e\\u0431\\u0441\\u0443\\u0436\\u0434\\u0435\\u043d\\u0438\\u044e\",\"\\u043f\\u043e\\u0434\\u0440\\u0443\\u0433\\u043e\\u0439\",\"\\u041a\\u043e\\u0442\\u0438\\u043a\",\"\\u0441\\u0442\\u0435\\u043d\\u0434\\u043e\\u043c\",\"\\u0414\\u0435\\u0440\",\"\\u0438\\u043d\\u0441\\u0446\\u0435\\u043d\\u0438\\u0440\\u043e\\u0432\\u043a\\u0430\\u0445\",\"\\u041b\\u0430\\u0437\\u0430\\u0440\\u0435\\u0432\\u0438\\u0447\\u0430\",\"\\u0413\\u0418\\u0421\\u0422\\u0418\\u0414\\u0418\\u041d\\u0423\",\"\\u043e\\u0442\\u0446\\u0435\\u0443\\u0431\\u0438\\u0439\\u0446\\u0435\\u0439\",\"\\u0418\\u043d\\u0432\\u0430\\u0440\\u0438\\u0430\\u043d\\u0442\\u043d\\u043e\\u0441\\u0442\\u044c\",\"\\u0443\\u0431\\u043e\\u0440\\u043a\\u043e\\u0439\",\"\\u0421\\u0430\\u043d-\\u0418\\u0441\\u0438\\u0434\\u0440\\u043e\",\"\\u043f\\u0435\\u0442\\u0440\\u043e\\u0433\\u0440\\u0430\\u0444\\u0438\\u044f\",\"\\u043a\\u0440\\u0438\\u043f\\u0442\\u043e\",\"\\u041e\\u043b\\u044c\\u0445\\u043e\\u0432\\u0441\\u043a\\u0430\\u044f\",\"\\u043a\\u043e\\u043c\\u043c\\u0443\\u0442\\u0430\\u0446\\u0438\\u044f\\u043c\\u0438\",\"\\u0435\\u0441\\u0442\\u0435\\u0441\\u0442\\u0432\\u043e\\u0438\\u0441\\u043f\\u044b\\u0442\\u0430\\u0442\\u0435\\u043b\\u044c\",\"\\u043a\\u043e\\u043b\\u043b\\u0435\\u043a\\u0442\\u043e\\u0440\\u043e\\u043c\",\"\\u041a\\u0435\\u043c\",\"\\u0421\\u0442\\u044f\\u0436\\u043a\\u0430\",\"\\u0432\\u0437\\u0438\\u043c\\u0430\\u043d\\u0438\\u0438\",\"\\u0421\\u0430\\u0445\\u0430\\u0440\\u043e\\u0432\\u0435\",\"\\u041a\\u043e\\u043b\\u043b\\u0435\\u0442\\u0442\",\"\\u043f\\u043e\\u0434\\u0436\\u0438\\u0433\\u0430\\u043d\\u0438\\u0435\\u043c\",\"\\u0423\\u0412\\u0415\\u041b\\u0418\\u0427\\u0415\\u041d\\u0418\\u0415\",\"\\u041d\\u0430\\u043a\\u043b\\u0430\\u0434\\u043d\\u0430\\u044f\",\"\\u0433\\u0430\\u0443\\u043f\\u0442\\u0432\\u0430\\u0445\\u0442\\u0443\",\"\\u0425\\u0418\\u041b\\u041b\\u0410\\u0420\\u0418\",\"\\u0412\\u042b\\u041a\\u0423\\u041f\\u0410\",\"\\u0411\\u043e\\u0433\\u043e\\u0441\\u043b\\u043e\\u0432\\u0438\\u044e\",\"\\u041f\\u043b\\u0430\\u043a\\u0430\\u043b\\u044c\\u0449\\u0438\\u043a\\u0430\",\"\\u0445\\u0440\\u0430\\u043d\\u0438\\u043b\\u0438\\u0449\\u0430\\u0445\",\"\\u0421\\u043b\\u0430\\u0431\\u043e\\u0443\\u043c\\u0438\\u0435\",\"\\u043b\\u0430\\u0432\\u0438\\u043d\\u0430\",\"\\u0438\\u0441\\u043a\\u043b\\u044e\\u0447\\u0438\\u0442\\u0435\\u043b\\u044c\\u043d\\u043e\\u0441\\u0442\\u044c\",\"\\u0437\\u0430\\u0433\\u043b\\u0430\\u0432\\u0438\\u044f\\u043c\\u0438\",\"\\u041a\\u0430\\u0434\\u044c\\u044f\\u043a\\u0435\",\"\\u0431\\u043e\\u043b\\u0442\\u043b\\u0438\\u0432\\u043e\\u0441\\u0442\\u0438\",\"\\u043b\\u0438\\u0434\\u0434\\u0438\\u0442\",\"\\u0411\\u043e\\u0440\\u0446\\u0443\\u0445\\u0430\",\"\\u042d\\u0432\\u0435\\u043b\\u0438\\u043d\",\"\\u0417\\u0430\\u0440\\u0430\\u0439\\u0441\\u043a\\u0438\\u0439\",\"\\u043f\\u0430\\u0440\\u0430\\u0437\\u0438\\u0442\\u043a\\u0430\",\"\\u0433\\u043b\\u0430\\u0448\\u0430\\u0442\\u0430\\u0438\",\"\\u0411\\u043e\\u043d\\u0433\",\"\\u043a\\u043b\\u0438\\u043f\\u0435\\u0440\\u0430\\u0445\",\"\\u0420\\u0438\\u0432\\u0430\\u0441\\u0430\",\"\\u0433\\u0435\\u043d\\u0448\\u0442\\u0430\\u0431\\u0435\",\"\\u0441\\u0430\\u0440\\u0430\\u0446\\u0438\\u043d\",\"\\u043a\\u043e\\u043d\\u0443\\u0441\"],\"x\":{\"__ndarray__\":\"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\",\"dtype\":\"float32\",\"shape\":[1000]},\"y\":{\"__ndarray__\":\"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\",\"dtype\":\"float32\",\"shape\":[1000]}},\"selected\":{\"id\":\"efdbd4ff-6aaa-4133-98fd-11a4e28c656e\",\"type\":\"Selection\"},\"selection_policy\":{\"id\":\"e464b3e7-0092-4a24-9363-8b9fb25647d1\",\"type\":\"UnionRenderers\"}},\"id\":\"2b565d96-ecc5-454b-8983-75e634738837\",\"type\":\"ColumnDataSource\"},{\"attributes\":{\"below\":[{\"id\":\"b1ce2cdb-2fe7-4cd8-8957-2a2cb822ff57\",\"type\":\"LinearAxis\"}],\"left\":[{\"id\":\"af73260f-0008-46b1-90e1-577310ee40f3\",\"type\":\"LinearAxis\"}],\"plot_height\":400,\"renderers\":[{\"id\":\"b1ce2cdb-2fe7-4cd8-8957-2a2cb822ff57\",\"type\":\"LinearAxis\"},{\"id\":\"81a1bb93-e8a1-4d52-a341-0577092e3717\",\"type\":\"Grid\"},{\"id\":\"af73260f-0008-46b1-90e1-577310ee40f3\",\"type\":\"LinearAxis\"},{\"id\":\"cdc96687-e29a-4d3f-a172-d5cee7aeced5\",\"type\":\"Grid\"},{\"id\":\"f0bdce7e-9fcb-4c5e-933a-a272010e2a60\",\"type\":\"BoxAnnotation\"},{\"id\":\"0de8be3b-76b2-4f42-992f-630163c91871\",\"type\":\"GlyphRenderer\"}],\"title\":{\"id\":\"be2fd69a-2a5c-4535-af1f-15f31c1d3db2\",\"type\":\"Title\"},\"toolbar\":{\"id\":\"3d94173c-33f4-4922-bac4-48195c4b4ea4\",\"type\":\"Toolbar\"},\"x_range\":{\"id\":\"30210bc8-5b7c-4e29-9da7-e77cb9b794ce\",\"type\":\"DataRange1d\"},\"x_scale\":{\"id\":\"e120917e-6d70-4fb4-9151-3adb791cd18d\",\"type\":\"LinearScale\"},\"y_range\":{\"id\":\"c538a6c6-05b6-46f9-8b37-67ffe3d13784\",\"type\":\"DataRange1d\"},\"y_scale\":{\"id\":\"8be6c115-68f2-482a-b22c-7cfeed4b8633\",\"type\":\"LinearScale\"}},\"id\":\"fe2aff6f-10c9-4f17-8797-e23a380c219f\",\"subtype\":\"Figure\",\"type\":\"Plot\"},{\"attributes\":{\"callback\":null,\"renderers\":\"auto\",\"tooltips\":[[\"token\",\"@token\"]]},\"id\":\"7a11fc40-a6c3-4e99-af3f-7d6d2d543424\",\"type\":\"HoverTool\"},{\"attributes\":{},\"id\":\"fc26b2f6-110b-4528-8589-2bd02a068931\",\"type\":\"WheelZoomTool\"},{\"attributes\":{\"source\":{\"id\":\"2b565d96-ecc5-454b-8983-75e634738837\",\"type\":\"ColumnDataSource\"}},\"id\":\"136a5461-38ea-4fb2-a691-6e273aa5b919\",\"type\":\"CDSView\"},{\"attributes\":{\"overlay\":{\"id\":\"f0bdce7e-9fcb-4c5e-933a-a272010e2a60\",\"type\":\"BoxAnnotation\"}},\"id\":\"e9b82c41-6a0e-4bfc-878d-d8074ac9ddd7\",\"type\":\"BoxZoomTool\"},{\"attributes\":{\"data_source\":{\"id\":\"2b565d96-ecc5-454b-8983-75e634738837\",\"type\":\"ColumnDataSource\"},\"glyph\":{\"id\":\"07618ed4-e9f6-48c8-966f-175979d21c47\",\"type\":\"Circle\"},\"hover_glyph\":null,\"muted_glyph\":null,\"nonselection_glyph\":{\"id\":\"fbc9c3e8-f1b2-4600-9aaf-69e2e18e044e\",\"type\":\"Circle\"},\"selection_glyph\":null,\"view\":{\"id\":\"136a5461-38ea-4fb2-a691-6e273aa5b919\",\"type\":\"CDSView\"}},\"id\":\"0de8be3b-76b2-4f42-992f-630163c91871\",\"type\":\"GlyphRenderer\"},{\"attributes\":{},\"id\":\"ae30b8db-acbf-4ea1-ad03-4cb396f1ed11\",\"type\":\"SaveTool\"},{\"attributes\":{},\"id\":\"8be6c115-68f2-482a-b22c-7cfeed4b8633\",\"type\":\"LinearScale\"},{\"attributes\":{\"formatter\":{\"id\":\"a04f8aea-da10-4a12-8e19-7b387f5a4a9c\",\"type\":\"BasicTickFormatter\"},\"plot\":{\"id\":\"fe2aff6f-10c9-4f17-8797-e23a380c219f\",\"subtype\":\"Figure\",\"type\":\"Plot\"},\"ticker\":{\"id\":\"1355e6d2-22d3-42c0-a34e-a1dd4469f6bb\",\"type\":\"BasicTicker\"}},\"id\":\"af73260f-0008-46b1-90e1-577310ee40f3\",\"type\":\"LinearAxis\"},{\"attributes\":{},\"id\":\"3859466f-7b47-4636-bf07-e1bf4bef234b\",\"type\":\"ResetTool\"},{\"attributes\":{},\"id\":\"44859a56-1c64-4d9c-803f-3f756a44b354\",\"type\":\"HelpTool\"},{\"attributes\":{\"fill_alpha\":{\"value\":0.25},\"fill_color\":{\"field\":\"color\"},\"line_alpha\":{\"value\":0.25},\"line_color\":{\"field\":\"color\"},\"size\":{\"units\":\"screen\",\"value\":10},\"x\":{\"field\":\"x\"},\"y\":{\"field\":\"y\"}},\"id\":\"07618ed4-e9f6-48c8-966f-175979d21c47\",\"type\":\"Circle\"},{\"attributes\":{\"callback\":null},\"id\":\"c538a6c6-05b6-46f9-8b37-67ffe3d13784\",\"type\":\"DataRange1d\"},{\"attributes\":{},\"id\":\"c4b428f5-bc98-426c-b1ab-1356897bd4ac\",\"type\":\"BasicTickFormatter\"},{\"attributes\":{},\"id\":\"e464b3e7-0092-4a24-9363-8b9fb25647d1\",\"type\":\"UnionRenderers\"},{\"attributes\":{\"formatter\":{\"id\":\"c4b428f5-bc98-426c-b1ab-1356897bd4ac\",\"type\":\"BasicTickFormatter\"},\"plot\":{\"id\":\"fe2aff6f-10c9-4f17-8797-e23a380c219f\",\"subtype\":\"Figure\",\"type\":\"Plot\"},\"ticker\":{\"id\":\"c06ff85f-464d-4bdf-a7fd-1f39efa7c272\",\"type\":\"BasicTicker\"}},\"id\":\"b1ce2cdb-2fe7-4cd8-8957-2a2cb822ff57\",\"type\":\"LinearAxis\"},{\"attributes\":{},\"id\":\"c06ff85f-464d-4bdf-a7fd-1f39efa7c272\",\"type\":\"BasicTicker\"},{\"attributes\":{},\"id\":\"efdbd4ff-6aaa-4133-98fd-11a4e28c656e\",\"type\":\"Selection\"},{\"attributes\":{\"plot\":{\"id\":\"fe2aff6f-10c9-4f17-8797-e23a380c219f\",\"subtype\":\"Figure\",\"type\":\"Plot\"},\"ticker\":{\"id\":\"c06ff85f-464d-4bdf-a7fd-1f39efa7c272\",\"type\":\"BasicTicker\"}},\"id\":\"81a1bb93-e8a1-4d52-a341-0577092e3717\",\"type\":\"Grid\"},{\"attributes\":{\"callback\":null},\"id\":\"30210bc8-5b7c-4e29-9da7-e77cb9b794ce\",\"type\":\"DataRange1d\"}],\"root_ids\":[\"fe2aff6f-10c9-4f17-8797-e23a380c219f\"]},\"title\":\"Bokeh Application\",\"version\":\"0.13.0\"}};\n",
              "  var render_items = [{\"docid\":\"55c29909-6a67-4723-b8ad-3a910f506c72\",\"roots\":{\"fe2aff6f-10c9-4f17-8797-e23a380c219f\":\"f7f3f1a7-59bb-4207-8150-5b899be45198\"}}];\n",
              "  root.Bokeh.embed.embed_items_notebook(docs_json, render_items);\n",
              "\n",
              "  }\n",
              "  if (root.Bokeh !== undefined) {\n",
              "    embed_document(root);\n",
              "  } else {\n",
              "    var attempts = 0;\n",
              "    var timer = setInterval(function(root) {\n",
              "      if (root.Bokeh !== undefined) {\n",
              "        embed_document(root);\n",
              "        clearInterval(timer);\n",
              "      }\n",
              "      attempts++;\n",
              "      if (attempts > 100) {\n",
              "        console.log(\"Bokeh: ERROR: Unable to run BokehJS code because BokehJS library is missing\")\n",
              "        clearInterval(timer);\n",
              "      }\n",
              "    }, 10, root)\n",
              "  }\n",
              "})(window);"
            ],
            "application/vnd.bokehjs_exec.v0+json": ""
          },
          "metadata": {
            "tags": [],
            "application/vnd.bokehjs_exec.v0+json": {
              "id": "fe2aff6f-10c9-4f17-8797-e23a380c219f"
            }
          }
        }
      ]
    },
    {
      "metadata": {
        "id": "xOt1tcOkvDBY",
        "colab_type": "text"
      },
      "cell_type": "markdown",
      "source": [
        "### Визуализация полученных свёрток"
      ]
    },
    {
      "metadata": {
        "id": "tljoUWceE2lH",
        "colab_type": "text"
      },
      "cell_type": "markdown",
      "source": [
        "Кроме всего прочего у нас тут логистическая регрессия сверху. Можно визуализировать ее также, как в eli5.\n",
        "\n",
        "**Задание** Добиться этого."
      ]
    },
    {
      "metadata": {
        "id": "mJpHT_YkLvCf",
        "colab_type": "code",
        "colab": {}
      },
      "cell_type": "code",
      "source": [
        "model.eval()\n",
        "\n",
        "word = 'Смирнов'"
      ],
      "execution_count": 0,
      "outputs": []
    },
    {
      "metadata": {
        "id": "LNMXpgh8FNIo",
        "colab_type": "text"
      },
      "cell_type": "markdown",
      "source": [
        "Посчитайте вероятность, что слово - фамилия."
      ]
    },
    {
      "metadata": {
        "id": "Hl-VZs1mFKxM",
        "colab_type": "code",
        "outputId": "535fe4a4-7daa-47f0-af50-6998a64056fd",
        "colab": {
          "base_uri": "https://localhost:8080/",
          "height": 34
        }
      },
      "cell_type": "code",
      "source": [
        "inputs = torch.cuda.LongTensor(convert_data([word], len(word), char_index))\n",
        "prob = torch.sigmoid(model(inputs)).item()\n",
        "prob"
      ],
      "execution_count": 0,
      "outputs": [
        {
          "output_type": "execute_result",
          "data": {
            "text/plain": [
              "0.9401736259460449"
            ]
          },
          "metadata": {
            "tags": []
          },
          "execution_count": 156
        }
      ]
    },
    {
      "metadata": {
        "id": "Y2SZi1FIFj6o",
        "colab_type": "text"
      },
      "cell_type": "markdown",
      "source": [
        "Посчитайте результат свертки и пулинга"
      ]
    },
    {
      "metadata": {
        "id": "-1SdKbDFFhOk",
        "colab_type": "code",
        "outputId": "ed1e52b5-4a6d-4733-fedc-a8e1282daaef",
        "colab": {
          "base_uri": "https://localhost:8080/",
          "height": 51
        }
      },
      "cell_type": "code",
      "source": [
        "convs = model._conv3(model._embedding(inputs).unsqueeze(1))\n",
        "print(convs.shape)\n",
        "print(convs.squeeze().shape)\n",
        "maxs, positions = convs.squeeze().max(-1)"
      ],
      "execution_count": 0,
      "outputs": [
        {
          "output_type": "stream",
          "text": [
            "torch.Size([1, 128, 4, 1])\n",
            "torch.Size([128, 4])\n"
          ],
          "name": "stdout"
        }
      ]
    },
    {
      "metadata": {
        "id": "JLTu8mlfFtXJ",
        "colab_type": "text"
      },
      "cell_type": "markdown",
      "source": [
        "Домножьте выход пулинга на веса выходного слоя"
      ]
    },
    {
      "metadata": {
        "id": "ZRMkbFXdFwys",
        "colab_type": "code",
        "outputId": "c8cd5f23-a301-436a-ee24-06881e80b906",
        "colab": {
          "base_uri": "https://localhost:8080/",
          "height": 34
        }
      },
      "cell_type": "code",
      "source": [
        "linear_weights = maxs * model._out_layer.weight[0]\n",
        "linear_weights.shape"
      ],
      "execution_count": 0,
      "outputs": [
        {
          "output_type": "execute_result",
          "data": {
            "text/plain": [
              "torch.Size([128])"
            ]
          },
          "metadata": {
            "tags": []
          },
          "execution_count": 159
        }
      ]
    },
    {
      "metadata": {
        "id": "qV3dK-IzGFXh",
        "colab_type": "text"
      },
      "cell_type": "markdown",
      "source": [
        "Посчитайте веса символов: каждый фильтр прикладывается к какой-то позиции - прибавим его вес к накрываемым символам."
      ]
    },
    {
      "metadata": {
        "id": "E0y8epEgGEU8",
        "colab_type": "code",
        "outputId": "26b441ad-9636-4851-af67-c6690085137c",
        "colab": {
          "base_uri": "https://localhost:8080/",
          "height": 51
        }
      },
      "cell_type": "code",
      "source": [
        "symb_weights = np.zeros(len(word))\n",
        "for i in range(linear_weights.shape[0]):\n",
        "    symb_weights[positions[i].cpu().numpy()] += linear_weights[i].cpu().detach().numpy()\n",
        "symb_weights"
      ],
      "execution_count": 0,
      "outputs": [
        {
          "output_type": "execute_result",
          "data": {
            "text/plain": [
              "array([ 5.42058003, -3.31193678, -2.44301582,  3.08033739,  0.        ,\n",
              "        0.        ,  0.        ])"
            ]
          },
          "metadata": {
            "tags": []
          },
          "execution_count": 172
        }
      ]
    },
    {
      "metadata": {
        "id": "utVltLCUGXTy",
        "colab_type": "text"
      },
      "cell_type": "markdown",
      "source": [
        "Визуализируем это:"
      ]
    },
    {
      "metadata": {
        "id": "I2UKjz86F7fz",
        "colab_type": "code",
        "outputId": "561daa62-3090-4baf-de23-3a57b9006ec3",
        "colab": {
          "base_uri": "https://localhost:8080/",
          "height": 86
        }
      },
      "cell_type": "code",
      "source": [
        "from IPython.core.display import HTML\n",
        "\n",
        "def get_color_hex(weight):\n",
        "    cmap = plt.get_cmap(\"RdYlGn\")\n",
        "    rgba = cmap(weight, bytes=True)\n",
        "    return '#%02X%02X%02X' % rgba[:3]\n",
        "\n",
        "symb_template = '<span style=\"background-color: {color_hex}\">{symb}</span>'\n",
        "res = '<p>P(surname) = {:.2%}</p>'.format(prob)\n",
        "for symb, weight in zip(word, symb_weights):\n",
        "    res += symb_template.format(color_hex=get_color_hex(weight), symb=symb)\n",
        "res = '<p>' + res + '</p>'\n",
        "\n",
        "print(\"Последние 3 буквы в прицнипе не информативны, если что\")\n",
        "HTML(res)"
      ],
      "execution_count": 0,
      "outputs": [
        {
          "output_type": "stream",
          "text": [
            "Последние 3 буквы в прицнипе не информативны, если что\n"
          ],
          "name": "stdout"
        },
        {
          "output_type": "execute_result",
          "data": {
            "text/html": [
              "<p><p>P(surname) = 94.02%</p><span style=\"background-color: #006837\">С</span><span style=\"background-color: #A50026\">м</span><span style=\"background-color: #A50026\">и</span><span style=\"background-color: #006837\">р</span><span style=\"background-color: #A50026\">н</span><span style=\"background-color: #A50026\">о</span><span style=\"background-color: #A50026\">в</span></p>"
            ],
            "text/plain": [
              "<IPython.core.display.HTML object>"
            ]
          },
          "metadata": {
            "tags": []
          },
          "execution_count": 174
        }
      ]
    },
    {
      "metadata": {
        "id": "mGhfZsleGZi0",
        "colab_type": "text"
      },
      "cell_type": "markdown",
      "source": [
        "Объединим все в функции:"
      ]
    },
    {
      "metadata": {
        "id": "PUi51X4fQIIT",
        "colab_type": "code",
        "outputId": "7dde8a34-c671-4094-85fd-490ccb548438",
        "colab": {
          "base_uri": "https://localhost:8080/",
          "height": 69
        }
      },
      "cell_type": "code",
      "source": [
        "def calc_weights(word):\n",
        "    inputs = torch.cuda.LongTensor(convert_data([word], len(word), char_index))\n",
        "    prob = torch.sigmoid(model(inputs)).item()\n",
        "    convs = model._conv3(model._embedding(inputs).unsqueeze(1))\n",
        "    maxs, positions = convs.squeeze().max(-1)\n",
        "    linear_weights = maxs * model._out_layer.weight[0]\n",
        "    symb_weights = np.zeros(len(word))\n",
        "    for i in range(linear_weights.shape[0]):\n",
        "        symb_weights[positions[i].cpu().numpy()] += linear_weights[i].cpu().detach().numpy()\n",
        "    return prob, symb_weights\n",
        "\n",
        "def visualize(word):\n",
        "    prob, symb_weights = calc_weights(word)\n",
        "    \n",
        "    symb_template = '<span style=\"background-color: {color_hex}\">{symb}</span>'\n",
        "    res = '<p>P(surname) = {:.2%}</p>'.format(prob)\n",
        "    for symb, weight in zip(word, symb_weights):\n",
        "        res += symb_template.format(color_hex=get_color_hex(weight), symb=symb)\n",
        "    res = '<p>' + res + '</p>'\n",
        "    return HTML(res)\n",
        "\n",
        "\n",
        "visualize('Королев')"
      ],
      "execution_count": 0,
      "outputs": [
        {
          "output_type": "execute_result",
          "data": {
            "text/html": [
              "<p><p>P(surname) = 99.85%</p><span style=\"background-color: #006837\">К</span><span style=\"background-color: #A50026\">о</span><span style=\"background-color: #006837\">р</span><span style=\"background-color: #006837\">о</span><span style=\"background-color: #A50026\">л</span><span style=\"background-color: #A50026\">е</span><span style=\"background-color: #A50026\">в</span></p>"
            ],
            "text/plain": [
              "<IPython.core.display.HTML object>"
            ]
          },
          "metadata": {
            "tags": []
          },
          "execution_count": 175
        }
      ]
    },
    {
      "metadata": {
        "id": "eXee135DEJuy",
        "colab_type": "text"
      },
      "cell_type": "markdown",
      "source": [
        "## Улучшение модели"
      ]
    },
    {
      "metadata": {
        "id": "k2_8bNRyG3CF",
        "colab_type": "text"
      },
      "cell_type": "markdown",
      "source": [
        "**Задание** Для улучшение стабильности модели стоит добавить дропаут `nn.Dropout` - способ занулять часть весов на каждой эпохе для регуляризации модели. Попробуйте добавить его после эмбеддингов и после свертки (а можно еще где-нибудь).\n",
        "\n",
        "![](https://cdn-images-1.medium.com/max/1044/1*iWQzxhVlvadk6VAJjsgXgg.png =x300)\n",
        "\n",
        "\n",
        "**Задание** Другой способ регуляризовывать модель - использовать BatchNormalization (`nn.BatchNorm2d`). Попробуйте добавить его после свертки.\n",
        "\n",
        "**Задание** Еще способ улучшить модель - добавить сверток. Реализуйте модель как на картинке в начале ноутбука: со свертками на 2, 3, 4 символа."
      ]
    },
    {
      "metadata": {
        "id": "qstoDysVsSQ2",
        "colab_type": "text"
      },
      "cell_type": "markdown",
      "source": [
        "**Задание** Различают Narrow и Wide свёртки - по сути, добавляется ли нулевой паддинг или нет. Для текстов эта разница выглядит так:  \n",
        "![narrow_vs_wide](https://image.ibb.co/eqGZaS/2018_03_28_11_23_17.png)\n",
        "*From Neural Network Methods in Natural Language Processing.*\n",
        "\n",
        "Слева - паддинг отсутствует, справа - есть. Попробуйте добавить паддинг и посмотреть, что получится. Потенциально он поможет выучить хорошие префиксы слова."
      ]
    },
    {
      "metadata": {
        "id": "fj0hFVZO_lxZ",
        "colab_type": "code",
        "colab": {}
      },
      "cell_type": "code",
      "source": [
        "class DropoutConvClassifier(nn.Module):\n",
        "    def __init__(self, vocab_size, emb_dim, filters_count):\n",
        "        super().__init__()\n",
        "        \n",
        "        self._embedding = nn.Embedding(vocab_size, emb_dim)\n",
        "        self._dropout = nn.Dropout(0.2)\n",
        "        self._conv2 = nn.Sequential(\n",
        "            nn.Conv2d(in_channels=1, out_channels=filters_count, kernel_size=(2, emb_dim)),\n",
        "            nn.Dropout(0.2),\n",
        "            nn.ReLU(inplace=True),\n",
        "            nn.BatchNorm2d(filters_count)\n",
        "        )\n",
        "        self._conv3 = nn.Sequential(\n",
        "            nn.Conv2d(in_channels=1, out_channels=filters_count, kernel_size=(3, emb_dim)),\n",
        "            nn.Dropout(0.2),\n",
        "            nn.ReLU(inplace=True),\n",
        "            nn.BatchNorm2d(filters_count),\n",
        "        )\n",
        "        self._conv4 = nn.Sequential(\n",
        "            nn.Conv2d(in_channels=1, out_channels=filters_count, kernel_size=(4, emb_dim)),\n",
        "            nn.Dropout(0.2),\n",
        "            nn.ReLU(inplace=True),\n",
        "            nn.BatchNorm2d(filters_count),\n",
        "        )\n",
        "        self._out_layer = nn.Linear(filters_count * 3, 1)\n",
        "        \n",
        "    def forward(self, inputs):\n",
        "        '''\n",
        "        inputs - LongTensor with shape (batch_size, max_word_len)\n",
        "        outputs - FloatTensor with shape (batch_size,)\n",
        "        '''\n",
        "        \n",
        "        outputs = self.embed(inputs)\n",
        "        return self._out_layer(outputs).squeeze(-1)\n",
        "    \n",
        "    def embed(self, inputs):\n",
        "        outputs = self._embedding(inputs)  # shape: (batch_size, max_word_len, emb_dim)\n",
        "        outputs = self._dropout(outputs)\n",
        "        outputs = outputs.unsqueeze(1) # (batch_size, 1, max_word_len, emb_dim) \n",
        "        convs2 = self._conv2(outputs).max(dim=2)[0]\n",
        "        convs3 = self._conv3(outputs).max(dim=2)[0]\n",
        "        convs4 = self._conv4(outputs).max(dim=2)[0]\n",
        "#         print(convs2.shape, convs3.shape, convs4.shape)\n",
        "        outputs = torch.cat((convs2, convs3, convs4), dim=1)\n",
        "#         print(outputs.shape)\n",
        "        outputs = outputs.squeeze(-1) # (batch_size, filters_count)\n",
        "        return outputs\n",
        "        "
      ],
      "execution_count": 0,
      "outputs": []
    },
    {
      "metadata": {
        "id": "fKUFxSER_r2d",
        "colab_type": "code",
        "outputId": "37a7248c-9052-4460-f719-2df02d3e49a6",
        "colab": {
          "base_uri": "https://localhost:8080/",
          "height": 3417
        }
      },
      "cell_type": "code",
      "source": [
        "model = DropoutConvClassifier(len(char_index) + 1, 24, 128).cuda()\n",
        "\n",
        "criterion = nn.BCEWithLogitsLoss().cuda()\n",
        "\n",
        "optimizer = optim.Adam([param for param in model.parameters() if param.requires_grad])\n",
        "\n",
        "fit(model, criterion, optimizer, train_data=(X_train, train_labels), epochs_count=200, \n",
        "    batch_size=512, val_data=(X_test, test_labels), val_batch_size=1024)"
      ],
      "execution_count": 0,
      "outputs": [
        {
          "output_type": "stream",
          "text": [
            "Epoch 1 / 200, Epoch Time = 4.57s: Train Loss = 0.3472, Precision = 3.88%, Recall = 22.77%, F1 = 6.63%, Val Loss = 0.3018, Precision = 11.74%, Recall = 62.00%, F1 = 19.74%\n",
            "Epoch 2 / 200, Epoch Time = 4.40s: Train Loss = 0.2835, Precision = 12.04%, Recall = 67.76%, F1 = 20.45%, Val Loss = 0.2695, Precision = 32.20%, Recall = 68.44%, F1 = 43.79%\n",
            "Epoch 3 / 200, Epoch Time = 4.40s: Train Loss = 0.2600, Precision = 23.54%, Recall = 70.10%, F1 = 35.24%, Val Loss = 0.2590, Precision = 50.70%, Recall = 62.42%, F1 = 55.96%\n",
            "Epoch 4 / 200, Epoch Time = 4.42s: Train Loss = 0.2440, Precision = 33.02%, Recall = 71.29%, F1 = 45.14%, Val Loss = 0.2365, Precision = 50.85%, Recall = 66.59%, F1 = 57.67%\n",
            "Epoch 5 / 200, Epoch Time = 4.40s: Train Loss = 0.2366, Precision = 36.48%, Recall = 71.03%, F1 = 48.21%, Val Loss = 0.2400, Precision = 60.24%, Recall = 62.41%, F1 = 61.31%\n",
            "Epoch 6 / 200, Epoch Time = 4.40s: Train Loss = 0.2306, Precision = 39.00%, Recall = 71.45%, F1 = 50.46%, Val Loss = 0.2231, Precision = 56.13%, Recall = 67.86%, F1 = 61.44%\n",
            "Epoch 7 / 200, Epoch Time = 4.40s: Train Loss = 0.2239, Precision = 41.01%, Recall = 73.19%, F1 = 52.56%, Val Loss = 0.2291, Precision = 62.99%, Recall = 63.55%, F1 = 63.27%\n",
            "Epoch 8 / 200, Epoch Time = 4.41s: Train Loss = 0.2212, Precision = 43.17%, Recall = 73.28%, F1 = 54.33%, Val Loss = 0.2246, Precision = 62.59%, Recall = 64.46%, F1 = 63.51%\n",
            "Epoch 9 / 200, Epoch Time = 4.40s: Train Loss = 0.2177, Precision = 44.38%, Recall = 72.67%, F1 = 55.10%, Val Loss = 0.2261, Precision = 64.57%, Recall = 63.00%, F1 = 63.78%\n",
            "Epoch 10 / 200, Epoch Time = 4.40s: Train Loss = 0.2159, Precision = 45.45%, Recall = 72.71%, F1 = 55.94%, Val Loss = 0.2039, Precision = 55.27%, Recall = 72.52%, F1 = 62.73%\n",
            "Epoch 11 / 200, Epoch Time = 4.38s: Train Loss = 0.2121, Precision = 45.91%, Recall = 73.34%, F1 = 56.47%, Val Loss = 0.2132, Precision = 62.80%, Recall = 67.32%, F1 = 64.98%\n",
            "Epoch 12 / 200, Epoch Time = 4.44s: Train Loss = 0.2089, Precision = 46.86%, Recall = 73.54%, F1 = 57.24%, Val Loss = 0.2071, Precision = 61.07%, Recall = 69.00%, F1 = 64.79%\n",
            "Epoch 13 / 200, Epoch Time = 4.38s: Train Loss = 0.2093, Precision = 46.78%, Recall = 73.39%, F1 = 57.14%, Val Loss = 0.2165, Precision = 66.37%, Recall = 64.56%, F1 = 65.45%\n",
            "Epoch 14 / 200, Epoch Time = 4.43s: Train Loss = 0.2056, Precision = 48.57%, Recall = 74.71%, F1 = 58.87%, Val Loss = 0.2076, Precision = 63.99%, Recall = 67.19%, F1 = 65.55%\n",
            "Epoch 15 / 200, Epoch Time = 4.43s: Train Loss = 0.2032, Precision = 48.97%, Recall = 74.41%, F1 = 59.07%, Val Loss = 0.2027, Precision = 61.80%, Recall = 69.97%, F1 = 65.63%\n",
            "Epoch 16 / 200, Epoch Time = 4.43s: Train Loss = 0.2042, Precision = 49.26%, Recall = 74.80%, F1 = 59.41%, Val Loss = 0.2015, Precision = 59.94%, Recall = 69.52%, F1 = 64.37%\n",
            "Epoch 17 / 200, Epoch Time = 4.47s: Train Loss = 0.2014, Precision = 50.00%, Recall = 74.87%, F1 = 59.96%, Val Loss = 0.2097, Precision = 66.80%, Recall = 65.54%, F1 = 66.16%\n",
            "Epoch 18 / 200, Epoch Time = 4.43s: Train Loss = 0.2009, Precision = 49.97%, Recall = 74.49%, F1 = 59.81%, Val Loss = 0.2018, Precision = 64.88%, Recall = 67.73%, F1 = 66.27%\n",
            "Epoch 19 / 200, Epoch Time = 4.43s: Train Loss = 0.1983, Precision = 50.75%, Recall = 74.98%, F1 = 60.53%, Val Loss = 0.1994, Precision = 64.39%, Recall = 69.16%, F1 = 66.69%\n",
            "Epoch 20 / 200, Epoch Time = 4.44s: Train Loss = 0.1956, Precision = 51.84%, Recall = 75.63%, F1 = 61.51%, Val Loss = 0.2095, Precision = 68.78%, Recall = 64.68%, F1 = 66.67%\n",
            "Epoch 21 / 200, Epoch Time = 4.43s: Train Loss = 0.1958, Precision = 51.78%, Recall = 75.31%, F1 = 61.36%, Val Loss = 0.1988, Precision = 62.53%, Recall = 69.76%, F1 = 65.95%\n",
            "Epoch 22 / 200, Epoch Time = 4.45s: Train Loss = 0.1942, Precision = 52.64%, Recall = 75.78%, F1 = 62.12%, Val Loss = 0.1931, Precision = 62.04%, Recall = 71.25%, F1 = 66.33%\n",
            "Epoch 23 / 200, Epoch Time = 4.43s: Train Loss = 0.1928, Precision = 52.38%, Recall = 76.16%, F1 = 62.07%, Val Loss = 0.2167, Precision = 71.25%, Recall = 62.55%, F1 = 66.62%\n",
            "Epoch 24 / 200, Epoch Time = 4.45s: Train Loss = 0.1945, Precision = 53.14%, Recall = 75.87%, F1 = 62.50%, Val Loss = 0.1972, Precision = 65.12%, Recall = 68.90%, F1 = 66.96%\n",
            "Epoch 25 / 200, Epoch Time = 4.40s: Train Loss = 0.1902, Precision = 53.51%, Recall = 76.80%, F1 = 63.07%, Val Loss = 0.2040, Precision = 68.38%, Recall = 66.15%, F1 = 67.25%\n",
            "Epoch 26 / 200, Epoch Time = 4.48s: Train Loss = 0.1896, Precision = 53.74%, Recall = 76.71%, F1 = 63.20%, Val Loss = 0.2027, Precision = 68.90%, Recall = 66.33%, F1 = 67.59%\n",
            "Epoch 27 / 200, Epoch Time = 4.49s: Train Loss = 0.1903, Precision = 53.97%, Recall = 76.28%, F1 = 63.21%, Val Loss = 0.2069, Precision = 69.27%, Recall = 65.21%, F1 = 67.18%\n",
            "Epoch 28 / 200, Epoch Time = 4.51s: Train Loss = 0.1899, Precision = 54.00%, Recall = 76.58%, F1 = 63.34%, Val Loss = 0.2001, Precision = 67.87%, Recall = 67.70%, F1 = 67.78%\n",
            "Epoch 29 / 200, Epoch Time = 4.43s: Train Loss = 0.1866, Precision = 54.58%, Recall = 76.80%, F1 = 63.81%, Val Loss = 0.1983, Precision = 67.50%, Recall = 68.29%, F1 = 67.89%\n",
            "Epoch 30 / 200, Epoch Time = 4.39s: Train Loss = 0.1892, Precision = 54.08%, Recall = 75.57%, F1 = 63.04%, Val Loss = 0.1994, Precision = 67.99%, Recall = 67.47%, F1 = 67.73%\n",
            "Epoch 31 / 200, Epoch Time = 4.38s: Train Loss = 0.1878, Precision = 54.57%, Recall = 76.70%, F1 = 63.77%, Val Loss = 0.1989, Precision = 68.54%, Recall = 67.35%, F1 = 67.94%\n",
            "Epoch 32 / 200, Epoch Time = 4.43s: Train Loss = 0.1843, Precision = 55.04%, Recall = 77.11%, F1 = 64.23%, Val Loss = 0.2024, Precision = 70.06%, Recall = 65.30%, F1 = 67.60%\n",
            "Epoch 33 / 200, Epoch Time = 4.42s: Train Loss = 0.1828, Precision = 55.79%, Recall = 77.39%, F1 = 64.84%, Val Loss = 0.1969, Precision = 68.29%, Recall = 67.88%, F1 = 68.09%\n",
            "Epoch 34 / 200, Epoch Time = 4.42s: Train Loss = 0.1813, Precision = 56.97%, Recall = 78.04%, F1 = 65.86%, Val Loss = 0.2049, Precision = 71.10%, Recall = 65.32%, F1 = 68.09%\n",
            "Epoch 35 / 200, Epoch Time = 4.40s: Train Loss = 0.1851, Precision = 55.58%, Recall = 77.24%, F1 = 64.64%, Val Loss = 0.2001, Precision = 70.27%, Recall = 66.68%, F1 = 68.43%\n",
            "Epoch 36 / 200, Epoch Time = 4.46s: Train Loss = 0.1828, Precision = 56.24%, Recall = 77.46%, F1 = 65.16%, Val Loss = 0.1885, Precision = 63.90%, Recall = 72.45%, F1 = 67.91%\n",
            "Epoch 37 / 200, Epoch Time = 4.47s: Train Loss = 0.1820, Precision = 56.33%, Recall = 77.68%, F1 = 65.30%, Val Loss = 0.2047, Precision = 71.95%, Recall = 65.25%, F1 = 68.44%\n",
            "Epoch 38 / 200, Epoch Time = 4.48s: Train Loss = 0.1813, Precision = 57.36%, Recall = 77.13%, F1 = 65.79%, Val Loss = 0.1874, Precision = 63.05%, Recall = 72.38%, F1 = 67.39%\n",
            "Epoch 39 / 200, Epoch Time = 4.48s: Train Loss = 0.1837, Precision = 55.75%, Recall = 77.49%, F1 = 64.84%, Val Loss = 0.1995, Precision = 69.88%, Recall = 66.86%, F1 = 68.34%\n",
            "Epoch 40 / 200, Epoch Time = 4.49s: Train Loss = 0.1807, Precision = 57.11%, Recall = 78.22%, F1 = 66.02%, Val Loss = 0.2002, Precision = 71.52%, Recall = 66.29%, F1 = 68.81%\n",
            "Epoch 41 / 200, Epoch Time = 4.49s: Train Loss = 0.1832, Precision = 56.33%, Recall = 77.70%, F1 = 65.31%, Val Loss = 0.2043, Precision = 72.13%, Recall = 64.84%, F1 = 68.29%\n",
            "Epoch 42 / 200, Epoch Time = 4.48s: Train Loss = 0.1799, Precision = 56.74%, Recall = 77.94%, F1 = 65.67%, Val Loss = 0.1901, Precision = 66.49%, Recall = 69.88%, F1 = 68.15%\n",
            "Epoch 43 / 200, Epoch Time = 4.47s: Train Loss = 0.1785, Precision = 57.74%, Recall = 78.00%, F1 = 66.36%, Val Loss = 0.1893, Precision = 66.55%, Recall = 69.92%, F1 = 68.20%\n",
            "Epoch 44 / 200, Epoch Time = 4.48s: Train Loss = 0.1778, Precision = 57.52%, Recall = 77.80%, F1 = 66.14%, Val Loss = 0.1922, Precision = 66.71%, Recall = 69.62%, F1 = 68.13%\n",
            "Epoch 45 / 200, Epoch Time = 4.46s: Train Loss = 0.1786, Precision = 57.45%, Recall = 77.39%, F1 = 65.95%, Val Loss = 0.2032, Precision = 72.68%, Recall = 64.73%, F1 = 68.48%\n",
            "Epoch 46 / 200, Epoch Time = 4.46s: Train Loss = 0.1784, Precision = 56.97%, Recall = 78.03%, F1 = 65.86%, Val Loss = 0.1906, Precision = 67.50%, Recall = 70.11%, F1 = 68.78%\n",
            "Epoch 47 / 200, Epoch Time = 4.47s: Train Loss = 0.1771, Precision = 58.24%, Recall = 77.78%, F1 = 66.61%, Val Loss = 0.1933, Precision = 69.09%, Recall = 68.42%, F1 = 68.75%\n",
            "Epoch 48 / 200, Epoch Time = 4.47s: Train Loss = 0.1755, Precision = 58.64%, Recall = 78.57%, F1 = 67.16%, Val Loss = 0.1918, Precision = 68.66%, Recall = 69.27%, F1 = 68.96%\n",
            "Epoch 49 / 200, Epoch Time = 4.51s: Train Loss = 0.1763, Precision = 57.85%, Recall = 78.22%, F1 = 66.51%, Val Loss = 0.1910, Precision = 67.84%, Recall = 69.47%, F1 = 68.64%\n",
            "Epoch 50 / 200, Epoch Time = 4.53s: Train Loss = 0.1755, Precision = 58.37%, Recall = 78.47%, F1 = 66.94%, Val Loss = 0.1947, Precision = 69.57%, Recall = 68.00%, F1 = 68.78%\n",
            "Epoch 51 / 200, Epoch Time = 4.50s: Train Loss = 0.1744, Precision = 58.67%, Recall = 78.75%, F1 = 67.25%, Val Loss = 0.1932, Precision = 67.23%, Recall = 69.73%, F1 = 68.46%\n",
            "Epoch 52 / 200, Epoch Time = 4.51s: Train Loss = 0.1736, Precision = 58.63%, Recall = 78.74%, F1 = 67.21%, Val Loss = 0.1922, Precision = 67.77%, Recall = 69.88%, F1 = 68.81%\n",
            "Epoch 53 / 200, Epoch Time = 4.50s: Train Loss = 0.1732, Precision = 59.12%, Recall = 78.90%, F1 = 67.59%, Val Loss = 0.1894, Precision = 67.99%, Recall = 69.99%, F1 = 68.98%\n",
            "Epoch 54 / 200, Epoch Time = 4.50s: Train Loss = 0.1750, Precision = 58.37%, Recall = 78.17%, F1 = 66.83%, Val Loss = 0.1960, Precision = 71.10%, Recall = 66.97%, F1 = 68.97%\n",
            "Epoch 55 / 200, Epoch Time = 4.49s: Train Loss = 0.1738, Precision = 59.03%, Recall = 78.69%, F1 = 67.45%, Val Loss = 0.1888, Precision = 67.29%, Recall = 70.11%, F1 = 68.67%\n",
            "Epoch 56 / 200, Epoch Time = 4.47s: Train Loss = 0.1747, Precision = 58.81%, Recall = 78.06%, F1 = 67.08%, Val Loss = 0.1926, Precision = 70.37%, Recall = 68.02%, F1 = 69.17%\n",
            "Epoch 57 / 200, Epoch Time = 4.48s: Train Loss = 0.1746, Precision = 59.07%, Recall = 78.74%, F1 = 67.50%, Val Loss = 0.1957, Precision = 70.95%, Recall = 67.51%, F1 = 69.18%\n",
            "Epoch 58 / 200, Epoch Time = 4.48s: Train Loss = 0.1716, Precision = 59.94%, Recall = 79.09%, F1 = 68.20%, Val Loss = 0.1862, Precision = 67.87%, Recall = 71.78%, F1 = 69.77%\n",
            "Epoch 59 / 200, Epoch Time = 4.49s: Train Loss = 0.1758, Precision = 58.40%, Recall = 77.85%, F1 = 66.74%, Val Loss = 0.1883, Precision = 67.04%, Recall = 71.21%, F1 = 69.06%\n",
            "Epoch 60 / 200, Epoch Time = 4.47s: Train Loss = 0.1729, Precision = 58.93%, Recall = 77.76%, F1 = 67.05%, Val Loss = 0.1843, Precision = 64.57%, Recall = 73.62%, F1 = 68.80%\n",
            "Epoch 61 / 200, Epoch Time = 4.48s: Train Loss = 0.1730, Precision = 58.31%, Recall = 78.24%, F1 = 66.82%, Val Loss = 0.1926, Precision = 71.10%, Recall = 68.27%, F1 = 69.65%\n",
            "Epoch 62 / 200, Epoch Time = 4.49s: Train Loss = 0.1732, Precision = 58.67%, Recall = 78.06%, F1 = 66.99%, Val Loss = 0.1901, Precision = 67.68%, Recall = 70.39%, F1 = 69.01%\n",
            "Epoch 63 / 200, Epoch Time = 4.47s: Train Loss = 0.1720, Precision = 59.62%, Recall = 79.21%, F1 = 68.04%, Val Loss = 0.1880, Precision = 69.24%, Recall = 70.46%, F1 = 69.84%\n",
            "Epoch 64 / 200, Epoch Time = 4.49s: Train Loss = 0.1689, Precision = 59.93%, Recall = 78.61%, F1 = 68.01%, Val Loss = 0.1873, Precision = 67.07%, Recall = 70.92%, F1 = 68.94%\n",
            "Epoch 65 / 200, Epoch Time = 4.45s: Train Loss = 0.1724, Precision = 59.15%, Recall = 78.04%, F1 = 67.29%, Val Loss = 0.1861, Precision = 66.37%, Recall = 72.30%, F1 = 69.21%\n",
            "Epoch 66 / 200, Epoch Time = 4.49s: Train Loss = 0.1711, Precision = 59.13%, Recall = 79.37%, F1 = 67.77%, Val Loss = 0.1907, Precision = 69.27%, Recall = 69.46%, F1 = 69.36%\n",
            "Epoch 67 / 200, Epoch Time = 4.49s: Train Loss = 0.1699, Precision = 59.59%, Recall = 79.00%, F1 = 67.94%, Val Loss = 0.1883, Precision = 68.02%, Recall = 70.58%, F1 = 69.27%\n",
            "Epoch 68 / 200, Epoch Time = 4.48s: Train Loss = 0.1703, Precision = 60.50%, Recall = 78.80%, F1 = 68.45%, Val Loss = 0.1881, Precision = 68.66%, Recall = 70.31%, F1 = 69.47%\n",
            "Epoch 69 / 200, Epoch Time = 4.51s: Train Loss = 0.1703, Precision = 59.53%, Recall = 79.01%, F1 = 67.90%, Val Loss = 0.1856, Precision = 66.89%, Recall = 72.62%, F1 = 69.64%\n",
            "Epoch 70 / 200, Epoch Time = 4.47s: Train Loss = 0.1683, Precision = 60.11%, Recall = 79.25%, F1 = 68.37%, Val Loss = 0.1862, Precision = 67.23%, Recall = 71.96%, F1 = 69.51%\n",
            "Epoch 71 / 200, Epoch Time = 4.43s: Train Loss = 0.1705, Precision = 59.73%, Recall = 78.99%, F1 = 68.02%, Val Loss = 0.1929, Precision = 70.30%, Recall = 68.86%, F1 = 69.57%\n",
            "Epoch 72 / 200, Epoch Time = 4.46s: Train Loss = 0.1694, Precision = 59.79%, Recall = 79.24%, F1 = 68.16%, Val Loss = 0.1884, Precision = 68.93%, Recall = 70.70%, F1 = 69.81%\n",
            "Epoch 73 / 200, Epoch Time = 4.46s: Train Loss = 0.1697, Precision = 60.21%, Recall = 79.25%, F1 = 68.43%, Val Loss = 0.1922, Precision = 70.18%, Recall = 67.89%, F1 = 69.02%\n",
            "Epoch 74 / 200, Epoch Time = 4.46s: Train Loss = 0.1686, Precision = 60.74%, Recall = 79.63%, F1 = 68.92%, Val Loss = 0.1932, Precision = 69.15%, Recall = 68.31%, F1 = 68.73%\n",
            "Epoch 75 / 200, Epoch Time = 4.47s: Train Loss = 0.1692, Precision = 59.99%, Recall = 78.88%, F1 = 68.15%, Val Loss = 0.1836, Precision = 65.15%, Recall = 73.36%, F1 = 69.01%\n",
            "Epoch 76 / 200, Epoch Time = 4.46s: Train Loss = 0.1670, Precision = 61.17%, Recall = 78.92%, F1 = 68.92%, Val Loss = 0.1851, Precision = 66.92%, Recall = 72.42%, F1 = 69.56%\n",
            "Epoch 77 / 200, Epoch Time = 4.46s: Train Loss = 0.1668, Precision = 60.54%, Recall = 79.32%, F1 = 68.67%, Val Loss = 0.1909, Precision = 70.55%, Recall = 69.07%, F1 = 69.80%\n",
            "Epoch 78 / 200, Epoch Time = 4.46s: Train Loss = 0.1702, Precision = 60.11%, Recall = 78.71%, F1 = 68.17%, Val Loss = 0.1928, Precision = 71.22%, Recall = 67.97%, F1 = 69.55%\n",
            "Epoch 79 / 200, Epoch Time = 4.46s: Train Loss = 0.1668, Precision = 61.28%, Recall = 79.46%, F1 = 69.19%, Val Loss = 0.1854, Precision = 67.77%, Recall = 71.18%, F1 = 69.44%\n",
            "Epoch 80 / 200, Epoch Time = 4.42s: Train Loss = 0.1661, Precision = 60.99%, Recall = 80.10%, F1 = 69.25%, Val Loss = 0.1944, Precision = 72.65%, Recall = 67.28%, F1 = 69.86%\n",
            "Epoch 81 / 200, Epoch Time = 4.45s: Train Loss = 0.1687, Precision = 60.82%, Recall = 78.88%, F1 = 68.68%, Val Loss = 0.1881, Precision = 70.00%, Recall = 69.81%, F1 = 69.90%\n",
            "Epoch 82 / 200, Epoch Time = 4.45s: Train Loss = 0.1680, Precision = 61.14%, Recall = 79.29%, F1 = 69.04%, Val Loss = 0.1902, Precision = 69.57%, Recall = 69.79%, F1 = 69.68%\n",
            "Epoch 83 / 200, Epoch Time = 4.44s: Train Loss = 0.1653, Precision = 61.11%, Recall = 79.39%, F1 = 69.06%, Val Loss = 0.1838, Precision = 67.07%, Recall = 72.23%, F1 = 69.55%\n",
            "Epoch 84 / 200, Epoch Time = 4.44s: Train Loss = 0.1681, Precision = 60.60%, Recall = 79.16%, F1 = 68.65%, Val Loss = 0.1865, Precision = 69.12%, Recall = 70.73%, F1 = 69.92%\n",
            "Epoch 85 / 200, Epoch Time = 4.48s: Train Loss = 0.1674, Precision = 60.91%, Recall = 79.21%, F1 = 68.87%, Val Loss = 0.1874, Precision = 68.48%, Recall = 71.14%, F1 = 69.78%\n",
            "Epoch 86 / 200, Epoch Time = 4.53s: Train Loss = 0.1663, Precision = 61.28%, Recall = 79.53%, F1 = 69.22%, Val Loss = 0.1892, Precision = 71.13%, Recall = 69.33%, F1 = 70.22%\n",
            "Epoch 87 / 200, Epoch Time = 4.51s: Train Loss = 0.1661, Precision = 60.89%, Recall = 79.05%, F1 = 68.80%, Val Loss = 0.1869, Precision = 69.85%, Recall = 70.62%, F1 = 70.23%\n",
            "Epoch 88 / 200, Epoch Time = 4.52s: Train Loss = 0.1654, Precision = 60.40%, Recall = 79.49%, F1 = 68.65%, Val Loss = 0.1840, Precision = 67.90%, Recall = 71.91%, F1 = 69.84%\n",
            "Epoch 89 / 200, Epoch Time = 4.51s: Train Loss = 0.1648, Precision = 61.39%, Recall = 79.82%, F1 = 69.40%, Val Loss = 0.1829, Precision = 67.13%, Recall = 72.77%, F1 = 69.84%\n",
            "Epoch 90 / 200, Epoch Time = 4.53s: Train Loss = 0.1646, Precision = 61.45%, Recall = 80.12%, F1 = 69.55%, Val Loss = 0.1857, Precision = 68.20%, Recall = 71.42%, F1 = 69.78%\n",
            "Epoch 91 / 200, Epoch Time = 4.51s: Train Loss = 0.1653, Precision = 61.49%, Recall = 78.95%, F1 = 69.14%, Val Loss = 0.1821, Precision = 66.74%, Recall = 73.31%, F1 = 69.87%\n",
            "Epoch 92 / 200, Epoch Time = 4.54s: Train Loss = 0.1627, Precision = 61.62%, Recall = 79.50%, F1 = 69.42%, Val Loss = 0.1866, Precision = 68.93%, Recall = 70.83%, F1 = 69.87%\n",
            "Epoch 93 / 200, Epoch Time = 4.52s: Train Loss = 0.1616, Precision = 62.11%, Recall = 79.53%, F1 = 69.75%, Val Loss = 0.1824, Precision = 68.41%, Recall = 72.29%, F1 = 70.30%\n",
            "Epoch 94 / 200, Epoch Time = 4.52s: Train Loss = 0.1650, Precision = 61.48%, Recall = 79.30%, F1 = 69.26%, Val Loss = 0.1824, Precision = 67.96%, Recall = 73.32%, F1 = 70.54%\n",
            "Epoch 95 / 200, Epoch Time = 4.55s: Train Loss = 0.1634, Precision = 61.32%, Recall = 79.83%, F1 = 69.36%, Val Loss = 0.1879, Precision = 70.21%, Recall = 70.30%, F1 = 70.26%\n",
            "Epoch 96 / 200, Epoch Time = 4.56s: Train Loss = 0.1654, Precision = 62.66%, Recall = 79.57%, F1 = 70.11%, Val Loss = 0.1863, Precision = 70.40%, Recall = 70.23%, F1 = 70.31%\n",
            "Epoch 97 / 200, Epoch Time = 4.58s: Train Loss = 0.1665, Precision = 61.55%, Recall = 79.64%, F1 = 69.44%, Val Loss = 0.1833, Precision = 67.77%, Recall = 72.43%, F1 = 70.03%\n",
            "Epoch 98 / 200, Epoch Time = 4.55s: Train Loss = 0.1647, Precision = 61.69%, Recall = 79.41%, F1 = 69.44%, Val Loss = 0.1877, Precision = 71.22%, Recall = 69.84%, F1 = 70.52%\n",
            "Epoch 99 / 200, Epoch Time = 4.50s: Train Loss = 0.1640, Precision = 61.62%, Recall = 80.20%, F1 = 69.69%, Val Loss = 0.1829, Precision = 68.93%, Recall = 72.01%, F1 = 70.44%\n",
            "Epoch 100 / 200, Epoch Time = 4.51s: Train Loss = 0.1631, Precision = 62.34%, Recall = 79.59%, F1 = 69.91%, Val Loss = 0.1858, Precision = 69.33%, Recall = 70.69%, F1 = 70.00%\n",
            "Epoch 101 / 200, Epoch Time = 4.51s: Train Loss = 0.1614, Precision = 61.95%, Recall = 79.90%, F1 = 69.79%, Val Loss = 0.1881, Precision = 70.52%, Recall = 69.19%, F1 = 69.85%\n",
            "Epoch 102 / 200, Epoch Time = 4.50s: Train Loss = 0.1618, Precision = 62.90%, Recall = 80.00%, F1 = 70.43%, Val Loss = 0.1825, Precision = 67.50%, Recall = 72.92%, F1 = 70.11%\n",
            "Epoch 103 / 200, Epoch Time = 4.50s: Train Loss = 0.1608, Precision = 62.55%, Recall = 80.32%, F1 = 70.33%, Val Loss = 0.1822, Precision = 67.77%, Recall = 72.20%, F1 = 69.92%\n",
            "Epoch 104 / 200, Epoch Time = 4.50s: Train Loss = 0.1630, Precision = 62.63%, Recall = 80.22%, F1 = 70.34%, Val Loss = 0.1863, Precision = 69.57%, Recall = 70.37%, F1 = 69.97%\n",
            "Epoch 105 / 200, Epoch Time = 4.49s: Train Loss = 0.1624, Precision = 61.86%, Recall = 79.42%, F1 = 69.55%, Val Loss = 0.1816, Precision = 67.29%, Recall = 73.01%, F1 = 70.03%\n",
            "Epoch 106 / 200, Epoch Time = 4.49s: Train Loss = 0.1617, Precision = 62.70%, Recall = 79.60%, F1 = 70.15%, Val Loss = 0.1810, Precision = 66.59%, Recall = 73.41%, F1 = 69.83%\n",
            "Epoch 107 / 200, Epoch Time = 4.49s: Train Loss = 0.1633, Precision = 61.71%, Recall = 78.99%, F1 = 69.29%, Val Loss = 0.1834, Precision = 68.05%, Recall = 72.23%, F1 = 70.08%\n",
            "Epoch 108 / 200, Epoch Time = 4.48s: Train Loss = 0.1614, Precision = 62.50%, Recall = 80.11%, F1 = 70.22%, Val Loss = 0.1822, Precision = 67.62%, Recall = 72.25%, F1 = 69.86%\n",
            "Epoch 109 / 200, Epoch Time = 4.50s: Train Loss = 0.1609, Precision = 62.50%, Recall = 80.22%, F1 = 70.26%, Val Loss = 0.1839, Precision = 68.60%, Recall = 71.59%, F1 = 70.06%\n",
            "Epoch 110 / 200, Epoch Time = 4.50s: Train Loss = 0.1618, Precision = 62.64%, Recall = 79.80%, F1 = 70.19%, Val Loss = 0.1839, Precision = 67.35%, Recall = 72.00%, F1 = 69.60%\n",
            "Epoch 111 / 200, Epoch Time = 4.48s: Train Loss = 0.1628, Precision = 62.84%, Recall = 79.74%, F1 = 70.29%, Val Loss = 0.1826, Precision = 67.59%, Recall = 72.14%, F1 = 69.79%\n",
            "Epoch 112 / 200, Epoch Time = 4.51s: Train Loss = 0.1609, Precision = 62.70%, Recall = 80.69%, F1 = 70.57%, Val Loss = 0.1820, Precision = 66.28%, Recall = 73.22%, F1 = 69.58%\n",
            "Epoch 113 / 200, Epoch Time = 4.47s: Train Loss = 0.1593, Precision = 62.89%, Recall = 80.41%, F1 = 70.58%, Val Loss = 0.1808, Precision = 64.94%, Recall = 73.42%, F1 = 68.92%\n",
            "Epoch 114 / 200, Epoch Time = 4.49s: Train Loss = 0.1601, Precision = 63.06%, Recall = 80.54%, F1 = 70.73%, Val Loss = 0.1832, Precision = 68.11%, Recall = 71.86%, F1 = 69.93%\n",
            "Epoch 115 / 200, Epoch Time = 4.49s: Train Loss = 0.1611, Precision = 63.01%, Recall = 79.54%, F1 = 70.31%, Val Loss = 0.1855, Precision = 69.85%, Recall = 70.78%, F1 = 70.31%\n",
            "Epoch 116 / 200, Epoch Time = 4.50s: Train Loss = 0.1590, Precision = 62.96%, Recall = 80.11%, F1 = 70.51%, Val Loss = 0.1824, Precision = 66.65%, Recall = 72.89%, F1 = 69.63%\n",
            "Epoch 117 / 200, Epoch Time = 4.50s: Train Loss = 0.1609, Precision = 62.84%, Recall = 80.19%, F1 = 70.46%, Val Loss = 0.1798, Precision = 58.84%, Recall = 79.20%, F1 = 67.52%\n",
            "Epoch 118 / 200, Epoch Time = 4.51s: Train Loss = 0.1607, Precision = 62.47%, Recall = 80.68%, F1 = 70.42%, Val Loss = 0.1848, Precision = 70.09%, Recall = 70.80%, F1 = 70.45%\n",
            "Epoch 119 / 200, Epoch Time = 4.49s: Train Loss = 0.1599, Precision = 63.47%, Recall = 79.65%, F1 = 70.65%, Val Loss = 0.1803, Precision = 66.98%, Recall = 73.04%, F1 = 69.88%\n",
            "Epoch 120 / 200, Epoch Time = 4.49s: Train Loss = 0.1616, Precision = 62.35%, Recall = 79.85%, F1 = 70.02%, Val Loss = 0.1864, Precision = 70.52%, Recall = 70.22%, F1 = 70.37%\n",
            "Epoch 121 / 200, Epoch Time = 4.49s: Train Loss = 0.1606, Precision = 62.64%, Recall = 79.77%, F1 = 70.17%, Val Loss = 0.1829, Precision = 67.13%, Recall = 72.67%, F1 = 69.79%\n",
            "Epoch 122 / 200, Epoch Time = 4.50s: Train Loss = 0.1589, Precision = 63.29%, Recall = 80.37%, F1 = 70.81%, Val Loss = 0.1783, Precision = 63.66%, Recall = 76.79%, F1 = 69.61%\n",
            "Epoch 123 / 200, Epoch Time = 4.52s: Train Loss = 0.1589, Precision = 63.06%, Recall = 80.21%, F1 = 70.61%, Val Loss = 0.1807, Precision = 67.13%, Recall = 73.42%, F1 = 70.14%\n",
            "Epoch 124 / 200, Epoch Time = 4.49s: Train Loss = 0.1615, Precision = 62.76%, Recall = 80.06%, F1 = 70.37%, Val Loss = 0.1836, Precision = 69.05%, Recall = 71.72%, F1 = 70.36%\n",
            "Epoch 125 / 200, Epoch Time = 4.51s: Train Loss = 0.1603, Precision = 63.21%, Recall = 79.43%, F1 = 70.40%, Val Loss = 0.1791, Precision = 63.05%, Recall = 76.31%, F1 = 69.05%\n",
            "Epoch 126 / 200, Epoch Time = 4.52s: Train Loss = 0.1599, Precision = 63.06%, Recall = 80.04%, F1 = 70.54%, Val Loss = 0.1809, Precision = 67.84%, Recall = 72.88%, F1 = 70.27%\n",
            "Epoch 127 / 200, Epoch Time = 4.50s: Train Loss = 0.1578, Precision = 63.10%, Recall = 80.15%, F1 = 70.61%, Val Loss = 0.1820, Precision = 69.42%, Recall = 71.60%, F1 = 70.50%\n",
            "Epoch 128 / 200, Epoch Time = 4.51s: Train Loss = 0.1589, Precision = 62.90%, Recall = 79.93%, F1 = 70.40%, Val Loss = 0.1795, Precision = 64.39%, Recall = 74.97%, F1 = 69.28%\n",
            "Epoch 129 / 200, Epoch Time = 4.50s: Train Loss = 0.1592, Precision = 62.99%, Recall = 80.50%, F1 = 70.68%, Val Loss = 0.1833, Precision = 68.69%, Recall = 72.33%, F1 = 70.46%\n",
            "Epoch 130 / 200, Epoch Time = 4.51s: Train Loss = 0.1596, Precision = 62.83%, Recall = 79.89%, F1 = 70.34%, Val Loss = 0.1828, Precision = 67.65%, Recall = 72.56%, F1 = 70.02%\n",
            "Epoch 131 / 200, Epoch Time = 4.51s: Train Loss = 0.1622, Precision = 62.63%, Recall = 79.59%, F1 = 70.10%, Val Loss = 0.1861, Precision = 69.82%, Recall = 70.59%, F1 = 70.20%\n",
            "Epoch 132 / 200, Epoch Time = 4.52s: Train Loss = 0.1592, Precision = 63.12%, Recall = 80.09%, F1 = 70.60%, Val Loss = 0.1815, Precision = 67.74%, Recall = 72.57%, F1 = 70.07%\n",
            "Epoch 133 / 200, Epoch Time = 4.52s: Train Loss = 0.1612, Precision = 63.33%, Recall = 79.83%, F1 = 70.63%, Val Loss = 0.1816, Precision = 68.11%, Recall = 72.37%, F1 = 70.17%\n",
            "Epoch 134 / 200, Epoch Time = 4.49s: Train Loss = 0.1595, Precision = 63.53%, Recall = 79.88%, F1 = 70.78%, Val Loss = 0.1824, Precision = 69.02%, Recall = 72.10%, F1 = 70.53%\n",
            "Epoch 135 / 200, Epoch Time = 4.48s: Train Loss = 0.1584, Precision = 63.71%, Recall = 80.27%, F1 = 71.04%, Val Loss = 0.1842, Precision = 69.66%, Recall = 71.68%, F1 = 70.66%\n",
            "Epoch 136 / 200, Epoch Time = 4.44s: Train Loss = 0.1596, Precision = 63.44%, Recall = 80.50%, F1 = 70.96%, Val Loss = 0.1802, Precision = 66.59%, Recall = 74.08%, F1 = 70.13%\n",
            "Epoch 137 / 200, Epoch Time = 4.44s: Train Loss = 0.1595, Precision = 62.95%, Recall = 79.41%, F1 = 70.23%, Val Loss = 0.1805, Precision = 67.32%, Recall = 73.70%, F1 = 70.36%\n",
            "Epoch 138 / 200, Epoch Time = 4.41s: Train Loss = 0.1595, Precision = 63.27%, Recall = 80.02%, F1 = 70.67%, Val Loss = 0.1859, Precision = 70.91%, Recall = 69.95%, F1 = 70.43%\n",
            "Epoch 139 / 200, Epoch Time = 4.46s: Train Loss = 0.1564, Precision = 63.70%, Recall = 80.70%, F1 = 71.20%, Val Loss = 0.1805, Precision = 68.54%, Recall = 72.85%, F1 = 70.63%\n",
            "Epoch 140 / 200, Epoch Time = 4.45s: Train Loss = 0.1575, Precision = 64.01%, Recall = 80.13%, F1 = 71.16%, Val Loss = 0.1816, Precision = 67.93%, Recall = 72.67%, F1 = 70.22%\n",
            "Epoch 141 / 200, Epoch Time = 4.42s: Train Loss = 0.1588, Precision = 63.64%, Recall = 80.97%, F1 = 71.27%, Val Loss = 0.1872, Precision = 71.86%, Recall = 69.41%, F1 = 70.61%\n",
            "Epoch 142 / 200, Epoch Time = 4.41s: Train Loss = 0.1593, Precision = 63.39%, Recall = 80.39%, F1 = 70.89%, Val Loss = 0.1786, Precision = 66.92%, Recall = 74.28%, F1 = 70.41%\n",
            "Epoch 143 / 200, Epoch Time = 4.41s: Train Loss = 0.1583, Precision = 63.70%, Recall = 80.94%, F1 = 71.29%, Val Loss = 0.1802, Precision = 67.04%, Recall = 73.30%, F1 = 70.03%\n",
            "Epoch 144 / 200, Epoch Time = 4.44s: Train Loss = 0.1568, Precision = 64.70%, Recall = 80.90%, F1 = 71.89%, Val Loss = 0.1791, Precision = 66.37%, Recall = 73.97%, F1 = 69.97%\n",
            "Epoch 145 / 200, Epoch Time = 4.43s: Train Loss = 0.1568, Precision = 64.14%, Recall = 80.47%, F1 = 71.38%, Val Loss = 0.1811, Precision = 68.08%, Recall = 72.69%, F1 = 70.31%\n",
            "Epoch 146 / 200, Epoch Time = 4.41s: Train Loss = 0.1586, Precision = 63.39%, Recall = 79.86%, F1 = 70.68%, Val Loss = 0.1804, Precision = 65.43%, Recall = 74.49%, F1 = 69.66%\n",
            "Epoch 147 / 200, Epoch Time = 4.43s: Train Loss = 0.1556, Precision = 64.05%, Recall = 80.73%, F1 = 71.43%, Val Loss = 0.1808, Precision = 68.41%, Recall = 72.62%, F1 = 70.46%\n",
            "Epoch 148 / 200, Epoch Time = 4.41s: Train Loss = 0.1562, Precision = 64.50%, Recall = 80.32%, F1 = 71.55%, Val Loss = 0.1841, Precision = 69.94%, Recall = 70.93%, F1 = 70.43%\n",
            "Epoch 149 / 200, Epoch Time = 4.41s: Train Loss = 0.1577, Precision = 63.70%, Recall = 80.69%, F1 = 71.19%, Val Loss = 0.1809, Precision = 67.07%, Recall = 73.41%, F1 = 70.10%\n",
            "Epoch 150 / 200, Epoch Time = 4.42s: Train Loss = 0.1555, Precision = 64.34%, Recall = 80.70%, F1 = 71.60%, Val Loss = 0.1827, Precision = 69.30%, Recall = 72.23%, F1 = 70.73%\n",
            "Epoch 151 / 200, Epoch Time = 4.40s: Train Loss = 0.1570, Precision = 64.31%, Recall = 81.37%, F1 = 71.84%, Val Loss = 0.1873, Precision = 70.91%, Recall = 69.41%, F1 = 70.16%\n",
            "Epoch 152 / 200, Epoch Time = 4.42s: Train Loss = 0.1576, Precision = 64.07%, Recall = 80.31%, F1 = 71.28%, Val Loss = 0.1793, Precision = 66.04%, Recall = 75.47%, F1 = 70.44%\n",
            "Epoch 153 / 200, Epoch Time = 4.41s: Train Loss = 0.1563, Precision = 64.83%, Recall = 80.79%, F1 = 71.94%, Val Loss = 0.1786, Precision = 60.52%, Recall = 78.55%, F1 = 68.37%\n",
            "Epoch 154 / 200, Epoch Time = 4.40s: Train Loss = 0.1574, Precision = 63.48%, Recall = 80.34%, F1 = 70.92%, Val Loss = 0.1822, Precision = 68.38%, Recall = 72.33%, F1 = 70.30%\n",
            "Epoch 155 / 200, Epoch Time = 4.40s: Train Loss = 0.1560, Precision = 63.73%, Recall = 80.09%, F1 = 70.98%, Val Loss = 0.1786, Precision = 66.28%, Recall = 74.89%, F1 = 70.32%\n",
            "Epoch 156 / 200, Epoch Time = 4.38s: Train Loss = 0.1536, Precision = 64.27%, Recall = 80.87%, F1 = 71.62%, Val Loss = 0.1791, Precision = 65.46%, Recall = 74.73%, F1 = 69.79%\n",
            "Epoch 157 / 200, Epoch Time = 4.40s: Train Loss = 0.1565, Precision = 63.73%, Recall = 80.43%, F1 = 71.11%, Val Loss = 0.1813, Precision = 67.87%, Recall = 73.10%, F1 = 70.39%\n",
            "Epoch 158 / 200, Epoch Time = 4.40s: Train Loss = 0.1557, Precision = 64.33%, Recall = 80.58%, F1 = 71.54%, Val Loss = 0.1781, Precision = 65.82%, Recall = 75.04%, F1 = 70.13%\n",
            "Epoch 159 / 200, Epoch Time = 4.39s: Train Loss = 0.1566, Precision = 64.37%, Recall = 80.51%, F1 = 71.54%, Val Loss = 0.1795, Precision = 66.83%, Recall = 73.58%, F1 = 70.04%\n",
            "Epoch 160 / 200, Epoch Time = 4.41s: Train Loss = 0.1541, Precision = 64.48%, Recall = 81.11%, F1 = 71.85%, Val Loss = 0.1821, Precision = 67.99%, Recall = 72.88%, F1 = 70.35%\n",
            "Epoch 161 / 200, Epoch Time = 4.42s: Train Loss = 0.1564, Precision = 64.27%, Recall = 80.45%, F1 = 71.45%, Val Loss = 0.1858, Precision = 70.70%, Recall = 70.06%, F1 = 70.38%\n",
            "Epoch 162 / 200, Epoch Time = 4.43s: Train Loss = 0.1560, Precision = 64.34%, Recall = 80.26%, F1 = 71.42%, Val Loss = 0.1818, Precision = 67.96%, Recall = 72.46%, F1 = 70.14%\n",
            "Epoch 163 / 200, Epoch Time = 4.46s: Train Loss = 0.1580, Precision = 63.85%, Recall = 80.24%, F1 = 71.12%, Val Loss = 0.1856, Precision = 71.34%, Recall = 70.38%, F1 = 70.86%\n",
            "Epoch 164 / 200, Epoch Time = 4.44s: Train Loss = 0.1552, Precision = 64.34%, Recall = 80.26%, F1 = 71.42%, Val Loss = 0.1811, Precision = 68.54%, Recall = 72.40%, F1 = 70.42%\n",
            "Epoch 165 / 200, Epoch Time = 4.45s: Train Loss = 0.1540, Precision = 65.09%, Recall = 81.50%, F1 = 72.38%, Val Loss = 0.1870, Precision = 70.52%, Recall = 70.39%, F1 = 70.45%\n",
            "Epoch 166 / 200, Epoch Time = 4.50s: Train Loss = 0.1535, Precision = 64.79%, Recall = 80.76%, F1 = 71.90%, Val Loss = 0.1817, Precision = 68.08%, Recall = 72.59%, F1 = 70.26%\n",
            "Epoch 167 / 200, Epoch Time = 4.49s: Train Loss = 0.1542, Precision = 64.73%, Recall = 80.52%, F1 = 71.76%, Val Loss = 0.1823, Precision = 69.42%, Recall = 72.29%, F1 = 70.82%\n",
            "Epoch 168 / 200, Epoch Time = 4.45s: Train Loss = 0.1556, Precision = 64.07%, Recall = 80.82%, F1 = 71.48%, Val Loss = 0.1838, Precision = 69.91%, Recall = 71.39%, F1 = 70.64%\n",
            "Epoch 169 / 200, Epoch Time = 4.39s: Train Loss = 0.1552, Precision = 63.97%, Recall = 80.40%, F1 = 71.25%, Val Loss = 0.1849, Precision = 70.18%, Recall = 70.83%, F1 = 70.51%\n",
            "Epoch 170 / 200, Epoch Time = 4.42s: Train Loss = 0.1551, Precision = 64.57%, Recall = 80.47%, F1 = 71.65%, Val Loss = 0.1800, Precision = 66.34%, Recall = 74.73%, F1 = 70.28%\n",
            "Epoch 171 / 200, Epoch Time = 4.46s: Train Loss = 0.1570, Precision = 63.29%, Recall = 79.95%, F1 = 70.65%, Val Loss = 0.1792, Precision = 66.40%, Recall = 74.61%, F1 = 70.27%\n",
            "Epoch 172 / 200, Epoch Time = 4.45s: Train Loss = 0.1541, Precision = 64.53%, Recall = 80.36%, F1 = 71.58%, Val Loss = 0.1796, Precision = 67.04%, Recall = 74.19%, F1 = 70.44%\n",
            "Epoch 173 / 200, Epoch Time = 4.41s: Train Loss = 0.1527, Precision = 65.02%, Recall = 81.60%, F1 = 72.37%, Val Loss = 0.1796, Precision = 66.52%, Recall = 75.06%, F1 = 70.53%\n",
            "Epoch 174 / 200, Epoch Time = 4.42s: Train Loss = 0.1547, Precision = 64.77%, Recall = 80.98%, F1 = 71.97%, Val Loss = 0.1812, Precision = 69.02%, Recall = 72.47%, F1 = 70.71%\n",
            "Epoch 175 / 200, Epoch Time = 4.41s: Train Loss = 0.1544, Precision = 64.83%, Recall = 80.19%, F1 = 71.70%, Val Loss = 0.1794, Precision = 66.40%, Recall = 74.77%, F1 = 70.34%\n",
            "Epoch 176 / 200, Epoch Time = 4.43s: Train Loss = 0.1533, Precision = 65.03%, Recall = 80.82%, F1 = 72.07%, Val Loss = 0.1804, Precision = 67.68%, Recall = 73.22%, F1 = 70.34%\n",
            "Epoch 177 / 200, Epoch Time = 4.43s: Train Loss = 0.1539, Precision = 64.76%, Recall = 81.32%, F1 = 72.10%, Val Loss = 0.1858, Precision = 71.55%, Recall = 70.16%, F1 = 70.85%\n",
            "Epoch 178 / 200, Epoch Time = 4.40s: Train Loss = 0.1545, Precision = 64.91%, Recall = 80.56%, F1 = 71.89%, Val Loss = 0.1786, Precision = 66.13%, Recall = 74.90%, F1 = 70.24%\n",
            "Epoch 179 / 200, Epoch Time = 4.43s: Train Loss = 0.1549, Precision = 63.88%, Recall = 80.51%, F1 = 71.24%, Val Loss = 0.1847, Precision = 70.12%, Recall = 70.62%, F1 = 70.37%\n",
            "Epoch 180 / 200, Epoch Time = 4.47s: Train Loss = 0.1548, Precision = 65.42%, Recall = 81.01%, F1 = 72.38%, Val Loss = 0.1789, Precision = 64.60%, Recall = 75.52%, F1 = 69.64%\n",
            "Epoch 181 / 200, Epoch Time = 4.51s: Train Loss = 0.1530, Precision = 65.15%, Recall = 81.60%, F1 = 72.45%, Val Loss = 0.1869, Precision = 71.77%, Recall = 69.75%, F1 = 70.74%\n",
            "Epoch 182 / 200, Epoch Time = 4.52s: Train Loss = 0.1526, Precision = 65.57%, Recall = 81.15%, F1 = 72.53%, Val Loss = 0.1844, Precision = 70.82%, Recall = 71.04%, F1 = 70.93%\n",
            "Epoch 183 / 200, Epoch Time = 4.54s: Train Loss = 0.1544, Precision = 64.76%, Recall = 80.77%, F1 = 71.88%, Val Loss = 0.1814, Precision = 69.33%, Recall = 72.67%, F1 = 70.96%\n",
            "Epoch 184 / 200, Epoch Time = 4.50s: Train Loss = 0.1545, Precision = 64.33%, Recall = 80.44%, F1 = 71.49%, Val Loss = 0.1842, Precision = 70.37%, Recall = 71.43%, F1 = 70.90%\n",
            "Epoch 185 / 200, Epoch Time = 4.50s: Train Loss = 0.1548, Precision = 64.59%, Recall = 80.35%, F1 = 71.61%, Val Loss = 0.1802, Precision = 67.65%, Recall = 73.65%, F1 = 70.52%\n",
            "Epoch 186 / 200, Epoch Time = 4.51s: Train Loss = 0.1518, Precision = 65.48%, Recall = 81.47%, F1 = 72.60%, Val Loss = 0.1806, Precision = 68.29%, Recall = 73.39%, F1 = 70.75%\n",
            "Epoch 187 / 200, Epoch Time = 4.48s: Train Loss = 0.1500, Precision = 65.94%, Recall = 81.27%, F1 = 72.80%, Val Loss = 0.1826, Precision = 69.02%, Recall = 72.94%, F1 = 70.93%\n",
            "Epoch 188 / 200, Epoch Time = 4.49s: Train Loss = 0.1524, Precision = 64.45%, Recall = 80.85%, F1 = 71.73%, Val Loss = 0.1853, Precision = 71.19%, Recall = 70.48%, F1 = 70.83%\n",
            "Epoch 189 / 200, Epoch Time = 4.48s: Train Loss = 0.1515, Precision = 65.45%, Recall = 80.22%, F1 = 72.08%, Val Loss = 0.1813, Precision = 69.42%, Recall = 72.52%, F1 = 70.93%\n",
            "Epoch 190 / 200, Epoch Time = 4.47s: Train Loss = 0.1546, Precision = 64.07%, Recall = 80.03%, F1 = 71.17%, Val Loss = 0.1790, Precision = 65.95%, Recall = 75.18%, F1 = 70.26%\n",
            "Epoch 191 / 200, Epoch Time = 4.46s: Train Loss = 0.1522, Precision = 65.65%, Recall = 80.59%, F1 = 72.35%, Val Loss = 0.1792, Precision = 67.01%, Recall = 74.38%, F1 = 70.51%\n",
            "Epoch 192 / 200, Epoch Time = 4.48s: Train Loss = 0.1495, Precision = 65.75%, Recall = 81.78%, F1 = 72.90%, Val Loss = 0.1825, Precision = 69.12%, Recall = 72.45%, F1 = 70.74%\n",
            "Epoch 193 / 200, Epoch Time = 4.50s: Train Loss = 0.1500, Precision = 65.71%, Recall = 81.93%, F1 = 72.93%, Val Loss = 0.1813, Precision = 68.75%, Recall = 73.12%, F1 = 70.87%\n",
            "Epoch 194 / 200, Epoch Time = 4.51s: Train Loss = 0.1518, Precision = 65.23%, Recall = 80.64%, F1 = 72.12%, Val Loss = 0.1826, Precision = 69.12%, Recall = 71.67%, F1 = 70.37%\n",
            "Epoch 195 / 200, Epoch Time = 4.48s: Train Loss = 0.1521, Precision = 65.23%, Recall = 80.93%, F1 = 72.24%, Val Loss = 0.1777, Precision = 64.85%, Recall = 76.18%, F1 = 70.06%\n",
            "Epoch 196 / 200, Epoch Time = 4.49s: Train Loss = 0.1533, Precision = 65.05%, Recall = 80.43%, F1 = 71.92%, Val Loss = 0.1824, Precision = 69.97%, Recall = 72.06%, F1 = 71.00%\n",
            "Epoch 197 / 200, Epoch Time = 4.49s: Train Loss = 0.1507, Precision = 65.86%, Recall = 81.19%, F1 = 72.72%, Val Loss = 0.1787, Precision = 64.27%, Recall = 76.74%, F1 = 69.95%\n",
            "Epoch 198 / 200, Epoch Time = 4.48s: Train Loss = 0.1525, Precision = 64.85%, Recall = 80.98%, F1 = 72.02%, Val Loss = 0.1845, Precision = 70.95%, Recall = 70.88%, F1 = 70.91%\n",
            "Epoch 199 / 200, Epoch Time = 4.51s: Train Loss = 0.1521, Precision = 65.58%, Recall = 81.01%, F1 = 72.49%, Val Loss = 0.1824, Precision = 68.63%, Recall = 72.01%, F1 = 70.28%\n",
            "Epoch 200 / 200, Epoch Time = 4.49s: Train Loss = 0.1531, Precision = 65.28%, Recall = 80.33%, F1 = 72.03%, Val Loss = 0.1819, Precision = 68.75%, Recall = 72.48%, F1 = 70.57%\n"
          ],
          "name": "stdout"
        }
      ]
    },
    {
      "metadata": {
        "id": "xp3tyJdy___o",
        "colab_type": "code",
        "outputId": "5dc4fe20-2ebd-43c6-8eb2-944549975a3a",
        "colab": {
          "base_uri": "https://localhost:8080/",
          "height": 457
        }
      },
      "cell_type": "code",
      "source": [
        "from sklearn.metrics import precision_recall_curve\n",
        "import matplotlib.pyplot as plt\n",
        "%matplotlib inline\n",
        "\n",
        "inputs = torch.LongTensor(X_test)\n",
        "model = model.cpu()\n",
        "logits = model(inputs)\n",
        "logits = logits.data.cpu().numpy()\n",
        "precision, recall, _ = precision_recall_curve(test_labels, logits)\n",
        "\n",
        "plt.figure(figsize=(7, 7))\n",
        "f_scores = np.linspace(0.2, 0.8, num=4)\n",
        "lines = []\n",
        "labels = []\n",
        "for f_score in f_scores:\n",
        "    x = np.linspace(0.01, 1)\n",
        "    y = f_score * x / (2 * x - f_score)\n",
        "    l, = plt.plot(x[y >= 0], y[y >= 0], color='gray', alpha=0.2)\n",
        "    plt.annotate('F1 = {0:0.1f}'.format(f_score), xy=(0.9, y[45] + 0.02))\n",
        "\n",
        "plt.plot(recall, precision)\n",
        "\n",
        "plt.xlim([0.0, 1.0])\n",
        "plt.ylim([0.0, 1.05])\n",
        "plt.xlabel('Recall')\n",
        "plt.ylabel('Precision')\n",
        "plt.title('Precision-Recall Curve')\n",
        "\n",
        "plt.show()"
      ],
      "execution_count": 0,
      "outputs": [
        {
          "output_type": "display_data",
          "data": {
            "image/png": "[encoded data removed]",
            "text/plain": [
              "<matplotlib.figure.Figure at 0x7ff5ddb43b38>"
            ]
          },
          "metadata": {
            "tags": []
          }
        }
      ]
    },
    {
      "metadata": {
        "id": "0buc0xsaIWyv",
        "colab_type": "text"
      },
      "cell_type": "markdown",
      "source": [
        "<!-- ![ConvNN](https://image.ibb.co/mEsdWL/Conv.png) ![DropoutConvNN](https://image.ibb.co/mb8Dy0/Dropout-BNConv.png) ![MultConvNN](https://image.ibb.co/bYYDy0/Multiple-convs.png) -->\n",
        "![alt text](https://preview.ibb.co/gNL7rL/nns-to-compare.jpg)\n",
        "\n",
        "Слева направо: изначальная сеточка, сеточка с дропаутами и батчнормом, сеточка с 3 свертками, и все прочим ¯\\_(ツ)_/¯"
      ]
    },
    {
      "metadata": {
        "id": "5JwcvGNSIJs4",
        "colab_type": "text"
      },
      "cell_type": "markdown",
      "source": [
        "# Сдача задания\n",
        "\n",
        "[Форма](https://goo.gl/forms/FfMnyNGI2P4xo0QD3)"
      ]
    }
  ]
}