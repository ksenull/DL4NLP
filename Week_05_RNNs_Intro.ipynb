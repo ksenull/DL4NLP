{
  "nbformat": 4,
  "nbformat_minor": 0,
  "metadata": {
    "colab": {
      "name": "Week 05 - RNNs Intro.ipynb",
      "version": "0.3.2",
      "provenance": [],
      "collapsed_sections": []
    },
    "kernelspec": {
      "name": "python3",
      "display_name": "Python 3"
    },
    "accelerator": "GPU"
  },
  "cells": [
    {
      "metadata": {
        "id": "YfeVtEQwRmsR",
        "colab_type": "code",
        "outputId": "9877a980-c042-4af3-a463-603a393ba97d",
        "colab": {
          "base_uri": "https://localhost:8080/",
          "height": 54
        }
      },
      "cell_type": "code",
      "source": [
        "!pip3 -qq install torch==0.4.1\n",
        "!pip install -qq bokeh==0.13.0\n",
        "!wget -O surnames.txt -qq --no-check-certificate \"https://drive.google.com/uc?export=download&id=1ji7dhr9FojPeV51dDlKRERIqr3vdZfhu\""
      ],
      "execution_count": 0,
      "outputs": [
        {
          "output_type": "stream",
          "text": [
            "tcmalloc: large alloc 1073750016 bytes == 0x59c0a000 @  0x7feaee2382a4 0x594e17 0x626104 0x51190a 0x4f5277 0x510c78 0x5119bd 0x4f5277 0x4f3338 0x510fb0 0x5119bd 0x4f5277 0x4f3338 0x510fb0 0x5119bd 0x4f5277 0x4f3338 0x510fb0 0x5119bd 0x4f6070 0x510c78 0x5119bd 0x4f5277 0x4f3338 0x510fb0 0x5119bd 0x4f6070 0x4f3338 0x510fb0 0x5119bd 0x4f6070\n"
          ],
          "name": "stdout"
        }
      ]
    },
    {
      "metadata": {
        "id": "YKoTq9xW-PdW",
        "colab_type": "code",
        "colab": {}
      },
      "cell_type": "code",
      "source": [
        "import numpy as np\n",
        "\n",
        "import torch\n",
        "import torch.nn as nn\n",
        "import torch.nn.functional as F\n",
        "import torch.optim as optim\n",
        "\n",
        "\n",
        "if torch.cuda.is_available():\n",
        "    from torch.cuda import FloatTensor, LongTensor\n",
        "else:\n",
        "    from torch import FloatTensor, LongTensor\n",
        "\n",
        "np.random.seed(42)"
      ],
      "execution_count": 0,
      "outputs": []
    },
    {
      "metadata": {
        "id": "_Q5wMjxQMeQS",
        "colab_type": "text"
      },
      "cell_type": "markdown",
      "source": [
        "# Рекуррентные нейронные сети, часть 1"
      ]
    },
    {
      "metadata": {
        "id": "NY5-j_RsRzxa",
        "colab_type": "text"
      },
      "cell_type": "markdown",
      "source": [
        "## Классификация фамилий\n",
        "\n",
        "Теперь - по языкам:"
      ]
    },
    {
      "metadata": {
        "id": "TPPJoWEpSN_B",
        "colab_type": "code",
        "outputId": "4492b171-9dcd-4d6b-8abe-eda60df432fe",
        "colab": {
          "base_uri": "https://localhost:8080/",
          "height": 187
        }
      },
      "cell_type": "code",
      "source": [
        "data, labels = [], []\n",
        "with open('surnames.txt') as f:\n",
        "    for line in f:\n",
        "        surname, lang = line.strip().split('\\t')\n",
        "        data.append(surname)\n",
        "        labels.append(lang)\n",
        "\n",
        "for i in np.random.randint(0, len(data), 10):\n",
        "    print(data[i], labels[i])"
      ],
      "execution_count": 0,
      "outputs": [
        {
          "output_type": "stream",
          "text": [
            "Mikhnev Russian\n",
            "Morcos Arabic\n",
            "Morrow English\n",
            "Berezinsky Russian\n",
            "Badyaev Russian\n",
            "Teale English\n",
            "Prigorodov Russian\n",
            "Greening English\n",
            "Jankevich Russian\n",
            "Bahin Russian\n"
          ],
          "name": "stdout"
        }
      ]
    },
    {
      "metadata": {
        "id": "6bVJlxzYhWuf",
        "colab_type": "text"
      },
      "cell_type": "markdown",
      "source": [
        "### Разминка\n",
        "\n",
        "Проверьте свои знания - попробуйте самостоятельно предсказать, к какому языку относится фамилия :)"
      ]
    },
    {
      "metadata": {
        "id": "G7JquuckaAGb",
        "colab_type": "code",
        "colab": {}
      },
      "cell_type": "code",
      "source": [
        "from sklearn.utils.class_weight import compute_class_weight\n",
        "\n",
        "def test_generator():\n",
        "    classes = np.unique(labels)\n",
        "    weights = compute_class_weight('balanced', classes, labels)\n",
        "    classes = {label: ind for ind, label in enumerate(classes)}\n",
        "\n",
        "    probs = np.array([weights[classes[label]] for label in labels])\n",
        "    probs /= probs.sum()\n",
        "\n",
        "    ind = np.random.choice(np.arange(len(data)), p=probs)\n",
        "    yield data[ind]\n",
        "    \n",
        "    while True:\n",
        "        new_ind = np.random.choice(np.arange(len(data)), p=probs)\n",
        "        yield labels[ind], data[new_ind]\n",
        "        ind = new_ind\n",
        "        \n",
        "gen = test_generator()\n",
        "question = next(gen)"
      ],
      "execution_count": 0,
      "outputs": []
    },
    {
      "metadata": {
        "id": "1KNeNxm1hsKs",
        "colab_type": "text"
      },
      "cell_type": "markdown",
      "source": [
        "Запускайте, смотрите на фамилию, которая выведется - и выбирайте язык в выпадающем списке."
      ]
    },
    {
      "metadata": {
        "id": "-Q3OSXpAY8BS",
        "colab_type": "code",
        "cellView": "form",
        "outputId": "75b947b1-3805-4e32-a667-1bcde9c7892f",
        "colab": {
          "base_uri": "https://localhost:8080/",
          "height": 51
        }
      },
      "cell_type": "code",
      "source": [
        "#@title Проверим себя (или адекватность данных) { run: \"auto\" }\n",
        "answer = \"Russian\" #@param [\"Arabic\", \"Chinese\", \"Czech\", \"Dutch\", \"English\", \"French\", \"German\", \"Greek\", \"Irish\", \"Italian\", \"Japanese\", \"Korean\", \"Polish\", \"Portuguese\", \"Russian\", \"Scottish\", \"Spanish\", \"Vietnamese\"]\n",
        "\n",
        "correct_answer, question = next(gen)\n",
        "\n",
        "if 'correct_count' not in globals():\n",
        "    correct_count = 0\n",
        "    total_count = 0\n",
        "else:\n",
        "    if answer == correct_answer:\n",
        "        print('You are correct', end=' ')\n",
        "        correct_count += 1\n",
        "    else:\n",
        "        print(\"No, it's\", correct_answer, end=' ')\n",
        "\n",
        "    total_count += 1\n",
        "    print('({} / {})'.format(correct_count, total_count))\n",
        "    \n",
        "print('Next surname:', question)"
      ],
      "execution_count": 0,
      "outputs": [
        {
          "output_type": "stream",
          "text": [
            "You are correct (2 / 8)\n",
            "Next surname: Pender\n"
          ],
          "name": "stdout"
        }
      ]
    },
    {
      "metadata": {
        "id": "5Yz20u6dhll0",
        "colab_type": "text"
      },
      "cell_type": "markdown",
      "source": [
        "### Разбиение данных"
      ]
    },
    {
      "metadata": {
        "id": "LfP4Sb68TWlY",
        "colab_type": "text"
      },
      "cell_type": "markdown",
      "source": [
        "Для начала нужно построить сплит данных на трейн/тест. Сложность в том, что классы распределены неравномерны, а отрезать нужно от каждого класса пропорциональное количество данных на тест. Для этого нужно использовать `stratify` параметр функции `train_test_split` (либо `StratifiedShuffleSplit`, либо, при большом желании, `GroupShuffleSplit`)."
      ]
    },
    {
      "metadata": {
        "id": "1eE-s7q7RmAM",
        "colab_type": "code",
        "colab": {}
      },
      "cell_type": "code",
      "source": [
        "from sklearn.model_selection import train_test_split\n",
        "\n",
        "data_train, data_test, labels_train, labels_test = train_test_split(\n",
        "    data, labels, test_size=0.3, stratify=labels, random_state=42\n",
        ")"
      ],
      "execution_count": 0,
      "outputs": []
    },
    {
      "metadata": {
        "id": "uzX5zHobUHc0",
        "colab_type": "code",
        "outputId": "768cd5eb-1aad-4087-897f-3cd5e25a1ea7",
        "colab": {
          "base_uri": "https://localhost:8080/",
          "height": 320
        }
      },
      "cell_type": "code",
      "source": [
        "import matplotlib.pyplot as plt\n",
        "%matplotlib inline\n",
        "\n",
        "from collections import Counter\n",
        "\n",
        "langs = set(labels)\n",
        "\n",
        "train_distribution = Counter(labels_train)\n",
        "train_distribution = [train_distribution[lang] for lang in langs]\n",
        "\n",
        "test_distribution = Counter(labels_test)\n",
        "test_distribution = [test_distribution[lang] for lang in langs]\n",
        "\n",
        "plt.figure(figsize=(17, 5))\n",
        "\n",
        "bar_width = 0.35\n",
        "plt.bar(np.arange(len(langs)), train_distribution, bar_width, align='center', alpha=0.5, label='train')\n",
        "plt.bar(np.arange(len(langs)) + bar_width, test_distribution, bar_width, align='center', alpha=0.5, label='test')\n",
        "plt.xticks(np.arange(len(langs)) + bar_width / 2, langs)\n",
        "plt.legend()\n",
        "    \n",
        "plt.show()"
      ],
      "execution_count": 0,
      "outputs": [
        {
          "output_type": "display_data",
          "data": {
            "image/png": "[encoded data removed]",
            "text/plain": [
              "<matplotlib.figure.Figure at 0x7fabf94a10b8>"
            ]
          },
          "metadata": {
            "tags": []
          }
        }
      ]
    },
    {
      "metadata": {
        "id": "MgmDagAq5-mm",
        "colab_type": "text"
      },
      "cell_type": "markdown",
      "source": [
        "### Бейзлайн"
      ]
    },
    {
      "metadata": {
        "id": "pDgB4iVCWbNE",
        "colab_type": "text"
      },
      "cell_type": "markdown",
      "source": [
        "Всегда надо начинать с бейзлайна - воспользуемся нашей любимой парой vectorizer-logistic regression:"
      ]
    },
    {
      "metadata": {
        "id": "PLxUE4thXyV2",
        "colab_type": "code",
        "outputId": "671c65a6-cd95-4c94-d2a6-62ae79954b16",
        "colab": {
          "base_uri": "https://localhost:8080/",
          "height": 140
        }
      },
      "cell_type": "code",
      "source": [
        "from sklearn.feature_extraction.text import CountVectorizer\n",
        "from sklearn.linear_model import LogisticRegression\n",
        "from sklearn.pipeline import Pipeline\n",
        "\n",
        "model = Pipeline([\n",
        "    ('vectorizer', CountVectorizer(analyzer='char', ngram_range=(1, 4))),\n",
        "    ('log_regression', LogisticRegression())\n",
        "])\n",
        "\n",
        "model.fit(data_train, labels_train)"
      ],
      "execution_count": 0,
      "outputs": [
        {
          "output_type": "execute_result",
          "data": {
            "text/plain": [
              "Pipeline(memory=None,\n",
              "     steps=[('vectorizer', CountVectorizer(analyzer='char', binary=False, decode_error='strict',\n",
              "        dtype=<class 'numpy.int64'>, encoding='utf-8', input='content',\n",
              "        lowercase=True, max_df=1.0, max_features=None, min_df=1,\n",
              "        ngram_range=(1, 4), preprocessor=None, stop_words=None,\n",
              "       ...ty='l2', random_state=None, solver='liblinear', tol=0.0001,\n",
              "          verbose=0, warm_start=False))])"
            ]
          },
          "metadata": {
            "tags": []
          },
          "execution_count": 6
        }
      ]
    },
    {
      "metadata": {
        "id": "wz9ngs_lWn3p",
        "colab_type": "text"
      },
      "cell_type": "markdown",
      "source": [
        "Какие метрики будем считать? Тут многоклассовая классификация, поэтому всё очень неоднозначно.\n",
        "\n",
        "Имеет смысл посмотреть на accuracy и на F1-score'ы для каждого класса."
      ]
    },
    {
      "metadata": {
        "id": "OJZt8sKM6zEA",
        "colab_type": "code",
        "outputId": "3e257ec0-60a0-479e-fa11-a90eb329d5eb",
        "colab": {
          "base_uri": "https://localhost:8080/",
          "height": 457
        }
      },
      "cell_type": "code",
      "source": [
        "from sklearn.metrics import accuracy_score, confusion_matrix, classification_report\n",
        "\n",
        "preds = model.predict(data_test)\n",
        "\n",
        "print('Accuracy = {:.2%}'.format(accuracy_score(labels_test, preds)))\n",
        "print('Classification report:')\n",
        "print(classification_report(labels_test, preds))"
      ],
      "execution_count": 0,
      "outputs": [
        {
          "output_type": "stream",
          "text": [
            "Accuracy = 83.45%\n",
            "Classification report:\n",
            "             precision    recall  f1-score   support\n",
            "\n",
            "     Arabic       0.90      1.00      0.95       600\n",
            "    Chinese       0.65      0.57      0.61        80\n",
            "      Czech       0.58      0.28      0.38       156\n",
            "      Dutch       0.85      0.49      0.62        89\n",
            "    English       0.72      0.84      0.78      1101\n",
            "     French       0.52      0.19      0.28        83\n",
            "     German       0.61      0.51      0.55       217\n",
            "      Greek       0.93      0.64      0.76        61\n",
            "      Irish       0.65      0.44      0.53        70\n",
            "    Italian       0.74      0.72      0.73       213\n",
            "   Japanese       0.91      0.90      0.90       297\n",
            "     Korean       0.25      0.14      0.18        28\n",
            "     Polish       0.61      0.33      0.43        42\n",
            " Portuguese       0.27      0.14      0.18        22\n",
            "    Russian       0.92      0.96      0.94      2823\n",
            "   Scottish       0.00      0.00      0.00        30\n",
            "    Spanish       0.48      0.28      0.35        89\n",
            " Vietnamese       0.50      0.18      0.27        22\n",
            "\n",
            "avg / total       0.82      0.83      0.82      6023\n",
            "\n"
          ],
          "name": "stdout"
        }
      ]
    },
    {
      "metadata": {
        "id": "VNRhUTNaW45M",
        "colab_type": "text"
      },
      "cell_type": "markdown",
      "source": [
        "F1-score'ы можно агрегировать разными способами:\n",
        "- weighted - это как посчитал classification_report - если нам важнее предсказывать хорошо более частотные фамилии\n",
        "- macro - простое усреднение - если важно предсказывать все, независимо от того, сколько каждого класса в тестовой выборке\n",
        "- micro - обычный подсчет F1-score по суммам всех true positive, false positive и false negative\n",
        "\n",
        "Weighted и micro - две метрики, учитывающие дисбаланс классов. Но в нашем случае неочевидно, есть ли дисбаланс, да?"
      ]
    },
    {
      "metadata": {
        "id": "I0SwCbWN8ZQd",
        "colab_type": "code",
        "outputId": "55f18ee3-a640-4c60-f1f4-47080c4bccd0",
        "colab": {
          "base_uri": "https://localhost:8080/",
          "height": 534
        }
      },
      "cell_type": "code",
      "source": [
        "import matplotlib.ticker as ticker\n",
        "\n",
        "label_names = list(set(labels_test))\n",
        "confusion = confusion_matrix(labels_test, preds, labels=label_names).astype(np.float)\n",
        "confusion /= confusion.sum(axis=-1, keepdims=True)\n",
        "\n",
        "fig = plt.figure(figsize=(9, 9))\n",
        "ax = fig.add_subplot(111)\n",
        "cax = ax.matshow(confusion, cmap='Reds')\n",
        "fig.colorbar(cax)\n",
        "\n",
        "ax.set_xticklabels([''] + label_names, rotation=45)\n",
        "ax.set_yticklabels([''] + label_names)\n",
        "\n",
        "ax.xaxis.set_major_locator(ticker.MultipleLocator(1))\n",
        "ax.yaxis.set_major_locator(ticker.MultipleLocator(1))\n",
        "\n",
        "plt.show()"
      ],
      "execution_count": 0,
      "outputs": [
        {
          "output_type": "display_data",
          "data": {
            "image/png": "[encoded data removed]",
            "text/plain": [
              "<matplotlib.figure.Figure at 0x7fab9dd68668>"
            ]
          },
          "metadata": {
            "tags": []
          }
        }
      ]
    },
    {
      "metadata": {
        "id": "qo0lsnzV-i-P",
        "colab_type": "text"
      },
      "cell_type": "markdown",
      "source": [
        "## Simple RNN"
      ]
    },
    {
      "metadata": {
        "id": "Hb4_VaBIMVFD",
        "colab_type": "text"
      },
      "cell_type": "markdown",
      "source": [
        "Основная прелесть RNN - расшаренные параметры. Посмотрите на картинку:\n",
        "\n",
        "![RNN types](http://karpathy.github.io/assets/rnn/diags.jpeg =x250)\n",
        "\n",
        "*From [(The Unreasonable Effectiveness of Recurrent Neural Networks)](http://karpathy.github.io/2015/05/21/rnn-effectiveness/)*\n",
        "\n",
        "Первый пример - это обычная полносвязная сеть. Каждый следующий демонстрирует обработку некоторой последовательности произвольной длины (красные прямоугольнички) и генерацию выходной последовательности, также произвольной длины (синие прямоугольники).\n",
        "\n",
        "При этом зеленые прямоугольники в каждом рисунке - это одни и те же веса. Получается, мы, с одной стороны, обучаем очень-очень глубокую сеть (если посмотреть на неё перевернутую), а с другой - строго ограниченное количество параметров.\n",
        "\n",
        "---\n",
        "Напишем сразу простую RNN!\n",
        "\n",
        "Напомню, делает она примерно вот это:\n",
        "\n",
        "![rnn-unrolled](http://colah.github.io/posts/2015-08-Understanding-LSTMs/img/RNN-unrolled.png =x220)\n",
        "\n",
        "*From [(Understanding LSTM Networks)](http://colah.github.io/posts/2015-08-Understanding-LSTMs)*\n",
        "\n",
        "Вообще говоря, можно придумать много вариаций на тему такой реализации. В нашем случае, обработка будет такой:\n",
        "$$h_t = tanh(W_h [h_{t-1}; x_t] + b_h)$$\n",
        "\n",
        "$h_{t-1}$ - скрытое состояние, полученное на предыдущем шаге, $x_t$ - входной вектор. $[h_{t-1}; x_t]$ - простая конкатенация векторов. Всё как на картинке!\n",
        "\n",
        "Проверим нашу сеть на очень простой задаче: заставим её говорить индекс первого элемента в последовательности.\n",
        "\n",
        "Т.е. для последовательности `[1, 2, 1, 3]` сеть должна предсказывать `1`.\n",
        "\n",
        "Начнем с генерации батча."
      ]
    },
    {
      "metadata": {
        "id": "yOI4JGgHT-z3",
        "colab_type": "code",
        "colab": {}
      },
      "cell_type": "code",
      "source": [
        "def generate_data(batch_size=128, seq_len=5):\n",
        "    data = torch.randint(0, 10, size=(seq_len, batch_size), dtype=torch.long)\n",
        "    return data, data[0]\n",
        "\n",
        "X_val, y_val = generate_data()\n",
        "# X_val, y_val"
      ],
      "execution_count": 0,
      "outputs": []
    },
    {
      "metadata": {
        "id": "EQ0Gsr4SFNtB",
        "colab_type": "text"
      },
      "cell_type": "markdown",
      "source": [
        "Обратите внимание, что батч имеет размерность `(sequence_length, batch_size, input_size)`. Все `RNN` в pytorch работают с таким форматом по умолчанию.\n",
        "\n",
        "Сделано это из соображений производительности, но при желании можно поменять такое поведение с помощью аргумента `batch_first`."
      ]
    },
    {
      "metadata": {
        "id": "PqS7HPRhZSBC",
        "colab_type": "text"
      },
      "cell_type": "markdown",
      "source": [
        "**Задание** Реализуйте класс `SimpleRNN`, выполняющий рассчеты по формуле выше."
      ]
    },
    {
      "metadata": {
        "id": "ed1b2TUvZRs0",
        "colab_type": "code",
        "colab": {}
      },
      "cell_type": "code",
      "source": [
        "class SimpleRNN(nn.Module):\n",
        "    def __init__(self, input_size, hidden_size):\n",
        "        super().__init__()\n",
        "\n",
        "        self._hidden_size = hidden_size\n",
        "        self._out_layer = nn.Sequential(\n",
        "            nn.Linear(hidden_size + input_size, hidden_size),\n",
        "            nn.Tanh()\n",
        "        )\n",
        "\n",
        "    def forward(self, inputs, hidden=None):\n",
        "        seq_len, batch_size = inputs.shape[:2]\n",
        "        if hidden is None:\n",
        "            hidden = inputs.new_zeros((batch_size, self._hidden_size))\n",
        "        for i in range(seq_len):\n",
        "            hidden = torch.cat((hidden, inputs[i]), dim=1)\n",
        "            hidden = self._out_layer(hidden)\n",
        "        return hidden"
      ],
      "execution_count": 0,
      "outputs": []
    },
    {
      "metadata": {
        "id": "KS2xw2YIZ_EU",
        "colab_type": "text"
      },
      "cell_type": "markdown",
      "source": [
        "Должно стать понятно, почему полезно иметь первой размерностью seq_len - нужно уметь брать `inputs[i]` - подбатч, относящийся к данному таймстемпу. Если бы данные были расположены по-другому, эта операция была бы сильно дороже.\n",
        "\n",
        "**Задание** Реализуйте класс `MemorizerModel`, с последовательностью операций `Embedding -> SimpleRNN -> Linear`. Можно использовать `nn.Sequential`\n",
        "\n",
        "Чтобы сделать эмбеддинги, можно воспользоваться `nn.Embedding.from_pretrained`. Для простоты будем делать one-hot-encoding представление - для этого нужно просто инициализировать сеть единичной матрицей `torch.eye(N)`."
      ]
    },
    {
      "metadata": {
        "id": "aEUr4Xa9Z81I",
        "colab_type": "code",
        "colab": {}
      },
      "cell_type": "code",
      "source": [
        "# u can use nn.Sequential too\n",
        "class MemorizerModel(nn.Module):\n",
        "    def __init__(self, hidden_size):\n",
        "        super().__init__()\n",
        "        vocab_size = 10\n",
        "        self._emb = nn.Embedding.from_pretrained(torch.eye(vocab_size))\n",
        "        self._rnn = SimpleRNN(vocab_size, hidden_size)\n",
        "        self._out = nn.Linear(hidden_size, vocab_size)\n",
        "   \n",
        "\n",
        "    def forward(self, inputs):\n",
        "        return self._out(self._rnn(self._emb(inputs)))   "
      ],
      "execution_count": 0,
      "outputs": []
    },
    {
      "metadata": {
        "id": "eiDRoQWDawaW",
        "colab_type": "text"
      },
      "cell_type": "markdown",
      "source": [
        "Запустим обучение:"
      ]
    },
    {
      "metadata": {
        "id": "IbVk7zUjUQ_v",
        "colab_type": "code",
        "colab": {}
      },
      "cell_type": "code",
      "source": [
        "def fit_rnn(_seq_len):\n",
        "    rnn = MemorizerModel(hidden_size=32)\n",
        "    criterion = nn.CrossEntropyLoss()\n",
        "    optimizer = torch.optim.Adam(rnn.parameters(), lr=0.001)\n",
        "    \n",
        "    total_loss = 0\n",
        "    epochs_count = 1000\n",
        "    total_loss_curve = []\n",
        "    val_loss_curve = []\n",
        "    for epoch_ind in range(epochs_count):\n",
        "        X_train, y_train = generate_data(seq_len=_seq_len)\n",
        "\n",
        "        optimizer.zero_grad()\n",
        "        rnn.train()\n",
        "\n",
        "        logits = rnn(X_train)\n",
        "\n",
        "        loss = criterion(logits, y_train)\n",
        "        loss.backward()\n",
        "        optimizer.step()\n",
        "\n",
        "        total_loss += loss.item()\n",
        "\n",
        "        if (epoch_ind + 1) % 1 == 0:\n",
        "            rnn.eval()\n",
        "\n",
        "            with torch.no_grad():\n",
        "                logits = rnn(X_val)\n",
        "                val_loss = criterion(logits, y_val)\n",
        "#                 print('[{}/{}] Train: {:.3f} Val: {:.3f}'.format(epoch_ind + 1, epochs_count, \n",
        "#                                                                  total_loss / 100, val_loss.item()))\n",
        "                total_loss_curve.append(total_loss)\n",
        "                val_loss_curve.append(val_loss.item())\n",
        "                total_loss = 0\n",
        "    return total_loss_curve, val_loss_curve, rnn, criterion\n",
        "               "
      ],
      "execution_count": 0,
      "outputs": []
    },
    {
      "metadata": {
        "id": "wX480aGHWOXg",
        "colab_type": "code",
        "colab": {}
      },
      "cell_type": "code",
      "source": [
        "total, val = [], []\n",
        "seq_lens = [1, 5, 10, 15]\n",
        "for sl in seq_lens:\n",
        "    t, v, _, _ = fit_rnn(sl)\n",
        "    total.append(t)\n",
        "    val.append(v)"
      ],
      "execution_count": 0,
      "outputs": []
    },
    {
      "metadata": {
        "id": "_p0ZvUpdPtHl",
        "colab_type": "code",
        "outputId": "f503b6eb-408b-4901-e5f2-a882dad896ac",
        "colab": {
          "base_uri": "https://localhost:8080/",
          "height": 1949
        }
      },
      "cell_type": "code",
      "source": [
        "from bokeh.io import output_notebook\n",
        "from bokeh.plotting import figure, output_file, show, ColumnDataSource\n",
        "output_notebook()\n",
        "\n",
        "x = np.linspace(0, 1000, 500)\n",
        "\n",
        "for i, sl in enumerate(seq_lens):\n",
        "    total_source = ColumnDataSource(data=dict(x=x, y=total[i]))\n",
        "    val_source = ColumnDataSource(data=dict(x=x, y=val[i]))\n",
        "    \n",
        "    plot = figure(y_range=(0, max(total[i])), plot_width=800, plot_height=400)\n",
        " \n",
        "    plot.line('x', 'y', source=total_source, line_width=2, line_alpha=0.6)\n",
        "    plot.line('x' ,'y', source=val_source, line_width=2, line_alpha=0.6, line_color='green')\n",
        "\n",
        "    show(plot)"
      ],
      "execution_count": 0,
      "outputs": [
        {
          "output_type": "display_data",
          "data": {
            "text/html": [
              "\n",
              "    <div class=\"bk-root\">\n",
              "        <a href=\"https://bokeh.pydata.org\" target=\"_blank\" class=\"bk-logo bk-logo-small bk-logo-notebook\"></a>\n",
              "        <span id=\"6fa24cdc-a741-4a0f-a5e8-005a2898bc92\">Loading BokehJS ...</span>\n",
              "    </div>"
            ]
          },
          "metadata": {
            "tags": []
          }
        },
        {
          "output_type": "display_data",
          "data": {
            "application/javascript": [
              "\n",
              "(function(root) {\n",
              "  function now() {\n",
              "    return new Date();\n",
              "  }\n",
              "\n",
              "  var force = true;\n",
              "\n",
              "  if (typeof (root._bokeh_onload_callbacks) === \"undefined\" || force === true) {\n",
              "    root._bokeh_onload_callbacks = [];\n",
              "    root._bokeh_is_loading = undefined;\n",
              "  }\n",
              "\n",
              "  var JS_MIME_TYPE = 'application/javascript';\n",
              "  var HTML_MIME_TYPE = 'text/html';\n",
              "  var EXEC_MIME_TYPE = 'application/vnd.bokehjs_exec.v0+json';\n",
              "  var CLASS_NAME = 'output_bokeh rendered_html';\n",
              "\n",
              "  /**\n",
              "   * Render data to the DOM node\n",
              "   */\n",
              "  function render(props, node) {\n",
              "    var script = document.createElement(\"script\");\n",
              "    node.appendChild(script);\n",
              "  }\n",
              "\n",
              "  /**\n",
              "   * Handle when an output is cleared or removed\n",
              "   */\n",
              "  function handleClearOutput(event, handle) {\n",
              "    var cell = handle.cell;\n",
              "\n",
              "    var id = cell.output_area._bokeh_element_id;\n",
              "    var server_id = cell.output_area._bokeh_server_id;\n",
              "    // Clean up Bokeh references\n",
              "    if (id != null && id in Bokeh.index) {\n",
              "      Bokeh.index[id].model.document.clear();\n",
              "      delete Bokeh.index[id];\n",
              "    }\n",
              "\n",
              "    if (server_id !== undefined) {\n",
              "      // Clean up Bokeh references\n",
              "      var cmd = \"from bokeh.io.state import curstate; print(curstate().uuid_to_server['\" + server_id + \"'].get_sessions()[0].document.roots[0]._id)\";\n",
              "      cell.notebook.kernel.execute(cmd, {\n",
              "        iopub: {\n",
              "          output: function(msg) {\n",
              "            var id = msg.content.text.trim();\n",
              "            if (id in Bokeh.index) {\n",
              "              Bokeh.index[id].model.document.clear();\n",
              "              delete Bokeh.index[id];\n",
              "            }\n",
              "          }\n",
              "        }\n",
              "      });\n",
              "      // Destroy server and session\n",
              "      var cmd = \"import bokeh.io.notebook as ion; ion.destroy_server('\" + server_id + \"')\";\n",
              "      cell.notebook.kernel.execute(cmd);\n",
              "    }\n",
              "  }\n",
              "\n",
              "  /**\n",
              "   * Handle when a new output is added\n",
              "   */\n",
              "  function handleAddOutput(event, handle) {\n",
              "    var output_area = handle.output_area;\n",
              "    var output = handle.output;\n",
              "\n",
              "    // limit handleAddOutput to display_data with EXEC_MIME_TYPE content only\n",
              "    if ((output.output_type != \"display_data\") || (!output.data.hasOwnProperty(EXEC_MIME_TYPE))) {\n",
              "      return\n",
              "    }\n",
              "\n",
              "    var toinsert = output_area.element.find(\".\" + CLASS_NAME.split(' ')[0]);\n",
              "\n",
              "    if (output.metadata[EXEC_MIME_TYPE][\"id\"] !== undefined) {\n",
              "      toinsert[toinsert.length - 1].firstChild.textContent = output.data[JS_MIME_TYPE];\n",
              "      // store reference to embed id on output_area\n",
              "      output_area._bokeh_element_id = output.metadata[EXEC_MIME_TYPE][\"id\"];\n",
              "    }\n",
              "    if (output.metadata[EXEC_MIME_TYPE][\"server_id\"] !== undefined) {\n",
              "      var bk_div = document.createElement(\"div\");\n",
              "      bk_div.innerHTML = output.data[HTML_MIME_TYPE];\n",
              "      var script_attrs = bk_div.children[0].attributes;\n",
              "      for (var i = 0; i < script_attrs.length; i++) {\n",
              "        toinsert[toinsert.length - 1].firstChild.setAttribute(script_attrs[i].name, script_attrs[i].value);\n",
              "      }\n",
              "      // store reference to server id on output_area\n",
              "      output_area._bokeh_server_id = output.metadata[EXEC_MIME_TYPE][\"server_id\"];\n",
              "    }\n",
              "  }\n",
              "\n",
              "  function register_renderer(events, OutputArea) {\n",
              "\n",
              "    function append_mime(data, metadata, element) {\n",
              "      // create a DOM node to render to\n",
              "      var toinsert = this.create_output_subarea(\n",
              "        metadata,\n",
              "        CLASS_NAME,\n",
              "        EXEC_MIME_TYPE\n",
              "      );\n",
              "      this.keyboard_manager.register_events(toinsert);\n",
              "      // Render to node\n",
              "      var props = {data: data, metadata: metadata[EXEC_MIME_TYPE]};\n",
              "      render(props, toinsert[toinsert.length - 1]);\n",
              "      element.append(toinsert);\n",
              "      return toinsert\n",
              "    }\n",
              "\n",
              "    /* Handle when an output is cleared or removed */\n",
              "    events.on('clear_output.CodeCell', handleClearOutput);\n",
              "    events.on('delete.Cell', handleClearOutput);\n",
              "\n",
              "    /* Handle when a new output is added */\n",
              "    events.on('output_added.OutputArea', handleAddOutput);\n",
              "\n",
              "    /**\n",
              "     * Register the mime type and append_mime function with output_area\n",
              "     */\n",
              "    OutputArea.prototype.register_mime_type(EXEC_MIME_TYPE, append_mime, {\n",
              "      /* Is output safe? */\n",
              "      safe: true,\n",
              "      /* Index of renderer in `output_area.display_order` */\n",
              "      index: 0\n",
              "    });\n",
              "  }\n",
              "\n",
              "  // register the mime type if in Jupyter Notebook environment and previously unregistered\n",
              "  if (root.Jupyter !== undefined) {\n",
              "    var events = require('base/js/events');\n",
              "    var OutputArea = require('notebook/js/outputarea').OutputArea;\n",
              "\n",
              "    if (OutputArea.prototype.mime_types().indexOf(EXEC_MIME_TYPE) == -1) {\n",
              "      register_renderer(events, OutputArea);\n",
              "    }\n",
              "  }\n",
              "\n",
              "  \n",
              "  if (typeof (root._bokeh_timeout) === \"undefined\" || force === true) {\n",
              "    root._bokeh_timeout = Date.now() + 5000;\n",
              "    root._bokeh_failed_load = false;\n",
              "  }\n",
              "\n",
              "  var NB_LOAD_WARNING = {'data': {'text/html':\n",
              "     \"<div style='background-color: #fdd'>\\n\"+\n",
              "     \"<p>\\n\"+\n",
              "     \"BokehJS does not appear to have successfully loaded. If loading BokehJS from CDN, this \\n\"+\n",
              "     \"may be due to a slow or bad network connection. Possible fixes:\\n\"+\n",
              "     \"</p>\\n\"+\n",
              "     \"<ul>\\n\"+\n",
              "     \"<li>re-rerun `output_notebook()` to attempt to load from CDN again, or</li>\\n\"+\n",
              "     \"<li>use INLINE resources instead, as so:</li>\\n\"+\n",
              "     \"</ul>\\n\"+\n",
              "     \"<code>\\n\"+\n",
              "     \"from bokeh.resources import INLINE\\n\"+\n",
              "     \"output_notebook(resources=INLINE)\\n\"+\n",
              "     \"</code>\\n\"+\n",
              "     \"</div>\"}};\n",
              "\n",
              "  function display_loaded() {\n",
              "    var el = document.getElementById(\"6fa24cdc-a741-4a0f-a5e8-005a2898bc92\");\n",
              "    if (el != null) {\n",
              "      el.textContent = \"BokehJS is loading...\";\n",
              "    }\n",
              "    if (root.Bokeh !== undefined) {\n",
              "      if (el != null) {\n",
              "        el.textContent = \"BokehJS \" + root.Bokeh.version + \" successfully loaded.\";\n",
              "      }\n",
              "    } else if (Date.now() < root._bokeh_timeout) {\n",
              "      setTimeout(display_loaded, 100)\n",
              "    }\n",
              "  }\n",
              "\n",
              "\n",
              "  function run_callbacks() {\n",
              "    try {\n",
              "      root._bokeh_onload_callbacks.forEach(function(callback) { callback() });\n",
              "    }\n",
              "    finally {\n",
              "      delete root._bokeh_onload_callbacks\n",
              "    }\n",
              "    console.info(\"Bokeh: all callbacks have finished\");\n",
              "  }\n",
              "\n",
              "  function load_libs(js_urls, callback) {\n",
              "    root._bokeh_onload_callbacks.push(callback);\n",
              "    if (root._bokeh_is_loading > 0) {\n",
              "      console.log(\"Bokeh: BokehJS is being loaded, scheduling callback at\", now());\n",
              "      return null;\n",
              "    }\n",
              "    if (js_urls == null || js_urls.length === 0) {\n",
              "      run_callbacks();\n",
              "      return null;\n",
              "    }\n",
              "    console.log(\"Bokeh: BokehJS not loaded, scheduling load and callback at\", now());\n",
              "    root._bokeh_is_loading = js_urls.length;\n",
              "    for (var i = 0; i < js_urls.length; i++) {\n",
              "      var url = js_urls[i];\n",
              "      var s = document.createElement('script');\n",
              "      s.src = url;\n",
              "      s.async = false;\n",
              "      s.onreadystatechange = s.onload = function() {\n",
              "        root._bokeh_is_loading--;\n",
              "        if (root._bokeh_is_loading === 0) {\n",
              "          console.log(\"Bokeh: all BokehJS libraries loaded\");\n",
              "          run_callbacks()\n",
              "        }\n",
              "      };\n",
              "      s.onerror = function() {\n",
              "        console.warn(\"failed to load library \" + url);\n",
              "      };\n",
              "      console.log(\"Bokeh: injecting script tag for BokehJS library: \", url);\n",
              "      document.getElementsByTagName(\"head\")[0].appendChild(s);\n",
              "    }\n",
              "  };var element = document.getElementById(\"6fa24cdc-a741-4a0f-a5e8-005a2898bc92\");\n",
              "  if (element == null) {\n",
              "    console.log(\"Bokeh: ERROR: autoload.js configured with elementid '6fa24cdc-a741-4a0f-a5e8-005a2898bc92' but no matching script tag was found. \")\n",
              "    return false;\n",
              "  }\n",
              "\n",
              "  var js_urls = [\"https://cdn.pydata.org/bokeh/release/bokeh-0.13.0.min.js\", \"https://cdn.pydata.org/bokeh/release/bokeh-widgets-0.13.0.min.js\", \"https://cdn.pydata.org/bokeh/release/bokeh-tables-0.13.0.min.js\", \"https://cdn.pydata.org/bokeh/release/bokeh-gl-0.13.0.min.js\"];\n",
              "\n",
              "  var inline_js = [\n",
              "    function(Bokeh) {\n",
              "      Bokeh.set_log_level(\"info\");\n",
              "    },\n",
              "    \n",
              "    function(Bokeh) {\n",
              "      \n",
              "    },\n",
              "    function(Bokeh) {\n",
              "      console.log(\"Bokeh: injecting CSS: https://cdn.pydata.org/bokeh/release/bokeh-0.13.0.min.css\");\n",
              "      Bokeh.embed.inject_css(\"https://cdn.pydata.org/bokeh/release/bokeh-0.13.0.min.css\");\n",
              "      console.log(\"Bokeh: injecting CSS: https://cdn.pydata.org/bokeh/release/bokeh-widgets-0.13.0.min.css\");\n",
              "      Bokeh.embed.inject_css(\"https://cdn.pydata.org/bokeh/release/bokeh-widgets-0.13.0.min.css\");\n",
              "      console.log(\"Bokeh: injecting CSS: https://cdn.pydata.org/bokeh/release/bokeh-tables-0.13.0.min.css\");\n",
              "      Bokeh.embed.inject_css(\"https://cdn.pydata.org/bokeh/release/bokeh-tables-0.13.0.min.css\");\n",
              "    }\n",
              "  ];\n",
              "\n",
              "  function run_inline_js() {\n",
              "    \n",
              "    if ((root.Bokeh !== undefined) || (force === true)) {\n",
              "      for (var i = 0; i < inline_js.length; i++) {\n",
              "        inline_js[i].call(root, root.Bokeh);\n",
              "      }if (force === true) {\n",
              "        display_loaded();\n",
              "      }} else if (Date.now() < root._bokeh_timeout) {\n",
              "      setTimeout(run_inline_js, 100);\n",
              "    } else if (!root._bokeh_failed_load) {\n",
              "      console.log(\"Bokeh: BokehJS failed to load within specified timeout.\");\n",
              "      root._bokeh_failed_load = true;\n",
              "    } else if (force !== true) {\n",
              "      var cell = $(document.getElementById(\"6fa24cdc-a741-4a0f-a5e8-005a2898bc92\")).parents('.cell').data().cell;\n",
              "      cell.output_area.append_execute_result(NB_LOAD_WARNING)\n",
              "    }\n",
              "\n",
              "  }\n",
              "\n",
              "  if (root._bokeh_is_loading === 0) {\n",
              "    console.log(\"Bokeh: BokehJS loaded, going straight to plotting\");\n",
              "    run_inline_js();\n",
              "  } else {\n",
              "    load_libs(js_urls, function() {\n",
              "      console.log(\"Bokeh: BokehJS plotting callback run at\", now());\n",
              "      run_inline_js();\n",
              "    });\n",
              "  }\n",
              "}(window));"
            ],
            "application/vnd.bokehjs_load.v0+json": "\n(function(root) {\n  function now() {\n    return new Date();\n  }\n\n  var force = true;\n\n  if (typeof (root._bokeh_onload_callbacks) === \"undefined\" || force === true) {\n    root._bokeh_onload_callbacks = [];\n    root._bokeh_is_loading = undefined;\n  }\n\n  \n\n  \n  if (typeof (root._bokeh_timeout) === \"undefined\" || force === true) {\n    root._bokeh_timeout = Date.now() + 5000;\n    root._bokeh_failed_load = false;\n  }\n\n  var NB_LOAD_WARNING = {'data': {'text/html':\n     \"<div style='background-color: #fdd'>\\n\"+\n     \"<p>\\n\"+\n     \"BokehJS does not appear to have successfully loaded. If loading BokehJS from CDN, this \\n\"+\n     \"may be due to a slow or bad network connection. Possible fixes:\\n\"+\n     \"</p>\\n\"+\n     \"<ul>\\n\"+\n     \"<li>re-rerun `output_notebook()` to attempt to load from CDN again, or</li>\\n\"+\n     \"<li>use INLINE resources instead, as so:</li>\\n\"+\n     \"</ul>\\n\"+\n     \"<code>\\n\"+\n     \"from bokeh.resources import INLINE\\n\"+\n     \"output_notebook(resources=INLINE)\\n\"+\n     \"</code>\\n\"+\n     \"</div>\"}};\n\n  function display_loaded() {\n    var el = document.getElementById(\"6fa24cdc-a741-4a0f-a5e8-005a2898bc92\");\n    if (el != null) {\n      el.textContent = \"BokehJS is loading...\";\n    }\n    if (root.Bokeh !== undefined) {\n      if (el != null) {\n        el.textContent = \"BokehJS \" + root.Bokeh.version + \" successfully loaded.\";\n      }\n    } else if (Date.now() < root._bokeh_timeout) {\n      setTimeout(display_loaded, 100)\n    }\n  }\n\n\n  function run_callbacks() {\n    try {\n      root._bokeh_onload_callbacks.forEach(function(callback) { callback() });\n    }\n    finally {\n      delete root._bokeh_onload_callbacks\n    }\n    console.info(\"Bokeh: all callbacks have finished\");\n  }\n\n  function load_libs(js_urls, callback) {\n    root._bokeh_onload_callbacks.push(callback);\n    if (root._bokeh_is_loading > 0) {\n      console.log(\"Bokeh: BokehJS is being loaded, scheduling callback at\", now());\n      return null;\n    }\n    if (js_urls == null || js_urls.length === 0) {\n      run_callbacks();\n      return null;\n    }\n    console.log(\"Bokeh: BokehJS not loaded, scheduling load and callback at\", now());\n    root._bokeh_is_loading = js_urls.length;\n    for (var i = 0; i < js_urls.length; i++) {\n      var url = js_urls[i];\n      var s = document.createElement('script');\n      s.src = url;\n      s.async = false;\n      s.onreadystatechange = s.onload = function() {\n        root._bokeh_is_loading--;\n        if (root._bokeh_is_loading === 0) {\n          console.log(\"Bokeh: all BokehJS libraries loaded\");\n          run_callbacks()\n        }\n      };\n      s.onerror = function() {\n        console.warn(\"failed to load library \" + url);\n      };\n      console.log(\"Bokeh: injecting script tag for BokehJS library: \", url);\n      document.getElementsByTagName(\"head\")[0].appendChild(s);\n    }\n  };var element = document.getElementById(\"6fa24cdc-a741-4a0f-a5e8-005a2898bc92\");\n  if (element == null) {\n    console.log(\"Bokeh: ERROR: autoload.js configured with elementid '6fa24cdc-a741-4a0f-a5e8-005a2898bc92' but no matching script tag was found. \")\n    return false;\n  }\n\n  var js_urls = [\"https://cdn.pydata.org/bokeh/release/bokeh-0.13.0.min.js\", \"https://cdn.pydata.org/bokeh/release/bokeh-widgets-0.13.0.min.js\", \"https://cdn.pydata.org/bokeh/release/bokeh-tables-0.13.0.min.js\", \"https://cdn.pydata.org/bokeh/release/bokeh-gl-0.13.0.min.js\"];\n\n  var inline_js = [\n    function(Bokeh) {\n      Bokeh.set_log_level(\"info\");\n    },\n    \n    function(Bokeh) {\n      \n    },\n    function(Bokeh) {\n      console.log(\"Bokeh: injecting CSS: https://cdn.pydata.org/bokeh/release/bokeh-0.13.0.min.css\");\n      Bokeh.embed.inject_css(\"https://cdn.pydata.org/bokeh/release/bokeh-0.13.0.min.css\");\n      console.log(\"Bokeh: injecting CSS: https://cdn.pydata.org/bokeh/release/bokeh-widgets-0.13.0.min.css\");\n      Bokeh.embed.inject_css(\"https://cdn.pydata.org/bokeh/release/bokeh-widgets-0.13.0.min.css\");\n      console.log(\"Bokeh: injecting CSS: https://cdn.pydata.org/bokeh/release/bokeh-tables-0.13.0.min.css\");\n      Bokeh.embed.inject_css(\"https://cdn.pydata.org/bokeh/release/bokeh-tables-0.13.0.min.css\");\n    }\n  ];\n\n  function run_inline_js() {\n    \n    if ((root.Bokeh !== undefined) || (force === true)) {\n      for (var i = 0; i < inline_js.length; i++) {\n        inline_js[i].call(root, root.Bokeh);\n      }if (force === true) {\n        display_loaded();\n      }} else if (Date.now() < root._bokeh_timeout) {\n      setTimeout(run_inline_js, 100);\n    } else if (!root._bokeh_failed_load) {\n      console.log(\"Bokeh: BokehJS failed to load within specified timeout.\");\n      root._bokeh_failed_load = true;\n    } else if (force !== true) {\n      var cell = $(document.getElementById(\"6fa24cdc-a741-4a0f-a5e8-005a2898bc92\")).parents('.cell').data().cell;\n      cell.output_area.append_execute_result(NB_LOAD_WARNING)\n    }\n\n  }\n\n  if (root._bokeh_is_loading === 0) {\n    console.log(\"Bokeh: BokehJS loaded, going straight to plotting\");\n    run_inline_js();\n  } else {\n    load_libs(js_urls, function() {\n      console.log(\"Bokeh: BokehJS plotting callback run at\", now());\n      run_inline_js();\n    });\n  }\n}(window));"
          },
          "metadata": {
            "tags": []
          }
        },
        {
          "output_type": "stream",
          "text": [
            "/usr/local/lib/python3.6/dist-packages/bokeh/models/sources.py:110: BokehUserWarning: ColumnDataSource's columns must be of the same length. Current lengths: ('x', 500), ('y', 1000)\n",
            "  \"Current lengths: %s\" % \", \".join(sorted(str((k, len(v))) for k, v in data.items())), BokehUserWarning))\n",
            "/usr/local/lib/python3.6/dist-packages/bokeh/models/sources.py:110: BokehUserWarning: ColumnDataSource's columns must be of the same length. Current lengths: ('x', 500), ('y', 1000)\n",
            "  \"Current lengths: %s\" % \", \".join(sorted(str((k, len(v))) for k, v in data.items())), BokehUserWarning))\n"
          ],
          "name": "stderr"
        },
        {
          "output_type": "display_data",
          "data": {
            "text/html": [
              "\n",
              "\n",
              "\n",
              "\n",
              "\n",
              "\n",
              "  <div class=\"bk-root\" id=\"7c75852a-2041-4407-bd3e-0eb81e79f85e\"></div>\n"
            ]
          },
          "metadata": {
            "tags": []
          }
        },
        {
          "output_type": "display_data",
          "data": {
            "application/javascript": [
              "(function(root) {\n",
              "  function embed_document(root) {\n",
              "    \n",
              "  var docs_json = {\"9be1a38e-7f3a-40ec-b846-e9276fe6ee2f\":{\"roots\":{\"references\":[{\"attributes\":{\"data_source\":{\"id\":\"9d890225-b5d6-4eed-b48d-d42eb0fb1ed2\",\"type\":\"ColumnDataSource\"},\"glyph\":{\"id\":\"b64b475b-cbb6-46b8-8cd3-7f85dc21b62a\",\"type\":\"Line\"},\"hover_glyph\":null,\"muted_glyph\":null,\"nonselection_glyph\":{\"id\":\"5c7457ae-2e1d-4647-b258-e09c63ed0336\",\"type\":\"Line\"},\"selection_glyph\":null,\"view\":{\"id\":\"522cf644-d41f-4fd3-a67f-4442705b4b48\",\"type\":\"CDSView\"}},\"id\":\"7d398c0f-e61d-4b5c-95e6-5492db79bdc1\",\"type\":\"GlyphRenderer\"},{\"attributes\":{\"callback\":null,\"data\":{\"x\":{\"__ndarray__\":\"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\",\"dtype\":\"float64\",\"shape\":[500]},\"y\":[2.3392415046691895,2.318613290786743,2.3323535919189453,2.327969551086426,2.305619716644287,2.299175500869751,2.3043088912963867,2.285482168197632,2.292081117630005,2.2916717529296875,2.2741453647613525,2.2834980487823486,2.2649662494659424,2.280237913131714,2.263476848602295,2.258695602416992,2.2504560947418213,2.255633592605591,2.2565438747406006,2.2470171451568604,2.2226381301879883,2.2353568077087402,2.2387709617614746,2.2085821628570557,2.2156922817230225,2.209944248199463,2.2168211936950684,2.2087061405181885,2.2040786743164062,2.1870083808898926,2.1943933963775635,2.1837596893310547,2.1717846393585205,2.1793649196624756,2.1733622550964355,2.1629958152770996,2.1526670455932617,2.151688575744629,2.1515417098999023,2.1447534561157227,2.1287460327148438,2.1385719776153564,2.137836456298828,2.1176857948303223,2.118375539779663,2.107872724533081,2.1127331256866455,2.111663818359375,2.093780040740967,2.0878872871398926,2.0665619373321533,2.0774641036987305,2.0767390727996826,2.0735437870025635,2.0672996044158936,2.0719454288482666,2.0652287006378174,2.0458784103393555,2.036811351776123,2.030688762664795,2.0189483165740967,2.0192508697509766,2.01865291595459,2.0034120082855225,1.9866740703582764,1.986100673675537,1.9765818119049072,1.9778887033462524,1.9820131063461304,1.973445177078247,1.9710602760314941,1.9505811929702759,1.9553147554397583,1.9373387098312378,1.9391506910324097,1.9198338985443115,1.917852759361267,1.8997869491577148,1.9078176021575928,1.8934308290481567,1.8932151794433594,1.9027565717697144,1.8807201385498047,1.871292233467102,1.8620223999023438,1.8508433103561401,1.8346242904663086,1.8446426391601562,1.8183361291885376,1.8194748163223267,1.8082995414733887,1.814558744430542,1.8018808364868164,1.7872397899627686,1.7807945013046265,1.7758054733276367,1.7579965591430664,1.7526342868804932,1.7442635297775269,1.7422682046890259,1.7296171188354492,1.7160770893096924,1.7082953453063965,1.691290259361267,1.6792141199111938,1.6780071258544922,1.6766060590744019,1.6686114072799683,1.6612943410873413,1.6342426538467407,1.6334049701690674,1.645372748374939,1.6363856792449951,1.6186110973358154,1.5923062562942505,1.5968624353408813,1.5743657350540161,1.566456913948059,1.5669386386871338,1.5610041618347168,1.5458799600601196,1.5231746435165405,1.5307530164718628,1.5022414922714233,1.5091208219528198,1.4986704587936401,1.4858767986297607,1.476439356803894,1.4588414430618286,1.4494575262069702,1.453007698059082,1.4347933530807495,1.416731357574463,1.4191054105758667,1.4061291217803955,1.3928786516189575,1.367991328239441,1.3716291189193726,1.356885552406311,1.3519494533538818,1.331355094909668,1.324924349784851,1.321616291999817,1.3132972717285156,1.297751784324646,1.2863606214523315,1.2709245681762695,1.26346755027771,1.2527729272842407,1.2381852865219116,1.230308175086975,1.2235077619552612,1.2178125381469727,1.1949656009674072,1.1914916038513184,1.1714625358581543,1.1789418458938599,1.1534744501113892,1.1483479738235474,1.1459859609603882,1.1235791444778442,1.1113179922103882,1.098854899406433,1.0960595607757568,1.0949186086654663,1.0839372873306274,1.052512764930725,1.0630120038986206,1.0518051385879517,1.0438674688339233,1.0049748420715332,1.004998803138733,1.004148244857788,0.9937811493873596,0.9825141429901123,0.9686964750289917,0.9647689461708069,0.9371557235717773,0.9412721395492554,0.9232339859008789,0.9174653887748718,0.9129623174667358,0.8893982768058777,0.8839951753616333,0.8694603443145752,0.8697009682655334,0.8553630709648132,0.8444719314575195,0.8379738330841064,0.8354849815368652,0.8199135661125183,0.8204805850982666,0.8098527193069458,0.7922447919845581,0.7803052663803101,0.7806603908538818,0.7673617601394653,0.7584644556045532,0.7458449602127075,0.7324387431144714,0.7383346557617188,0.724319338798523,0.7197027802467346,0.7089438438415527,0.6957002282142639,0.6908788084983826,0.6819369792938232,0.6734499335289001,0.6680623292922974,0.6578854322433472,0.6393396854400635,0.6443392038345337,0.627590537071228,0.6261160373687744,0.6163548827171326,0.6077026724815369,0.6039535999298096,0.5982959270477295,0.5867007374763489,0.5818207263946533,0.5743049383163452,0.5589582920074463,0.5646942257881165,0.5583314895629883,0.5410054922103882,0.5330494046211243,0.5312121510505676,0.5260390043258667,0.5174258351325989,0.5082123875617981,0.5038773417472839,0.4997982382774353,0.4874814748764038,0.48502129316329956,0.4777025878429413,0.4746834337711334,0.4716586768627167,0.4594646394252777,0.45565637946128845,0.44749829173088074,0.4415431618690491,0.4379681646823883,0.4368866980075836,0.42679139971733093,0.42418012022972107,0.41930511593818665,0.4153781533241272,0.40478751063346863,0.399890661239624,0.3936072587966919,0.39122939109802246,0.3891688883304596,0.3780164420604706,0.37369483709335327,0.36687415838241577,0.3694628179073334,0.3650830090045929,0.36487728357315063,0.357806921005249,0.35340359807014465,0.34267163276672363,0.34197619557380676,0.33666837215423584,0.33681365847587585,0.32861000299453735,0.32539084553718567,0.32021331787109375,0.3171895742416382,0.315560519695282,0.31555503606796265,0.3047685921192169,0.30273300409317017,0.30442067980766296,0.29399117827415466,0.29482778906822205,0.2901279926300049,0.28655949234962463,0.2847355306148529,0.28447362780570984,0.280082643032074,0.272235244512558,0.2714390754699707,0.27246156334877014,0.2674921452999115,0.2607990503311157,0.2580323815345764,0.25619572401046753,0.2525879442691803,0.25045686960220337,0.24988755583763123,0.24721886217594147,0.23870749771595,0.23845671117305756,0.236348494887352,0.23628194630146027,0.2311268150806427,0.22887562215328217,0.2303086370229721,0.22130607068538666,0.22083933651447296,0.2184104174375534,0.21665948629379272,0.2137058526277542,0.20989927649497986,0.2116893082857132,0.2079789638519287,0.2038344442844391,0.20244388282299042,0.20458556711673737,0.1973903328180313,0.19950121641159058,0.1972557008266449,0.1948319375514984,0.19413456320762634,0.19316744804382324,0.18598133325576782,0.18780723214149475,0.18518832325935364,0.18128162622451782,0.17716538906097412,0.17705994844436646,0.17623943090438843,0.17572933435440063,0.1744232326745987,0.17270223796367645,0.1734110713005066,0.16907721757888794,0.16688527166843414,0.16681019961833954,0.16367846727371216,0.16371217370033264,0.16079144179821014,0.15896129608154297,0.15834341943264008,0.15504421293735504,0.1570269763469696,0.15446454286575317,0.15189515054225922,0.15075616538524628,0.15033599734306335,0.1479310840368271,0.14570127427577972,0.1477171629667282,0.1455199420452118,0.1432330310344696,0.14014562964439392,0.14084547758102417,0.13810545206069946,0.1390644758939743,0.13757915794849396,0.13750164210796356,0.1344253271818161,0.13301478326320648,0.1322421282529831,0.13217946887016296,0.13096924126148224,0.12912866473197937,0.1290605664253235,0.12664982676506042,0.12505711615085602,0.1251925230026245,0.12452839314937592,0.12256917357444763,0.123649463057518,0.12188798189163208,0.12018793076276779,0.12010834366083145,0.1180664673447609,0.11682924628257751,0.11601101607084274,0.11575572937726974,0.11515127867460251,0.11319205164909363,0.1122376024723053,0.11157430708408356,0.10960474610328674,0.10926477611064911,0.1103636622428894,0.10795587301254272,0.10587169229984283,0.10619953274726868,0.10639490187168121,0.10511773824691772,0.10394348204135895,0.10262356698513031,0.10307784378528595,0.10262653976678848,0.10010863095521927,0.10101155936717987,0.0993872880935669,0.09931735694408417,0.09820766746997833,0.09691992402076721,0.09579162299633026,0.09568250179290771,0.09570793807506561,0.09537190198898315,0.09353440254926682,0.09321597218513489,0.09262193739414215,0.09143449366092682,0.09149657189846039,0.09035564213991165,0.09098175913095474,0.09013516455888748,0.08951479196548462,0.08701562136411667,0.08782856911420822,0.08662037551403046,0.08569054305553436,0.08536165207624435,0.08494925498962402,0.08455641567707062,0.08488454669713974,0.082957424223423,0.08217442035675049,0.08274071663618088,0.08319488167762756,0.08090600371360779,0.08104485273361206,0.07995118200778961,0.08120130002498627,0.07879721373319626,0.07806245982646942,0.07778764516115189,0.07715283334255219,0.07617641985416412,0.07657501846551895,0.07626786082983017,0.07531997561454773,0.07534393668174744,0.07531087100505829,0.07476300001144409,0.07406796514987946,0.07312671840190887,0.0729483813047409,0.07244806736707687,0.07211840152740479,0.0714234709739685,0.07097040116786957,0.07090763747692108,0.07049821317195892,0.06973808258771896,0.06960894167423248,0.06899748742580414,0.06763310730457306,0.06803689897060394,0.06857268512248993,0.06701326370239258,0.06704242527484894,0.06587959080934525,0.06537504494190216,0.0661240667104721,0.06540548801422119,0.0643463134765625,0.06460648775100708,0.06395242363214493,0.06381958723068237,0.06301575899124146,0.06316287815570831,0.06313586235046387,0.06251449137926102,0.06211855635046959,0.06125309318304062,0.06084143742918968,0.0611928254365921,0.060161929577589035,0.05988246202468872,0.059904228895902634,0.05994344875216484,0.05847834423184395,0.05895181745290756,0.05936787277460098,0.05832890421152115,0.057345736771821976,0.05758201330900192,0.05719847232103348,0.056748680770397186,0.05697842314839363,0.055958572775125504,0.05550248920917511,0.05581226944923401,0.0553337037563324,0.055182069540023804,0.054611317813396454,0.05416324734687805,0.05419556051492691,0.05457005649805069,0.05378522351384163,0.052978504449129105,0.05326924845576286,0.05300160124897957,0.05176272988319397,0.05161908641457558,0.051803335547447205,0.051662180572748184,0.05150820314884186,0.05090136080980301,0.05067159980535507,0.0506901778280735,0.050480667501688004,0.05011071264743805,0.04981791600584984,0.04951762035489082,0.04904421791434288,0.04923384264111519,0.048723429441452026,0.04885009676218033,0.04801974818110466,0.0477069616317749,0.04739382863044739,0.047864124178886414,0.04728345200419426,0.04683816432952881,0.04696888476610184,0.04653087630867958,0.046604227274656296,0.04615437611937523,0.046139150857925415,0.045929279178380966,0.045135483145713806,0.04529527574777603,0.0450737327337265,0.04509204998612404,0.04430816322565079,0.044352009892463684,0.044074736535549164,0.04358600080013275,0.0437336266040802,0.04382135346531868,0.043250057846307755,0.043155476450920105,0.042983923107385635,0.04296787083148956,0.042088862508535385,0.042503081262111664,0.04195786267518997,0.04199619218707085,0.04168205335736275,0.0415421761572361,0.041387517005205154,0.04146479815244675,0.040929023176431656,0.04042936488986015,0.040145114064216614,0.04047366604208946,0.03995451331138611,0.04013201594352722,0.040084388107061386,0.039512015879154205,0.039534419775009155,0.039166368544101715,0.03901160880923271,0.03892882540822029,0.03920236602425575,0.03818317875266075,0.038525376468896866,0.03835480287671089,0.03842008858919144,0.03794083744287491,0.037824250757694244,0.03755771741271019,0.0374753475189209,0.03732285648584366,0.03711564093828201,0.03744425252079964,0.0367693267762661,0.03673486411571503,0.036653708666563034,0.03638654574751854,0.03575650975108147,0.03614287078380585,0.03611158952116966,0.035799358040094376,0.035385068506002426,0.035361986607313156,0.035430554300546646,0.035367611795663834,0.035270918160676956,0.03480520471930504,0.034508172422647476,0.034277789294719696,0.03437039256095886,0.03410040959715843,0.03384145721793175,0.03360838070511818,0.03380605950951576,0.03366836905479431,0.0335591621696949,0.033151689916849136,0.033300742506980896,0.03309892490506172,0.03283780813217163,0.03274582326412201,0.032949354499578476,0.03255799785256386,0.032566409558057785,0.032098013907670975,0.032159656286239624,0.03196686878800392,0.03207435831427574,0.03193557262420654,0.03156105801463127,0.03129382058978081,0.031380798667669296,0.031368616968393326,0.031007859855890274,0.031076043844223022,0.03085915744304657,0.030798912048339844,0.030730072408914566,0.03038540855050087,0.03031190112233162,0.030427072197198868,0.03043319657444954,0.029834970831871033,0.029878981411457062,0.029587239027023315,0.02969001606106758,0.029682591557502747,0.029372289776802063,0.029605474323034286,0.029224175959825516,0.02919875457882881,0.028943471610546112,0.02882041037082672,0.028680335730314255,0.028588667511940002,0.028519049286842346,0.028190895915031433,0.028393637388944626,0.028186526149511337,0.028207853436470032,0.027861669659614563,0.027843426913022995,0.02775459736585617,0.027792762964963913,0.02762037143111229,0.027481872588396072,0.027268845587968826,0.02744026482105255,0.02713821455836296,0.026910748332738876,0.026964254677295685,0.026801735162734985,0.02692355215549469,0.02668680250644684,0.026752445846796036,0.026383496820926666,0.02656322345137596,0.026250962167978287,0.026015516370534897,0.025895342230796814,0.02594885602593422,0.025918330997228622,0.026030514389276505,0.0258808396756649,0.025981903076171875,0.025622684508562088,0.025426026433706284,0.025269724428653717,0.025459177792072296,0.025376219302415848,0.02516169473528862,0.025088395923376083,0.024794813245534897,0.02474290505051613,0.024698715656995773,0.024564694613218307,0.02467484027147293,0.02464684471487999,0.02432849258184433,0.02438705414533615,0.024187274277210236,0.02426883578300476,0.02433132752776146,0.023871704936027527,0.023898925632238388,0.023869946599006653,0.023846469819545746,0.023480206727981567,0.023723825812339783,0.023419931530952454,0.023499827831983566,0.023441698402166367,0.023322921246290207,0.02342686429619789,0.02327345311641693,0.023179668933153152,0.02301342412829399,0.022950895130634308,0.02276897057890892,0.022773168981075287,0.0224628783762455,0.022670302540063858,0.0225507915019989,0.022179491817951202,0.02245573326945305,0.02223728969693184,0.022132329642772675,0.02213064208626747,0.02215994894504547,0.022001415491104126,0.02193836122751236,0.02192544937133789,0.02177710458636284,0.021642226725816727,0.02156197652220726,0.021552804857492447,0.021670468151569366,0.02133879065513611,0.021257296204566956,0.021397985517978668,0.021350249648094177,0.021302200853824615,0.020889218896627426,0.020841244608163834,0.021025441586971283,0.02097943425178528,0.020830783993005753,0.02078816294670105,0.02075950801372528,0.020683977752923965,0.020468391478061676,0.020594630390405655,0.02051950991153717,0.020454037934541702,0.0202697291970253,0.02032008022069931,0.020118772983551025,0.019986312836408615,0.019958041608333588,0.019904080778360367,0.019806187599897385,0.02002154290676117,0.019742444157600403,0.01976683735847473,0.019493523985147476,0.019483137875795364,0.019535649567842484,0.019482526928186417,0.019416339695453644,0.019342787563800812,0.019501429051160812,0.019113503396511078,0.019187379628419876,0.01912665367126465,0.018978707492351532,0.018916893750429153,0.018931858241558075,0.01900498941540718,0.018829766660928726,0.018696527928113937,0.01871899887919426,0.018549177795648575,0.01860399916768074,0.01856830343604088,0.01840052381157875,0.018448736518621445,0.018400948494672775,0.01835722103714943,0.01829572394490242,0.018254488706588745,0.018112313002347946,0.01814151182770729,0.018191471695899963,0.0178837850689888,0.01802951842546463,0.017832379788160324,0.01784634217619896,0.017790164798498154,0.017669562250375748,0.01767125353217125,0.01767515391111374,0.01770259067416191,0.01761827990412712,0.01751049980521202,0.017346397042274475,0.017284352332353592,0.01736351102590561,0.017217468470335007,0.01718144118785858,0.017126761376857758,0.017114359885454178,0.01706947386264801,0.01706460863351822,0.016975104808807373,0.017085213214159012,0.016884777694940567,0.01688123121857643,0.016710083931684494,0.016813669353723526,0.016611743718385696,0.01668631285429001,0.016466587781906128,0.016520369797945023,0.01656607910990715,0.016439706087112427,0.016519695520401,0.016376033425331116,0.01631658896803856,0.016247674822807312,0.016282927244901657,0.016169093549251556,0.01600484549999237,0.016150005161762238,0.016036298125982285,0.01594625785946846,0.015985023230314255,0.01589600369334221,0.015777170658111572,0.015947412699460983,0.015713147819042206,0.0156920924782753,0.015695400536060333,0.015573881566524506,0.015626735985279083,0.015545032918453217,0.015460018068552017,0.01548098772764206,0.015463262796401978,0.015400189906358719,0.0153500996530056,0.015337653458118439,0.015208188444375992,0.01528843492269516,0.015176881104707718,0.015131138265132904,0.015130165964365005,0.015052177011966705,0.014965925365686417,0.014911230653524399,0.014951098710298538,0.01491108164191246,0.014675579965114594,0.014790091663599014,0.014711018651723862,0.014789178967475891,0.014716118574142456,0.014592047780752182,0.014662843197584152,0.014620024710893631,0.014524895697832108,0.01455988734960556,0.01458154246211052,0.014427073299884796,0.014344222843647003,0.01425560936331749,0.014257781207561493,0.014276240020990372,0.014214467257261276,0.014080595225095749,0.014129355549812317,0.014024876058101654,0.0141860730946064,0.014061659574508667,0.013956177979707718,0.013961710035800934,0.01388506218791008,0.013920307159423828,0.013871714472770691,0.013750217854976654,0.01377994567155838,0.013799335807561874,0.013767033815383911,0.013607606291770935,0.013666767627000809,0.013646803796291351,0.013491667807102203,0.01354379951953888,0.013491742312908173,0.01335839182138443,0.01347331702709198,0.013369899243116379,0.01342199370265007,0.013376768678426743,0.013274118304252625,0.013258971273899078,0.013185184448957443,0.013244390487670898,0.013101015239953995,0.013095133006572723,0.013086922466754913,0.013056036084890366,0.013043727725744247,0.012989889830350876,0.012953691184520721,0.01300598680973053,0.012887753546237946,0.012905973941087723,0.012867696583271027,0.012780919671058655,0.012791860848665237,0.012741763144731522,0.012762956321239471,0.01266208291053772,0.012671582400798798,0.012642286717891693,0.012609299272298813,0.012588940560817719,0.012583497911691666,0.012478627264499664,0.012455057352781296,0.01247718557715416,0.01240314170718193,0.01237434521317482,0.012336567044258118,0.012320071458816528,0.012268822640180588,0.012203935533761978,0.012299604713916779,0.01219736784696579,0.012104328721761703,0.012192808091640472,0.012139279395341873,0.012086424976587296,0.011972561478614807,0.012018684297800064,0.011977944523096085,0.011935841292142868,0.011901691555976868,0.011893916875123978,0.011833030730485916,0.011843409389257431,0.011901579797267914,0.011833999305963516,0.01176171749830246,0.011677183210849762,0.011736530810594559,0.01168343797326088,0.011598262935876846,0.011571019887924194,0.011618860065937042,0.01156039908528328,0.011565487831830978,0.011554215103387833,0.01145174354314804,0.011464234441518784,0.011371497064828873,0.011399772018194199,0.01131473109126091,0.011363815516233444,0.011289332062005997,0.01123117282986641,0.011220220476388931,0.011226531118154526,0.01128954067826271,0.011212028563022614,0.011168301105499268,0.011070355772972107,0.011124756187200546,0.011133875697851181,0.011039745062589645,0.010998737066984177,0.011077102273702621,0.0109708271920681,0.010935481637716293,0.010944783687591553,0.01088711991906166,0.01089436188340187,0.01089392602443695,0.010795459151268005,0.01079333946108818,0.01077083870768547,0.010737035423517227,0.010825760662555695,0.01071770116686821,0.010732315480709076,0.010638721287250519,0.01059764251112938,0.010685957968235016,0.010645482689142227,0.01051633432507515,0.01053968071937561,0.010514702647924423,0.010497532784938812,0.010428234934806824,0.010449204593896866,0.01045820489525795,0.010361459106206894,0.010425865650177002,0.010358523577451706,0.010261982679367065,0.0103408582508564,0.010258566588163376,0.010312475264072418,0.010250773280858994,0.010234303772449493,0.010248467326164246,0.010140683501958847,0.01004551351070404,0.010150033980607986,0.010103289037942886,0.010148845613002777,0.010059196501970291,0.009994931519031525,0.009992018342018127,0.01002468541264534,0.009946774691343307,0.00992853194475174]},\"selected\":{\"id\":\"24118afe-4556-4dd9-9dff-c9aa564c69a9\",\"type\":\"Selection\"},\"selection_policy\":{\"id\":\"f9d7b5d6-b5c8-434b-b1d8-b38791a134d5\",\"type\":\"UnionRenderers\"}},\"id\":\"9d890225-b5d6-4eed-b48d-d42eb0fb1ed2\",\"type\":\"ColumnDataSource\"},{\"attributes\":{\"active_drag\":\"auto\",\"active_inspect\":\"auto\",\"active_multi\":null,\"active_scroll\":\"auto\",\"active_tap\":\"auto\",\"tools\":[{\"id\":\"bfd71f7e-ebee-4644-a7c2-23dc31ef8779\",\"type\":\"PanTool\"},{\"id\":\"b2c22e00-9e41-4a85-8e7e-073475306406\",\"type\":\"WheelZoomTool\"},{\"id\":\"5b36ba1b-4ad4-4ce5-9db0-7d4f817963cb\",\"type\":\"BoxZoomTool\"},{\"id\":\"1e2c567b-f656-4842-98b7-234018870d0b\",\"type\":\"SaveTool\"},{\"id\":\"c3f733bf-7e02-43fb-86b1-8c6efa3b9150\",\"type\":\"ResetTool\"},{\"id\":\"1af27cb5-9884-4e20-b772-7a71affdb196\",\"type\":\"HelpTool\"}]},\"id\":\"791576c6-0154-484d-945f-118d365107d7\",\"type\":\"Toolbar\"},{\"attributes\":{\"callback\":null},\"id\":\"c17c2867-4a19-440b-b703-218f814c3d2b\",\"type\":\"DataRange1d\"},{\"attributes\":{\"line_alpha\":0.6,\"line_color\":\"#1f77b4\",\"line_width\":2,\"x\":{\"field\":\"x\"},\"y\":{\"field\":\"y\"}},\"id\":\"b64b475b-cbb6-46b8-8cd3-7f85dc21b62a\",\"type\":\"Line\"},{\"attributes\":{\"callback\":null,\"end\":2.3392415046691895},\"id\":\"b8296316-8c28-4e6b-bd0b-e7541c50cd85\",\"type\":\"Range1d\"},{\"attributes\":{},\"id\":\"c62bd3f4-6bb4-4b35-bf49-113fbef12603\",\"type\":\"LinearScale\"},{\"attributes\":{},\"id\":\"9d718371-0bc9-4aee-96f7-bd2c5fe84b26\",\"type\":\"LinearScale\"},{\"attributes\":{\"plot\":{\"id\":\"73645a0a-1a21-40ee-9b6f-d8764cf844ee\",\"subtype\":\"Figure\",\"type\":\"Plot\"},\"ticker\":{\"id\":\"9751dc4e-819e-43ba-90f0-b4bebb930ee6\",\"type\":\"BasicTicker\"}},\"id\":\"3786125c-1f2e-45f7-bb22-59da70f03b03\",\"type\":\"Grid\"},{\"attributes\":{\"formatter\":{\"id\":\"569bfcc6-d3ad-4c1c-a68c-22fdfbbf196a\",\"type\":\"BasicTickFormatter\"},\"plot\":{\"id\":\"73645a0a-1a21-40ee-9b6f-d8764cf844ee\",\"subtype\":\"Figure\",\"type\":\"Plot\"},\"ticker\":{\"id\":\"9751dc4e-819e-43ba-90f0-b4bebb930ee6\",\"type\":\"BasicTicker\"}},\"id\":\"8d53aaa8-986f-4284-b255-c58693d580ec\",\"type\":\"LinearAxis\"},{\"attributes\":{},\"id\":\"9751dc4e-819e-43ba-90f0-b4bebb930ee6\",\"type\":\"BasicTicker\"},{\"attributes\":{},\"id\":\"24118afe-4556-4dd9-9dff-c9aa564c69a9\",\"type\":\"Selection\"},{\"attributes\":{\"formatter\":{\"id\":\"a955d3df-16bf-4fcc-acd2-3bef6fb58437\",\"type\":\"BasicTickFormatter\"},\"plot\":{\"id\":\"73645a0a-1a21-40ee-9b6f-d8764cf844ee\",\"subtype\":\"Figure\",\"type\":\"Plot\"},\"ticker\":{\"id\":\"e0e968cd-d948-4241-8434-14f30fbcfac1\",\"type\":\"BasicTicker\"}},\"id\":\"56f7f467-d017-419c-92f8-4cd2489644cb\",\"type\":\"LinearAxis\"},{\"attributes\":{},\"id\":\"e0e968cd-d948-4241-8434-14f30fbcfac1\",\"type\":\"BasicTicker\"},{\"attributes\":{\"dimension\":1,\"plot\":{\"id\":\"73645a0a-1a21-40ee-9b6f-d8764cf844ee\",\"subtype\":\"Figure\",\"type\":\"Plot\"},\"ticker\":{\"id\":\"e0e968cd-d948-4241-8434-14f30fbcfac1\",\"type\":\"BasicTicker\"}},\"id\":\"c8403d58-0d22-4036-9984-4288215c4a54\",\"type\":\"Grid\"},{\"attributes\":{\"line_alpha\":0.1,\"line_color\":\"#1f77b4\",\"line_width\":2,\"x\":{\"field\":\"x\"},\"y\":{\"field\":\"y\"}},\"id\":\"5c7457ae-2e1d-4647-b258-e09c63ed0336\",\"type\":\"Line\"},{\"attributes\":{\"plot\":null,\"text\":\"\"},\"id\":\"9976943e-62de-4b18-8019-6ad4eff361c7\",\"type\":\"Title\"},{\"attributes\":{\"bottom_units\":\"screen\",\"fill_alpha\":{\"value\":0.5},\"fill_color\":{\"value\":\"lightgrey\"},\"left_units\":\"screen\",\"level\":\"overlay\",\"line_alpha\":{\"value\":1.0},\"line_color\":{\"value\":\"black\"},\"line_dash\":[4,4],\"line_width\":{\"value\":2},\"plot\":null,\"render_mode\":\"css\",\"right_units\":\"screen\",\"top_units\":\"screen\"},\"id\":\"6e90e7b3-5aa8-42f2-a410-4aadcf945eea\",\"type\":\"BoxAnnotation\"},{\"attributes\":{},\"id\":\"bfd71f7e-ebee-4644-a7c2-23dc31ef8779\",\"type\":\"PanTool\"},{\"attributes\":{\"source\":{\"id\":\"9d890225-b5d6-4eed-b48d-d42eb0fb1ed2\",\"type\":\"ColumnDataSource\"}},\"id\":\"522cf644-d41f-4fd3-a67f-4442705b4b48\",\"type\":\"CDSView\"},{\"attributes\":{},\"id\":\"b2c22e00-9e41-4a85-8e7e-073475306406\",\"type\":\"WheelZoomTool\"},{\"attributes\":{\"overlay\":{\"id\":\"6e90e7b3-5aa8-42f2-a410-4aadcf945eea\",\"type\":\"BoxAnnotation\"}},\"id\":\"5b36ba1b-4ad4-4ce5-9db0-7d4f817963cb\",\"type\":\"BoxZoomTool\"},{\"attributes\":{},\"id\":\"1e2c567b-f656-4842-98b7-234018870d0b\",\"type\":\"SaveTool\"},{\"attributes\":{},\"id\":\"c3f733bf-7e02-43fb-86b1-8c6efa3b9150\",\"type\":\"ResetTool\"},{\"attributes\":{},\"id\":\"1af27cb5-9884-4e20-b772-7a71affdb196\",\"type\":\"HelpTool\"},{\"attributes\":{\"line_alpha\":0.1,\"line_color\":\"#1f77b4\",\"line_width\":2,\"x\":{\"field\":\"x\"},\"y\":{\"field\":\"y\"}},\"id\":\"7ff734fe-2bf4-4dfc-85c2-b1bc0b6a8e3a\",\"type\":\"Line\"},{\"attributes\":{},\"id\":\"a955d3df-16bf-4fcc-acd2-3bef6fb58437\",\"type\":\"BasicTickFormatter\"},{\"attributes\":{},\"id\":\"85ce05f5-88da-4908-9e91-4a4d7462dfc3\",\"type\":\"UnionRenderers\"},{\"attributes\":{\"line_alpha\":0.6,\"line_color\":\"green\",\"line_width\":2,\"x\":{\"field\":\"x\"},\"y\":{\"field\":\"y\"}},\"id\":\"daebdc9c-4675-42cf-aa12-3e1620932dd1\",\"type\":\"Line\"},{\"attributes\":{\"data_source\":{\"id\":\"18108c6f-be13-445e-a018-dcd20dac650a\",\"type\":\"ColumnDataSource\"},\"glyph\":{\"id\":\"daebdc9c-4675-42cf-aa12-3e1620932dd1\",\"type\":\"Line\"},\"hover_glyph\":null,\"muted_glyph\":null,\"nonselection_glyph\":{\"id\":\"7ff734fe-2bf4-4dfc-85c2-b1bc0b6a8e3a\",\"type\":\"Line\"},\"selection_glyph\":null,\"view\":{\"id\":\"7d0afaba-f508-41c4-9064-bbfa6bf9fc5f\",\"type\":\"CDSView\"}},\"id\":\"41acad4c-b4f8-4acf-833a-7c849c21f9ef\",\"type\":\"GlyphRenderer\"},{\"attributes\":{},\"id\":\"f9d7b5d6-b5c8-434b-b1d8-b38791a134d5\",\"type\":\"UnionRenderers\"},{\"attributes\":{\"source\":{\"id\":\"18108c6f-be13-445e-a018-dcd20dac650a\",\"type\":\"ColumnDataSource\"}},\"id\":\"7d0afaba-f508-41c4-9064-bbfa6bf9fc5f\",\"type\":\"CDSView\"},{\"attributes\":{\"callback\":null,\"data\":{\"x\":{\"__ndarray__\":\"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\",\"dtype\":\"float64\",\"shape\":[500]},\"y\":[2.304523468017578,2.3045895099639893,2.304640769958496,2.3045098781585693,2.3043036460876465,2.3040928840637207,2.3039937019348145,2.3039276599884033,2.303832769393921,2.3038222789764404,2.3037326335906982,2.3036787509918213,2.30354905128479,2.3033854961395264,2.303255319595337,2.303162097930908,2.3031229972839355,2.3030905723571777,2.303105354309082,2.30314564704895,2.3032360076904297,2.303316593170166,2.303427219390869,2.303448438644409,2.303412914276123,2.3033406734466553,2.3032639026641846,2.303154468536377,2.303046941757202,2.3029215335845947,2.302811861038208,2.3026819229125977,2.30256724357605,2.3024868965148926,2.3024494647979736,2.302462100982666,2.302553176879883,2.3027141094207764,2.302889108657837,2.3031017780303955,2.3032796382904053,2.30342698097229,2.303584098815918,2.3037703037261963,2.3039402961730957,2.30409836769104,2.30423903465271,2.3043670654296875,2.3045287132263184,2.304647922515869,2.304795265197754,2.3049416542053223,2.3050737380981445,2.305180072784424,2.3053414821624756,2.305530309677124,2.3057169914245605,2.3059439659118652,2.3061602115631104,2.3063290119171143,2.3065192699432373,2.306694984436035,2.3068888187408447,2.307110071182251,2.3073172569274902,2.3075201511383057,2.307755708694458,2.3080453872680664,2.3083837032318115,2.308720111846924,2.3090572357177734,2.3093760013580322,2.3096940517425537,2.3100321292877197,2.3104307651519775,2.3108372688293457,2.311290979385376,2.3117072582244873,2.312164306640625,2.3126473426818848,2.313124656677246,2.3136632442474365,2.3142640590667725,2.3148770332336426,2.3154709339141846,2.3161041736602783,2.3167693614959717,2.3174116611480713,2.3180320262908936,2.3186962604522705,2.3193867206573486,2.320066452026367,2.3207876682281494,2.321509838104248,2.322237253189087,2.3229880332946777,2.323719024658203,2.3245067596435547,2.325273036956787,2.3260416984558105,2.3267998695373535,2.327604055404663,2.3284571170806885,2.329331874847412,2.3302252292633057,2.3311359882354736,2.332090139389038,2.3330602645874023,2.334125280380249,2.335261821746826,2.336411476135254,2.337592124938965,2.3388590812683105,2.3401548862457275,2.34143328666687,2.342752695083618,2.344097375869751,2.345444440841675,2.346818447113037,2.3482120037078857,2.349729299545288,2.3512802124023438,2.352912187576294,2.354586362838745,2.356290102005005,2.358064651489258,2.359877586364746,2.3617641925811768,2.3637049198150635,2.3656938076019287,2.367708206176758,2.3697521686553955,2.3718578815460205,2.374077558517456,2.376373052597046,2.378710985183716,2.3810644149780273,2.383488178253174,2.385922908782959,2.388399124145508,2.390892744064331,2.393442392349243,2.3960888385772705,2.3988003730773926,2.4016008377075195,2.4044442176818848,2.4073386192321777,2.410297393798828,2.413309097290039,2.4163925647735596,2.419546604156494,2.4227781295776367,2.4260709285736084,2.429434061050415,2.4328761100769043,2.4363300800323486,2.439905881881714,2.4435322284698486,2.4471640586853027,2.450881004333496,2.454650640487671,2.4585001468658447,2.4624173641204834,2.466442823410034,2.4705302715301514,2.474717617034912,2.478921413421631,2.4831535816192627,2.4875001907348633,2.491969347000122,2.496436595916748,2.5010077953338623,2.5056943893432617,2.510478973388672,2.5153303146362305,2.5202016830444336,2.525130033493042,2.5300631523132324,2.535125970840454,2.5402328968048096,2.5454185009002686,2.550732374191284,2.556093454360962,2.5615439414978027,2.5669806003570557,2.5724878311157227,2.5780534744262695,2.5836892127990723,2.5893607139587402,2.5950777530670166,2.6008355617523193,2.6067185401916504,2.6127126216888428,2.6188154220581055,2.624953031539917,2.6311583518981934,2.6374614238739014,2.6438848972320557,2.6503360271453857,2.65685772895813,2.663486957550049,2.670193672180176,2.6769795417785645,2.6838393211364746,2.6907577514648438,2.697709321975708,2.7047314643859863,2.711815595626831,2.718996047973633,2.7262210845947266,2.7335093021392822,2.7407829761505127,2.7480592727661133,2.755375385284424,2.7627358436584473,2.7701964378356934,2.77764892578125,2.7852165699005127,2.792790651321411,2.8004183769226074,2.8080952167510986,2.815824270248413,2.823604106903076,2.8314669132232666,2.8392632007598877,2.8470938205718994,2.8549535274505615,2.86286997795105,2.8708558082580566,2.878852128982544,2.8868610858917236,2.894927501678467,2.9029603004455566,2.911038637161255,2.919163703918457,2.9273107051849365,2.9355967044830322,2.943908452987671,2.952202081680298,2.960538387298584,2.9688971042633057,2.9772706031799316,2.9856972694396973,2.9941635131835938,3.002655267715454,3.011138439178467,3.0196118354797363,3.028043508529663,3.036461591720581,3.0448646545410156,3.05318284034729,3.06160831451416,3.0699961185455322,3.0784294605255127,3.0868289470672607,3.0951452255249023,3.1034467220306396,3.1118295192718506,3.1202445030212402,3.128689765930176,3.137136220932007,3.1455557346343994,3.153914451599121,3.162278890609741,3.170632839202881,3.178989887237549,3.187450408935547,3.195915699005127,3.2042930126190186,3.2126619815826416,3.2209644317626953,3.229236125946045,3.237489938735962,3.2456905841827393,3.253861427307129,3.2620468139648438,3.270195484161377,3.278352975845337,3.2865967750549316,3.2947933673858643,3.302959442138672,3.311089515686035,3.3192548751831055,3.327446222305298,3.3356142044067383,3.3437490463256836,3.3519093990325928,3.3600590229034424,3.368187189102173,3.376316547393799,3.384429931640625,3.3924827575683594,3.4005444049835205,3.4085536003112793,3.416541814804077,3.4245121479034424,3.4324886798858643,3.4404406547546387,3.4483323097229004,3.456234931945801,3.4641313552856445,3.47200870513916,3.4799070358276367,3.487783432006836,3.4956188201904297,3.503361225128174,3.511032819747925,3.5187103748321533,3.5263760089874268,3.5339672565460205,3.5415475368499756,3.5490922927856445,3.5565829277038574,3.5640218257904053,3.571441650390625,3.57883358001709,3.5862011909484863,3.593562602996826,3.600870370864868,3.60815691947937,3.61537766456604,3.622638702392578,3.629864454269409,3.6370506286621094,3.6442036628723145,3.6514601707458496,3.658665657043457,3.665825605392456,3.6730172634124756,3.6801536083221436,3.6872828006744385,3.6943697929382324,3.7014503479003906,3.7084720134735107,3.7154650688171387,3.722454309463501,3.7294251918792725,3.736422538757324,3.7434241771698,3.750404119491577,3.757389545440674,3.764294147491455,3.7711684703826904,3.7780561447143555,3.784933090209961,3.791776180267334,3.7986092567443848,3.8053853511810303,3.8121376037597656,3.818849563598633,3.825565814971924,3.83223032951355,3.838866949081421,3.8454232215881348,3.85196590423584,3.858478546142578,3.8649587631225586,3.8714029788970947,3.8778369426727295,3.884229898452759,3.890612840652466,3.896947145462036,3.9032680988311768,3.9095726013183594,3.9158387184143066,3.922081232070923,3.9282383918762207,3.9343831539154053,3.9405407905578613,3.9466705322265625,3.952822685241699,3.9589266777038574,3.965013027191162,3.9710729122161865,3.977130651473999,3.9831655025482178,3.9891655445098877,3.995147228240967,4.001101970672607,4.00700569152832,4.012885093688965,4.018799781799316,4.024717330932617,4.030592441558838,4.036434173583984,4.042335033416748,4.0482258796691895,4.0540337562561035,4.059811592102051,4.065600395202637,4.071400165557861,4.077219009399414,4.08298397064209,4.088737487792969,4.094478130340576,4.100236415863037,4.106024742126465,4.11176061630249,4.117487907409668,4.123186111450195,4.128886699676514,4.134566783905029,4.140170097351074,4.145791530609131,4.151381492614746,4.156984806060791,4.162557601928711,4.168106555938721,4.173619747161865,4.179135799407959,4.184610366821289,4.190078258514404,4.195518493652344,4.2009453773498535,4.206365585327148,4.211770057678223,4.217177391052246,4.22257661819458,4.227931022644043,4.2332763671875,4.238552570343018,4.243879795074463,4.249154567718506,4.254430770874023,4.259688377380371,4.264915466308594,4.270116806030273,4.275300979614258,4.2804484367370605,4.285623550415039,4.290829658508301,4.295992851257324,4.301154613494873,4.306308746337891,4.3114333152771,4.316522598266602,4.3215508460998535,4.326598644256592,4.331627368927002,4.336647987365723,4.341668128967285,4.3466973304748535,4.351727485656738,4.356744766235352,4.361728191375732,4.366681098937988,4.37162971496582,4.376567363739014,4.381490230560303,4.38640832901001,4.391301155090332,4.396191120147705,4.401106357574463,4.405980110168457,4.410816192626953,4.415624141693115,4.420427322387695,4.4252400398254395,4.430027484893799,4.434798717498779,4.439563751220703,4.444287300109863,4.448958873748779,4.453601837158203,4.458250999450684,4.462897300720215,4.467504024505615,4.4720845222473145,4.47666597366333,4.481251239776611,4.485815525054932,4.490330696105957,4.494837760925293,4.4993367195129395,4.5038018226623535,4.508256912231445,4.512691497802734,4.517105579376221,4.521503448486328,4.525893211364746,4.530269145965576,4.534627914428711,4.538976192474365,4.543307304382324,4.547636985778809,4.55199670791626,4.556350231170654,4.560727119445801,4.565057277679443,4.569360733032227,4.573648929595947,4.577949523925781,4.582187175750732,4.586421489715576,4.5906524658203125,4.594882965087891,4.599112510681152,4.603325366973877,4.607524871826172,4.611703395843506,4.6158881187438965,4.620068073272705,4.624222278594971,4.628350734710693,4.632426738739014,4.636504173278809,4.640603542327881,4.644676208496094,4.648736476898193,4.652780055999756,4.656811714172363,4.660831451416016,4.664809703826904,4.668776512145996,4.672759056091309,4.676718711853027,4.6807169914245605,4.6846923828125,4.688686847686768,4.69262170791626,4.696556091308594,4.700503349304199,4.7044291496276855,4.708329677581787,4.7121968269348145,4.716045379638672,4.719943046569824,4.723784923553467,4.72763204574585,4.731452465057373,4.735260486602783,4.739082336425781,4.742897033691406,4.746717929840088,4.750524044036865,4.754304885864258,4.758070468902588,4.761835098266602,4.765578269958496,4.769299030303955,4.77301025390625,4.776732444763184,4.780423641204834,4.784126281738281,4.787813663482666,4.791513442993164,4.7951812744140625,4.798832893371582,4.802456855773926,4.806059837341309,4.809623718261719,4.813185691833496,4.816730976104736,4.8202667236328125,4.82381534576416,4.827334403991699,4.830842971801758,4.834321022033691,4.837821960449219,4.841320514678955,4.844823837280273,4.848295211791992,4.851767539978027,4.855230331420898,4.858708381652832,4.862181186676025,4.865644931793213,4.8691086769104,4.872547626495361,4.875980854034424,4.879406929016113,4.882864952087402,4.88631010055542,4.889758110046387,4.893222808837891,4.89670467376709,4.900149345397949,4.903597354888916,4.907029628753662,4.9104533195495605,4.913895606994629,4.91732931137085,4.920762538909912,4.924195289611816,4.92762565612793,4.931036949157715,4.934443473815918,4.937844276428223,4.941214084625244,4.944551467895508,4.947892665863037,4.951223373413086,4.954564571380615,4.957902908325195,4.961216926574707,4.964505672454834,4.967777729034424,4.9710564613342285,4.974358558654785,4.977687835693359,4.980997085571289,4.984304428100586,4.98760461807251,4.99088716506958,4.994172096252441,4.997472286224365,5.000774383544922,5.004075050354004,5.007378578186035,5.010664939880371,5.013978958129883,5.017258644104004,5.020488739013672,5.023716449737549,5.026919364929199,5.030097961425781,5.033276081085205,5.036422252655029,5.039584159851074,5.042736530303955,5.0459065437316895,5.0490899085998535,5.052241325378418,5.0553741455078125,5.058486461639404,5.061603546142578,5.064691543579102,5.0677876472473145,5.070864677429199,5.073943138122559,5.077043533325195,5.0801100730896,5.083180904388428,5.086211204528809,5.089244842529297,5.092254638671875,5.09529447555542,5.098333358764648,5.101339817047119,5.104323387145996,5.107327938079834,5.110304832458496,5.113300323486328,5.116270065307617,5.119259357452393,5.122231483459473,5.125208854675293,5.12819242477417,5.131168365478516,5.134119510650635,5.137060165405273,5.139956951141357,5.142837047576904,5.145730018615723,5.148634433746338,5.1515092849731445,5.154392242431641,5.157278537750244,5.160157203674316,5.1630377769470215,5.165904521942139,5.16876220703125,5.171653747558594,5.17452335357666,5.177403926849365,5.180275917053223,5.183143138885498,5.185991287231445,5.1888580322265625,5.191738128662109,5.194629192352295,5.197505950927734,5.20039176940918,5.203269958496094,5.206114292144775,5.208949565887451,5.211761951446533,5.214571952819824,5.217369556427002,5.220195770263672,5.223017692565918,5.225845813751221,5.228673458099365,5.2314910888671875,5.23432731628418,5.237146854400635,5.239962100982666,5.24276876449585,5.245550632476807,5.248338222503662,5.251111030578613,5.253879070281982,5.2566375732421875,5.25938081741333,5.262110710144043,5.264842987060547,5.267548561096191,5.27027702331543,5.273003578186035,5.27571439743042,5.278429985046387,5.281138896942139,5.28384256362915,5.2865471839904785,5.28924560546875,5.291933059692383,5.2946062088012695,5.2972822189331055,5.299956321716309,5.30259895324707,5.305246353149414,5.307873249053955,5.310490608215332,5.313124656677246,5.315757751464844,5.318393707275391,5.321018218994141,5.323634147644043,5.326226234436035,5.328828811645508,5.331418514251709,5.334018230438232,5.336618900299072,5.3391852378845215,5.341768741607666,5.344376087188721,5.346979141235352,5.349593639373779,5.352197170257568,5.354795932769775,5.35738468170166,5.3599724769592285,5.362539291381836,5.365096569061279,5.3676652908325195,5.3702168464660645,5.372792720794678,5.375344753265381,5.377898693084717,5.380431175231934,5.382967948913574,5.385512351989746,5.388052463531494,5.390598297119141,5.393134593963623,5.395662784576416,5.398196220397949,5.400717258453369,5.403242111206055,5.4057464599609375,5.40826416015625,5.410773754119873,5.413294792175293,5.41581392288208,5.418310642242432,5.420785427093506,5.42325496673584,5.42572546005249,5.428221225738525,5.430691719055176,5.4331440925598145,5.435606002807617,5.43803596496582,5.4404616355896,5.442864894866943,5.445279121398926,5.447693347930908,5.450082778930664,5.452475070953369,5.454866886138916,5.457265377044678,5.459648609161377,5.46202278137207,5.4643940925598145,5.4667558670043945,5.469108581542969,5.471462726593018,5.47383451461792,5.476189613342285,5.478557586669922,5.480915069580078,5.483278274536133,5.4856276512146,5.487997531890869,5.490355968475342,5.492701530456543,5.495048999786377,5.49740743637085,5.499754428863525,5.502110958099365,5.504469871520996,5.506838798522949,5.509219169616699,5.511582374572754,5.5139384269714355,5.516296863555908,5.518649101257324,5.520989894866943,5.523332595825195,5.525684356689453,5.528030872344971,5.530370235443115,5.532721042633057,5.535055637359619,5.5374040603637695,5.5397562980651855,5.5420942306518555,5.544430732727051,5.546762466430664,5.549083709716797,5.551403045654297,5.553722381591797,5.556033611297607,5.558340549468994,5.560641288757324,5.562927722930908,5.565216064453125,5.567492961883545,5.569778919219971,5.572056770324707,5.574326992034912,5.5765886306762695,5.578835964202881,5.581077575683594,5.583336353302002,5.585595607757568,5.587857246398926,5.59011173248291,5.592355728149414,5.594618320465088,5.596879005432129,5.599133491516113,5.601365566253662,5.6035966873168945,5.605827808380127,5.60803747177124,5.610230922698975,5.612411022186279,5.614582538604736,5.616754531860352,5.618924140930176,5.621067047119141,5.623194217681885,5.625326156616211,5.627434253692627,5.629569053649902,5.6317009925842285,5.633839130401611,5.635974407196045,5.638082981109619,5.640182971954346,5.642282962799072,5.644362926483154,5.646444320678711,5.648519992828369,5.650594234466553,5.652675151824951,5.6547770500183105,5.656885147094727,5.659006118774414,5.661129951477051,5.663247108459473,5.665356636047363,5.6674604415893555,5.669545650482178,5.671621799468994,5.673685073852539,5.675747394561768,5.677817344665527,5.6798882484436035,5.681952953338623,5.684015274047852,5.686081409454346,5.688149452209473,5.690232276916504,5.692312240600586,5.694395542144775,5.696468830108643,5.698543071746826,5.700606346130371,5.702672004699707,5.704727649688721,5.7067670822143555,5.708819389343262,5.710862636566162,5.712903022766113,5.714938163757324,5.716976642608643,5.719021320343018,5.721065998077393,5.723115921020508,5.725153923034668,5.727205276489258,5.72925329208374,5.731304168701172,5.733363151550293,5.735423564910889,5.737473964691162,5.739503383636475,5.741532325744629,5.743561267852783,5.7455854415893555,5.747622489929199,5.749655246734619,5.751684665679932,5.753703594207764,5.755719184875488,5.757710933685303,5.759695529937744,5.761683464050293,5.763674259185791,5.765663146972656,5.767640113830566,5.7696123123168945,5.77156925201416,5.773535251617432,5.7755126953125,5.777473449707031,5.779438495635986,5.781398773193359,5.783359050750732,5.785315036773682,5.787265777587891,5.78919792175293,5.791143417358398,5.793105602264404,5.795053482055664,5.797010898590088,5.798969268798828,5.8009114265441895,5.802852630615234,5.804794788360596,5.806735515594482,5.808696746826172,5.8106489181518555,5.812603950500488,5.814553737640381,5.816493988037109,5.818431854248047,5.820374488830566,5.8223114013671875,5.824249267578125,5.826173305511475,5.828094482421875,5.8300042152404785,5.8319172859191895,5.833816051483154,5.835719585418701,5.837625503540039,5.8395256996154785,5.841439723968506,5.843358993530273,5.845286846160889,5.847204208374023,5.849117755889893,5.851041316986084,5.852968215942383,5.854881286621094,5.85678768157959,5.858672618865967,5.860567569732666,5.862452507019043,5.864330768585205,5.866217613220215,5.868112564086914,5.869990348815918,5.871862888336182,5.873732089996338,5.875597953796387,5.877463340759277,5.879330158233643,5.881200313568115,5.883062362670898,5.884920597076416,5.886768341064453,5.888631343841553,5.890492916107178,5.892342567443848,5.894205093383789,5.896054744720459,5.897911071777344,5.899765491485596,5.901610851287842,5.903457164764404,5.905297756195068,5.907118797302246,5.908945083618164,5.910767555236816,5.912567138671875,5.914369583129883,5.916177272796631,5.917998790740967,5.919823169708252,5.921647548675537,5.9234514236450195,5.925252914428711,5.927045822143555,5.928839683532715,5.9306230545043945,5.9324212074279785]},\"selected\":{\"id\":\"567eb650-b56e-4256-b1ab-92771e5f8426\",\"type\":\"Selection\"},\"selection_policy\":{\"id\":\"85ce05f5-88da-4908-9e91-4a4d7462dfc3\",\"type\":\"UnionRenderers\"}},\"id\":\"18108c6f-be13-445e-a018-dcd20dac650a\",\"type\":\"ColumnDataSource\"},{\"attributes\":{},\"id\":\"569bfcc6-d3ad-4c1c-a68c-22fdfbbf196a\",\"type\":\"BasicTickFormatter\"},{\"attributes\":{},\"id\":\"567eb650-b56e-4256-b1ab-92771e5f8426\",\"type\":\"Selection\"},{\"attributes\":{\"below\":[{\"id\":\"8d53aaa8-986f-4284-b255-c58693d580ec\",\"type\":\"LinearAxis\"}],\"left\":[{\"id\":\"56f7f467-d017-419c-92f8-4cd2489644cb\",\"type\":\"LinearAxis\"}],\"plot_height\":400,\"plot_width\":800,\"renderers\":[{\"id\":\"8d53aaa8-986f-4284-b255-c58693d580ec\",\"type\":\"LinearAxis\"},{\"id\":\"3786125c-1f2e-45f7-bb22-59da70f03b03\",\"type\":\"Grid\"},{\"id\":\"56f7f467-d017-419c-92f8-4cd2489644cb\",\"type\":\"LinearAxis\"},{\"id\":\"c8403d58-0d22-4036-9984-4288215c4a54\",\"type\":\"Grid\"},{\"id\":\"6e90e7b3-5aa8-42f2-a410-4aadcf945eea\",\"type\":\"BoxAnnotation\"},{\"id\":\"7d398c0f-e61d-4b5c-95e6-5492db79bdc1\",\"type\":\"GlyphRenderer\"},{\"id\":\"41acad4c-b4f8-4acf-833a-7c849c21f9ef\",\"type\":\"GlyphRenderer\"}],\"title\":{\"id\":\"9976943e-62de-4b18-8019-6ad4eff361c7\",\"type\":\"Title\"},\"toolbar\":{\"id\":\"791576c6-0154-484d-945f-118d365107d7\",\"type\":\"Toolbar\"},\"x_range\":{\"id\":\"c17c2867-4a19-440b-b703-218f814c3d2b\",\"type\":\"DataRange1d\"},\"x_scale\":{\"id\":\"c62bd3f4-6bb4-4b35-bf49-113fbef12603\",\"type\":\"LinearScale\"},\"y_range\":{\"id\":\"b8296316-8c28-4e6b-bd0b-e7541c50cd85\",\"type\":\"Range1d\"},\"y_scale\":{\"id\":\"9d718371-0bc9-4aee-96f7-bd2c5fe84b26\",\"type\":\"LinearScale\"}},\"id\":\"73645a0a-1a21-40ee-9b6f-d8764cf844ee\",\"subtype\":\"Figure\",\"type\":\"Plot\"}],\"root_ids\":[\"73645a0a-1a21-40ee-9b6f-d8764cf844ee\"]},\"title\":\"Bokeh Application\",\"version\":\"0.13.0\"}};\n",
              "  var render_items = [{\"docid\":\"9be1a38e-7f3a-40ec-b846-e9276fe6ee2f\",\"roots\":{\"73645a0a-1a21-40ee-9b6f-d8764cf844ee\":\"7c75852a-2041-4407-bd3e-0eb81e79f85e\"}}];\n",
              "  root.Bokeh.embed.embed_items_notebook(docs_json, render_items);\n",
              "\n",
              "  }\n",
              "  if (root.Bokeh !== undefined) {\n",
              "    embed_document(root);\n",
              "  } else {\n",
              "    var attempts = 0;\n",
              "    var timer = setInterval(function(root) {\n",
              "      if (root.Bokeh !== undefined) {\n",
              "        embed_document(root);\n",
              "        clearInterval(timer);\n",
              "      }\n",
              "      attempts++;\n",
              "      if (attempts > 100) {\n",
              "        console.log(\"Bokeh: ERROR: Unable to run BokehJS code because BokehJS library is missing\")\n",
              "        clearInterval(timer);\n",
              "      }\n",
              "    }, 10, root)\n",
              "  }\n",
              "})(window);"
            ],
            "application/vnd.bokehjs_exec.v0+json": ""
          },
          "metadata": {
            "tags": [],
            "application/vnd.bokehjs_exec.v0+json": {
              "id": "73645a0a-1a21-40ee-9b6f-d8764cf844ee"
            }
          }
        },
        {
          "output_type": "stream",
          "text": [
            "/usr/local/lib/python3.6/dist-packages/bokeh/models/sources.py:110: BokehUserWarning: ColumnDataSource's columns must be of the same length. Current lengths: ('x', 500), ('y', 1000)\n",
            "  \"Current lengths: %s\" % \", \".join(sorted(str((k, len(v))) for k, v in data.items())), BokehUserWarning))\n",
            "/usr/local/lib/python3.6/dist-packages/bokeh/models/sources.py:110: BokehUserWarning: ColumnDataSource's columns must be of the same length. Current lengths: ('x', 500), ('y', 1000)\n",
            "  \"Current lengths: %s\" % \", \".join(sorted(str((k, len(v))) for k, v in data.items())), BokehUserWarning))\n"
          ],
          "name": "stderr"
        },
        {
          "output_type": "display_data",
          "data": {
            "text/html": [
              "\n",
              "\n",
              "\n",
              "\n",
              "\n",
              "\n",
              "  <div class=\"bk-root\" id=\"64c93b5f-d9ee-47c2-a97c-180f3dc3645f\"></div>\n"
            ]
          },
          "metadata": {
            "tags": []
          }
        },
        {
          "output_type": "display_data",
          "data": {
            "application/javascript": [
              "(function(root) {\n",
              "  function embed_document(root) {\n",
              "    \n",
              "  var docs_json = {\"bb3f51c3-7b24-408c-ad33-6c82a9d3cb3a\":{\"roots\":{\"references\":[{\"attributes\":{\"data_source\":{\"id\":\"89d8a5ba-99cf-4d56-b77c-bd8a733a66c5\",\"type\":\"ColumnDataSource\"},\"glyph\":{\"id\":\"e2fd164f-ef70-4dec-bba2-40f53bb05918\",\"type\":\"Line\"},\"hover_glyph\":null,\"muted_glyph\":null,\"nonselection_glyph\":{\"id\":\"e520403d-6b63-42ac-8983-98bc568971c9\",\"type\":\"Line\"},\"selection_glyph\":null,\"view\":{\"id\":\"1dc0ef10-dd7f-4f0a-ba4d-f134931bbad4\",\"type\":\"CDSView\"}},\"id\":\"8463833f-e48e-49ac-a331-9385e4e5097b\",\"type\":\"GlyphRenderer\"},{\"attributes\":{},\"id\":\"c133fa51-4359-4930-b205-9c008e66f8e4\",\"type\":\"PanTool\"},{\"attributes\":{},\"id\":\"abacacb3-3514-437d-9b3a-63633e648c1c\",\"type\":\"Selection\"},{\"attributes\":{},\"id\":\"8a42e358-d188-455e-81ea-8f2897f150c8\",\"type\":\"BasicTicker\"},{\"attributes\":{},\"id\":\"23a34615-32f9-4788-855e-214db98d9fcb\",\"type\":\"BasicTickFormatter\"},{\"attributes\":{},\"id\":\"baa301cd-1b95-4e14-af10-e0ca45e16db4\",\"type\":\"BasicTickFormatter\"},{\"attributes\":{\"line_alpha\":0.6,\"line_color\":\"green\",\"line_width\":2,\"x\":{\"field\":\"x\"},\"y\":{\"field\":\"y\"}},\"id\":\"a9301cf7-3e9d-4ef1-981b-9267b26456c7\",\"type\":\"Line\"},{\"attributes\":{},\"id\":\"11c47fa8-c0ed-409c-8e29-8808f33b5b34\",\"type\":\"UnionRenderers\"},{\"attributes\":{\"callback\":null},\"id\":\"7df6a7a0-58e9-4a63-af91-688a1b7d2874\",\"type\":\"DataRange1d\"},{\"attributes\":{\"bottom_units\":\"screen\",\"fill_alpha\":{\"value\":0.5},\"fill_color\":{\"value\":\"lightgrey\"},\"left_units\":\"screen\",\"level\":\"overlay\",\"line_alpha\":{\"value\":1.0},\"line_color\":{\"value\":\"black\"},\"line_dash\":[4,4],\"line_width\":{\"value\":2},\"plot\":null,\"render_mode\":\"css\",\"right_units\":\"screen\",\"top_units\":\"screen\"},\"id\":\"b9378e6e-f190-40e5-9e9e-4241912b62bd\",\"type\":\"BoxAnnotation\"},{\"attributes\":{\"dimension\":1,\"plot\":{\"id\":\"d8eef8bd-ae31-482e-8fd6-b6eb1589d466\",\"subtype\":\"Figure\",\"type\":\"Plot\"},\"ticker\":{\"id\":\"c91bc8b0-561d-4a8e-8511-ce91c404d9a3\",\"type\":\"BasicTicker\"}},\"id\":\"f2a3516d-4ca4-45d9-809f-5f6ad35eaa8d\",\"type\":\"Grid\"},{\"attributes\":{},\"id\":\"36f1446c-c171-4c6e-9270-da457b58a9d5\",\"type\":\"UnionRenderers\"},{\"attributes\":{},\"id\":\"1a475ac3-117f-4b68-92f1-08e58e542382\",\"type\":\"LinearScale\"},{\"attributes\":{},\"id\":\"246baac2-61aa-4da0-a412-1ec93fd365ee\",\"type\":\"Selection\"},{\"attributes\":{\"active_drag\":\"auto\",\"active_inspect\":\"auto\",\"active_multi\":null,\"active_scroll\":\"auto\",\"active_tap\":\"auto\",\"tools\":[{\"id\":\"c133fa51-4359-4930-b205-9c008e66f8e4\",\"type\":\"PanTool\"},{\"id\":\"37389143-8b4c-410b-be7b-6a7256a29209\",\"type\":\"WheelZoomTool\"},{\"id\":\"09123d1b-ce86-46f1-b4b1-49744d587c33\",\"type\":\"BoxZoomTool\"},{\"id\":\"1a4c2f7d-859e-4ba2-9e2c-2770120e9f88\",\"type\":\"SaveTool\"},{\"id\":\"36c0cea4-88c2-46d5-af79-ff9a6a089893\",\"type\":\"ResetTool\"},{\"id\":\"f270724f-7c91-4347-9f6b-b267cb1d7b8f\",\"type\":\"HelpTool\"}]},\"id\":\"e10ebbfd-a0b6-4794-9878-6bd0cf9c2c4e\",\"type\":\"Toolbar\"},{\"attributes\":{},\"id\":\"1a4c2f7d-859e-4ba2-9e2c-2770120e9f88\",\"type\":\"SaveTool\"},{\"attributes\":{\"callback\":null,\"end\":2.3338816165924072},\"id\":\"34551160-b789-401e-b739-c763ca4ede37\",\"type\":\"Range1d\"},{\"attributes\":{\"callback\":null,\"data\":{\"x\":{\"__ndarray__\":\"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\",\"dtype\":\"float64\",\"shape\":[500]},\"y\":[2.314196825027466,2.3147451877593994,2.3146841526031494,2.3145105838775635,2.3141798973083496,2.313981056213379,2.31355357170105,2.312882423400879,2.3122425079345703,2.3113574981689453,2.310431718826294,2.3095901012420654,2.3088793754577637,2.308298349380493,2.30780291557312,2.3072736263275146,2.30678129196167,2.3062238693237305,2.305697202682495,2.305154323577881,2.3047289848327637,2.304253101348877,2.303684711456299,2.3031046390533447,2.3025035858154297,2.3018667697906494,2.3011984825134277,2.3005261421203613,2.2998695373535156,2.2992475032806396,2.2985470294952393,2.297999143600464,2.2974891662597656,2.2970428466796875,2.296607494354248,2.296140670776367,2.295482635498047,2.2948663234710693,2.2942090034484863,2.293496608734131,2.292849063873291,2.2922849655151367,2.2917730808258057,2.291238784790039,2.2904927730560303,2.2896618843078613,2.2887258529663086,2.287839412689209,2.2868664264678955,2.285728931427002,2.2846181392669678,2.2836804389953613,2.2826220989227295,2.281355619430542,2.2798314094543457,2.278149366378784,2.276322603225708,2.274230480194092,2.2720787525177,2.2697486877441406,2.267298460006714,2.26469087600708,2.2616591453552246,2.2582950592041016,2.254425287246704,2.250077724456787,2.2451562881469727,2.2396774291992188,2.233659505844116,2.2268247604370117,2.218947649002075,2.210268497467041,2.2007923126220703,2.1902568340301514,2.1784379482269287,2.1652538776397705,2.1505789756774902,2.134592056274414,2.1169776916503906,2.097825765609741,2.077232837677002,2.0551681518554688,2.0312514305114746,2.006030797958374,1.9799422025680542,1.9532520771026611,1.926285743713379,1.8989918231964111,1.872316598892212,1.845879316329956,1.8204340934753418,1.7967902421951294,1.7748727798461914,1.7547075748443604,1.7362134456634521,1.7192330360412598,1.7029401063919067,1.6891770362854004,1.6766611337661743,1.6665130853652954,1.6578871011734009,1.6513752937316895,1.6451764106750488,1.6405787467956543,1.6363474130630493,1.6326279640197754,1.6296623945236206,1.6271586418151855,1.624184012413025,1.621482014656067,1.6174144744873047,1.6131192445755005,1.610193133354187,1.6059890985488892,1.6019765138626099,1.596286416053772,1.5892308950424194,1.5818086862564087,1.5750752687454224,1.569832444190979,1.5649362802505493,1.55977463722229,1.5567973852157593,1.5541481971740723,1.5500962734222412,1.5434370040893555,1.5363047122955322,1.5281238555908203,1.519424319267273,1.510310411453247,1.502231240272522,1.4937728643417358,1.4847288131713867,1.4756059646606445,1.4661945104599,1.4561172723770142,1.445713758468628,1.434735655784607,1.422899603843689,1.4108680486679077,1.3984845876693726,1.3864802122116089,1.3746479749679565,1.3628854751586914,1.3495451211929321,1.335716724395752,1.3222012519836426,1.3070850372314453,1.2917842864990234,1.2774267196655273,1.26300847530365,1.247481107711792,1.2321499586105347,1.2169338464736938,1.2037911415100098,1.1915361881256104,1.1773029565811157,1.162033200263977,1.1469987630844116,1.1310094594955444,1.116384744644165,1.1016141176223755,1.0863295793533325,1.0712175369262695,1.0560728311538696,1.0412635803222656,1.0268659591674805,1.0125701427459717,0.9986305832862854,0.9850593209266663,0.9726893305778503,0.9602089524269104,0.9473509788513184,0.9343211054801941,0.921815812587738,0.9096744656562805,0.8988330960273743,0.8880948424339294,0.8762543797492981,0.8636562824249268,0.8507322669029236,0.8382778167724609,0.8269611597061157,0.8154937028884888,0.8043549060821533,0.7921361923217773,0.7795482277870178,0.7668734788894653,0.7547258734703064,0.7434659600257874,0.732374370098114,0.720181405544281,0.7074394226074219,0.6947444677352905,0.6828500032424927,0.6713831424713135,0.6600522398948669,0.6493204236030579,0.6388753056526184,0.6285213828086853,0.6182479858398438,0.6084864139556885,0.5984357595443726,0.5884674787521362,0.5786958932876587,0.5689165592193604,0.559382438659668,0.5503579378128052,0.5419395565986633,0.5340683460235596,0.525741457939148,0.517746090888977,0.5104255676269531,0.5038233399391174,0.49519962072372437,0.48653894662857056,0.4777965843677521,0.4698925316333771,0.4624404311180115,0.4555503726005554,0.4487411677837372,0.4418836236000061,0.43452832102775574,0.42710259556770325,0.420222669839859,0.4137611985206604,0.40867382287979126,0.4055914282798767,0.40348145365715027,0.4015516936779022,0.39715757966041565,0.39170780777931213,0.3851994276046753,0.377986878156662,0.3722659945487976,0.3673947751522064,0.362536758184433,0.35788941383361816,0.3523492217063904,0.3459186851978302,0.33954763412475586,0.33373579382896423,0.3283209204673767,0.3231029212474823,0.3184981942176819,0.3140532672405243,0.3094485402107239,0.30467599630355835,0.29979225993156433,0.29447677731513977,0.2893542945384979,0.2843906283378601,0.27942001819610596,0.27453771233558655,0.26981744170188904,0.26538005471229553,0.26108843088150024,0.2570660412311554,0.2531038522720337,0.24929046630859375,0.24554681777954102,0.2416326105594635,0.23777908086776733,0.2338906079530716,0.23020432889461517,0.22646065056324005,0.22276514768600464,0.21898330748081207,0.2154393345117569,0.21205900609493256,0.20895272493362427,0.20614787936210632,0.20321457087993622,0.20036759972572327,0.19719472527503967,0.1929669976234436,0.1888824701309204,0.18548431992530823,0.1823451817035675,0.179353266954422,0.1764346808195114,0.1735885888338089,0.1707572340965271,0.16806286573410034,0.16554655134677887,0.16305488348007202,0.16061973571777344,0.15821236371994019,0.15581859648227692,0.15338978171348572,0.15100333094596863,0.14873218536376953,0.1464524120092392,0.1442510187625885,0.1422230452299118,0.1403045952320099,0.1385715901851654,0.13697054982185364,0.1354796588420868,0.1341245174407959,0.132613867521286,0.13061146438121796,0.12820729613304138,0.12599335610866547,0.12391208857297897,0.12212005257606506,0.12047295272350311,0.11894963681697845,0.1174546331167221,0.11590269207954407,0.11441019922494888,0.11299030482769012,0.1116294115781784,0.1103748232126236,0.10905537754297256,0.10771407186985016,0.10638058930635452,0.10510511696338654,0.10380309820175171,0.10254201292991638,0.10131445527076721,0.10010629147291183,0.0989542156457901,0.09784045815467834,0.09670847654342651,0.09560397267341614,0.09453675150871277,0.09345407783985138,0.09241223335266113,0.09148107469081879,0.09061676263809204,0.08962099254131317,0.08856405317783356,0.08754290640354156,0.0865606963634491,0.08559736609458923,0.08467219769954681,0.08378887176513672,0.08295674622058868,0.08211900293827057,0.08133774995803833,0.08056224137544632,0.079734668135643,0.07891964167356491,0.07813820242881775,0.0774746686220169,0.07686041295528412,0.07630273699760437,0.07581117004156113,0.07524433732032776,0.07463590800762177,0.07399635016918182,0.07316306233406067,0.07238590717315674,0.0716584175825119,0.07095704972743988,0.07033398747444153,0.0697660818696022,0.06919960677623749,0.06864142417907715,0.06809952855110168,0.06759035587310791,0.06708929687738419,0.06661415100097656,0.06612762063741684,0.06566816568374634,0.06527649611234665,0.06491130590438843,0.0645151138305664,0.06409245729446411,0.06358011811971664,0.06293246150016785,0.062213730067014694,0.061611730605363846,0.06098860502243042,0.06040790677070618,0.0598333366215229,0.059317696839571,0.058843422681093216,0.058401986956596375,0.05798114463686943,0.05755859613418579,0.05716332420706749,0.05676539987325668,0.05636480078101158,0.0559663400053978,0.05557077378034592,0.05517689511179924,0.05479825660586357,0.05440754443407059,0.054057776927948,0.053705889731645584,0.053384892642498016,0.05310003086924553,0.052814338356256485,0.05254067853093147,0.05227820202708244,0.052022386342287064,0.051773905754089355,0.05149122327566147,0.05116744339466095,0.050782959908246994,0.05032915994524956,0.04989101365208626,0.04946812242269516,0.04911309480667114,0.048739515244960785,0.048367924988269806,0.048018015921115875,0.0476827509701252,0.04733183979988098,0.04699982330203056,0.04667910560965538,0.04635745659470558,0.04603806510567665,0.04569419473409653,0.04536866396665573,0.04506461322307587,0.04474556818604469,0.04444355517625809,0.04414328932762146,0.04386158287525177,0.043590180575847626,0.04332198575139046,0.0430506132543087,0.04278033599257469,0.04252009093761444,0.04226641356945038,0.042006950825452805,0.0417521707713604,0.041518040001392365,0.04127081483602524,0.04102479666471481,0.040783368051052094,0.04050150886178017,0.04019885137677193,0.03990134596824646,0.039621226489543915,0.03935092315077782,0.03909219056367874,0.038844142109155655,0.038613323122262955,0.038402657955884933,0.03819359093904495,0.03799855336546898,0.037825655192136765,0.03764656186103821,0.037469446659088135,0.03728295490145683,0.03709099814295769,0.036878447979688644,0.036650896072387695,0.03643123060464859,0.036216240376234055,0.036010485142469406,0.0358135923743248,0.03560709208250046,0.03539663180708885,0.03519057482481003,0.03500580042600632,0.03482462465763092,0.03463200852274895,0.03445029631257057,0.03426998481154442,0.03410293161869049,0.03392745926976204,0.03373868763446808,0.03353932872414589,0.033354535698890686,0.03317533805966377,0.03301148861646652,0.03284858912229538,0.03269011899828911,0.03254887834191322,0.03238848224282265,0.03223517909646034,0.032066989690065384,0.031896255910396576,0.031712111085653305,0.031533364206552505,0.031361181288957596,0.031185653060674667,0.031010042876005173,0.03083788976073265,0.03066660836338997,0.03049234300851822,0.030317112803459167,0.030151430517435074,0.029995527118444443,0.029843725264072418,0.029699664562940598,0.02956799417734146,0.029434900730848312,0.029304061084985733,0.029182422906160355,0.02906123548746109,0.028939243406057358,0.02880845218896866,0.028671734035015106,0.02854015678167343,0.028406940400600433,0.028270389884710312,0.028144605457782745,0.02801230549812317,0.027877256274223328,0.02773895114660263,0.0275905579328537,0.027442727237939835,0.027294598519802094,0.027154337614774704,0.027022235095500946,0.026880688965320587,0.02673901990056038,0.02661290019750595,0.026483606547117233,0.026354361325502396,0.026228390634059906,0.02610630914568901,0.02599387615919113,0.025886476039886475,0.025781985372304916,0.02567582204937935,0.025569308549165726,0.025465339422225952,0.025366712361574173,0.02526017278432846,0.025151245296001434,0.025049719959497452,0.02495739981532097,0.024861998856067657,0.024763047695159912,0.024652358144521713,0.024537749588489532,0.024422183632850647,0.024309571832418442,0.024201776832342148,0.024088967591524124,0.023986347019672394,0.023883260786533356,0.02378920093178749,0.023697666823863983,0.023606710135936737,0.023510519415140152,0.0234123095870018,0.02330949902534485,0.023205209523439407,0.0231010839343071,0.023003701120615005,0.022905319929122925,0.022808652371168137,0.022715944796800613,0.02262309566140175,0.022532351315021515,0.022444508969783783,0.02235911786556244,0.022274695336818695,0.0221928209066391,0.022116858512163162,0.02203630656003952,0.021958228200674057,0.02187379077076912,0.021791640669107437,0.021707944571971893,0.02162635698914528,0.021549154072999954,0.021470624953508377,0.021391388028860092,0.021311510354280472,0.02123686671257019,0.021165184676647186,0.021094433963298798,0.021026872098445892,0.020960763096809387,0.020898450165987015,0.020839650183916092,0.02078082785010338,0.020714789628982544,0.020643040537834167,0.02057075873017311,0.020501352846622467,0.020434707403182983,0.020363662391901016,0.020292628556489944,0.020217180252075195,0.02013721689581871,0.0200575552880764,0.01997905597090721,0.01990269124507904,0.01982090249657631,0.019733961671590805,0.019646666944026947,0.019557874649763107,0.019469577819108963,0.019385457038879395,0.01930338144302368,0.01922640949487686,0.01915309578180313,0.019081708043813705,0.019009802490472794,0.018941786140203476,0.01887364685535431,0.018804166465997696,0.018739502876996994,0.018676679581403732,0.018618937581777573,0.01855357736349106,0.01848883554339409,0.018425308167934418,0.01836448907852173,0.018299121409654617,0.018235914409160614,0.0181724950671196,0.018109731376171112,0.01803925633430481,0.017970293760299683,0.017907671630382538,0.017844561487436295,0.017782103270292282,0.017723657190799713,0.01766642928123474,0.017608430236577988,0.0175461545586586,0.0174822136759758,0.01742018759250641,0.017359312623739243,0.017290979623794556,0.017226312309503555,0.01716601848602295,0.017107512801885605,0.01705034449696541,0.016995277255773544,0.016933180391788483,0.016871359199285507,0.016805756837129593,0.016739021986722946,0.016670234501361847,0.01660718396306038,0.016543742269277573,0.016478538513183594,0.016422174870967865,0.016369838267564774,0.016317516565322876,0.016266439110040665,0.016215771436691284,0.016164034605026245,0.016110695898532867,0.016060341149568558,0.016010358929634094,0.015961896628141403,0.015912402421236038,0.015864141285419464,0.01581571251153946,0.015766769647598267,0.01572023704648018,0.015669159591197968,0.015619367361068726,0.015571441501379013,0.015525463968515396,0.01547953486442566,0.015434224158525467,0.015388961881399155,0.015347369015216827,0.015300948172807693,0.015250615775585175,0.015197012573480606,0.015144865959882736,0.015095129609107971,0.01504705473780632,0.014997739344835281,0.014942694455385208,0.014890156686306,0.014835231006145477,0.014782797545194626,0.014729205518960953,0.014675479382276535,0.014623522758483887,0.014574166387319565,0.014527656137943268,0.014482110738754272,0.014439567923545837,0.01440364122390747,0.014366399496793747,0.014329694211483002,0.014293137937784195,0.014258310198783875,0.014224402606487274,0.014193572103977203,0.014159820973873138,0.014129672199487686,0.014100868254899979,0.01406746357679367,0.014027610421180725,0.013990532606840134,0.013953439891338348,0.013911183923482895,0.013871807605028152,0.013834886252880096,0.013796884566545486,0.013752169907093048,0.013705071061849594,0.013653326779603958,0.013602711260318756,0.013549510389566422,0.013501264154911041,0.013461388647556305,0.01342170313000679,0.013380691409111023,0.013335157185792923,0.0132908895611763,0.01324402540922165,0.01319872960448265,0.01315484568476677,0.013109225779771805,0.013063110411167145,0.013017628341913223,0.012969966977834702,0.012924034148454666,0.01287604495882988,0.01283159852027893,0.012788746505975723,0.012746766209602356,0.012703116983175278,0.01266113668680191,0.012621961534023285,0.012582678347826004,0.01254376769065857,0.012507371604442596,0.012471769005060196,0.012435849756002426,0.012399449944496155,0.012362819164991379,0.012326356023550034,0.012289699167013168,0.012254159897565842,0.012218937277793884,0.012184534221887589,0.012150503695011139,0.012117058038711548,0.012084394693374634,0.012053299695253372,0.012022558599710464,0.011990953236818314,0.011962015181779861,0.011934656649827957,0.011906702071428299,0.011879589408636093,0.011855866760015488,0.011829551309347153,0.011803548783063889,0.011779047548770905,0.01175420731306076,0.011730313301086426,0.01170901209115982,0.011688318103551865,0.011662386357784271,0.011635787785053253,0.011608418077230453,0.01158086583018303,0.011552076786756516,0.011521220207214355,0.011490043252706528,0.011454775929450989,0.011419583112001419,0.01138392835855484,0.011352147907018661,0.011319063603878021,0.011284030973911285,0.01124785840511322,0.011212382465600967,0.011177409440279007,0.0111423060297966,0.01111014187335968,0.011077068746089935,0.011044453829526901,0.01101214811205864,0.010980680584907532,0.010950341820716858,0.010921783745288849,0.010894794017076492,0.01086791604757309,0.010842259973287582,0.010816361755132675,0.010788332670927048,0.01076149195432663,0.010734204202890396,0.010707933455705643,0.010679621249437332,0.010651130229234695,0.010621841996908188,0.010591883212327957,0.01056215912103653,0.010533589869737625,0.010504718869924545,0.010477118194103241,0.010449964553117752,0.010423582047224045,0.010399121791124344,0.01037265732884407,0.010346043854951859,0.010320320725440979,0.010296512395143509,0.010273691266775131,0.01025407388806343,0.010236892849206924,0.010221391916275024,0.010206524282693863,0.010191205888986588,0.010172680020332336,0.010155171155929565,0.010136652737855911,0.010115183889865875,0.010092109441757202,0.010069862008094788,0.010045643895864487,0.010020818561315536,0.009994979947805405,0.009968195110559464,0.00994034856557846,0.009911306202411652,0.009880844503641129,0.009849559515714645,0.009818300604820251,0.009786222130060196,0.009755637496709824,0.009724792093038559,0.009695149958133698,0.009664788842201233,0.009636294096708298,0.009607728570699692,0.009578991681337357,0.00955110415816307,0.009524375200271606,0.009499654173851013,0.009476717561483383,0.009454764425754547,0.009433761239051819,0.009413287043571472,0.009391743689775467,0.009372007101774216,0.009353786706924438,0.00933649018406868,0.00932009145617485,0.009302057325839996,0.009283192455768585,0.009263239800930023,0.009242720901966095,0.00922209769487381,0.009201522916555405,0.00918130949139595,0.009161654859781265,0.009141333401203156,0.00912010669708252,0.009099043905735016,0.009076770395040512,0.009053859859704971,0.00903024896979332,0.009006533771753311,0.008984096348285675,0.008960813283920288,0.008937172591686249,0.008913077414035797,0.008888248354196548,0.008863642811775208,0.008839387446641922,0.008815236389636993,0.008792120963335037,0.008768919855356216,0.008747261017560959,0.008726965636014938,0.00870610773563385,0.008685257285833359,0.008664589375257492,0.00864500179886818,0.008624769747257233,0.008605744689702988,0.008586399257183075,0.008566256612539291,0.008546218276023865,0.008526600897312164,0.008506961166858673,0.00848742201924324,0.008468762040138245,0.008449636399745941,0.008430778980255127,0.008411794900894165,0.008392944931983948,0.00837310403585434,0.00835292786359787,0.008332811295986176,0.008313141763210297,0.008293405175209045,0.008273787796497345,0.008254408836364746,0.00823579728603363,0.008218571543693542,0.00820259377360344,0.008185438811779022,0.008169952780008316,0.008153330534696579,0.008135885000228882,0.008118558675050735,0.008101258426904678,0.008084837347269058,0.008069969713687897,0.008053474128246307,0.0080372653901577,0.00802098959684372,0.00800507515668869,0.007989823818206787,0.007974393665790558,0.007960110902786255,0.007945973426103592,0.00793125107884407,0.007917307317256927,0.007903087884187698,0.007888983935117722,0.007876072078943253,0.007862865924835205,0.007850736379623413,0.007840178906917572,0.007827915251255035,0.007812999188899994,0.007795605808496475,0.007778014987707138,0.007760331034660339,0.007741104811429977,0.007720164954662323,0.0076974742114543915,0.007675580680370331,0.007654700428247452,0.007632240653038025,0.007610823959112167,0.0075917430222034454,0.007572576403617859,0.007552642375230789,0.007532365620136261,0.007512345910072327,0.007493153214454651,0.0074745044112205505,0.0074561648070812225,0.007439117878675461,0.0074235014617443085,0.0074083320796489716,0.007393058389425278,0.007378436625003815,0.007363401353359222,0.007348451763391495,0.007332541048526764,0.007315889000892639,0.007299918681383133,0.007283821702003479,0.0072679221630096436,0.00725213810801506,0.007236164063215256,0.007221020758152008,0.007206525653600693,0.007191933691501617,0.007177092134952545,0.007162541151046753,0.007147874683141708,0.0071335770189762115,0.007119327783584595,0.007105648517608643,0.007092434912919998,0.007079008966684341,0.007064711302518845,0.007050171494483948,0.007036883383989334,0.00702415406703949,0.007011979818344116,0.0069989897310733795,0.006987065076828003,0.006975632160902023,0.006964024156332016,0.006951894611120224,0.006939958781003952,0.006927989423274994,0.006917022168636322,0.006906405091285706,0.006895333528518677,0.006883949041366577,0.006872091442346573,0.006861504167318344,0.006850946694612503,0.00684000551700592,0.006828393787145615,0.006816904991865158,0.0068047866225242615,0.006791260093450546,0.006776880472898483,0.0067612528800964355,0.006744746118783951,0.006727300584316254,0.006708621978759766,0.006690502166748047,0.006672952324151993,0.0066550374031066895,0.00663762167096138,0.006621710956096649,0.006606794893741608]},\"selected\":{\"id\":\"246baac2-61aa-4da0-a412-1ec93fd365ee\",\"type\":\"Selection\"},\"selection_policy\":{\"id\":\"11c47fa8-c0ed-409c-8e29-8808f33b5b34\",\"type\":\"UnionRenderers\"}},\"id\":\"fb327e36-92f0-4bbf-ba40-e813b8f9c061\",\"type\":\"ColumnDataSource\"},{\"attributes\":{},\"id\":\"37389143-8b4c-410b-be7b-6a7256a29209\",\"type\":\"WheelZoomTool\"},{\"attributes\":{},\"id\":\"034e43a8-7963-4539-a9ce-71c010d3279a\",\"type\":\"LinearScale\"},{\"attributes\":{},\"id\":\"36c0cea4-88c2-46d5-af79-ff9a6a089893\",\"type\":\"ResetTool\"},{\"attributes\":{\"below\":[{\"id\":\"01399101-7888-4a5f-aba3-da79862c68a6\",\"type\":\"LinearAxis\"}],\"left\":[{\"id\":\"23b330e8-c2b4-4d25-a54a-a8af0dba1776\",\"type\":\"LinearAxis\"}],\"plot_height\":400,\"plot_width\":800,\"renderers\":[{\"id\":\"01399101-7888-4a5f-aba3-da79862c68a6\",\"type\":\"LinearAxis\"},{\"id\":\"69f966f7-abe6-4819-aaeb-6a255e82cc3d\",\"type\":\"Grid\"},{\"id\":\"23b330e8-c2b4-4d25-a54a-a8af0dba1776\",\"type\":\"LinearAxis\"},{\"id\":\"f2a3516d-4ca4-45d9-809f-5f6ad35eaa8d\",\"type\":\"Grid\"},{\"id\":\"b9378e6e-f190-40e5-9e9e-4241912b62bd\",\"type\":\"BoxAnnotation\"},{\"id\":\"8463833f-e48e-49ac-a331-9385e4e5097b\",\"type\":\"GlyphRenderer\"},{\"id\":\"cd917bc1-5677-4172-b3a5-cb69bc9e4cbb\",\"type\":\"GlyphRenderer\"}],\"title\":{\"id\":\"d4c8789b-f9fb-46d6-bbc1-1855499b5098\",\"type\":\"Title\"},\"toolbar\":{\"id\":\"e10ebbfd-a0b6-4794-9878-6bd0cf9c2c4e\",\"type\":\"Toolbar\"},\"x_range\":{\"id\":\"7df6a7a0-58e9-4a63-af91-688a1b7d2874\",\"type\":\"DataRange1d\"},\"x_scale\":{\"id\":\"034e43a8-7963-4539-a9ce-71c010d3279a\",\"type\":\"LinearScale\"},\"y_range\":{\"id\":\"34551160-b789-401e-b739-c763ca4ede37\",\"type\":\"Range1d\"},\"y_scale\":{\"id\":\"1a475ac3-117f-4b68-92f1-08e58e542382\",\"type\":\"LinearScale\"}},\"id\":\"d8eef8bd-ae31-482e-8fd6-b6eb1589d466\",\"subtype\":\"Figure\",\"type\":\"Plot\"},{\"attributes\":{},\"id\":\"c91bc8b0-561d-4a8e-8511-ce91c404d9a3\",\"type\":\"BasicTicker\"},{\"attributes\":{\"overlay\":{\"id\":\"b9378e6e-f190-40e5-9e9e-4241912b62bd\",\"type\":\"BoxAnnotation\"}},\"id\":\"09123d1b-ce86-46f1-b4b1-49744d587c33\",\"type\":\"BoxZoomTool\"},{\"attributes\":{\"line_alpha\":0.1,\"line_color\":\"#1f77b4\",\"line_width\":2,\"x\":{\"field\":\"x\"},\"y\":{\"field\":\"y\"}},\"id\":\"28801072-b203-4fc0-86e9-04d9f26323df\",\"type\":\"Line\"},{\"attributes\":{\"line_alpha\":0.1,\"line_color\":\"#1f77b4\",\"line_width\":2,\"x\":{\"field\":\"x\"},\"y\":{\"field\":\"y\"}},\"id\":\"e520403d-6b63-42ac-8983-98bc568971c9\",\"type\":\"Line\"},{\"attributes\":{\"line_alpha\":0.6,\"line_color\":\"#1f77b4\",\"line_width\":2,\"x\":{\"field\":\"x\"},\"y\":{\"field\":\"y\"}},\"id\":\"e2fd164f-ef70-4dec-bba2-40f53bb05918\",\"type\":\"Line\"},{\"attributes\":{\"formatter\":{\"id\":\"baa301cd-1b95-4e14-af10-e0ca45e16db4\",\"type\":\"BasicTickFormatter\"},\"plot\":{\"id\":\"d8eef8bd-ae31-482e-8fd6-b6eb1589d466\",\"subtype\":\"Figure\",\"type\":\"Plot\"},\"ticker\":{\"id\":\"c91bc8b0-561d-4a8e-8511-ce91c404d9a3\",\"type\":\"BasicTicker\"}},\"id\":\"23b330e8-c2b4-4d25-a54a-a8af0dba1776\",\"type\":\"LinearAxis\"},{\"attributes\":{\"formatter\":{\"id\":\"23a34615-32f9-4788-855e-214db98d9fcb\",\"type\":\"BasicTickFormatter\"},\"plot\":{\"id\":\"d8eef8bd-ae31-482e-8fd6-b6eb1589d466\",\"subtype\":\"Figure\",\"type\":\"Plot\"},\"ticker\":{\"id\":\"8a42e358-d188-455e-81ea-8f2897f150c8\",\"type\":\"BasicTicker\"}},\"id\":\"01399101-7888-4a5f-aba3-da79862c68a6\",\"type\":\"LinearAxis\"},{\"attributes\":{\"source\":{\"id\":\"fb327e36-92f0-4bbf-ba40-e813b8f9c061\",\"type\":\"ColumnDataSource\"}},\"id\":\"69429ce8-adf9-40d8-ab65-18d4921bd380\",\"type\":\"CDSView\"},{\"attributes\":{\"callback\":null,\"data\":{\"x\":{\"__ndarray__\":\"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\",\"dtype\":\"float64\",\"shape\":[500]},\"y\":[2.2996301651000977,2.3007607460021973,2.3338816165924072,2.3185455799102783,2.2915563583374023,2.3183085918426514,2.3235018253326416,2.3081705570220947,2.3052918910980225,2.317953586578369,2.2989399433135986,2.310901403427124,2.304903030395508,2.30985689163208,2.320673942565918,2.305593252182007,2.3181259632110596,2.304506301879883,2.2976155281066895,2.30107045173645,2.305098533630371,2.2964696884155273,2.3044934272766113,2.2851524353027344,2.3172731399536133,2.2819340229034424,2.2997779846191406,2.3030776977539062,2.3065249919891357,2.2958996295928955,2.2914793491363525,2.288468360900879,2.2947819232940674,2.3037195205688477,2.303452730178833,2.3038110733032227,2.2909910678863525,2.3024039268493652,2.2961905002593994,2.2967987060546875,2.292483329772949,2.3043177127838135,2.29880952835083,2.2914366722106934,2.2878477573394775,2.2938687801361084,2.2938461303710938,2.2909703254699707,2.29305100440979,2.2875611782073975,2.299405813217163,2.3015482425689697,2.2919225692749023,2.2814369201660156,2.2831151485443115,2.2712366580963135,2.286485433578491,2.2809319496154785,2.2725605964660645,2.2774271965026855,2.2730252742767334,2.2696750164031982,2.2632083892822266,2.268448829650879,2.263463258743286,2.2465085983276367,2.2489705085754395,2.242513656616211,2.2505598068237305,2.2338995933532715,2.2230782508850098,2.237809658050537,2.2328972816467285,2.190641164779663,2.203810930252075,2.1877079010009766,2.181508779525757,2.171405792236328,2.163656711578369,2.1575188636779785,2.1041295528411865,2.0925416946411133,2.0253818035125732,2.0585291385650635,2.044135808944702,2.004370927810669,1.9772696495056152,1.95169198513031,1.96677565574646,1.897797703742981,1.8686846494674683,1.9197337627410889,1.8252147436141968,1.8537936210632324,1.8104134798049927,1.8222531080245972,1.8402321338653564,1.7582437992095947,1.7666361331939697,1.8024225234985352,1.7597942352294922,1.7822357416152954,1.6832112073898315,1.6697200536727905,1.745158076286316,1.739188551902771,1.7318170070648193,1.6868575811386108,1.818673849105835,1.6468653678894043,1.7309247255325317,1.6252708435058594,1.6605308055877686,1.6941460371017456,1.6860785484313965,1.7188780307769775,1.715075969696045,1.6968120336532593,1.6501141786575317,1.6731410026550293,1.6739968061447144,1.583447813987732,1.6052796840667725,1.6403385400772095,1.6662057638168335,1.5979454517364502,1.5348076820373535,1.599778652191162,1.5579077005386353,1.5819425582885742,1.5613280534744263,1.5390790700912476,1.5753511190414429,1.5470951795578003,1.5366166830062866,1.51187264919281,1.4724681377410889,1.461977243423462,1.4208358526229858,1.439890742301941,1.459860920906067,1.449262261390686,1.434066653251648,1.405242681503296,1.371126651763916,1.3402249813079834,1.3717467784881592,1.341097354888916,1.314477801322937,1.322996735572815,1.267561674118042,1.2839688062667847,1.2255198955535889,1.2479709386825562,1.2513068914413452,1.2377732992172241,1.2216681241989136,1.2054399251937866,1.1792751550674438,1.1539273262023926,1.1202515363693237,1.166715145111084,1.1385421752929688,1.1104503870010376,1.0617413520812988,1.1184414625167847,1.047400712966919,1.0245013236999512,1.0540523529052734,1.0068113803863525,0.9549124836921692,0.9573298096656799,0.9254426956176758,0.9179730415344238,0.9453757405281067,0.9631270170211792,0.9018463492393494,0.884935200214386,0.9284259676933289,0.8908390402793884,0.8412092328071594,0.8067654371261597,0.781664252281189,0.8402647376060486,0.7907638549804688,0.7795158624649048,0.8887588977813721,0.8210774660110474,0.7844668626785278,0.7478756904602051,0.7780826091766357,0.7244630455970764,0.7514481544494629,0.707144021987915,0.7071540951728821,0.7398964166641235,0.6415862441062927,0.6769760251045227,0.6846845746040344,0.6817101240158081,0.6292680501937866,0.567952573299408,0.6135172843933105,0.5818122029304504,0.5745276212692261,0.6343287229537964,0.5882322788238525,0.5980856418609619,0.6193950772285461,0.5604388117790222,0.5071228742599487,0.5876725316047668,0.5381706953048706,0.4683316648006439,0.5507818460464478,0.543712317943573,0.5677928924560547,0.513811469078064,0.5031457543373108,0.4511086344718933,0.4527401924133301,0.463560551404953,0.4523550868034363,0.48995351791381836,0.44076693058013916,0.4345652461051941,0.4165852665901184,0.36848658323287964,0.4088386297225952,0.3668574392795563,0.39326831698417664,0.3740127980709076,0.3866938352584839,0.39792197942733765,0.37099188566207886,0.36564281582832336,0.4057842791080475,0.35513055324554443,0.3562409281730652,0.356514573097229,0.34979358315467834,0.41097232699394226,0.361436128616333,0.35619014501571655,0.30787140130996704,0.34025636315345764,0.3133460283279419,0.299934059381485,0.3140559196472168,0.30584895610809326,0.3101622760295868,0.2619841992855072,0.2876306474208832,0.27947255969047546,0.2722289562225342,0.26550939679145813,0.2911670506000519,0.2708891034126282,0.25947147607803345,0.26317381858825684,0.2617735266685486,0.24017591774463654,0.24042069911956787,0.22174832224845886,0.24232810735702515,0.22589373588562012,0.23909923434257507,0.2270832508802414,0.1954255998134613,0.21001756191253662,0.21966132521629333,0.1988733559846878,0.21772611141204834,0.20168079435825348,0.19280202686786652,0.22029274702072144,0.1928197741508484,0.18073564767837524,0.1812797635793686,0.19666168093681335,0.1897636353969574,0.18876218795776367,0.18439294397830963,0.1721796691417694,0.15692758560180664,0.17107665538787842,0.16348226368427277,0.1655767858028412,0.16097982227802277,0.16902783513069153,0.16253061592578888,0.15028762817382812,0.14653173089027405,0.14011657238006592,0.16222499310970306,0.15036222338676453,0.15262609720230103,0.1462772637605667,0.1257031410932541,0.12412534654140472,0.1433441936969757,0.13824988901615143,0.1412476748228073,0.12267215549945831,0.13439631462097168,0.13326215744018555,0.1292298138141632,0.11907701939344406,0.11920586973428726,0.11944642663002014,0.12046094983816147,0.11173045635223389,0.11838455498218536,0.12066656351089478,0.12105604261159897,0.11117702722549438,0.1078450083732605,0.10960343480110168,0.10851004719734192,0.10754776000976562,0.10367082059383392,0.10903134196996689,0.10041716694831848,0.10169635713100433,0.10458596050739288,0.09944839030504227,0.10215111821889877,0.10561628639698029,0.09489232301712036,0.094062939286232,0.09223158657550812,0.09527122974395752,0.09430575370788574,0.0911865383386612,0.09491321444511414,0.08682097494602203,0.0887741819024086,0.08740642666816711,0.08231319487094879,0.09002070873975754,0.08279196172952652,0.08619211614131927,0.08376862108707428,0.08264748007059097,0.08668268471956253,0.08106368035078049,0.07891745865345001,0.07870307564735413,0.07468700408935547,0.07633018493652344,0.07268089801073074,0.07250060141086578,0.0817042738199234,0.07452380657196045,0.07266387343406677,0.071353018283844,0.0711260586977005,0.07140129804611206,0.06904400885105133,0.07105199992656708,0.06826817244291306,0.07339468598365784,0.06793262809515,0.06376126408576965,0.0670899748802185,0.06799590587615967,0.06773993372917175,0.06525351107120514,0.06494695693254471,0.06087867543101311,0.06528616696596146,0.06438437104225159,0.06298001110553741,0.06144484505057335,0.06269846856594086,0.06202596426010132,0.06286974251270294,0.05572640150785446,0.06104828044772148,0.05919593945145607,0.058660056442022324,0.05882883444428444,0.05879468098282814,0.057237159460783005,0.060742489993572235,0.05559946596622467,0.059235572814941406,0.05419781804084778,0.05628020316362381,0.05391521006822586,0.05125592276453972,0.053693342953920364,0.054970089346170425,0.052405182272195816,0.05201764032244682,0.05110057443380356,0.051871832460165024,0.051085155457258224,0.05078204721212387,0.052311792969703674,0.05185916647315025,0.050847187638282776,0.05312863364815712,0.04919161647558212,0.050778090953826904,0.050633374601602554,0.049961626529693604,0.050174273550510406,0.04570706561207771,0.04807695001363754,0.04706135392189026,0.047593679279088974,0.04540155082941055,0.05068865418434143,0.0481230802834034,0.0499003604054451,0.04492371901869774,0.045379482209682465,0.04583624377846718,0.04687485843896866,0.0447491891682148,0.043985698372125626,0.04441356286406517,0.04147684946656227,0.04286843165755272,0.04162047803401947,0.03991061449050903,0.0430818572640419,0.04135182127356529,0.04005149006843567,0.03910907730460167,0.04220271110534668,0.04073965176939964,0.04144951328635216,0.04387613758444786,0.04265649989247322,0.04277382418513298,0.03959530591964722,0.03834369406104088,0.038989365100860596,0.040754809975624084,0.039583589881658554,0.038999371230602264,0.03915506601333618,0.03848591819405556,0.03616929426789284,0.03692760691046715,0.039195716381073,0.037555914372205734,0.036936767399311066,0.039093323051929474,0.03670373931527138,0.03868522122502327,0.03646638244390488,0.03501618653535843,0.036387763917446136,0.036422040313482285,0.034641019999980927,0.03560177981853485,0.034681592136621475,0.03733820840716362,0.03570772707462311,0.033554691821336746,0.03481081500649452,0.03415544703602791,0.0336519330739975,0.034948140382766724,0.033482182770967484,0.03173304721713066,0.03280431777238846,0.03337114304304123,0.03307967260479927,0.031757209450006485,0.03152045980095863,0.03406091034412384,0.03145798668265343,0.03187088668346405,0.03209153190255165,0.033704522997140884,0.03131556510925293,0.03145116567611694,0.03165290504693985,0.030560851097106934,0.03161256015300751,0.029084503650665283,0.030309677124023438,0.030400682240724564,0.03025660663843155,0.02955855056643486,0.031062375754117966,0.0318770706653595,0.031054522842168808,0.03246868774294853,0.030101802200078964,0.029052142053842545,0.029796436429023743,0.02968260645866394,0.029172658920288086,0.027939356863498688,0.028721634298563004,0.029389888048171997,0.02750026434659958,0.0272626094520092,0.02740691974759102,0.027788665145635605,0.027245067059993744,0.028040099889039993,0.028245463967323303,0.0279574953019619,0.026732187718153,0.02688925713300705,0.02843410149216652,0.02811453863978386,0.02582181617617607,0.02797742933034897,0.027013611048460007,0.02749217301607132,0.025440242141485214,0.026519306004047394,0.025867115706205368,0.02635887637734413,0.025410424917936325,0.026887092739343643,0.025994960218667984,0.026171591132879257,0.02568930760025978,0.025073762983083725,0.02460591495037079,0.024206839501857758,0.025081433355808258,0.024720408022403717,0.02573268860578537,0.025402743369340897,0.024957317858934402,0.023752734065055847,0.023284196853637695,0.024324506521224976,0.024313293397426605,0.024098612368106842,0.023582063615322113,0.025385074317455292,0.024860817939043045,0.023211944848299026,0.02403969317674637,0.025344520807266235,0.02366475760936737,0.022125892341136932,0.02429092302918434,0.02397140860557556,0.02285151556134224,0.02256380394101143,0.024379312992095947,0.023034971207380295,0.021166276186704636,0.022044643759727478,0.02308901771903038,0.02306440845131874,0.02298983931541443,0.022110816091299057,0.02204326167702675,0.021681208163499832,0.022010471671819687,0.02237766608595848,0.021541927009820938,0.02260443940758705,0.021582994610071182,0.020472832024097443,0.02127956598997116,0.01983228325843811,0.02142326533794403,0.021677754819393158,0.02160714566707611,0.021326150745153427,0.020415715873241425,0.02125053107738495,0.021633513271808624,0.020851779729127884,0.020989540964365005,0.019311215728521347,0.020554274320602417,0.020368512719869614,0.019888658076524734,0.019347824156284332,0.02087443694472313,0.021564405411481857,0.019591666758060455,0.019608087837696075,0.019777171313762665,0.020161878317594528,0.020000580698251724,0.019523706287145615,0.019623305648565292,0.01957256719470024,0.019354186952114105,0.019567370414733887,0.0194045789539814,0.018551640212535858,0.01922045275568962,0.019113533198833466,0.019091177731752396,0.019481241703033447,0.018707282841205597,0.018673107028007507,0.018763691186904907,0.018394149839878082,0.018868964165449142,0.019369516521692276,0.01849139854311943,0.019604045897722244,0.018487390130758286,0.01796947419643402,0.01782374456524849,0.018135450780391693,0.01898401975631714,0.01796608790755272,0.017836738377809525,0.017634890973567963,0.017522666603326797,0.017281707376241684,0.01783987507224083,0.017557185143232346,0.01772337406873703,0.01678389310836792,0.018374066799879074,0.01743067055940628,0.017975330352783203,0.01737228035926819,0.017181187868118286,0.017311744391918182,0.016602180898189545,0.01712615042924881,0.016832780092954636,0.01664501056075096,0.016758911311626434,0.016166839748620987,0.017553217709064484,0.016298014670610428,0.01658286154270172,0.01648755371570587,0.015951864421367645,0.01630955934524536,0.01602785289287567,0.015543077141046524,0.01602836325764656,0.016172196716070175,0.016670692712068558,0.01724105328321457,0.016505718231201172,0.015414372086524963,0.015683099627494812,0.01699872314929962,0.016493093222379684,0.01542474702000618,0.015823781490325928,0.015866711735725403,0.015940312296152115,0.015871088951826096,0.014964908361434937,0.015656128525733948,0.015208326280117035,0.014741316437721252,0.015829306095838547,0.015217121690511703,0.015375912189483643,0.015963632613420486,0.014314346015453339,0.015115857124328613,0.01501968502998352,0.014635488390922546,0.015273161232471466,0.01506146788597107,0.0143512561917305,0.015631072223186493,0.014656782150268555,0.014378875494003296,0.015111636370420456,0.01489119604229927,0.014110833406448364,0.014674525707960129,0.014592256397008896,0.0139065682888031,0.013941701501607895,0.014155540615320206,0.013601623475551605,0.01484353095293045,0.014819253236055374,0.013772092759609222,0.014343548566102982,0.013965625315904617,0.013566315174102783,0.014652714133262634,0.013687342405319214,0.013294603675603867,0.014561068266630173,0.01435563713312149,0.013113107532262802,0.014253534376621246,0.013589397072792053,0.014110874384641647,0.01395462080836296,0.01388850063085556,0.013454802334308624,0.014122556895017624,0.013314828276634216,0.01362917572259903,0.012897957116365433,0.013628516346216202,0.013263784348964691,0.01328403502702713,0.01326536014676094,0.012784898281097412,0.01256539300084114,0.012804701924324036,0.012738022953271866,0.01319149136543274,0.013666760176420212,0.012816578149795532,0.013414852321147919,0.013014547526836395,0.012798130512237549,0.013320669531822205,0.01316351443529129,0.012219369411468506,0.012556660920381546,0.012183591723442078,0.013140466064214706,0.012490145862102509,0.012283314019441605,0.012927137315273285,0.012628119438886642,0.01271621510386467,0.012354198843240738,0.012180685997009277,0.012431681156158447,0.012350395321846008,0.012416664510965347,0.012628007680177689,0.012301016598939896,0.01202668622136116,0.011408191174268723,0.011903349310159683,0.011670820415019989,0.0124407559633255,0.011942677199840546,0.011357948184013367,0.011553596705198288,0.011967040598392487,0.011938970535993576,0.012244470417499542,0.011781178414821625,0.011751610785722733,0.01219525933265686,0.012015793472528458,0.011889319866895676,0.011926382780075073,0.011297386139631271,0.011363673955202103,0.01203882321715355,0.011002816259860992,0.011710133403539658,0.011471245437860489,0.011810552328824997,0.011653952300548553,0.011271536350250244,0.011582914739847183,0.010894682258367538,0.011411197483539581,0.011601552367210388,0.011310528963804245,0.010891914367675781,0.011124294251203537,0.011470582336187363,0.010911066085100174,0.011021774262189865,0.01088910922408104,0.011560134589672089,0.010059215128421783,0.011501122266054153,0.01112867146730423,0.010575022548437119,0.0110367052257061,0.01046254113316536,0.011345792561769485,0.010375890880823135,0.011247321963310242,0.010597862303256989,0.010826118290424347,0.01027645543217659,0.010638497769832611,0.010607507079839706,0.010733585804700851,0.01033950224518776,0.010304637253284454,0.010976549237966537,0.010612636804580688,0.010253876447677612,0.010802868753671646,0.01075809821486473,0.010455917567014694,0.009858381003141403,0.010153103619813919,0.010588310658931732,0.010101169347763062,0.010250512510538101,0.010320678353309631,0.010737381875514984,0.009884793311357498,0.010085228830575943,0.010296374559402466,0.010425824671983719,0.00996161624789238,0.009748075157403946,0.010135553777217865,0.010237026959657669,0.009580869227647781,0.009515084326267242,0.010603222995996475,0.009911272674798965,0.0095260851085186,0.009532950818538666,0.009713616222143173,0.010040830820798874,0.00931856781244278,0.009660866111516953,0.009759847074747086,0.00992511585354805,0.009864524006843567,0.009534351527690887,0.009443271905183792,0.009750217199325562,0.00929267704486847,0.009783584624528885,0.009762436151504517,0.009532775729894638,0.009313337504863739,0.010055594146251678,0.00953945517539978,0.009583953768014908,0.009306080639362335,0.010068293660879135,0.008946724236011505,0.009566079825162888,0.009049218147993088,0.009326741099357605,0.009557832032442093,0.009467829018831253,0.00933266431093216,0.00925915315747261,0.009232394397258759,0.009608138352632523,0.00901525467634201,0.009242139756679535,0.00897439569234848,0.008771996945142746,0.008963633328676224,0.008808989077806473,0.009210772812366486,0.008850615471601486,0.009363170713186264,0.008847832679748535,0.008926235139369965,0.008603975176811218,0.008574027568101883,0.009215738624334335,0.008706055581569672,0.008829846978187561,0.008377932012081146,0.00904860720038414,0.008576426655054092,0.009449336677789688,0.008478742092847824,0.008953962475061417,0.00881902500987053,0.00867164134979248,0.008351203054189682,0.008664567023515701,0.008551698178052902,0.008317463099956512,0.008229874074459076,0.008861247450113297,0.008343856781721115,0.008365791290998459,0.008435312658548355,0.008307617157697678,0.008304454386234283,0.008291702717542648,0.008539311587810516,0.00824519619345665,0.008791685104370117,0.008372128009796143,0.008475899696350098,0.008144456893205643,0.008032292127609253,0.008085053414106369,0.008329801261425018,0.008340161293745041,0.008506935089826584,0.008191164582967758,0.008123692125082016,0.008038956671953201,0.008437920361757278,0.00805354118347168,0.007634848356246948,0.008420247584581375,0.008049797266721725,0.008049365133047104,0.007902555167675018,0.008011143654584885,0.008042719215154648,0.007776208221912384,0.008127771317958832,0.007651742547750473,0.00790829211473465,0.007932715117931366,0.0076730698347091675,0.008065387606620789,0.007895663380622864,0.0074386075139045715,0.008018389344215393,0.00830421969294548,0.0077336691319942474,0.007886532694101334,0.007826238870620728,0.007875315845012665,0.007554773241281509,0.00799877941608429,0.007751826196908951,0.0077522993087768555,0.007512424141168594,0.007819611579179764,0.00759454071521759,0.007564712315797806,0.007475849241018295,0.007253143936395645,0.007656916975975037,0.007496211677789688,0.00739322230219841,0.008007504045963287,0.007460717111825943,0.007517658174037933,0.007676873356103897,0.007538091391324997,0.00731392577290535,0.008002664893865585,0.007342532277107239,0.007058735936880112,0.0073662325739860535,0.007513787597417831,0.0074540190398693085,0.007327530533075333,0.007244497537612915,0.007222380489110947,0.007296420633792877,0.007417153567075729,0.00722615048289299,0.007518071681261063,0.007489100098609924,0.007288780063390732,0.0074644871056079865,0.007141385227441788,0.007323715835809708,0.006994668394327164,0.007081665098667145,0.006800785660743713,0.006988804787397385,0.006992582231760025,0.007032446563243866,0.006976701319217682,0.00705159455537796,0.007215067744255066,0.007314033806324005,0.006608877331018448,0.0070340074598789215,0.007028792053461075,0.007134109735488892,0.006829902529716492,0.006703674793243408,0.006820641458034515,0.007065534591674805,0.006741829216480255,0.006849519908428192,0.006576940417289734,0.00666273757815361,0.007102612406015396,0.0068384259939193726,0.006856199353933334,0.006765682250261307,0.006499871611595154,0.006752118468284607,0.007043570280075073,0.006769578903913498,0.0065499357879161835,0.006948065012693405,0.006909139454364777,0.0065983980894088745,0.00664033368229866,0.006482306867837906,0.00650927796959877,0.007057633250951767,0.006591368466615677]},\"selected\":{\"id\":\"abacacb3-3514-437d-9b3a-63633e648c1c\",\"type\":\"Selection\"},\"selection_policy\":{\"id\":\"36f1446c-c171-4c6e-9270-da457b58a9d5\",\"type\":\"UnionRenderers\"}},\"id\":\"89d8a5ba-99cf-4d56-b77c-bd8a733a66c5\",\"type\":\"ColumnDataSource\"},{\"attributes\":{},\"id\":\"f270724f-7c91-4347-9f6b-b267cb1d7b8f\",\"type\":\"HelpTool\"},{\"attributes\":{\"plot\":{\"id\":\"d8eef8bd-ae31-482e-8fd6-b6eb1589d466\",\"subtype\":\"Figure\",\"type\":\"Plot\"},\"ticker\":{\"id\":\"8a42e358-d188-455e-81ea-8f2897f150c8\",\"type\":\"BasicTicker\"}},\"id\":\"69f966f7-abe6-4819-aaeb-6a255e82cc3d\",\"type\":\"Grid\"},{\"attributes\":{\"data_source\":{\"id\":\"fb327e36-92f0-4bbf-ba40-e813b8f9c061\",\"type\":\"ColumnDataSource\"},\"glyph\":{\"id\":\"a9301cf7-3e9d-4ef1-981b-9267b26456c7\",\"type\":\"Line\"},\"hover_glyph\":null,\"muted_glyph\":null,\"nonselection_glyph\":{\"id\":\"28801072-b203-4fc0-86e9-04d9f26323df\",\"type\":\"Line\"},\"selection_glyph\":null,\"view\":{\"id\":\"69429ce8-adf9-40d8-ab65-18d4921bd380\",\"type\":\"CDSView\"}},\"id\":\"cd917bc1-5677-4172-b3a5-cb69bc9e4cbb\",\"type\":\"GlyphRenderer\"},{\"attributes\":{\"source\":{\"id\":\"89d8a5ba-99cf-4d56-b77c-bd8a733a66c5\",\"type\":\"ColumnDataSource\"}},\"id\":\"1dc0ef10-dd7f-4f0a-ba4d-f134931bbad4\",\"type\":\"CDSView\"},{\"attributes\":{\"plot\":null,\"text\":\"\"},\"id\":\"d4c8789b-f9fb-46d6-bbc1-1855499b5098\",\"type\":\"Title\"}],\"root_ids\":[\"d8eef8bd-ae31-482e-8fd6-b6eb1589d466\"]},\"title\":\"Bokeh Application\",\"version\":\"0.13.0\"}};\n",
              "  var render_items = [{\"docid\":\"bb3f51c3-7b24-408c-ad33-6c82a9d3cb3a\",\"roots\":{\"d8eef8bd-ae31-482e-8fd6-b6eb1589d466\":\"64c93b5f-d9ee-47c2-a97c-180f3dc3645f\"}}];\n",
              "  root.Bokeh.embed.embed_items_notebook(docs_json, render_items);\n",
              "\n",
              "  }\n",
              "  if (root.Bokeh !== undefined) {\n",
              "    embed_document(root);\n",
              "  } else {\n",
              "    var attempts = 0;\n",
              "    var timer = setInterval(function(root) {\n",
              "      if (root.Bokeh !== undefined) {\n",
              "        embed_document(root);\n",
              "        clearInterval(timer);\n",
              "      }\n",
              "      attempts++;\n",
              "      if (attempts > 100) {\n",
              "        console.log(\"Bokeh: ERROR: Unable to run BokehJS code because BokehJS library is missing\")\n",
              "        clearInterval(timer);\n",
              "      }\n",
              "    }, 10, root)\n",
              "  }\n",
              "})(window);"
            ],
            "application/vnd.bokehjs_exec.v0+json": ""
          },
          "metadata": {
            "tags": [],
            "application/vnd.bokehjs_exec.v0+json": {
              "id": "d8eef8bd-ae31-482e-8fd6-b6eb1589d466"
            }
          }
        },
        {
          "output_type": "stream",
          "text": [
            "/usr/local/lib/python3.6/dist-packages/bokeh/models/sources.py:110: BokehUserWarning: ColumnDataSource's columns must be of the same length. Current lengths: ('x', 500), ('y', 1000)\n",
            "  \"Current lengths: %s\" % \", \".join(sorted(str((k, len(v))) for k, v in data.items())), BokehUserWarning))\n",
            "/usr/local/lib/python3.6/dist-packages/bokeh/models/sources.py:110: BokehUserWarning: ColumnDataSource's columns must be of the same length. Current lengths: ('x', 500), ('y', 1000)\n",
            "  \"Current lengths: %s\" % \", \".join(sorted(str((k, len(v))) for k, v in data.items())), BokehUserWarning))\n"
          ],
          "name": "stderr"
        },
        {
          "output_type": "display_data",
          "data": {
            "text/html": [
              "\n",
              "\n",
              "\n",
              "\n",
              "\n",
              "\n",
              "  <div class=\"bk-root\" id=\"649b437f-afba-47c0-9eab-7494ee883cfa\"></div>\n"
            ]
          },
          "metadata": {
            "tags": []
          }
        },
        {
          "output_type": "display_data",
          "data": {
            "application/javascript": [
              "(function(root) {\n",
              "  function embed_document(root) {\n",
              "    \n",
              "  var docs_json = {\"f24f7f21-9072-4f8c-bf9b-64aa303f8da7\":{\"roots\":{\"references\":[{\"attributes\":{\"formatter\":{\"id\":\"994a098b-3837-410c-8443-d42fd2630c02\",\"type\":\"BasicTickFormatter\"},\"plot\":{\"id\":\"7d6a3594-cf47-4814-8010-dfbd6035116d\",\"subtype\":\"Figure\",\"type\":\"Plot\"},\"ticker\":{\"id\":\"22db6820-c5a0-4fff-8c2e-6416864a18c5\",\"type\":\"BasicTicker\"}},\"id\":\"b3a1d9fd-e063-4d4e-908a-0ac3fa9e9e74\",\"type\":\"LinearAxis\"},{\"attributes\":{\"callback\":null},\"id\":\"e20daa97-acc8-4881-b2ff-820c713c6ee1\",\"type\":\"DataRange1d\"},{\"attributes\":{\"bottom_units\":\"screen\",\"fill_alpha\":{\"value\":0.5},\"fill_color\":{\"value\":\"lightgrey\"},\"left_units\":\"screen\",\"level\":\"overlay\",\"line_alpha\":{\"value\":1.0},\"line_color\":{\"value\":\"black\"},\"line_dash\":[4,4],\"line_width\":{\"value\":2},\"plot\":null,\"render_mode\":\"css\",\"right_units\":\"screen\",\"top_units\":\"screen\"},\"id\":\"4dd36dd3-d295-46af-9289-e323cf292b4b\",\"type\":\"BoxAnnotation\"},{\"attributes\":{},\"id\":\"22db6820-c5a0-4fff-8c2e-6416864a18c5\",\"type\":\"BasicTicker\"},{\"attributes\":{\"plot\":null,\"text\":\"\"},\"id\":\"f99c089a-c4de-4c60-98a4-0a084a62f4eb\",\"type\":\"Title\"},{\"attributes\":{\"callback\":null,\"data\":{\"x\":{\"__ndarray__\":\"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\",\"dtype\":\"float64\",\"shape\":[500]},\"y\":[2.312244415283203,2.3141932487487793,2.3045387268066406,2.3054168224334717,2.307426691055298,2.2986180782318115,2.3277266025543213,2.310141086578369,2.3110246658325195,2.305365562438965,2.3032422065734863,2.30562162399292,2.3082056045532227,2.306687593460083,2.304898500442505,2.2920663356781006,2.3053181171417236,2.2989354133605957,2.28865909576416,2.325591564178467,2.305713176727295,2.3073604106903076,2.310469150543213,2.3161630630493164,2.315584421157837,2.296271800994873,2.301781177520752,2.2990596294403076,2.3076958656311035,2.306201219558716,2.297395944595337,2.3086097240448,2.306293487548828,2.3027360439300537,2.321037769317627,2.305097818374634,2.3131916522979736,2.310861825942993,2.302354097366333,2.299750566482544,2.2960994243621826,2.3123221397399902,2.3039391040802,2.30745267868042,2.3050477504730225,2.3006088733673096,2.3096466064453125,2.310244560241699,2.3042874336242676,2.3106579780578613,2.3118462562561035,2.306366443634033,2.3035433292388916,2.299009323120117,2.3037633895874023,2.3112637996673584,2.294830799102783,2.3049049377441406,2.3010787963867188,2.313713312149048,2.2990593910217285,2.311861991882324,2.3028664588928223,2.3054957389831543,2.293877601623535,2.301743507385254,2.309253692626953,2.2982285022735596,2.296504497528076,2.3060009479522705,2.301361083984375,2.304489850997925,2.2971785068511963,2.310969829559326,2.3040974140167236,2.3096978664398193,2.305649757385254,2.310168504714966,2.310612440109253,2.3041372299194336,2.3085672855377197,2.3073506355285645,2.3023126125335693,2.306152820587158,2.3019533157348633,2.2988412380218506,2.3031532764434814,2.297743082046509,2.297555685043335,2.3119893074035645,2.3080434799194336,2.3056490421295166,2.305154800415039,2.2958779335021973,2.3012871742248535,2.3072941303253174,2.2998859882354736,2.301891326904297,2.3025388717651367,2.302103042602539,2.3113276958465576,2.3040974140167236,2.306546211242676,2.2999439239501953,2.2993831634521484,2.3011724948883057,2.303332805633545,2.2995846271514893,2.296820878982544,2.293095588684082,2.295974016189575,2.302983283996582,2.292182207107544,2.2834887504577637,2.294513463973999,2.286180019378662,2.286823034286499,2.2892491817474365,2.253952741622925,2.244558811187744,2.2276697158813477,2.2307276725769043,2.175083875656128,2.158006429672241,2.1385021209716797,2.0950615406036377,2.113823175430298,2.0772032737731934,1.9963804483413696,2.043565511703491,2.026036024093628,2.020688056945801,2.0038273334503174,1.9159013032913208,1.9293770790100098,1.94568932056427,1.8394978046417236,1.7870503664016724,1.8675404787063599,1.7850497961044312,1.7867116928100586,1.7979166507720947,1.746193766593933,1.7333747148513794,1.8236902952194214,1.7552398443222046,1.7710449695587158,1.7680327892303467,1.719956398010254,1.8109214305877686,1.739862084388733,1.7365864515304565,1.7073535919189453,1.7302192449569702,1.733177900314331,1.7056111097335815,1.6796841621398926,1.6960781812667847,1.6867594718933105,1.7354093790054321,1.7718487977981567,1.6806520223617554,1.6812328100204468,1.669630527496338,1.6819121837615967,1.6483384370803833,1.6543031930923462,1.6467982530593872,1.6388161182403564,1.6431100368499756,1.6447770595550537,1.6536576747894287,1.6380172967910767,1.6425937414169312,1.6246145963668823,1.640529990196228,1.6455820798873901,1.6566321849822998,1.6521341800689697,1.6690973043441772,1.6309828758239746,1.638331651687622,1.642134189605713,1.6384758949279785,1.6441755294799805,1.646913766860962,1.653936743736267,1.658492088317871,1.6295803785324097,1.6347651481628418,1.626448392868042,1.6263432502746582,1.6396255493164062,1.6431275606155396,1.6547726392745972,1.622572898864746,1.624356746673584,1.640483021736145,1.6349152326583862,1.6343638896942139,1.6321591138839722,1.6424413919448853,1.6267932653427124,1.6391792297363281,1.6296494007110596,1.6257394552230835,1.620315670967102,1.6308237314224243,1.6319329738616943,1.62871253490448,1.6170542240142822,1.6282339096069336,1.6197870969772339,1.6262500286102295,1.620336651802063,1.6380947828292847,1.6305558681488037,1.6257195472717285,1.6232577562332153,1.6157112121582031,1.629014015197754,1.6226824522018433,1.6211037635803223,1.618617057800293,1.6278777122497559,1.6201493740081787,1.628836989402771,1.6282676458358765,1.6197394132614136,1.6365320682525635,1.6177420616149902,1.6334905624389648,1.6112836599349976,1.6288594007492065,1.6296966075897217,1.6230618953704834,1.6145309209823608,1.6225281953811646,1.627132534980774,1.623329997062683,1.6311393976211548,1.6271955966949463,1.6323704719543457,1.62190842628479,1.6229698657989502,1.6098122596740723,1.6234798431396484,1.630472183227539,1.6222068071365356,1.620390772819519,1.6233437061309814,1.616658091545105,1.6088404655456543,1.6133055686950684,1.6281026601791382,1.6183946132659912,1.6237249374389648,1.6139187812805176,1.6241716146469116,1.624864935874939,1.6149545907974243,1.6141599416732788,1.6011536121368408,1.6301865577697754,1.6047086715698242,1.6227737665176392,1.6247559785842896,1.6162387132644653,1.6313636302947998,1.620509386062622,1.6223773956298828,1.6208415031433105,1.633303165435791,1.609798789024353,1.6244988441467285,1.620972752571106,1.6180989742279053,1.6257400512695312,1.6182374954223633,1.619814395904541,1.621804118156433,1.6213698387145996,1.6220546960830688,1.6182047128677368,1.6179319620132446,1.6175991296768188,1.618647813796997,1.6168707609176636,1.621414303779602,1.613981008529663,1.6211081743240356,1.618470311164856,1.6236834526062012,1.6225584745407104,1.6223045587539673,1.612069845199585,1.6175590753555298,1.6191967725753784,1.6191014051437378,1.6258951425552368,1.6109570264816284,1.6226304769515991,1.6178795099258423,1.6206004619598389,1.6181713342666626,1.6242167949676514,1.6201136112213135,1.6144191026687622,1.6142022609710693,1.6118897199630737,1.6166956424713135,1.6179250478744507,1.6236014366149902,1.6134768724441528,1.6277515888214111,1.620151400566101,1.6115576028823853,1.621891736984253,1.6194835901260376,1.6170786619186401,1.6231769323349,1.6123002767562866,1.6175541877746582,1.6292372941970825,1.6069557666778564,1.6115007400512695,1.5992109775543213,1.6233961582183838,1.6255134344100952,1.6281222105026245,1.6243952512741089,1.6391717195510864,1.618381142616272,1.6203944683074951,1.6107076406478882,1.6205062866210938,1.6154441833496094,1.6249666213989258,1.6163721084594727,1.626274824142456,1.6210830211639404,1.6313072443008423,1.6141430139541626,1.618774175643921,1.6308701038360596,1.6159651279449463,1.6252226829528809,1.6336685419082642,1.6064475774765015,1.5982013940811157,1.6167681217193604,1.615675449371338,1.6224607229232788,1.6258317232131958,1.6193727254867554,1.6306663751602173,1.616426944732666,1.6213914155960083,1.6128206253051758,1.6224089860916138,1.612007975578308,1.6163129806518555,1.6180294752120972,1.622813105583191,1.615094780921936,1.6128830909729004,1.6174893379211426,1.6231926679611206,1.6283665895462036,1.62567138671875,1.6165179014205933,1.6144367456436157,1.6214237213134766,1.6128722429275513,1.6127938032150269,1.6313989162445068,1.618775725364685,1.630341649055481,1.621883511543274,1.6244959831237793,1.6175014972686768,1.6092888116836548,1.6169379949569702,1.6132584810256958,1.6179885864257812,1.616820216178894,1.6184355020523071,1.6160739660263062,1.6109061241149902,1.6206713914871216,1.6175127029418945,1.6256824731826782,1.6176095008850098,1.617181420326233,1.6131263971328735,1.6229373216629028,1.6092529296875,1.6155873537063599,1.6188991069793701,1.6294516324996948,1.6252816915512085,1.623409628868103,1.6125408411026,1.6087899208068848,1.6236363649368286,1.6200006008148193,1.6170960664749146,1.6227107048034668,1.6187301874160767,1.6123545169830322,1.610809326171875,1.619106411933899,1.6098912954330444,1.6140942573547363,1.6205066442489624,1.6116398572921753,1.6164108514785767,1.609285831451416,1.61782968044281,1.6200520992279053,1.6094188690185547,1.6197041273117065,1.607588529586792,1.6094450950622559,1.6168549060821533,1.6230143308639526,1.6210708618164062,1.6217838525772095,1.6204384565353394,1.6270729303359985,1.617588996887207,1.6135919094085693,1.615054965019226,1.608954668045044,1.6123703718185425,1.6184282302856445,1.6141431331634521,1.6139954328536987,1.6237577199935913,1.610491156578064,1.6123507022857666,1.6265413761138916,1.6074596643447876,1.625686764717102,1.616123914718628,1.624016523361206,1.619619369506836,1.6157554388046265,1.612958312034607,1.6122617721557617,1.6132570505142212,1.6107794046401978,1.6079124212265015,1.6132450103759766,1.6188876628875732,1.614625096321106,1.614848017692566,1.6156755685806274,1.6237356662750244,1.6019686460494995,1.6211670637130737,1.617344617843628,1.6122547388076782,1.6219055652618408,1.61307692527771,1.6129028797149658,1.621839165687561,1.6138821840286255,1.612176537513733,1.619154930114746,1.6117439270019531,1.6133415699005127,1.6116185188293457,1.6169308423995972,1.618428349494934,1.6073226928710938,1.6249502897262573,1.6118626594543457,1.6156104803085327,1.6098695993423462,1.6180201768875122,1.6109331846237183,1.6094530820846558,1.6089601516723633,1.6183953285217285,1.6130017042160034,1.6184426546096802,1.6191319227218628,1.611903190612793,1.6115937232971191,1.6216922998428345,1.6179229021072388,1.6133216619491577,1.6072722673416138,1.6012380123138428,1.62224280834198,1.6161541938781738,1.6225000619888306,1.629555583000183,1.6174925565719604,1.6177175045013428,1.6218291521072388,1.6144964694976807,1.6202905178070068,1.6163146495819092,1.6131997108459473,1.626753330230713,1.6159595251083374,1.6137863397598267,1.625004529953003,1.6045323610305786,1.609052062034607,1.617734432220459,1.6159863471984863,1.6143360137939453,1.6108120679855347,1.6152310371398926,1.6186238527297974,1.6151540279388428,1.6167640686035156,1.6122292280197144,1.6152162551879883,1.6104174852371216,1.615116000175476,1.6056263446807861,1.6095751523971558,1.6282106637954712,1.6210449934005737,1.6078294515609741,1.6181774139404297,1.6141774654388428,1.6138315200805664,1.622292399406433,1.6053309440612793,1.612540364265442,1.6081498861312866,1.6174976825714111,1.6101399660110474,1.6130722761154175,1.617440104484558,1.6171916723251343,1.6104844808578491,1.6168872117996216,1.6090011596679688,1.6225931644439697,1.6105648279190063,1.6325713396072388,1.619854211807251,1.6051961183547974,1.6246899366378784,1.616917371749878,1.6162524223327637,1.6120244264602661,1.6197272539138794,1.612311601638794,1.6204928159713745,1.6128430366516113,1.6163290739059448,1.6156666278839111,1.6115977764129639,1.6093339920043945,1.6005653142929077,1.6190986633300781,1.6122324466705322,1.6199911832809448,1.6256511211395264,1.6237393617630005,1.6197094917297363,1.6143218278884888,1.6144120693206787,1.6095905303955078,1.6137360334396362,1.6160433292388916,1.6134768724441528,1.618436336517334,1.6106197834014893,1.6109068393707275,1.6113899946212769,1.6108617782592773,1.6114037036895752,1.6188777685165405,1.6172500848770142,1.6109721660614014,1.6157913208007812,1.6166331768035889,1.6104857921600342,1.6150448322296143,1.6041203737258911,1.6031017303466797,1.6153764724731445,1.608149528503418,1.6142334938049316,1.61258864402771,1.6051669120788574,1.6117875576019287,1.6167521476745605,1.615496277809143,1.6238518953323364,1.6326104402542114,1.6017835140228271,1.6227315664291382,1.6213626861572266,1.6184567213058472,1.6167641878128052,1.613470196723938,1.6143265962600708,1.6197264194488525,1.6190110445022583,1.621366262435913,1.6106412410736084,1.6095123291015625,1.6156675815582275,1.617285132408142,1.6087368726730347,1.6146072149276733,1.6151870489120483,1.6128252744674683,1.6122794151306152,1.6232409477233887,1.6144078969955444,1.6110584735870361,1.6198621988296509,1.6116048097610474,1.6124500036239624,1.6256959438323975,1.6176835298538208,1.6092852354049683,1.614747405052185,1.6132023334503174,1.617009162902832,1.613465666770935,1.6120409965515137,1.6172791719436646,1.6202224493026733,1.617593765258789,1.6041055917739868,1.609046220779419,1.6109892129898071,1.6202791929244995,1.6158918142318726,1.6132597923278809,1.6055936813354492,1.6041783094406128,1.6161059141159058,1.6145997047424316,1.6105836629867554,1.6164462566375732,1.622313380241394,1.616530179977417,1.6242271661758423,1.6189095973968506,1.6162103414535522,1.6128984689712524,1.6165189743041992,1.614167332649231,1.610695719718933,1.6078078746795654,1.612654447555542,1.612635850906372,1.612667202949524,1.6151690483093262,1.613142490386963,1.6171804666519165,1.6052340269088745,1.610297441482544,1.6146128177642822,1.6176748275756836,1.6124472618103027,1.6178762912750244,1.60932457447052,1.6110901832580566,1.6121996641159058,1.6125104427337646,1.6154431104660034,1.608442783355713,1.6125569343566895,1.6163837909698486,1.6128723621368408,1.6134028434753418,1.6076655387878418,1.6112842559814453,1.6138924360275269,1.6185362339019775,1.6290043592453003,1.6130046844482422,1.6251128911972046,1.6105868816375732,1.6059144735336304,1.6128400564193726,1.6174315214157104,1.6048028469085693,1.6062958240509033,1.6159167289733887,1.6208914518356323,1.6189498901367188,1.598021149635315,1.6274785995483398,1.6149635314941406,1.6177055835723877,1.613698124885559,1.611202359199524,1.6048126220703125,1.604494571685791,1.614109754562378,1.6136194467544556,1.6185288429260254,1.6177560091018677,1.6085829734802246,1.624273657798767,1.6077927350997925,1.6108063459396362,1.60601806640625,1.6041616201400757,1.6110131740570068,1.6274065971374512,1.615673542022705,1.6095335483551025,1.6241194009780884,1.618337631225586,1.610331654548645,1.6077436208724976,1.6221256256103516,1.610409140586853,1.6163276433944702,1.6139923334121704,1.6163088083267212,1.615596890449524,1.6059187650680542,1.6201680898666382,1.6017670631408691,1.6331367492675781,1.6124776601791382,1.6097930669784546,1.6140869855880737,1.6189537048339844,1.6211265325546265,1.6270490884780884,1.6054648160934448,1.6163769960403442,1.6136895418167114,1.6142184734344482,1.6270864009857178,1.6155176162719727,1.6172343492507935,1.6012691259384155,1.616843581199646,1.621370792388916,1.604200839996338,1.614689588546753,1.6160027980804443,1.6119431257247925,1.6054861545562744,1.6036239862442017,1.6107094287872314,1.6163667440414429,1.6070188283920288,1.622371792793274,1.6171208620071411,1.612593412399292,1.6223790645599365,1.6084964275360107,1.6119177341461182,1.6102133989334106,1.6050972938537598,1.6153514385223389,1.6031283140182495,1.6146602630615234,1.607866644859314,1.6047790050506592,1.6053093671798706,1.613843560218811,1.614119291305542,1.6185020208358765,1.6170116662979126,1.6136373281478882,1.6100835800170898,1.6180514097213745,1.6085290908813477,1.610216736793518,1.614031195640564,1.6106605529785156,1.6135894060134888,1.627606749534607,1.621604323387146,1.6076033115386963,1.61286199092865,1.61454176902771,1.6125987768173218,1.6180977821350098,1.6130372285842896,1.6164498329162598,1.6151422262191772,1.6131178140640259,1.6066217422485352,1.6101874113082886,1.6156988143920898,1.620524287223816,1.6167010068893433,1.6066254377365112,1.6136544942855835,1.6193803548812866,1.6140674352645874,1.6209189891815186,1.6161675453186035,1.6134848594665527,1.6219009160995483,1.6187336444854736,1.6163774728775024,1.6145970821380615,1.6088935136795044,1.6154272556304932,1.618691086769104,1.6076531410217285,1.6140583753585815,1.6144614219665527,1.617558479309082,1.611027717590332,1.6095778942108154,1.6179388761520386,1.6143845319747925,1.6070845127105713,1.6163921356201172,1.612338662147522,1.616703748703003,1.610565185546875,1.6125407218933105,1.6121728420257568,1.6138745546340942,1.6115280389785767,1.6131452322006226,1.6158579587936401,1.6100759506225586,1.6077052354812622,1.616321325302124,1.608046293258667,1.6117815971374512,1.6117138862609863,1.6194533109664917,1.6207544803619385,1.6184161901474,1.6210894584655762,1.6070826053619385,1.608784556388855,1.6122322082519531,1.6114442348480225,1.6135690212249756,1.6052143573760986,1.6184905767440796,1.606153130531311,1.615364670753479,1.6160857677459717,1.623221516609192,1.6128438711166382,1.612213373184204,1.611782431602478,1.610494613647461,1.6297428607940674,1.6171362400054932,1.623344898223877,1.6278610229492188,1.6115676164627075,1.6156846284866333,1.6084997653961182,1.6072198152542114,1.6014436483383179,1.6107457876205444,1.6203759908676147,1.6058621406555176,1.6147297620773315,1.6133049726486206,1.6181859970092773,1.617911458015442,1.6191437244415283,1.6309280395507812,1.612810492515564,1.6360176801681519,1.612221121788025,1.618153691291809,1.6088887453079224,1.6161547899246216,1.6072794198989868,1.6114234924316406,1.6115610599517822,1.6190041303634644,1.6189289093017578,1.6108845472335815,1.6061536073684692,1.6172658205032349,1.6153154373168945,1.6134238243103027,1.6138105392456055,1.6160404682159424,1.6173274517059326,1.6197867393493652,1.614898681640625,1.6051057577133179,1.6135555505752563,1.6158636808395386,1.615338921546936,1.6120171546936035,1.6047810316085815,1.617863416671753,1.6151150465011597,1.6117124557495117,1.6109411716461182,1.6173598766326904,1.6128387451171875,1.607865333557129,1.6084318161010742,1.6101558208465576,1.6107348203659058,1.611833930015564,1.609060287475586,1.6050941944122314,1.615354061126709,1.6204991340637207,1.6139211654663086,1.6102700233459473,1.617358922958374,1.6107442378997803,1.6133201122283936,1.6143693923950195,1.6098085641860962,1.6133058071136475,1.6081795692443848,1.6136705875396729,1.6176097393035889,1.6077502965927124,1.6043418645858765,1.6132744550704956,1.618591070175171,1.616784691810608,1.6190546751022339,1.6053413152694702,1.6155695915222168,1.6129282712936401,1.618423581123352,1.6131266355514526,1.6203020811080933,1.605189561843872,1.6097502708435059,1.6120264530181885,1.616997480392456,1.6049190759658813,1.6099852323532104,1.6207654476165771,1.6149325370788574,1.612863540649414,1.6104458570480347,1.6090980768203735,1.6127209663391113,1.6157206296920776,1.6134731769561768,1.6160764694213867,1.6081221103668213,1.609230399131775,1.613051176071167,1.6151286363601685,1.6175448894500732,1.6097248792648315,1.6056180000305176,1.6144700050354004,1.6148455142974854,1.6133610010147095,1.6091002225875854,1.6144323348999023,1.6095328330993652,1.610830545425415,1.622473120689392,1.6231040954589844,1.6073992252349854,1.612021565437317,1.6153264045715332,1.615363359451294,1.613060712814331,1.6279436349868774,1.6084775924682617,1.6136515140533447,1.6116348505020142,1.6134792566299438,1.6179604530334473,1.609828233718872,1.6078767776489258,1.6144009828567505,1.6176117658615112,1.6193292140960693,1.6123212575912476,1.6046361923217773,1.6122782230377197,1.6081926822662354,1.6134659051895142,1.6026018857955933,1.6151692867279053,1.6139757633209229,1.608137845993042,1.6064939498901367,1.6070153713226318,1.6126199960708618,1.6056405305862427,1.6226496696472168]},\"selected\":{\"id\":\"b678388c-ec60-4d10-b925-7a35195041a0\",\"type\":\"Selection\"},\"selection_policy\":{\"id\":\"761622ac-9bb6-4199-822f-f08e208f210f\",\"type\":\"UnionRenderers\"}},\"id\":\"780cbcf1-648f-4711-af07-618d0ba6d833\",\"type\":\"ColumnDataSource\"},{\"attributes\":{\"line_alpha\":0.6,\"line_color\":\"#1f77b4\",\"line_width\":2,\"x\":{\"field\":\"x\"},\"y\":{\"field\":\"y\"}},\"id\":\"9c75a592-81e4-4db7-afe9-af65aa835197\",\"type\":\"Line\"},{\"attributes\":{\"below\":[{\"id\":\"54354678-ec37-4232-92a0-59a59ab7011d\",\"type\":\"LinearAxis\"}],\"left\":[{\"id\":\"b3a1d9fd-e063-4d4e-908a-0ac3fa9e9e74\",\"type\":\"LinearAxis\"}],\"plot_height\":400,\"plot_width\":800,\"renderers\":[{\"id\":\"54354678-ec37-4232-92a0-59a59ab7011d\",\"type\":\"LinearAxis\"},{\"id\":\"d66a8881-ff95-481b-9418-6161c9015a7d\",\"type\":\"Grid\"},{\"id\":\"b3a1d9fd-e063-4d4e-908a-0ac3fa9e9e74\",\"type\":\"LinearAxis\"},{\"id\":\"3a679eb6-9e3c-4e39-ab7a-8bc9ac19417a\",\"type\":\"Grid\"},{\"id\":\"4dd36dd3-d295-46af-9289-e323cf292b4b\",\"type\":\"BoxAnnotation\"},{\"id\":\"a2f6b8ea-38fd-4367-8212-acc970818f36\",\"type\":\"GlyphRenderer\"},{\"id\":\"15f4facc-a278-4adc-828a-22c49bc5bffb\",\"type\":\"GlyphRenderer\"}],\"title\":{\"id\":\"f99c089a-c4de-4c60-98a4-0a084a62f4eb\",\"type\":\"Title\"},\"toolbar\":{\"id\":\"c55d61ee-ab14-4cc6-9690-af9a04d22c13\",\"type\":\"Toolbar\"},\"x_range\":{\"id\":\"e20daa97-acc8-4881-b2ff-820c713c6ee1\",\"type\":\"DataRange1d\"},\"x_scale\":{\"id\":\"068563c6-5a3f-4eb2-a9d9-7e8ea33117c7\",\"type\":\"LinearScale\"},\"y_range\":{\"id\":\"2c75d610-a4a2-4898-8778-b73bde6e2d5c\",\"type\":\"Range1d\"},\"y_scale\":{\"id\":\"bb2d0d50-ed35-4940-9258-9cb651d984a1\",\"type\":\"LinearScale\"}},\"id\":\"7d6a3594-cf47-4814-8010-dfbd6035116d\",\"subtype\":\"Figure\",\"type\":\"Plot\"},{\"attributes\":{\"data_source\":{\"id\":\"780cbcf1-648f-4711-af07-618d0ba6d833\",\"type\":\"ColumnDataSource\"},\"glyph\":{\"id\":\"9c75a592-81e4-4db7-afe9-af65aa835197\",\"type\":\"Line\"},\"hover_glyph\":null,\"muted_glyph\":null,\"nonselection_glyph\":{\"id\":\"362d41ae-3ec0-4221-b327-0a2d7c619773\",\"type\":\"Line\"},\"selection_glyph\":null,\"view\":{\"id\":\"6bc51f0f-9aa0-434e-a29d-daf1cd8a7802\",\"type\":\"CDSView\"}},\"id\":\"a2f6b8ea-38fd-4367-8212-acc970818f36\",\"type\":\"GlyphRenderer\"},{\"attributes\":{\"dimension\":1,\"plot\":{\"id\":\"7d6a3594-cf47-4814-8010-dfbd6035116d\",\"subtype\":\"Figure\",\"type\":\"Plot\"},\"ticker\":{\"id\":\"22db6820-c5a0-4fff-8c2e-6416864a18c5\",\"type\":\"BasicTicker\"}},\"id\":\"3a679eb6-9e3c-4e39-ab7a-8bc9ac19417a\",\"type\":\"Grid\"},{\"attributes\":{},\"id\":\"a52a5e22-9d64-4e00-a67a-967c8171a7b9\",\"type\":\"UnionRenderers\"},{\"attributes\":{\"plot\":{\"id\":\"7d6a3594-cf47-4814-8010-dfbd6035116d\",\"subtype\":\"Figure\",\"type\":\"Plot\"},\"ticker\":{\"id\":\"949159bd-f5da-4b4a-9d92-2a0dc3a1cba8\",\"type\":\"BasicTicker\"}},\"id\":\"d66a8881-ff95-481b-9418-6161c9015a7d\",\"type\":\"Grid\"},{\"attributes\":{},\"id\":\"b643bcb5-3d3a-443e-91dc-d252f2561437\",\"type\":\"Selection\"},{\"attributes\":{},\"id\":\"949159bd-f5da-4b4a-9d92-2a0dc3a1cba8\",\"type\":\"BasicTicker\"},{\"attributes\":{\"callback\":null,\"data\":{\"x\":{\"__ndarray__\":\"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\",\"dtype\":\"float64\",\"shape\":[500]},\"y\":[2.3100779056549072,2.310182571411133,2.310481548309326,2.3108110427856445,2.310971260070801,2.3112878799438477,2.3113186359405518,2.311250686645508,2.311283826828003,2.3112192153930664,2.311192750930786,2.311122179031372,2.310969352722168,2.3108127117156982,2.3106589317321777,2.3105292320251465,2.310476303100586,2.310542106628418,2.310685157775879,2.310776948928833,2.3108654022216797,2.3109660148620605,2.3109934329986572,2.311028480529785,2.3108530044555664,2.310711145401001,2.310577869415283,2.3104512691497803,2.3102781772613525,2.3101112842559814,2.310009002685547,2.309969186782837,2.309929132461548,2.3099169731140137,2.309969186782837,2.3100287914276123,2.3101179599761963,2.3101792335510254,2.3101441860198975,2.3102223873138428,2.3102755546569824,2.3103959560394287,2.3103325366973877,2.3103766441345215,2.310530424118042,2.310853958129883,2.311063766479492,2.311274766921997,2.3114607334136963,2.3115572929382324,2.3114914894104004,2.311607599258423,2.311680555343628,2.3117141723632812,2.3117997646331787,2.3119094371795654,2.311998128890991,2.3121492862701416,2.312281608581543,2.3123958110809326,2.312507390975952,2.3126718997955322,2.3129048347473145,2.312906265258789,2.3129360675811768,2.312840223312378,2.3126471042633057,2.3124730587005615,2.312267541885376,2.312120199203491,2.3118910789489746,2.3117892742156982,2.3116133213043213,2.311537742614746,2.3114123344421387,2.311325788497925,2.3112120628356934,2.3110544681549072,2.310927629470825,2.3107221126556396,2.3105623722076416,2.3105862140655518,2.3105762004852295,2.310681104660034,2.3109755516052246,2.3112521171569824,2.3115503787994385,2.311685085296631,2.311857223510742,2.3120498657226562,2.312262773513794,2.312440872192383,2.3126416206359863,2.312966823577881,2.3133883476257324,2.313798189163208,2.314305543899536,2.314835786819458,2.3154990673065186,2.3161139488220215,2.3167827129364014,2.3173720836639404,2.317793130874634,2.318256378173828,2.3185455799102783,2.3189492225646973,2.3194942474365234,2.3201491832733154,2.3209056854248047,2.321856737136841,2.3229353427886963,2.3241307735443115,2.3257081508636475,2.32765793800354,2.329982280731201,2.3328166007995605,2.3364391326904297,2.34077525138855,2.3463656902313232,2.353532075881958,2.3626174926757812,2.3738651275634766,2.387629747390747,2.404414415359497,2.4249887466430664,2.4491934776306152,2.475393533706665,2.5046162605285645,2.537968635559082,2.5745668411254883,2.6140880584716797,2.6558892726898193,2.699337959289551,2.7484934329986572,2.79950213432312,2.84816575050354,2.9005701541900635,2.9577796459198,3.015545129776001,3.075603485107422,3.1360597610473633,3.199751853942871,3.261453151702881,3.3224942684173584,3.3849711418151855,3.4485464096069336,3.507958173751831,3.563554048538208,3.615758180618286,3.663709878921509,3.708569288253784,3.755812883377075,3.800808906555176,3.8426918983459473,3.881110191345215,3.917011260986328,3.9514636993408203,3.9833383560180664,4.0135908126831055,4.041714191436768,4.074460983276367,4.103266716003418,4.129652976989746,4.152031421661377,4.17119026184082,4.188401222229004,4.203907012939453,4.237509250640869,4.269096851348877,4.299540996551514,4.328091144561768,4.355454444885254,4.38156270980835,4.405635356903076,4.4284749031066895,4.450784206390381,4.472212314605713,4.493674278259277,4.515195846557617,4.536481857299805,4.55695104598999,4.576290130615234,4.5956292152404785,4.614720344543457,4.6334943771362305,4.651933193206787,4.669241905212402,4.688694000244141,4.7100677490234375,4.73085880279541,4.75147819519043,4.771202087402344,4.789961338043213,4.807429790496826,4.824596405029297,4.841628551483154,4.857836723327637,4.873023986816406,4.888132572174072,4.903141021728516,4.917202472686768,4.930059432983398,4.94249963760376,4.953944206237793,4.964907169342041,4.975825786590576,4.98715353012085,4.997984409332275,5.007959842681885,5.017514228820801,5.027320384979248,5.037321090698242,5.047324180603027,5.056159019470215,5.064530849456787,5.072086811065674,5.079403877258301,5.091224193572998,5.103127956390381,5.115288257598877,5.127102375030518,5.138321399688721,5.149742126464844,5.161731243133545,5.173287391662598,5.18395471572876,5.195023059844971,5.205686569213867,5.216724395751953,5.226794242858887,5.237062454223633,5.246393203735352,5.256480693817139,5.265449523925781,5.273677825927734,5.281294822692871,5.289332389831543,5.297093868255615,5.3042893409729,5.311207294464111,5.317409515380859,5.323609828948975,5.329184055328369,5.334533214569092,5.3400726318359375,5.346108913421631,5.352718353271484,5.3591628074646,5.3652024269104,5.3713250160217285,5.377325057983398,5.383328437805176,5.389262676239014,5.395562648773193,5.401058197021484,5.406589508056641,5.412176609039307,5.418082237243652,5.4237470626831055,5.429724216461182,5.435929775238037,5.442639350891113,5.449380397796631,5.456247806549072,5.462970733642578,5.469124794006348,5.474425792694092,5.479999542236328,5.485422134399414,5.490421295166016,5.49484395980835,5.499505996704102,5.503748893737793,5.508424758911133,5.512598037719727,5.516507625579834,5.52123498916626,5.5259294509887695,5.530580520629883,5.534759044647217,5.538553237915039,5.543243885040283,5.548188209533691,5.553211212158203,5.558218002319336,5.562647342681885,5.566568374633789,5.570671558380127,5.574944496154785,5.579490661621094,5.584441184997559,5.589973449707031,5.595592021942139,5.601477146148682,5.607297897338867,5.613156795501709,5.61873722076416,5.623263359069824,5.628116607666016,5.632747173309326,5.637274742126465,5.64115047454834,5.6446075439453125,5.648329734802246,5.651997089385986,5.655636310577393,5.659250736236572,5.662478446960449,5.666049003601074,5.669429779052734,5.67276668548584,5.676163673400879,5.6795125007629395,5.682643413543701,5.685146331787109,5.68775749206543,5.690286636352539,5.6928935050964355,5.695585250854492,5.6985392570495605,5.70200252532959,5.705509662628174,5.709470748901367,5.713874340057373,5.718083381652832,5.7225847244262695,5.7265520095825195,5.731452465057373,5.7366766929626465,5.7415618896484375,5.7463908195495605,5.751411437988281,5.756527423858643,5.7622480392456055,5.767195224761963,5.772016525268555,5.776806831359863,5.781747341156006,5.7870707511901855,5.792773246765137,5.798217296600342,5.803730010986328,5.809238910675049,5.814346790313721,5.819065093994141,5.823066234588623,5.826979160308838,5.830214500427246,5.833779335021973,5.838298797607422,5.842526912689209,5.846161365509033,5.84912633895874,5.852172374725342,5.855391502380371,5.857879161834717,5.860374450683594,5.8634514808654785,5.866784572601318,5.869752407073975,5.872870922088623,5.875971794128418,5.879288673400879,5.882401943206787,5.885839939117432,5.889557361602783,5.893423080444336,5.896514415740967,5.898808002471924,5.9005913734436035,5.902235507965088,5.904112815856934,5.906549453735352,5.9091267585754395,5.911649227142334,5.914207935333252,5.917157173156738,5.919587135314941,5.921953201293945,5.923855304718018,5.926016330718994,5.928870677947998,5.931781768798828,5.9345316886901855,5.937384605407715,5.940299987792969,5.943403244018555,5.946559429168701,5.9499897956848145,5.953648567199707,5.957457542419434,5.961419582366943,5.965466022491455,5.969267845153809,5.972535610198975,5.975987911224365,5.979738712310791,5.983748912811279,5.987592697143555,5.990633010864258,5.993393898010254,5.995988845825195,5.998629570007324,6.001420497894287,6.004097938537598,6.006457805633545,6.008983135223389,6.010737895965576,6.01257848739624,6.014309883117676,6.016258716583252,6.018743515014648,6.021543979644775,6.0248942375183105,6.0283074378967285,6.031076908111572,6.033812046051025,6.036840438842773,6.039315700531006,6.041736602783203,6.04364538192749,6.04536771774292,6.047327041625977,6.049343585968018,6.05158805847168,6.054067134857178,6.0564093589782715,6.058717250823975,6.061406135559082,6.0641093254089355,6.066622734069824,6.069567680358887,6.072393417358398,6.074704170227051,6.077234745025635,6.0795135498046875,6.081674575805664,6.083881855010986,6.086218357086182,6.0885329246521,6.090999603271484,6.0934247970581055,6.096233367919922,6.099389553070068,6.102679252624512,6.105928421020508,6.108902931213379,6.1113386154174805,6.113936424255371,6.116641521453857,6.119955062866211,6.123289585113525,6.126918315887451,6.130441188812256,6.133676528930664,6.136574745178223,6.1396565437316895,6.142577171325684,6.145334720611572,6.148341178894043,6.150774002075195,6.152744770050049,6.1549530029296875,6.156395435333252,6.1574554443359375,6.1589436531066895,6.159515380859375,6.1610260009765625,6.162758827209473,6.165038585662842,6.16746187210083,6.169684410095215,6.172325611114502,6.1747636795043945,6.177542686462402,6.180160999298096,6.181860446929932,6.183502674102783,6.185062885284424,6.1867218017578125,6.188473701477051,6.19047737121582,6.1918816566467285,6.1934614181518555,6.195340633392334,6.197287559509277,6.19952392578125,6.201903820037842,6.203889846801758,6.205820560455322,6.207944869995117,6.209748268127441,6.211661338806152,6.213579177856445,6.215271949768066,6.217252731323242,6.218919277191162,6.220605850219727,6.222404956817627,6.224593162536621,6.226961612701416,6.229738235473633,6.2324371337890625,6.235354900360107,6.238341808319092,6.2410807609558105,6.243766784667969,6.2467875480651855,6.249502182006836,6.252592086791992,6.255956172943115,6.259341239929199,6.262815475463867,6.265617370605469,6.268087387084961,6.270543575286865,6.273362159729004,6.276287078857422,6.279038906097412,6.281423091888428,6.283964157104492,6.286256313323975,6.288462162017822,6.290571689605713,6.292625904083252,6.294422149658203,6.295868396759033,6.2973952293396,6.298749923706055,6.299378395080566,6.300126075744629,6.300847053527832,6.301337718963623,6.302289962768555,6.3032732009887695,6.304018020629883,6.304855823516846,6.305847644805908,6.306624412536621,6.308378219604492,6.30979585647583,6.31168794631958,6.313329219818115,6.3150315284729,6.317275047302246,6.318917274475098,6.320719242095947,6.322643280029297,6.324546813964844,6.326743125915527,6.329167366027832,6.331482887268066,6.333555698394775,6.33604097366333,6.338572978973389,6.341216564178467,6.34433126449585,6.347569465637207,6.3506999015808105,6.354345321655273,6.357506275177002,6.361037731170654,6.363924026489258,6.366846561431885,6.369627475738525,6.3719096183776855,6.373602390289307,6.374836444854736,6.375784873962402,6.377162456512451,6.378945350646973,6.38100528717041,6.382835388183594,6.384924411773682,6.386536598205566,6.388808250427246,6.39139986038208,6.393898963928223,6.396359443664551,6.398706912994385,6.4009857177734375,6.402719020843506,6.404252529144287,6.405721187591553,6.407317638397217,6.4092302322387695,6.411264419555664,6.4135942459106445,6.4163408279418945,6.418614387512207,6.420677185058594,6.423165321350098,6.425809860229492,6.428164005279541,6.430296897888184,6.431667327880859,6.432991981506348,6.433841705322266,6.434463977813721,6.435312271118164,6.4362030029296875,6.437098979949951,6.438098430633545,6.439197540283203,6.44057559967041,6.441800117492676,6.4432148933410645,6.44391393661499,6.4444193840026855,6.44470739364624,6.445123672485352,6.445862293243408,6.446990013122559,6.447838306427002,6.448693752288818,6.449666500091553,6.4507012367248535,6.451869964599609,6.453024864196777,6.454262733459473,6.455800533294678,6.457637786865234,6.4597015380859375,6.462193012237549,6.4647135734558105,6.467924118041992,6.470668792724609,6.4735589027404785,6.47614049911499,6.478900909423828,6.481386661529541,6.483500003814697,6.485270977020264,6.487332344055176,6.489274978637695,6.490909576416016,6.492597579956055,6.494039535522461,6.49513053894043,6.496248245239258,6.49753999710083,6.499027252197266,6.500698566436768,6.502388954162598,6.504222869873047,6.506194114685059,6.508635997772217,6.511122226715088,6.513284683227539,6.515707015991211,6.518205642700195,6.520775318145752,6.522529125213623,6.524394989013672,6.525851726531982,6.527205944061279,6.5289225578308105,6.530943393707275,6.532501220703125,6.53387451171875,6.534989833831787,6.53598165512085,6.536882400512695,6.538224697113037,6.53933048248291,6.54003381729126,6.5413818359375,6.5426225662231445,6.543361186981201,6.544526100158691,6.545892238616943,6.546853065490723,6.547948360443115,6.549015998840332,6.549963474273682,6.550913333892822,6.551896572113037,6.552893161773682,6.554178714752197,6.555911540985107,6.557404518127441,6.559111595153809,6.560558795928955,6.56191873550415,6.562450408935547,6.563126564025879,6.563993453979492,6.564520359039307,6.564882278442383,6.565726280212402,6.566573143005371,6.567377090454102,6.568636417388916,6.570023059844971,6.571885585784912,6.57325553894043,6.575069904327393,6.5772223472595215,6.579660892486572,6.582435131072998,6.5848774909973145,6.587118148803711,6.589482307434082,6.591750621795654,6.5941996574401855,6.596597671508789,6.598518371582031,6.600461006164551,6.603131294250488,6.60578727722168,6.608381271362305,6.610759735107422,6.613248825073242,6.614768981933594,6.616399765014648,6.617194652557373,6.6183600425720215,6.619625568389893,6.620856761932373,6.6220703125,6.6236090660095215,6.624526500701904,6.625984191894531,6.627872467041016,6.629539489746094,6.631034851074219,6.632917881011963,6.634819984436035,6.636709690093994,6.638313293457031,6.639676094055176,6.640787124633789,6.641803741455078,6.6430559158325195,6.644079208374023,6.644740581512451,6.645106315612793,6.644821643829346,6.644542217254639,6.64439582824707,6.644656658172607,6.6448564529418945,6.6452131271362305,6.645560264587402,6.646299362182617,6.64689826965332,6.647549152374268,6.648161888122559,6.648811340332031,6.649337291717529,6.650252342224121,6.650899410247803,6.651391983032227,6.652297019958496,6.653530120849609,6.654655933380127,6.656199932098389,6.657580375671387,6.659317970275879,6.661044597625732,6.662734031677246,6.6638994216918945,6.664950847625732,6.665943622589111,6.6668877601623535,6.667489051818848,6.668102264404297,6.669000148773193,6.669803619384766,6.670744895935059,6.671969890594482,6.673400402069092,6.675065994262695,6.676943778991699,6.678861141204834,6.680954933166504,6.683541774749756,6.685501575469971,6.68727970123291,6.689367771148682,6.6913042068481445,6.693360805511475,6.695734024047852,6.698520183563232,6.701345920562744,6.703948020935059,6.706352710723877,6.708884239196777,6.7111287117004395,6.713393688201904,6.715721607208252,6.718154430389404,6.720444202423096,6.722899913787842,6.7258076667785645,6.728302478790283,6.730029582977295,6.731311321258545,6.732895851135254,6.734452247619629,6.735311985015869,6.735720634460449,6.735352039337158,6.735542297363281,6.735611915588379,6.7354021072387695,6.735035419464111,6.7348456382751465,6.73420524597168,6.734044551849365,6.734313488006592,6.734797954559326,6.735204219818115,6.735860824584961,6.7368292808532715,6.737842559814453,6.7388715744018555,6.739531517028809,6.740996360778809,6.742786884307861,6.744338512420654,6.745783805847168,6.747268199920654,6.748984336853027,6.7504472732543945,6.751830577850342,6.753428936004639,6.755156993865967,6.756834983825684,6.758938789367676,6.760958194732666,6.763476848602295,6.766103744506836,6.768786430358887,6.771974086761475,6.774810791015625,6.777690887451172,6.780025959014893,6.782158851623535,6.7838239669799805,6.785328388214111,6.787118911743164,6.788846015930176,6.791080474853516,6.793117523193359,6.794885635375977,6.797184467315674,6.798953533172607,6.800756454467773,6.8021321296691895,6.803043842315674,6.803149223327637,6.803079128265381,6.8028388023376465,6.802574634552002,6.802704811096191,6.802028179168701,6.801297187805176,6.800432205200195,6.799996376037598,6.799558639526367,6.799367904663086,6.7990946769714355,6.799074172973633,6.799386024475098,6.799892902374268,6.800654888153076,6.801581859588623,6.802834510803223,6.804060459136963,6.805455684661865,6.80726957321167,6.809178829193115,6.811128616333008,6.813420295715332,6.815666675567627,6.81796407699585,6.820244312286377,6.822536468505859,6.825117588043213,6.8274688720703125,6.8296051025390625,6.831575870513916,6.832438945770264,6.833226680755615,6.834320068359375,6.835575580596924,6.836357116699219,6.8372111320495605,6.837874412536621,6.838655948638916,6.838989734649658,6.83920955657959,6.839354991912842,6.839483261108398,6.839466571807861,6.839479923248291,6.839800834655762,6.839682579040527,6.840010643005371,6.840250015258789,6.84026575088501,6.8410749435424805,6.842443943023682,6.843987941741943,6.846156120300293,6.848109245300293,6.850062370300293,6.852126598358154,6.8543572425842285,6.8565521240234375,6.858398914337158,6.859786510467529,6.861062526702881,6.861682415008545,6.862498760223389,6.863308906555176,6.864289283752441,6.864624500274658,6.8653669357299805,6.865749835968018,6.8661274909973145,6.866891860961914,6.867345809936523,6.867968559265137,6.868815898895264,6.869061470031738,6.869394779205322,6.870238304138184,6.870833396911621,6.8719964027404785,6.873330593109131,6.874111652374268,6.874885559082031,6.875718116760254,6.876461505889893,6.877713203430176,6.8783159255981445,6.879136562347412,6.8806233406066895,6.882136821746826,6.883958339691162,6.885509490966797,6.887199401855469,6.888709545135498,6.890200614929199,6.891979217529297,6.893200397491455,6.8943352699279785,6.8953680992126465,6.896604061126709,6.897520065307617,6.898407459259033,6.899450302124023,6.900394439697266,6.901381969451904,6.9019856452941895,6.902042388916016,6.901888370513916,6.902184009552002,6.9020843505859375,6.902419567108154,6.903040885925293,6.903667449951172,6.904055118560791,6.904634475708008,6.905210494995117,6.905978679656982,6.9068522453308105,6.908066749572754,6.9095683097839355,6.911189079284668,6.913078308105469,6.915009021759033,6.916451930999756,6.918736934661865,6.920907974243164,6.923437118530273,6.925726413726807,6.928256034851074,6.930322170257568,6.932688236236572,6.935277462005615,6.937729835510254,6.940484523773193,6.942671298980713,6.9445390701293945,6.946572303771973,6.9488372802734375,6.950534820556641,6.95164680480957,6.9530930519104,6.954748630523682,6.956211090087891,6.957754135131836,6.959817886352539,6.961498260498047,6.962516784667969,6.963547706604004,6.9640703201293945]},\"selected\":{\"id\":\"b643bcb5-3d3a-443e-91dc-d252f2561437\",\"type\":\"Selection\"},\"selection_policy\":{\"id\":\"a52a5e22-9d64-4e00-a67a-967c8171a7b9\",\"type\":\"UnionRenderers\"}},\"id\":\"8779d70f-2e02-4460-8b12-0101e858b809\",\"type\":\"ColumnDataSource\"},{\"attributes\":{\"formatter\":{\"id\":\"09f9dff3-cf6c-4c2e-b9f7-389dc2c50c7f\",\"type\":\"BasicTickFormatter\"},\"plot\":{\"id\":\"7d6a3594-cf47-4814-8010-dfbd6035116d\",\"subtype\":\"Figure\",\"type\":\"Plot\"},\"ticker\":{\"id\":\"949159bd-f5da-4b4a-9d92-2a0dc3a1cba8\",\"type\":\"BasicTicker\"}},\"id\":\"54354678-ec37-4232-92a0-59a59ab7011d\",\"type\":\"LinearAxis\"},{\"attributes\":{\"active_drag\":\"auto\",\"active_inspect\":\"auto\",\"active_multi\":null,\"active_scroll\":\"auto\",\"active_tap\":\"auto\",\"tools\":[{\"id\":\"9de22f23-af6f-4813-ac6f-fdadfd87662d\",\"type\":\"PanTool\"},{\"id\":\"a8407bc5-ce28-4570-8f0f-9292c6e7bf48\",\"type\":\"WheelZoomTool\"},{\"id\":\"0bd28bdf-3f68-44aa-ab2f-dd06bd34b3d3\",\"type\":\"BoxZoomTool\"},{\"id\":\"f972b4c7-a72f-4d80-891f-8e171df45fc4\",\"type\":\"SaveTool\"},{\"id\":\"0e384a08-d06d-4089-95d4-fb1875cf577c\",\"type\":\"ResetTool\"},{\"id\":\"6eb433dc-dc28-4410-ba7f-9db9742db6fe\",\"type\":\"HelpTool\"}]},\"id\":\"c55d61ee-ab14-4cc6-9690-af9a04d22c13\",\"type\":\"Toolbar\"},{\"attributes\":{},\"id\":\"f972b4c7-a72f-4d80-891f-8e171df45fc4\",\"type\":\"SaveTool\"},{\"attributes\":{\"overlay\":{\"id\":\"4dd36dd3-d295-46af-9289-e323cf292b4b\",\"type\":\"BoxAnnotation\"}},\"id\":\"0bd28bdf-3f68-44aa-ab2f-dd06bd34b3d3\",\"type\":\"BoxZoomTool\"},{\"attributes\":{},\"id\":\"a8407bc5-ce28-4570-8f0f-9292c6e7bf48\",\"type\":\"WheelZoomTool\"},{\"attributes\":{\"source\":{\"id\":\"780cbcf1-648f-4711-af07-618d0ba6d833\",\"type\":\"ColumnDataSource\"}},\"id\":\"6bc51f0f-9aa0-434e-a29d-daf1cd8a7802\",\"type\":\"CDSView\"},{\"attributes\":{},\"id\":\"9de22f23-af6f-4813-ac6f-fdadfd87662d\",\"type\":\"PanTool\"},{\"attributes\":{\"source\":{\"id\":\"8779d70f-2e02-4460-8b12-0101e858b809\",\"type\":\"ColumnDataSource\"}},\"id\":\"7b912f24-8cd2-4e58-829f-32ac58f60f5c\",\"type\":\"CDSView\"},{\"attributes\":{\"data_source\":{\"id\":\"8779d70f-2e02-4460-8b12-0101e858b809\",\"type\":\"ColumnDataSource\"},\"glyph\":{\"id\":\"5dbdd47b-543c-4bae-adc5-0cee0fa5273e\",\"type\":\"Line\"},\"hover_glyph\":null,\"muted_glyph\":null,\"nonselection_glyph\":{\"id\":\"5d8259e5-92f5-4c96-a8b6-cd126445666d\",\"type\":\"Line\"},\"selection_glyph\":null,\"view\":{\"id\":\"7b912f24-8cd2-4e58-829f-32ac58f60f5c\",\"type\":\"CDSView\"}},\"id\":\"15f4facc-a278-4adc-828a-22c49bc5bffb\",\"type\":\"GlyphRenderer\"},{\"attributes\":{\"line_alpha\":0.6,\"line_color\":\"green\",\"line_width\":2,\"x\":{\"field\":\"x\"},\"y\":{\"field\":\"y\"}},\"id\":\"5dbdd47b-543c-4bae-adc5-0cee0fa5273e\",\"type\":\"Line\"},{\"attributes\":{\"callback\":null,\"end\":2.3277266025543213},\"id\":\"2c75d610-a4a2-4898-8778-b73bde6e2d5c\",\"type\":\"Range1d\"},{\"attributes\":{\"line_alpha\":0.1,\"line_color\":\"#1f77b4\",\"line_width\":2,\"x\":{\"field\":\"x\"},\"y\":{\"field\":\"y\"}},\"id\":\"5d8259e5-92f5-4c96-a8b6-cd126445666d\",\"type\":\"Line\"},{\"attributes\":{},\"id\":\"6eb433dc-dc28-4410-ba7f-9db9742db6fe\",\"type\":\"HelpTool\"},{\"attributes\":{},\"id\":\"0e384a08-d06d-4089-95d4-fb1875cf577c\",\"type\":\"ResetTool\"},{\"attributes\":{},\"id\":\"994a098b-3837-410c-8443-d42fd2630c02\",\"type\":\"BasicTickFormatter\"},{\"attributes\":{},\"id\":\"761622ac-9bb6-4199-822f-f08e208f210f\",\"type\":\"UnionRenderers\"},{\"attributes\":{},\"id\":\"b678388c-ec60-4d10-b925-7a35195041a0\",\"type\":\"Selection\"},{\"attributes\":{},\"id\":\"09f9dff3-cf6c-4c2e-b9f7-389dc2c50c7f\",\"type\":\"BasicTickFormatter\"},{\"attributes\":{},\"id\":\"068563c6-5a3f-4eb2-a9d9-7e8ea33117c7\",\"type\":\"LinearScale\"},{\"attributes\":{\"line_alpha\":0.1,\"line_color\":\"#1f77b4\",\"line_width\":2,\"x\":{\"field\":\"x\"},\"y\":{\"field\":\"y\"}},\"id\":\"362d41ae-3ec0-4221-b327-0a2d7c619773\",\"type\":\"Line\"},{\"attributes\":{},\"id\":\"bb2d0d50-ed35-4940-9258-9cb651d984a1\",\"type\":\"LinearScale\"}],\"root_ids\":[\"7d6a3594-cf47-4814-8010-dfbd6035116d\"]},\"title\":\"Bokeh Application\",\"version\":\"0.13.0\"}};\n",
              "  var render_items = [{\"docid\":\"f24f7f21-9072-4f8c-bf9b-64aa303f8da7\",\"roots\":{\"7d6a3594-cf47-4814-8010-dfbd6035116d\":\"649b437f-afba-47c0-9eab-7494ee883cfa\"}}];\n",
              "  root.Bokeh.embed.embed_items_notebook(docs_json, render_items);\n",
              "\n",
              "  }\n",
              "  if (root.Bokeh !== undefined) {\n",
              "    embed_document(root);\n",
              "  } else {\n",
              "    var attempts = 0;\n",
              "    var timer = setInterval(function(root) {\n",
              "      if (root.Bokeh !== undefined) {\n",
              "        embed_document(root);\n",
              "        clearInterval(timer);\n",
              "      }\n",
              "      attempts++;\n",
              "      if (attempts > 100) {\n",
              "        console.log(\"Bokeh: ERROR: Unable to run BokehJS code because BokehJS library is missing\")\n",
              "        clearInterval(timer);\n",
              "      }\n",
              "    }, 10, root)\n",
              "  }\n",
              "})(window);"
            ],
            "application/vnd.bokehjs_exec.v0+json": ""
          },
          "metadata": {
            "tags": [],
            "application/vnd.bokehjs_exec.v0+json": {
              "id": "7d6a3594-cf47-4814-8010-dfbd6035116d"
            }
          }
        },
        {
          "output_type": "stream",
          "text": [
            "/usr/local/lib/python3.6/dist-packages/bokeh/models/sources.py:110: BokehUserWarning: ColumnDataSource's columns must be of the same length. Current lengths: ('x', 500), ('y', 1000)\n",
            "  \"Current lengths: %s\" % \", \".join(sorted(str((k, len(v))) for k, v in data.items())), BokehUserWarning))\n",
            "/usr/local/lib/python3.6/dist-packages/bokeh/models/sources.py:110: BokehUserWarning: ColumnDataSource's columns must be of the same length. Current lengths: ('x', 500), ('y', 1000)\n",
            "  \"Current lengths: %s\" % \", \".join(sorted(str((k, len(v))) for k, v in data.items())), BokehUserWarning))\n"
          ],
          "name": "stderr"
        },
        {
          "output_type": "display_data",
          "data": {
            "text/html": [
              "\n",
              "\n",
              "\n",
              "\n",
              "\n",
              "\n",
              "  <div class=\"bk-root\" id=\"e69ff4cf-9fb3-4376-bec4-c5ed64cb6c9c\"></div>\n"
            ]
          },
          "metadata": {
            "tags": []
          }
        },
        {
          "output_type": "display_data",
          "data": {
            "application/javascript": [
              "(function(root) {\n",
              "  function embed_document(root) {\n",
              "    \n",
              "  var docs_json = {\"7fb09a59-ff0d-4a6f-bf05-ed34427ee73e\":{\"roots\":{\"references\":[{\"attributes\":{},\"id\":\"6820aa53-7e0c-4e66-984d-71d079e08c25\",\"type\":\"BasicTicker\"},{\"attributes\":{},\"id\":\"4e25df4b-a96b-43ab-9c3c-e713746b5627\",\"type\":\"LinearScale\"},{\"attributes\":{\"below\":[{\"id\":\"a23824e8-901b-4eb7-9022-00dc787dd709\",\"type\":\"LinearAxis\"}],\"left\":[{\"id\":\"4102352a-79a6-4dd7-b0c0-dc78e32b019d\",\"type\":\"LinearAxis\"}],\"plot_height\":400,\"plot_width\":800,\"renderers\":[{\"id\":\"a23824e8-901b-4eb7-9022-00dc787dd709\",\"type\":\"LinearAxis\"},{\"id\":\"71b2b070-c694-47b1-a1f1-342ad7d93b81\",\"type\":\"Grid\"},{\"id\":\"4102352a-79a6-4dd7-b0c0-dc78e32b019d\",\"type\":\"LinearAxis\"},{\"id\":\"80089e33-a0e8-4615-9c2a-b64c97cf5eb3\",\"type\":\"Grid\"},{\"id\":\"07ed94bb-05dc-40ad-9f3a-cd049caf1dbe\",\"type\":\"BoxAnnotation\"},{\"id\":\"e894aec1-9bed-4452-811c-87f863b72b76\",\"type\":\"GlyphRenderer\"},{\"id\":\"176b92ae-ae71-4ed0-aa97-9963913682b5\",\"type\":\"GlyphRenderer\"}],\"title\":{\"id\":\"3f5341b0-f725-4b65-823d-f9bea42d264b\",\"type\":\"Title\"},\"toolbar\":{\"id\":\"c5257fc8-7de4-4157-80c8-fe4a27de7b86\",\"type\":\"Toolbar\"},\"x_range\":{\"id\":\"7027ac72-29ba-4f8e-9693-99b05f1fc309\",\"type\":\"DataRange1d\"},\"x_scale\":{\"id\":\"57657264-d690-47be-9bbc-c962754d66b4\",\"type\":\"LinearScale\"},\"y_range\":{\"id\":\"b763f357-8ef0-42b7-8194-9aa39344189f\",\"type\":\"Range1d\"},\"y_scale\":{\"id\":\"4e25df4b-a96b-43ab-9c3c-e713746b5627\",\"type\":\"LinearScale\"}},\"id\":\"e15bb5e7-907b-4b55-8199-14a8080e36f8\",\"subtype\":\"Figure\",\"type\":\"Plot\"},{\"attributes\":{\"plot\":null,\"text\":\"\"},\"id\":\"3f5341b0-f725-4b65-823d-f9bea42d264b\",\"type\":\"Title\"},{\"attributes\":{},\"id\":\"8e569d64-1ff6-4d00-8ba7-b9f0734cba1c\",\"type\":\"PanTool\"},{\"attributes\":{\"formatter\":{\"id\":\"a4064266-4587-43bc-991a-796b081cd89c\",\"type\":\"BasicTickFormatter\"},\"plot\":{\"id\":\"e15bb5e7-907b-4b55-8199-14a8080e36f8\",\"subtype\":\"Figure\",\"type\":\"Plot\"},\"ticker\":{\"id\":\"e7965c08-6e6c-4ca4-93da-3d68fb8f2d56\",\"type\":\"BasicTicker\"}},\"id\":\"4102352a-79a6-4dd7-b0c0-dc78e32b019d\",\"type\":\"LinearAxis\"},{\"attributes\":{\"callback\":null},\"id\":\"7027ac72-29ba-4f8e-9693-99b05f1fc309\",\"type\":\"DataRange1d\"},{\"attributes\":{\"dimension\":1,\"plot\":{\"id\":\"e15bb5e7-907b-4b55-8199-14a8080e36f8\",\"subtype\":\"Figure\",\"type\":\"Plot\"},\"ticker\":{\"id\":\"e7965c08-6e6c-4ca4-93da-3d68fb8f2d56\",\"type\":\"BasicTicker\"}},\"id\":\"80089e33-a0e8-4615-9c2a-b64c97cf5eb3\",\"type\":\"Grid\"},{\"attributes\":{},\"id\":\"e7965c08-6e6c-4ca4-93da-3d68fb8f2d56\",\"type\":\"BasicTicker\"},{\"attributes\":{\"bottom_units\":\"screen\",\"fill_alpha\":{\"value\":0.5},\"fill_color\":{\"value\":\"lightgrey\"},\"left_units\":\"screen\",\"level\":\"overlay\",\"line_alpha\":{\"value\":1.0},\"line_color\":{\"value\":\"black\"},\"line_dash\":[4,4],\"line_width\":{\"value\":2},\"plot\":null,\"render_mode\":\"css\",\"right_units\":\"screen\",\"top_units\":\"screen\"},\"id\":\"07ed94bb-05dc-40ad-9f3a-cd049caf1dbe\",\"type\":\"BoxAnnotation\"},{\"attributes\":{\"callback\":null,\"end\":2.3371050357818604},\"id\":\"b763f357-8ef0-42b7-8194-9aa39344189f\",\"type\":\"Range1d\"},{\"attributes\":{\"callback\":null,\"data\":{\"x\":{\"__ndarray__\":\"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\",\"dtype\":\"float64\",\"shape\":[500]},\"y\":[2.3297786712646484,2.328890323638916,2.3276236057281494,2.3262522220611572,2.3248958587646484,2.323455572128296,2.322026491165161,2.320685863494873,2.319338798522949,2.318058967590332,2.317002058029175,2.3163156509399414,2.315669298171997,2.315021276473999,2.314321994781494,2.313634157180786,2.3130407333374023,2.312586784362793,2.3121771812438965,2.3118090629577637,2.3115651607513428,2.3115434646606445,2.311361074447632,2.311274528503418,2.311184883117676,2.3110880851745605,2.3109631538391113,2.3109703063964844,2.3108139038085938,2.310609817504883,2.310403823852539,2.3102805614471436,2.310136556625366,2.309889793395996,2.309570789337158,2.309279680252075,2.30891489982605,2.308586835861206,2.3083629608154297,2.308197021484375,2.308000326156616,2.3076367378234863,2.3073933124542236,2.3070971965789795,2.306833505630493,2.3065054416656494,2.3061683177948,2.3058853149414062,2.3056507110595703,2.3054471015930176,2.3052282333374023,2.305122137069702,2.304948568344116,2.3046939373016357,2.3044466972351074,2.304206132888794,2.303966999053955,2.3037269115448,2.303417682647705,2.3032336235046387,2.3030431270599365,2.3028292655944824,2.302537441253662,2.302311897277832,2.302156686782837,2.3020386695861816,2.301787853240967,2.3014721870422363,2.301283836364746,2.3011066913604736,2.300933837890625,2.3008179664611816,2.3008174896240234,2.300668239593506,2.300528049468994,2.300421714782715,2.30035138130188,2.3003087043762207,2.300340414047241,2.300354242324829,2.3004260063171387,2.300448179244995,2.3003756999969482,2.300307035446167,2.3002893924713135,2.30037260055542,2.3003766536712646,2.3002636432647705,2.3002519607543945,2.300342321395874,2.300471782684326,2.300626277923584,2.3009402751922607,2.301281452178955,2.301466226577759,2.301750659942627,2.302022933959961,2.3022048473358154,2.3025999069213867,2.302955150604248,2.303218364715576,2.3036255836486816,2.3041462898254395,2.3044803142547607,2.304858684539795,2.3051021099090576,2.305332660675049,2.3056516647338867,2.3059463500976562,2.3063905239105225,2.306858539581299,2.3074464797973633,2.3078725337982178,2.308154344558716,2.3083248138427734,2.3083865642547607,2.3083479404449463,2.3082730770111084,2.3080990314483643,2.3080499172210693,2.3080379962921143,2.3081600666046143,2.308403968811035,2.3086209297180176,2.3087971210479736,2.308771848678589,2.3086960315704346,2.3086090087890625,2.3085176944732666,2.308379650115967,2.3082761764526367,2.308002471923828,2.307838201522827,2.3076775074005127,2.3075406551361084,2.307323694229126,2.307194232940674,2.307002067565918,2.306852102279663,2.306680202484131,2.306598663330078,2.306515693664551,2.3064749240875244,2.3062686920166016,2.306025266647339,2.3057074546813965,2.305584669113159,2.3053762912750244,2.3052122592926025,2.3050503730773926,2.3048102855682373,2.3046698570251465,2.304459571838379,2.3042643070220947,2.3040947914123535,2.303823232650757,2.3035476207733154,2.303335189819336,2.3030457496643066,2.3028359413146973,2.3027853965759277,2.3027610778808594,2.3025763034820557,2.3025903701782227,2.302640676498413,2.3026347160339355,2.30271577835083,2.302807092666626,2.302985906600952,2.303035259246826,2.3029696941375732,2.3029465675354004,2.3028130531311035,2.302621603012085,2.30241060256958,2.302170753479004,2.301974058151245,2.3016912937164307,2.3014473915100098,2.3013346195220947,2.301215648651123,2.301196813583374,2.301321268081665,2.3014979362487793,2.301666498184204,2.3016977310180664,2.301788091659546,2.3017866611480713,2.3018367290496826,2.301948308944702,2.3020074367523193,2.3020575046539307,2.3020434379577637,2.3019187450408936,2.3017163276672363,2.3014743328094482,2.3011107444763184,2.300825834274292,2.3007073402404785,2.3005778789520264,2.300327777862549,2.3001580238342285,2.299933433532715,2.2996068000793457,2.2992396354675293,2.2989799976348877,2.2987618446350098,2.2985668182373047,2.298166036605835,2.2977263927459717,2.297302722930908,2.2968783378601074,2.2965524196624756,2.2962074279785156,2.296037197113037,2.2959158420562744,2.2958898544311523,2.295818328857422,2.295780897140503,2.2957026958465576,2.2957043647766113,2.295578956604004,2.29549503326416,2.2954518795013428,2.2954087257385254,2.295405387878418,2.2954728603363037,2.295560598373413,2.295835256576538,2.296175241470337,2.296604871749878,2.297016143798828,2.2973501682281494,2.2977077960968018,2.2980382442474365,2.298142433166504,2.298154354095459,2.2981982231140137,2.2981996536254883,2.2983481884002686,2.298586130142212,2.2987208366394043,2.2988193035125732,2.2991082668304443,2.299415349960327,2.2997066974639893,2.299967050552368,2.300279378890991,2.30061674118042,2.3009605407714844,2.3012306690216064,2.301517963409424,2.3017020225524902,2.3019678592681885,2.302161693572998,2.302304744720459,2.302440881729126,2.3025736808776855,2.302759885787964,2.3028948307037354,2.3030953407287598,2.3030731678009033,2.3031368255615234,2.3032095432281494,2.3033251762390137,2.3035171031951904,2.303694486618042,2.3037784099578857,2.3038196563720703,2.303659677505493,2.30348539352417,2.303290367126465,2.303077220916748,2.3029680252075195,2.3028719425201416,2.302645206451416,2.302553653717041,2.3024866580963135,2.302412748336792,2.3023948669433594,2.3024895191192627,2.3025972843170166,2.302600860595703,2.302649974822998,2.30263352394104,2.3026559352874756,2.3025946617126465,2.302478075027466,2.3022873401641846,2.302069902420044,2.3019607067108154,2.3017866611480713,2.3016598224639893,2.3016014099121094,2.3014838695526123,2.3014254570007324,2.301534652709961,2.3016510009765625,2.301811933517456,2.301877498626709,2.3019959926605225,2.302133083343506,2.302217483520508,2.3023946285247803,2.302640438079834,2.3028557300567627,2.303070068359375,2.30320143699646,2.3032901287078857,2.3034422397613525,2.3035452365875244,2.3035781383514404,2.303642749786377,2.3037424087524414,2.3038249015808105,2.303889036178589,2.303783416748047,2.3037455081939697,2.303626298904419,2.3034584522247314,2.3031930923461914,2.302807331085205,2.3024063110351562,2.301938533782959,2.3014135360717773,2.3009047508239746,2.300422430038452,2.3000335693359375,2.2996315956115723,2.299234390258789,2.2989673614501953,2.2987115383148193,2.2984917163848877,2.2981603145599365,2.297781229019165,2.297346591949463,2.296982526779175,2.2966551780700684,2.2963337898254395,2.296003580093384,2.29563570022583,2.295255184173584,2.29494571685791,2.2946574687957764,2.294445276260376,2.2942891120910645,2.2942049503326416,2.2942774295806885,2.29430890083313,2.294381856918335,2.294433355331421,2.2945399284362793,2.294649124145508,2.294750213623047,2.2948219776153564,2.2948720455169678,2.294982433319092,2.2951905727386475,2.295441150665283,2.295726776123047,2.2959682941436768,2.2961275577545166,2.2962546348571777,2.2962892055511475,2.296376943588257,2.2965023517608643,2.2966184616088867,2.2966816425323486,2.2967615127563477,2.2968640327453613,2.296988010406494,2.2970588207244873,2.2971179485321045,2.297218084335327,2.2973506450653076,2.297445058822632,2.297562599182129,2.297654151916504,2.297722101211548,2.297775983810425,2.2978525161743164,2.297921895980835,2.297964334487915,2.298020839691162,2.2980308532714844,2.298083543777466,2.298142910003662,2.298161029815674,2.2981741428375244,2.2981183528900146,2.298064708709717,2.297898769378662,2.2978451251983643,2.2978451251983643,2.2979118824005127,2.297935962677002,2.2979748249053955,2.298029899597168,2.297970771789551,2.2979166507720947,2.297783136367798,2.2975943088531494,2.297341823577881,2.297112226486206,2.2968006134033203,2.296677350997925,2.2965469360351562,2.296480894088745,2.2964930534362793,2.296541929244995,2.296591281890869,2.2965986728668213,2.296642303466797,2.29677152633667,2.2969563007354736,2.297217607498169,2.2975361347198486,2.297841787338257,2.298039436340332,2.298198938369751,2.298236846923828,2.298253297805786,2.2983498573303223,2.298532485961914,2.298731565475464,2.298943042755127,2.2991414070129395,2.299367666244507,2.2996339797973633,2.299940347671509,2.300173044204712,2.3004093170166016,2.3005683422088623,2.300662040710449,2.3007497787475586,2.3008317947387695,2.3009018898010254,2.301089286804199,2.3012712001800537,2.3013739585876465,2.301480770111084,2.3015196323394775,2.3016786575317383,2.301910400390625,2.302114248275757,2.3022191524505615,2.3023297786712646,2.3025143146514893,2.302774429321289,2.3029842376708984,2.3032474517822266,2.3033809661865234,2.3035268783569336,2.303718328475952,2.3038666248321533,2.3039779663085938,2.3041725158691406,2.304271936416626,2.3043649196624756,2.304385185241699,2.3043909072875977,2.3043599128723145,2.3043735027313232,2.30446195602417,2.3045146465301514,2.30462908744812,2.3046627044677734,2.304706573486328,2.3047449588775635,2.3047995567321777,2.3047804832458496,2.3048665523529053,2.3048880100250244,2.3049309253692627,2.3049542903900146,2.3049967288970947,2.3050365447998047,2.305044651031494,2.3050904273986816,2.305119752883911,2.3052446842193604,2.3053979873657227,2.3055453300476074,2.305727958679199,2.3059136867523193,2.306081533432007,2.3062875270843506,2.3064041137695312,2.3063900470733643,2.3062970638275146,2.3062305450439453,2.306151866912842,2.3060965538024902,2.3059990406036377,2.305870532989502,2.3058600425720215,2.305798292160034,2.305708169937134,2.305694818496704,2.3055620193481445,2.305403709411621,2.30521821975708,2.305114984512329,2.3050739765167236,2.3050222396850586,2.304886817932129,2.304767608642578,2.3047776222229004,2.304858446121216,2.3049657344818115,2.3052103519439697,2.3053476810455322,2.305508613586426,2.305616855621338,2.305609703063965,2.3055174350738525,2.305283546447754,2.3051185607910156,2.3049893379211426,2.304863691329956,2.304821491241455,2.3046586513519287,2.3045122623443604,2.3044309616088867,2.3043694496154785,2.304385185241699,2.3044209480285645,2.3043951988220215,2.3043975830078125,2.304469585418701,2.304485321044922,2.304518699645996,2.3045713901519775,2.3046000003814697,2.304588794708252,2.3046350479125977,2.304720640182495,2.304795980453491,2.304802894592285,2.304805040359497,2.3047869205474854,2.3047776222229004,2.3047828674316406,2.3047995567321777,2.3047943115234375,2.304800271987915,2.3047914505004883,2.3047893047332764,2.304745674133301,2.3046867847442627,2.304546594619751,2.3044979572296143,2.304551839828491,2.3048095703125,2.3050425052642822,2.305283784866333,2.305551290512085,2.3057351112365723,2.305856466293335,2.3060190677642822,2.3061039447784424,2.306182622909546,2.3063113689422607,2.3064374923706055,2.306563138961792,2.306694507598877,2.3067150115966797,2.3067355155944824,2.3068196773529053,2.306917428970337,2.3070755004882812,2.3072235584259033,2.307337522506714,2.3074052333831787,2.3074417114257812,2.307469606399536,2.307502269744873,2.3074958324432373,2.3074328899383545,2.3073081970214844,2.3071117401123047,2.3068888187408447,2.3066916465759277,2.3064706325531006,2.3062548637390137,2.3060595989227295,2.3058595657348633,2.3056793212890625,2.3054494857788086,2.3053102493286133,2.305217981338501,2.3050448894500732,2.3049116134643555,2.304816246032715,2.304682493209839,2.304544448852539,2.3042545318603516,2.3039400577545166,2.303615093231201,2.3032007217407227,2.302826404571533,2.3025050163269043,2.302274227142334,2.3020782470703125,2.301914691925049,2.301847219467163,2.3017067909240723,2.301607131958008,2.301612138748169,2.3016929626464844,2.3018085956573486,2.3018391132354736,2.301909923553467,2.301978349685669,2.301988363265991,2.3020055294036865,2.302053213119507,2.302140235900879,2.3022994995117188,2.302522897720337,2.302783727645874,2.3029696941375732,2.3030524253845215,2.303044080734253,2.3029327392578125,2.302807569503784,2.3027188777923584,2.302701234817505,2.3026623725891113,2.3027095794677734,2.3027713298797607,2.302853584289551,2.3028881549835205,2.302926778793335,2.3030426502227783,2.3032546043395996,2.303529977798462,2.3037705421447754,2.303940773010254,2.304124116897583,2.3043265342712402,2.3044521808624268,2.304619073867798,2.3047935962677,2.304924488067627,2.3050479888916016,2.305168867111206,2.3053479194641113,2.30550479888916,2.3057258129119873,2.3059515953063965,2.306238889694214,2.3064420223236084,2.3064987659454346,2.306561231613159,2.306551456451416,2.306467056274414,2.306433916091919,2.306363344192505,2.3063220977783203,2.3063101768493652,2.3063488006591797,2.306415557861328,2.306467294692993,2.3065080642700195,2.3066024780273438,2.3065972328186035,2.3064792156219482,2.3063414096832275,2.306182622909546,2.3060600757598877,2.305925130844116,2.30583119392395,2.3057615756988525,2.305649995803833,2.305659294128418,2.3056366443634033,2.3055474758148193,2.305480718612671,2.305400848388672,2.305419445037842,2.3053324222564697,2.305306911468506,2.3052291870117188,2.3051865100860596,2.3051705360412598,2.3051881790161133,2.3051886558532715,2.305173873901367,2.305117607116699,2.305095672607422,2.305152654647827,2.3052823543548584,2.305351734161377,2.3053300380706787,2.3052585124969482,2.3051247596740723,2.30497407913208,2.3048624992370605,2.304828405380249,2.304673671722412,2.304611921310425,2.30454421043396,2.3044533729553223,2.304471492767334,2.304410219192505,2.304324150085449,2.304332971572876,2.304279088973999,2.3042263984680176,2.304154634475708,2.304121255874634,2.30403995513916,2.3039028644561768,2.303776264190674,2.3036859035491943,2.3035995960235596,2.3035964965820312,2.303727865219116,2.3038489818573,2.3039627075195312,2.3040318489074707,2.3042075634002686,2.304318428039551,2.304401159286499,2.304537534713745,2.3046677112579346,2.3047916889190674,2.304903745651245,2.3049676418304443,2.3050615787506104,2.3051717281341553,2.305302381515503,2.3053624629974365,2.305413246154785,2.3054018020629883,2.3053371906280518,2.305279493331909,2.305311679840088,2.3053410053253174,2.3053689002990723,2.305394411087036,2.305438280105591,2.305449962615967,2.3054897785186768,2.3055837154388428,2.3057148456573486,2.305809736251831,2.3058369159698486,2.305842161178589,2.305819511413574,2.3058135509490967,2.3057949542999268,2.30580997467041,2.3058810234069824,2.305981159210205,2.306100368499756,2.306274652481079,2.306410789489746,2.3064374923706055,2.306438446044922,2.3065297603607178,2.3065688610076904,2.3064796924591064,2.306384563446045,2.3063409328460693,2.3062732219696045,2.306220293045044,2.306145191192627,2.306110143661499,2.3059937953948975,2.3058581352233887,2.30574107170105,2.3056435585021973,2.305612564086914,2.3055543899536133,2.3056259155273438,2.305691719055176,2.3058624267578125,2.3059730529785156,2.306095838546753,2.3062100410461426,2.306431531906128,2.3065590858459473,2.3066134452819824,2.3066258430480957,2.306666612625122,2.3067386150360107,2.3067827224731445,2.3067660331726074,2.3068058490753174,2.306882858276367,2.307023525238037,2.307126522064209,2.3072779178619385,2.3074615001678467,2.3075289726257324,2.3075053691864014,2.307476758956909,2.307420492172241,2.3073227405548096,2.307229518890381,2.3070874214172363,2.3069381713867188,2.306783676147461,2.3066883087158203,2.30659818649292,2.3064725399017334,2.3063724040985107,2.3062853813171387,2.3061389923095703,2.3060355186462402,2.3059771060943604,2.305920362472534,2.3058712482452393,2.3058552742004395,2.3058414459228516,2.3057777881622314,2.3056750297546387,2.3055801391601562,2.305511951446533,2.305420160293579,2.305307149887085,2.305239200592041,2.3052501678466797,2.3053550720214844,2.305460214614868,2.305544137954712,2.3056082725524902,2.3057758808135986,2.3058667182922363,2.3059957027435303,2.306028127670288,2.306191921234131,2.3063418865203857,2.3065526485443115,2.3067450523376465,2.30692195892334,2.3071489334106445,2.3074021339416504,2.3076226711273193,2.3078322410583496,2.3079769611358643,2.30806565284729,2.3081777095794678,2.3081767559051514,2.3081884384155273,2.3081560134887695,2.3081085681915283,2.307999610900879,2.307941436767578,2.3079404830932617,2.307924270629883,2.3079147338867188,2.3078784942626953,2.307888984680176,2.3078598976135254,2.3078668117523193,2.3078904151916504,2.307857036590576,2.307884454727173,2.307826280593872,2.3078150749206543,2.307823896408081,2.3078036308288574,2.3077797889709473,2.3078014850616455,2.3078420162200928,2.307905673980713,2.3079888820648193,2.3080852031707764,2.3081350326538086,2.308203935623169,2.308244228363037,2.3083131313323975,2.308373212814331,2.3083667755126953,2.308330774307251,2.30827260017395,2.3082191944122314,2.308055877685547,2.307929515838623,2.3077945709228516,2.3076863288879395,2.307630777359009,2.3075544834136963,2.307387113571167,2.3072509765625,2.307129383087158,2.306952714920044,2.306899070739746,2.3068888187408447,2.306896686553955,2.3069517612457275,2.306917667388916,2.306894063949585,2.3068864345550537,2.3068149089813232,2.306760311126709,2.306718111038208,2.3067283630371094,2.3067798614501953,2.306828260421753,2.306833028793335,2.3068809509277344,2.306891679763794,2.30696439743042,2.307018280029297,2.307056427001953,2.3071413040161133,2.3072290420532227,2.307319164276123,2.307412624359131,2.3074591159820557,2.307441234588623,2.30745530128479,2.3075244426727295,2.3074986934661865,2.3074328899383545,2.3072614669799805,2.307112216949463,2.3070032596588135,2.3069424629211426,2.306914806365967,2.3069958686828613,2.3070571422576904,2.3071236610412598,2.307215929031372,2.3072690963745117,2.307295799255371,2.307293176651001,2.3072562217712402,2.3071975708007812,2.307157516479492,2.3071014881134033,2.306992530822754,2.306823968887329,2.306626081466675,2.306356191635132,2.306068181991577,2.305708169937134,2.3053836822509766,2.3052005767822266,2.3049840927124023,2.304821729660034,2.304617166519165,2.3044722080230713,2.3043344020843506,2.3041365146636963,2.303931713104248,2.3037269115448,2.303569793701172,2.303572416305542,2.3036038875579834,2.3036985397338867,2.3037869930267334,2.303901433944702,2.304053783416748,2.3041956424713135,2.304292678833008,2.304419994354248,2.3045859336853027,2.3047428131103516,2.3049633502960205,2.3052823543548584,2.3056163787841797,2.305941581726074,2.3062798976898193,2.3065388202667236,2.306842088699341,2.3070669174194336,2.3072903156280518,2.3075740337371826,2.3077144622802734,2.3079323768615723,2.308098793029785,2.308192729949951,2.308271884918213,2.308358669281006,2.3083910942077637,2.3083527088165283,2.308356285095215,2.308361768722534,2.3082964420318604,2.3081912994384766,2.308109998703003,2.30800199508667,2.3079206943511963,2.307887315750122,2.3078324794769287,2.3077969551086426,2.307710647583008,2.307561159133911,2.3074352741241455,2.3073246479034424,2.3072967529296875,2.307368516921997,2.307431697845459,2.3074939250946045,2.3076303005218506]},\"selected\":{\"id\":\"ed24bcdf-8f7c-4529-9eb2-e08bf5e887ec\",\"type\":\"Selection\"},\"selection_policy\":{\"id\":\"1a96d28d-bea2-4507-87a3-f93b1b489ae3\",\"type\":\"UnionRenderers\"}},\"id\":\"fcedf6ad-5a55-44f0-aed3-681b973ea421\",\"type\":\"ColumnDataSource\"},{\"attributes\":{},\"id\":\"6f2d9cf1-e482-47dc-b5b7-d5d025bcefff\",\"type\":\"SaveTool\"},{\"attributes\":{\"formatter\":{\"id\":\"71d714ac-2c20-4d48-917f-ae8dabb907bc\",\"type\":\"BasicTickFormatter\"},\"plot\":{\"id\":\"e15bb5e7-907b-4b55-8199-14a8080e36f8\",\"subtype\":\"Figure\",\"type\":\"Plot\"},\"ticker\":{\"id\":\"6820aa53-7e0c-4e66-984d-71d079e08c25\",\"type\":\"BasicTicker\"}},\"id\":\"a23824e8-901b-4eb7-9022-00dc787dd709\",\"type\":\"LinearAxis\"},{\"attributes\":{},\"id\":\"57657264-d690-47be-9bbc-c962754d66b4\",\"type\":\"LinearScale\"},{\"attributes\":{\"active_drag\":\"auto\",\"active_inspect\":\"auto\",\"active_multi\":null,\"active_scroll\":\"auto\",\"active_tap\":\"auto\",\"tools\":[{\"id\":\"8e569d64-1ff6-4d00-8ba7-b9f0734cba1c\",\"type\":\"PanTool\"},{\"id\":\"a5774cdd-328d-48c8-9696-44c3192d4b0d\",\"type\":\"WheelZoomTool\"},{\"id\":\"f4a58456-a4d9-4570-8fcc-a40171183877\",\"type\":\"BoxZoomTool\"},{\"id\":\"6f2d9cf1-e482-47dc-b5b7-d5d025bcefff\",\"type\":\"SaveTool\"},{\"id\":\"3423a001-b569-40da-9038-e1019c726f26\",\"type\":\"ResetTool\"},{\"id\":\"7019a356-cd09-4ca7-bb83-9657a2440814\",\"type\":\"HelpTool\"}]},\"id\":\"c5257fc8-7de4-4157-80c8-fe4a27de7b86\",\"type\":\"Toolbar\"},{\"attributes\":{\"overlay\":{\"id\":\"07ed94bb-05dc-40ad-9f3a-cd049caf1dbe\",\"type\":\"BoxAnnotation\"}},\"id\":\"f4a58456-a4d9-4570-8fcc-a40171183877\",\"type\":\"BoxZoomTool\"},{\"attributes\":{},\"id\":\"7019a356-cd09-4ca7-bb83-9657a2440814\",\"type\":\"HelpTool\"},{\"attributes\":{\"line_alpha\":0.6,\"line_color\":\"green\",\"line_width\":2,\"x\":{\"field\":\"x\"},\"y\":{\"field\":\"y\"}},\"id\":\"5bf995d3-2135-4b77-9250-62150b4ac6c9\",\"type\":\"Line\"},{\"attributes\":{\"source\":{\"id\":\"8bba9eb9-2eac-416d-9421-3218e934b118\",\"type\":\"ColumnDataSource\"}},\"id\":\"8177f628-495d-49a7-b390-826ce80e1216\",\"type\":\"CDSView\"},{\"attributes\":{\"source\":{\"id\":\"fcedf6ad-5a55-44f0-aed3-681b973ea421\",\"type\":\"ColumnDataSource\"}},\"id\":\"92a27352-e44b-4ab4-b347-d214b7bf8fd4\",\"type\":\"CDSView\"},{\"attributes\":{},\"id\":\"3423a001-b569-40da-9038-e1019c726f26\",\"type\":\"ResetTool\"},{\"attributes\":{\"data_source\":{\"id\":\"fcedf6ad-5a55-44f0-aed3-681b973ea421\",\"type\":\"ColumnDataSource\"},\"glyph\":{\"id\":\"5bf995d3-2135-4b77-9250-62150b4ac6c9\",\"type\":\"Line\"},\"hover_glyph\":null,\"muted_glyph\":null,\"nonselection_glyph\":{\"id\":\"93f795a3-1e97-48ca-ab2b-d6bbf8cbcb72\",\"type\":\"Line\"},\"selection_glyph\":null,\"view\":{\"id\":\"92a27352-e44b-4ab4-b347-d214b7bf8fd4\",\"type\":\"CDSView\"}},\"id\":\"176b92ae-ae71-4ed0-aa97-9963913682b5\",\"type\":\"GlyphRenderer\"},{\"attributes\":{\"line_alpha\":0.1,\"line_color\":\"#1f77b4\",\"line_width\":2,\"x\":{\"field\":\"x\"},\"y\":{\"field\":\"y\"}},\"id\":\"fafefc39-63a9-4663-81ca-1f35d5e4bbcb\",\"type\":\"Line\"},{\"attributes\":{},\"id\":\"1a96d28d-bea2-4507-87a3-f93b1b489ae3\",\"type\":\"UnionRenderers\"},{\"attributes\":{\"line_alpha\":0.6,\"line_color\":\"#1f77b4\",\"line_width\":2,\"x\":{\"field\":\"x\"},\"y\":{\"field\":\"y\"}},\"id\":\"4865a5af-a239-402f-8ddb-48a8b11f7d05\",\"type\":\"Line\"},{\"attributes\":{},\"id\":\"71d714ac-2c20-4d48-917f-ae8dabb907bc\",\"type\":\"BasicTickFormatter\"},{\"attributes\":{},\"id\":\"ed24bcdf-8f7c-4529-9eb2-e08bf5e887ec\",\"type\":\"Selection\"},{\"attributes\":{\"data_source\":{\"id\":\"8bba9eb9-2eac-416d-9421-3218e934b118\",\"type\":\"ColumnDataSource\"},\"glyph\":{\"id\":\"4865a5af-a239-402f-8ddb-48a8b11f7d05\",\"type\":\"Line\"},\"hover_glyph\":null,\"muted_glyph\":null,\"nonselection_glyph\":{\"id\":\"fafefc39-63a9-4663-81ca-1f35d5e4bbcb\",\"type\":\"Line\"},\"selection_glyph\":null,\"view\":{\"id\":\"8177f628-495d-49a7-b390-826ce80e1216\",\"type\":\"CDSView\"}},\"id\":\"e894aec1-9bed-4452-811c-87f863b72b76\",\"type\":\"GlyphRenderer\"},{\"attributes\":{},\"id\":\"b5a4384f-fc37-442b-aefa-828116ae4407\",\"type\":\"Selection\"},{\"attributes\":{},\"id\":\"a5774cdd-328d-48c8-9696-44c3192d4b0d\",\"type\":\"WheelZoomTool\"},{\"attributes\":{\"plot\":{\"id\":\"e15bb5e7-907b-4b55-8199-14a8080e36f8\",\"subtype\":\"Figure\",\"type\":\"Plot\"},\"ticker\":{\"id\":\"6820aa53-7e0c-4e66-984d-71d079e08c25\",\"type\":\"BasicTicker\"}},\"id\":\"71b2b070-c694-47b1-a1f1-342ad7d93b81\",\"type\":\"Grid\"},{\"attributes\":{},\"id\":\"a4064266-4587-43bc-991a-796b081cd89c\",\"type\":\"BasicTickFormatter\"},{\"attributes\":{\"callback\":null,\"data\":{\"x\":{\"__ndarray__\":\"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\",\"dtype\":\"float64\",\"shape\":[500]},\"y\":[2.3050246238708496,2.3273556232452393,2.3371050357818604,2.3225181102752686,2.3045287132263184,2.332353353500366,2.31729793548584,2.3214168548583984,2.325774669647217,2.315563201904297,2.3142452239990234,2.2949414253234863,2.3071532249450684,2.285815477371216,2.325556993484497,2.3076136112213135,2.3057546615600586,2.305931806564331,2.310185670852661,2.3110461235046387,2.307593584060669,2.2981011867523193,2.3007287979125977,2.315377712249756,2.298793077468872,2.3025155067443848,2.3059728145599365,2.3049769401550293,2.3070590496063232,2.299133777618408,2.323178768157959,2.300229787826538,2.3031837940216064,2.3027751445770264,2.3132758140563965,2.307724714279175,2.3068459033966064,2.3016717433929443,2.2995355129241943,2.300726890563965,2.2971372604370117,2.3133599758148193,2.297929525375366,2.304464340209961,2.2991561889648438,2.303032398223877,2.302084445953369,2.313053607940674,2.3000264167785645,2.3163952827453613,2.2959043979644775,2.3020145893096924,2.3015871047973633,2.307593822479248,2.3093507289886475,2.298123836517334,2.306445837020874,2.3031890392303467,2.304276466369629,2.2999179363250732,2.311389684677124,2.2984626293182373,2.305199384689331,2.2967002391815186,2.297567129135132,2.2979543209075928,2.3041882514953613,2.3109381198883057,2.3150429725646973,2.3022079467773438,2.297595262527466,2.3086557388305664,2.3081796169281006,2.3066036701202393,2.3076510429382324,2.308319091796875,2.3035359382629395,2.2981231212615967,2.3056111335754395,2.296173334121704,2.3045754432678223,2.3050055503845215,2.3066983222961426,2.3064796924591064,2.3016767501831055,2.3011794090270996,2.3051886558532715,2.3106584548950195,2.30747652053833,2.304790735244751,2.3000752925872803,2.2952120304107666,2.314981460571289,2.311994791030884,2.3055336475372314,2.3122901916503906,2.3023908138275146,2.301989793777466,2.3052432537078857,2.303968667984009,2.302597999572754,2.3019967079162598,2.2981834411621094,2.3037028312683105,2.2983386516571045,2.3015568256378174,2.303321599960327,2.2946126461029053,2.305173635482788,2.304290294647217,2.3094985485076904,2.302753448486328,2.3084957599639893,2.2960317134857178,2.3077914714813232,2.3037421703338623,2.3155677318573,2.302334785461426,2.298835515975952,2.298433780670166,2.2941367626190186,2.307011604309082,2.3011679649353027,2.3025858402252197,2.2992002964019775,2.3019115924835205,2.308245897293091,2.3026747703552246,2.3036417961120605,2.302119731903076,2.302849531173706,2.3108367919921875,2.3035242557525635,2.300816774368286,2.3059396743774414,2.3074734210968018,2.313857316970825,2.3100547790527344,2.3096230030059814,2.3115711212158203,2.3028440475463867,2.3088796138763428,2.310051441192627,2.3131368160247803,2.301373243331909,2.304460287094116,2.3078980445861816,2.2990224361419678,2.3069276809692383,2.3001694679260254,2.303382158279419,2.299574375152588,2.3022351264953613,2.3115017414093018,2.3070290088653564,2.2981526851654053,2.303835153579712,2.30047869682312,2.299142837524414,2.3048369884490967,2.2993271350860596,2.305849552154541,2.303184986114502,2.299314022064209,2.3087236881256104,2.310976982116699,2.3053271770477295,2.3023765087127686,2.2978603839874268,2.30899715423584,2.3105318546295166,2.303887367248535,2.3100528717041016,2.3087332248687744,2.3050479888916016,2.3034090995788574,2.304502487182617,2.299628973007202,2.3031768798828125,2.298487424850464,2.3058838844299316,2.30728816986084,2.3051187992095947,2.3061304092407227,2.30465030670166,2.3064942359924316,2.304702043533325,2.3078160285949707,2.3021767139434814,2.3074193000793457,2.29791259765625,2.2990570068359375,2.3041083812713623,2.3026504516601562,2.3036890029907227,2.3016135692596436,2.3067147731781006,2.3050377368927,2.302137613296509,2.3026270866394043,2.3062124252319336,2.3116536140441895,2.301921844482422,2.294877767562866,2.302293062210083,2.307694435119629,2.303347110748291,2.302903890609741,2.30472993850708,2.2976975440979004,2.3059804439544678,2.298572063446045,2.309101104736328,2.3043899536132812,2.307345151901245,2.3104305267333984,2.306016683578491,2.3014750480651855,2.304328203201294,2.303682327270508,2.2976973056793213,2.302144765853882,2.307960271835327,2.299442768096924,2.3027610778808594,2.309033155441284,2.293782949447632,2.2988648414611816,2.3012709617614746,2.301192283630371,2.3001463413238525,2.3067784309387207,2.3045341968536377,2.309868574142456,2.2993483543395996,2.3012640476226807,2.2974624633789062,2.305837631225586,2.3087546825408936,2.311863660812378,2.303332805633545,2.301032304763794,2.307828187942505,2.2947967052459717,2.3041954040527344,2.306215286254883,2.3065237998962402,2.3081023693084717,2.3116207122802734,2.309992551803589,2.304598569869995,2.3003485202789307,2.2967827320098877,2.3033413887023926,2.299921751022339,2.297440528869629,2.305901050567627,2.3042914867401123,2.2969696521759033,2.299107313156128,2.2975854873657227,2.301495313644409,2.3025403022766113,2.306420087814331,2.2970917224884033,2.300581932067871,2.3061110973358154,2.3086345195770264,2.303093910217285,2.3125691413879395,2.306057929992676,2.302910804748535,2.2952284812927246,2.2870328426361084,2.3071248531341553,2.3123416900634766,2.3071670532226562,2.3141586780548096,2.297820806503296,2.298799991607666,2.297436475753784,2.304495096206665,2.3064537048339844,2.303035020828247,2.303532123565674,2.300159454345703,2.3044519424438477,2.30674409866333,2.3044235706329346,2.308943748474121,2.303257465362549,2.310649871826172,2.3081696033477783,2.2975082397460938,2.312647819519043,2.301100492477417,2.3025577068328857,2.304100275039673,2.3070456981658936,2.301793336868286,2.3092949390411377,2.302537679672241,2.3068323135375977,2.299668312072754,2.3044774532318115,2.3045730590820312,2.2971465587615967,2.297668218612671,2.304645299911499,2.305295467376709,2.3035943508148193,2.304321050643921,2.3002614974975586,2.3056938648223877,2.305997610092163,2.3076059818267822,2.3059604167938232,2.303044080734253,2.3021485805511475,2.2993414402008057,2.297034978866577,2.305086851119995,2.3041868209838867,2.303664445877075,2.3038389682769775,2.30019211769104,2.3071706295013428,2.295600652694702,2.2981812953948975,2.3031835556030273,2.3013432025909424,2.3127636909484863,2.3028154373168945,2.3039159774780273,2.304384231567383,2.309978485107422,2.299349308013916,2.2968928813934326,2.3063056468963623,2.304447889328003,2.2968201637268066,2.305652141571045,2.304563045501709,2.303321123123169,2.3059213161468506,2.3082690238952637,2.304293632507324,2.3093698024749756,2.3012044429779053,2.3113789558410645,2.2975120544433594,2.3048415184020996,2.3014109134674072,2.2991764545440674,2.308694839477539,2.3024022579193115,2.3061294555664062,2.305661201477051,2.3036675453186035,2.3053183555603027,2.3000786304473877,2.2998945713043213,2.3030827045440674,2.3014676570892334,2.3044705390930176,2.305974245071411,2.305927276611328,2.2960824966430664,2.301034927368164,2.304992914199829,2.301074743270874,2.302180528640747,2.298757314682007,2.2997376918792725,2.30780029296875,2.306304931640625,2.308384656906128,2.3060126304626465,2.299182653427124,2.3047616481781006,2.31331205368042,2.3038506507873535,2.299453020095825,2.3026959896087646,2.300252914428711,2.29967999458313,2.3095600605010986,2.3036837577819824,2.2995476722717285,2.3039164543151855,2.305438756942749,2.3097891807556152,2.306427001953125,2.3007986545562744,2.299041748046875,2.3089332580566406,2.2987701892852783,2.2932114601135254,2.3066210746765137,2.3067493438720703,2.2961182594299316,2.3085289001464844,2.306504249572754,2.3070485591888428,2.3027801513671875,2.300790309906006,2.3053853511810303,2.30543851852417,2.3062586784362793,2.3065717220306396,2.3084452152252197,2.307875394821167,2.3092846870422363,2.2993478775024414,2.30949330329895,2.3036794662475586,2.3108925819396973,2.3077194690704346,2.3037796020507812,2.3072962760925293,2.2989249229431152,2.3087246417999268,2.304039716720581,2.3009121417999268,2.3065109252929688,2.3087475299835205,2.302549362182617,2.3031413555145264,2.3075430393218994,2.308015823364258,2.2991626262664795,2.309063196182251,2.3018798828125,2.301513195037842,2.300135850906372,2.2979063987731934,2.3065176010131836,2.3121960163116455,2.3067309856414795,2.2992584705352783,2.30212664604187,2.304509401321411,2.2986950874328613,2.30437970161438,2.303351879119873,2.306253433227539,2.305410385131836,2.2996578216552734,2.2979071140289307,2.2960422039031982,2.3058152198791504,2.3015050888061523,2.3048412799835205,2.2950663566589355,2.3028817176818848,2.30623722076416,2.3047454357147217,2.302353858947754,2.304781198501587,2.306549549102783,2.3073031902313232,2.305778980255127,2.297182321548462,2.3066246509552,2.298227310180664,2.304788827896118,2.3038926124572754,2.3050925731658936,2.3010289669036865,2.3076987266540527,2.3009846210479736,2.299743890762329,2.302527666091919,2.3053109645843506,2.3054206371307373,2.305131196975708,2.3000667095184326,2.304786205291748,2.3019254207611084,2.3049769401550293,2.298987627029419,2.3066132068634033,2.2992913722991943,2.3019165992736816,2.3051557540893555,2.3041739463806152,2.301628828048706,2.3044066429138184,2.3072681427001953,2.3032443523406982,2.3060977458953857,2.3081541061401367,2.306108236312866,2.309385299682617,2.2967965602874756,2.302865505218506,2.302025318145752,2.306312084197998,2.3047943115234375,2.310482978820801,2.30556058883667,2.303180456161499,2.303154468536377,2.298891067504883,2.2998294830322266,2.307271957397461,2.301614284515381,2.301844358444214,2.3072118759155273,2.30194091796875,2.298518180847168,2.310413360595703,2.307018280029297,2.3046457767486572,2.300314426422119,2.3043158054351807,2.309804677963257,2.299607992172241,2.300802230834961,2.3054358959198,2.3067519664764404,2.3090717792510986,2.3122689723968506,2.299572467803955,2.301884412765503,2.303144693374634,2.306199550628662,2.304442882537842,2.302598714828491,2.304137945175171,2.3049957752227783,2.303410291671753,2.3032987117767334,2.304016351699829,2.30311918258667,2.2964699268341064,2.300205945968628,2.303328514099121,2.3073856830596924,2.3023364543914795,2.3081305027008057,2.3080010414123535,2.3041820526123047,2.3000664710998535,2.3011059761047363,2.301788568496704,2.2946901321411133,2.3042619228363037,2.3025856018066406,2.297713041305542,2.2989633083343506,2.3018810749053955,2.300191640853882,2.3075244426727295,2.3084349632263184,2.3017358779907227,2.302297353744507,2.3039557933807373,2.2999165058135986,2.3017618656158447,2.3033978939056396,2.3031399250030518,2.300112247467041,2.306494951248169,2.304788827896118,2.306156873703003,2.3123955726623535,2.302417278289795,2.304267644882202,2.306805372238159,2.2975847721099854,2.3016250133514404,2.3002030849456787,2.305690050125122,2.3033547401428223,2.3061392307281494,2.3007612228393555,2.3074917793273926,2.3056981563568115,2.3048152923583984,2.308688163757324,2.3024260997772217,2.306861400604248,2.2995924949645996,2.302077531814575,2.3013579845428467,2.302231788635254,2.300499200820923,2.301727056503296,2.303969144821167,2.3013784885406494,2.3024203777313232,2.3036558628082275,2.304053783416748,2.304128885269165,2.3068747520446777,2.3042991161346436,2.3052427768707275,2.298593759536743,2.302170753479004,2.302245616912842,2.301990270614624,2.3037667274475098,2.30814528465271,2.3043179512023926,2.296283483505249,2.3019402027130127,2.307500123977661,2.3050127029418945,2.3053643703460693,2.3027184009552,2.3013906478881836,2.299471616744995,2.299436569213867,2.3040974140167236,2.306455373764038,2.3036386966705322,2.300898313522339,2.3075480461120605,2.29933762550354,2.3077077865600586,2.3062403202056885,2.2972471714019775,2.3015830516815186,2.3041279315948486,2.297581434249878,2.304065704345703,2.3054542541503906,2.3051040172576904,2.3041791915893555,2.3069703578948975,2.300463914871216,2.2987210750579834,2.3049204349517822,2.3058688640594482,2.3019862174987793,2.3049557209014893,2.304802179336548,2.308367967605591,2.3131864070892334,2.3029346466064453,2.306074857711792,2.3057069778442383,2.3001441955566406,2.3073482513427734,2.304945468902588,2.3075313568115234,2.3076982498168945,2.3027567863464355,2.3054897785186768,2.3070168495178223,2.29817271232605,2.303459644317627,2.3022730350494385,2.300252676010132,2.3056740760803223,2.307901620864868,2.302384853363037,2.2974441051483154,2.3016130924224854,2.3021278381347656,2.3066256046295166,2.300238847732544,2.3057165145874023,2.304323196411133,2.299158811569214,2.3041136264801025,2.309251546859741,2.3025426864624023,2.3056299686431885,2.302846908569336,2.305609703063965,2.2976560592651367,2.306039810180664,2.303007125854492,2.29858136177063,2.3045856952667236,2.2987701892852783,2.3025705814361572,2.303457260131836,2.3072731494903564,2.3010120391845703,2.304361343383789,2.3030827045440674,2.302652597427368,2.300710916519165,2.303438425064087,2.309119939804077,2.3074252605438232,2.3035662174224854,2.2991602420806885,2.3044376373291016,2.3014073371887207,2.3045856952667236,2.301938056945801,2.3077986240386963,2.30147385597229,2.296495199203491,2.3028252124786377,2.305168628692627,2.301456928253174,2.303767204284668,2.3073391914367676,2.3021764755249023,2.3011608123779297,2.3049232959747314,2.300762891769409,2.298973321914673,2.300173759460449,2.3045952320098877,2.2972824573516846,2.3020479679107666,2.3007915019989014,2.3052639961242676,2.3057076930999756,2.309302568435669,2.3056397438049316,2.3080670833587646,2.300621271133423,2.300551652908325,2.3028228282928467,2.3054075241088867,2.3017654418945312,2.2989377975463867,2.30001163482666,2.3005595207214355,2.3096909523010254,2.309152841567993,2.308134078979492,2.3039283752441406,2.301767349243164,2.304455041885376,2.3036417961120605,2.303506374359131,2.2982187271118164,2.301708698272705,2.3045480251312256,2.303061008453369,2.302227020263672,2.3012232780456543,2.300973653793335,2.3016209602355957,2.3083393573760986,2.3046071529388428,2.3039684295654297,2.3055052757263184,2.304534912109375,2.3103718757629395,2.303440570831299,2.2979977130889893,2.3024652004241943,2.3066229820251465,2.2993831634521484,2.3050308227539062,2.3070075511932373,2.2997286319732666,2.3067777156829834,2.295466661453247,2.305250883102417,2.300452709197998,2.2996599674224854,2.302396059036255,2.3027915954589844,2.302155017852783,2.3014516830444336,2.3003604412078857,2.300858974456787,2.304504156112671,2.304039239883423,2.306007146835327,2.29937481880188,2.3041038513183594,2.303375005722046,2.304532766342163,2.297692060470581,2.306212902069092,2.3024494647979736,2.30710768699646,2.2947840690612793,2.3047311305999756,2.3008031845092773,2.308678150177002,2.300504684448242,2.3022348880767822,2.3063197135925293,2.3063344955444336,2.301403284072876,2.298525094985962,2.3064024448394775,2.3033909797668457,2.3038814067840576,2.302820920944214,2.304333448410034,2.3056089878082275,2.3005311489105225,2.301765203475952,2.3146722316741943,2.303356647491455,2.307187080383301,2.3055691719055176,2.3051059246063232,2.3008580207824707,2.3022639751434326,2.3053576946258545,2.3039755821228027,2.30159330368042,2.306318759918213,2.30264949798584,2.302917003631592,2.3023250102996826,2.30580735206604,2.3036866188049316,2.3025708198547363,2.3019521236419678,2.2981016635894775,2.3068673610687256,2.301892042160034,2.302621841430664,2.3007442951202393,2.2944395542144775,2.3026883602142334,2.3012444972991943,2.3035027980804443,2.3040237426757812,2.3011887073516846,2.30818510055542,2.3046367168426514,2.3022706508636475,2.298893451690674,2.3033735752105713,2.3015737533569336,2.302995443344116,2.3005902767181396,2.304847478866577,2.3043391704559326,2.302597761154175,2.2918522357940674,2.3112363815307617,2.3083367347717285,2.3001911640167236,2.3016293048858643,2.3055551052093506,2.313835859298706,2.309598445892334,2.3037326335906982,2.3060433864593506,2.304633140563965,2.305438756942749,2.3048295974731445,2.305108070373535,2.3061583042144775,2.2978408336639404,2.3066399097442627,2.3034751415252686,2.3070497512817383,2.2995283603668213,2.299013376235962,2.306417465209961,2.301213264465332,2.302687883377075,2.304701805114746,2.3019258975982666,2.3006842136383057,2.30076265335083,2.3024632930755615,2.300567626953125,2.3040809631347656,2.2980575561523438,2.30361008644104,2.30149245262146,2.3038039207458496,2.3037943840026855,2.299973726272583,2.304009437561035,2.3041515350341797,2.302835702896118,2.299781084060669,2.30582332611084,2.3015520572662354,2.3016903400421143,2.3038599491119385,2.299492597579956,2.3033831119537354,2.2946786880493164,2.307142734527588,2.296287775039673,2.2983808517456055,2.305081367492676,2.3046061992645264,2.310894727706909,2.301488161087036,2.3095881938934326,2.306957483291626,2.3001022338867188,2.304267644882202,2.3023688793182373,2.2989139556884766,2.3111472129821777,2.3029701709747314,2.2995262145996094,2.305070638656616,2.305798053741455,2.3041276931762695,2.307849168777466,2.3051908016204834,2.3026201725006104,2.305978298187256,2.3005316257476807,2.3004801273345947,2.3052148818969727,2.3073174953460693,2.3026199340820312,2.3024072647094727,2.306405782699585,2.3061742782592773,2.2980730533599854,2.3012166023254395,2.3025546073913574,2.303011417388916,2.3032360076904297,2.301518201828003,2.305048704147339,2.3063197135925293,2.30363130569458,2.304257869720459,2.3074727058410645,2.303875684738159,2.3013596534729004,2.3061370849609375,2.3083431720733643,2.3071882724761963,2.296266794204712,2.301708459854126,2.3074090480804443,2.3048696517944336,2.3023293018341064,2.30328369140625,2.2983920574188232,2.3062610626220703,2.301854372024536,2.301619291305542,2.299387216567993,2.3057854175567627,2.303271532058716,2.300567150115967,2.306638479232788,2.29915452003479,2.2994163036346436,2.29931378364563,2.2999672889709473,2.307872772216797,2.3010261058807373,2.303046703338623,2.312581777572632,2.302309513092041,2.3037643432617188,2.305616855621338,2.306267738342285,2.305741548538208,2.2997097969055176,2.3028178215026855,2.3060500621795654,2.3009729385375977,2.299957036972046,2.3033573627471924,2.303277015686035,2.305382490158081,2.306114673614502,2.2983999252319336,2.3025095462799072,2.3053596019744873,2.3036036491394043,2.302427053451538,2.303431987762451,2.2995693683624268,2.3011953830718994,2.303368091583252,2.304392099380493,2.2995240688323975,2.3080341815948486,2.3052845001220703,2.3022091388702393,2.298287868499756,2.299238920211792,2.3001248836517334,2.3026132583618164,2.304999828338623,2.3034818172454834,2.300480365753174,2.3062901496887207,2.3072104454040527,2.307518482208252,2.305954933166504,2.305940628051758,2.303772449493408,2.306211233139038,2.3010213375091553,2.3023908138275146,2.304588794708252,2.3031532764434814]},\"selected\":{\"id\":\"b5a4384f-fc37-442b-aefa-828116ae4407\",\"type\":\"Selection\"},\"selection_policy\":{\"id\":\"d4fe1ab8-b027-4fff-b1ba-8db9679510f4\",\"type\":\"UnionRenderers\"}},\"id\":\"8bba9eb9-2eac-416d-9421-3218e934b118\",\"type\":\"ColumnDataSource\"},{\"attributes\":{},\"id\":\"d4fe1ab8-b027-4fff-b1ba-8db9679510f4\",\"type\":\"UnionRenderers\"},{\"attributes\":{\"line_alpha\":0.1,\"line_color\":\"#1f77b4\",\"line_width\":2,\"x\":{\"field\":\"x\"},\"y\":{\"field\":\"y\"}},\"id\":\"93f795a3-1e97-48ca-ab2b-d6bbf8cbcb72\",\"type\":\"Line\"}],\"root_ids\":[\"e15bb5e7-907b-4b55-8199-14a8080e36f8\"]},\"title\":\"Bokeh Application\",\"version\":\"0.13.0\"}};\n",
              "  var render_items = [{\"docid\":\"7fb09a59-ff0d-4a6f-bf05-ed34427ee73e\",\"roots\":{\"e15bb5e7-907b-4b55-8199-14a8080e36f8\":\"e69ff4cf-9fb3-4376-bec4-c5ed64cb6c9c\"}}];\n",
              "  root.Bokeh.embed.embed_items_notebook(docs_json, render_items);\n",
              "\n",
              "  }\n",
              "  if (root.Bokeh !== undefined) {\n",
              "    embed_document(root);\n",
              "  } else {\n",
              "    var attempts = 0;\n",
              "    var timer = setInterval(function(root) {\n",
              "      if (root.Bokeh !== undefined) {\n",
              "        embed_document(root);\n",
              "        clearInterval(timer);\n",
              "      }\n",
              "      attempts++;\n",
              "      if (attempts > 100) {\n",
              "        console.log(\"Bokeh: ERROR: Unable to run BokehJS code because BokehJS library is missing\")\n",
              "        clearInterval(timer);\n",
              "      }\n",
              "    }, 10, root)\n",
              "  }\n",
              "})(window);"
            ],
            "application/vnd.bokehjs_exec.v0+json": ""
          },
          "metadata": {
            "tags": [],
            "application/vnd.bokehjs_exec.v0+json": {
              "id": "e15bb5e7-907b-4b55-8199-14a8080e36f8"
            }
          }
        }
      ]
    },
    {
      "metadata": {
        "id": "dQJg3FROIq4v",
        "colab_type": "text"
      },
      "cell_type": "markdown",
      "source": [
        "**Задание** Посмотрите на то, как влияет длина последовательности на работу сети. \n",
        "\n",
        "Во-первых, посмотрите, с какой длиной сеть в состоянии учиться. Во-вторых, попробуйте обучить сеть с небольшой длиной последовательности, а потом применять её к более длинным.\n",
        "\n",
        "**Задание** Утверждается, что `relu` подходит для RNN лучше. Попробуйте и её."
      ]
    },
    {
      "metadata": {
        "id": "U8yYsYnlHRiR",
        "colab_type": "code",
        "outputId": "f1a12d91-dcaa-4752-8df8-bf0b56333aad",
        "colab": {
          "base_uri": "https://localhost:8080/",
          "height": 52
        }
      },
      "cell_type": "code",
      "source": [
        "_, val_loss, rnn, loss_function = fit_rnn(5)\n",
        "print(\"Mean validation loss: {:.3f}\".format(np.mean(val_loss)))\n",
        "X_long_seq, y_long_seq = generate_data(seq_len=6)\n",
        "logits = rnn(X_long_seq)\n",
        "print(\"Loss on longer sequence: {:.3f} (︶︹︶)\".format(loss_function(logits, y_long_seq).item()))"
      ],
      "execution_count": 0,
      "outputs": [
        {
          "output_type": "stream",
          "text": [
            "Mean validation loss: 0.322\n",
            "Loss on longer sequence: 9.534 (︶︹︶)\n"
          ],
          "name": "stdout"
        }
      ]
    },
    {
      "metadata": {
        "id": "nSHNuT5b61Ky",
        "colab_type": "text"
      },
      "cell_type": "markdown",
      "source": [
        "## Обучение RNN'ок\n",
        "\n",
        "![bptt](https://image.ibb.co/cEYkw9/rnn_bptt_with_gradients.png =x400)  \n",
        "*From [Recurrent Neural Networks Tutorial, Part 3 – Backpropagation Through Time and Vanishing Gradients](http://www.wildml.com/2015/10/recurrent-neural-networks-tutorial-part-3-backpropagation-through-time-and-vanishing-gradients/)*\n",
        "\n",
        "Если всё пошло по плану, мы должны были посмотреть на то, как RNN'ки забывают. \n",
        "\n",
        "Чтобы понять причину, стоит вспомнить, как именно происходит обучение RNN, например, здесь: [Backpropagation Through Time and Vanishing Gradients](http://www.wildml.com/2015/10/recurrent-neural-networks-tutorial-part-3-backpropagation-through-time-and-vanishing-gradients/) или здесь - [Vanishing Gradients & LSTMs](http://harinisuresh.com/2016/10/09/lstms/).\n",
        "\n",
        "Если кратко, одна из проблем обучения рекуррентных сетей - *взрыв градиентов*. Она проявляется, когда матрица весов такова, что увеличивает норму вектора градиента при обратном проходе. В результате норма градиента экспоненциально растет и он \"взрывается\". \n",
        "\n",
        "Эту проблему можно решить с помощью клипинга градиентов: `nn.utils.clip_grad_norm_(rnn.parameters(), 1.)`."
      ]
    },
    {
      "metadata": {
        "id": "13x5erUgTjDC",
        "colab_type": "text"
      },
      "cell_type": "markdown",
      "source": [
        "## LSTM и GRU\n",
        "\n"
      ]
    },
    {
      "metadata": {
        "id": "PAjZh9YkYAMH",
        "colab_type": "text"
      },
      "cell_type": "markdown",
      "source": [
        "\n",
        "\n",
        "Другая проблема - *затухание градиентов*. Она связана наоборот - с экспоненциальным затуханием градиентов. И вот её решают уже более сложными способами. \n",
        "\n",
        "А именно - используют gate'овые архитектуры.\n",
        "\n",
        "Идея gate'а простая, но важная, используются они далеко не только в рекуррентных сетях.\n",
        "\n",
        "Если посмотреть на то, как работает наша SimpleRNN, можно заметить, что каждый раз память (т.е. $h_t$) перезаписывается. Хочется иметь возможность сделать эту перезапись контролируемой: не отбрасывать какую-то важную инфомацию из вектора.\n",
        "\n",
        "Заведем для этого вектор $g \\in \\{0,1\\}^n$, который будет говорить, какие ячейки $h_{t-1}$ хорошие, а вместо каких стоит подставить новые значения:\n",
        "$$h_t = g \\odot f(x_t, h_{t-1}) + (1 - g) \\odot h_{t-1}.$$\n",
        "\n",
        "Например:\n",
        "$$\n",
        " \\begin{bmatrix}\n",
        "  8 \\\\\n",
        "  11 \\\\\n",
        "  3 \\\\\n",
        "  7\n",
        " \\end{bmatrix} =\n",
        " \\begin{bmatrix}\n",
        "  0 \\\\\n",
        "  1 \\\\\n",
        "  0 \\\\\n",
        "  0\n",
        " \\end{bmatrix}\n",
        " \\odot\n",
        "  \\begin{bmatrix}\n",
        "  7 \\\\\n",
        "  11 \\\\\n",
        "  6 \\\\\n",
        "  5\n",
        " \\end{bmatrix}\n",
        " +\n",
        "  \\begin{bmatrix}\n",
        "  1 \\\\\n",
        "  0 \\\\\n",
        "  1 \\\\\n",
        "  1\n",
        " \\end{bmatrix}\n",
        " \\odot\n",
        "  \\begin{bmatrix}\n",
        "  8 \\\\\n",
        "  5 \\\\\n",
        "  3 \\\\\n",
        "  7\n",
        " \\end{bmatrix}\n",
        "$$\n",
        "\n",
        "Чтобы добиться дифференцируемости, будем использовать сигмоиду: $\\sigma(f(x_t, h_{t-1}))$.\n",
        "\n",
        "В результате сеть будет сама, глядя на входы, решать, какие ячейки своей памяти и насколько стоит перезаписывать.\n",
        "\n",
        "### LSTM\n",
        "\n",
        "Кажется, первой архитектурой, применившей данной механизм, стал LSTM (Long Short-Term Memory).\n",
        "\n",
        "В ней у нас к $h_{t-1}$ добавляется ещё и $c_{t-1}$: $h_{t-1}$ - это всё то же скрытое состояния полученное на предыдущем шаге, а $c_{t-1}$ - это вектор памяти.\n",
        "\n",
        "Схематично - как-то так:\n",
        "![](http://colah.github.io/posts/2015-08-Understanding-LSTMs/img/LSTM3-chain.png =x250)  \n",
        "*From [(Understanding LSTM Networks)](http://colah.github.io/posts/2015-08-Understanding-LSTMs)*\n",
        "\n",
        "\n",
        "Для начала мы можем точно так же, как и раньше посчитать новое скрытое состояние (обозначим его $\\tilde c_{t}$):\n",
        "$$\\tilde c_{t} = tanh(W_h [h_{t-1}; x_t] + b_h)$$\n",
        "\n",
        "В обычных RNN мы бы просто перезаписали этим значением сторое скрытое состояние. А теперь мы хотим понять, насколько нам нужна информация из $c_{t-1}$ и из $\\tilde c_{t}$. \n",
        "\n",
        "Оценим её сигмоидами:\n",
        "$$f = \\sigma(W_f [h_{t-1}; x_t] + b_f),$$\n",
        "$$i = \\sigma(W_i [h_{t-1}; x_t] + b_i).$$\n",
        "\n",
        "Первая - про то, насколько хочется забыть старую информацию. Вторая - насколько интересна новая. Тогда\n",
        "$$c_t = f \\odot c_{t-1} + i \\odot \\tilde c_t.$$\n",
        "\n",
        "Новое скрытое состояние мы также взвесим:\n",
        "$$o = \\sigma(W_o [h_{t-1}; x_t] + b_o),$$\n",
        "$$h_t = o \\odot tanh(c_t).$$\n",
        "\n",
        "Еще одна картинка:\n",
        "![](https://image.ibb.co/e6HQUU/details.png)  \n",
        "*From [Vanishing Gradients & LSTMs](http://harinisuresh.com/2016/10/09/lstms/)*\n",
        "\n",
        "Почему проблема затухающих градиентов решается? Потому что посмотрите на производную $\\frac{\\partial c_t}{\\partial c_{t-1}}$. Она пропорциональна гейту $f$. Если $f=1$ - градиенты текут без изменений. Иначе - ну, сеть сама учится, когда ей хочется что-то забыть.\n",
        "\n",
        "Настоятельно рекомендуется почитать статью: [Understanding LSTM Networks](http://colah.github.io/posts/2015-08-Understanding-LSTMs/) для более подробного ознакомления и прикольных картинок.\n",
        "\n",
        "Зачем я выписал эти формулы? Главное - чтобы показать, насколько больше параметров нужно учить в LSTM по сравнению с обычным RNN. В четыре раза больше!\n",
        "\n",
        "Для тех, кто заснул - [видео, как забывает RNN (нижняя часть)](https://www.youtube.com/watch?v=mLxsbWAYIpw)"
      ]
    },
    {
      "metadata": {
        "id": "_9KWgbwQMatn",
        "colab_type": "text"
      },
      "cell_type": "markdown",
      "source": [
        "## Предобработка данных"
      ]
    },
    {
      "metadata": {
        "id": "q7-fQPwJUKtV",
        "colab_type": "code",
        "colab": {}
      },
      "cell_type": "code",
      "source": [
        "symbols = set(symb for word in data_train for symb in word)\n",
        "char2ind = {symb: ind + 1 for ind, symb in enumerate(symbols)}\n",
        "char2ind[''] = 0\n",
        "\n",
        "lang2ind = {lang: ind for ind, lang in enumerate(set(labels_train))}"
      ],
      "execution_count": 0,
      "outputs": []
    },
    {
      "metadata": {
        "id": "dcFgEy7YeFw0",
        "colab_type": "text"
      },
      "cell_type": "markdown",
      "source": [
        "Сконвертируем датасет.\n",
        "\n",
        "**Задание** Напишите генератор батчей, который будет на лету выбирать случайный набор слов и конвертировать их в матрицы."
      ]
    },
    {
      "metadata": {
        "id": "BWWClVsTRVuA",
        "colab_type": "code",
        "colab": {}
      },
      "cell_type": "code",
      "source": [
        "def iterate_batches(data, labels, char2ind, lang2ind, batch_size):\n",
        "    # let's do the conversion part first\n",
        "    labels = np.array([lang2ind[label] for label in labels])\n",
        "    data = [[char2ind.get(symb, 0) for symb in word] for word in data]\n",
        "    \n",
        "    indices = np.arange(len(data))\n",
        "    np.random.shuffle(indices)\n",
        "    \n",
        "    for start in range(0, len(data), batch_size):\n",
        "        end = min(start + batch_size, len(data))\n",
        "        \n",
        "        batch_indices = indices[start: end]\n",
        "        \n",
        "        max_word_len = max(len(data[ind]) for ind in batch_indices)\n",
        "        X = np.zeros((max_word_len, len(batch_indices)))\n",
        "        for i, batch_idx in enumerate(batch_indices):\n",
        "            X[:len(data[batch_idx]), i] = data[batch_idx]\n",
        "        \n",
        "        yield X, labels[batch_indices]"
      ],
      "execution_count": 0,
      "outputs": []
    },
    {
      "metadata": {
        "id": "CfeR4B_hbH9P",
        "colab_type": "text"
      },
      "cell_type": "markdown",
      "source": [
        "Лень передавать `char2ind, lang2ind`:"
      ]
    },
    {
      "metadata": {
        "id": "uA-_jRNdaCM3",
        "colab_type": "code",
        "colab": {}
      },
      "cell_type": "code",
      "source": [
        "from functools import partial\n",
        "\n",
        "iterate_batches = partial(iterate_batches, char2ind=char2ind, lang2ind=lang2ind)"
      ],
      "execution_count": 0,
      "outputs": []
    },
    {
      "metadata": {
        "id": "HD5i7WmTVlGk",
        "colab_type": "code",
        "outputId": "541da70b-4b6f-4206-cb4d-86f6a0a10a5c",
        "colab": {
          "base_uri": "https://localhost:8080/",
          "height": 211
        }
      },
      "cell_type": "code",
      "source": [
        "next(iterate_batches(data, labels, batch_size=8))"
      ],
      "execution_count": 0,
      "outputs": [
        {
          "output_type": "execute_result",
          "data": {
            "text/plain": [
              "(array([[69., 79., 52., 54., 54., 64.,  5., 20.],\n",
              "        [ 9.,  2., 36., 11., 56., 29., 75., 55.],\n",
              "        [75., 55., 74., 55.,  2.,  2., 36., 11.],\n",
              "        [68., 51.,  2., 80., 56., 36., 75., 29.],\n",
              "        [75., 11., 29., 75., 74., 29.,  0., 36.],\n",
              "        [ 9.,  7., 36.,  9.,  9., 57.,  0., 29.],\n",
              "        [55.,  0., 55., 75., 55.,  9.,  0., 42.],\n",
              "        [ 0.,  0.,  9., 51., 36.,  0.,  0.,  0.],\n",
              "        [ 0.,  0., 29., 56.,  0.,  0.,  0.,  0.],\n",
              "        [ 0.,  0., 42.,  0.,  0.,  0.,  0.,  0.]]),\n",
              " array([1, 4, 8, 1, 8, 4, 0, 8]))"
            ]
          },
          "metadata": {
            "tags": []
          },
          "execution_count": 12
        }
      ]
    },
    {
      "metadata": {
        "id": "dnkAUetgs6Tr",
        "colab_type": "text"
      },
      "cell_type": "markdown",
      "source": [
        "**Задание** Реализуйте простую модель на `SimpleRNN`."
      ]
    },
    {
      "metadata": {
        "id": "Zk3OSidVS_px",
        "colab_type": "code",
        "colab": {}
      },
      "cell_type": "code",
      "source": [
        "class SurnamesClassifier(nn.Module):\n",
        "    def __init__(self, vocab_size, emb_dim, lstm_hidden_dim, classes_count):\n",
        "        super().__init__()\n",
        "        \n",
        "        self._emb = nn.Embedding(vocab_size, emb_dim)\n",
        "        self._rnn = SimpleRNN(emb_dim, lstm_hidden_dim)\n",
        "        self._out = nn.Linear(lstm_hidden_dim, classes_count)\n",
        "        \n",
        "    def forward(self, inputs):\n",
        "        'embed(inputs) -> prediction'\n",
        "        embeds = self.embed(inputs)\n",
        "#         print(embeds.shape)\n",
        "        outputs = self._out(embeds)\n",
        "        return outputs\n",
        "    \n",
        "    def embed(self, inputs):\n",
        "        'inputs -> word embedding'\n",
        "        symbol_embeds = self._emb(inputs)\n",
        "#         print(symbol_embeds.shape)\n",
        "        embeds = self._rnn(symbol_embeds)\n",
        "        return embeds"
      ],
      "execution_count": 0,
      "outputs": []
    },
    {
      "metadata": {
        "id": "1vXN-QIrZs95",
        "colab_type": "code",
        "colab": {}
      },
      "cell_type": "code",
      "source": [
        "import math\n",
        "import time\n",
        "\n",
        "def do_epoch(model, criterion, data, batch_size, optimizer=None):  \n",
        "    epoch_loss = 0.\n",
        "    \n",
        "    is_train = not optimizer is None\n",
        "    model.train(is_train)\n",
        "    \n",
        "    data, labels = data\n",
        "    batchs_count = math.ceil(len(data) / batch_size)\n",
        "    \n",
        "    with torch.autograd.set_grad_enabled(is_train):\n",
        "        for i, (X_batch, y_batch) in enumerate(iterate_batches(data, labels, batch_size=batch_size)):\n",
        "            X_batch, y_batch = LongTensor(X_batch), LongTensor(y_batch)\n",
        "\n",
        "            logits = model(X_batch)\n",
        "            loss = criterion(logits, y_batch)\n",
        "            epoch_loss += loss.item()\n",
        "\n",
        "            if is_train:\n",
        "                optimizer.zero_grad()\n",
        "                loss.backward()\n",
        "                nn.utils.clip_grad_norm_(model.parameters(), 1.)\n",
        "                optimizer.step()\n",
        "\n",
        "            print('\\r[{} / {}]: Loss = {:.4f}'.format(i, batchs_count, loss.item()), end='')\n",
        "                \n",
        "    return epoch_loss / batchs_count\n",
        "\n",
        "def fit(model, criterion, optimizer, train_data, epochs_count=1, \n",
        "        batch_size=32, val_data=None, val_batch_size=None):\n",
        "    if not val_data is None and val_batch_size is None:\n",
        "        val_batch_size = batch_size\n",
        "        \n",
        "    for epoch in range(epochs_count):\n",
        "        start_time = time.time()\n",
        "        train_loss = do_epoch(model, criterion, train_data, batch_size, optimizer)\n",
        "        \n",
        "        output_info = '\\rEpoch {} / {}, Epoch Time = {:.2f}s: Train Loss = {:.4f}'\n",
        "        if not val_data is None and epoch % 1 == 0:\n",
        "            val_loss = do_epoch(model, criterion, val_data, val_batch_size, None)\n",
        "            \n",
        "            epoch_time = time.time() - start_time\n",
        "            output_info += ', Val Loss = {:.4f}'\n",
        "            print(output_info.format(epoch+1, epochs_count, epoch_time, train_loss, val_loss))\n",
        "        else:\n",
        "            epoch_time = time.time() - start_time\n",
        "#             print(output_info.format(epoch+1, epochs_count, epoch_time, train_loss))"
      ],
      "execution_count": 0,
      "outputs": []
    },
    {
      "metadata": {
        "id": "x9vBDF2gbypR",
        "colab_type": "code",
        "outputId": "b5dba502-b4d1-4d8c-9578-6d46d9df676b",
        "colab": {
          "base_uri": "https://localhost:8080/",
          "height": 2458
        }
      },
      "cell_type": "code",
      "source": [
        "model = SurnamesClassifier(vocab_size=len(char2ind), emb_dim=16, lstm_hidden_dim=64, classes_count=len(lang2ind)).cuda()\n",
        "\n",
        "criterion = nn.CrossEntropyLoss().cuda()\n",
        "optimizer = optim.Adam(model.parameters(), lr=0.001)\n",
        "\n",
        "fit(model, criterion, optimizer, epochs_count=60, batch_size=128, train_data=(data_train, labels_train),\n",
        "    val_data=(data_test, labels_test), val_batch_size=512)"
      ],
      "execution_count": 0,
      "outputs": [
        {
          "output_type": "stream",
          "text": [
            "Epoch 1 / 60, Epoch Time = 1.98s: Train Loss = 1.9487, Val Loss = 1.8463\n",
            "Epoch 2 / 60, Epoch Time = 1.89s: Train Loss = 1.8363, Val Loss = 1.8277\n",
            "Epoch 3 / 60, Epoch Time = 1.89s: Train Loss = 1.7113, Val Loss = 1.8736\n",
            "Epoch 4 / 60, Epoch Time = 1.90s: Train Loss = 1.5614, Val Loss = 1.5424\n",
            "Epoch 5 / 60, Epoch Time = 1.94s: Train Loss = 1.5156, Val Loss = 1.4978\n",
            "Epoch 6 / 60, Epoch Time = 1.88s: Train Loss = 1.4989, Val Loss = 1.4748\n",
            "Epoch 7 / 60, Epoch Time = 1.94s: Train Loss = 1.4492, Val Loss = 1.4654\n",
            "Epoch 8 / 60, Epoch Time = 1.88s: Train Loss = 1.4268, Val Loss = 1.4260\n",
            "Epoch 9 / 60, Epoch Time = 1.92s: Train Loss = 1.4059, Val Loss = 1.4148\n",
            "Epoch 10 / 60, Epoch Time = 1.89s: Train Loss = 1.3908, Val Loss = 1.4447\n",
            "Epoch 11 / 60, Epoch Time = 1.87s: Train Loss = 1.3630, Val Loss = 1.3634\n",
            "Epoch 12 / 60, Epoch Time = 1.88s: Train Loss = 1.3369, Val Loss = 1.3356\n",
            "Epoch 13 / 60, Epoch Time = 1.86s: Train Loss = 1.2993, Val Loss = 1.3136\n",
            "Epoch 14 / 60, Epoch Time = 1.95s: Train Loss = 1.2769, Val Loss = 1.3774\n",
            "Epoch 15 / 60, Epoch Time = 1.88s: Train Loss = 1.2551, Val Loss = 1.2861\n",
            "Epoch 16 / 60, Epoch Time = 1.90s: Train Loss = 1.2268, Val Loss = 1.2633\n",
            "Epoch 17 / 60, Epoch Time = 1.87s: Train Loss = 1.2069, Val Loss = 1.2554\n",
            "Epoch 18 / 60, Epoch Time = 1.90s: Train Loss = 1.1801, Val Loss = 1.2337\n",
            "Epoch 19 / 60, Epoch Time = 2.00s: Train Loss = 1.1547, Val Loss = 1.2176\n",
            "Epoch 20 / 60, Epoch Time = 1.91s: Train Loss = 1.1385, Val Loss = 1.1680\n",
            "Epoch 21 / 60, Epoch Time = 1.88s: Train Loss = 1.1135, Val Loss = 1.2282\n",
            "Epoch 22 / 60, Epoch Time = 1.90s: Train Loss = 1.0936, Val Loss = 1.1264\n",
            "Epoch 23 / 60, Epoch Time = 1.89s: Train Loss = 1.0524, Val Loss = 1.1406\n",
            "Epoch 24 / 60, Epoch Time = 1.94s: Train Loss = 1.0307, Val Loss = 1.2002\n",
            "Epoch 25 / 60, Epoch Time = 1.86s: Train Loss = 1.0151, Val Loss = 1.0884\n",
            "Epoch 26 / 60, Epoch Time = 1.87s: Train Loss = 0.9856, Val Loss = 1.0784\n",
            "Epoch 27 / 60, Epoch Time = 1.88s: Train Loss = 0.9662, Val Loss = 1.0512\n",
            "Epoch 28 / 60, Epoch Time = 1.94s: Train Loss = 0.9503, Val Loss = 1.0645\n",
            "Epoch 29 / 60, Epoch Time = 1.88s: Train Loss = 0.9355, Val Loss = 1.0082\n",
            "Epoch 30 / 60, Epoch Time = 1.87s: Train Loss = 0.9223, Val Loss = 0.9815\n",
            "Epoch 31 / 60, Epoch Time = 1.86s: Train Loss = 0.9125, Val Loss = 0.9997\n",
            "Epoch 32 / 60, Epoch Time = 1.88s: Train Loss = 0.8954, Val Loss = 1.0506\n",
            "Epoch 33 / 60, Epoch Time = 1.92s: Train Loss = 0.8917, Val Loss = 1.0392\n",
            "Epoch 34 / 60, Epoch Time = 1.90s: Train Loss = 0.8878, Val Loss = 0.9959\n",
            "Epoch 35 / 60, Epoch Time = 1.88s: Train Loss = 0.8660, Val Loss = 0.9655\n",
            "Epoch 36 / 60, Epoch Time = 1.88s: Train Loss = 0.8626, Val Loss = 1.0014\n",
            "Epoch 37 / 60, Epoch Time = 1.90s: Train Loss = 0.8506, Val Loss = 0.9952\n",
            "Epoch 38 / 60, Epoch Time = 1.93s: Train Loss = 0.8488, Val Loss = 0.9614\n",
            "Epoch 39 / 60, Epoch Time = 1.89s: Train Loss = 0.8404, Val Loss = 0.9558\n",
            "Epoch 40 / 60, Epoch Time = 1.90s: Train Loss = 0.8239, Val Loss = 0.9643\n",
            "Epoch 41 / 60, Epoch Time = 1.87s: Train Loss = 0.8150, Val Loss = 0.9672\n",
            "Epoch 42 / 60, Epoch Time = 1.89s: Train Loss = 0.8055, Val Loss = 0.9374\n",
            "Epoch 43 / 60, Epoch Time = 1.93s: Train Loss = 0.8045, Val Loss = 0.9460\n",
            "Epoch 44 / 60, Epoch Time = 1.88s: Train Loss = 0.7934, Val Loss = 0.9544\n",
            "Epoch 45 / 60, Epoch Time = 1.88s: Train Loss = 0.7905, Val Loss = 0.9617\n",
            "Epoch 46 / 60, Epoch Time = 1.88s: Train Loss = 0.7784, Val Loss = 0.9410\n",
            "Epoch 47 / 60, Epoch Time = 1.98s: Train Loss = 0.7663, Val Loss = 0.8978\n",
            "Epoch 48 / 60, Epoch Time = 1.92s: Train Loss = 0.7543, Val Loss = 0.9973\n",
            "Epoch 49 / 60, Epoch Time = 1.88s: Train Loss = 0.7503, Val Loss = 0.9044\n",
            "Epoch 50 / 60, Epoch Time = 1.89s: Train Loss = 0.7378, Val Loss = 0.9827\n",
            "Epoch 51 / 60, Epoch Time = 1.89s: Train Loss = 0.7416, Val Loss = 1.0141\n",
            "Epoch 52 / 60, Epoch Time = 1.92s: Train Loss = 0.7252, Val Loss = 0.9580\n",
            "Epoch 53 / 60, Epoch Time = 1.86s: Train Loss = 0.7241, Val Loss = 0.9202\n",
            "Epoch 54 / 60, Epoch Time = 1.88s: Train Loss = 0.7248, Val Loss = 0.9139\n",
            "Epoch 55 / 60, Epoch Time = 1.88s: Train Loss = 0.7143, Val Loss = 0.9954\n",
            "Epoch 56 / 60, Epoch Time = 1.88s: Train Loss = 0.7043, Val Loss = 0.8846\n",
            "Epoch 57 / 60, Epoch Time = 1.93s: Train Loss = 0.7107, Val Loss = 0.9496\n",
            "Epoch 58 / 60, Epoch Time = 1.87s: Train Loss = 0.6961, Val Loss = 0.8907\n"
          ],
          "name": "stdout"
        },
        {
          "output_type": "error",
          "ename": "KeyboardInterrupt",
          "evalue": "ignored",
          "traceback": [
            "\u001b[0;31m---------------------------------------------------------------------------\u001b[0m",
            "\u001b[0;31mKeyboardInterrupt\u001b[0m                         Traceback (most recent call last)",
            "\u001b[0;32m<ipython-input-36-5ede24464e7b>\u001b[0m in \u001b[0;36m<module>\u001b[0;34m()\u001b[0m\n\u001b[1;32m      5\u001b[0m \u001b[0;34m\u001b[0m\u001b[0m\n\u001b[1;32m      6\u001b[0m fit(model, criterion, optimizer, epochs_count=60, batch_size=128, train_data=(data_train, labels_train),\n\u001b[0;32m----> 7\u001b[0;31m     val_data=(data_test, labels_test), val_batch_size=512)\n\u001b[0m",
            "\u001b[0;32m<ipython-input-29-88c644e885ec>\u001b[0m in \u001b[0;36mfit\u001b[0;34m(model, criterion, optimizer, train_data, epochs_count, batch_size, val_data, val_batch_size)\u001b[0m\n\u001b[1;32m     36\u001b[0m     \u001b[0;32mfor\u001b[0m \u001b[0mepoch\u001b[0m \u001b[0;32min\u001b[0m \u001b[0mrange\u001b[0m\u001b[0;34m(\u001b[0m\u001b[0mepochs_count\u001b[0m\u001b[0;34m)\u001b[0m\u001b[0;34m:\u001b[0m\u001b[0;34m\u001b[0m\u001b[0m\n\u001b[1;32m     37\u001b[0m         \u001b[0mstart_time\u001b[0m \u001b[0;34m=\u001b[0m \u001b[0mtime\u001b[0m\u001b[0;34m.\u001b[0m\u001b[0mtime\u001b[0m\u001b[0;34m(\u001b[0m\u001b[0;34m)\u001b[0m\u001b[0;34m\u001b[0m\u001b[0m\n\u001b[0;32m---> 38\u001b[0;31m         \u001b[0mtrain_loss\u001b[0m \u001b[0;34m=\u001b[0m \u001b[0mdo_epoch\u001b[0m\u001b[0;34m(\u001b[0m\u001b[0mmodel\u001b[0m\u001b[0;34m,\u001b[0m \u001b[0mcriterion\u001b[0m\u001b[0;34m,\u001b[0m \u001b[0mtrain_data\u001b[0m\u001b[0;34m,\u001b[0m \u001b[0mbatch_size\u001b[0m\u001b[0;34m,\u001b[0m \u001b[0moptimizer\u001b[0m\u001b[0;34m)\u001b[0m\u001b[0;34m\u001b[0m\u001b[0m\n\u001b[0m\u001b[1;32m     39\u001b[0m \u001b[0;34m\u001b[0m\u001b[0m\n\u001b[1;32m     40\u001b[0m         \u001b[0moutput_info\u001b[0m \u001b[0;34m=\u001b[0m \u001b[0;34m'\\rEpoch {} / {}, Epoch Time = {:.2f}s: Train Loss = {:.4f}'\u001b[0m\u001b[0;34m\u001b[0m\u001b[0m\n",
            "\u001b[0;32m<ipython-input-29-88c644e885ec>\u001b[0m in \u001b[0;36mdo_epoch\u001b[0;34m(model, criterion, data, batch_size, optimizer)\u001b[0m\n\u001b[1;32m     15\u001b[0m             \u001b[0mX_batch\u001b[0m\u001b[0;34m,\u001b[0m \u001b[0my_batch\u001b[0m \u001b[0;34m=\u001b[0m \u001b[0mLongTensor\u001b[0m\u001b[0;34m(\u001b[0m\u001b[0mX_batch\u001b[0m\u001b[0;34m)\u001b[0m\u001b[0;34m,\u001b[0m \u001b[0mLongTensor\u001b[0m\u001b[0;34m(\u001b[0m\u001b[0my_batch\u001b[0m\u001b[0;34m)\u001b[0m\u001b[0;34m\u001b[0m\u001b[0m\n\u001b[1;32m     16\u001b[0m \u001b[0;34m\u001b[0m\u001b[0m\n\u001b[0;32m---> 17\u001b[0;31m             \u001b[0mlogits\u001b[0m \u001b[0;34m=\u001b[0m \u001b[0mmodel\u001b[0m\u001b[0;34m(\u001b[0m\u001b[0mX_batch\u001b[0m\u001b[0;34m)\u001b[0m\u001b[0;34m\u001b[0m\u001b[0m\n\u001b[0m\u001b[1;32m     18\u001b[0m             \u001b[0mloss\u001b[0m \u001b[0;34m=\u001b[0m \u001b[0mcriterion\u001b[0m\u001b[0;34m(\u001b[0m\u001b[0mlogits\u001b[0m\u001b[0;34m,\u001b[0m \u001b[0my_batch\u001b[0m\u001b[0;34m)\u001b[0m\u001b[0;34m\u001b[0m\u001b[0m\n\u001b[1;32m     19\u001b[0m             \u001b[0mepoch_loss\u001b[0m \u001b[0;34m+=\u001b[0m \u001b[0mloss\u001b[0m\u001b[0;34m.\u001b[0m\u001b[0mitem\u001b[0m\u001b[0;34m(\u001b[0m\u001b[0;34m)\u001b[0m\u001b[0;34m\u001b[0m\u001b[0m\n",
            "\u001b[0;32m/usr/local/lib/python3.6/dist-packages/torch/nn/modules/module.py\u001b[0m in \u001b[0;36m__call__\u001b[0;34m(self, *input, **kwargs)\u001b[0m\n\u001b[1;32m    475\u001b[0m             \u001b[0mresult\u001b[0m \u001b[0;34m=\u001b[0m \u001b[0mself\u001b[0m\u001b[0;34m.\u001b[0m\u001b[0m_slow_forward\u001b[0m\u001b[0;34m(\u001b[0m\u001b[0;34m*\u001b[0m\u001b[0minput\u001b[0m\u001b[0;34m,\u001b[0m \u001b[0;34m**\u001b[0m\u001b[0mkwargs\u001b[0m\u001b[0;34m)\u001b[0m\u001b[0;34m\u001b[0m\u001b[0m\n\u001b[1;32m    476\u001b[0m         \u001b[0;32melse\u001b[0m\u001b[0;34m:\u001b[0m\u001b[0;34m\u001b[0m\u001b[0m\n\u001b[0;32m--> 477\u001b[0;31m             \u001b[0mresult\u001b[0m \u001b[0;34m=\u001b[0m \u001b[0mself\u001b[0m\u001b[0;34m.\u001b[0m\u001b[0mforward\u001b[0m\u001b[0;34m(\u001b[0m\u001b[0;34m*\u001b[0m\u001b[0minput\u001b[0m\u001b[0;34m,\u001b[0m \u001b[0;34m**\u001b[0m\u001b[0mkwargs\u001b[0m\u001b[0;34m)\u001b[0m\u001b[0;34m\u001b[0m\u001b[0m\n\u001b[0m\u001b[1;32m    478\u001b[0m         \u001b[0;32mfor\u001b[0m \u001b[0mhook\u001b[0m \u001b[0;32min\u001b[0m \u001b[0mself\u001b[0m\u001b[0;34m.\u001b[0m\u001b[0m_forward_hooks\u001b[0m\u001b[0;34m.\u001b[0m\u001b[0mvalues\u001b[0m\u001b[0;34m(\u001b[0m\u001b[0;34m)\u001b[0m\u001b[0;34m:\u001b[0m\u001b[0;34m\u001b[0m\u001b[0m\n\u001b[1;32m    479\u001b[0m             \u001b[0mhook_result\u001b[0m \u001b[0;34m=\u001b[0m \u001b[0mhook\u001b[0m\u001b[0;34m(\u001b[0m\u001b[0mself\u001b[0m\u001b[0;34m,\u001b[0m \u001b[0minput\u001b[0m\u001b[0;34m,\u001b[0m \u001b[0mresult\u001b[0m\u001b[0;34m)\u001b[0m\u001b[0;34m\u001b[0m\u001b[0m\n",
            "\u001b[0;32m<ipython-input-35-15966fbdf241>\u001b[0m in \u001b[0;36mforward\u001b[0;34m(self, inputs)\u001b[0m\n\u001b[1;32m      9\u001b[0m     \u001b[0;32mdef\u001b[0m \u001b[0mforward\u001b[0m\u001b[0;34m(\u001b[0m\u001b[0mself\u001b[0m\u001b[0;34m,\u001b[0m \u001b[0minputs\u001b[0m\u001b[0;34m)\u001b[0m\u001b[0;34m:\u001b[0m\u001b[0;34m\u001b[0m\u001b[0m\n\u001b[1;32m     10\u001b[0m         \u001b[0;34m'embed(inputs) -> prediction'\u001b[0m\u001b[0;34m\u001b[0m\u001b[0m\n\u001b[0;32m---> 11\u001b[0;31m         \u001b[0membeds\u001b[0m \u001b[0;34m=\u001b[0m \u001b[0mself\u001b[0m\u001b[0;34m.\u001b[0m\u001b[0membed\u001b[0m\u001b[0;34m(\u001b[0m\u001b[0minputs\u001b[0m\u001b[0;34m)\u001b[0m\u001b[0;34m\u001b[0m\u001b[0m\n\u001b[0m\u001b[1;32m     12\u001b[0m \u001b[0;31m#         print(embeds.shape)\u001b[0m\u001b[0;34m\u001b[0m\u001b[0;34m\u001b[0m\u001b[0m\n\u001b[1;32m     13\u001b[0m         \u001b[0moutputs\u001b[0m \u001b[0;34m=\u001b[0m \u001b[0mself\u001b[0m\u001b[0;34m.\u001b[0m\u001b[0m_out\u001b[0m\u001b[0;34m(\u001b[0m\u001b[0membeds\u001b[0m\u001b[0;34m)\u001b[0m\u001b[0;34m\u001b[0m\u001b[0m\n",
            "\u001b[0;32m<ipython-input-35-15966fbdf241>\u001b[0m in \u001b[0;36membed\u001b[0;34m(self, inputs)\u001b[0m\n\u001b[1;32m     18\u001b[0m         \u001b[0msymbol_embeds\u001b[0m \u001b[0;34m=\u001b[0m \u001b[0mself\u001b[0m\u001b[0;34m.\u001b[0m\u001b[0m_emb\u001b[0m\u001b[0;34m(\u001b[0m\u001b[0minputs\u001b[0m\u001b[0;34m)\u001b[0m\u001b[0;34m\u001b[0m\u001b[0m\n\u001b[1;32m     19\u001b[0m \u001b[0;31m#         print(symbol_embeds.shape)\u001b[0m\u001b[0;34m\u001b[0m\u001b[0;34m\u001b[0m\u001b[0m\n\u001b[0;32m---> 20\u001b[0;31m         \u001b[0membeds\u001b[0m \u001b[0;34m=\u001b[0m \u001b[0mself\u001b[0m\u001b[0;34m.\u001b[0m\u001b[0m_rnn\u001b[0m\u001b[0;34m(\u001b[0m\u001b[0msymbol_embeds\u001b[0m\u001b[0;34m)\u001b[0m\u001b[0;34m\u001b[0m\u001b[0m\n\u001b[0m\u001b[1;32m     21\u001b[0m         \u001b[0;32mreturn\u001b[0m \u001b[0membeds\u001b[0m\u001b[0;34m\u001b[0m\u001b[0m\n",
            "\u001b[0;32m/usr/local/lib/python3.6/dist-packages/torch/nn/modules/module.py\u001b[0m in \u001b[0;36m__call__\u001b[0;34m(self, *input, **kwargs)\u001b[0m\n\u001b[1;32m    475\u001b[0m             \u001b[0mresult\u001b[0m \u001b[0;34m=\u001b[0m \u001b[0mself\u001b[0m\u001b[0;34m.\u001b[0m\u001b[0m_slow_forward\u001b[0m\u001b[0;34m(\u001b[0m\u001b[0;34m*\u001b[0m\u001b[0minput\u001b[0m\u001b[0;34m,\u001b[0m \u001b[0;34m**\u001b[0m\u001b[0mkwargs\u001b[0m\u001b[0;34m)\u001b[0m\u001b[0;34m\u001b[0m\u001b[0m\n\u001b[1;32m    476\u001b[0m         \u001b[0;32melse\u001b[0m\u001b[0;34m:\u001b[0m\u001b[0;34m\u001b[0m\u001b[0m\n\u001b[0;32m--> 477\u001b[0;31m             \u001b[0mresult\u001b[0m \u001b[0;34m=\u001b[0m \u001b[0mself\u001b[0m\u001b[0;34m.\u001b[0m\u001b[0mforward\u001b[0m\u001b[0;34m(\u001b[0m\u001b[0;34m*\u001b[0m\u001b[0minput\u001b[0m\u001b[0;34m,\u001b[0m \u001b[0;34m**\u001b[0m\u001b[0mkwargs\u001b[0m\u001b[0;34m)\u001b[0m\u001b[0;34m\u001b[0m\u001b[0m\n\u001b[0m\u001b[1;32m    478\u001b[0m         \u001b[0;32mfor\u001b[0m \u001b[0mhook\u001b[0m \u001b[0;32min\u001b[0m \u001b[0mself\u001b[0m\u001b[0;34m.\u001b[0m\u001b[0m_forward_hooks\u001b[0m\u001b[0;34m.\u001b[0m\u001b[0mvalues\u001b[0m\u001b[0;34m(\u001b[0m\u001b[0;34m)\u001b[0m\u001b[0;34m:\u001b[0m\u001b[0;34m\u001b[0m\u001b[0m\n\u001b[1;32m    479\u001b[0m             \u001b[0mhook_result\u001b[0m \u001b[0;34m=\u001b[0m \u001b[0mhook\u001b[0m\u001b[0;34m(\u001b[0m\u001b[0mself\u001b[0m\u001b[0;34m,\u001b[0m \u001b[0minput\u001b[0m\u001b[0;34m,\u001b[0m \u001b[0mresult\u001b[0m\u001b[0;34m)\u001b[0m\u001b[0;34m\u001b[0m\u001b[0m\n",
            "\u001b[0;32m<ipython-input-6-fe1d498c21e8>\u001b[0m in \u001b[0;36mforward\u001b[0;34m(self, inputs, hidden)\u001b[0m\n\u001b[1;32m     15\u001b[0m         \u001b[0;32mfor\u001b[0m \u001b[0mi\u001b[0m \u001b[0;32min\u001b[0m \u001b[0mrange\u001b[0m\u001b[0;34m(\u001b[0m\u001b[0mseq_len\u001b[0m\u001b[0;34m)\u001b[0m\u001b[0;34m:\u001b[0m\u001b[0;34m\u001b[0m\u001b[0m\n\u001b[1;32m     16\u001b[0m             \u001b[0mhidden\u001b[0m \u001b[0;34m=\u001b[0m \u001b[0mtorch\u001b[0m\u001b[0;34m.\u001b[0m\u001b[0mcat\u001b[0m\u001b[0;34m(\u001b[0m\u001b[0;34m(\u001b[0m\u001b[0mhidden\u001b[0m\u001b[0;34m,\u001b[0m \u001b[0minputs\u001b[0m\u001b[0;34m[\u001b[0m\u001b[0mi\u001b[0m\u001b[0;34m]\u001b[0m\u001b[0;34m)\u001b[0m\u001b[0;34m,\u001b[0m \u001b[0mdim\u001b[0m\u001b[0;34m=\u001b[0m\u001b[0;36m1\u001b[0m\u001b[0;34m)\u001b[0m\u001b[0;34m\u001b[0m\u001b[0m\n\u001b[0;32m---> 17\u001b[0;31m             \u001b[0mhidden\u001b[0m \u001b[0;34m=\u001b[0m \u001b[0mself\u001b[0m\u001b[0;34m.\u001b[0m\u001b[0m_out_layer\u001b[0m\u001b[0;34m(\u001b[0m\u001b[0mhidden\u001b[0m\u001b[0;34m)\u001b[0m\u001b[0;34m\u001b[0m\u001b[0m\n\u001b[0m\u001b[1;32m     18\u001b[0m         \u001b[0;32mreturn\u001b[0m \u001b[0mhidden\u001b[0m\u001b[0;34m\u001b[0m\u001b[0m\n",
            "\u001b[0;32m/usr/local/lib/python3.6/dist-packages/torch/nn/modules/module.py\u001b[0m in \u001b[0;36m__call__\u001b[0;34m(self, *input, **kwargs)\u001b[0m\n\u001b[1;32m    475\u001b[0m             \u001b[0mresult\u001b[0m \u001b[0;34m=\u001b[0m \u001b[0mself\u001b[0m\u001b[0;34m.\u001b[0m\u001b[0m_slow_forward\u001b[0m\u001b[0;34m(\u001b[0m\u001b[0;34m*\u001b[0m\u001b[0minput\u001b[0m\u001b[0;34m,\u001b[0m \u001b[0;34m**\u001b[0m\u001b[0mkwargs\u001b[0m\u001b[0;34m)\u001b[0m\u001b[0;34m\u001b[0m\u001b[0m\n\u001b[1;32m    476\u001b[0m         \u001b[0;32melse\u001b[0m\u001b[0;34m:\u001b[0m\u001b[0;34m\u001b[0m\u001b[0m\n\u001b[0;32m--> 477\u001b[0;31m             \u001b[0mresult\u001b[0m \u001b[0;34m=\u001b[0m \u001b[0mself\u001b[0m\u001b[0;34m.\u001b[0m\u001b[0mforward\u001b[0m\u001b[0;34m(\u001b[0m\u001b[0;34m*\u001b[0m\u001b[0minput\u001b[0m\u001b[0;34m,\u001b[0m \u001b[0;34m**\u001b[0m\u001b[0mkwargs\u001b[0m\u001b[0;34m)\u001b[0m\u001b[0;34m\u001b[0m\u001b[0m\n\u001b[0m\u001b[1;32m    478\u001b[0m         \u001b[0;32mfor\u001b[0m \u001b[0mhook\u001b[0m \u001b[0;32min\u001b[0m \u001b[0mself\u001b[0m\u001b[0;34m.\u001b[0m\u001b[0m_forward_hooks\u001b[0m\u001b[0;34m.\u001b[0m\u001b[0mvalues\u001b[0m\u001b[0;34m(\u001b[0m\u001b[0;34m)\u001b[0m\u001b[0;34m:\u001b[0m\u001b[0;34m\u001b[0m\u001b[0m\n\u001b[1;32m    479\u001b[0m             \u001b[0mhook_result\u001b[0m \u001b[0;34m=\u001b[0m \u001b[0mhook\u001b[0m\u001b[0;34m(\u001b[0m\u001b[0mself\u001b[0m\u001b[0;34m,\u001b[0m \u001b[0minput\u001b[0m\u001b[0;34m,\u001b[0m \u001b[0mresult\u001b[0m\u001b[0;34m)\u001b[0m\u001b[0;34m\u001b[0m\u001b[0m\n",
            "\u001b[0;32m/usr/local/lib/python3.6/dist-packages/torch/nn/modules/container.py\u001b[0m in \u001b[0;36mforward\u001b[0;34m(self, input)\u001b[0m\n\u001b[1;32m     89\u001b[0m     \u001b[0;32mdef\u001b[0m \u001b[0mforward\u001b[0m\u001b[0;34m(\u001b[0m\u001b[0mself\u001b[0m\u001b[0;34m,\u001b[0m \u001b[0minput\u001b[0m\u001b[0;34m)\u001b[0m\u001b[0;34m:\u001b[0m\u001b[0;34m\u001b[0m\u001b[0m\n\u001b[1;32m     90\u001b[0m         \u001b[0;32mfor\u001b[0m \u001b[0mmodule\u001b[0m \u001b[0;32min\u001b[0m \u001b[0mself\u001b[0m\u001b[0;34m.\u001b[0m\u001b[0m_modules\u001b[0m\u001b[0;34m.\u001b[0m\u001b[0mvalues\u001b[0m\u001b[0;34m(\u001b[0m\u001b[0;34m)\u001b[0m\u001b[0;34m:\u001b[0m\u001b[0;34m\u001b[0m\u001b[0m\n\u001b[0;32m---> 91\u001b[0;31m             \u001b[0minput\u001b[0m \u001b[0;34m=\u001b[0m \u001b[0mmodule\u001b[0m\u001b[0;34m(\u001b[0m\u001b[0minput\u001b[0m\u001b[0;34m)\u001b[0m\u001b[0;34m\u001b[0m\u001b[0m\n\u001b[0m\u001b[1;32m     92\u001b[0m         \u001b[0;32mreturn\u001b[0m \u001b[0minput\u001b[0m\u001b[0;34m\u001b[0m\u001b[0m\n\u001b[1;32m     93\u001b[0m \u001b[0;34m\u001b[0m\u001b[0m\n",
            "\u001b[0;32m/usr/local/lib/python3.6/dist-packages/torch/nn/modules/module.py\u001b[0m in \u001b[0;36m__call__\u001b[0;34m(self, *input, **kwargs)\u001b[0m\n\u001b[1;32m    475\u001b[0m             \u001b[0mresult\u001b[0m \u001b[0;34m=\u001b[0m \u001b[0mself\u001b[0m\u001b[0;34m.\u001b[0m\u001b[0m_slow_forward\u001b[0m\u001b[0;34m(\u001b[0m\u001b[0;34m*\u001b[0m\u001b[0minput\u001b[0m\u001b[0;34m,\u001b[0m \u001b[0;34m**\u001b[0m\u001b[0mkwargs\u001b[0m\u001b[0;34m)\u001b[0m\u001b[0;34m\u001b[0m\u001b[0m\n\u001b[1;32m    476\u001b[0m         \u001b[0;32melse\u001b[0m\u001b[0;34m:\u001b[0m\u001b[0;34m\u001b[0m\u001b[0m\n\u001b[0;32m--> 477\u001b[0;31m             \u001b[0mresult\u001b[0m \u001b[0;34m=\u001b[0m \u001b[0mself\u001b[0m\u001b[0;34m.\u001b[0m\u001b[0mforward\u001b[0m\u001b[0;34m(\u001b[0m\u001b[0;34m*\u001b[0m\u001b[0minput\u001b[0m\u001b[0;34m,\u001b[0m \u001b[0;34m**\u001b[0m\u001b[0mkwargs\u001b[0m\u001b[0;34m)\u001b[0m\u001b[0;34m\u001b[0m\u001b[0m\n\u001b[0m\u001b[1;32m    478\u001b[0m         \u001b[0;32mfor\u001b[0m \u001b[0mhook\u001b[0m \u001b[0;32min\u001b[0m \u001b[0mself\u001b[0m\u001b[0;34m.\u001b[0m\u001b[0m_forward_hooks\u001b[0m\u001b[0;34m.\u001b[0m\u001b[0mvalues\u001b[0m\u001b[0;34m(\u001b[0m\u001b[0;34m)\u001b[0m\u001b[0;34m:\u001b[0m\u001b[0;34m\u001b[0m\u001b[0m\n\u001b[1;32m    479\u001b[0m             \u001b[0mhook_result\u001b[0m \u001b[0;34m=\u001b[0m \u001b[0mhook\u001b[0m\u001b[0;34m(\u001b[0m\u001b[0mself\u001b[0m\u001b[0;34m,\u001b[0m \u001b[0minput\u001b[0m\u001b[0;34m,\u001b[0m \u001b[0mresult\u001b[0m\u001b[0;34m)\u001b[0m\u001b[0;34m\u001b[0m\u001b[0m\n",
            "\u001b[0;32m/usr/local/lib/python3.6/dist-packages/torch/nn/modules/activation.py\u001b[0m in \u001b[0;36mforward\u001b[0;34m(self, input)\u001b[0m\n\u001b[1;32m    262\u001b[0m \u001b[0;34m\u001b[0m\u001b[0m\n\u001b[1;32m    263\u001b[0m     \u001b[0;32mdef\u001b[0m \u001b[0mforward\u001b[0m\u001b[0;34m(\u001b[0m\u001b[0mself\u001b[0m\u001b[0;34m,\u001b[0m \u001b[0minput\u001b[0m\u001b[0;34m)\u001b[0m\u001b[0;34m:\u001b[0m\u001b[0;34m\u001b[0m\u001b[0m\n\u001b[0;32m--> 264\u001b[0;31m         \u001b[0;32mreturn\u001b[0m \u001b[0mtorch\u001b[0m\u001b[0;34m.\u001b[0m\u001b[0mtanh\u001b[0m\u001b[0;34m(\u001b[0m\u001b[0minput\u001b[0m\u001b[0;34m)\u001b[0m\u001b[0;34m\u001b[0m\u001b[0m\n\u001b[0m\u001b[1;32m    265\u001b[0m \u001b[0;34m\u001b[0m\u001b[0m\n\u001b[1;32m    266\u001b[0m \u001b[0;34m\u001b[0m\u001b[0m\n",
            "\u001b[0;31mKeyboardInterrupt\u001b[0m: "
          ]
        }
      ]
    },
    {
      "metadata": {
        "id": "jC76XyGjigFx",
        "colab_type": "text"
      },
      "cell_type": "markdown",
      "source": [
        "**Задание** Напишите функцию для тестирования полученной сети: пусть она принимает слово и говорит, в каком языке с какой вероятностью это может быть фамилией."
      ]
    },
    {
      "metadata": {
        "id": "0conmE3uDFiy",
        "colab_type": "code",
        "outputId": "391308fa-4c4b-4999-daf7-18ebd4b08178",
        "colab": {
          "base_uri": "https://localhost:8080/",
          "height": 187
        }
      },
      "cell_type": "code",
      "source": [
        "next(iterate_batches(data_test, labels_test, batch_size=8))"
      ],
      "execution_count": 0,
      "outputs": [
        {
          "output_type": "execute_result",
          "data": {
            "text/plain": [
              "(array([[55., 57., 81., 57., 22., 15., 71., 71.],\n",
              "        [84., 84., 10., 24., 62., 24., 24., 24.],\n",
              "        [66., 45., 27., 35., 30., 46., 62., 45.],\n",
              "        [24., 84., 45., 27., 36., 24., 24., 24.],\n",
              "        [62., 62., 19., 66., 24., 35., 17.,  0.],\n",
              "        [53.,  0., 62.,  0., 61., 24., 36.,  0.],\n",
              "        [ 0.,  0., 84.,  0., 17., 20., 84.,  0.],\n",
              "        [ 0.,  0., 51.,  0.,  0., 24., 54.,  0.],\n",
              "        [ 0.,  0.,  0.,  0.,  0.,  0., 54.,  0.]]),\n",
              " array([ 8, 13,  5,  5, 11,  1,  5, 14]))"
            ]
          },
          "metadata": {
            "tags": []
          },
          "execution_count": 21
        }
      ]
    },
    {
      "metadata": {
        "id": "gsGNbpBVJ3xO",
        "colab_type": "code",
        "colab": {}
      },
      "cell_type": "code",
      "source": [
        "def get_logits(surname):\n",
        "    surname = [[char2ind.get(symb, 0) for symb in surname]]\n",
        "    X = torch.cuda.LongTensor(surname)\n",
        "    X = X.permute((1, 0))\n",
        "    print(X.shape)\n",
        "    return model(X)"
      ],
      "execution_count": 0,
      "outputs": []
    },
    {
      "metadata": {
        "id": "5YZVteylHg3w",
        "colab_type": "code",
        "outputId": "7ced67e3-e4cc-43ed-9d32-1dbd3f67c27a",
        "colab": {
          "base_uri": "https://localhost:8080/",
          "height": 85
        }
      },
      "cell_type": "code",
      "source": [
        "get_logits('Ivanov')"
      ],
      "execution_count": 0,
      "outputs": [
        {
          "output_type": "stream",
          "text": [
            "torch.Size([6, 1])\n"
          ],
          "name": "stdout"
        },
        {
          "output_type": "execute_result",
          "data": {
            "text/plain": [
              "tensor([[-0.6367, -0.7615, -0.6266, -1.6731, -0.0890,  5.7378,  1.1850,  0.9974,\n",
              "         -1.5583,  0.0145, -0.5245, -0.3041, -0.1912,  2.2052, -5.9137, -1.3702,\n",
              "         -0.4707, -1.1852]], device='cuda:0', grad_fn=<ThAddmmBackward>)"
            ]
          },
          "metadata": {
            "tags": []
          },
          "execution_count": 48
        }
      ]
    },
    {
      "metadata": {
        "id": "aWqOPgdbIYcl",
        "colab_type": "text"
      },
      "cell_type": "markdown",
      "source": [
        "**Задание** Оцените качество модели."
      ]
    },
    {
      "metadata": {
        "id": "dT2QE6IycXo9",
        "colab_type": "code",
        "outputId": "bbbf84be-06e2-44a3-a890-fadc21cdcb81",
        "colab": {
          "base_uri": "https://localhost:8080/",
          "height": 496
        }
      },
      "cell_type": "code",
      "source": [
        "from sklearn.metrics import accuracy_score, classification_report\n",
        "\n",
        "model.eval()\n",
        "X_test, y_test = next(iterate_batches(data_test, labels_test, batch_size=len(data_test)))\n",
        "X_test = torch.cuda.LongTensor(X_test)\n",
        "y_pred = torch.argmax(model(X_test), dim=1)\n",
        "print('Accuracy = {:.2%}'.format(accuracy_score(y_test, y_pred)))\n",
        "print('Classification report:')\n",
        "print( classification_report( y_test, y_pred, target_names=[lang for lang, _ in sorted(lang2ind.items(), key=lambda x: x[1])] ) )"
      ],
      "execution_count": 0,
      "outputs": [
        {
          "output_type": "stream",
          "text": [
            "Accuracy = 75.29%\n",
            "Classification report:\n",
            "             precision    recall  f1-score   support\n",
            "\n",
            "     Arabic       0.38      0.03      0.06        89\n",
            "    Chinese       0.74      0.77      0.76       297\n",
            "      Czech       0.89      0.28      0.42        61\n",
            "      Dutch       0.00      0.00      0.00        30\n",
            "    English       0.00      0.00      0.00        22\n",
            "     French       0.86      0.93      0.89      2823\n",
            "     German       0.23      0.17      0.19       156\n",
            "      Greek       0.52      0.62      0.56       213\n",
            "      Irish       0.57      0.79      0.66      1101\n",
            "    Italian       0.00      0.00      0.00        28\n",
            "   Japanese       0.00      0.00      0.00        22\n",
            "     Korean       1.00      0.01      0.02       217\n",
            "     Polish       0.00      0.00      0.00        83\n",
            " Portuguese       0.00      0.00      0.00        42\n",
            "    Russian       0.93      0.98      0.96       600\n",
            "   Scottish       0.00      0.00      0.00        89\n",
            "    Spanish       0.00      0.00      0.00        70\n",
            " Vietnamese       0.35      0.55      0.43        80\n",
            "\n",
            "avg / total       0.72      0.75      0.71      6023\n",
            "\n"
          ],
          "name": "stdout"
        },
        {
          "output_type": "stream",
          "text": [
            "/usr/local/lib/python3.6/dist-packages/sklearn/metrics/classification.py:1135: UndefinedMetricWarning: Precision and F-score are ill-defined and being set to 0.0 in labels with no predicted samples.\n",
            "  'precision', 'predicted', average, warn_for)\n"
          ],
          "name": "stderr"
        }
      ]
    },
    {
      "metadata": {
        "id": "B_FZ9x0NInft",
        "colab_type": "text"
      },
      "cell_type": "markdown",
      "source": [
        "## Визуализация эмбеддингов"
      ]
    },
    {
      "metadata": {
        "id": "bJkyBV2bAK05",
        "colab_type": "code",
        "colab": {}
      },
      "cell_type": "code",
      "source": [
        "import bokeh.models as bm, bokeh.plotting as pl\n",
        "from bokeh.colors import RGB\n",
        "from bokeh.io import output_notebook\n",
        "import matplotlib.pyplot as plt\n",
        "%matplotlib inline\n",
        "\n",
        "from sklearn.manifold import TSNE\n",
        "from sklearn.preprocessing import scale\n",
        "\n",
        "\n",
        "def draw_vectors(x, y, radius=10, alpha=0.25, color='blue',\n",
        "                 width=600, height=400, show=True, **kwargs):\n",
        "    \"\"\" draws an interactive plot for data points with auxilirary info on hover \"\"\"\n",
        "    output_notebook()\n",
        "    \n",
        "    if isinstance(color, str): \n",
        "        color = [color] * len(x)\n",
        "    if isinstance(color, np.ndarray):\n",
        "        color = [RGB(*x[:3]) for x in color]\n",
        "    print(color)\n",
        "    data_source = bm.ColumnDataSource({ 'x' : x, 'y' : y, 'color': color, **kwargs })\n",
        "\n",
        "    fig = pl.figure(active_scroll='wheel_zoom', width=width, height=height)\n",
        "    fig.scatter('x', 'y', size=radius, color='color', alpha=alpha, source=data_source)\n",
        "\n",
        "    fig.add_tools(bm.HoverTool(tooltips=[(key, \"@\" + key) for key in kwargs.keys()]))\n",
        "    if show: \n",
        "        pl.show(fig)\n",
        "    return fig\n",
        "\n",
        "\n",
        "def get_tsne_projection(word_vectors):\n",
        "    tsne = TSNE(n_components=2, verbose=100)\n",
        "    return scale(tsne.fit_transform(word_vectors))\n",
        "    \n",
        "    \n",
        "def visualize_embeddings(embeddings, token, colors):\n",
        "    tsne = get_tsne_projection(embeddings)\n",
        "    draw_vectors(tsne[:, 0], tsne[:, 1], color=colors, token=token)"
      ],
      "execution_count": 0,
      "outputs": []
    },
    {
      "metadata": {
        "id": "1u-74cv7IrH9",
        "colab_type": "text"
      },
      "cell_type": "markdown",
      "source": [
        "Мы опять получили эмбеддинги - символьного уровня теперь.\n",
        "\n",
        "Хочется на них посмотреть\n",
        "\n",
        "**Задание** Посчитайте векторы для случайных слов и выведите их."
      ]
    },
    {
      "metadata": {
        "id": "jt6LsI0NAPAm",
        "colab_type": "code",
        "outputId": "062c3a7e-f1ec-4ca2-b8f8-0b2119be5ed1",
        "colab": {
          "base_uri": "https://localhost:8080/",
          "height": 1028
        }
      },
      "cell_type": "code",
      "source": [
        "word_indices = np.random.choice(np.arange(len(data_test)), 1000, replace=False)\n",
        "words = [data_test[ind] for ind in word_indices]\n",
        "word_labels = [labels_test[ind] for ind in word_indices]\n",
        "\n",
        "model.eval()\n",
        "X_batch, y_batch = next(iterate_batches(words, word_labels, batch_size=1000))\n",
        "embeddings = model.embed(torch.cuda.LongTensor(X_batch))\n",
        "# embeddings = embeddings()\n",
        "\n",
        "colors = plt.cm.tab20(y_batch) * 255\n",
        "\n",
        "visualize_embeddings(embeddings.detach().cpu().numpy(), words, colors)"
      ],
      "execution_count": 0,
      "outputs": [
        {
          "output_type": "stream",
          "text": [
            "[t-SNE] Computing 91 nearest neighbors...\n",
            "[t-SNE] Indexed 1000 samples in 0.003s...\n",
            "[t-SNE] Computed neighbors for 1000 samples in 0.078s...\n",
            "[t-SNE] Computed conditional probabilities for sample 1000 / 1000\n",
            "[t-SNE] Mean sigma: 0.037957\n",
            "[t-SNE] Computed conditional probabilities in 0.060s\n",
            "[t-SNE] Iteration 50: error = 57.7952652, gradient norm = 0.2356778 (50 iterations in 2.348s)\n",
            "[t-SNE] Iteration 100: error = 53.1733170, gradient norm = 0.1779542 (50 iterations in 1.642s)\n",
            "[t-SNE] Iteration 150: error = 52.2762833, gradient norm = 0.1686011 (50 iterations in 1.594s)\n",
            "[t-SNE] Iteration 200: error = 51.9366226, gradient norm = 0.1720438 (50 iterations in 1.692s)\n",
            "[t-SNE] Iteration 250: error = 51.7123299, gradient norm = 0.1648642 (50 iterations in 1.706s)\n",
            "[t-SNE] KL divergence after 250 iterations with early exaggeration: 51.712330\n",
            "[t-SNE] Iteration 300: error = 0.4073210, gradient norm = 0.0007224 (50 iterations in 1.629s)\n",
            "[t-SNE] Iteration 350: error = 0.3314054, gradient norm = 0.0003539 (50 iterations in 1.667s)\n",
            "[t-SNE] Iteration 400: error = 0.3132649, gradient norm = 0.0002376 (50 iterations in 1.664s)\n",
            "[t-SNE] Iteration 450: error = 0.3044243, gradient norm = 0.0001820 (50 iterations in 1.599s)\n",
            "[t-SNE] Iteration 500: error = 0.2985238, gradient norm = 0.0001587 (50 iterations in 1.619s)\n",
            "[t-SNE] Iteration 550: error = 0.2961507, gradient norm = 0.0001415 (50 iterations in 1.609s)\n",
            "[t-SNE] Iteration 600: error = 0.2942163, gradient norm = 0.0001290 (50 iterations in 2.012s)\n",
            "[t-SNE] Iteration 650: error = 0.2919949, gradient norm = 0.0001253 (50 iterations in 1.920s)\n",
            "[t-SNE] Iteration 700: error = 0.2902044, gradient norm = 0.0001091 (50 iterations in 1.636s)\n",
            "[t-SNE] Iteration 750: error = 0.2889996, gradient norm = 0.0001199 (50 iterations in 1.639s)\n",
            "[t-SNE] Iteration 800: error = 0.2878085, gradient norm = 0.0000872 (50 iterations in 1.649s)\n",
            "[t-SNE] Iteration 850: error = 0.2872460, gradient norm = 0.0000817 (50 iterations in 1.607s)\n",
            "[t-SNE] Iteration 900: error = 0.2858911, gradient norm = 0.0001007 (50 iterations in 1.597s)\n",
            "[t-SNE] Iteration 950: error = 0.2846853, gradient norm = 0.0000797 (50 iterations in 1.590s)\n",
            "[t-SNE] Iteration 1000: error = 0.2848805, gradient norm = 0.0000928 (50 iterations in 1.612s)\n",
            "[t-SNE] Error after 1000 iterations: 0.284881\n"
          ],
          "name": "stdout"
        },
        {
          "output_type": "stream",
          "text": [
            "/usr/local/lib/python3.6/dist-packages/sklearn/preprocessing/data.py:164: UserWarning: Numerical issues were encountered when centering the data and might not be solved. Dataset may contain too large values. You may need to prescale your features.\n",
            "  warnings.warn(\"Numerical issues were encountered \"\n",
            "/usr/local/lib/python3.6/dist-packages/sklearn/preprocessing/data.py:181: UserWarning: Numerical issues were encountered when scaling the data and might not be solved. The standard deviation of the data is probably very close to 0. \n",
            "  warnings.warn(\"Numerical issues were encountered \"\n"
          ],
          "name": "stderr"
        },
        {
          "output_type": "display_data",
          "data": {
            "text/html": [
              "\n",
              "    <div class=\"bk-root\">\n",
              "        <a href=\"https://bokeh.pydata.org\" target=\"_blank\" class=\"bk-logo bk-logo-small bk-logo-notebook\"></a>\n",
              "        <span id=\"1edd27c0-d052-4396-99ad-d9d4a52a36e2\">Loading BokehJS ...</span>\n",
              "    </div>"
            ]
          },
          "metadata": {
            "tags": []
          }
        },
        {
          "output_type": "display_data",
          "data": {
            "application/javascript": [
              "\n",
              "(function(root) {\n",
              "  function now() {\n",
              "    return new Date();\n",
              "  }\n",
              "\n",
              "  var force = true;\n",
              "\n",
              "  if (typeof (root._bokeh_onload_callbacks) === \"undefined\" || force === true) {\n",
              "    root._bokeh_onload_callbacks = [];\n",
              "    root._bokeh_is_loading = undefined;\n",
              "  }\n",
              "\n",
              "  var JS_MIME_TYPE = 'application/javascript';\n",
              "  var HTML_MIME_TYPE = 'text/html';\n",
              "  var EXEC_MIME_TYPE = 'application/vnd.bokehjs_exec.v0+json';\n",
              "  var CLASS_NAME = 'output_bokeh rendered_html';\n",
              "\n",
              "  /**\n",
              "   * Render data to the DOM node\n",
              "   */\n",
              "  function render(props, node) {\n",
              "    var script = document.createElement(\"script\");\n",
              "    node.appendChild(script);\n",
              "  }\n",
              "\n",
              "  /**\n",
              "   * Handle when an output is cleared or removed\n",
              "   */\n",
              "  function handleClearOutput(event, handle) {\n",
              "    var cell = handle.cell;\n",
              "\n",
              "    var id = cell.output_area._bokeh_element_id;\n",
              "    var server_id = cell.output_area._bokeh_server_id;\n",
              "    // Clean up Bokeh references\n",
              "    if (id != null && id in Bokeh.index) {\n",
              "      Bokeh.index[id].model.document.clear();\n",
              "      delete Bokeh.index[id];\n",
              "    }\n",
              "\n",
              "    if (server_id !== undefined) {\n",
              "      // Clean up Bokeh references\n",
              "      var cmd = \"from bokeh.io.state import curstate; print(curstate().uuid_to_server['\" + server_id + \"'].get_sessions()[0].document.roots[0]._id)\";\n",
              "      cell.notebook.kernel.execute(cmd, {\n",
              "        iopub: {\n",
              "          output: function(msg) {\n",
              "            var id = msg.content.text.trim();\n",
              "            if (id in Bokeh.index) {\n",
              "              Bokeh.index[id].model.document.clear();\n",
              "              delete Bokeh.index[id];\n",
              "            }\n",
              "          }\n",
              "        }\n",
              "      });\n",
              "      // Destroy server and session\n",
              "      var cmd = \"import bokeh.io.notebook as ion; ion.destroy_server('\" + server_id + \"')\";\n",
              "      cell.notebook.kernel.execute(cmd);\n",
              "    }\n",
              "  }\n",
              "\n",
              "  /**\n",
              "   * Handle when a new output is added\n",
              "   */\n",
              "  function handleAddOutput(event, handle) {\n",
              "    var output_area = handle.output_area;\n",
              "    var output = handle.output;\n",
              "\n",
              "    // limit handleAddOutput to display_data with EXEC_MIME_TYPE content only\n",
              "    if ((output.output_type != \"display_data\") || (!output.data.hasOwnProperty(EXEC_MIME_TYPE))) {\n",
              "      return\n",
              "    }\n",
              "\n",
              "    var toinsert = output_area.element.find(\".\" + CLASS_NAME.split(' ')[0]);\n",
              "\n",
              "    if (output.metadata[EXEC_MIME_TYPE][\"id\"] !== undefined) {\n",
              "      toinsert[toinsert.length - 1].firstChild.textContent = output.data[JS_MIME_TYPE];\n",
              "      // store reference to embed id on output_area\n",
              "      output_area._bokeh_element_id = output.metadata[EXEC_MIME_TYPE][\"id\"];\n",
              "    }\n",
              "    if (output.metadata[EXEC_MIME_TYPE][\"server_id\"] !== undefined) {\n",
              "      var bk_div = document.createElement(\"div\");\n",
              "      bk_div.innerHTML = output.data[HTML_MIME_TYPE];\n",
              "      var script_attrs = bk_div.children[0].attributes;\n",
              "      for (var i = 0; i < script_attrs.length; i++) {\n",
              "        toinsert[toinsert.length - 1].firstChild.setAttribute(script_attrs[i].name, script_attrs[i].value);\n",
              "      }\n",
              "      // store reference to server id on output_area\n",
              "      output_area._bokeh_server_id = output.metadata[EXEC_MIME_TYPE][\"server_id\"];\n",
              "    }\n",
              "  }\n",
              "\n",
              "  function register_renderer(events, OutputArea) {\n",
              "\n",
              "    function append_mime(data, metadata, element) {\n",
              "      // create a DOM node to render to\n",
              "      var toinsert = this.create_output_subarea(\n",
              "        metadata,\n",
              "        CLASS_NAME,\n",
              "        EXEC_MIME_TYPE\n",
              "      );\n",
              "      this.keyboard_manager.register_events(toinsert);\n",
              "      // Render to node\n",
              "      var props = {data: data, metadata: metadata[EXEC_MIME_TYPE]};\n",
              "      render(props, toinsert[toinsert.length - 1]);\n",
              "      element.append(toinsert);\n",
              "      return toinsert\n",
              "    }\n",
              "\n",
              "    /* Handle when an output is cleared or removed */\n",
              "    events.on('clear_output.CodeCell', handleClearOutput);\n",
              "    events.on('delete.Cell', handleClearOutput);\n",
              "\n",
              "    /* Handle when a new output is added */\n",
              "    events.on('output_added.OutputArea', handleAddOutput);\n",
              "\n",
              "    /**\n",
              "     * Register the mime type and append_mime function with output_area\n",
              "     */\n",
              "    OutputArea.prototype.register_mime_type(EXEC_MIME_TYPE, append_mime, {\n",
              "      /* Is output safe? */\n",
              "      safe: true,\n",
              "      /* Index of renderer in `output_area.display_order` */\n",
              "      index: 0\n",
              "    });\n",
              "  }\n",
              "\n",
              "  // register the mime type if in Jupyter Notebook environment and previously unregistered\n",
              "  if (root.Jupyter !== undefined) {\n",
              "    var events = require('base/js/events');\n",
              "    var OutputArea = require('notebook/js/outputarea').OutputArea;\n",
              "\n",
              "    if (OutputArea.prototype.mime_types().indexOf(EXEC_MIME_TYPE) == -1) {\n",
              "      register_renderer(events, OutputArea);\n",
              "    }\n",
              "  }\n",
              "\n",
              "  \n",
              "  if (typeof (root._bokeh_timeout) === \"undefined\" || force === true) {\n",
              "    root._bokeh_timeout = Date.now() + 5000;\n",
              "    root._bokeh_failed_load = false;\n",
              "  }\n",
              "\n",
              "  var NB_LOAD_WARNING = {'data': {'text/html':\n",
              "     \"<div style='background-color: #fdd'>\\n\"+\n",
              "     \"<p>\\n\"+\n",
              "     \"BokehJS does not appear to have successfully loaded. If loading BokehJS from CDN, this \\n\"+\n",
              "     \"may be due to a slow or bad network connection. Possible fixes:\\n\"+\n",
              "     \"</p>\\n\"+\n",
              "     \"<ul>\\n\"+\n",
              "     \"<li>re-rerun `output_notebook()` to attempt to load from CDN again, or</li>\\n\"+\n",
              "     \"<li>use INLINE resources instead, as so:</li>\\n\"+\n",
              "     \"</ul>\\n\"+\n",
              "     \"<code>\\n\"+\n",
              "     \"from bokeh.resources import INLINE\\n\"+\n",
              "     \"output_notebook(resources=INLINE)\\n\"+\n",
              "     \"</code>\\n\"+\n",
              "     \"</div>\"}};\n",
              "\n",
              "  function display_loaded() {\n",
              "    var el = document.getElementById(\"1edd27c0-d052-4396-99ad-d9d4a52a36e2\");\n",
              "    if (el != null) {\n",
              "      el.textContent = \"BokehJS is loading...\";\n",
              "    }\n",
              "    if (root.Bokeh !== undefined) {\n",
              "      if (el != null) {\n",
              "        el.textContent = \"BokehJS \" + root.Bokeh.version + \" successfully loaded.\";\n",
              "      }\n",
              "    } else if (Date.now() < root._bokeh_timeout) {\n",
              "      setTimeout(display_loaded, 100)\n",
              "    }\n",
              "  }\n",
              "\n",
              "\n",
              "  function run_callbacks() {\n",
              "    try {\n",
              "      root._bokeh_onload_callbacks.forEach(function(callback) { callback() });\n",
              "    }\n",
              "    finally {\n",
              "      delete root._bokeh_onload_callbacks\n",
              "    }\n",
              "    console.info(\"Bokeh: all callbacks have finished\");\n",
              "  }\n",
              "\n",
              "  function load_libs(js_urls, callback) {\n",
              "    root._bokeh_onload_callbacks.push(callback);\n",
              "    if (root._bokeh_is_loading > 0) {\n",
              "      console.log(\"Bokeh: BokehJS is being loaded, scheduling callback at\", now());\n",
              "      return null;\n",
              "    }\n",
              "    if (js_urls == null || js_urls.length === 0) {\n",
              "      run_callbacks();\n",
              "      return null;\n",
              "    }\n",
              "    console.log(\"Bokeh: BokehJS not loaded, scheduling load and callback at\", now());\n",
              "    root._bokeh_is_loading = js_urls.length;\n",
              "    for (var i = 0; i < js_urls.length; i++) {\n",
              "      var url = js_urls[i];\n",
              "      var s = document.createElement('script');\n",
              "      s.src = url;\n",
              "      s.async = false;\n",
              "      s.onreadystatechange = s.onload = function() {\n",
              "        root._bokeh_is_loading--;\n",
              "        if (root._bokeh_is_loading === 0) {\n",
              "          console.log(\"Bokeh: all BokehJS libraries loaded\");\n",
              "          run_callbacks()\n",
              "        }\n",
              "      };\n",
              "      s.onerror = function() {\n",
              "        console.warn(\"failed to load library \" + url);\n",
              "      };\n",
              "      console.log(\"Bokeh: injecting script tag for BokehJS library: \", url);\n",
              "      document.getElementsByTagName(\"head\")[0].appendChild(s);\n",
              "    }\n",
              "  };var element = document.getElementById(\"1edd27c0-d052-4396-99ad-d9d4a52a36e2\");\n",
              "  if (element == null) {\n",
              "    console.log(\"Bokeh: ERROR: autoload.js configured with elementid '1edd27c0-d052-4396-99ad-d9d4a52a36e2' but no matching script tag was found. \")\n",
              "    return false;\n",
              "  }\n",
              "\n",
              "  var js_urls = [\"https://cdn.pydata.org/bokeh/release/bokeh-0.13.0.min.js\", \"https://cdn.pydata.org/bokeh/release/bokeh-widgets-0.13.0.min.js\", \"https://cdn.pydata.org/bokeh/release/bokeh-tables-0.13.0.min.js\", \"https://cdn.pydata.org/bokeh/release/bokeh-gl-0.13.0.min.js\"];\n",
              "\n",
              "  var inline_js = [\n",
              "    function(Bokeh) {\n",
              "      Bokeh.set_log_level(\"info\");\n",
              "    },\n",
              "    \n",
              "    function(Bokeh) {\n",
              "      \n",
              "    },\n",
              "    function(Bokeh) {\n",
              "      console.log(\"Bokeh: injecting CSS: https://cdn.pydata.org/bokeh/release/bokeh-0.13.0.min.css\");\n",
              "      Bokeh.embed.inject_css(\"https://cdn.pydata.org/bokeh/release/bokeh-0.13.0.min.css\");\n",
              "      console.log(\"Bokeh: injecting CSS: https://cdn.pydata.org/bokeh/release/bokeh-widgets-0.13.0.min.css\");\n",
              "      Bokeh.embed.inject_css(\"https://cdn.pydata.org/bokeh/release/bokeh-widgets-0.13.0.min.css\");\n",
              "      console.log(\"Bokeh: injecting CSS: https://cdn.pydata.org/bokeh/release/bokeh-tables-0.13.0.min.css\");\n",
              "      Bokeh.embed.inject_css(\"https://cdn.pydata.org/bokeh/release/bokeh-tables-0.13.0.min.css\");\n",
              "    }\n",
              "  ];\n",
              "\n",
              "  function run_inline_js() {\n",
              "    \n",
              "    if ((root.Bokeh !== undefined) || (force === true)) {\n",
              "      for (var i = 0; i < inline_js.length; i++) {\n",
              "        inline_js[i].call(root, root.Bokeh);\n",
              "      }if (force === true) {\n",
              "        display_loaded();\n",
              "      }} else if (Date.now() < root._bokeh_timeout) {\n",
              "      setTimeout(run_inline_js, 100);\n",
              "    } else if (!root._bokeh_failed_load) {\n",
              "      console.log(\"Bokeh: BokehJS failed to load within specified timeout.\");\n",
              "      root._bokeh_failed_load = true;\n",
              "    } else if (force !== true) {\n",
              "      var cell = $(document.getElementById(\"1edd27c0-d052-4396-99ad-d9d4a52a36e2\")).parents('.cell').data().cell;\n",
              "      cell.output_area.append_execute_result(NB_LOAD_WARNING)\n",
              "    }\n",
              "\n",
              "  }\n",
              "\n",
              "  if (root._bokeh_is_loading === 0) {\n",
              "    console.log(\"Bokeh: BokehJS loaded, going straight to plotting\");\n",
              "    run_inline_js();\n",
              "  } else {\n",
              "    load_libs(js_urls, function() {\n",
              "      console.log(\"Bokeh: BokehJS plotting callback run at\", now());\n",
              "      run_inline_js();\n",
              "    });\n",
              "  }\n",
              "}(window));"
            ],
            "application/vnd.bokehjs_load.v0+json": "\n(function(root) {\n  function now() {\n    return new Date();\n  }\n\n  var force = true;\n\n  if (typeof (root._bokeh_onload_callbacks) === \"undefined\" || force === true) {\n    root._bokeh_onload_callbacks = [];\n    root._bokeh_is_loading = undefined;\n  }\n\n  \n\n  \n  if (typeof (root._bokeh_timeout) === \"undefined\" || force === true) {\n    root._bokeh_timeout = Date.now() + 5000;\n    root._bokeh_failed_load = false;\n  }\n\n  var NB_LOAD_WARNING = {'data': {'text/html':\n     \"<div style='background-color: #fdd'>\\n\"+\n     \"<p>\\n\"+\n     \"BokehJS does not appear to have successfully loaded. If loading BokehJS from CDN, this \\n\"+\n     \"may be due to a slow or bad network connection. Possible fixes:\\n\"+\n     \"</p>\\n\"+\n     \"<ul>\\n\"+\n     \"<li>re-rerun `output_notebook()` to attempt to load from CDN again, or</li>\\n\"+\n     \"<li>use INLINE resources instead, as so:</li>\\n\"+\n     \"</ul>\\n\"+\n     \"<code>\\n\"+\n     \"from bokeh.resources import INLINE\\n\"+\n     \"output_notebook(resources=INLINE)\\n\"+\n     \"</code>\\n\"+\n     \"</div>\"}};\n\n  function display_loaded() {\n    var el = document.getElementById(\"1edd27c0-d052-4396-99ad-d9d4a52a36e2\");\n    if (el != null) {\n      el.textContent = \"BokehJS is loading...\";\n    }\n    if (root.Bokeh !== undefined) {\n      if (el != null) {\n        el.textContent = \"BokehJS \" + root.Bokeh.version + \" successfully loaded.\";\n      }\n    } else if (Date.now() < root._bokeh_timeout) {\n      setTimeout(display_loaded, 100)\n    }\n  }\n\n\n  function run_callbacks() {\n    try {\n      root._bokeh_onload_callbacks.forEach(function(callback) { callback() });\n    }\n    finally {\n      delete root._bokeh_onload_callbacks\n    }\n    console.info(\"Bokeh: all callbacks have finished\");\n  }\n\n  function load_libs(js_urls, callback) {\n    root._bokeh_onload_callbacks.push(callback);\n    if (root._bokeh_is_loading > 0) {\n      console.log(\"Bokeh: BokehJS is being loaded, scheduling callback at\", now());\n      return null;\n    }\n    if (js_urls == null || js_urls.length === 0) {\n      run_callbacks();\n      return null;\n    }\n    console.log(\"Bokeh: BokehJS not loaded, scheduling load and callback at\", now());\n    root._bokeh_is_loading = js_urls.length;\n    for (var i = 0; i < js_urls.length; i++) {\n      var url = js_urls[i];\n      var s = document.createElement('script');\n      s.src = url;\n      s.async = false;\n      s.onreadystatechange = s.onload = function() {\n        root._bokeh_is_loading--;\n        if (root._bokeh_is_loading === 0) {\n          console.log(\"Bokeh: all BokehJS libraries loaded\");\n          run_callbacks()\n        }\n      };\n      s.onerror = function() {\n        console.warn(\"failed to load library \" + url);\n      };\n      console.log(\"Bokeh: injecting script tag for BokehJS library: \", url);\n      document.getElementsByTagName(\"head\")[0].appendChild(s);\n    }\n  };var element = document.getElementById(\"1edd27c0-d052-4396-99ad-d9d4a52a36e2\");\n  if (element == null) {\n    console.log(\"Bokeh: ERROR: autoload.js configured with elementid '1edd27c0-d052-4396-99ad-d9d4a52a36e2' but no matching script tag was found. \")\n    return false;\n  }\n\n  var js_urls = [\"https://cdn.pydata.org/bokeh/release/bokeh-0.13.0.min.js\", \"https://cdn.pydata.org/bokeh/release/bokeh-widgets-0.13.0.min.js\", \"https://cdn.pydata.org/bokeh/release/bokeh-tables-0.13.0.min.js\", \"https://cdn.pydata.org/bokeh/release/bokeh-gl-0.13.0.min.js\"];\n\n  var inline_js = [\n    function(Bokeh) {\n      Bokeh.set_log_level(\"info\");\n    },\n    \n    function(Bokeh) {\n      \n    },\n    function(Bokeh) {\n      console.log(\"Bokeh: injecting CSS: https://cdn.pydata.org/bokeh/release/bokeh-0.13.0.min.css\");\n      Bokeh.embed.inject_css(\"https://cdn.pydata.org/bokeh/release/bokeh-0.13.0.min.css\");\n      console.log(\"Bokeh: injecting CSS: https://cdn.pydata.org/bokeh/release/bokeh-widgets-0.13.0.min.css\");\n      Bokeh.embed.inject_css(\"https://cdn.pydata.org/bokeh/release/bokeh-widgets-0.13.0.min.css\");\n      console.log(\"Bokeh: injecting CSS: https://cdn.pydata.org/bokeh/release/bokeh-tables-0.13.0.min.css\");\n      Bokeh.embed.inject_css(\"https://cdn.pydata.org/bokeh/release/bokeh-tables-0.13.0.min.css\");\n    }\n  ];\n\n  function run_inline_js() {\n    \n    if ((root.Bokeh !== undefined) || (force === true)) {\n      for (var i = 0; i < inline_js.length; i++) {\n        inline_js[i].call(root, root.Bokeh);\n      }if (force === true) {\n        display_loaded();\n      }} else if (Date.now() < root._bokeh_timeout) {\n      setTimeout(run_inline_js, 100);\n    } else if (!root._bokeh_failed_load) {\n      console.log(\"Bokeh: BokehJS failed to load within specified timeout.\");\n      root._bokeh_failed_load = true;\n    } else if (force !== true) {\n      var cell = $(document.getElementById(\"1edd27c0-d052-4396-99ad-d9d4a52a36e2\")).parents('.cell').data().cell;\n      cell.output_area.append_execute_result(NB_LOAD_WARNING)\n    }\n\n  }\n\n  if (root._bokeh_is_loading === 0) {\n    console.log(\"Bokeh: BokehJS loaded, going straight to plotting\");\n    run_inline_js();\n  } else {\n    load_libs(js_urls, function() {\n      console.log(\"Bokeh: BokehJS plotting callback run at\", now());\n      run_inline_js();\n    });\n  }\n}(window));"
          },
          "metadata": {
            "tags": []
          }
        },
        {
          "output_type": "stream",
          "text": [
            "[rgb(152, 223, 138), rgb(148, 103, 189), rgb(148, 103, 189), rgb(174, 199, 232), rgb(152, 223, 138), rgb(127, 127, 127), rgb(127, 127, 127), rgb(127, 127, 127), rgb(127, 127, 127), rgb(152, 223, 138), rgb(199, 199, 199), rgb(152, 223, 138), rgb(152, 223, 138), rgb(196, 156, 148), rgb(148, 103, 189), rgb(152, 223, 138), rgb(174, 199, 232), rgb(152, 223, 138), rgb(152, 223, 138), rgb(152, 223, 138), rgb(127, 127, 127), rgb(152, 223, 138), rgb(127, 127, 127), rgb(148, 103, 189), rgb(152, 223, 138), rgb(127, 127, 127), rgb(152, 223, 138), rgb(127, 127, 127), rgb(152, 223, 138), rgb(152, 223, 138), rgb(152, 223, 138), rgb(152, 223, 138), rgb(214, 39, 40), rgb(148, 103, 189), rgb(255, 152, 150), rgb(148, 103, 189), rgb(148, 103, 189), rgb(127, 127, 127), rgb(199, 199, 199), rgb(148, 103, 189), rgb(174, 199, 232), rgb(127, 127, 127), rgb(140, 86, 75), rgb(127, 127, 127), rgb(152, 223, 138), rgb(152, 223, 138), rgb(214, 39, 40), rgb(214, 39, 40), rgb(152, 223, 138), rgb(152, 223, 138), rgb(174, 199, 232), rgb(152, 223, 138), rgb(152, 223, 138), rgb(152, 223, 138), rgb(196, 156, 148), rgb(174, 199, 232), rgb(219, 219, 141), rgb(152, 223, 138), rgb(148, 103, 189), rgb(152, 223, 138), rgb(152, 223, 138), rgb(255, 152, 150), rgb(152, 223, 138), rgb(152, 223, 138), rgb(199, 199, 199), rgb(152, 223, 138), rgb(152, 223, 138), rgb(127, 127, 127), rgb(152, 223, 138), rgb(227, 119, 194), rgb(148, 103, 189), rgb(152, 223, 138), rgb(152, 223, 138), rgb(31, 119, 180), rgb(152, 223, 138), rgb(152, 223, 138), rgb(152, 223, 138), rgb(127, 127, 127), rgb(148, 103, 189), rgb(174, 199, 232), rgb(152, 223, 138), rgb(152, 223, 138), rgb(152, 223, 138), rgb(148, 103, 189), rgb(152, 223, 138), rgb(127, 127, 127), rgb(152, 223, 138), rgb(152, 223, 138), rgb(214, 39, 40), rgb(152, 223, 138), rgb(148, 103, 189), rgb(214, 39, 40), rgb(44, 160, 44), rgb(152, 223, 138), rgb(148, 103, 189), rgb(152, 223, 138), rgb(152, 223, 138), rgb(152, 223, 138), rgb(152, 223, 138), rgb(152, 223, 138), rgb(152, 223, 138), rgb(152, 223, 138), rgb(255, 152, 150), rgb(196, 156, 148), rgb(199, 199, 199), rgb(174, 199, 232), rgb(152, 223, 138), rgb(188, 189, 34), rgb(148, 103, 189), rgb(152, 223, 138), rgb(152, 223, 138), rgb(152, 223, 138), rgb(127, 127, 127), rgb(174, 199, 232), rgb(152, 223, 138), rgb(152, 223, 138), rgb(255, 152, 150), rgb(148, 103, 189), rgb(148, 103, 189), rgb(152, 223, 138), rgb(152, 223, 138), rgb(152, 223, 138), rgb(152, 223, 138), rgb(152, 223, 138), rgb(152, 223, 138), rgb(152, 223, 138), rgb(152, 223, 138), rgb(127, 127, 127), rgb(152, 223, 138), rgb(152, 223, 138), rgb(152, 223, 138), rgb(214, 39, 40), rgb(148, 103, 189), rgb(255, 152, 150), rgb(148, 103, 189), rgb(196, 156, 148), rgb(152, 223, 138), rgb(127, 127, 127), rgb(127, 127, 127), rgb(152, 223, 138), rgb(199, 199, 199), rgb(227, 119, 194), rgb(148, 103, 189), rgb(152, 223, 138), rgb(127, 127, 127), rgb(152, 223, 138), rgb(188, 189, 34), rgb(152, 223, 138), rgb(152, 223, 138), rgb(148, 103, 189), rgb(255, 127, 14), rgb(152, 223, 138), rgb(148, 103, 189), rgb(152, 223, 138), rgb(152, 223, 138), rgb(152, 223, 138), rgb(148, 103, 189), rgb(152, 223, 138), rgb(148, 103, 189), rgb(127, 127, 127), rgb(152, 223, 138), rgb(148, 103, 189), rgb(152, 223, 138), rgb(152, 223, 138), rgb(152, 223, 138), rgb(152, 223, 138), rgb(152, 223, 138), rgb(152, 223, 138), rgb(127, 127, 127), rgb(152, 223, 138), rgb(255, 152, 150), rgb(152, 223, 138), rgb(148, 103, 189), rgb(152, 223, 138), rgb(152, 223, 138), rgb(152, 223, 138), rgb(174, 199, 232), rgb(148, 103, 189), rgb(255, 152, 150), rgb(152, 223, 138), rgb(152, 223, 138), rgb(152, 223, 138), rgb(152, 223, 138), rgb(127, 127, 127), rgb(127, 127, 127), rgb(174, 199, 232), rgb(227, 119, 194), rgb(188, 189, 34), rgb(148, 103, 189), rgb(255, 152, 150), rgb(152, 223, 138), rgb(148, 103, 189), rgb(152, 223, 138), rgb(127, 127, 127), rgb(152, 223, 138), rgb(127, 127, 127), rgb(174, 199, 232), rgb(152, 223, 138), rgb(148, 103, 189), rgb(174, 199, 232), rgb(152, 223, 138), rgb(127, 127, 127), rgb(148, 103, 189), rgb(152, 223, 138), rgb(127, 127, 127), rgb(148, 103, 189), rgb(140, 86, 75), rgb(255, 127, 14), rgb(152, 223, 138), rgb(152, 223, 138), rgb(255, 152, 150), rgb(148, 103, 189), rgb(148, 103, 189), rgb(148, 103, 189), rgb(152, 223, 138), rgb(152, 223, 138), rgb(174, 199, 232), rgb(255, 152, 150), rgb(152, 223, 138), rgb(219, 219, 141), rgb(148, 103, 189), rgb(148, 103, 189), rgb(255, 152, 150), rgb(152, 223, 138), rgb(148, 103, 189), rgb(152, 223, 138), rgb(255, 152, 150), rgb(174, 199, 232), rgb(127, 127, 127), rgb(148, 103, 189), rgb(152, 223, 138), rgb(174, 199, 232), rgb(152, 223, 138), rgb(152, 223, 138), rgb(152, 223, 138), rgb(152, 223, 138), rgb(127, 127, 127), rgb(152, 223, 138), rgb(152, 223, 138), rgb(152, 223, 138), rgb(152, 223, 138), rgb(148, 103, 189), rgb(127, 127, 127), rgb(152, 223, 138), rgb(152, 223, 138), rgb(152, 223, 138), rgb(152, 223, 138), rgb(197, 176, 213), rgb(174, 199, 232), rgb(152, 223, 138), rgb(127, 127, 127), rgb(152, 223, 138), rgb(152, 223, 138), rgb(152, 223, 138), rgb(152, 223, 138), rgb(152, 223, 138), rgb(152, 223, 138), rgb(152, 223, 138), rgb(152, 223, 138), rgb(152, 223, 138), rgb(152, 223, 138), rgb(148, 103, 189), rgb(174, 199, 232), rgb(148, 103, 189), rgb(219, 219, 141), rgb(148, 103, 189), rgb(152, 223, 138), rgb(196, 156, 148), rgb(152, 223, 138), rgb(152, 223, 138), rgb(152, 223, 138), rgb(148, 103, 189), rgb(152, 223, 138), rgb(152, 223, 138), rgb(148, 103, 189), rgb(219, 219, 141), rgb(152, 223, 138), rgb(152, 223, 138), rgb(255, 152, 150), rgb(127, 127, 127), rgb(152, 223, 138), rgb(219, 219, 141), rgb(255, 152, 150), rgb(196, 156, 148), rgb(152, 223, 138), rgb(127, 127, 127), rgb(152, 223, 138), rgb(148, 103, 189), rgb(127, 127, 127), rgb(127, 127, 127), rgb(152, 223, 138), rgb(127, 127, 127), rgb(148, 103, 189), rgb(148, 103, 189), rgb(152, 223, 138), rgb(148, 103, 189), rgb(31, 119, 180), rgb(127, 127, 127), rgb(152, 223, 138), rgb(152, 223, 138), rgb(255, 152, 150), rgb(127, 127, 127), rgb(152, 223, 138), rgb(152, 223, 138), rgb(152, 223, 138), rgb(152, 223, 138), rgb(152, 223, 138), rgb(148, 103, 189), rgb(148, 103, 189), rgb(148, 103, 189), rgb(255, 127, 14), rgb(152, 223, 138), rgb(214, 39, 40), rgb(148, 103, 189), rgb(152, 223, 138), rgb(148, 103, 189), rgb(148, 103, 189), rgb(214, 39, 40), rgb(31, 119, 180), rgb(127, 127, 127), rgb(148, 103, 189), rgb(152, 223, 138), rgb(148, 103, 189), rgb(127, 127, 127), rgb(127, 127, 127), rgb(152, 223, 138), rgb(174, 199, 232), rgb(148, 103, 189), rgb(152, 223, 138), rgb(174, 199, 232), rgb(152, 223, 138), rgb(152, 223, 138), rgb(31, 119, 180), rgb(152, 223, 138), rgb(255, 127, 14), rgb(214, 39, 40), rgb(174, 199, 232), rgb(31, 119, 180), rgb(152, 223, 138), rgb(152, 223, 138), rgb(148, 103, 189), rgb(152, 223, 138), rgb(127, 127, 127), rgb(152, 223, 138), rgb(152, 223, 138), rgb(148, 103, 189), rgb(148, 103, 189), rgb(152, 223, 138), rgb(196, 156, 148), rgb(152, 223, 138), rgb(148, 103, 189), rgb(152, 223, 138), rgb(152, 223, 138), rgb(152, 223, 138), rgb(247, 182, 210), rgb(174, 199, 232), rgb(127, 127, 127), rgb(31, 119, 180), rgb(31, 119, 180), rgb(152, 223, 138), rgb(152, 223, 138), rgb(127, 127, 127), rgb(152, 223, 138), rgb(31, 119, 180), rgb(255, 127, 14), rgb(196, 156, 148), rgb(152, 223, 138), rgb(152, 223, 138), rgb(148, 103, 189), rgb(44, 160, 44), rgb(152, 223, 138), rgb(152, 223, 138), rgb(148, 103, 189), rgb(174, 199, 232), rgb(152, 223, 138), rgb(196, 156, 148), rgb(152, 223, 138), rgb(152, 223, 138), rgb(127, 127, 127), rgb(44, 160, 44), rgb(152, 223, 138), rgb(196, 156, 148), rgb(148, 103, 189), rgb(174, 199, 232), rgb(152, 223, 138), rgb(148, 103, 189), rgb(127, 127, 127), rgb(127, 127, 127), rgb(148, 103, 189), rgb(152, 223, 138), rgb(127, 127, 127), rgb(174, 199, 232), rgb(127, 127, 127), rgb(152, 223, 138), rgb(255, 152, 150), rgb(148, 103, 189), rgb(152, 223, 138), rgb(148, 103, 189), rgb(127, 127, 127), rgb(152, 223, 138), rgb(214, 39, 40), rgb(152, 223, 138), rgb(152, 223, 138), rgb(148, 103, 189), rgb(174, 199, 232), rgb(152, 223, 138), rgb(152, 223, 138), rgb(31, 119, 180), rgb(152, 223, 138), rgb(152, 223, 138), rgb(148, 103, 189), rgb(152, 223, 138), rgb(152, 223, 138), rgb(152, 223, 138), rgb(152, 223, 138), rgb(127, 127, 127), rgb(127, 127, 127), rgb(148, 103, 189), rgb(152, 223, 138), rgb(255, 127, 14), rgb(214, 39, 40), rgb(148, 103, 189), rgb(152, 223, 138), rgb(152, 223, 138), rgb(127, 127, 127), rgb(199, 199, 199), rgb(148, 103, 189), rgb(152, 223, 138), rgb(219, 219, 141), rgb(199, 199, 199), rgb(148, 103, 189), rgb(152, 223, 138), rgb(174, 199, 232), rgb(152, 223, 138), rgb(152, 223, 138), rgb(255, 127, 14), rgb(148, 103, 189), rgb(214, 39, 40), rgb(152, 223, 138), rgb(148, 103, 189), rgb(255, 152, 150), rgb(152, 223, 138), rgb(152, 223, 138), rgb(152, 223, 138), rgb(152, 223, 138), rgb(152, 223, 138), rgb(148, 103, 189), rgb(255, 127, 14), rgb(148, 103, 189), rgb(152, 223, 138), rgb(152, 223, 138), rgb(152, 223, 138), rgb(152, 223, 138), rgb(152, 223, 138), rgb(196, 156, 148), rgb(152, 223, 138), rgb(152, 223, 138), rgb(196, 156, 148), rgb(152, 223, 138), rgb(127, 127, 127), rgb(148, 103, 189), rgb(152, 223, 138), rgb(152, 223, 138), rgb(152, 223, 138), rgb(174, 199, 232), rgb(148, 103, 189), rgb(152, 223, 138), rgb(148, 103, 189), rgb(219, 219, 141), rgb(152, 223, 138), rgb(152, 223, 138), rgb(152, 223, 138), rgb(152, 223, 138), rgb(148, 103, 189), rgb(152, 223, 138), rgb(214, 39, 40), rgb(255, 152, 150), rgb(174, 199, 232), rgb(152, 223, 138), rgb(188, 189, 34), rgb(148, 103, 189), rgb(148, 103, 189), rgb(152, 223, 138), rgb(127, 127, 127), rgb(255, 187, 120), rgb(152, 223, 138), rgb(152, 223, 138), rgb(152, 223, 138), rgb(196, 156, 148), rgb(148, 103, 189), rgb(152, 223, 138), rgb(152, 223, 138), rgb(152, 223, 138), rgb(152, 223, 138), rgb(127, 127, 127), rgb(152, 223, 138), rgb(152, 223, 138), rgb(255, 152, 150), rgb(219, 219, 141), rgb(188, 189, 34), rgb(152, 223, 138), rgb(152, 223, 138), rgb(152, 223, 138), rgb(152, 223, 138), rgb(152, 223, 138), rgb(152, 223, 138), rgb(152, 223, 138), rgb(152, 223, 138), rgb(174, 199, 232), rgb(152, 223, 138), rgb(152, 223, 138), rgb(152, 223, 138), rgb(148, 103, 189), rgb(152, 223, 138), rgb(227, 119, 194), rgb(152, 223, 138), rgb(148, 103, 189), rgb(152, 223, 138), rgb(152, 223, 138), rgb(152, 223, 138), rgb(152, 223, 138), rgb(152, 223, 138), rgb(148, 103, 189), rgb(152, 223, 138), rgb(148, 103, 189), rgb(152, 223, 138), rgb(148, 103, 189), rgb(148, 103, 189), rgb(152, 223, 138), rgb(199, 199, 199), rgb(148, 103, 189), rgb(152, 223, 138), rgb(152, 223, 138), rgb(152, 223, 138), rgb(148, 103, 189), rgb(152, 223, 138), rgb(127, 127, 127), rgb(247, 182, 210), rgb(152, 223, 138), rgb(152, 223, 138), rgb(196, 156, 148), rgb(152, 223, 138), rgb(152, 223, 138), rgb(31, 119, 180), rgb(152, 223, 138), rgb(152, 223, 138), rgb(219, 219, 141), rgb(152, 223, 138), rgb(174, 199, 232), rgb(127, 127, 127), rgb(127, 127, 127), rgb(152, 223, 138), rgb(199, 199, 199), rgb(152, 223, 138), rgb(127, 127, 127), rgb(152, 223, 138), rgb(148, 103, 189), rgb(148, 103, 189), rgb(152, 223, 138), rgb(152, 223, 138), rgb(196, 156, 148), rgb(152, 223, 138), rgb(196, 156, 148), rgb(255, 152, 150), rgb(199, 199, 199), rgb(152, 223, 138), rgb(148, 103, 189), rgb(152, 223, 138), rgb(148, 103, 189), rgb(152, 223, 138), rgb(148, 103, 189), rgb(152, 223, 138), rgb(148, 103, 189), rgb(152, 223, 138), rgb(152, 223, 138), rgb(152, 223, 138), rgb(152, 223, 138), rgb(152, 223, 138), rgb(196, 156, 148), rgb(196, 156, 148), rgb(152, 223, 138), rgb(227, 119, 194), rgb(152, 223, 138), rgb(152, 223, 138), rgb(152, 223, 138), rgb(127, 127, 127), rgb(152, 223, 138), rgb(31, 119, 180), rgb(152, 223, 138), rgb(255, 152, 150), rgb(152, 223, 138), rgb(148, 103, 189), rgb(127, 127, 127), rgb(152, 223, 138), rgb(152, 223, 138), rgb(152, 223, 138), rgb(214, 39, 40), rgb(148, 103, 189), rgb(152, 223, 138), rgb(127, 127, 127), rgb(152, 223, 138), rgb(227, 119, 194), rgb(148, 103, 189), rgb(152, 223, 138), rgb(196, 156, 148), rgb(152, 223, 138), rgb(152, 223, 138), rgb(148, 103, 189), rgb(152, 223, 138), rgb(152, 223, 138), rgb(152, 223, 138), rgb(152, 223, 138), rgb(152, 223, 138), rgb(152, 223, 138), rgb(152, 223, 138), rgb(152, 223, 138), rgb(152, 223, 138), rgb(152, 223, 138), rgb(148, 103, 189), rgb(127, 127, 127), rgb(148, 103, 189), rgb(199, 199, 199), rgb(219, 219, 141), rgb(127, 127, 127), rgb(127, 127, 127), rgb(127, 127, 127), rgb(152, 223, 138), rgb(148, 103, 189), rgb(214, 39, 40), rgb(152, 223, 138), rgb(152, 223, 138), rgb(152, 223, 138), rgb(152, 223, 138), rgb(152, 223, 138), rgb(152, 223, 138), rgb(152, 223, 138), rgb(174, 199, 232), rgb(255, 152, 150), rgb(152, 223, 138), rgb(152, 223, 138), rgb(148, 103, 189), rgb(199, 199, 199), rgb(152, 223, 138), rgb(152, 223, 138), rgb(214, 39, 40), rgb(152, 223, 138), rgb(127, 127, 127), rgb(148, 103, 189), rgb(152, 223, 138), rgb(152, 223, 138), rgb(152, 223, 138), rgb(152, 223, 138), rgb(152, 223, 138), rgb(152, 223, 138), rgb(174, 199, 232), rgb(152, 223, 138), rgb(152, 223, 138), rgb(127, 127, 127), rgb(152, 223, 138), rgb(152, 223, 138), rgb(152, 223, 138), rgb(127, 127, 127), rgb(127, 127, 127), rgb(152, 223, 138), rgb(174, 199, 232), rgb(148, 103, 189), rgb(152, 223, 138), rgb(152, 223, 138), rgb(148, 103, 189), rgb(152, 223, 138), rgb(152, 223, 138), rgb(152, 223, 138), rgb(152, 223, 138), rgb(148, 103, 189), rgb(127, 127, 127), rgb(148, 103, 189), rgb(152, 223, 138), rgb(148, 103, 189), rgb(152, 223, 138), rgb(152, 223, 138), rgb(152, 223, 138), rgb(188, 189, 34), rgb(152, 223, 138), rgb(152, 223, 138), rgb(152, 223, 138), rgb(148, 103, 189), rgb(31, 119, 180), rgb(152, 223, 138), rgb(148, 103, 189), rgb(152, 223, 138), rgb(148, 103, 189), rgb(148, 103, 189), rgb(214, 39, 40), rgb(127, 127, 127), rgb(127, 127, 127), rgb(174, 199, 232), rgb(152, 223, 138), rgb(174, 199, 232), rgb(152, 223, 138), rgb(152, 223, 138), rgb(152, 223, 138), rgb(127, 127, 127), rgb(152, 223, 138), rgb(148, 103, 189), rgb(152, 223, 138), rgb(152, 223, 138), rgb(148, 103, 189), rgb(255, 127, 14), rgb(148, 103, 189), rgb(152, 223, 138), rgb(148, 103, 189), rgb(127, 127, 127), rgb(196, 156, 148), rgb(148, 103, 189), rgb(152, 223, 138), rgb(152, 223, 138), rgb(152, 223, 138), rgb(148, 103, 189), rgb(152, 223, 138), rgb(255, 152, 150), rgb(152, 223, 138), rgb(148, 103, 189), rgb(148, 103, 189), rgb(148, 103, 189), rgb(127, 127, 127), rgb(152, 223, 138), rgb(127, 127, 127), rgb(255, 127, 14), rgb(152, 223, 138), rgb(31, 119, 180), rgb(152, 223, 138), rgb(152, 223, 138), rgb(152, 223, 138), rgb(152, 223, 138), rgb(152, 223, 138), rgb(148, 103, 189), rgb(152, 223, 138), rgb(152, 223, 138), rgb(148, 103, 189), rgb(152, 223, 138), rgb(196, 156, 148), rgb(152, 223, 138), rgb(152, 223, 138), rgb(174, 199, 232), rgb(152, 223, 138), rgb(152, 223, 138), rgb(148, 103, 189), rgb(152, 223, 138), rgb(148, 103, 189), rgb(174, 199, 232), rgb(148, 103, 189), rgb(174, 199, 232), rgb(127, 127, 127), rgb(174, 199, 232), rgb(148, 103, 189), rgb(247, 182, 210), rgb(152, 223, 138), rgb(148, 103, 189), rgb(148, 103, 189), rgb(152, 223, 138), rgb(127, 127, 127), rgb(214, 39, 40), rgb(152, 223, 138), rgb(152, 223, 138), rgb(127, 127, 127), rgb(148, 103, 189), rgb(148, 103, 189), rgb(152, 223, 138), rgb(148, 103, 189), rgb(152, 223, 138), rgb(152, 223, 138), rgb(152, 223, 138), rgb(199, 199, 199), rgb(148, 103, 189), rgb(148, 103, 189), rgb(152, 223, 138), rgb(148, 103, 189), rgb(127, 127, 127), rgb(255, 152, 150), rgb(148, 103, 189), rgb(127, 127, 127), rgb(152, 223, 138), rgb(152, 223, 138), rgb(227, 119, 194), rgb(196, 156, 148), rgb(255, 127, 14), rgb(152, 223, 138), rgb(152, 223, 138), rgb(196, 156, 148), rgb(152, 223, 138), rgb(148, 103, 189), rgb(174, 199, 232), rgb(227, 119, 194), rgb(152, 223, 138), rgb(152, 223, 138), rgb(152, 223, 138), rgb(152, 223, 138), rgb(152, 223, 138), rgb(152, 223, 138), rgb(152, 223, 138), rgb(188, 189, 34), rgb(152, 223, 138), rgb(152, 223, 138), rgb(152, 223, 138), rgb(148, 103, 189), rgb(148, 103, 189), rgb(127, 127, 127), rgb(148, 103, 189), rgb(152, 223, 138), rgb(196, 156, 148), rgb(152, 223, 138), rgb(152, 223, 138), rgb(127, 127, 127), rgb(255, 152, 150), rgb(148, 103, 189), rgb(31, 119, 180), rgb(152, 223, 138), rgb(199, 199, 199), rgb(255, 152, 150), rgb(127, 127, 127), rgb(152, 223, 138), rgb(148, 103, 189), rgb(247, 182, 210), rgb(152, 223, 138), rgb(196, 156, 148), rgb(31, 119, 180), rgb(219, 219, 141), rgb(152, 223, 138), rgb(255, 127, 14), rgb(152, 223, 138), rgb(174, 199, 232), rgb(148, 103, 189), rgb(188, 189, 34), rgb(31, 119, 180), rgb(152, 223, 138), rgb(148, 103, 189), rgb(152, 223, 138), rgb(152, 223, 138), rgb(152, 223, 138), rgb(152, 223, 138), rgb(196, 156, 148), rgb(247, 182, 210), rgb(197, 176, 213), rgb(174, 199, 232), rgb(31, 119, 180), rgb(152, 223, 138), rgb(152, 223, 138), rgb(152, 223, 138), rgb(152, 223, 138), rgb(199, 199, 199), rgb(152, 223, 138), rgb(152, 223, 138), rgb(127, 127, 127), rgb(148, 103, 189), rgb(148, 103, 189), rgb(255, 152, 150), rgb(152, 223, 138), rgb(152, 223, 138), rgb(127, 127, 127), rgb(152, 223, 138), rgb(255, 152, 150), rgb(214, 39, 40), rgb(152, 223, 138), rgb(214, 39, 40), rgb(152, 223, 138), rgb(188, 189, 34), rgb(152, 223, 138), rgb(127, 127, 127), rgb(152, 223, 138), rgb(174, 199, 232), rgb(152, 223, 138), rgb(152, 223, 138), rgb(152, 223, 138), rgb(174, 199, 232), rgb(148, 103, 189), rgb(214, 39, 40), rgb(152, 223, 138), rgb(196, 156, 148), rgb(196, 156, 148), rgb(127, 127, 127), rgb(127, 127, 127), rgb(127, 127, 127), rgb(152, 223, 138), rgb(152, 223, 138), rgb(152, 223, 138), rgb(148, 103, 189), rgb(148, 103, 189), rgb(152, 223, 138), rgb(152, 223, 138), rgb(152, 223, 138), rgb(255, 152, 150), rgb(152, 223, 138), rgb(174, 199, 232), rgb(152, 223, 138), rgb(152, 223, 138), rgb(148, 103, 189), rgb(219, 219, 141), rgb(127, 127, 127), rgb(127, 127, 127), rgb(127, 127, 127), rgb(152, 223, 138), rgb(152, 223, 138), rgb(148, 103, 189), rgb(196, 156, 148), rgb(152, 223, 138), rgb(247, 182, 210), rgb(127, 127, 127), rgb(152, 223, 138), rgb(152, 223, 138), rgb(199, 199, 199), rgb(152, 223, 138), rgb(227, 119, 194), rgb(127, 127, 127), rgb(152, 223, 138), rgb(152, 223, 138), rgb(196, 156, 148), rgb(148, 103, 189), rgb(148, 103, 189), rgb(152, 223, 138), rgb(152, 223, 138), rgb(152, 223, 138), rgb(152, 223, 138), rgb(127, 127, 127), rgb(148, 103, 189), rgb(152, 223, 138), rgb(148, 103, 189), rgb(152, 223, 138), rgb(152, 223, 138), rgb(148, 103, 189), rgb(148, 103, 189), rgb(219, 219, 141), rgb(199, 199, 199), rgb(152, 223, 138), rgb(148, 103, 189), rgb(152, 223, 138), rgb(152, 223, 138), rgb(152, 223, 138), rgb(152, 223, 138), rgb(152, 223, 138), rgb(152, 223, 138), rgb(152, 223, 138), rgb(255, 152, 150), rgb(31, 119, 180), rgb(196, 156, 148), rgb(152, 223, 138), rgb(152, 223, 138), rgb(152, 223, 138), rgb(152, 223, 138), rgb(152, 223, 138), rgb(148, 103, 189), rgb(196, 156, 148), rgb(152, 223, 138), rgb(148, 103, 189), rgb(227, 119, 194), rgb(152, 223, 138), rgb(148, 103, 189), rgb(152, 223, 138), rgb(219, 219, 141), rgb(255, 152, 150), rgb(152, 223, 138), rgb(152, 223, 138), rgb(152, 223, 138), rgb(31, 119, 180), rgb(152, 223, 138), rgb(148, 103, 189), rgb(152, 223, 138), rgb(152, 223, 138), rgb(255, 152, 150), rgb(148, 103, 189), rgb(152, 223, 138), rgb(255, 152, 150), rgb(227, 119, 194), rgb(148, 103, 189), rgb(152, 223, 138), rgb(127, 127, 127), rgb(31, 119, 180), rgb(152, 223, 138), rgb(127, 127, 127), rgb(152, 223, 138), rgb(152, 223, 138), rgb(152, 223, 138), rgb(127, 127, 127), rgb(196, 156, 148), rgb(152, 223, 138), rgb(188, 189, 34), rgb(152, 223, 138), rgb(127, 127, 127), rgb(152, 223, 138), rgb(152, 223, 138), rgb(152, 223, 138), rgb(255, 127, 14), rgb(152, 223, 138), rgb(152, 223, 138), rgb(152, 223, 138), rgb(196, 156, 148), rgb(196, 156, 148), rgb(174, 199, 232), rgb(152, 223, 138), rgb(152, 223, 138), rgb(148, 103, 189)]\n"
          ],
          "name": "stdout"
        },
        {
          "output_type": "display_data",
          "data": {
            "text/html": [
              "\n",
              "\n",
              "\n",
              "\n",
              "\n",
              "\n",
              "  <div class=\"bk-root\" id=\"e6909abb-59db-4a84-8ab5-6463f90af343\"></div>\n"
            ]
          },
          "metadata": {
            "tags": []
          }
        },
        {
          "output_type": "display_data",
          "data": {
            "application/javascript": [
              "(function(root) {\n",
              "  function embed_document(root) {\n",
              "    \n",
              "  var docs_json = {\"927b3132-b262-4141-84d6-c9635a9cda66\":{\"roots\":{\"references\":[{\"attributes\":{\"bottom_units\":\"screen\",\"fill_alpha\":{\"value\":0.5},\"fill_color\":{\"value\":\"lightgrey\"},\"left_units\":\"screen\",\"level\":\"overlay\",\"line_alpha\":{\"value\":1.0},\"line_color\":{\"value\":\"black\"},\"line_dash\":[4,4],\"line_width\":{\"value\":2},\"plot\":null,\"render_mode\":\"css\",\"right_units\":\"screen\",\"top_units\":\"screen\"},\"id\":\"df269f88-544b-42d4-b0d6-d92f04ba56ac\",\"type\":\"BoxAnnotation\"},{\"attributes\":{\"fill_alpha\":{\"value\":0.25},\"fill_color\":{\"field\":\"color\"},\"line_alpha\":{\"value\":0.25},\"line_color\":{\"field\":\"color\"},\"size\":{\"units\":\"screen\",\"value\":10},\"x\":{\"field\":\"x\"},\"y\":{\"field\":\"y\"}},\"id\":\"8c98f48a-14c5-4583-8d1b-144aaf896458\",\"type\":\"Circle\"},{\"attributes\":{\"callback\":null,\"renderers\":\"auto\",\"tooltips\":[[\"token\",\"@token\"]]},\"id\":\"df889c25-4df9-451f-b510-04a8e54ec81c\",\"type\":\"HoverTool\"},{\"attributes\":{\"fill_alpha\":{\"value\":0.1},\"fill_color\":{\"value\":\"#1f77b4\"},\"line_alpha\":{\"value\":0.1},\"line_color\":{\"value\":\"#1f77b4\"},\"size\":{\"units\":\"screen\",\"value\":10},\"x\":{\"field\":\"x\"},\"y\":{\"field\":\"y\"}},\"id\":\"d6603fac-932d-4a95-ad9c-dc7f82281080\",\"type\":\"Circle\"},{\"attributes\":{},\"id\":\"b5e2e171-d652-4df9-abcd-cee2f0dcc529\",\"type\":\"LinearScale\"},{\"attributes\":{\"below\":[{\"id\":\"50655745-bd61-4265-a38e-82d1629230a9\",\"type\":\"LinearAxis\"}],\"left\":[{\"id\":\"9ce774f7-b468-4bb1-837e-b2030f271a69\",\"type\":\"LinearAxis\"}],\"plot_height\":400,\"renderers\":[{\"id\":\"50655745-bd61-4265-a38e-82d1629230a9\",\"type\":\"LinearAxis\"},{\"id\":\"005bdc55-e2d8-4816-bf56-8707f9bebf71\",\"type\":\"Grid\"},{\"id\":\"9ce774f7-b468-4bb1-837e-b2030f271a69\",\"type\":\"LinearAxis\"},{\"id\":\"372633c0-9008-4538-b64d-ffa67171e5c5\",\"type\":\"Grid\"},{\"id\":\"df269f88-544b-42d4-b0d6-d92f04ba56ac\",\"type\":\"BoxAnnotation\"},{\"id\":\"c8017ba6-cb8e-4ae3-b685-0c2d7e6f67b7\",\"type\":\"GlyphRenderer\"}],\"title\":{\"id\":\"8acf7813-c963-4fb3-916c-6b45423432a7\",\"type\":\"Title\"},\"toolbar\":{\"id\":\"d1951feb-5e0e-44ac-bbf7-170191577258\",\"type\":\"Toolbar\"},\"x_range\":{\"id\":\"bebff249-6e4b-45a8-9a48-f67b801a0dbb\",\"type\":\"DataRange1d\"},\"x_scale\":{\"id\":\"2ba0168f-4c45-4c41-ad9d-2aea2332ebc4\",\"type\":\"LinearScale\"},\"y_range\":{\"id\":\"6f7f296e-f09e-4e58-b8a5-8fbfbeb97f53\",\"type\":\"DataRange1d\"},\"y_scale\":{\"id\":\"b5e2e171-d652-4df9-abcd-cee2f0dcc529\",\"type\":\"LinearScale\"}},\"id\":\"5baf2139-71fe-4e16-a41c-43eec963f29b\",\"subtype\":\"Figure\",\"type\":\"Plot\"},{\"attributes\":{},\"id\":\"e28704e7-64bb-4a95-a552-1b1c89ebf254\",\"type\":\"PanTool\"},{\"attributes\":{\"plot\":null,\"text\":\"\"},\"id\":\"8acf7813-c963-4fb3-916c-6b45423432a7\",\"type\":\"Title\"},{\"attributes\":{\"callback\":null},\"id\":\"bebff249-6e4b-45a8-9a48-f67b801a0dbb\",\"type\":\"DataRange1d\"},{\"attributes\":{\"callback\":null},\"id\":\"6f7f296e-f09e-4e58-b8a5-8fbfbeb97f53\",\"type\":\"DataRange1d\"},{\"attributes\":{\"data_source\":{\"id\":\"4fd8fd8e-86ee-4d1f-96b2-5485c889a290\",\"type\":\"ColumnDataSource\"},\"glyph\":{\"id\":\"8c98f48a-14c5-4583-8d1b-144aaf896458\",\"type\":\"Circle\"},\"hover_glyph\":null,\"muted_glyph\":null,\"nonselection_glyph\":{\"id\":\"d6603fac-932d-4a95-ad9c-dc7f82281080\",\"type\":\"Circle\"},\"selection_glyph\":null,\"view\":{\"id\":\"8295359f-568f-4ea8-96fd-53e0606165a3\",\"type\":\"CDSView\"}},\"id\":\"c8017ba6-cb8e-4ae3-b685-0c2d7e6f67b7\",\"type\":\"GlyphRenderer\"},{\"attributes\":{},\"id\":\"81c91d0f-1a3a-4e62-8153-ccbc9bd02096\",\"type\":\"WheelZoomTool\"},{\"attributes\":{\"overlay\":{\"id\":\"df269f88-544b-42d4-b0d6-d92f04ba56ac\",\"type\":\"BoxAnnotation\"}},\"id\":\"48dfce05-d1a2-444e-940c-83b9c745f696\",\"type\":\"BoxZoomTool\"},{\"attributes\":{},\"id\":\"8b58a9d4-6790-4891-85b6-e058810dafea\",\"type\":\"SaveTool\"},{\"attributes\":{},\"id\":\"64373bc6-941d-4fec-a2a1-6a4c75457b0e\",\"type\":\"ResetTool\"},{\"attributes\":{},\"id\":\"d64b91bb-3192-454f-a81f-13ef2b58a8f3\",\"type\":\"HelpTool\"},{\"attributes\":{},\"id\":\"5dd23adb-fb60-468b-9ee7-2b0b8da1cc61\",\"type\":\"BasicTickFormatter\"},{\"attributes\":{\"formatter\":{\"id\":\"5dd23adb-fb60-468b-9ee7-2b0b8da1cc61\",\"type\":\"BasicTickFormatter\"},\"plot\":{\"id\":\"5baf2139-71fe-4e16-a41c-43eec963f29b\",\"subtype\":\"Figure\",\"type\":\"Plot\"},\"ticker\":{\"id\":\"ef179bfa-0a7e-453a-96df-e37712eb040b\",\"type\":\"BasicTicker\"}},\"id\":\"50655745-bd61-4265-a38e-82d1629230a9\",\"type\":\"LinearAxis\"},{\"attributes\":{},\"id\":\"ef179bfa-0a7e-453a-96df-e37712eb040b\",\"type\":\"BasicTicker\"},{\"attributes\":{\"source\":{\"id\":\"4fd8fd8e-86ee-4d1f-96b2-5485c889a290\",\"type\":\"ColumnDataSource\"}},\"id\":\"8295359f-568f-4ea8-96fd-53e0606165a3\",\"type\":\"CDSView\"},{\"attributes\":{},\"id\":\"2ba0168f-4c45-4c41-ad9d-2aea2332ebc4\",\"type\":\"LinearScale\"},{\"attributes\":{},\"id\":\"c71b5822-c7ad-409e-955a-4715b6bf34eb\",\"type\":\"BasicTickFormatter\"},{\"attributes\":{\"plot\":{\"id\":\"5baf2139-71fe-4e16-a41c-43eec963f29b\",\"subtype\":\"Figure\",\"type\":\"Plot\"},\"ticker\":{\"id\":\"ef179bfa-0a7e-453a-96df-e37712eb040b\",\"type\":\"BasicTicker\"}},\"id\":\"005bdc55-e2d8-4816-bf56-8707f9bebf71\",\"type\":\"Grid\"},{\"attributes\":{\"callback\":null,\"data\":{\"color\":[\"rgb(152, 223, 138)\",\"rgb(148, 103, 189)\",\"rgb(148, 103, 189)\",\"rgb(174, 199, 232)\",\"rgb(152, 223, 138)\",\"rgb(127, 127, 127)\",\"rgb(127, 127, 127)\",\"rgb(127, 127, 127)\",\"rgb(127, 127, 127)\",\"rgb(152, 223, 138)\",\"rgb(199, 199, 199)\",\"rgb(152, 223, 138)\",\"rgb(152, 223, 138)\",\"rgb(196, 156, 148)\",\"rgb(148, 103, 189)\",\"rgb(152, 223, 138)\",\"rgb(174, 199, 232)\",\"rgb(152, 223, 138)\",\"rgb(152, 223, 138)\",\"rgb(152, 223, 138)\",\"rgb(127, 127, 127)\",\"rgb(152, 223, 138)\",\"rgb(127, 127, 127)\",\"rgb(148, 103, 189)\",\"rgb(152, 223, 138)\",\"rgb(127, 127, 127)\",\"rgb(152, 223, 138)\",\"rgb(127, 127, 127)\",\"rgb(152, 223, 138)\",\"rgb(152, 223, 138)\",\"rgb(152, 223, 138)\",\"rgb(152, 223, 138)\",\"rgb(214, 39, 40)\",\"rgb(148, 103, 189)\",\"rgb(255, 152, 150)\",\"rgb(148, 103, 189)\",\"rgb(148, 103, 189)\",\"rgb(127, 127, 127)\",\"rgb(199, 199, 199)\",\"rgb(148, 103, 189)\",\"rgb(174, 199, 232)\",\"rgb(127, 127, 127)\",\"rgb(140, 86, 75)\",\"rgb(127, 127, 127)\",\"rgb(152, 223, 138)\",\"rgb(152, 223, 138)\",\"rgb(214, 39, 40)\",\"rgb(214, 39, 40)\",\"rgb(152, 223, 138)\",\"rgb(152, 223, 138)\",\"rgb(174, 199, 232)\",\"rgb(152, 223, 138)\",\"rgb(152, 223, 138)\",\"rgb(152, 223, 138)\",\"rgb(196, 156, 148)\",\"rgb(174, 199, 232)\",\"rgb(219, 219, 141)\",\"rgb(152, 223, 138)\",\"rgb(148, 103, 189)\",\"rgb(152, 223, 138)\",\"rgb(152, 223, 138)\",\"rgb(255, 152, 150)\",\"rgb(152, 223, 138)\",\"rgb(152, 223, 138)\",\"rgb(199, 199, 199)\",\"rgb(152, 223, 138)\",\"rgb(152, 223, 138)\",\"rgb(127, 127, 127)\",\"rgb(152, 223, 138)\",\"rgb(227, 119, 194)\",\"rgb(148, 103, 189)\",\"rgb(152, 223, 138)\",\"rgb(152, 223, 138)\",\"rgb(31, 119, 180)\",\"rgb(152, 223, 138)\",\"rgb(152, 223, 138)\",\"rgb(152, 223, 138)\",\"rgb(127, 127, 127)\",\"rgb(148, 103, 189)\",\"rgb(174, 199, 232)\",\"rgb(152, 223, 138)\",\"rgb(152, 223, 138)\",\"rgb(152, 223, 138)\",\"rgb(148, 103, 189)\",\"rgb(152, 223, 138)\",\"rgb(127, 127, 127)\",\"rgb(152, 223, 138)\",\"rgb(152, 223, 138)\",\"rgb(214, 39, 40)\",\"rgb(152, 223, 138)\",\"rgb(148, 103, 189)\",\"rgb(214, 39, 40)\",\"rgb(44, 160, 44)\",\"rgb(152, 223, 138)\",\"rgb(148, 103, 189)\",\"rgb(152, 223, 138)\",\"rgb(152, 223, 138)\",\"rgb(152, 223, 138)\",\"rgb(152, 223, 138)\",\"rgb(152, 223, 138)\",\"rgb(152, 223, 138)\",\"rgb(152, 223, 138)\",\"rgb(255, 152, 150)\",\"rgb(196, 156, 148)\",\"rgb(199, 199, 199)\",\"rgb(174, 199, 232)\",\"rgb(152, 223, 138)\",\"rgb(188, 189, 34)\",\"rgb(148, 103, 189)\",\"rgb(152, 223, 138)\",\"rgb(152, 223, 138)\",\"rgb(152, 223, 138)\",\"rgb(127, 127, 127)\",\"rgb(174, 199, 232)\",\"rgb(152, 223, 138)\",\"rgb(152, 223, 138)\",\"rgb(255, 152, 150)\",\"rgb(148, 103, 189)\",\"rgb(148, 103, 189)\",\"rgb(152, 223, 138)\",\"rgb(152, 223, 138)\",\"rgb(152, 223, 138)\",\"rgb(152, 223, 138)\",\"rgb(152, 223, 138)\",\"rgb(152, 223, 138)\",\"rgb(152, 223, 138)\",\"rgb(152, 223, 138)\",\"rgb(127, 127, 127)\",\"rgb(152, 223, 138)\",\"rgb(152, 223, 138)\",\"rgb(152, 223, 138)\",\"rgb(214, 39, 40)\",\"rgb(148, 103, 189)\",\"rgb(255, 152, 150)\",\"rgb(148, 103, 189)\",\"rgb(196, 156, 148)\",\"rgb(152, 223, 138)\",\"rgb(127, 127, 127)\",\"rgb(127, 127, 127)\",\"rgb(152, 223, 138)\",\"rgb(199, 199, 199)\",\"rgb(227, 119, 194)\",\"rgb(148, 103, 189)\",\"rgb(152, 223, 138)\",\"rgb(127, 127, 127)\",\"rgb(152, 223, 138)\",\"rgb(188, 189, 34)\",\"rgb(152, 223, 138)\",\"rgb(152, 223, 138)\",\"rgb(148, 103, 189)\",\"rgb(255, 127, 14)\",\"rgb(152, 223, 138)\",\"rgb(148, 103, 189)\",\"rgb(152, 223, 138)\",\"rgb(152, 223, 138)\",\"rgb(152, 223, 138)\",\"rgb(148, 103, 189)\",\"rgb(152, 223, 138)\",\"rgb(148, 103, 189)\",\"rgb(127, 127, 127)\",\"rgb(152, 223, 138)\",\"rgb(148, 103, 189)\",\"rgb(152, 223, 138)\",\"rgb(152, 223, 138)\",\"rgb(152, 223, 138)\",\"rgb(152, 223, 138)\",\"rgb(152, 223, 138)\",\"rgb(152, 223, 138)\",\"rgb(127, 127, 127)\",\"rgb(152, 223, 138)\",\"rgb(255, 152, 150)\",\"rgb(152, 223, 138)\",\"rgb(148, 103, 189)\",\"rgb(152, 223, 138)\",\"rgb(152, 223, 138)\",\"rgb(152, 223, 138)\",\"rgb(174, 199, 232)\",\"rgb(148, 103, 189)\",\"rgb(255, 152, 150)\",\"rgb(152, 223, 138)\",\"rgb(152, 223, 138)\",\"rgb(152, 223, 138)\",\"rgb(152, 223, 138)\",\"rgb(127, 127, 127)\",\"rgb(127, 127, 127)\",\"rgb(174, 199, 232)\",\"rgb(227, 119, 194)\",\"rgb(188, 189, 34)\",\"rgb(148, 103, 189)\",\"rgb(255, 152, 150)\",\"rgb(152, 223, 138)\",\"rgb(148, 103, 189)\",\"rgb(152, 223, 138)\",\"rgb(127, 127, 127)\",\"rgb(152, 223, 138)\",\"rgb(127, 127, 127)\",\"rgb(174, 199, 232)\",\"rgb(152, 223, 138)\",\"rgb(148, 103, 189)\",\"rgb(174, 199, 232)\",\"rgb(152, 223, 138)\",\"rgb(127, 127, 127)\",\"rgb(148, 103, 189)\",\"rgb(152, 223, 138)\",\"rgb(127, 127, 127)\",\"rgb(148, 103, 189)\",\"rgb(140, 86, 75)\",\"rgb(255, 127, 14)\",\"rgb(152, 223, 138)\",\"rgb(152, 223, 138)\",\"rgb(255, 152, 150)\",\"rgb(148, 103, 189)\",\"rgb(148, 103, 189)\",\"rgb(148, 103, 189)\",\"rgb(152, 223, 138)\",\"rgb(152, 223, 138)\",\"rgb(174, 199, 232)\",\"rgb(255, 152, 150)\",\"rgb(152, 223, 138)\",\"rgb(219, 219, 141)\",\"rgb(148, 103, 189)\",\"rgb(148, 103, 189)\",\"rgb(255, 152, 150)\",\"rgb(152, 223, 138)\",\"rgb(148, 103, 189)\",\"rgb(152, 223, 138)\",\"rgb(255, 152, 150)\",\"rgb(174, 199, 232)\",\"rgb(127, 127, 127)\",\"rgb(148, 103, 189)\",\"rgb(152, 223, 138)\",\"rgb(174, 199, 232)\",\"rgb(152, 223, 138)\",\"rgb(152, 223, 138)\",\"rgb(152, 223, 138)\",\"rgb(152, 223, 138)\",\"rgb(127, 127, 127)\",\"rgb(152, 223, 138)\",\"rgb(152, 223, 138)\",\"rgb(152, 223, 138)\",\"rgb(152, 223, 138)\",\"rgb(148, 103, 189)\",\"rgb(127, 127, 127)\",\"rgb(152, 223, 138)\",\"rgb(152, 223, 138)\",\"rgb(152, 223, 138)\",\"rgb(152, 223, 138)\",\"rgb(197, 176, 213)\",\"rgb(174, 199, 232)\",\"rgb(152, 223, 138)\",\"rgb(127, 127, 127)\",\"rgb(152, 223, 138)\",\"rgb(152, 223, 138)\",\"rgb(152, 223, 138)\",\"rgb(152, 223, 138)\",\"rgb(152, 223, 138)\",\"rgb(152, 223, 138)\",\"rgb(152, 223, 138)\",\"rgb(152, 223, 138)\",\"rgb(152, 223, 138)\",\"rgb(152, 223, 138)\",\"rgb(148, 103, 189)\",\"rgb(174, 199, 232)\",\"rgb(148, 103, 189)\",\"rgb(219, 219, 141)\",\"rgb(148, 103, 189)\",\"rgb(152, 223, 138)\",\"rgb(196, 156, 148)\",\"rgb(152, 223, 138)\",\"rgb(152, 223, 138)\",\"rgb(152, 223, 138)\",\"rgb(148, 103, 189)\",\"rgb(152, 223, 138)\",\"rgb(152, 223, 138)\",\"rgb(148, 103, 189)\",\"rgb(219, 219, 141)\",\"rgb(152, 223, 138)\",\"rgb(152, 223, 138)\",\"rgb(255, 152, 150)\",\"rgb(127, 127, 127)\",\"rgb(152, 223, 138)\",\"rgb(219, 219, 141)\",\"rgb(255, 152, 150)\",\"rgb(196, 156, 148)\",\"rgb(152, 223, 138)\",\"rgb(127, 127, 127)\",\"rgb(152, 223, 138)\",\"rgb(148, 103, 189)\",\"rgb(127, 127, 127)\",\"rgb(127, 127, 127)\",\"rgb(152, 223, 138)\",\"rgb(127, 127, 127)\",\"rgb(148, 103, 189)\",\"rgb(148, 103, 189)\",\"rgb(152, 223, 138)\",\"rgb(148, 103, 189)\",\"rgb(31, 119, 180)\",\"rgb(127, 127, 127)\",\"rgb(152, 223, 138)\",\"rgb(152, 223, 138)\",\"rgb(255, 152, 150)\",\"rgb(127, 127, 127)\",\"rgb(152, 223, 138)\",\"rgb(152, 223, 138)\",\"rgb(152, 223, 138)\",\"rgb(152, 223, 138)\",\"rgb(152, 223, 138)\",\"rgb(148, 103, 189)\",\"rgb(148, 103, 189)\",\"rgb(148, 103, 189)\",\"rgb(255, 127, 14)\",\"rgb(152, 223, 138)\",\"rgb(214, 39, 40)\",\"rgb(148, 103, 189)\",\"rgb(152, 223, 138)\",\"rgb(148, 103, 189)\",\"rgb(148, 103, 189)\",\"rgb(214, 39, 40)\",\"rgb(31, 119, 180)\",\"rgb(127, 127, 127)\",\"rgb(148, 103, 189)\",\"rgb(152, 223, 138)\",\"rgb(148, 103, 189)\",\"rgb(127, 127, 127)\",\"rgb(127, 127, 127)\",\"rgb(152, 223, 138)\",\"rgb(174, 199, 232)\",\"rgb(148, 103, 189)\",\"rgb(152, 223, 138)\",\"rgb(174, 199, 232)\",\"rgb(152, 223, 138)\",\"rgb(152, 223, 138)\",\"rgb(31, 119, 180)\",\"rgb(152, 223, 138)\",\"rgb(255, 127, 14)\",\"rgb(214, 39, 40)\",\"rgb(174, 199, 232)\",\"rgb(31, 119, 180)\",\"rgb(152, 223, 138)\",\"rgb(152, 223, 138)\",\"rgb(148, 103, 189)\",\"rgb(152, 223, 138)\",\"rgb(127, 127, 127)\",\"rgb(152, 223, 138)\",\"rgb(152, 223, 138)\",\"rgb(148, 103, 189)\",\"rgb(148, 103, 189)\",\"rgb(152, 223, 138)\",\"rgb(196, 156, 148)\",\"rgb(152, 223, 138)\",\"rgb(148, 103, 189)\",\"rgb(152, 223, 138)\",\"rgb(152, 223, 138)\",\"rgb(152, 223, 138)\",\"rgb(247, 182, 210)\",\"rgb(174, 199, 232)\",\"rgb(127, 127, 127)\",\"rgb(31, 119, 180)\",\"rgb(31, 119, 180)\",\"rgb(152, 223, 138)\",\"rgb(152, 223, 138)\",\"rgb(127, 127, 127)\",\"rgb(152, 223, 138)\",\"rgb(31, 119, 180)\",\"rgb(255, 127, 14)\",\"rgb(196, 156, 148)\",\"rgb(152, 223, 138)\",\"rgb(152, 223, 138)\",\"rgb(148, 103, 189)\",\"rgb(44, 160, 44)\",\"rgb(152, 223, 138)\",\"rgb(152, 223, 138)\",\"rgb(148, 103, 189)\",\"rgb(174, 199, 232)\",\"rgb(152, 223, 138)\",\"rgb(196, 156, 148)\",\"rgb(152, 223, 138)\",\"rgb(152, 223, 138)\",\"rgb(127, 127, 127)\",\"rgb(44, 160, 44)\",\"rgb(152, 223, 138)\",\"rgb(196, 156, 148)\",\"rgb(148, 103, 189)\",\"rgb(174, 199, 232)\",\"rgb(152, 223, 138)\",\"rgb(148, 103, 189)\",\"rgb(127, 127, 127)\",\"rgb(127, 127, 127)\",\"rgb(148, 103, 189)\",\"rgb(152, 223, 138)\",\"rgb(127, 127, 127)\",\"rgb(174, 199, 232)\",\"rgb(127, 127, 127)\",\"rgb(152, 223, 138)\",\"rgb(255, 152, 150)\",\"rgb(148, 103, 189)\",\"rgb(152, 223, 138)\",\"rgb(148, 103, 189)\",\"rgb(127, 127, 127)\",\"rgb(152, 223, 138)\",\"rgb(214, 39, 40)\",\"rgb(152, 223, 138)\",\"rgb(152, 223, 138)\",\"rgb(148, 103, 189)\",\"rgb(174, 199, 232)\",\"rgb(152, 223, 138)\",\"rgb(152, 223, 138)\",\"rgb(31, 119, 180)\",\"rgb(152, 223, 138)\",\"rgb(152, 223, 138)\",\"rgb(148, 103, 189)\",\"rgb(152, 223, 138)\",\"rgb(152, 223, 138)\",\"rgb(152, 223, 138)\",\"rgb(152, 223, 138)\",\"rgb(127, 127, 127)\",\"rgb(127, 127, 127)\",\"rgb(148, 103, 189)\",\"rgb(152, 223, 138)\",\"rgb(255, 127, 14)\",\"rgb(214, 39, 40)\",\"rgb(148, 103, 189)\",\"rgb(152, 223, 138)\",\"rgb(152, 223, 138)\",\"rgb(127, 127, 127)\",\"rgb(199, 199, 199)\",\"rgb(148, 103, 189)\",\"rgb(152, 223, 138)\",\"rgb(219, 219, 141)\",\"rgb(199, 199, 199)\",\"rgb(148, 103, 189)\",\"rgb(152, 223, 138)\",\"rgb(174, 199, 232)\",\"rgb(152, 223, 138)\",\"rgb(152, 223, 138)\",\"rgb(255, 127, 14)\",\"rgb(148, 103, 189)\",\"rgb(214, 39, 40)\",\"rgb(152, 223, 138)\",\"rgb(148, 103, 189)\",\"rgb(255, 152, 150)\",\"rgb(152, 223, 138)\",\"rgb(152, 223, 138)\",\"rgb(152, 223, 138)\",\"rgb(152, 223, 138)\",\"rgb(152, 223, 138)\",\"rgb(148, 103, 189)\",\"rgb(255, 127, 14)\",\"rgb(148, 103, 189)\",\"rgb(152, 223, 138)\",\"rgb(152, 223, 138)\",\"rgb(152, 223, 138)\",\"rgb(152, 223, 138)\",\"rgb(152, 223, 138)\",\"rgb(196, 156, 148)\",\"rgb(152, 223, 138)\",\"rgb(152, 223, 138)\",\"rgb(196, 156, 148)\",\"rgb(152, 223, 138)\",\"rgb(127, 127, 127)\",\"rgb(148, 103, 189)\",\"rgb(152, 223, 138)\",\"rgb(152, 223, 138)\",\"rgb(152, 223, 138)\",\"rgb(174, 199, 232)\",\"rgb(148, 103, 189)\",\"rgb(152, 223, 138)\",\"rgb(148, 103, 189)\",\"rgb(219, 219, 141)\",\"rgb(152, 223, 138)\",\"rgb(152, 223, 138)\",\"rgb(152, 223, 138)\",\"rgb(152, 223, 138)\",\"rgb(148, 103, 189)\",\"rgb(152, 223, 138)\",\"rgb(214, 39, 40)\",\"rgb(255, 152, 150)\",\"rgb(174, 199, 232)\",\"rgb(152, 223, 138)\",\"rgb(188, 189, 34)\",\"rgb(148, 103, 189)\",\"rgb(148, 103, 189)\",\"rgb(152, 223, 138)\",\"rgb(127, 127, 127)\",\"rgb(255, 187, 120)\",\"rgb(152, 223, 138)\",\"rgb(152, 223, 138)\",\"rgb(152, 223, 138)\",\"rgb(196, 156, 148)\",\"rgb(148, 103, 189)\",\"rgb(152, 223, 138)\",\"rgb(152, 223, 138)\",\"rgb(152, 223, 138)\",\"rgb(152, 223, 138)\",\"rgb(127, 127, 127)\",\"rgb(152, 223, 138)\",\"rgb(152, 223, 138)\",\"rgb(255, 152, 150)\",\"rgb(219, 219, 141)\",\"rgb(188, 189, 34)\",\"rgb(152, 223, 138)\",\"rgb(152, 223, 138)\",\"rgb(152, 223, 138)\",\"rgb(152, 223, 138)\",\"rgb(152, 223, 138)\",\"rgb(152, 223, 138)\",\"rgb(152, 223, 138)\",\"rgb(152, 223, 138)\",\"rgb(174, 199, 232)\",\"rgb(152, 223, 138)\",\"rgb(152, 223, 138)\",\"rgb(152, 223, 138)\",\"rgb(148, 103, 189)\",\"rgb(152, 223, 138)\",\"rgb(227, 119, 194)\",\"rgb(152, 223, 138)\",\"rgb(148, 103, 189)\",\"rgb(152, 223, 138)\",\"rgb(152, 223, 138)\",\"rgb(152, 223, 138)\",\"rgb(152, 223, 138)\",\"rgb(152, 223, 138)\",\"rgb(148, 103, 189)\",\"rgb(152, 223, 138)\",\"rgb(148, 103, 189)\",\"rgb(152, 223, 138)\",\"rgb(148, 103, 189)\",\"rgb(148, 103, 189)\",\"rgb(152, 223, 138)\",\"rgb(199, 199, 199)\",\"rgb(148, 103, 189)\",\"rgb(152, 223, 138)\",\"rgb(152, 223, 138)\",\"rgb(152, 223, 138)\",\"rgb(148, 103, 189)\",\"rgb(152, 223, 138)\",\"rgb(127, 127, 127)\",\"rgb(247, 182, 210)\",\"rgb(152, 223, 138)\",\"rgb(152, 223, 138)\",\"rgb(196, 156, 148)\",\"rgb(152, 223, 138)\",\"rgb(152, 223, 138)\",\"rgb(31, 119, 180)\",\"rgb(152, 223, 138)\",\"rgb(152, 223, 138)\",\"rgb(219, 219, 141)\",\"rgb(152, 223, 138)\",\"rgb(174, 199, 232)\",\"rgb(127, 127, 127)\",\"rgb(127, 127, 127)\",\"rgb(152, 223, 138)\",\"rgb(199, 199, 199)\",\"rgb(152, 223, 138)\",\"rgb(127, 127, 127)\",\"rgb(152, 223, 138)\",\"rgb(148, 103, 189)\",\"rgb(148, 103, 189)\",\"rgb(152, 223, 138)\",\"rgb(152, 223, 138)\",\"rgb(196, 156, 148)\",\"rgb(152, 223, 138)\",\"rgb(196, 156, 148)\",\"rgb(255, 152, 150)\",\"rgb(199, 199, 199)\",\"rgb(152, 223, 138)\",\"rgb(148, 103, 189)\",\"rgb(152, 223, 138)\",\"rgb(148, 103, 189)\",\"rgb(152, 223, 138)\",\"rgb(148, 103, 189)\",\"rgb(152, 223, 138)\",\"rgb(148, 103, 189)\",\"rgb(152, 223, 138)\",\"rgb(152, 223, 138)\",\"rgb(152, 223, 138)\",\"rgb(152, 223, 138)\",\"rgb(152, 223, 138)\",\"rgb(196, 156, 148)\",\"rgb(196, 156, 148)\",\"rgb(152, 223, 138)\",\"rgb(227, 119, 194)\",\"rgb(152, 223, 138)\",\"rgb(152, 223, 138)\",\"rgb(152, 223, 138)\",\"rgb(127, 127, 127)\",\"rgb(152, 223, 138)\",\"rgb(31, 119, 180)\",\"rgb(152, 223, 138)\",\"rgb(255, 152, 150)\",\"rgb(152, 223, 138)\",\"rgb(148, 103, 189)\",\"rgb(127, 127, 127)\",\"rgb(152, 223, 138)\",\"rgb(152, 223, 138)\",\"rgb(152, 223, 138)\",\"rgb(214, 39, 40)\",\"rgb(148, 103, 189)\",\"rgb(152, 223, 138)\",\"rgb(127, 127, 127)\",\"rgb(152, 223, 138)\",\"rgb(227, 119, 194)\",\"rgb(148, 103, 189)\",\"rgb(152, 223, 138)\",\"rgb(196, 156, 148)\",\"rgb(152, 223, 138)\",\"rgb(152, 223, 138)\",\"rgb(148, 103, 189)\",\"rgb(152, 223, 138)\",\"rgb(152, 223, 138)\",\"rgb(152, 223, 138)\",\"rgb(152, 223, 138)\",\"rgb(152, 223, 138)\",\"rgb(152, 223, 138)\",\"rgb(152, 223, 138)\",\"rgb(152, 223, 138)\",\"rgb(152, 223, 138)\",\"rgb(152, 223, 138)\",\"rgb(148, 103, 189)\",\"rgb(127, 127, 127)\",\"rgb(148, 103, 189)\",\"rgb(199, 199, 199)\",\"rgb(219, 219, 141)\",\"rgb(127, 127, 127)\",\"rgb(127, 127, 127)\",\"rgb(127, 127, 127)\",\"rgb(152, 223, 138)\",\"rgb(148, 103, 189)\",\"rgb(214, 39, 40)\",\"rgb(152, 223, 138)\",\"rgb(152, 223, 138)\",\"rgb(152, 223, 138)\",\"rgb(152, 223, 138)\",\"rgb(152, 223, 138)\",\"rgb(152, 223, 138)\",\"rgb(152, 223, 138)\",\"rgb(174, 199, 232)\",\"rgb(255, 152, 150)\",\"rgb(152, 223, 138)\",\"rgb(152, 223, 138)\",\"rgb(148, 103, 189)\",\"rgb(199, 199, 199)\",\"rgb(152, 223, 138)\",\"rgb(152, 223, 138)\",\"rgb(214, 39, 40)\",\"rgb(152, 223, 138)\",\"rgb(127, 127, 127)\",\"rgb(148, 103, 189)\",\"rgb(152, 223, 138)\",\"rgb(152, 223, 138)\",\"rgb(152, 223, 138)\",\"rgb(152, 223, 138)\",\"rgb(152, 223, 138)\",\"rgb(152, 223, 138)\",\"rgb(174, 199, 232)\",\"rgb(152, 223, 138)\",\"rgb(152, 223, 138)\",\"rgb(127, 127, 127)\",\"rgb(152, 223, 138)\",\"rgb(152, 223, 138)\",\"rgb(152, 223, 138)\",\"rgb(127, 127, 127)\",\"rgb(127, 127, 127)\",\"rgb(152, 223, 138)\",\"rgb(174, 199, 232)\",\"rgb(148, 103, 189)\",\"rgb(152, 223, 138)\",\"rgb(152, 223, 138)\",\"rgb(148, 103, 189)\",\"rgb(152, 223, 138)\",\"rgb(152, 223, 138)\",\"rgb(152, 223, 138)\",\"rgb(152, 223, 138)\",\"rgb(148, 103, 189)\",\"rgb(127, 127, 127)\",\"rgb(148, 103, 189)\",\"rgb(152, 223, 138)\",\"rgb(148, 103, 189)\",\"rgb(152, 223, 138)\",\"rgb(152, 223, 138)\",\"rgb(152, 223, 138)\",\"rgb(188, 189, 34)\",\"rgb(152, 223, 138)\",\"rgb(152, 223, 138)\",\"rgb(152, 223, 138)\",\"rgb(148, 103, 189)\",\"rgb(31, 119, 180)\",\"rgb(152, 223, 138)\",\"rgb(148, 103, 189)\",\"rgb(152, 223, 138)\",\"rgb(148, 103, 189)\",\"rgb(148, 103, 189)\",\"rgb(214, 39, 40)\",\"rgb(127, 127, 127)\",\"rgb(127, 127, 127)\",\"rgb(174, 199, 232)\",\"rgb(152, 223, 138)\",\"rgb(174, 199, 232)\",\"rgb(152, 223, 138)\",\"rgb(152, 223, 138)\",\"rgb(152, 223, 138)\",\"rgb(127, 127, 127)\",\"rgb(152, 223, 138)\",\"rgb(148, 103, 189)\",\"rgb(152, 223, 138)\",\"rgb(152, 223, 138)\",\"rgb(148, 103, 189)\",\"rgb(255, 127, 14)\",\"rgb(148, 103, 189)\",\"rgb(152, 223, 138)\",\"rgb(148, 103, 189)\",\"rgb(127, 127, 127)\",\"rgb(196, 156, 148)\",\"rgb(148, 103, 189)\",\"rgb(152, 223, 138)\",\"rgb(152, 223, 138)\",\"rgb(152, 223, 138)\",\"rgb(148, 103, 189)\",\"rgb(152, 223, 138)\",\"rgb(255, 152, 150)\",\"rgb(152, 223, 138)\",\"rgb(148, 103, 189)\",\"rgb(148, 103, 189)\",\"rgb(148, 103, 189)\",\"rgb(127, 127, 127)\",\"rgb(152, 223, 138)\",\"rgb(127, 127, 127)\",\"rgb(255, 127, 14)\",\"rgb(152, 223, 138)\",\"rgb(31, 119, 180)\",\"rgb(152, 223, 138)\",\"rgb(152, 223, 138)\",\"rgb(152, 223, 138)\",\"rgb(152, 223, 138)\",\"rgb(152, 223, 138)\",\"rgb(148, 103, 189)\",\"rgb(152, 223, 138)\",\"rgb(152, 223, 138)\",\"rgb(148, 103, 189)\",\"rgb(152, 223, 138)\",\"rgb(196, 156, 148)\",\"rgb(152, 223, 138)\",\"rgb(152, 223, 138)\",\"rgb(174, 199, 232)\",\"rgb(152, 223, 138)\",\"rgb(152, 223, 138)\",\"rgb(148, 103, 189)\",\"rgb(152, 223, 138)\",\"rgb(148, 103, 189)\",\"rgb(174, 199, 232)\",\"rgb(148, 103, 189)\",\"rgb(174, 199, 232)\",\"rgb(127, 127, 127)\",\"rgb(174, 199, 232)\",\"rgb(148, 103, 189)\",\"rgb(247, 182, 210)\",\"rgb(152, 223, 138)\",\"rgb(148, 103, 189)\",\"rgb(148, 103, 189)\",\"rgb(152, 223, 138)\",\"rgb(127, 127, 127)\",\"rgb(214, 39, 40)\",\"rgb(152, 223, 138)\",\"rgb(152, 223, 138)\",\"rgb(127, 127, 127)\",\"rgb(148, 103, 189)\",\"rgb(148, 103, 189)\",\"rgb(152, 223, 138)\",\"rgb(148, 103, 189)\",\"rgb(152, 223, 138)\",\"rgb(152, 223, 138)\",\"rgb(152, 223, 138)\",\"rgb(199, 199, 199)\",\"rgb(148, 103, 189)\",\"rgb(148, 103, 189)\",\"rgb(152, 223, 138)\",\"rgb(148, 103, 189)\",\"rgb(127, 127, 127)\",\"rgb(255, 152, 150)\",\"rgb(148, 103, 189)\",\"rgb(127, 127, 127)\",\"rgb(152, 223, 138)\",\"rgb(152, 223, 138)\",\"rgb(227, 119, 194)\",\"rgb(196, 156, 148)\",\"rgb(255, 127, 14)\",\"rgb(152, 223, 138)\",\"rgb(152, 223, 138)\",\"rgb(196, 156, 148)\",\"rgb(152, 223, 138)\",\"rgb(148, 103, 189)\",\"rgb(174, 199, 232)\",\"rgb(227, 119, 194)\",\"rgb(152, 223, 138)\",\"rgb(152, 223, 138)\",\"rgb(152, 223, 138)\",\"rgb(152, 223, 138)\",\"rgb(152, 223, 138)\",\"rgb(152, 223, 138)\",\"rgb(152, 223, 138)\",\"rgb(188, 189, 34)\",\"rgb(152, 223, 138)\",\"rgb(152, 223, 138)\",\"rgb(152, 223, 138)\",\"rgb(148, 103, 189)\",\"rgb(148, 103, 189)\",\"rgb(127, 127, 127)\",\"rgb(148, 103, 189)\",\"rgb(152, 223, 138)\",\"rgb(196, 156, 148)\",\"rgb(152, 223, 138)\",\"rgb(152, 223, 138)\",\"rgb(127, 127, 127)\",\"rgb(255, 152, 150)\",\"rgb(148, 103, 189)\",\"rgb(31, 119, 180)\",\"rgb(152, 223, 138)\",\"rgb(199, 199, 199)\",\"rgb(255, 152, 150)\",\"rgb(127, 127, 127)\",\"rgb(152, 223, 138)\",\"rgb(148, 103, 189)\",\"rgb(247, 182, 210)\",\"rgb(152, 223, 138)\",\"rgb(196, 156, 148)\",\"rgb(31, 119, 180)\",\"rgb(219, 219, 141)\",\"rgb(152, 223, 138)\",\"rgb(255, 127, 14)\",\"rgb(152, 223, 138)\",\"rgb(174, 199, 232)\",\"rgb(148, 103, 189)\",\"rgb(188, 189, 34)\",\"rgb(31, 119, 180)\",\"rgb(152, 223, 138)\",\"rgb(148, 103, 189)\",\"rgb(152, 223, 138)\",\"rgb(152, 223, 138)\",\"rgb(152, 223, 138)\",\"rgb(152, 223, 138)\",\"rgb(196, 156, 148)\",\"rgb(247, 182, 210)\",\"rgb(197, 176, 213)\",\"rgb(174, 199, 232)\",\"rgb(31, 119, 180)\",\"rgb(152, 223, 138)\",\"rgb(152, 223, 138)\",\"rgb(152, 223, 138)\",\"rgb(152, 223, 138)\",\"rgb(199, 199, 199)\",\"rgb(152, 223, 138)\",\"rgb(152, 223, 138)\",\"rgb(127, 127, 127)\",\"rgb(148, 103, 189)\",\"rgb(148, 103, 189)\",\"rgb(255, 152, 150)\",\"rgb(152, 223, 138)\",\"rgb(152, 223, 138)\",\"rgb(127, 127, 127)\",\"rgb(152, 223, 138)\",\"rgb(255, 152, 150)\",\"rgb(214, 39, 40)\",\"rgb(152, 223, 138)\",\"rgb(214, 39, 40)\",\"rgb(152, 223, 138)\",\"rgb(188, 189, 34)\",\"rgb(152, 223, 138)\",\"rgb(127, 127, 127)\",\"rgb(152, 223, 138)\",\"rgb(174, 199, 232)\",\"rgb(152, 223, 138)\",\"rgb(152, 223, 138)\",\"rgb(152, 223, 138)\",\"rgb(174, 199, 232)\",\"rgb(148, 103, 189)\",\"rgb(214, 39, 40)\",\"rgb(152, 223, 138)\",\"rgb(196, 156, 148)\",\"rgb(196, 156, 148)\",\"rgb(127, 127, 127)\",\"rgb(127, 127, 127)\",\"rgb(127, 127, 127)\",\"rgb(152, 223, 138)\",\"rgb(152, 223, 138)\",\"rgb(152, 223, 138)\",\"rgb(148, 103, 189)\",\"rgb(148, 103, 189)\",\"rgb(152, 223, 138)\",\"rgb(152, 223, 138)\",\"rgb(152, 223, 138)\",\"rgb(255, 152, 150)\",\"rgb(152, 223, 138)\",\"rgb(174, 199, 232)\",\"rgb(152, 223, 138)\",\"rgb(152, 223, 138)\",\"rgb(148, 103, 189)\",\"rgb(219, 219, 141)\",\"rgb(127, 127, 127)\",\"rgb(127, 127, 127)\",\"rgb(127, 127, 127)\",\"rgb(152, 223, 138)\",\"rgb(152, 223, 138)\",\"rgb(148, 103, 189)\",\"rgb(196, 156, 148)\",\"rgb(152, 223, 138)\",\"rgb(247, 182, 210)\",\"rgb(127, 127, 127)\",\"rgb(152, 223, 138)\",\"rgb(152, 223, 138)\",\"rgb(199, 199, 199)\",\"rgb(152, 223, 138)\",\"rgb(227, 119, 194)\",\"rgb(127, 127, 127)\",\"rgb(152, 223, 138)\",\"rgb(152, 223, 138)\",\"rgb(196, 156, 148)\",\"rgb(148, 103, 189)\",\"rgb(148, 103, 189)\",\"rgb(152, 223, 138)\",\"rgb(152, 223, 138)\",\"rgb(152, 223, 138)\",\"rgb(152, 223, 138)\",\"rgb(127, 127, 127)\",\"rgb(148, 103, 189)\",\"rgb(152, 223, 138)\",\"rgb(148, 103, 189)\",\"rgb(152, 223, 138)\",\"rgb(152, 223, 138)\",\"rgb(148, 103, 189)\",\"rgb(148, 103, 189)\",\"rgb(219, 219, 141)\",\"rgb(199, 199, 199)\",\"rgb(152, 223, 138)\",\"rgb(148, 103, 189)\",\"rgb(152, 223, 138)\",\"rgb(152, 223, 138)\",\"rgb(152, 223, 138)\",\"rgb(152, 223, 138)\",\"rgb(152, 223, 138)\",\"rgb(152, 223, 138)\",\"rgb(152, 223, 138)\",\"rgb(255, 152, 150)\",\"rgb(31, 119, 180)\",\"rgb(196, 156, 148)\",\"rgb(152, 223, 138)\",\"rgb(152, 223, 138)\",\"rgb(152, 223, 138)\",\"rgb(152, 223, 138)\",\"rgb(152, 223, 138)\",\"rgb(148, 103, 189)\",\"rgb(196, 156, 148)\",\"rgb(152, 223, 138)\",\"rgb(148, 103, 189)\",\"rgb(227, 119, 194)\",\"rgb(152, 223, 138)\",\"rgb(148, 103, 189)\",\"rgb(152, 223, 138)\",\"rgb(219, 219, 141)\",\"rgb(255, 152, 150)\",\"rgb(152, 223, 138)\",\"rgb(152, 223, 138)\",\"rgb(152, 223, 138)\",\"rgb(31, 119, 180)\",\"rgb(152, 223, 138)\",\"rgb(148, 103, 189)\",\"rgb(152, 223, 138)\",\"rgb(152, 223, 138)\",\"rgb(255, 152, 150)\",\"rgb(148, 103, 189)\",\"rgb(152, 223, 138)\",\"rgb(255, 152, 150)\",\"rgb(227, 119, 194)\",\"rgb(148, 103, 189)\",\"rgb(152, 223, 138)\",\"rgb(127, 127, 127)\",\"rgb(31, 119, 180)\",\"rgb(152, 223, 138)\",\"rgb(127, 127, 127)\",\"rgb(152, 223, 138)\",\"rgb(152, 223, 138)\",\"rgb(152, 223, 138)\",\"rgb(127, 127, 127)\",\"rgb(196, 156, 148)\",\"rgb(152, 223, 138)\",\"rgb(188, 189, 34)\",\"rgb(152, 223, 138)\",\"rgb(127, 127, 127)\",\"rgb(152, 223, 138)\",\"rgb(152, 223, 138)\",\"rgb(152, 223, 138)\",\"rgb(255, 127, 14)\",\"rgb(152, 223, 138)\",\"rgb(152, 223, 138)\",\"rgb(152, 223, 138)\",\"rgb(196, 156, 148)\",\"rgb(196, 156, 148)\",\"rgb(174, 199, 232)\",\"rgb(152, 223, 138)\",\"rgb(152, 223, 138)\",\"rgb(148, 103, 189)\"],\"token\":[\"Bakhmutov\",\"Tugwell\",\"Galepa\",\"Gatsunaev\",\"Chuvyrov\",\"Tchanyshev\",\"Jiao\",\"Shimaoka\",\"Grot\",\"Peisar\",\"Shevtsov\",\"Barabanov\",\"Inokuma\",\"Zhang\",\"Livadny\",\"Kaima\",\"Gass\",\"You\",\"Kenneford\",\"Kolovos\",\"Christodoulou\",\"Tchekvin\",\"Falsh\",\"Johin\",\"Abdulladzhanov\",\"Herbert\",\"Bata\",\"Balagul\",\"Tannous\",\"Tsveiba\",\"Tchehovich\",\"Pekhtin\",\"Elizondo\",\"Shakhgildyan\",\"Talovirko\",\"Erenkov\",\"Tahan\",\"Coffey\",\"Poshutilin\",\"Kabes\",\"Abramchikoff\",\"Bicchieri\",\"Gillett\",\"Gulbinsky\",\"Brewer\",\"Shahlevich\",\"Cho\",\"Yujilin\",\"Sabbag\",\"Awetyan\",\"Patzevich\",\"Kearsley\",\"Harnikov\",\"Shamoon\",\"Mansour\",\"Rzhavinsky\",\"Ferrier\",\"Onoshkin\",\"Ruiz\",\"Rutberg\",\"Baba\",\"Yuzhanov\",\"Chursin\",\"Everstov\",\"Saliba\",\"Nahas\",\"Babineaux\",\"Chernovisov\",\"Kozlowski\",\"Kilmurry\",\"Balakhowsky\",\"Pohmel'Nyh\",\"Bakshtanowsky\",\"Baigulov\",\"Bakhurin\",\"Shamshev\",\"Vaindrakh\",\"Chuhin\",\"Funaki\",\"Pokhodun\",\"Vyazankin\",\"Chantler\",\"Asfour\",\"Romero\",\"Wiesner\",\"Remezov\",\"Cherchesov\",\"Samuel\",\"Mikhailov\",\"Dalach\",\"Wakai\",\"Maguire\",\"Samuels\",\"Berger\",\"Provan\",\"Lejepekov\",\"Olivier\",\"Nader\",\"Vicario\",\"Rotov\",\"Fortunato\",\"Piskorsky\",\"Vaidanovitch\",\"Porva\",\"Gro\\u00df\",\"Lossky\",\"Salamanca\",\"Eto\",\"Shananykin\",\"Dernov\",\"Katsebin\",\"Perugia\",\"Vyazikov\",\"Nyuren\",\"Vela\",\"Benvenuti\",\"Marek\",\"Abadi\",\"Duronov\",\"Rahal\",\"Atlas\",\"Nadwornik\",\"Mccourt\",\"Maalouf\",\"Pehterev\",\"Yagafarov\",\"Sappe\",\"Pocock\",\"Prentice\",\"Abezgauz\",\"Mathews\",\"Sneijder\",\"Zhilinsky\",\"Zhituhin\",\"Kalenov\",\"Novosilsky\",\"Ansell\",\"Chepchyak\",\"Baiguzov\",\"Bekkarevich\",\"Pohilevich\",\"Shadid\",\"Leeson\",\"Zhivotenko\",\"Phillips\",\"Viola\",\"Salib\",\"Toien\",\"Simmons\",\"Tsvigun\",\"Oomen\",\"Leggett\",\"Gasfort\",\"Bakurinsky\",\"Geshtovt\",\"Kattan\",\"Astyrev\",\"Mints\",\"Kosmatka\",\"Strand\",\"Sarraf\",\"Sonnen\",\"Weichert\",\"Eoin\",\"Schrijnemakers\",\"Prigov\",\"Enright\",\"Japondych\",\"Hamill\",\"Qureshi\",\"Baba\",\"Pitel\",\"Mravin\",\"B\\u00f6hm\",\"Jurkin\",\"Matoke\",\"Kerrell\",\"Varaev\",\"Oaks\",\"Bagmewski\",\"Mortimer\",\"Hassan\",\"Oneill\",\"N\\u00fa\\u00f1ez\",\"Peusen\",\"Katsenellenbogen\",\"Charoshnikov\",\"Doolin\",\"Holtzer\",\"Kassis\",\"Eagle\",\"Roman\",\"Sokolik\",\"Deriglazov\",\"Young\",\"Belikov\",\"Hayden\",\"Zharov\",\"Katsu\",\"Martoyas\",\"Gluhih\",\"Lichkanovsky\",\"Faure\",\"Tsarev\",\"Mokhnachev\",\"Amari\",\"Totah\",\"Enin\",\"Sneddon\",\"Mooren\",\"Zolotavin\",\"Daher\",\"Timashov\",\"Makhutov\",\"Golosov\",\"Balakleevsky\",\"Yamanoue\",\"Novotortsev\",\"Bahar\",\"Gladilin\",\"Kalinko\",\"Lytkin,\",\"Her\",\"Hadad\",\"D\\u00edaz\",\"Utterson\",\"Varaksin\",\"Dublyansky\",\"Iddon\",\"Cham\",\"Artyuhin\",\"Vivas\",\"Ahn\",\"Leibovich\",\"Cremonesi\",\"Warner\",\"Natalenko\",\"Vainson\",\"De angelis\",\"Huroshvili\",\"Kalinovsky\",\"Morinaga\",\"Shalhoub\",\"Onchukov\",\"Kent\",\"Killen\",\"Omura\",\"Batsanov\",\"Simecek\",\"Veselkov\",\"Awalishwili\",\"Kabisha\",\"Snyder\",\"Linley\",\"Enns\",\"Can\",\"Loiko\",\"Erjenkov\",\"Britton\",\"Foreman\",\"Alderisi\",\"Turubanov\",\"Koiso\",\"Avdeeff\",\"Mifsud\",\"Jekulin\",\"Reid\",\"Del bosque\",\"Esaulov\",\"Katoaka\",\"Bachinski\",\"Malouf\",\"Iskortsev\",\"Abanin\",\"Roome\",\"Likhodeev\",\"Zhashkov\",\"Mingaleev\",\"Hassel\",\"Golovaty\",\"Tomori\",\"Goodchild\",\"Gafiyatullin\",\"Eliashberg\",\"Nardi\",\"Hajkova\",\"Govorov\",\"Huff\",\"Kerrison\",\"Avryasov\",\"Rjanitsin\",\"Garver\",\"Nezavitin\",\"Zogby\",\"Mikhalkin\",\"Itagaki\",\"Mooney\",\"Agoev\",\"Andreyanov\",\"Nakhutin\",\"Hirst\",\"Lopes\",\"Stilo\",\"Dodd\",\"Antonino\",\"Mcguinness\",\"Janovka\",\"Shamgulov\",\"Albert\",\"Glazanov\",\"Halliday\",\"Ghannam\",\"Yuzhalin\",\"Ryjenkov\",\"Ponedelkov\",\"Epton\",\"Wintersgill\",\"Grushin\",\"Rend\\u00f3n\",\"Abadi\",\"Yuhanaev\",\"Vardy\",\"Markushevich\",\"Belous\",\"Srour\",\"Baitchikov\",\"Agababoff\",\"Nosenko\",\"Tchekin\",\"Kaloshin\",\"Shimuzu\",\"Fothergill\",\"Basurto\",\"Fosse\",\"Rihman\",\"Moderah\",\"Emlin\",\"Favreau\",\"Chikulaev\",\"Balazowski\",\"Ha\",\"Pang\",\"Sabbag\",\"Newbold\",\"Gastello\",\"Badeschenkov\",\"Hlopkov\",\"Vantchurov\",\"Swain\",\"Yamov\",\"Beilin\",\"Zhurikhin\",\"Jelen\",\"Dodin\",\"Zhagalin\",\"Avgerinos\",\"Bazhov\",\"Abramenko\",\"Tzagunov\",\"Sultana\",\"Gudarenko\",\"Pavlyukovsky\",\"Isleniev\",\"Vyshegorodtsev\",\"Bahmin\",\"Pyshkin\",\"Haggett\",\"Djavahishvili\",\"Eslick\",\"Awramchik\",\"Dumont\",\"Marshev\",\"Jelezovsky\",\"Bahtizin\",\"Campana\",\"Rixon\",\"Shaitanov\",\"Lomas\",\"Pyanov\",\"Pyriev\",\"Valchitsky\",\"Giannakopoulos\",\"Wang\",\"Haliullin\",\"Wolstencroft\",\"Zharinov\",\"Mikheev\",\"Dudochkin\",\"Belikovich\",\"Researcher\",\"Kotsiopoulos\",\"Nazari\",\"Hrula\",\"Mikhail\",\"Maloney\",\"Unwin\",\"Bowler\",\"Saga\",\"Kalaichev\",\"Rademakers\",\"Sleiman\",\"Lang\",\"Naifeh\",\"Dubrov\",\"Zak\",\"Shammas\",\"Maloof\",\"Quinlivan\",\"Groshev\",\"Ogterop\",\"Yatzyk\",\"Aitchison\",\"Tsukahara\",\"Koemans\",\"Unterbrink\",\"Noschese\",\"Zhikharevitch\",\"Shamanin\",\"Kozumplikova\",\"Dovgopoly\",\"Kassab\",\"Simon\",\"Mochtarev\",\"Paige\",\"Vilchek\",\"Mujkaterov\",\"Abrikosov\",\"Mokronosov\",\"Sarraf\",\"Thomas\",\"Mokeenkov\",\"Fazilov\",\"Nagahama\",\"Oakley\",\"Sabbag\",\"Ryjko\",\"Jivilo\",\"Spoerl\",\"Lathan\",\"Anuchin\",\"Vu\",\"Moto\",\"Lambton\",\"Adam\",\"Hussain\",\"Schumacher\",\"Webster\",\"Harb\",\"Leroy\",\"Gulevich\",\"Martyshko\",\"Abdullaev\",\"Nutella\",\"Otsing\",\"Harchev\",\"Yalamov\",\"Mlechin\",\"Shalygin\",\"Jiu\",\"Tomes\",\"Birkin\",\"Riedel\",\"Olguin\",\"Zhovtun\",\"Patskevich\",\"Bahtoff\",\"Tron\",\"Havanov\",\"Ataev\",\"Julidov\",\"Zino\",\"Islam\",\"Gianakopulos\",\"Naldi\",\"Mordashov\",\"Juzhenko\",\"Gerasimovsky\",\"R\\u00e9\",\"Hauer\",\"Valev\",\"Schlusser\",\"Zhuzhlev\",\"Serafin\",\"Judkovich\",\"Nazari\",\"Zinovin\",\"Zhogov\",\"Finlay\",\"Faulkner\",\"Jilkin\",\"Crouch\",\"Deng\",\"Dagher\",\"Hamatov\",\"Yanvarev\",\"Arbuzov\",\"Haziahmetov\",\"Govyadin\",\"Saller\",\"Bazilevitch\",\"Plant\",\"Jelyabov\",\"Lewin\",\"Toma\",\"Donald\",\"Horowitz\",\"Makhrovsky\",\"Tzander\",\"Awerkieff\",\"Gasho\",\"Baba\",\"Bir\",\"Usenko\",\"Lupei\",\"Paloumbas\",\"Adylov\",\"Totah\",\"Eliasov\",\"Evrard\",\"Martinenas\",\"Rotgang\",\"Kohl\",\"Shamonin\",\"Issa\",\"Rocco\",\"Yapp\",\"Astrov\",\"Gismondi\",\"Nakagawa\",\"Antoniadis\",\"Vainer\",\"Rozenblum\",\"Gauer\",\"Hanraets\",\"Esipenko\",\"Eideman\",\"Dennis\",\"Larkin\",\"Lennon\",\"Fakhoury\",\"Juravliov\",\"Martidi\",\"Elgin\",\"Almasi\",\"Yukhvidov\",\"Crossley\",\"Adashevski\",\"Hlopov\",\"Veledeev\",\"Ingledew\",\"Bairov\",\"Allport\",\"Molokovsky\",\"Davison\",\"Ran\",\"Su\\u00e1rez\",\"Vinarov\",\"Didigov\",\"Fadyaev\",\"Koury\",\"Schmeling\",\"Jafarov\",\"B\\u00f6ttcher\",\"Fujita\",\"Lepikhov\",\"Saifulov\",\"Specht\",\"Faltysek\",\"Zimmermann\",\"Leontarakis\",\"Baushev\",\"White\",\"Dobrojanov\",\"Daher\",\"Tessaro\",\"Dovlatov\",\"Zasodimsky\",\"Daty\",\"Djelepov\",\"Jurko\",\"Pohodin\",\"Yatzuba\",\"Ruzimatov\",\"Xiang\",\"Yatsevich\",\"Anisovich\",\"Kassis\",\"Hapkov\",\"Sharples\",\"Auberton\",\"Germano\",\"Heritage\",\"Douglas\",\"Mikhailyants\",\"Dyde\",\"Bazovski\",\"Bazhenin\",\"Egorihin\",\"Curran\",\"Viskov\",\"Alsky\",\"Davidov\",\"Legge\",\"Balanowski\",\"Mojartsev\",\"Mindel\",\"Valenti\",\"Sano\",\"Zinkovsky\",\"Goretti\",\"Brooke\",\"Rengarten\",\"Mullen\",\"Peacock\",\"Isakov\",\"Chanturia\",\"Fraser\",\"Grokhar\",\"Gallinger\",\"Agrba\",\"Minkovich\",\"Nishimura\",\"Utropov\",\"Gott\",\"Katsushika\",\"Golovatov\",\"Zozulya\",\"Jankevich\",\"Golovanov\",\"Remmer\",\"Mujjavlev\",\"Cervenka\",\"Fournier\",\"Imaizumi\",\"Finan\",\"Safar\",\"Seger\",\"Halifman\",\"Kalitinsky\",\"Lozhchenko\",\"Vindman\",\"Delaney\",\"Mogilnichenko\",\"Travieso\",\"Ise\",\"Damhan\",\"Eiler\",\"Alessandri\",\"Horkov\",\"Morozov\",\"Alhimov\",\"Ricci\",\"Iesada\",\"Yakubovsky\",\"Tchekhanov\",\"Durmashkin\",\"Artliff\",\"Hajjar\",\"Lositsky\",\"Agranowich\",\"Darcy\",\"Morozovsky\",\"Astronomov\",\"Missiakos\",\"Gosse\",\"Abrosimov\",\"Apeldoorn\",\"Yasujiro\",\"Touma\",\"Gorsun\",\"Kalihanov\",\"Reveley\",\"Luce\",\"Ganim\",\"Hsiao\",\"Gatovsky\",\"Alberghini\",\"Dovgusha\",\"Adaryukov\",\"Dacey\",\"Vysokin\",\"Hunter\",\"Howell\",\"Okasawa\",\"Hatov\",\"Lichtenberg\",\"Zhmakin\",\"Batchmanoff\",\"Von grimmelshausen\",\"D'aramitz\",\"Schepetkov\",\"Etheridge\",\"Espino\",\"Kaza\",\"Nicks\",\"Jmelkov\",\"Oboldin\",\"Lymar\",\"Bahtigareev\",\"Tumko\",\"Amari\",\"Salinas\",\"To The First Page\",\"Ufimtsev\",\"Zha\",\"Lihovtsev\",\"Michel\",\"To The First Page\",\"Beilshtein\",\"Javoronok\",\"Admoni\",\"Neverkovich\",\"Kartavtsev\",\"Marie\",\"Modugno\",\"Chaldymov\",\"Kouri\",\"Anisimov\",\"Mar\\u00eda\",\"Glek\",\"Vantorin\",\"Chihachev\",\"Naifeh\",\"Asghar\",\"Ayabito\",\"Vasyukov\",\"Lister\",\"Aonghus\",\"Kaldin\",\"Dzhumaniyazov\",\"Ter Avest\",\"Bahrushin\",\"Yue\",\"Nourse\",\"Abakumov\",\"Vanteev\",\"Malinowski\",\"Inao\",\"Phoenix\",\"Yagunov\",\"Wainwright\",\"Jerome\",\"Balabolkin\",\"Vennen\",\"Moghadam\",\"Tahan\",\"Que\",\"Jenkyns\",\"Baiborodov\",\"Sakuraba\",\"Macclelland\",\"Vihrov\",\"Pemberton\",\"To The First Page\",\"Ullman\",\"Cao\",\"Bahovkin\",\"Levett\",\"Haibullin\",\"Yeomans\",\"Bagalei\",\"Jopson\",\"Muzhitskih\",\"Frankland\",\"Hradek\",\"Leese\",\"Martysyuk\",\"Boulos\",\"Katz\",\"Oelberg\",\"Ghanem\",\"Gulchenko\",\"Panoulias\",\"Vasyanovich\",\"Boutros\",\"Fiedler\",\"Agudoff\",\"Durham\",\"Vandale\",\"Munin\",\"Arihyoshi\",\"Luspekaev\",\"Nasetkin\",\"Hadjiev\",\"Pitersky\",\"Basara\",\"Holyuchenko\",\"Ruff\",\"Adiloff\",\"Yaminsky\",\"Jasper\",\"Muruyama\",\"Beltov\",\"Bakhanov\",\"Mniszech\",\"Tzann-Kay-Si\",\"Harkovchuk\",\"Detsenko\",\"H\\u00f6fler\",\"Lykosov\",\"Avgustoff\",\"Ibbs\",\"Openshaw\",\"Dickinson\",\"Harisov\",\"Moulin\",\"Bishara\",\"Rankin\",\"Galkovsky\",\"Belogolovkin\",\"Sugimura\",\"Eastham\",\"Gordasevich\",\"Fukusaku\",\"Antonowitsch\",\"Haldei\",\"Smart\",\"Nyrko\",\"Rivero\",\"Atiyeh\",\"Nahas\",\"Mogilensky\",\"Mansfield\",\"Hotimsky\",\"Modenov\",\"Talipov\",\"Acerbi\",\"Horigome\",\"Nader\",\"Chajengin\",\"Guirguis\",\"Emelianov\",\"Poyser\",\"Lubsky\",\"Yablokov\",\"Shamarin\",\"Baz\",\"Patrianakos\",\"Rekunov\",\"Rosso\",\"Royama\",\"Daher\",\"Fominov\",\"Glasby\",\"Frederikson\",\"Paterson\",\"Leslie\",\"Tcharnolusky\",\"Pond\",\"Shamrun\",\"Zhilenkov\",\"O'Neill\",\"Digurov\",\"Lysyakov\",\"Golovatsky\",\"Engelmeier\",\"Dudunov\",\"Gasman\",\"Agilera\",\"Mahotin\",\"Janko\",\"Urbina\",\"Tursky\",\"Rosenbloom\",\"Dymond\",\"Paternoster\",\"Sakurai\",\"Selby\",\"Giannakos\",\"Masih\",\"Cowan\",\"Verpeto\",\"Haber\",\"Yoshida\",\"Baz\",\"Leikin\",\"Awduloff\",\"Saunders\",\"Entov\",\"Hofwegen\",\"Yakurin\",\"Pismichenko\",\"Horanov\",\"Muzipov\",\"Prokoshkin\",\"Peck\",\"Monti\",\"Kaleev\",\"Schwarz\",\"Good\",\"Kalabuhov\",\"Harb\",\"Nader\",\"Shalhoub\",\"Johansen\",\"Raihert\",\"Fakhoury\",\"Yatzyshin\",\"Khouri\",\"Nuriev\",\"Malone\",\"Killeen\",\"Pitterman\",\"Zhidomirov\",\"Gorbushin\",\"Harchikov\",\"Yukalov\",\"Molchadsky\",\"Tcheharin\",\"Agafonov\",\"Elkin\",\"Basara\",\"Mihalkovsky\",\"Aitken\",\"Jolobov\",\"Ball\",\"Katsukawa\",\"Baz\",\"Eikhenvald\",\"Eizen\",\"Bekh\",\"Serafini\",\"Dobrinsky\",\"Bekleshov\",\"Jakimets\",\"Deschamps\",\"Maryltsev\",\"Galkovsky\",\"Eroschenko\",\"Isa\",\"Ina\",\"Myatishkin\",\"Said\",\"Oneil\",\"Fortunov\",\"Natochin\",\"Conway\",\"Podsizertsev\",\"Zogby\",\"Desnitsky\",\"Vajov\",\"Jemchugov\",\"Adjaloff\",\"Sabbag\",\"Nijo\",\"Jahin\",\"Pagano\",\"Ellery\",\"Lianozov\",\"Nosikov\",\"Yaglintsev\",\"Chutko\",\"Khouri\",\"Tsann-Kay-Si\",\"Shalhoub\",\"Bishara\",\"Hamukov\",\"Mochanov\",\"Isaichev\",\"Tuma\",\"Abatsiev\",\"Ayton\",\"Sakata\",\"Tsapaev\",\"Asfour\",\"Laraway\",\"Shamoon\",\"Kalachov\",\"Kinnear\",\"Balakhowski\",\"Fofanov\",\"Goloborodov\",\"Antoun\",\"Bakhanoff\",\"Haik\",\"Alchubaev\",\"Hatkov\",\"Maroun\",\"Abuzov\",\"Selmone\",\"Zhekulin\",\"Eckstein\",\"Rapota\",\"Kassis\",\"Lihtin\",\"Langenberg\",\"Meyer\",\"Khouri\",\"Eastell\",\"Nicol\",\"Warwick\",\"Lagan\\u00e0\",\"Kassab\",\"Lukhovitsky\",\"Yukhotsky\",\"Zhelyabovsky\",\"Wragg\",\"Kendall\",\"Nunes\",\"Zdunowski\"],\"x\":{\"__ndarray__\":\"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\",\"dtype\":\"float32\",\"shape\":[1000]},\"y\":{\"__ndarray__\":\"sXuqv7NBtD5watc+MJKJP2fLkb83+ghAzOXxPzYC8z/YkgFAgatBP7yUTD2YBbG/CWG+vwO/rT7xJZ4+aPy5v5LWhD/oHZC/626Lv7Cuxz7BBAxA3/rIvWrp7j/mkeo9j4rsPnH28D9WlxS/NgLzP6m5Sj9S8Li/l7SIvcRdib989kA9xIZ1PhMsDT9ieMg+UPcRPooQA0AiCDU+NKxQv0TSgz8GDew/2es9P4R8AkDJjOq9Ndlyvpac4z61YwU/EQ8JPhTqPb8AgII/8MAHvyYqvr+3faa/AcAJv4bthz+DtoE+PN+9v2+mML3Ajqu/Gnqrv+LCLT86kSc/vTzBvvxA9z5NSmW9CIa7v99U+j/0fyO/mFQAP0lj1D2+3pW/ayAUvx5v7j7evG09P06+v0G/nr5ob/A/O2zBPmAP4T9JL/O+2e+svxCL7z2r/AA/ND8qvzO2BkBI/6Y9v9g0vhXJ5Dz8smm8Ob0rP2v9Bz/WWBE+LHIMPsYSpj7DzwS/9Hm6v1k2WL+4fNy+Yo4Wv03Ctb83gpS/FRl1P2DGML/Tbrg9xs6HP2Szg781os8+506tvujKDL/90Z2/djuuvwPy/D/PNIQ/zfcfv0ohUj+nDVw/orcJPvvsvL7c6LC/PBSov3Gp8L6NB0U+z3QJvxvkLb/sMcS/bE4Hv0ZF8T+ZhFu/9FQHv3LKYr7/ytk+6vyiPUguRD9LWf2+0e9avrSUDL4lHu0/C3YDQE8JLr85UUc+wbTKPkYu/D6aI7C/C3YDQB4Vc7+JTx2+B7+uv4q9kD6jfu4+U1IRP+5/i79ZzVK/JAC4vxeTqL9ZnNS9HN+OPneQO74MTYQ+iMgAQIs71D6i7CY8x36Lv9TuNr9iSkY98VPjvmcT3D3QPr+/RXXrP3vNBb+SqlQ/CZANP1wT+j559CW+SM4AvyBinL/VdFE/gS9DPq7BTT/z5Ce90TC+v1Yyf77IdaS/51f0P7ayEkBZwhBAf1acPqtXez5yJCC/7Fs7P+ESYz7kk2G+Y3EOvzgO7D+wBGq/pm3qP7+yij9I96G/q6mmvsUOQD98gqy/v1TvP2HtaT4j0ly/19v0P2R6hbzYf48+tYAEPwA1672Nide+JocQP6f2xT5LD7C7YNR8PT3a3j7KCXU+GmZiP3PSPD/5HcG/mMUOPwHKQD1youw+I8VMPziqiL8pBeE9PG8yv33KRD/o4XU/MFvsP6o1dz6O3Y6/AnmGP5QFSb9/XUa+bgtLP/1IE78LMvQ/Wa0Yv9u8JT7a3ai9pHdYv3ZLPD7fVPo/MNXavi5N476VfrO/8sv0vdeJiT6mWX4/p25Rv1vO7z8HFQ6+oqpOP9serL94sw4/BEitv9D0s7/ImEQ+OQa9v9Wpn7/fc5g+l7v6vnf7eT+uAeM+TG2WPrSqwD26noy/n0GwPWA4FL8XOsG/U3bZPmjMvj4Uv7K/hnCvvx6s/j5CbXU+rWaRv64Vlr9c1RM/IXISQODJWL+RX+Q/aEJFP7oCvT5MEQQ+51f0P+Vp9j8tftM+cfn3P8Va7j91MGK+c3/1P9p8CD8YNHc9vSLHvpfiPr7r2TI/cWv9P5tPw79J2Lq/FktAPyFyEkAjC6G+crWYvpJGcb80hae/SpyYvzcdqD6hKAi/rptwvg0vFD9666m/wxbnPps5WD4oVc6+PJAzPtpywD5WvdU+FUsFPwt2A0AP6eY+7Q+1v5ozSr5MjwxAEFUBQAgJxb8XhHs/y+3BPj7cxL+u7fU+HAa3v/sxvL8S7B4/DpzUvXekEz8LDu0++nlyP1r5Oz8c63M+LCHLvnJIBz5uErG//8oAQFh8j79xRYa/VGitPYVETT7hCl0/hkRtPaC5yL5oVtG8+K25vxXvLz4M6pm/2FsGv8jOQD+48uo/XUtWPnT4gj/NcYe/QUu6vz6CCkAQ8DU824fTPkZVsD5tCaU9fq2hv/qisb0F8iY+drxHP3Hqwb+UVWy/qZRaPhwEez/Ed/A+TITiPyaUvr+jlEI/+p73P9DIGb9MaIm/cTsQv4uL8z2fcWU/AlnHPi+5ZD7rcPo/icgAQOyBbb/lNLm/c3/1P8Ffaj/8EfY/Vuisv29LRj/LwZI+YI6Ov8ee1T1za/0/JacJPlrqLD4ZNvs+Zy7uPqsR4T1v54c/5rWMv4F/a7+8VDM/aU5yPO8el78IItk+ADi7v8GBEL8FzQG/EKDCv9ckCUC2BPg/XECAPr6Xib/RgQ4/5pXpPhscsj7VPb+/MROUPQPy/D/A10O/kwt5PkkFhr8HzWs/V6+ivvTJ7z69ePu+Gp5aPx+fEb5L3Sa/eHrwPvlHQT7zSfe+aLeqv5sOlT2EgA4/7pa1vzV0u79vPa6/MICNvz/Isr/LR68+uWcKPyWpNT4ZasG/MCDFPp6unb+hnHY+RhimvwUNCT/wiKO/gJ+xv7QiFT65tHW/xSYSQKpm5z5AsaW/3UdhvykDlr+YLII/e/8APn0tij6CoIe9mGR3PmL2tL80wtY9edo0vy0kBL9k5f8/COYbviqXir5gb08/41hjP1kKt7/V9pg9efi0PjrNxj7mLbe+N4IKQIl4tr4P+I2/hT68vtEvjr/WEsk82XVVPdzcv7+/4h+/7NUCveDZNr7M5fE/T05KvZy6mL/4TCk/hCeLPjYpDT/KQJ2/NuEHv+bKpL/DgxW9w7iKvVu6jz3MSgi/qHicv8Udhj8xizO/p1Omvxde3b6UCq4+p36uvcymUb8RMcK/TfoDPgmU9r7tYY6/j5QFv1ImsL/Wp6e/XCR+Pl1hnr+qfGE+gmhOv08Iwj4VU/Q+NzK1vfORhj5bYg4//lgRvxpiC79X3Iu/8kKBPqWDe75mywBAyNx8vqmqk78+zdI9IMo/v4suDL+Okp2/Hps/P7QJur9seUi+SHZpPu0En78WxIM/rXHwP+5S8T/aPa2/ZijivUXMfr6dBfg/5NTsPq4wyT4ntnM+Q+qXPj9uV7+Mqkg+5+e5v01sib/9aUg/uWUZPg4d7L5yErg+z63aPpj30z4UIFi/jXQ9PsbBmL8qx+U+PtARPgIZt792W8K8jrqGvytBv7/svYG+ZG9BPi0Nhb9RaXM93MxsvgYMnb9rRsy+KYIOQIQ8AL9FSAU/LspjvyeBST9Oh7G/+mu/Pqg7/z/GNUA/TnyIv0dcvL/q7A8/E1qPPirndr8hchJAtoerv9Zbxj67B785FoJbvwBwdD76oJO/KKKhPljk2T6XX8G/lLWrvwYnLr/uz4y97Myzv3PkAj7Pd7m/aFQOP1ZmSz8hykM+RgGxPvL87z+ujf6+JzQQvzukxz01W+w/Xwn2P2l98z/0qZw+xtE8v9FF3j5mNnI+3Z+Sv2/QtL/pUZ2/a8UPv3lbwrxBvIe/yIeFPywEOj8xnZS/UzbCv6rtuTwoLcQ9OV97v7s6oz5xH6o+Gom3v03e4T+FWtE+HS2wv7GHjL4hYLy/2ueovsu+pL/djsA9MuxUPzk+t7/hNrS/WnX5Pz9VFz1OxsC/KGmzvo/s9T8bN/Y/ntGEv/MTD0DMuGg99ansPtowMb9ydPy+tjWfv2nFvb6uiAW/+KtGv47RzT65lfc/Cb0+v8g5OL+ua5W+C+CpvxPvQb8LDfy+NCRcPvyLtb8NgY+/G8lMv+dpBz8LvSo/X1+2vSRfCj6KE+w9Ob4wPoUQQj4UNQM9JOLxP2Dp7T8V33E/1EarvkCXUj/uWia+MlOrv/Gmsr+IyABAdIhJvs2TBb4+aKC/lzmtvyoemL6l5As/+OXyvsswwr9FIV8+VJgIQID7Dj/gE8U+66oEPjgKIr94Npk+bG2BPhXSvL/DTUo/goGDv0ZEtj5y+Io+H1O7PpXr7z83EKO/pW3qPwt8Dz9f6F6/fh8IP1U1RD4wDLW/Myeyv/1tKb9QjwC+jGnlPiL1vr7MEje+Fi39Pmdqpb+aN/4+WUtYv4NKjD4E0Fs/S+efvw1Nv7+M+i4+8ebAv/t4/z71m4M/c5kPPYfmXz9YHfo/aK12P3XtQj/yuOQ+BRHAvYAxZz7+/ne+/pkWv6oICUABxdA+RDG2vyarob97K/c/5BntPjMp7D3Qeig+nqt9vGASvL9sgA0+h5RjvpImDj6WaxQ+DmpqP6SrxL+9ebI+cn/1PyKUQj8SSe49Bt7yPxImlL/ug3K/jItFvwXYmz614fw+OyxMvQgyvr/0Myq/Qx3lPwEjqD5+MGU/BvabPrcsq7/8jjO/9gUpvzlCub9aRvo+XLNNPiZJHL9voxe/z4qcvzcDob9fJ0q+5/JkPrgfhT5sSwVABiWlPhcHuL9JVNY+exC7vwtrUD4ogg5AbTlNP+mMDD4wa0s+q13xPcStiT65QkA/TI8MQL2+O7+B7sQ+2wOkPl/KrL8QfUu/Q+sxPhVB4D+Vili9nN4HP2NMg7xMUIE/QMUOP1rBBz8Xbzk/j0Sfv8ovQD4OGGG/jPJ7vyBiSr5Jup2/H/WPPlinAT8b10I/h/NDP4bK6D8Tw56//QK6v6pHob8MoJy/AqWavoLH0Tzfw/S6YOntP3uU4z1QCaY9HCxVPw49rr+wdsc9EgX4P+ptdT65Hgo/v7rsPi8QY7995Pi+pcY8v7R5uj7sxYO/YTfyP1B7wr90LUs/BQLiPbDqur96PAG/dQdxP8tdlj6Mldo+oTq+vwPHZj4SE5A+1fbvP43A/z/fhPc/gRNhv8yRRT8ZKum9/UYgPjqsEL/bJme/l80ZvskYTjsogTg/imUpPpOSiT935J2/8TMgv/pjlb5MiJI+JiYLQHJX9z9RchFAVw2Nv1ktE79zJ8O6wUGqPm+PHz9TMPo+pPTiP9sjr79aUVS+ckjcPf8ENr8Jm8o+B7QSQPVXl7+4WqO/mjtOPXipDj6EGjc+MVOzvygdCL5iJI2/Rleqv5iC8z+2NBY9TWJsP27Trr4JRrG/tm5aPn2OXr9A9wm/c1iSPjss6D5QIV2/tdVlvMlibr9fUVY/dlvCvGeDSb9QKbG/LcVrvuyXV79Koek+GBJGP0q8XT70HZa/O1WvvxqLiD46vhC/+1ofv+ScpT6Pj8A8+2CYv+ecVT5hqvk9bwIHv+vnkT1FlJK/0giCPuvPJD8yubK/MUBzv8JTfr/kVvY+aP6Wv1m76jv/pDg+SoGGvymwRT/TD44+nVqpv1IgUD/dx84+woehPo7iHz8DFQ1A2jjlPHIZiL90mvA/cC2zv5y5kr+Dp+g9+p73P3nF4z4Fboo+uCsJP+Lcor95JAlAOcuxv0YGCb/ngLq+vT8UP3iqZb91WMO/fMM8v3utIj1fhgo/DY5/P+LU6r56pGS/LXI1Pg==\",\"dtype\":\"float32\",\"shape\":[1000]}},\"selected\":{\"id\":\"6d2eda2e-7772-451f-870b-5b9a65cdae5a\",\"type\":\"Selection\"},\"selection_policy\":{\"id\":\"92451aa9-6189-46b2-bad5-407c091a030b\",\"type\":\"UnionRenderers\"}},\"id\":\"4fd8fd8e-86ee-4d1f-96b2-5485c889a290\",\"type\":\"ColumnDataSource\"},{\"attributes\":{},\"id\":\"6d2eda2e-7772-451f-870b-5b9a65cdae5a\",\"type\":\"Selection\"},{\"attributes\":{\"formatter\":{\"id\":\"c71b5822-c7ad-409e-955a-4715b6bf34eb\",\"type\":\"BasicTickFormatter\"},\"plot\":{\"id\":\"5baf2139-71fe-4e16-a41c-43eec963f29b\",\"subtype\":\"Figure\",\"type\":\"Plot\"},\"ticker\":{\"id\":\"0c571a74-9fc2-4407-af42-b8753f5eaa56\",\"type\":\"BasicTicker\"}},\"id\":\"9ce774f7-b468-4bb1-837e-b2030f271a69\",\"type\":\"LinearAxis\"},{\"attributes\":{},\"id\":\"92451aa9-6189-46b2-bad5-407c091a030b\",\"type\":\"UnionRenderers\"},{\"attributes\":{},\"id\":\"0c571a74-9fc2-4407-af42-b8753f5eaa56\",\"type\":\"BasicTicker\"},{\"attributes\":{\"dimension\":1,\"plot\":{\"id\":\"5baf2139-71fe-4e16-a41c-43eec963f29b\",\"subtype\":\"Figure\",\"type\":\"Plot\"},\"ticker\":{\"id\":\"0c571a74-9fc2-4407-af42-b8753f5eaa56\",\"type\":\"BasicTicker\"}},\"id\":\"372633c0-9008-4538-b64d-ffa67171e5c5\",\"type\":\"Grid\"},{\"attributes\":{\"active_drag\":\"auto\",\"active_inspect\":\"auto\",\"active_multi\":null,\"active_scroll\":{\"id\":\"81c91d0f-1a3a-4e62-8153-ccbc9bd02096\",\"type\":\"WheelZoomTool\"},\"active_tap\":\"auto\",\"tools\":[{\"id\":\"e28704e7-64bb-4a95-a552-1b1c89ebf254\",\"type\":\"PanTool\"},{\"id\":\"81c91d0f-1a3a-4e62-8153-ccbc9bd02096\",\"type\":\"WheelZoomTool\"},{\"id\":\"48dfce05-d1a2-444e-940c-83b9c745f696\",\"type\":\"BoxZoomTool\"},{\"id\":\"8b58a9d4-6790-4891-85b6-e058810dafea\",\"type\":\"SaveTool\"},{\"id\":\"64373bc6-941d-4fec-a2a1-6a4c75457b0e\",\"type\":\"ResetTool\"},{\"id\":\"d64b91bb-3192-454f-a81f-13ef2b58a8f3\",\"type\":\"HelpTool\"},{\"id\":\"df889c25-4df9-451f-b510-04a8e54ec81c\",\"type\":\"HoverTool\"}]},\"id\":\"d1951feb-5e0e-44ac-bbf7-170191577258\",\"type\":\"Toolbar\"}],\"root_ids\":[\"5baf2139-71fe-4e16-a41c-43eec963f29b\"]},\"title\":\"Bokeh Application\",\"version\":\"0.13.0\"}};\n",
              "  var render_items = [{\"docid\":\"927b3132-b262-4141-84d6-c9635a9cda66\",\"roots\":{\"5baf2139-71fe-4e16-a41c-43eec963f29b\":\"e6909abb-59db-4a84-8ab5-6463f90af343\"}}];\n",
              "  root.Bokeh.embed.embed_items_notebook(docs_json, render_items);\n",
              "\n",
              "  }\n",
              "  if (root.Bokeh !== undefined) {\n",
              "    embed_document(root);\n",
              "  } else {\n",
              "    var attempts = 0;\n",
              "    var timer = setInterval(function(root) {\n",
              "      if (root.Bokeh !== undefined) {\n",
              "        embed_document(root);\n",
              "        clearInterval(timer);\n",
              "      }\n",
              "      attempts++;\n",
              "      if (attempts > 100) {\n",
              "        console.log(\"Bokeh: ERROR: Unable to run BokehJS code because BokehJS library is missing\")\n",
              "        clearInterval(timer);\n",
              "      }\n",
              "    }, 10, root)\n",
              "  }\n",
              "})(window);"
            ],
            "application/vnd.bokehjs_exec.v0+json": ""
          },
          "metadata": {
            "tags": [],
            "application/vnd.bokehjs_exec.v0+json": {
              "id": "5baf2139-71fe-4e16-a41c-43eec963f29b"
            }
          }
        }
      ]
    },
    {
      "metadata": {
        "id": "UnQMDFTgKCY0",
        "colab_type": "text"
      },
      "cell_type": "markdown",
      "source": [
        "## Визуализация работы сети\n",
        "\n",
        "На каждом шаге RNN выдает какой-то вектор. Полносвязный слой применяется только к последнему выходу. Но можно же посмотреть и на промежуточные состояния - как менялось мнение сети о том, к чему относится это слово.\n",
        "\n",
        "**Задание** Напишите свой визуализатор."
      ]
    },
    {
      "metadata": {
        "id": "86lffPwLKmqt",
        "colab_type": "code",
        "colab": {}
      },
      "cell_type": "code",
      "source": [
        ""
      ],
      "execution_count": 0,
      "outputs": []
    },
    {
      "metadata": {
        "id": "DickfCNwJZFT",
        "colab_type": "text"
      },
      "cell_type": "markdown",
      "source": [
        "## Улучшение сети\n",
        "\n",
        "**Задание** Замените SimpleRNN на LSTM. Сравните качества.\n",
        "\n",
        "**Задание** Добавьте Dropout до LSTM (а можно и после). Адекватным будет значение порядка 0.3.\n",
        "\n",
        "**Задание** Важным видом RNN является Bidirectional RNN. По сути это две RNN, одна обходит последовательность слева направо, вторая - наоборот. \n",
        "\n",
        "В результате для каждого момента времени у нас есть вектор $h_t = [f_t; b_t]$ - конкатенация (или какая-то ещё функция от $f_t$ и $b_t$) состояний $f_t$ и $b_t$ - прямого и обратного прохода последовательности. В сумме они покрывают весь контекст.\n",
        "\n",
        "В нашей задаче Bidirectional вариант может помочь тем, что сеть будет меньше забывать, с чего начиналась последовательность. То есть нам нужно будет взять $f_N$ и $b_N$ состояния: первое - последнее состояние в проходе слева направо, т.е. выход от последнего символа. Второе - последнее состояние при обратно проходе, т.е. выход для первого символа.\n",
        "\n",
        "Реализуйте Bidirectional классификатор. Для этого в `LSTM` есть параметр `bidirectional`."
      ]
    },
    {
      "metadata": {
        "id": "wA7cFxNieEsd",
        "colab_type": "code",
        "colab": {}
      },
      "cell_type": "code",
      "source": [
        "class SurnamesClassifierLSTM(nn.Module):\n",
        "    def __init__(self, vocab_size, emb_dim, lstm_hidden_dim, classes_count):\n",
        "        super().__init__()\n",
        "        \n",
        "        self._emb = nn.Embedding(vocab_size, emb_dim)\n",
        "        self._dout = nn.Dropout(0.3)\n",
        "        self._lstm = nn.LSTM(emb_dim, lstm_hidden_dim, bidirectional=True)\n",
        "        self._out = nn.Linear(lstm_hidden_dim * 2, classes_count)\n",
        "        \n",
        "    def forward(self, inputs):\n",
        "        'embed(inputs) -> prediction'\n",
        "        outputs = self.embed(inputs)\n",
        "#         print(outputs.shape)\n",
        "        outputs = self._dout(outputs)\n",
        "        outputs = self._out(outputs)\n",
        "#         print(outputs.shape)\n",
        "        return outputs\n",
        "    \n",
        "    def embed(self, inputs):\n",
        "        'inputs -> word embedding'\n",
        "        symbol_embeds = self._emb(inputs)  # (seq_len, batch_size,emb_dim)\n",
        "#         print(symbol_embeds.shape)\n",
        "        embeds = self._lstm(symbol_embeds)[1][0] # (num_lstm_layers, batch_size, lstm_hidden_dim)\n",
        "#         print(embeds.shape)\n",
        "        embeds = torch.cat((embeds[0], embeds[1]), 1) # TODO (batch_size, lstm_hidden_dim * num_layers)\n",
        "        return embeds"
      ],
      "execution_count": 0,
      "outputs": []
    },
    {
      "metadata": {
        "id": "sbvNptlBeN5b",
        "colab_type": "code",
        "outputId": "84cf2447-39a9-4ef0-f955-bf0bfaf31d5e",
        "colab": {
          "base_uri": "https://localhost:8080/",
          "height": 1234
        }
      },
      "cell_type": "code",
      "source": [
        "model = SurnamesClassifierLSTM(vocab_size=len(char2ind), emb_dim=16, lstm_hidden_dim=64, classes_count=len(lang2ind)).cuda()\n",
        "\n",
        "criterion = nn.CrossEntropyLoss().cuda()\n",
        "optimizer = optim.Adam(model.parameters())\n",
        "\n",
        "fit(model, criterion, optimizer, epochs_count=75, batch_size=128, train_data=(data_train, labels_train),\n",
        "    val_data=(data_test, labels_test), val_batch_size=512)"
      ],
      "execution_count": 0,
      "outputs": [
        {
          "output_type": "stream",
          "text": [
            "Epoch 1 / 75, Epoch Time = 1.52s: Train Loss = 1.9149, Val Loss = 1.5725\n",
            "Epoch 2 / 75, Epoch Time = 1.54s: Train Loss = 1.4297, Val Loss = 1.2998\n",
            "Epoch 3 / 75, Epoch Time = 1.56s: Train Loss = 1.2092, Val Loss = 1.1382\n",
            "Epoch 4 / 75, Epoch Time = 1.64s: Train Loss = 1.0941, Val Loss = 1.0762\n",
            "Epoch 5 / 75, Epoch Time = 1.61s: Train Loss = 1.0281, Val Loss = 0.9826\n",
            "Epoch 6 / 75, Epoch Time = 1.59s: Train Loss = 0.9729, Val Loss = 0.9314\n",
            "Epoch 7 / 75, Epoch Time = 1.58s: Train Loss = 0.9157, Val Loss = 0.9464\n",
            "Epoch 8 / 75, Epoch Time = 1.59s: Train Loss = 0.8813, Val Loss = 0.8636\n",
            "Epoch 9 / 75, Epoch Time = 1.65s: Train Loss = 0.8373, Val Loss = 0.8403\n",
            "Epoch 10 / 75, Epoch Time = 1.57s: Train Loss = 0.7975, Val Loss = 0.8095\n",
            "Epoch 11 / 75, Epoch Time = 1.60s: Train Loss = 0.7690, Val Loss = 0.7894\n",
            "Epoch 12 / 75, Epoch Time = 1.58s: Train Loss = 0.7484, Val Loss = 0.7660\n",
            "Epoch 13 / 75, Epoch Time = 1.57s: Train Loss = 0.7169, Val Loss = 0.7332\n",
            "Epoch 14 / 75, Epoch Time = 1.64s: Train Loss = 0.6983, Val Loss = 0.7381\n",
            "Epoch 15 / 75, Epoch Time = 1.57s: Train Loss = 0.6732, Val Loss = 0.7154\n",
            "Epoch 16 / 75, Epoch Time = 1.56s: Train Loss = 0.6573, Val Loss = 0.7064\n",
            "Epoch 17 / 75, Epoch Time = 1.58s: Train Loss = 0.6421, Val Loss = 0.6974\n",
            "Epoch 18 / 75, Epoch Time = 1.65s: Train Loss = 0.6290, Val Loss = 0.7084\n",
            "Epoch 19 / 75, Epoch Time = 1.56s: Train Loss = 0.6116, Val Loss = 0.6809\n",
            "Epoch 20 / 75, Epoch Time = 1.57s: Train Loss = 0.5978, Val Loss = 0.6581\n",
            "Epoch 21 / 75, Epoch Time = 1.56s: Train Loss = 0.5817, Val Loss = 0.6774\n",
            "Epoch 22 / 75, Epoch Time = 1.57s: Train Loss = 0.5772, Val Loss = 0.6673\n",
            "Epoch 23 / 75, Epoch Time = 1.65s: Train Loss = 0.5588, Val Loss = 0.6507\n",
            "Epoch 24 / 75, Epoch Time = 1.56s: Train Loss = 0.5438, Val Loss = 0.6652\n",
            "Epoch 25 / 75, Epoch Time = 1.56s: Train Loss = 0.5406, Val Loss = 0.6566\n",
            "Epoch 26 / 75, Epoch Time = 1.57s: Train Loss = 0.5268, Val Loss = 0.6417\n",
            "Epoch 27 / 75, Epoch Time = 1.58s: Train Loss = 0.5130, Val Loss = 0.6595\n",
            "Epoch 28 / 75, Epoch Time = 1.66s: Train Loss = 0.5022, Val Loss = 0.6419\n",
            "Epoch 29 / 75, Epoch Time = 1.56s: Train Loss = 0.4915, Val Loss = 0.6501\n",
            "Epoch 30 / 75, Epoch Time = 1.56s: Train Loss = 0.4849, Val Loss = 0.6512\n",
            "Epoch 31 / 75, Epoch Time = 1.58s: Train Loss = 0.4774, Val Loss = 0.6424\n",
            "Epoch 32 / 75, Epoch Time = 1.56s: Train Loss = 0.4641, Val Loss = 0.6459\n",
            "Epoch 33 / 75, Epoch Time = 1.66s: Train Loss = 0.4524, Val Loss = 0.6365\n",
            "Epoch 34 / 75, Epoch Time = 1.58s: Train Loss = 0.4431, Val Loss = 0.6573\n",
            "Epoch 35 / 75, Epoch Time = 1.58s: Train Loss = 0.4445, Val Loss = 0.6459\n",
            "Epoch 36 / 75, Epoch Time = 1.58s: Train Loss = 0.4294, Val Loss = 0.6486\n",
            "Epoch 37 / 75, Epoch Time = 1.66s: Train Loss = 0.4230, Val Loss = 0.6483\n",
            "Epoch 38 / 75, Epoch Time = 1.58s: Train Loss = 0.4139, Val Loss = 0.6421\n",
            "Epoch 39 / 75, Epoch Time = 1.56s: Train Loss = 0.4054, Val Loss = 0.6537\n",
            "Epoch 40 / 75, Epoch Time = 1.60s: Train Loss = 0.3962, Val Loss = 0.6389\n"
          ],
          "name": "stdout"
        },
        {
          "output_type": "error",
          "ename": "KeyboardInterrupt",
          "evalue": "ignored",
          "traceback": [
            "\u001b[0;31m---------------------------------------------------------------------------\u001b[0m",
            "\u001b[0;31mKeyboardInterrupt\u001b[0m                         Traceback (most recent call last)",
            "\u001b[0;32m<ipython-input-69-c9cc74d546c4>\u001b[0m in \u001b[0;36m<module>\u001b[0;34m()\u001b[0m\n\u001b[1;32m      5\u001b[0m \u001b[0;34m\u001b[0m\u001b[0m\n\u001b[1;32m      6\u001b[0m fit(model, criterion, optimizer, epochs_count=75, batch_size=128, train_data=(data_train, labels_train),\n\u001b[0;32m----> 7\u001b[0;31m     val_data=(data_test, labels_test), val_batch_size=512)\n\u001b[0m",
            "\u001b[0;32m<ipython-input-29-88c644e885ec>\u001b[0m in \u001b[0;36mfit\u001b[0;34m(model, criterion, optimizer, train_data, epochs_count, batch_size, val_data, val_batch_size)\u001b[0m\n\u001b[1;32m     36\u001b[0m     \u001b[0;32mfor\u001b[0m \u001b[0mepoch\u001b[0m \u001b[0;32min\u001b[0m \u001b[0mrange\u001b[0m\u001b[0;34m(\u001b[0m\u001b[0mepochs_count\u001b[0m\u001b[0;34m)\u001b[0m\u001b[0;34m:\u001b[0m\u001b[0;34m\u001b[0m\u001b[0m\n\u001b[1;32m     37\u001b[0m         \u001b[0mstart_time\u001b[0m \u001b[0;34m=\u001b[0m \u001b[0mtime\u001b[0m\u001b[0;34m.\u001b[0m\u001b[0mtime\u001b[0m\u001b[0;34m(\u001b[0m\u001b[0;34m)\u001b[0m\u001b[0;34m\u001b[0m\u001b[0m\n\u001b[0;32m---> 38\u001b[0;31m         \u001b[0mtrain_loss\u001b[0m \u001b[0;34m=\u001b[0m \u001b[0mdo_epoch\u001b[0m\u001b[0;34m(\u001b[0m\u001b[0mmodel\u001b[0m\u001b[0;34m,\u001b[0m \u001b[0mcriterion\u001b[0m\u001b[0;34m,\u001b[0m \u001b[0mtrain_data\u001b[0m\u001b[0;34m,\u001b[0m \u001b[0mbatch_size\u001b[0m\u001b[0;34m,\u001b[0m \u001b[0moptimizer\u001b[0m\u001b[0;34m)\u001b[0m\u001b[0;34m\u001b[0m\u001b[0m\n\u001b[0m\u001b[1;32m     39\u001b[0m \u001b[0;34m\u001b[0m\u001b[0m\n\u001b[1;32m     40\u001b[0m         \u001b[0moutput_info\u001b[0m \u001b[0;34m=\u001b[0m \u001b[0;34m'\\rEpoch {} / {}, Epoch Time = {:.2f}s: Train Loss = {:.4f}'\u001b[0m\u001b[0;34m\u001b[0m\u001b[0m\n",
            "\u001b[0;32m<ipython-input-29-88c644e885ec>\u001b[0m in \u001b[0;36mdo_epoch\u001b[0;34m(model, criterion, data, batch_size, optimizer)\u001b[0m\n\u001b[1;32m     22\u001b[0m                 \u001b[0moptimizer\u001b[0m\u001b[0;34m.\u001b[0m\u001b[0mzero_grad\u001b[0m\u001b[0;34m(\u001b[0m\u001b[0;34m)\u001b[0m\u001b[0;34m\u001b[0m\u001b[0m\n\u001b[1;32m     23\u001b[0m                 \u001b[0mloss\u001b[0m\u001b[0;34m.\u001b[0m\u001b[0mbackward\u001b[0m\u001b[0;34m(\u001b[0m\u001b[0;34m)\u001b[0m\u001b[0;34m\u001b[0m\u001b[0m\n\u001b[0;32m---> 24\u001b[0;31m                 \u001b[0mnn\u001b[0m\u001b[0;34m.\u001b[0m\u001b[0mutils\u001b[0m\u001b[0;34m.\u001b[0m\u001b[0mclip_grad_norm_\u001b[0m\u001b[0;34m(\u001b[0m\u001b[0mmodel\u001b[0m\u001b[0;34m.\u001b[0m\u001b[0mparameters\u001b[0m\u001b[0;34m(\u001b[0m\u001b[0;34m)\u001b[0m\u001b[0;34m,\u001b[0m \u001b[0;36m1.\u001b[0m\u001b[0;34m)\u001b[0m\u001b[0;34m\u001b[0m\u001b[0m\n\u001b[0m\u001b[1;32m     25\u001b[0m                 \u001b[0moptimizer\u001b[0m\u001b[0;34m.\u001b[0m\u001b[0mstep\u001b[0m\u001b[0;34m(\u001b[0m\u001b[0;34m)\u001b[0m\u001b[0;34m\u001b[0m\u001b[0m\n\u001b[1;32m     26\u001b[0m \u001b[0;34m\u001b[0m\u001b[0m\n",
            "\u001b[0;32m/usr/local/lib/python3.6/dist-packages/torch/nn/utils/clip_grad.py\u001b[0m in \u001b[0;36mclip_grad_norm_\u001b[0;34m(parameters, max_norm, norm_type)\u001b[0m\n\u001b[1;32m     30\u001b[0m         \u001b[0mtotal_norm\u001b[0m \u001b[0;34m=\u001b[0m \u001b[0;36m0\u001b[0m\u001b[0;34m\u001b[0m\u001b[0m\n\u001b[1;32m     31\u001b[0m         \u001b[0;32mfor\u001b[0m \u001b[0mp\u001b[0m \u001b[0;32min\u001b[0m \u001b[0mparameters\u001b[0m\u001b[0;34m:\u001b[0m\u001b[0;34m\u001b[0m\u001b[0m\n\u001b[0;32m---> 32\u001b[0;31m             \u001b[0mparam_norm\u001b[0m \u001b[0;34m=\u001b[0m \u001b[0mp\u001b[0m\u001b[0;34m.\u001b[0m\u001b[0mgrad\u001b[0m\u001b[0;34m.\u001b[0m\u001b[0mdata\u001b[0m\u001b[0;34m.\u001b[0m\u001b[0mnorm\u001b[0m\u001b[0;34m(\u001b[0m\u001b[0mnorm_type\u001b[0m\u001b[0;34m)\u001b[0m\u001b[0;34m\u001b[0m\u001b[0m\n\u001b[0m\u001b[1;32m     33\u001b[0m             \u001b[0mtotal_norm\u001b[0m \u001b[0;34m+=\u001b[0m \u001b[0mparam_norm\u001b[0m\u001b[0;34m.\u001b[0m\u001b[0mitem\u001b[0m\u001b[0;34m(\u001b[0m\u001b[0;34m)\u001b[0m \u001b[0;34m**\u001b[0m \u001b[0mnorm_type\u001b[0m\u001b[0;34m\u001b[0m\u001b[0m\n\u001b[1;32m     34\u001b[0m         \u001b[0mtotal_norm\u001b[0m \u001b[0;34m=\u001b[0m \u001b[0mtotal_norm\u001b[0m \u001b[0;34m**\u001b[0m \u001b[0;34m(\u001b[0m\u001b[0;36m1.\u001b[0m \u001b[0;34m/\u001b[0m \u001b[0mnorm_type\u001b[0m\u001b[0;34m)\u001b[0m\u001b[0;34m\u001b[0m\u001b[0m\n",
            "\u001b[0;31mKeyboardInterrupt\u001b[0m: "
          ]
        }
      ]
    },
    {
      "metadata": {
        "id": "0BMXrSVkjKsy",
        "colab_type": "code",
        "outputId": "eaeacc75-c24b-481a-c297-4f28180d957e",
        "colab": {
          "base_uri": "https://localhost:8080/",
          "height": 496
        }
      },
      "cell_type": "code",
      "source": [
        "from sklearn.metrics import accuracy_score, classification_report\n",
        "\n",
        "model.eval()\n",
        "X_test, y_test = next(iterate_batches(data_test, labels_test, batch_size=len(data_test)))\n",
        "X_test = torch.cuda.LongTensor(X_test)\n",
        "y_pred = torch.argmax(model(X_test), dim=1)\n",
        "print('Accuracy = {:.2%}'.format(accuracy_score(y_test, y_pred)))\n",
        "print('Classification report:')\n",
        "print( classification_report( y_test, y_pred, target_names=[lang for lang, _ in sorted(lang2ind.items(), key=lambda x: x[1])] ) )"
      ],
      "execution_count": 0,
      "outputs": [
        {
          "output_type": "stream",
          "text": [
            "Accuracy = 80.89%\n",
            "Classification report:\n",
            "             precision    recall  f1-score   support\n",
            "\n",
            "    Spanish       0.29      0.35      0.32        89\n",
            "   Japanese       0.84      0.89      0.86       297\n",
            "      Greek       0.76      0.62      0.68        61\n",
            "   Scottish       0.00      0.00      0.00        30\n",
            " Vietnamese       0.00      0.00      0.00        22\n",
            "    Russian       0.90      0.94      0.92      2823\n",
            "      Czech       0.42      0.32      0.36       156\n",
            "    Italian       0.71      0.60      0.65       213\n",
            "    English       0.74      0.79      0.76      1101\n",
            "     Korean       0.50      0.25      0.33        28\n",
            " Portuguese       0.00      0.00      0.00        22\n",
            "     German       0.47      0.45      0.46       217\n",
            "     French       0.64      0.08      0.15        83\n",
            "     Polish       0.35      0.19      0.25        42\n",
            "     Arabic       0.93      1.00      0.96       600\n",
            "      Dutch       0.57      0.30      0.40        89\n",
            "      Irish       0.66      0.27      0.38        70\n",
            "    Chinese       0.52      0.85      0.65        80\n",
            "\n",
            "avg / total       0.79      0.81      0.79      6023\n",
            "\n"
          ],
          "name": "stdout"
        },
        {
          "output_type": "stream",
          "text": [
            "/usr/local/lib/python3.6/dist-packages/sklearn/metrics/classification.py:1135: UndefinedMetricWarning: Precision and F-score are ill-defined and being set to 0.0 in labels with no predicted samples.\n",
            "  'precision', 'predicted', average, warn_for)\n"
          ],
          "name": "stderr"
        }
      ]
    },
    {
      "metadata": {
        "id": "LuUHQ9jVQX7K",
        "colab_type": "code",
        "outputId": "aeb36b60-2b8f-4fec-c46b-9b968bc6dc01",
        "colab": {
          "base_uri": "https://localhost:8080/",
          "height": 994
        }
      },
      "cell_type": "code",
      "source": [
        "word_indices = np.random.choice(np.arange(len(data_test)), 1000, replace=False)\n",
        "words = [data_test[ind] for ind in word_indices]\n",
        "word_labels = [labels_test[ind] for ind in word_indices]\n",
        "\n",
        "model.eval()\n",
        "X_batch, y_batch = next(iterate_batches(words, word_labels, batch_size=1000))\n",
        "embeddings = model.embed(torch.cuda.LongTensor(X_batch))\n",
        "# embeddings = embeddings()\n",
        "\n",
        "colors = plt.cm.tab20(y_batch) * 255\n",
        "\n",
        "visualize_embeddings(embeddings.detach().cpu().numpy(), words, colors)"
      ],
      "execution_count": 0,
      "outputs": [
        {
          "output_type": "stream",
          "text": [
            "[t-SNE] Computing 91 nearest neighbors...\n",
            "[t-SNE] Indexed 1000 samples in 0.003s...\n",
            "[t-SNE] Computed neighbors for 1000 samples in 0.291s...\n",
            "[t-SNE] Computed conditional probabilities for sample 1000 / 1000\n",
            "[t-SNE] Mean sigma: 2.086473\n",
            "[t-SNE] Computed conditional probabilities in 0.051s\n",
            "[t-SNE] Iteration 50: error = 68.3504028, gradient norm = 0.2873150 (50 iterations in 1.976s)\n",
            "[t-SNE] Iteration 100: error = 65.9152298, gradient norm = 0.2597707 (50 iterations in 2.651s)\n",
            "[t-SNE] Iteration 150: error = 66.0647964, gradient norm = 0.2586318 (50 iterations in 1.973s)\n",
            "[t-SNE] Iteration 200: error = 65.9178543, gradient norm = 0.2475349 (50 iterations in 2.043s)\n",
            "[t-SNE] Iteration 250: error = 66.0258255, gradient norm = 0.2507585 (50 iterations in 1.977s)\n",
            "[t-SNE] KL divergence after 250 iterations with early exaggeration: 66.025826\n",
            "[t-SNE] Iteration 300: error = 0.9235487, gradient norm = 0.0010635 (50 iterations in 1.723s)\n",
            "[t-SNE] Iteration 350: error = 0.8358365, gradient norm = 0.0003445 (50 iterations in 1.647s)\n",
            "[t-SNE] Iteration 400: error = 0.8118554, gradient norm = 0.0002049 (50 iterations in 1.646s)\n",
            "[t-SNE] Iteration 450: error = 0.8032784, gradient norm = 0.0001420 (50 iterations in 1.633s)\n",
            "[t-SNE] Iteration 500: error = 0.7979811, gradient norm = 0.0001179 (50 iterations in 1.601s)\n",
            "[t-SNE] Iteration 550: error = 0.7951561, gradient norm = 0.0001080 (50 iterations in 1.618s)\n",
            "[t-SNE] Iteration 600: error = 0.7934031, gradient norm = 0.0001119 (50 iterations in 1.614s)\n",
            "[t-SNE] Iteration 650: error = 0.7921898, gradient norm = 0.0000961 (50 iterations in 1.670s)\n",
            "[t-SNE] Iteration 700: error = 0.7912039, gradient norm = 0.0001023 (50 iterations in 1.649s)\n",
            "[t-SNE] Iteration 750: error = 0.7901819, gradient norm = 0.0000879 (50 iterations in 1.670s)\n",
            "[t-SNE] Iteration 800: error = 0.7900597, gradient norm = 0.0000754 (50 iterations in 1.617s)\n",
            "[t-SNE] Iteration 850: error = 0.7891834, gradient norm = 0.0000745 (50 iterations in 1.621s)\n",
            "[t-SNE] Iteration 900: error = 0.7885846, gradient norm = 0.0001008 (50 iterations in 1.641s)\n",
            "[t-SNE] Iteration 950: error = 0.7862236, gradient norm = 0.0003281 (50 iterations in 2.073s)\n",
            "[t-SNE] Iteration 1000: error = 0.7840048, gradient norm = 0.0000714 (50 iterations in 1.865s)\n",
            "[t-SNE] Error after 1000 iterations: 0.784005\n"
          ],
          "name": "stdout"
        },
        {
          "output_type": "stream",
          "text": [
            "/usr/local/lib/python3.6/dist-packages/sklearn/preprocessing/data.py:164: UserWarning: Numerical issues were encountered when centering the data and might not be solved. Dataset may contain too large values. You may need to prescale your features.\n",
            "  warnings.warn(\"Numerical issues were encountered \"\n"
          ],
          "name": "stderr"
        },
        {
          "output_type": "display_data",
          "data": {
            "text/html": [
              "\n",
              "    <div class=\"bk-root\">\n",
              "        <a href=\"https://bokeh.pydata.org\" target=\"_blank\" class=\"bk-logo bk-logo-small bk-logo-notebook\"></a>\n",
              "        <span id=\"c85ee900-1676-4fef-bc19-c5326022fd44\">Loading BokehJS ...</span>\n",
              "    </div>"
            ]
          },
          "metadata": {
            "tags": []
          }
        },
        {
          "output_type": "display_data",
          "data": {
            "application/javascript": [
              "\n",
              "(function(root) {\n",
              "  function now() {\n",
              "    return new Date();\n",
              "  }\n",
              "\n",
              "  var force = true;\n",
              "\n",
              "  if (typeof (root._bokeh_onload_callbacks) === \"undefined\" || force === true) {\n",
              "    root._bokeh_onload_callbacks = [];\n",
              "    root._bokeh_is_loading = undefined;\n",
              "  }\n",
              "\n",
              "  var JS_MIME_TYPE = 'application/javascript';\n",
              "  var HTML_MIME_TYPE = 'text/html';\n",
              "  var EXEC_MIME_TYPE = 'application/vnd.bokehjs_exec.v0+json';\n",
              "  var CLASS_NAME = 'output_bokeh rendered_html';\n",
              "\n",
              "  /**\n",
              "   * Render data to the DOM node\n",
              "   */\n",
              "  function render(props, node) {\n",
              "    var script = document.createElement(\"script\");\n",
              "    node.appendChild(script);\n",
              "  }\n",
              "\n",
              "  /**\n",
              "   * Handle when an output is cleared or removed\n",
              "   */\n",
              "  function handleClearOutput(event, handle) {\n",
              "    var cell = handle.cell;\n",
              "\n",
              "    var id = cell.output_area._bokeh_element_id;\n",
              "    var server_id = cell.output_area._bokeh_server_id;\n",
              "    // Clean up Bokeh references\n",
              "    if (id != null && id in Bokeh.index) {\n",
              "      Bokeh.index[id].model.document.clear();\n",
              "      delete Bokeh.index[id];\n",
              "    }\n",
              "\n",
              "    if (server_id !== undefined) {\n",
              "      // Clean up Bokeh references\n",
              "      var cmd = \"from bokeh.io.state import curstate; print(curstate().uuid_to_server['\" + server_id + \"'].get_sessions()[0].document.roots[0]._id)\";\n",
              "      cell.notebook.kernel.execute(cmd, {\n",
              "        iopub: {\n",
              "          output: function(msg) {\n",
              "            var id = msg.content.text.trim();\n",
              "            if (id in Bokeh.index) {\n",
              "              Bokeh.index[id].model.document.clear();\n",
              "              delete Bokeh.index[id];\n",
              "            }\n",
              "          }\n",
              "        }\n",
              "      });\n",
              "      // Destroy server and session\n",
              "      var cmd = \"import bokeh.io.notebook as ion; ion.destroy_server('\" + server_id + \"')\";\n",
              "      cell.notebook.kernel.execute(cmd);\n",
              "    }\n",
              "  }\n",
              "\n",
              "  /**\n",
              "   * Handle when a new output is added\n",
              "   */\n",
              "  function handleAddOutput(event, handle) {\n",
              "    var output_area = handle.output_area;\n",
              "    var output = handle.output;\n",
              "\n",
              "    // limit handleAddOutput to display_data with EXEC_MIME_TYPE content only\n",
              "    if ((output.output_type != \"display_data\") || (!output.data.hasOwnProperty(EXEC_MIME_TYPE))) {\n",
              "      return\n",
              "    }\n",
              "\n",
              "    var toinsert = output_area.element.find(\".\" + CLASS_NAME.split(' ')[0]);\n",
              "\n",
              "    if (output.metadata[EXEC_MIME_TYPE][\"id\"] !== undefined) {\n",
              "      toinsert[toinsert.length - 1].firstChild.textContent = output.data[JS_MIME_TYPE];\n",
              "      // store reference to embed id on output_area\n",
              "      output_area._bokeh_element_id = output.metadata[EXEC_MIME_TYPE][\"id\"];\n",
              "    }\n",
              "    if (output.metadata[EXEC_MIME_TYPE][\"server_id\"] !== undefined) {\n",
              "      var bk_div = document.createElement(\"div\");\n",
              "      bk_div.innerHTML = output.data[HTML_MIME_TYPE];\n",
              "      var script_attrs = bk_div.children[0].attributes;\n",
              "      for (var i = 0; i < script_attrs.length; i++) {\n",
              "        toinsert[toinsert.length - 1].firstChild.setAttribute(script_attrs[i].name, script_attrs[i].value);\n",
              "      }\n",
              "      // store reference to server id on output_area\n",
              "      output_area._bokeh_server_id = output.metadata[EXEC_MIME_TYPE][\"server_id\"];\n",
              "    }\n",
              "  }\n",
              "\n",
              "  function register_renderer(events, OutputArea) {\n",
              "\n",
              "    function append_mime(data, metadata, element) {\n",
              "      // create a DOM node to render to\n",
              "      var toinsert = this.create_output_subarea(\n",
              "        metadata,\n",
              "        CLASS_NAME,\n",
              "        EXEC_MIME_TYPE\n",
              "      );\n",
              "      this.keyboard_manager.register_events(toinsert);\n",
              "      // Render to node\n",
              "      var props = {data: data, metadata: metadata[EXEC_MIME_TYPE]};\n",
              "      render(props, toinsert[toinsert.length - 1]);\n",
              "      element.append(toinsert);\n",
              "      return toinsert\n",
              "    }\n",
              "\n",
              "    /* Handle when an output is cleared or removed */\n",
              "    events.on('clear_output.CodeCell', handleClearOutput);\n",
              "    events.on('delete.Cell', handleClearOutput);\n",
              "\n",
              "    /* Handle when a new output is added */\n",
              "    events.on('output_added.OutputArea', handleAddOutput);\n",
              "\n",
              "    /**\n",
              "     * Register the mime type and append_mime function with output_area\n",
              "     */\n",
              "    OutputArea.prototype.register_mime_type(EXEC_MIME_TYPE, append_mime, {\n",
              "      /* Is output safe? */\n",
              "      safe: true,\n",
              "      /* Index of renderer in `output_area.display_order` */\n",
              "      index: 0\n",
              "    });\n",
              "  }\n",
              "\n",
              "  // register the mime type if in Jupyter Notebook environment and previously unregistered\n",
              "  if (root.Jupyter !== undefined) {\n",
              "    var events = require('base/js/events');\n",
              "    var OutputArea = require('notebook/js/outputarea').OutputArea;\n",
              "\n",
              "    if (OutputArea.prototype.mime_types().indexOf(EXEC_MIME_TYPE) == -1) {\n",
              "      register_renderer(events, OutputArea);\n",
              "    }\n",
              "  }\n",
              "\n",
              "  \n",
              "  if (typeof (root._bokeh_timeout) === \"undefined\" || force === true) {\n",
              "    root._bokeh_timeout = Date.now() + 5000;\n",
              "    root._bokeh_failed_load = false;\n",
              "  }\n",
              "\n",
              "  var NB_LOAD_WARNING = {'data': {'text/html':\n",
              "     \"<div style='background-color: #fdd'>\\n\"+\n",
              "     \"<p>\\n\"+\n",
              "     \"BokehJS does not appear to have successfully loaded. If loading BokehJS from CDN, this \\n\"+\n",
              "     \"may be due to a slow or bad network connection. Possible fixes:\\n\"+\n",
              "     \"</p>\\n\"+\n",
              "     \"<ul>\\n\"+\n",
              "     \"<li>re-rerun `output_notebook()` to attempt to load from CDN again, or</li>\\n\"+\n",
              "     \"<li>use INLINE resources instead, as so:</li>\\n\"+\n",
              "     \"</ul>\\n\"+\n",
              "     \"<code>\\n\"+\n",
              "     \"from bokeh.resources import INLINE\\n\"+\n",
              "     \"output_notebook(resources=INLINE)\\n\"+\n",
              "     \"</code>\\n\"+\n",
              "     \"</div>\"}};\n",
              "\n",
              "  function display_loaded() {\n",
              "    var el = document.getElementById(\"c85ee900-1676-4fef-bc19-c5326022fd44\");\n",
              "    if (el != null) {\n",
              "      el.textContent = \"BokehJS is loading...\";\n",
              "    }\n",
              "    if (root.Bokeh !== undefined) {\n",
              "      if (el != null) {\n",
              "        el.textContent = \"BokehJS \" + root.Bokeh.version + \" successfully loaded.\";\n",
              "      }\n",
              "    } else if (Date.now() < root._bokeh_timeout) {\n",
              "      setTimeout(display_loaded, 100)\n",
              "    }\n",
              "  }\n",
              "\n",
              "\n",
              "  function run_callbacks() {\n",
              "    try {\n",
              "      root._bokeh_onload_callbacks.forEach(function(callback) { callback() });\n",
              "    }\n",
              "    finally {\n",
              "      delete root._bokeh_onload_callbacks\n",
              "    }\n",
              "    console.info(\"Bokeh: all callbacks have finished\");\n",
              "  }\n",
              "\n",
              "  function load_libs(js_urls, callback) {\n",
              "    root._bokeh_onload_callbacks.push(callback);\n",
              "    if (root._bokeh_is_loading > 0) {\n",
              "      console.log(\"Bokeh: BokehJS is being loaded, scheduling callback at\", now());\n",
              "      return null;\n",
              "    }\n",
              "    if (js_urls == null || js_urls.length === 0) {\n",
              "      run_callbacks();\n",
              "      return null;\n",
              "    }\n",
              "    console.log(\"Bokeh: BokehJS not loaded, scheduling load and callback at\", now());\n",
              "    root._bokeh_is_loading = js_urls.length;\n",
              "    for (var i = 0; i < js_urls.length; i++) {\n",
              "      var url = js_urls[i];\n",
              "      var s = document.createElement('script');\n",
              "      s.src = url;\n",
              "      s.async = false;\n",
              "      s.onreadystatechange = s.onload = function() {\n",
              "        root._bokeh_is_loading--;\n",
              "        if (root._bokeh_is_loading === 0) {\n",
              "          console.log(\"Bokeh: all BokehJS libraries loaded\");\n",
              "          run_callbacks()\n",
              "        }\n",
              "      };\n",
              "      s.onerror = function() {\n",
              "        console.warn(\"failed to load library \" + url);\n",
              "      };\n",
              "      console.log(\"Bokeh: injecting script tag for BokehJS library: \", url);\n",
              "      document.getElementsByTagName(\"head\")[0].appendChild(s);\n",
              "    }\n",
              "  };var element = document.getElementById(\"c85ee900-1676-4fef-bc19-c5326022fd44\");\n",
              "  if (element == null) {\n",
              "    console.log(\"Bokeh: ERROR: autoload.js configured with elementid 'c85ee900-1676-4fef-bc19-c5326022fd44' but no matching script tag was found. \")\n",
              "    return false;\n",
              "  }\n",
              "\n",
              "  var js_urls = [\"https://cdn.pydata.org/bokeh/release/bokeh-0.13.0.min.js\", \"https://cdn.pydata.org/bokeh/release/bokeh-widgets-0.13.0.min.js\", \"https://cdn.pydata.org/bokeh/release/bokeh-tables-0.13.0.min.js\", \"https://cdn.pydata.org/bokeh/release/bokeh-gl-0.13.0.min.js\"];\n",
              "\n",
              "  var inline_js = [\n",
              "    function(Bokeh) {\n",
              "      Bokeh.set_log_level(\"info\");\n",
              "    },\n",
              "    \n",
              "    function(Bokeh) {\n",
              "      \n",
              "    },\n",
              "    function(Bokeh) {\n",
              "      console.log(\"Bokeh: injecting CSS: https://cdn.pydata.org/bokeh/release/bokeh-0.13.0.min.css\");\n",
              "      Bokeh.embed.inject_css(\"https://cdn.pydata.org/bokeh/release/bokeh-0.13.0.min.css\");\n",
              "      console.log(\"Bokeh: injecting CSS: https://cdn.pydata.org/bokeh/release/bokeh-widgets-0.13.0.min.css\");\n",
              "      Bokeh.embed.inject_css(\"https://cdn.pydata.org/bokeh/release/bokeh-widgets-0.13.0.min.css\");\n",
              "      console.log(\"Bokeh: injecting CSS: https://cdn.pydata.org/bokeh/release/bokeh-tables-0.13.0.min.css\");\n",
              "      Bokeh.embed.inject_css(\"https://cdn.pydata.org/bokeh/release/bokeh-tables-0.13.0.min.css\");\n",
              "    }\n",
              "  ];\n",
              "\n",
              "  function run_inline_js() {\n",
              "    \n",
              "    if ((root.Bokeh !== undefined) || (force === true)) {\n",
              "      for (var i = 0; i < inline_js.length; i++) {\n",
              "        inline_js[i].call(root, root.Bokeh);\n",
              "      }if (force === true) {\n",
              "        display_loaded();\n",
              "      }} else if (Date.now() < root._bokeh_timeout) {\n",
              "      setTimeout(run_inline_js, 100);\n",
              "    } else if (!root._bokeh_failed_load) {\n",
              "      console.log(\"Bokeh: BokehJS failed to load within specified timeout.\");\n",
              "      root._bokeh_failed_load = true;\n",
              "    } else if (force !== true) {\n",
              "      var cell = $(document.getElementById(\"c85ee900-1676-4fef-bc19-c5326022fd44\")).parents('.cell').data().cell;\n",
              "      cell.output_area.append_execute_result(NB_LOAD_WARNING)\n",
              "    }\n",
              "\n",
              "  }\n",
              "\n",
              "  if (root._bokeh_is_loading === 0) {\n",
              "    console.log(\"Bokeh: BokehJS loaded, going straight to plotting\");\n",
              "    run_inline_js();\n",
              "  } else {\n",
              "    load_libs(js_urls, function() {\n",
              "      console.log(\"Bokeh: BokehJS plotting callback run at\", now());\n",
              "      run_inline_js();\n",
              "    });\n",
              "  }\n",
              "}(window));"
            ],
            "application/vnd.bokehjs_load.v0+json": "\n(function(root) {\n  function now() {\n    return new Date();\n  }\n\n  var force = true;\n\n  if (typeof (root._bokeh_onload_callbacks) === \"undefined\" || force === true) {\n    root._bokeh_onload_callbacks = [];\n    root._bokeh_is_loading = undefined;\n  }\n\n  \n\n  \n  if (typeof (root._bokeh_timeout) === \"undefined\" || force === true) {\n    root._bokeh_timeout = Date.now() + 5000;\n    root._bokeh_failed_load = false;\n  }\n\n  var NB_LOAD_WARNING = {'data': {'text/html':\n     \"<div style='background-color: #fdd'>\\n\"+\n     \"<p>\\n\"+\n     \"BokehJS does not appear to have successfully loaded. If loading BokehJS from CDN, this \\n\"+\n     \"may be due to a slow or bad network connection. Possible fixes:\\n\"+\n     \"</p>\\n\"+\n     \"<ul>\\n\"+\n     \"<li>re-rerun `output_notebook()` to attempt to load from CDN again, or</li>\\n\"+\n     \"<li>use INLINE resources instead, as so:</li>\\n\"+\n     \"</ul>\\n\"+\n     \"<code>\\n\"+\n     \"from bokeh.resources import INLINE\\n\"+\n     \"output_notebook(resources=INLINE)\\n\"+\n     \"</code>\\n\"+\n     \"</div>\"}};\n\n  function display_loaded() {\n    var el = document.getElementById(\"c85ee900-1676-4fef-bc19-c5326022fd44\");\n    if (el != null) {\n      el.textContent = \"BokehJS is loading...\";\n    }\n    if (root.Bokeh !== undefined) {\n      if (el != null) {\n        el.textContent = \"BokehJS \" + root.Bokeh.version + \" successfully loaded.\";\n      }\n    } else if (Date.now() < root._bokeh_timeout) {\n      setTimeout(display_loaded, 100)\n    }\n  }\n\n\n  function run_callbacks() {\n    try {\n      root._bokeh_onload_callbacks.forEach(function(callback) { callback() });\n    }\n    finally {\n      delete root._bokeh_onload_callbacks\n    }\n    console.info(\"Bokeh: all callbacks have finished\");\n  }\n\n  function load_libs(js_urls, callback) {\n    root._bokeh_onload_callbacks.push(callback);\n    if (root._bokeh_is_loading > 0) {\n      console.log(\"Bokeh: BokehJS is being loaded, scheduling callback at\", now());\n      return null;\n    }\n    if (js_urls == null || js_urls.length === 0) {\n      run_callbacks();\n      return null;\n    }\n    console.log(\"Bokeh: BokehJS not loaded, scheduling load and callback at\", now());\n    root._bokeh_is_loading = js_urls.length;\n    for (var i = 0; i < js_urls.length; i++) {\n      var url = js_urls[i];\n      var s = document.createElement('script');\n      s.src = url;\n      s.async = false;\n      s.onreadystatechange = s.onload = function() {\n        root._bokeh_is_loading--;\n        if (root._bokeh_is_loading === 0) {\n          console.log(\"Bokeh: all BokehJS libraries loaded\");\n          run_callbacks()\n        }\n      };\n      s.onerror = function() {\n        console.warn(\"failed to load library \" + url);\n      };\n      console.log(\"Bokeh: injecting script tag for BokehJS library: \", url);\n      document.getElementsByTagName(\"head\")[0].appendChild(s);\n    }\n  };var element = document.getElementById(\"c85ee900-1676-4fef-bc19-c5326022fd44\");\n  if (element == null) {\n    console.log(\"Bokeh: ERROR: autoload.js configured with elementid 'c85ee900-1676-4fef-bc19-c5326022fd44' but no matching script tag was found. \")\n    return false;\n  }\n\n  var js_urls = [\"https://cdn.pydata.org/bokeh/release/bokeh-0.13.0.min.js\", \"https://cdn.pydata.org/bokeh/release/bokeh-widgets-0.13.0.min.js\", \"https://cdn.pydata.org/bokeh/release/bokeh-tables-0.13.0.min.js\", \"https://cdn.pydata.org/bokeh/release/bokeh-gl-0.13.0.min.js\"];\n\n  var inline_js = [\n    function(Bokeh) {\n      Bokeh.set_log_level(\"info\");\n    },\n    \n    function(Bokeh) {\n      \n    },\n    function(Bokeh) {\n      console.log(\"Bokeh: injecting CSS: https://cdn.pydata.org/bokeh/release/bokeh-0.13.0.min.css\");\n      Bokeh.embed.inject_css(\"https://cdn.pydata.org/bokeh/release/bokeh-0.13.0.min.css\");\n      console.log(\"Bokeh: injecting CSS: https://cdn.pydata.org/bokeh/release/bokeh-widgets-0.13.0.min.css\");\n      Bokeh.embed.inject_css(\"https://cdn.pydata.org/bokeh/release/bokeh-widgets-0.13.0.min.css\");\n      console.log(\"Bokeh: injecting CSS: https://cdn.pydata.org/bokeh/release/bokeh-tables-0.13.0.min.css\");\n      Bokeh.embed.inject_css(\"https://cdn.pydata.org/bokeh/release/bokeh-tables-0.13.0.min.css\");\n    }\n  ];\n\n  function run_inline_js() {\n    \n    if ((root.Bokeh !== undefined) || (force === true)) {\n      for (var i = 0; i < inline_js.length; i++) {\n        inline_js[i].call(root, root.Bokeh);\n      }if (force === true) {\n        display_loaded();\n      }} else if (Date.now() < root._bokeh_timeout) {\n      setTimeout(run_inline_js, 100);\n    } else if (!root._bokeh_failed_load) {\n      console.log(\"Bokeh: BokehJS failed to load within specified timeout.\");\n      root._bokeh_failed_load = true;\n    } else if (force !== true) {\n      var cell = $(document.getElementById(\"c85ee900-1676-4fef-bc19-c5326022fd44\")).parents('.cell').data().cell;\n      cell.output_area.append_execute_result(NB_LOAD_WARNING)\n    }\n\n  }\n\n  if (root._bokeh_is_loading === 0) {\n    console.log(\"Bokeh: BokehJS loaded, going straight to plotting\");\n    run_inline_js();\n  } else {\n    load_libs(js_urls, function() {\n      console.log(\"Bokeh: BokehJS plotting callback run at\", now());\n      run_inline_js();\n    });\n  }\n}(window));"
          },
          "metadata": {
            "tags": []
          }
        },
        {
          "output_type": "stream",
          "text": [
            "[rgb(152, 223, 138), rgb(152, 223, 138), rgb(255, 152, 150), rgb(148, 103, 189), rgb(148, 103, 189), rgb(148, 103, 189), rgb(255, 152, 150), rgb(152, 223, 138), rgb(152, 223, 138), rgb(152, 223, 138), rgb(188, 189, 34), rgb(152, 223, 138), rgb(148, 103, 189), rgb(152, 223, 138), rgb(127, 127, 127), rgb(152, 223, 138), rgb(148, 103, 189), rgb(174, 199, 232), rgb(219, 219, 141), rgb(255, 152, 150), rgb(199, 199, 199), rgb(148, 103, 189), rgb(196, 156, 148), rgb(148, 103, 189), rgb(199, 199, 199), rgb(196, 156, 148), rgb(148, 103, 189), rgb(152, 223, 138), rgb(152, 223, 138), rgb(152, 223, 138), rgb(148, 103, 189), rgb(148, 103, 189), rgb(127, 127, 127), rgb(127, 127, 127), rgb(152, 223, 138), rgb(255, 152, 150), rgb(152, 223, 138), rgb(152, 223, 138), rgb(152, 223, 138), rgb(152, 223, 138), rgb(127, 127, 127), rgb(152, 223, 138), rgb(44, 160, 44), rgb(127, 127, 127), rgb(148, 103, 189), rgb(152, 223, 138), rgb(148, 103, 189), rgb(31, 119, 180), rgb(214, 39, 40), rgb(152, 223, 138), rgb(152, 223, 138), rgb(152, 223, 138), rgb(214, 39, 40), rgb(127, 127, 127), rgb(127, 127, 127), rgb(148, 103, 189), rgb(148, 103, 189), rgb(148, 103, 189), rgb(148, 103, 189), rgb(152, 223, 138), rgb(127, 127, 127), rgb(152, 223, 138), rgb(152, 223, 138), rgb(152, 223, 138), rgb(127, 127, 127), rgb(127, 127, 127), rgb(152, 223, 138), rgb(148, 103, 189), rgb(152, 223, 138), rgb(247, 182, 210), rgb(219, 219, 141), rgb(152, 223, 138), rgb(148, 103, 189), rgb(152, 223, 138), rgb(127, 127, 127), rgb(152, 223, 138), rgb(127, 127, 127), rgb(152, 223, 138), rgb(152, 223, 138), rgb(152, 223, 138), rgb(148, 103, 189), rgb(44, 160, 44), rgb(152, 223, 138), rgb(214, 39, 40), rgb(127, 127, 127), rgb(196, 156, 148), rgb(174, 199, 232), rgb(174, 199, 232), rgb(152, 223, 138), rgb(148, 103, 189), rgb(152, 223, 138), rgb(174, 199, 232), rgb(196, 156, 148), rgb(140, 86, 75), rgb(152, 223, 138), rgb(152, 223, 138), rgb(152, 223, 138), rgb(152, 223, 138), rgb(174, 199, 232), rgb(152, 223, 138), rgb(152, 223, 138), rgb(196, 156, 148), rgb(152, 223, 138), rgb(255, 152, 150), rgb(152, 223, 138), rgb(152, 223, 138), rgb(152, 223, 138), rgb(148, 103, 189), rgb(152, 223, 138), rgb(188, 189, 34), rgb(152, 223, 138), rgb(227, 119, 194), rgb(152, 223, 138), rgb(152, 223, 138), rgb(152, 223, 138), rgb(152, 223, 138), rgb(152, 223, 138), rgb(31, 119, 180), rgb(152, 223, 138), rgb(152, 223, 138), rgb(148, 103, 189), rgb(148, 103, 189), rgb(152, 223, 138), rgb(196, 156, 148), rgb(174, 199, 232), rgb(148, 103, 189), rgb(196, 156, 148), rgb(227, 119, 194), rgb(148, 103, 189), rgb(152, 223, 138), rgb(152, 223, 138), rgb(196, 156, 148), rgb(174, 199, 232), rgb(152, 223, 138), rgb(219, 219, 141), rgb(174, 199, 232), rgb(31, 119, 180), rgb(152, 223, 138), rgb(148, 103, 189), rgb(152, 223, 138), rgb(152, 223, 138), rgb(255, 152, 150), rgb(148, 103, 189), rgb(199, 199, 199), rgb(197, 176, 213), rgb(152, 223, 138), rgb(152, 223, 138), rgb(148, 103, 189), rgb(152, 223, 138), rgb(152, 223, 138), rgb(152, 223, 138), rgb(152, 223, 138), rgb(152, 223, 138), rgb(148, 103, 189), rgb(127, 127, 127), rgb(152, 223, 138), rgb(152, 223, 138), rgb(152, 223, 138), rgb(148, 103, 189), rgb(152, 223, 138), rgb(196, 156, 148), rgb(148, 103, 189), rgb(148, 103, 189), rgb(148, 103, 189), rgb(174, 199, 232), rgb(148, 103, 189), rgb(152, 223, 138), rgb(199, 199, 199), rgb(148, 103, 189), rgb(152, 223, 138), rgb(152, 223, 138), rgb(152, 223, 138), rgb(152, 223, 138), rgb(152, 223, 138), rgb(152, 223, 138), rgb(152, 223, 138), rgb(127, 127, 127), rgb(148, 103, 189), rgb(214, 39, 40), rgb(148, 103, 189), rgb(148, 103, 189), rgb(152, 223, 138), rgb(214, 39, 40), rgb(255, 127, 14), rgb(152, 223, 138), rgb(152, 223, 138), rgb(152, 223, 138), rgb(188, 189, 34), rgb(152, 223, 138), rgb(152, 223, 138), rgb(219, 219, 141), rgb(127, 127, 127), rgb(152, 223, 138), rgb(148, 103, 189), rgb(152, 223, 138), rgb(152, 223, 138), rgb(196, 156, 148), rgb(152, 223, 138), rgb(152, 223, 138), rgb(152, 223, 138), rgb(152, 223, 138), rgb(152, 223, 138), rgb(152, 223, 138), rgb(174, 199, 232), rgb(148, 103, 189), rgb(148, 103, 189), rgb(255, 152, 150), rgb(31, 119, 180), rgb(127, 127, 127), rgb(152, 223, 138), rgb(152, 223, 138), rgb(152, 223, 138), rgb(148, 103, 189), rgb(255, 127, 14), rgb(148, 103, 189), rgb(152, 223, 138), rgb(174, 199, 232), rgb(152, 223, 138), rgb(196, 156, 148), rgb(152, 223, 138), rgb(152, 223, 138), rgb(152, 223, 138), rgb(214, 39, 40), rgb(255, 187, 120), rgb(152, 223, 138), rgb(152, 223, 138), rgb(152, 223, 138), rgb(214, 39, 40), rgb(152, 223, 138), rgb(127, 127, 127), rgb(31, 119, 180), rgb(148, 103, 189), rgb(152, 223, 138), rgb(196, 156, 148), rgb(152, 223, 138), rgb(148, 103, 189), rgb(255, 152, 150), rgb(196, 156, 148), rgb(148, 103, 189), rgb(148, 103, 189), rgb(127, 127, 127), rgb(152, 223, 138), rgb(152, 223, 138), rgb(174, 199, 232), rgb(148, 103, 189), rgb(148, 103, 189), rgb(152, 223, 138), rgb(148, 103, 189), rgb(152, 223, 138), rgb(152, 223, 138), rgb(152, 223, 138), rgb(174, 199, 232), rgb(152, 223, 138), rgb(152, 223, 138), rgb(152, 223, 138), rgb(152, 223, 138), rgb(152, 223, 138), rgb(152, 223, 138), rgb(148, 103, 189), rgb(148, 103, 189), rgb(152, 223, 138), rgb(31, 119, 180), rgb(152, 223, 138), rgb(127, 127, 127), rgb(152, 223, 138), rgb(152, 223, 138), rgb(152, 223, 138), rgb(148, 103, 189), rgb(152, 223, 138), rgb(152, 223, 138), rgb(152, 223, 138), rgb(152, 223, 138), rgb(127, 127, 127), rgb(152, 223, 138), rgb(247, 182, 210), rgb(152, 223, 138), rgb(152, 223, 138), rgb(255, 127, 14), rgb(148, 103, 189), rgb(152, 223, 138), rgb(148, 103, 189), rgb(152, 223, 138), rgb(148, 103, 189), rgb(152, 223, 138), rgb(152, 223, 138), rgb(152, 223, 138), rgb(152, 223, 138), rgb(152, 223, 138), rgb(152, 223, 138), rgb(152, 223, 138), rgb(152, 223, 138), rgb(152, 223, 138), rgb(174, 199, 232), rgb(214, 39, 40), rgb(152, 223, 138), rgb(152, 223, 138), rgb(152, 223, 138), rgb(127, 127, 127), rgb(152, 223, 138), rgb(188, 189, 34), rgb(152, 223, 138), rgb(148, 103, 189), rgb(152, 223, 138), rgb(152, 223, 138), rgb(227, 119, 194), rgb(148, 103, 189), rgb(148, 103, 189), rgb(152, 223, 138), rgb(174, 199, 232), rgb(174, 199, 232), rgb(152, 223, 138), rgb(127, 127, 127), rgb(255, 152, 150), rgb(152, 223, 138), rgb(152, 223, 138), rgb(152, 223, 138), rgb(152, 223, 138), rgb(127, 127, 127), rgb(148, 103, 189), rgb(127, 127, 127), rgb(199, 199, 199), rgb(148, 103, 189), rgb(152, 223, 138), rgb(152, 223, 138), rgb(152, 223, 138), rgb(152, 223, 138), rgb(148, 103, 189), rgb(152, 223, 138), rgb(152, 223, 138), rgb(148, 103, 189), rgb(174, 199, 232), rgb(152, 223, 138), rgb(148, 103, 189), rgb(152, 223, 138), rgb(152, 223, 138), rgb(196, 156, 148), rgb(152, 223, 138), rgb(174, 199, 232), rgb(148, 103, 189), rgb(127, 127, 127), rgb(152, 223, 138), rgb(174, 199, 232), rgb(31, 119, 180), rgb(148, 103, 189), rgb(148, 103, 189), rgb(255, 152, 150), rgb(148, 103, 189), rgb(148, 103, 189), rgb(152, 223, 138), rgb(152, 223, 138), rgb(152, 223, 138), rgb(148, 103, 189), rgb(152, 223, 138), rgb(148, 103, 189), rgb(127, 127, 127), rgb(152, 223, 138), rgb(148, 103, 189), rgb(152, 223, 138), rgb(148, 103, 189), rgb(152, 223, 138), rgb(199, 199, 199), rgb(152, 223, 138), rgb(152, 223, 138), rgb(148, 103, 189), rgb(255, 152, 150), rgb(152, 223, 138), rgb(247, 182, 210), rgb(152, 223, 138), rgb(152, 223, 138), rgb(152, 223, 138), rgb(148, 103, 189), rgb(148, 103, 189), rgb(255, 152, 150), rgb(148, 103, 189), rgb(148, 103, 189), rgb(152, 223, 138), rgb(214, 39, 40), rgb(152, 223, 138), rgb(127, 127, 127), rgb(148, 103, 189), rgb(196, 156, 148), rgb(152, 223, 138), rgb(148, 103, 189), rgb(196, 156, 148), rgb(196, 156, 148), rgb(127, 127, 127), rgb(148, 103, 189), rgb(152, 223, 138), rgb(148, 103, 189), rgb(152, 223, 138), rgb(148, 103, 189), rgb(148, 103, 189), rgb(148, 103, 189), rgb(152, 223, 138), rgb(227, 119, 194), rgb(255, 152, 150), rgb(196, 156, 148), rgb(148, 103, 189), rgb(152, 223, 138), rgb(152, 223, 138), rgb(152, 223, 138), rgb(214, 39, 40), rgb(199, 199, 199), rgb(152, 223, 138), rgb(255, 152, 150), rgb(148, 103, 189), rgb(152, 223, 138), rgb(152, 223, 138), rgb(214, 39, 40), rgb(127, 127, 127), rgb(148, 103, 189), rgb(152, 223, 138), rgb(152, 223, 138), rgb(152, 223, 138), rgb(152, 223, 138), rgb(152, 223, 138), rgb(148, 103, 189), rgb(199, 199, 199), rgb(152, 223, 138), rgb(174, 199, 232), rgb(152, 223, 138), rgb(152, 223, 138), rgb(152, 223, 138), rgb(196, 156, 148), rgb(148, 103, 189), rgb(152, 223, 138), rgb(255, 127, 14), rgb(148, 103, 189), rgb(152, 223, 138), rgb(152, 223, 138), rgb(152, 223, 138), rgb(152, 223, 138), rgb(127, 127, 127), rgb(152, 223, 138), rgb(152, 223, 138), rgb(152, 223, 138), rgb(152, 223, 138), rgb(152, 223, 138), rgb(152, 223, 138), rgb(148, 103, 189), rgb(152, 223, 138), rgb(152, 223, 138), rgb(148, 103, 189), rgb(152, 223, 138), rgb(127, 127, 127), rgb(227, 119, 194), rgb(152, 223, 138), rgb(152, 223, 138), rgb(152, 223, 138), rgb(152, 223, 138), rgb(148, 103, 189), rgb(174, 199, 232), rgb(152, 223, 138), rgb(152, 223, 138), rgb(214, 39, 40), rgb(219, 219, 141), rgb(152, 223, 138), rgb(214, 39, 40), rgb(152, 223, 138), rgb(152, 223, 138), rgb(255, 152, 150), rgb(148, 103, 189), rgb(152, 223, 138), rgb(152, 223, 138), rgb(196, 156, 148), rgb(152, 223, 138), rgb(152, 223, 138), rgb(152, 223, 138), rgb(127, 127, 127), rgb(152, 223, 138), rgb(196, 156, 148), rgb(152, 223, 138), rgb(152, 223, 138), rgb(152, 223, 138), rgb(174, 199, 232), rgb(152, 223, 138), rgb(152, 223, 138), rgb(148, 103, 189), rgb(174, 199, 232), rgb(148, 103, 189), rgb(152, 223, 138), rgb(44, 160, 44), rgb(148, 103, 189), rgb(152, 223, 138), rgb(152, 223, 138), rgb(127, 127, 127), rgb(152, 223, 138), rgb(148, 103, 189), rgb(152, 223, 138), rgb(152, 223, 138), rgb(196, 156, 148), rgb(174, 199, 232), rgb(227, 119, 194), rgb(196, 156, 148), rgb(152, 223, 138), rgb(152, 223, 138), rgb(174, 199, 232), rgb(152, 223, 138), rgb(152, 223, 138), rgb(152, 223, 138), rgb(174, 199, 232), rgb(127, 127, 127), rgb(152, 223, 138), rgb(127, 127, 127), rgb(148, 103, 189), rgb(152, 223, 138), rgb(152, 223, 138), rgb(148, 103, 189), rgb(152, 223, 138), rgb(174, 199, 232), rgb(255, 127, 14), rgb(148, 103, 189), rgb(148, 103, 189), rgb(174, 199, 232), rgb(152, 223, 138), rgb(148, 103, 189), rgb(148, 103, 189), rgb(196, 156, 148), rgb(152, 223, 138), rgb(152, 223, 138), rgb(127, 127, 127), rgb(152, 223, 138), rgb(152, 223, 138), rgb(152, 223, 138), rgb(152, 223, 138), rgb(148, 103, 189), rgb(148, 103, 189), rgb(148, 103, 189), rgb(152, 223, 138), rgb(152, 223, 138), rgb(148, 103, 189), rgb(152, 223, 138), rgb(127, 127, 127), rgb(255, 127, 14), rgb(148, 103, 189), rgb(247, 182, 210), rgb(148, 103, 189), rgb(199, 199, 199), rgb(152, 223, 138), rgb(255, 152, 150), rgb(152, 223, 138), rgb(152, 223, 138), rgb(148, 103, 189), rgb(255, 152, 150), rgb(148, 103, 189), rgb(152, 223, 138), rgb(148, 103, 189), rgb(127, 127, 127), rgb(152, 223, 138), rgb(127, 127, 127), rgb(255, 127, 14), rgb(127, 127, 127), rgb(127, 127, 127), rgb(152, 223, 138), rgb(152, 223, 138), rgb(152, 223, 138), rgb(152, 223, 138), rgb(152, 223, 138), rgb(152, 223, 138), rgb(152, 223, 138), rgb(152, 223, 138), rgb(148, 103, 189), rgb(247, 182, 210), rgb(152, 223, 138), rgb(152, 223, 138), rgb(214, 39, 40), rgb(152, 223, 138), rgb(148, 103, 189), rgb(219, 219, 141), rgb(148, 103, 189), rgb(188, 189, 34), rgb(127, 127, 127), rgb(152, 223, 138), rgb(152, 223, 138), rgb(152, 223, 138), rgb(148, 103, 189), rgb(127, 127, 127), rgb(152, 223, 138), rgb(255, 152, 150), rgb(148, 103, 189), rgb(152, 223, 138), rgb(255, 152, 150), rgb(255, 152, 150), rgb(152, 223, 138), rgb(152, 223, 138), rgb(152, 223, 138), rgb(152, 223, 138), rgb(152, 223, 138), rgb(255, 152, 150), rgb(152, 223, 138), rgb(148, 103, 189), rgb(152, 223, 138), rgb(255, 152, 150), rgb(152, 223, 138), rgb(148, 103, 189), rgb(127, 127, 127), rgb(152, 223, 138), rgb(152, 223, 138), rgb(148, 103, 189), rgb(127, 127, 127), rgb(219, 219, 141), rgb(152, 223, 138), rgb(148, 103, 189), rgb(152, 223, 138), rgb(152, 223, 138), rgb(227, 119, 194), rgb(152, 223, 138), rgb(152, 223, 138), rgb(152, 223, 138), rgb(152, 223, 138), rgb(152, 223, 138), rgb(152, 223, 138), rgb(219, 219, 141), rgb(152, 223, 138), rgb(152, 223, 138), rgb(127, 127, 127), rgb(247, 182, 210), rgb(127, 127, 127), rgb(44, 160, 44), rgb(188, 189, 34), rgb(152, 223, 138), rgb(214, 39, 40), rgb(152, 223, 138), rgb(148, 103, 189), rgb(152, 223, 138), rgb(127, 127, 127), rgb(199, 199, 199), rgb(152, 223, 138), rgb(31, 119, 180), rgb(148, 103, 189), rgb(148, 103, 189), rgb(152, 223, 138), rgb(152, 223, 138), rgb(152, 223, 138), rgb(152, 223, 138), rgb(148, 103, 189), rgb(152, 223, 138), rgb(152, 223, 138), rgb(152, 223, 138), rgb(255, 152, 150), rgb(148, 103, 189), rgb(152, 223, 138), rgb(152, 223, 138), rgb(174, 199, 232), rgb(127, 127, 127), rgb(152, 223, 138), rgb(152, 223, 138), rgb(174, 199, 232), rgb(148, 103, 189), rgb(148, 103, 189), rgb(152, 223, 138), rgb(152, 223, 138), rgb(152, 223, 138), rgb(148, 103, 189), rgb(152, 223, 138), rgb(127, 127, 127), rgb(152, 223, 138), rgb(152, 223, 138), rgb(152, 223, 138), rgb(140, 86, 75), rgb(152, 223, 138), rgb(127, 127, 127), rgb(152, 223, 138), rgb(152, 223, 138), rgb(214, 39, 40), rgb(152, 223, 138), rgb(152, 223, 138), rgb(152, 223, 138), rgb(214, 39, 40), rgb(152, 223, 138), rgb(127, 127, 127), rgb(214, 39, 40), rgb(31, 119, 180), rgb(199, 199, 199), rgb(152, 223, 138), rgb(127, 127, 127), rgb(127, 127, 127), rgb(152, 223, 138), rgb(152, 223, 138), rgb(174, 199, 232), rgb(227, 119, 194), rgb(152, 223, 138), rgb(127, 127, 127), rgb(127, 127, 127), rgb(148, 103, 189), rgb(148, 103, 189), rgb(152, 223, 138), rgb(127, 127, 127), rgb(174, 199, 232), rgb(148, 103, 189), rgb(214, 39, 40), rgb(148, 103, 189), rgb(152, 223, 138), rgb(152, 223, 138), rgb(140, 86, 75), rgb(127, 127, 127), rgb(255, 127, 14), rgb(227, 119, 194), rgb(152, 223, 138), rgb(152, 223, 138), rgb(255, 152, 150), rgb(152, 223, 138), rgb(199, 199, 199), rgb(152, 223, 138), rgb(148, 103, 189), rgb(152, 223, 138), rgb(219, 219, 141), rgb(152, 223, 138), rgb(152, 223, 138), rgb(174, 199, 232), rgb(148, 103, 189), rgb(148, 103, 189), rgb(148, 103, 189), rgb(140, 86, 75), rgb(255, 152, 150), rgb(196, 156, 148), rgb(148, 103, 189), rgb(152, 223, 138), rgb(219, 219, 141), rgb(148, 103, 189), rgb(152, 223, 138), rgb(152, 223, 138), rgb(148, 103, 189), rgb(152, 223, 138), rgb(174, 199, 232), rgb(152, 223, 138), rgb(152, 223, 138), rgb(174, 199, 232), rgb(127, 127, 127), rgb(152, 223, 138), rgb(152, 223, 138), rgb(148, 103, 189), rgb(196, 156, 148), rgb(196, 156, 148), rgb(199, 199, 199), rgb(152, 223, 138), rgb(152, 223, 138), rgb(152, 223, 138), rgb(196, 156, 148), rgb(196, 156, 148), rgb(152, 223, 138), rgb(152, 223, 138), rgb(148, 103, 189), rgb(127, 127, 127), rgb(255, 152, 150), rgb(152, 223, 138), rgb(148, 103, 189), rgb(196, 156, 148), rgb(152, 223, 138), rgb(152, 223, 138), rgb(152, 223, 138), rgb(255, 152, 150), rgb(227, 119, 194), rgb(174, 199, 232), rgb(152, 223, 138), rgb(196, 156, 148), rgb(152, 223, 138), rgb(152, 223, 138), rgb(148, 103, 189), rgb(140, 86, 75), rgb(44, 160, 44), rgb(127, 127, 127), rgb(148, 103, 189), rgb(255, 152, 150), rgb(214, 39, 40), rgb(152, 223, 138), rgb(255, 152, 150), rgb(152, 223, 138), rgb(148, 103, 189), rgb(152, 223, 138), rgb(152, 223, 138), rgb(152, 223, 138), rgb(127, 127, 127), rgb(148, 103, 189), rgb(152, 223, 138), rgb(148, 103, 189), rgb(148, 103, 189), rgb(152, 223, 138), rgb(152, 223, 138), rgb(152, 223, 138), rgb(152, 223, 138), rgb(148, 103, 189), rgb(247, 182, 210), rgb(152, 223, 138), rgb(152, 223, 138), rgb(255, 152, 150), rgb(127, 127, 127), rgb(255, 152, 150), rgb(127, 127, 127), rgb(152, 223, 138), rgb(127, 127, 127), rgb(148, 103, 189), rgb(152, 223, 138), rgb(152, 223, 138), rgb(148, 103, 189), rgb(127, 127, 127), rgb(152, 223, 138), rgb(148, 103, 189), rgb(152, 223, 138), rgb(255, 152, 150), rgb(219, 219, 141), rgb(152, 223, 138), rgb(174, 199, 232), rgb(152, 223, 138), rgb(219, 219, 141), rgb(127, 127, 127), rgb(148, 103, 189), rgb(152, 223, 138), rgb(152, 223, 138), rgb(227, 119, 194), rgb(152, 223, 138), rgb(148, 103, 189), rgb(152, 223, 138), rgb(127, 127, 127), rgb(152, 223, 138), rgb(148, 103, 189), rgb(152, 223, 138), rgb(152, 223, 138), rgb(152, 223, 138), rgb(148, 103, 189), rgb(148, 103, 189), rgb(196, 156, 148), rgb(148, 103, 189), rgb(152, 223, 138), rgb(127, 127, 127), rgb(148, 103, 189), rgb(255, 152, 150), rgb(148, 103, 189), rgb(127, 127, 127), rgb(152, 223, 138), rgb(199, 199, 199), rgb(152, 223, 138), rgb(127, 127, 127), rgb(152, 223, 138), rgb(152, 223, 138), rgb(148, 103, 189), rgb(152, 223, 138), rgb(152, 223, 138), rgb(174, 199, 232), rgb(152, 223, 138), rgb(148, 103, 189), rgb(127, 127, 127), rgb(152, 223, 138), rgb(152, 223, 138), rgb(127, 127, 127), rgb(148, 103, 189), rgb(152, 223, 138), rgb(152, 223, 138), rgb(127, 127, 127), rgb(140, 86, 75), rgb(174, 199, 232), rgb(152, 223, 138), rgb(152, 223, 138), rgb(255, 127, 14), rgb(148, 103, 189), rgb(148, 103, 189), rgb(152, 223, 138), rgb(174, 199, 232), rgb(148, 103, 189), rgb(152, 223, 138), rgb(148, 103, 189), rgb(152, 223, 138), rgb(152, 223, 138), rgb(152, 223, 138), rgb(148, 103, 189), rgb(127, 127, 127), rgb(152, 223, 138), rgb(152, 223, 138), rgb(127, 127, 127), rgb(152, 223, 138), rgb(152, 223, 138), rgb(152, 223, 138), rgb(152, 223, 138), rgb(152, 223, 138), rgb(152, 223, 138), rgb(152, 223, 138), rgb(255, 152, 150), rgb(152, 223, 138), rgb(127, 127, 127), rgb(152, 223, 138), rgb(31, 119, 180), rgb(214, 39, 40), rgb(255, 152, 150), rgb(152, 223, 138), rgb(174, 199, 232), rgb(148, 103, 189), rgb(152, 223, 138), rgb(196, 156, 148), rgb(255, 187, 120), rgb(219, 219, 141), rgb(152, 223, 138), rgb(247, 182, 210), rgb(152, 223, 138), rgb(148, 103, 189), rgb(227, 119, 194), rgb(152, 223, 138), rgb(152, 223, 138), rgb(127, 127, 127), rgb(174, 199, 232), rgb(247, 182, 210), rgb(152, 223, 138), rgb(152, 223, 138), rgb(152, 223, 138), rgb(127, 127, 127), rgb(152, 223, 138), rgb(152, 223, 138), rgb(152, 223, 138), rgb(152, 223, 138), rgb(152, 223, 138), rgb(152, 223, 138), rgb(152, 223, 138), rgb(127, 127, 127), rgb(152, 223, 138), rgb(152, 223, 138), rgb(152, 223, 138), rgb(152, 223, 138), rgb(152, 223, 138), rgb(152, 223, 138), rgb(152, 223, 138), rgb(152, 223, 138), rgb(127, 127, 127), rgb(127, 127, 127), rgb(31, 119, 180), rgb(152, 223, 138), rgb(148, 103, 189), rgb(152, 223, 138), rgb(152, 223, 138), rgb(152, 223, 138), rgb(152, 223, 138), rgb(255, 152, 150), rgb(148, 103, 189), rgb(174, 199, 232), rgb(152, 223, 138), rgb(152, 223, 138), rgb(255, 152, 150), rgb(152, 223, 138), rgb(152, 223, 138), rgb(127, 127, 127), rgb(148, 103, 189), rgb(152, 223, 138), rgb(152, 223, 138), rgb(255, 127, 14), rgb(152, 223, 138), rgb(152, 223, 138), rgb(127, 127, 127), rgb(152, 223, 138), rgb(148, 103, 189), rgb(152, 223, 138), rgb(174, 199, 232), rgb(152, 223, 138), rgb(152, 223, 138), rgb(152, 223, 138), rgb(148, 103, 189), rgb(152, 223, 138), rgb(152, 223, 138), rgb(219, 219, 141), rgb(152, 223, 138), rgb(152, 223, 138), rgb(152, 223, 138), rgb(152, 223, 138), rgb(127, 127, 127), rgb(152, 223, 138), rgb(148, 103, 189), rgb(148, 103, 189), rgb(148, 103, 189), rgb(199, 199, 199), rgb(152, 223, 138), rgb(152, 223, 138), rgb(152, 223, 138), rgb(148, 103, 189), rgb(152, 223, 138), rgb(152, 223, 138), rgb(127, 127, 127), rgb(174, 199, 232), rgb(148, 103, 189), rgb(148, 103, 189), rgb(196, 156, 148), rgb(152, 223, 138), rgb(188, 189, 34), rgb(199, 199, 199), rgb(152, 223, 138), rgb(152, 223, 138), rgb(148, 103, 189), rgb(174, 199, 232), rgb(152, 223, 138), rgb(127, 127, 127), rgb(174, 199, 232), rgb(152, 223, 138), rgb(127, 127, 127), rgb(31, 119, 180), rgb(152, 223, 138), rgb(174, 199, 232), rgb(127, 127, 127), rgb(152, 223, 138), rgb(148, 103, 189), rgb(214, 39, 40), rgb(148, 103, 189), rgb(152, 223, 138), rgb(148, 103, 189), rgb(196, 156, 148)]\n"
          ],
          "name": "stdout"
        },
        {
          "output_type": "display_data",
          "data": {
            "text/html": [
              "\n",
              "\n",
              "\n",
              "\n",
              "\n",
              "\n",
              "  <div class=\"bk-root\" id=\"f6d3f215-6731-4978-a4ab-9c2208238142\"></div>\n"
            ]
          },
          "metadata": {
            "tags": []
          }
        },
        {
          "output_type": "display_data",
          "data": {
            "application/javascript": [
              "(function(root) {\n",
              "  function embed_document(root) {\n",
              "    \n",
              "  var docs_json = {\"b19ef60b-a806-4bdd-9ea8-266dc02b21ed\":{\"roots\":{\"references\":[{\"attributes\":{},\"id\":\"2e434b96-93bd-4fea-a208-0c0297bc175b\",\"type\":\"BasicTicker\"},{\"attributes\":{},\"id\":\"a36aeb52-09d3-46d9-a38f-a705e140aeba\",\"type\":\"BasicTickFormatter\"},{\"attributes\":{\"formatter\":{\"id\":\"7edd0913-7085-4ce8-917e-60a15042d01c\",\"type\":\"BasicTickFormatter\"},\"plot\":{\"id\":\"42a6d49e-1359-40d1-afe3-6e034ea0b70c\",\"subtype\":\"Figure\",\"type\":\"Plot\"},\"ticker\":{\"id\":\"1c81ad49-ce8a-4c09-8feb-b37294a26de2\",\"type\":\"BasicTicker\"}},\"id\":\"395a7b5e-1fdb-460c-8670-bce1e2944cfd\",\"type\":\"LinearAxis\"},{\"attributes\":{},\"id\":\"7edd0913-7085-4ce8-917e-60a15042d01c\",\"type\":\"BasicTickFormatter\"},{\"attributes\":{},\"id\":\"1c81ad49-ce8a-4c09-8feb-b37294a26de2\",\"type\":\"BasicTicker\"},{\"attributes\":{},\"id\":\"ae5b7e3b-509b-40f0-b52e-beca4bc5f379\",\"type\":\"Selection\"},{\"attributes\":{\"dimension\":1,\"plot\":{\"id\":\"42a6d49e-1359-40d1-afe3-6e034ea0b70c\",\"subtype\":\"Figure\",\"type\":\"Plot\"},\"ticker\":{\"id\":\"1c81ad49-ce8a-4c09-8feb-b37294a26de2\",\"type\":\"BasicTicker\"}},\"id\":\"feed922d-c83a-4044-8a46-7d790a2415b5\",\"type\":\"Grid\"},{\"attributes\":{},\"id\":\"957d105f-2213-4ab1-8b47-f4324578058c\",\"type\":\"UnionRenderers\"},{\"attributes\":{\"callback\":null,\"data\":{\"color\":[\"rgb(152, 223, 138)\",\"rgb(152, 223, 138)\",\"rgb(255, 152, 150)\",\"rgb(148, 103, 189)\",\"rgb(148, 103, 189)\",\"rgb(148, 103, 189)\",\"rgb(255, 152, 150)\",\"rgb(152, 223, 138)\",\"rgb(152, 223, 138)\",\"rgb(152, 223, 138)\",\"rgb(188, 189, 34)\",\"rgb(152, 223, 138)\",\"rgb(148, 103, 189)\",\"rgb(152, 223, 138)\",\"rgb(127, 127, 127)\",\"rgb(152, 223, 138)\",\"rgb(148, 103, 189)\",\"rgb(174, 199, 232)\",\"rgb(219, 219, 141)\",\"rgb(255, 152, 150)\",\"rgb(199, 199, 199)\",\"rgb(148, 103, 189)\",\"rgb(196, 156, 148)\",\"rgb(148, 103, 189)\",\"rgb(199, 199, 199)\",\"rgb(196, 156, 148)\",\"rgb(148, 103, 189)\",\"rgb(152, 223, 138)\",\"rgb(152, 223, 138)\",\"rgb(152, 223, 138)\",\"rgb(148, 103, 189)\",\"rgb(148, 103, 189)\",\"rgb(127, 127, 127)\",\"rgb(127, 127, 127)\",\"rgb(152, 223, 138)\",\"rgb(255, 152, 150)\",\"rgb(152, 223, 138)\",\"rgb(152, 223, 138)\",\"rgb(152, 223, 138)\",\"rgb(152, 223, 138)\",\"rgb(127, 127, 127)\",\"rgb(152, 223, 138)\",\"rgb(44, 160, 44)\",\"rgb(127, 127, 127)\",\"rgb(148, 103, 189)\",\"rgb(152, 223, 138)\",\"rgb(148, 103, 189)\",\"rgb(31, 119, 180)\",\"rgb(214, 39, 40)\",\"rgb(152, 223, 138)\",\"rgb(152, 223, 138)\",\"rgb(152, 223, 138)\",\"rgb(214, 39, 40)\",\"rgb(127, 127, 127)\",\"rgb(127, 127, 127)\",\"rgb(148, 103, 189)\",\"rgb(148, 103, 189)\",\"rgb(148, 103, 189)\",\"rgb(148, 103, 189)\",\"rgb(152, 223, 138)\",\"rgb(127, 127, 127)\",\"rgb(152, 223, 138)\",\"rgb(152, 223, 138)\",\"rgb(152, 223, 138)\",\"rgb(127, 127, 127)\",\"rgb(127, 127, 127)\",\"rgb(152, 223, 138)\",\"rgb(148, 103, 189)\",\"rgb(152, 223, 138)\",\"rgb(247, 182, 210)\",\"rgb(219, 219, 141)\",\"rgb(152, 223, 138)\",\"rgb(148, 103, 189)\",\"rgb(152, 223, 138)\",\"rgb(127, 127, 127)\",\"rgb(152, 223, 138)\",\"rgb(127, 127, 127)\",\"rgb(152, 223, 138)\",\"rgb(152, 223, 138)\",\"rgb(152, 223, 138)\",\"rgb(148, 103, 189)\",\"rgb(44, 160, 44)\",\"rgb(152, 223, 138)\",\"rgb(214, 39, 40)\",\"rgb(127, 127, 127)\",\"rgb(196, 156, 148)\",\"rgb(174, 199, 232)\",\"rgb(174, 199, 232)\",\"rgb(152, 223, 138)\",\"rgb(148, 103, 189)\",\"rgb(152, 223, 138)\",\"rgb(174, 199, 232)\",\"rgb(196, 156, 148)\",\"rgb(140, 86, 75)\",\"rgb(152, 223, 138)\",\"rgb(152, 223, 138)\",\"rgb(152, 223, 138)\",\"rgb(152, 223, 138)\",\"rgb(174, 199, 232)\",\"rgb(152, 223, 138)\",\"rgb(152, 223, 138)\",\"rgb(196, 156, 148)\",\"rgb(152, 223, 138)\",\"rgb(255, 152, 150)\",\"rgb(152, 223, 138)\",\"rgb(152, 223, 138)\",\"rgb(152, 223, 138)\",\"rgb(148, 103, 189)\",\"rgb(152, 223, 138)\",\"rgb(188, 189, 34)\",\"rgb(152, 223, 138)\",\"rgb(227, 119, 194)\",\"rgb(152, 223, 138)\",\"rgb(152, 223, 138)\",\"rgb(152, 223, 138)\",\"rgb(152, 223, 138)\",\"rgb(152, 223, 138)\",\"rgb(31, 119, 180)\",\"rgb(152, 223, 138)\",\"rgb(152, 223, 138)\",\"rgb(148, 103, 189)\",\"rgb(148, 103, 189)\",\"rgb(152, 223, 138)\",\"rgb(196, 156, 148)\",\"rgb(174, 199, 232)\",\"rgb(148, 103, 189)\",\"rgb(196, 156, 148)\",\"rgb(227, 119, 194)\",\"rgb(148, 103, 189)\",\"rgb(152, 223, 138)\",\"rgb(152, 223, 138)\",\"rgb(196, 156, 148)\",\"rgb(174, 199, 232)\",\"rgb(152, 223, 138)\",\"rgb(219, 219, 141)\",\"rgb(174, 199, 232)\",\"rgb(31, 119, 180)\",\"rgb(152, 223, 138)\",\"rgb(148, 103, 189)\",\"rgb(152, 223, 138)\",\"rgb(152, 223, 138)\",\"rgb(255, 152, 150)\",\"rgb(148, 103, 189)\",\"rgb(199, 199, 199)\",\"rgb(197, 176, 213)\",\"rgb(152, 223, 138)\",\"rgb(152, 223, 138)\",\"rgb(148, 103, 189)\",\"rgb(152, 223, 138)\",\"rgb(152, 223, 138)\",\"rgb(152, 223, 138)\",\"rgb(152, 223, 138)\",\"rgb(152, 223, 138)\",\"rgb(148, 103, 189)\",\"rgb(127, 127, 127)\",\"rgb(152, 223, 138)\",\"rgb(152, 223, 138)\",\"rgb(152, 223, 138)\",\"rgb(148, 103, 189)\",\"rgb(152, 223, 138)\",\"rgb(196, 156, 148)\",\"rgb(148, 103, 189)\",\"rgb(148, 103, 189)\",\"rgb(148, 103, 189)\",\"rgb(174, 199, 232)\",\"rgb(148, 103, 189)\",\"rgb(152, 223, 138)\",\"rgb(199, 199, 199)\",\"rgb(148, 103, 189)\",\"rgb(152, 223, 138)\",\"rgb(152, 223, 138)\",\"rgb(152, 223, 138)\",\"rgb(152, 223, 138)\",\"rgb(152, 223, 138)\",\"rgb(152, 223, 138)\",\"rgb(152, 223, 138)\",\"rgb(127, 127, 127)\",\"rgb(148, 103, 189)\",\"rgb(214, 39, 40)\",\"rgb(148, 103, 189)\",\"rgb(148, 103, 189)\",\"rgb(152, 223, 138)\",\"rgb(214, 39, 40)\",\"rgb(255, 127, 14)\",\"rgb(152, 223, 138)\",\"rgb(152, 223, 138)\",\"rgb(152, 223, 138)\",\"rgb(188, 189, 34)\",\"rgb(152, 223, 138)\",\"rgb(152, 223, 138)\",\"rgb(219, 219, 141)\",\"rgb(127, 127, 127)\",\"rgb(152, 223, 138)\",\"rgb(148, 103, 189)\",\"rgb(152, 223, 138)\",\"rgb(152, 223, 138)\",\"rgb(196, 156, 148)\",\"rgb(152, 223, 138)\",\"rgb(152, 223, 138)\",\"rgb(152, 223, 138)\",\"rgb(152, 223, 138)\",\"rgb(152, 223, 138)\",\"rgb(152, 223, 138)\",\"rgb(174, 199, 232)\",\"rgb(148, 103, 189)\",\"rgb(148, 103, 189)\",\"rgb(255, 152, 150)\",\"rgb(31, 119, 180)\",\"rgb(127, 127, 127)\",\"rgb(152, 223, 138)\",\"rgb(152, 223, 138)\",\"rgb(152, 223, 138)\",\"rgb(148, 103, 189)\",\"rgb(255, 127, 14)\",\"rgb(148, 103, 189)\",\"rgb(152, 223, 138)\",\"rgb(174, 199, 232)\",\"rgb(152, 223, 138)\",\"rgb(196, 156, 148)\",\"rgb(152, 223, 138)\",\"rgb(152, 223, 138)\",\"rgb(152, 223, 138)\",\"rgb(214, 39, 40)\",\"rgb(255, 187, 120)\",\"rgb(152, 223, 138)\",\"rgb(152, 223, 138)\",\"rgb(152, 223, 138)\",\"rgb(214, 39, 40)\",\"rgb(152, 223, 138)\",\"rgb(127, 127, 127)\",\"rgb(31, 119, 180)\",\"rgb(148, 103, 189)\",\"rgb(152, 223, 138)\",\"rgb(196, 156, 148)\",\"rgb(152, 223, 138)\",\"rgb(148, 103, 189)\",\"rgb(255, 152, 150)\",\"rgb(196, 156, 148)\",\"rgb(148, 103, 189)\",\"rgb(148, 103, 189)\",\"rgb(127, 127, 127)\",\"rgb(152, 223, 138)\",\"rgb(152, 223, 138)\",\"rgb(174, 199, 232)\",\"rgb(148, 103, 189)\",\"rgb(148, 103, 189)\",\"rgb(152, 223, 138)\",\"rgb(148, 103, 189)\",\"rgb(152, 223, 138)\",\"rgb(152, 223, 138)\",\"rgb(152, 223, 138)\",\"rgb(174, 199, 232)\",\"rgb(152, 223, 138)\",\"rgb(152, 223, 138)\",\"rgb(152, 223, 138)\",\"rgb(152, 223, 138)\",\"rgb(152, 223, 138)\",\"rgb(152, 223, 138)\",\"rgb(148, 103, 189)\",\"rgb(148, 103, 189)\",\"rgb(152, 223, 138)\",\"rgb(31, 119, 180)\",\"rgb(152, 223, 138)\",\"rgb(127, 127, 127)\",\"rgb(152, 223, 138)\",\"rgb(152, 223, 138)\",\"rgb(152, 223, 138)\",\"rgb(148, 103, 189)\",\"rgb(152, 223, 138)\",\"rgb(152, 223, 138)\",\"rgb(152, 223, 138)\",\"rgb(152, 223, 138)\",\"rgb(127, 127, 127)\",\"rgb(152, 223, 138)\",\"rgb(247, 182, 210)\",\"rgb(152, 223, 138)\",\"rgb(152, 223, 138)\",\"rgb(255, 127, 14)\",\"rgb(148, 103, 189)\",\"rgb(152, 223, 138)\",\"rgb(148, 103, 189)\",\"rgb(152, 223, 138)\",\"rgb(148, 103, 189)\",\"rgb(152, 223, 138)\",\"rgb(152, 223, 138)\",\"rgb(152, 223, 138)\",\"rgb(152, 223, 138)\",\"rgb(152, 223, 138)\",\"rgb(152, 223, 138)\",\"rgb(152, 223, 138)\",\"rgb(152, 223, 138)\",\"rgb(152, 223, 138)\",\"rgb(174, 199, 232)\",\"rgb(214, 39, 40)\",\"rgb(152, 223, 138)\",\"rgb(152, 223, 138)\",\"rgb(152, 223, 138)\",\"rgb(127, 127, 127)\",\"rgb(152, 223, 138)\",\"rgb(188, 189, 34)\",\"rgb(152, 223, 138)\",\"rgb(148, 103, 189)\",\"rgb(152, 223, 138)\",\"rgb(152, 223, 138)\",\"rgb(227, 119, 194)\",\"rgb(148, 103, 189)\",\"rgb(148, 103, 189)\",\"rgb(152, 223, 138)\",\"rgb(174, 199, 232)\",\"rgb(174, 199, 232)\",\"rgb(152, 223, 138)\",\"rgb(127, 127, 127)\",\"rgb(255, 152, 150)\",\"rgb(152, 223, 138)\",\"rgb(152, 223, 138)\",\"rgb(152, 223, 138)\",\"rgb(152, 223, 138)\",\"rgb(127, 127, 127)\",\"rgb(148, 103, 189)\",\"rgb(127, 127, 127)\",\"rgb(199, 199, 199)\",\"rgb(148, 103, 189)\",\"rgb(152, 223, 138)\",\"rgb(152, 223, 138)\",\"rgb(152, 223, 138)\",\"rgb(152, 223, 138)\",\"rgb(148, 103, 189)\",\"rgb(152, 223, 138)\",\"rgb(152, 223, 138)\",\"rgb(148, 103, 189)\",\"rgb(174, 199, 232)\",\"rgb(152, 223, 138)\",\"rgb(148, 103, 189)\",\"rgb(152, 223, 138)\",\"rgb(152, 223, 138)\",\"rgb(196, 156, 148)\",\"rgb(152, 223, 138)\",\"rgb(174, 199, 232)\",\"rgb(148, 103, 189)\",\"rgb(127, 127, 127)\",\"rgb(152, 223, 138)\",\"rgb(174, 199, 232)\",\"rgb(31, 119, 180)\",\"rgb(148, 103, 189)\",\"rgb(148, 103, 189)\",\"rgb(255, 152, 150)\",\"rgb(148, 103, 189)\",\"rgb(148, 103, 189)\",\"rgb(152, 223, 138)\",\"rgb(152, 223, 138)\",\"rgb(152, 223, 138)\",\"rgb(148, 103, 189)\",\"rgb(152, 223, 138)\",\"rgb(148, 103, 189)\",\"rgb(127, 127, 127)\",\"rgb(152, 223, 138)\",\"rgb(148, 103, 189)\",\"rgb(152, 223, 138)\",\"rgb(148, 103, 189)\",\"rgb(152, 223, 138)\",\"rgb(199, 199, 199)\",\"rgb(152, 223, 138)\",\"rgb(152, 223, 138)\",\"rgb(148, 103, 189)\",\"rgb(255, 152, 150)\",\"rgb(152, 223, 138)\",\"rgb(247, 182, 210)\",\"rgb(152, 223, 138)\",\"rgb(152, 223, 138)\",\"rgb(152, 223, 138)\",\"rgb(148, 103, 189)\",\"rgb(148, 103, 189)\",\"rgb(255, 152, 150)\",\"rgb(148, 103, 189)\",\"rgb(148, 103, 189)\",\"rgb(152, 223, 138)\",\"rgb(214, 39, 40)\",\"rgb(152, 223, 138)\",\"rgb(127, 127, 127)\",\"rgb(148, 103, 189)\",\"rgb(196, 156, 148)\",\"rgb(152, 223, 138)\",\"rgb(148, 103, 189)\",\"rgb(196, 156, 148)\",\"rgb(196, 156, 148)\",\"rgb(127, 127, 127)\",\"rgb(148, 103, 189)\",\"rgb(152, 223, 138)\",\"rgb(148, 103, 189)\",\"rgb(152, 223, 138)\",\"rgb(148, 103, 189)\",\"rgb(148, 103, 189)\",\"rgb(148, 103, 189)\",\"rgb(152, 223, 138)\",\"rgb(227, 119, 194)\",\"rgb(255, 152, 150)\",\"rgb(196, 156, 148)\",\"rgb(148, 103, 189)\",\"rgb(152, 223, 138)\",\"rgb(152, 223, 138)\",\"rgb(152, 223, 138)\",\"rgb(214, 39, 40)\",\"rgb(199, 199, 199)\",\"rgb(152, 223, 138)\",\"rgb(255, 152, 150)\",\"rgb(148, 103, 189)\",\"rgb(152, 223, 138)\",\"rgb(152, 223, 138)\",\"rgb(214, 39, 40)\",\"rgb(127, 127, 127)\",\"rgb(148, 103, 189)\",\"rgb(152, 223, 138)\",\"rgb(152, 223, 138)\",\"rgb(152, 223, 138)\",\"rgb(152, 223, 138)\",\"rgb(152, 223, 138)\",\"rgb(148, 103, 189)\",\"rgb(199, 199, 199)\",\"rgb(152, 223, 138)\",\"rgb(174, 199, 232)\",\"rgb(152, 223, 138)\",\"rgb(152, 223, 138)\",\"rgb(152, 223, 138)\",\"rgb(196, 156, 148)\",\"rgb(148, 103, 189)\",\"rgb(152, 223, 138)\",\"rgb(255, 127, 14)\",\"rgb(148, 103, 189)\",\"rgb(152, 223, 138)\",\"rgb(152, 223, 138)\",\"rgb(152, 223, 138)\",\"rgb(152, 223, 138)\",\"rgb(127, 127, 127)\",\"rgb(152, 223, 138)\",\"rgb(152, 223, 138)\",\"rgb(152, 223, 138)\",\"rgb(152, 223, 138)\",\"rgb(152, 223, 138)\",\"rgb(152, 223, 138)\",\"rgb(148, 103, 189)\",\"rgb(152, 223, 138)\",\"rgb(152, 223, 138)\",\"rgb(148, 103, 189)\",\"rgb(152, 223, 138)\",\"rgb(127, 127, 127)\",\"rgb(227, 119, 194)\",\"rgb(152, 223, 138)\",\"rgb(152, 223, 138)\",\"rgb(152, 223, 138)\",\"rgb(152, 223, 138)\",\"rgb(148, 103, 189)\",\"rgb(174, 199, 232)\",\"rgb(152, 223, 138)\",\"rgb(152, 223, 138)\",\"rgb(214, 39, 40)\",\"rgb(219, 219, 141)\",\"rgb(152, 223, 138)\",\"rgb(214, 39, 40)\",\"rgb(152, 223, 138)\",\"rgb(152, 223, 138)\",\"rgb(255, 152, 150)\",\"rgb(148, 103, 189)\",\"rgb(152, 223, 138)\",\"rgb(152, 223, 138)\",\"rgb(196, 156, 148)\",\"rgb(152, 223, 138)\",\"rgb(152, 223, 138)\",\"rgb(152, 223, 138)\",\"rgb(127, 127, 127)\",\"rgb(152, 223, 138)\",\"rgb(196, 156, 148)\",\"rgb(152, 223, 138)\",\"rgb(152, 223, 138)\",\"rgb(152, 223, 138)\",\"rgb(174, 199, 232)\",\"rgb(152, 223, 138)\",\"rgb(152, 223, 138)\",\"rgb(148, 103, 189)\",\"rgb(174, 199, 232)\",\"rgb(148, 103, 189)\",\"rgb(152, 223, 138)\",\"rgb(44, 160, 44)\",\"rgb(148, 103, 189)\",\"rgb(152, 223, 138)\",\"rgb(152, 223, 138)\",\"rgb(127, 127, 127)\",\"rgb(152, 223, 138)\",\"rgb(148, 103, 189)\",\"rgb(152, 223, 138)\",\"rgb(152, 223, 138)\",\"rgb(196, 156, 148)\",\"rgb(174, 199, 232)\",\"rgb(227, 119, 194)\",\"rgb(196, 156, 148)\",\"rgb(152, 223, 138)\",\"rgb(152, 223, 138)\",\"rgb(174, 199, 232)\",\"rgb(152, 223, 138)\",\"rgb(152, 223, 138)\",\"rgb(152, 223, 138)\",\"rgb(174, 199, 232)\",\"rgb(127, 127, 127)\",\"rgb(152, 223, 138)\",\"rgb(127, 127, 127)\",\"rgb(148, 103, 189)\",\"rgb(152, 223, 138)\",\"rgb(152, 223, 138)\",\"rgb(148, 103, 189)\",\"rgb(152, 223, 138)\",\"rgb(174, 199, 232)\",\"rgb(255, 127, 14)\",\"rgb(148, 103, 189)\",\"rgb(148, 103, 189)\",\"rgb(174, 199, 232)\",\"rgb(152, 223, 138)\",\"rgb(148, 103, 189)\",\"rgb(148, 103, 189)\",\"rgb(196, 156, 148)\",\"rgb(152, 223, 138)\",\"rgb(152, 223, 138)\",\"rgb(127, 127, 127)\",\"rgb(152, 223, 138)\",\"rgb(152, 223, 138)\",\"rgb(152, 223, 138)\",\"rgb(152, 223, 138)\",\"rgb(148, 103, 189)\",\"rgb(148, 103, 189)\",\"rgb(148, 103, 189)\",\"rgb(152, 223, 138)\",\"rgb(152, 223, 138)\",\"rgb(148, 103, 189)\",\"rgb(152, 223, 138)\",\"rgb(127, 127, 127)\",\"rgb(255, 127, 14)\",\"rgb(148, 103, 189)\",\"rgb(247, 182, 210)\",\"rgb(148, 103, 189)\",\"rgb(199, 199, 199)\",\"rgb(152, 223, 138)\",\"rgb(255, 152, 150)\",\"rgb(152, 223, 138)\",\"rgb(152, 223, 138)\",\"rgb(148, 103, 189)\",\"rgb(255, 152, 150)\",\"rgb(148, 103, 189)\",\"rgb(152, 223, 138)\",\"rgb(148, 103, 189)\",\"rgb(127, 127, 127)\",\"rgb(152, 223, 138)\",\"rgb(127, 127, 127)\",\"rgb(255, 127, 14)\",\"rgb(127, 127, 127)\",\"rgb(127, 127, 127)\",\"rgb(152, 223, 138)\",\"rgb(152, 223, 138)\",\"rgb(152, 223, 138)\",\"rgb(152, 223, 138)\",\"rgb(152, 223, 138)\",\"rgb(152, 223, 138)\",\"rgb(152, 223, 138)\",\"rgb(152, 223, 138)\",\"rgb(148, 103, 189)\",\"rgb(247, 182, 210)\",\"rgb(152, 223, 138)\",\"rgb(152, 223, 138)\",\"rgb(214, 39, 40)\",\"rgb(152, 223, 138)\",\"rgb(148, 103, 189)\",\"rgb(219, 219, 141)\",\"rgb(148, 103, 189)\",\"rgb(188, 189, 34)\",\"rgb(127, 127, 127)\",\"rgb(152, 223, 138)\",\"rgb(152, 223, 138)\",\"rgb(152, 223, 138)\",\"rgb(148, 103, 189)\",\"rgb(127, 127, 127)\",\"rgb(152, 223, 138)\",\"rgb(255, 152, 150)\",\"rgb(148, 103, 189)\",\"rgb(152, 223, 138)\",\"rgb(255, 152, 150)\",\"rgb(255, 152, 150)\",\"rgb(152, 223, 138)\",\"rgb(152, 223, 138)\",\"rgb(152, 223, 138)\",\"rgb(152, 223, 138)\",\"rgb(152, 223, 138)\",\"rgb(255, 152, 150)\",\"rgb(152, 223, 138)\",\"rgb(148, 103, 189)\",\"rgb(152, 223, 138)\",\"rgb(255, 152, 150)\",\"rgb(152, 223, 138)\",\"rgb(148, 103, 189)\",\"rgb(127, 127, 127)\",\"rgb(152, 223, 138)\",\"rgb(152, 223, 138)\",\"rgb(148, 103, 189)\",\"rgb(127, 127, 127)\",\"rgb(219, 219, 141)\",\"rgb(152, 223, 138)\",\"rgb(148, 103, 189)\",\"rgb(152, 223, 138)\",\"rgb(152, 223, 138)\",\"rgb(227, 119, 194)\",\"rgb(152, 223, 138)\",\"rgb(152, 223, 138)\",\"rgb(152, 223, 138)\",\"rgb(152, 223, 138)\",\"rgb(152, 223, 138)\",\"rgb(152, 223, 138)\",\"rgb(219, 219, 141)\",\"rgb(152, 223, 138)\",\"rgb(152, 223, 138)\",\"rgb(127, 127, 127)\",\"rgb(247, 182, 210)\",\"rgb(127, 127, 127)\",\"rgb(44, 160, 44)\",\"rgb(188, 189, 34)\",\"rgb(152, 223, 138)\",\"rgb(214, 39, 40)\",\"rgb(152, 223, 138)\",\"rgb(148, 103, 189)\",\"rgb(152, 223, 138)\",\"rgb(127, 127, 127)\",\"rgb(199, 199, 199)\",\"rgb(152, 223, 138)\",\"rgb(31, 119, 180)\",\"rgb(148, 103, 189)\",\"rgb(148, 103, 189)\",\"rgb(152, 223, 138)\",\"rgb(152, 223, 138)\",\"rgb(152, 223, 138)\",\"rgb(152, 223, 138)\",\"rgb(148, 103, 189)\",\"rgb(152, 223, 138)\",\"rgb(152, 223, 138)\",\"rgb(152, 223, 138)\",\"rgb(255, 152, 150)\",\"rgb(148, 103, 189)\",\"rgb(152, 223, 138)\",\"rgb(152, 223, 138)\",\"rgb(174, 199, 232)\",\"rgb(127, 127, 127)\",\"rgb(152, 223, 138)\",\"rgb(152, 223, 138)\",\"rgb(174, 199, 232)\",\"rgb(148, 103, 189)\",\"rgb(148, 103, 189)\",\"rgb(152, 223, 138)\",\"rgb(152, 223, 138)\",\"rgb(152, 223, 138)\",\"rgb(148, 103, 189)\",\"rgb(152, 223, 138)\",\"rgb(127, 127, 127)\",\"rgb(152, 223, 138)\",\"rgb(152, 223, 138)\",\"rgb(152, 223, 138)\",\"rgb(140, 86, 75)\",\"rgb(152, 223, 138)\",\"rgb(127, 127, 127)\",\"rgb(152, 223, 138)\",\"rgb(152, 223, 138)\",\"rgb(214, 39, 40)\",\"rgb(152, 223, 138)\",\"rgb(152, 223, 138)\",\"rgb(152, 223, 138)\",\"rgb(214, 39, 40)\",\"rgb(152, 223, 138)\",\"rgb(127, 127, 127)\",\"rgb(214, 39, 40)\",\"rgb(31, 119, 180)\",\"rgb(199, 199, 199)\",\"rgb(152, 223, 138)\",\"rgb(127, 127, 127)\",\"rgb(127, 127, 127)\",\"rgb(152, 223, 138)\",\"rgb(152, 223, 138)\",\"rgb(174, 199, 232)\",\"rgb(227, 119, 194)\",\"rgb(152, 223, 138)\",\"rgb(127, 127, 127)\",\"rgb(127, 127, 127)\",\"rgb(148, 103, 189)\",\"rgb(148, 103, 189)\",\"rgb(152, 223, 138)\",\"rgb(127, 127, 127)\",\"rgb(174, 199, 232)\",\"rgb(148, 103, 189)\",\"rgb(214, 39, 40)\",\"rgb(148, 103, 189)\",\"rgb(152, 223, 138)\",\"rgb(152, 223, 138)\",\"rgb(140, 86, 75)\",\"rgb(127, 127, 127)\",\"rgb(255, 127, 14)\",\"rgb(227, 119, 194)\",\"rgb(152, 223, 138)\",\"rgb(152, 223, 138)\",\"rgb(255, 152, 150)\",\"rgb(152, 223, 138)\",\"rgb(199, 199, 199)\",\"rgb(152, 223, 138)\",\"rgb(148, 103, 189)\",\"rgb(152, 223, 138)\",\"rgb(219, 219, 141)\",\"rgb(152, 223, 138)\",\"rgb(152, 223, 138)\",\"rgb(174, 199, 232)\",\"rgb(148, 103, 189)\",\"rgb(148, 103, 189)\",\"rgb(148, 103, 189)\",\"rgb(140, 86, 75)\",\"rgb(255, 152, 150)\",\"rgb(196, 156, 148)\",\"rgb(148, 103, 189)\",\"rgb(152, 223, 138)\",\"rgb(219, 219, 141)\",\"rgb(148, 103, 189)\",\"rgb(152, 223, 138)\",\"rgb(152, 223, 138)\",\"rgb(148, 103, 189)\",\"rgb(152, 223, 138)\",\"rgb(174, 199, 232)\",\"rgb(152, 223, 138)\",\"rgb(152, 223, 138)\",\"rgb(174, 199, 232)\",\"rgb(127, 127, 127)\",\"rgb(152, 223, 138)\",\"rgb(152, 223, 138)\",\"rgb(148, 103, 189)\",\"rgb(196, 156, 148)\",\"rgb(196, 156, 148)\",\"rgb(199, 199, 199)\",\"rgb(152, 223, 138)\",\"rgb(152, 223, 138)\",\"rgb(152, 223, 138)\",\"rgb(196, 156, 148)\",\"rgb(196, 156, 148)\",\"rgb(152, 223, 138)\",\"rgb(152, 223, 138)\",\"rgb(148, 103, 189)\",\"rgb(127, 127, 127)\",\"rgb(255, 152, 150)\",\"rgb(152, 223, 138)\",\"rgb(148, 103, 189)\",\"rgb(196, 156, 148)\",\"rgb(152, 223, 138)\",\"rgb(152, 223, 138)\",\"rgb(152, 223, 138)\",\"rgb(255, 152, 150)\",\"rgb(227, 119, 194)\",\"rgb(174, 199, 232)\",\"rgb(152, 223, 138)\",\"rgb(196, 156, 148)\",\"rgb(152, 223, 138)\",\"rgb(152, 223, 138)\",\"rgb(148, 103, 189)\",\"rgb(140, 86, 75)\",\"rgb(44, 160, 44)\",\"rgb(127, 127, 127)\",\"rgb(148, 103, 189)\",\"rgb(255, 152, 150)\",\"rgb(214, 39, 40)\",\"rgb(152, 223, 138)\",\"rgb(255, 152, 150)\",\"rgb(152, 223, 138)\",\"rgb(148, 103, 189)\",\"rgb(152, 223, 138)\",\"rgb(152, 223, 138)\",\"rgb(152, 223, 138)\",\"rgb(127, 127, 127)\",\"rgb(148, 103, 189)\",\"rgb(152, 223, 138)\",\"rgb(148, 103, 189)\",\"rgb(148, 103, 189)\",\"rgb(152, 223, 138)\",\"rgb(152, 223, 138)\",\"rgb(152, 223, 138)\",\"rgb(152, 223, 138)\",\"rgb(148, 103, 189)\",\"rgb(247, 182, 210)\",\"rgb(152, 223, 138)\",\"rgb(152, 223, 138)\",\"rgb(255, 152, 150)\",\"rgb(127, 127, 127)\",\"rgb(255, 152, 150)\",\"rgb(127, 127, 127)\",\"rgb(152, 223, 138)\",\"rgb(127, 127, 127)\",\"rgb(148, 103, 189)\",\"rgb(152, 223, 138)\",\"rgb(152, 223, 138)\",\"rgb(148, 103, 189)\",\"rgb(127, 127, 127)\",\"rgb(152, 223, 138)\",\"rgb(148, 103, 189)\",\"rgb(152, 223, 138)\",\"rgb(255, 152, 150)\",\"rgb(219, 219, 141)\",\"rgb(152, 223, 138)\",\"rgb(174, 199, 232)\",\"rgb(152, 223, 138)\",\"rgb(219, 219, 141)\",\"rgb(127, 127, 127)\",\"rgb(148, 103, 189)\",\"rgb(152, 223, 138)\",\"rgb(152, 223, 138)\",\"rgb(227, 119, 194)\",\"rgb(152, 223, 138)\",\"rgb(148, 103, 189)\",\"rgb(152, 223, 138)\",\"rgb(127, 127, 127)\",\"rgb(152, 223, 138)\",\"rgb(148, 103, 189)\",\"rgb(152, 223, 138)\",\"rgb(152, 223, 138)\",\"rgb(152, 223, 138)\",\"rgb(148, 103, 189)\",\"rgb(148, 103, 189)\",\"rgb(196, 156, 148)\",\"rgb(148, 103, 189)\",\"rgb(152, 223, 138)\",\"rgb(127, 127, 127)\",\"rgb(148, 103, 189)\",\"rgb(255, 152, 150)\",\"rgb(148, 103, 189)\",\"rgb(127, 127, 127)\",\"rgb(152, 223, 138)\",\"rgb(199, 199, 199)\",\"rgb(152, 223, 138)\",\"rgb(127, 127, 127)\",\"rgb(152, 223, 138)\",\"rgb(152, 223, 138)\",\"rgb(148, 103, 189)\",\"rgb(152, 223, 138)\",\"rgb(152, 223, 138)\",\"rgb(174, 199, 232)\",\"rgb(152, 223, 138)\",\"rgb(148, 103, 189)\",\"rgb(127, 127, 127)\",\"rgb(152, 223, 138)\",\"rgb(152, 223, 138)\",\"rgb(127, 127, 127)\",\"rgb(148, 103, 189)\",\"rgb(152, 223, 138)\",\"rgb(152, 223, 138)\",\"rgb(127, 127, 127)\",\"rgb(140, 86, 75)\",\"rgb(174, 199, 232)\",\"rgb(152, 223, 138)\",\"rgb(152, 223, 138)\",\"rgb(255, 127, 14)\",\"rgb(148, 103, 189)\",\"rgb(148, 103, 189)\",\"rgb(152, 223, 138)\",\"rgb(174, 199, 232)\",\"rgb(148, 103, 189)\",\"rgb(152, 223, 138)\",\"rgb(148, 103, 189)\",\"rgb(152, 223, 138)\",\"rgb(152, 223, 138)\",\"rgb(152, 223, 138)\",\"rgb(148, 103, 189)\",\"rgb(127, 127, 127)\",\"rgb(152, 223, 138)\",\"rgb(152, 223, 138)\",\"rgb(127, 127, 127)\",\"rgb(152, 223, 138)\",\"rgb(152, 223, 138)\",\"rgb(152, 223, 138)\",\"rgb(152, 223, 138)\",\"rgb(152, 223, 138)\",\"rgb(152, 223, 138)\",\"rgb(152, 223, 138)\",\"rgb(255, 152, 150)\",\"rgb(152, 223, 138)\",\"rgb(127, 127, 127)\",\"rgb(152, 223, 138)\",\"rgb(31, 119, 180)\",\"rgb(214, 39, 40)\",\"rgb(255, 152, 150)\",\"rgb(152, 223, 138)\",\"rgb(174, 199, 232)\",\"rgb(148, 103, 189)\",\"rgb(152, 223, 138)\",\"rgb(196, 156, 148)\",\"rgb(255, 187, 120)\",\"rgb(219, 219, 141)\",\"rgb(152, 223, 138)\",\"rgb(247, 182, 210)\",\"rgb(152, 223, 138)\",\"rgb(148, 103, 189)\",\"rgb(227, 119, 194)\",\"rgb(152, 223, 138)\",\"rgb(152, 223, 138)\",\"rgb(127, 127, 127)\",\"rgb(174, 199, 232)\",\"rgb(247, 182, 210)\",\"rgb(152, 223, 138)\",\"rgb(152, 223, 138)\",\"rgb(152, 223, 138)\",\"rgb(127, 127, 127)\",\"rgb(152, 223, 138)\",\"rgb(152, 223, 138)\",\"rgb(152, 223, 138)\",\"rgb(152, 223, 138)\",\"rgb(152, 223, 138)\",\"rgb(152, 223, 138)\",\"rgb(152, 223, 138)\",\"rgb(127, 127, 127)\",\"rgb(152, 223, 138)\",\"rgb(152, 223, 138)\",\"rgb(152, 223, 138)\",\"rgb(152, 223, 138)\",\"rgb(152, 223, 138)\",\"rgb(152, 223, 138)\",\"rgb(152, 223, 138)\",\"rgb(152, 223, 138)\",\"rgb(127, 127, 127)\",\"rgb(127, 127, 127)\",\"rgb(31, 119, 180)\",\"rgb(152, 223, 138)\",\"rgb(148, 103, 189)\",\"rgb(152, 223, 138)\",\"rgb(152, 223, 138)\",\"rgb(152, 223, 138)\",\"rgb(152, 223, 138)\",\"rgb(255, 152, 150)\",\"rgb(148, 103, 189)\",\"rgb(174, 199, 232)\",\"rgb(152, 223, 138)\",\"rgb(152, 223, 138)\",\"rgb(255, 152, 150)\",\"rgb(152, 223, 138)\",\"rgb(152, 223, 138)\",\"rgb(127, 127, 127)\",\"rgb(148, 103, 189)\",\"rgb(152, 223, 138)\",\"rgb(152, 223, 138)\",\"rgb(255, 127, 14)\",\"rgb(152, 223, 138)\",\"rgb(152, 223, 138)\",\"rgb(127, 127, 127)\",\"rgb(152, 223, 138)\",\"rgb(148, 103, 189)\",\"rgb(152, 223, 138)\",\"rgb(174, 199, 232)\",\"rgb(152, 223, 138)\",\"rgb(152, 223, 138)\",\"rgb(152, 223, 138)\",\"rgb(148, 103, 189)\",\"rgb(152, 223, 138)\",\"rgb(152, 223, 138)\",\"rgb(219, 219, 141)\",\"rgb(152, 223, 138)\",\"rgb(152, 223, 138)\",\"rgb(152, 223, 138)\",\"rgb(152, 223, 138)\",\"rgb(127, 127, 127)\",\"rgb(152, 223, 138)\",\"rgb(148, 103, 189)\",\"rgb(148, 103, 189)\",\"rgb(148, 103, 189)\",\"rgb(199, 199, 199)\",\"rgb(152, 223, 138)\",\"rgb(152, 223, 138)\",\"rgb(152, 223, 138)\",\"rgb(148, 103, 189)\",\"rgb(152, 223, 138)\",\"rgb(152, 223, 138)\",\"rgb(127, 127, 127)\",\"rgb(174, 199, 232)\",\"rgb(148, 103, 189)\",\"rgb(148, 103, 189)\",\"rgb(196, 156, 148)\",\"rgb(152, 223, 138)\",\"rgb(188, 189, 34)\",\"rgb(199, 199, 199)\",\"rgb(152, 223, 138)\",\"rgb(152, 223, 138)\",\"rgb(148, 103, 189)\",\"rgb(174, 199, 232)\",\"rgb(152, 223, 138)\",\"rgb(127, 127, 127)\",\"rgb(174, 199, 232)\",\"rgb(152, 223, 138)\",\"rgb(127, 127, 127)\",\"rgb(31, 119, 180)\",\"rgb(152, 223, 138)\",\"rgb(174, 199, 232)\",\"rgb(127, 127, 127)\",\"rgb(152, 223, 138)\",\"rgb(148, 103, 189)\",\"rgb(214, 39, 40)\",\"rgb(148, 103, 189)\",\"rgb(152, 223, 138)\",\"rgb(148, 103, 189)\",\"rgb(196, 156, 148)\"],\"token\":[\"Glasko\",\"Gololobov\",\"Grammatakakis\",\"Aspey\",\"Enyagin\",\"Porublev\",\"Viola\",\"Lindsay\",\"Roffey\",\"Avrorin\",\"Judaev\",\"Trampotova\",\"Zhivopistsev\",\"Cochrane\",\"Salib\",\"Riedel\",\"Debenham\",\"Rahal\",\"Baidzhanov\",\"Juhtanov\",\"Montagna\",\"Grot\",\"Postnikov\",\"Gwerder\",\"Lysikhin\",\"Tchaganov\",\"Maalouf\",\"Naifeh\",\"Charykov\",\"Bim-Bad\",\"Talipov\",\"Matsuoka\",\"Makhinya\",\"Makharov\",\"Dittmar\",\"Zhikharevitch\",\"Otani\",\"Haliullin\",\"Nozara\",\"Nagel\",\"Tcheharin\",\"Timpe\",\"Bazilevich\",\"Anikushin\",\"Greenall\",\"Hrula\",\"Tchanov\",\"Rainov\",\"Sato\",\"Takekawa\",\"Allegri\",\"Turner\",\"Guk\",\"Pohmel'Nyh\",\"Atiyeh\",\"Zhivotenko\",\"Watoga\",\"F\\u00f6rstner\",\"Klerk\",\"Abdulkhabirov\",\"Dubko\",\"Awad\",\"Bailey\",\"Seif\",\"Nader\",\"Easterbrook\",\"Stolarz\",\"Hasabov\",\"Danyushevsky\",\"Bekhtenev\",\"Martyshko\",\"Hirikilis\",\"Ganim\",\"Zhovtun\",\"Chugainov\",\"Zhadanovsky\",\"Wyer\",\"Bellamy\",\"Bradshaw\",\"Molina\",\"Dubrovsky\",\"Barandych\",\"Onishko\",\"Babyuk\",\"Makurov\",\"Avdonin\",\"Zhdanovsky\",\"Andryushin\",\"Wahner\",\"Prigorodov\",\"Oomen\",\"an\",\"Munsky\",\"Multah\",\"Odea\",\"Mcgregor\",\"Balanowski\",\"Andryuhin\",\"Grankov\",\"Aweryanoff\",\"Bagmewski\",\"Sonnen\",\"Hizriev\",\"Sarraf\",\"Rahal\",\"Ukhobotin\",\"Foxley\",\"Turke\",\"Phung\",\"Zha\",\"Kerridge\",\"Bahshiev\",\"Jerry\",\"Zhminko\",\"Molochnikov\",\"Dakhov\",\"Yukhtanov\",\"Chu\",\"Alesbury\",\"Conway\",\"Rogachev\",\"Eberling\",\"Zhuravsky\",\"Bajanoff\",\"Fiscella\",\"Mcmillan\",\"Kattan\",\"Emeshin\",\"Mokhnachev\",\"Martidi\",\"Browne\",\"England\",\"Albutt\",\"Olivier\",\"Pekhotin\",\"O'Donoghue\",\"Saifulaev\",\"Almeida\",\"Mccormack\",\"Artemev\",\"Russov\",\"Jmudsky\",\"Lovelock\",\"Agamirov\",\"Vanwell\",\"Shalygin\",\"Kanaan\",\"Juzin\",\"Schr\\u00f6ter\",\"Sailotov\",\"Ricchetti\",\"Chavez\",\"Keys\",\"Eroschenko\",\"Ataev\",\"Katsukawa\",\"Hon\",\"Hayaliev\",\"Ahearn\",\"Goodchild\",\"Jonas\",\"Montero\",\"Sayegh\",\"Molin\",\"Harionovsky\",\"Easton\",\"Agalarov\",\"Ganim\",\"Molotov\",\"Sammiya\",\"K\\u00e4stner\",\"Jivkovich\",\"Ferreiro\",\"Wasem\",\"Joseph\",\"Bazaev\",\"Kabak\",\"Kalinko\",\"Vajenin\",\"Antoun\",\"Adabir\",\"Yeadon\",\"Agnivtsev\",\"Jelobinsky\",\"Albert\",\"Andres\",\"Shenfeldt\",\"Dakhno\",\"Deeb\",\"Kanaan\",\"Svocak\",\"Rikhter\",\"Traverse\",\"Shamburkin\",\"Haritonenko\",\"Selby\",\"Oulton\",\"Nghiem\",\"Naser\",\"Napoletani\",\"Awlukoff\",\"Atalikov\",\"Dovlatov\",\"Zogby\",\"Trigg\",\"Portnikov\",\"Baikaloff\",\"Zhirdetsky\",\"Dauman\",\"Kimiyama\",\"Raihelgauz\",\"Leiko\",\"Hlynov\",\"Balahnin\",\"Zhelnin\",\"Lester\",\"Holopov\",\"Ansell\",\"Rengarten\",\"Aart\",\"Jervis\",\"Zinkovsky\",\"Turmanov\",\"Mikhalkov\",\"Kabes\",\"Akera\",\"Antyushin\",\"Tokmakov\",\"Raikov\",\"Kartavtsev\",\"Douthwaite\",\"Abdulbekoff\",\"Bakhurin\",\"Kurosawa\",\"Mercier\",\"Helashvili\",\"Buxton\",\"Ronald\",\"Gess\",\"Shadsky\",\"Nakhodkin\",\"Lizogub\",\"Avilov\",\"Zhivkovich\",\"Salib\",\"Auberton\",\"Bitar\",\"Tunison\",\"Jacob\",\"Sayegh\",\"Srour\",\"Sleiman\",\"Deulenko\",\"Middlesworth\",\"Tomlin\",\"Pyjiev\",\"Gladenkov\",\"Iskandarov\",\"Gerges\",\"Cohen\",\"Rjevsky\",\"Sakiev\",\"Lapinus\",\"Stamatelos\",\"Janenko\",\"Datdeev\",\"Holl\",\"Richman\",\"Lutohin\",\"Rosa\",\"Paloumbas\",\"Hussain\",\"Mikhelson\",\"Anurin\",\"Isakov\",\"Zhang\",\"Galdus\",\"Baum\",\"Kerwer\",\"Abdulin\",\"Ottley\",\"Makaseev\",\"Kenley\",\"Esparza\",\"Abraham\",\"Onegin\",\"Jans\",\"Atshushi\",\"Kouma\",\"Taliev\",\"Saigo\",\"Entov\",\"Belmonte\",\"Saitoh\",\"Onkov\",\"Laterza\",\"Iskortsev\",\"Almetiev\",\"Riddle\",\"Kruessel\",\"Gulamov\",\"Hramtsov\",\"Saifulov\",\"Mubaryakov\",\"Jbankov\",\"Tahan\",\"Awroff\",\"Andrusiw\",\"Yuhnin\",\"Arnolfi\",\"Parma\",\"Kaufman\",\"Abboud\",\"Gibbins\",\"Kidd\",\"Miniahhmetov\",\"Edgell\",\"Jandulsky\",\"Pastreiter\",\"Yablochkov\",\"Dack\",\"Malouf\",\"Baklanoff\",\"Cowell\",\"Chikulaev\",\"Stuckey\",\"Baitchikov\",\"Malouf\",\"Takemitsu\",\"Najjar\",\"Koemans\",\"Yoshioka\",\"Zhalnin\",\"De laurentis\",\"Nussenbaum\",\"Olson\",\"Serafin\",\"Vasyankin\",\"Mcgrady\",\"Pontecorvo\",\"Dovgusha\",\"Chai\",\"Zhashkov\",\"Schoonenburg\",\"Dervish\",\"Jurihin\",\"Kill\",\"Gudov\",\"Pyankov\",\"Erenkov\",\"Young\",\"Tuzov\",\"Alderisi\",\"Zhabotinsky\",\"Guzev\",\"Epton\",\"D'ambrosio\",\"Bahtinoff\",\"Quraishi\",\"Murphy\",\"Okimoto\",\"Vintergalter\",\"Cotton\",\"Walter\",\"Marik\",\"Kingsley\",\"Adelkhanoff\",\"Minkovich\",\"Deyanov\",\"Huggins\",\"Flack\",\"Jigachev\",\"Avalishvili\",\"Atiyeh\",\"Kaima\",\"Pirzadyan\",\"Tamaev\",\"Poletti\",\"Likhterman\",\"Blau\",\"Yahot\",\"Anufriev\",\"Hamukov\",\"Chepasov\",\"Miyazawa\",\"Imniaminov\",\"Zasursky\",\"Hashaba\",\"Symonds\",\"Shamanin\",\"Shahnazarov\",\"Harman\",\"Hudokormov\",\"Mikhail\",\"Lilov\",\"O'Callaghann\",\"Maroun\",\"Daele\",\"Adelfinski\",\"Fujioka\",\"Truscott\",\"Okumura\",\"Yakovichenko\",\"Cino\",\"Maria\",\"Jmulev\",\"Nakahara\",\"Yapp\",\"Djisev\",\"Baklastoff\",\"Mikhail\",\"Pechernikov\",\"Tihobaev\",\"Ianson\",\"Awdiyski\",\"Seeger\",\"Tsaizer\",\"Balazowski\",\"Nyrtsev\",\"Vavulin\",\"Balanowsky\",\"Mkrtchyants\",\"Cartwright\",\"Fukusaku\",\"Abaturoff\",\"Duchamps\",\"Lyzhin\",\"Kalikhov\",\"Callaghan\",\"Nader\",\"Jelyabov\",\"Awiloff\",\"Likhodedov\",\"Agranowski\",\"Yagofarov\",\"Rowland\",\"Mifsud\",\"Beltsov\",\"Kuroda\",\"Marugo\",\"Murrell\",\"Handal\",\"Mikhailyants\",\"Ozu\",\"Lianozov\",\"Schr\\u00f6der\",\"Obyedkin\",\"Suenami\",\"Bishara\",\"Jerikhin\",\"Yang\",\"Demas\",\"Pitersky\",\"Adamovitch\",\"Sneddon\",\"Martsevich\",\"Hrabak\",\"Vajov\",\"Marek\",\"Baitoff\",\"Allport\",\"Reading\",\"Baidukov\",\"Harb\",\"Balakaev\",\"Fakhoury\",\"Efanov\",\"Lyskin\",\"Hilkov\",\"Valiakhmetov\",\"Prentice\",\"Pavlushin\",\"Adaryukov\",\"Hamer\",\"Dovgyallo\",\"Ganim\",\"Beilshtein\",\"Rovnin\",\"Daher\",\"Alferov\",\"Vassilopulos\",\"Moshnikov\",\"Adigamoff\",\"Jaskolski\",\"Hajjar\",\"Tuniev\",\"Finan\",\"Traverso\",\"Storer\",\"Houghton\",\"Zozulya\",\"Kurata\",\"Dovetov\",\"Fairclough\",\"Fiedler\",\"Heidrich\",\"Sarraf\",\"Zhongolovich\",\"Toman\",\"Hennessy\",\"Levitt\",\"Glatter\",\"Rand\",\"Maryshev\",\"Gaber\",\"Veselago\",\"Hlopin\",\"Jernokleev\",\"Mcmillan\",\"D'amore\",\"Ton\",\"Zhilinsky\",\"Minkin\",\"Alberghini\",\"Oneil\",\"Lysyakov\",\"Hadad\",\"Voigt\",\"Kabuzan\",\"Bagai-Ool\",\"Jidkov\",\"Agabekoff\",\"Apsley\",\"Zhevakhov\",\"Luspekaev\",\"Carney\",\"Bain\",\"Vihirev\",\"Ahmad\",\"Livadin\",\"Abdurakhmanov\",\"Davlertgareev\",\"Jankin\",\"Ruzhentsov\",\"Hanakhu\",\"Aves\",\"Oom\",\"Kenneford\",\"Larkin\",\"Nazari\",\"Trukhnin\",\"Khan\",\"Velgus\",\"Bekhtin\",\"Palmer\",\"Gulbinsky\",\"Grogan\",\"Dudunov\",\"Huan\",\"Paranin\",\"Ryjenkov\",\"Flaxman\",\"Luferov\",\"Quintana\",\"Andrukhovich\",\"Tidmarsh\",\"Mikhailin\",\"Asghar\",\"Asfour\",\"Bachaldin\",\"Collett\",\"Linsby\",\"Smithson\",\"Martelli\",\"Lowdon\",\"Tsukamoto\",\"Ryzhy\",\"Chilar\",\"Hawkins\",\"Gridchin\",\"Attia\",\"Roman\",\"Khouri\",\"Golomovzy\",\"Jatskov\",\"Shakhgildyan\",\"Dreher\",\"Bassanelli\",\"Lozhchenko\",\"Atkinson\",\"Donnachie\",\"Murata\",\"Yakir\",\"Bryan\",\"Kalb\",\"Engver\",\"Dounias\",\"Kachainik\",\"Buchholz\",\"Legg\",\"Charushkin\",\"Deforest\",\"Schroeter\",\"Costa\",\"Sarkis\",\"Fiore\",\"Jemchugov\",\"Zheldakov\",\"Jelvakov\",\"Petsyuha\",\"Gorsun\",\"Gi\\u00f9govaz\",\"Balakhonov\",\"Vanyushin\",\"Hodoval\",\"Ware\",\"Sylvester\",\"Abboud\",\"Daugulis\",\"Schulte\",\"Dzhahaya\",\"Chidlow\",\"Lupei\",\"Butler\",\"Serafini\",\"Gall\",\"Shipley\",\"Her\",\"Kaluza\",\"Kuga\",\"Abramson\",\"Tsekhmistrenko\",\"Obuh\",\"Asghar\",\"Azhaev\",\"Exon\",\"Pakhomov\",\"Minnubaev\",\"Brian\",\"Harisov\",\"Winter\",\"Pochkaev\",\"Koury\",\"Dovgalevsky\",\"Kaczka\",\"Pho\",\"Fujita\",\"Beloyartsev\",\"Gim\",\"Pochkailo\",\"Mindadze\",\"Mochalin\",\"Davison\",\"Zharov\",\"Atroshenko\",\"Archer\",\"Gorski\",\"Jabitsky\",\"Halstead\",\"Romeijnders\",\"Simen\",\"Ramsey\",\"Loifman\",\"Vagramenko\",\"Atterbury\",\"Murray\",\"Takara\",\"Jue\",\"Emohonov\",\"Jinov\",\"Temple\",\"Haladjan\",\"Antoun\",\"Hogan\",\"Golovatov\",\"Silveira\",\"Ruff\",\"Cline\",\"Proulx\",\"Horos\",\"Jakutin\",\"Yaikbaev\",\"Persein\",\"Golosov\",\"Heppenheimer\",\"Arian\",\"Adyan\",\"Khouri\",\"Awtuhoff\",\"Ustenko\",\"Kitching\",\"Tannous\",\"Marshansky\",\"Agababov\",\"Alpert\",\"Yuschak\",\"Leslie\",\"Foley\",\"Passerini\",\"Yatsyshin\",\"Avvakumoff\",\"Averbah\",\"Bazzi\",\"Vivas\",\"Bisset\",\"Satoya\",\"Coomber\",\"Campos\",\"Huber\",\"Tuma\",\"Babentsev\",\"Pasfield\",\"Ibbs\",\"Malouf\",\"Auerbakh\",\"Aoki\",\"Raizer\",\"Yanishin\",\"Froyanov\",\"Filipovich\",\"Langton\",\"Guirguis\",\"Belous\",\"Prosdocimi\",\"Didychenko\",\"Derrien\",\"Turnham\",\"Kringos\",\"Serafin\",\"Okeefe\",\"Smart\",\"Pridvorov\",\"Stoppelbein\",\"Waters\",\"Koberna\",\"Di pasqua\",\"Frary\",\"Uhabin\",\"Mustafa\",\"Safar\",\"Gramberg\",\"Holodovsky\",\"Sommer\",\"Desai\",\"Lucassen\",\"Remyannikov\",\"Yablokov\",\"Norbury\",\"Babarin\",\"Eizenstein\",\"Jagoda\",\"Lihachev\",\"Wan\",\"Andreyanov\",\"Goring\",\"Aston\",\"D'aramitz\",\"Vlasenko\",\"Malinowski\",\"Fujiwara\",\"Sapojinsky\",\"Rahal\",\"Salib\",\"Yin\",\"Agibaloff\",\"Belshtein\",\"Tzarenkov\",\"Sarkis\",\"Patzevich\",\"Machado\",\"Freestone\",\"Bagashev\",\"Mas\",\"Coiro\",\"Molov\",\"Lezhenko\",\"Roosevelt\",\"Allman\",\"Villis\",\"Nord\",\"Sokolik\",\"Kapoor\",\"Viselov\",\"Bird\",\"Ackermann\",\"Etheridge\",\"Moderah\",\"Kopecky\",\"Guzairov\",\"Rokhin\",\"Roth\",\"Tonks\",\"Bagin\",\"Ichikawa\",\"Halapkhaev\",\"Abdurahmanoff\",\"Ganim\",\"Pohodin\",\"Novohatsky\",\"Antram\",\"Lewins\",\"She\",\"Anami\",\"Topley\",\"Cheptsov\",\"Pavot\",\"Zhloba\",\"Mordashov\",\"Vypolzov\",\"Paimullin\",\"Child\",\"Seighin\",\"Morava\",\"Yakushevich\",\"Pyhteev\",\"Chu\",\"Tulov\",\"Niemec\",\"Abushenko\",\"Abdrashitov\",\"Finyutin\",\"Daushev\",\"Gwock\",\"Researcher\",\"Birshtein\",\"Evsyukov\",\"Chaleev\",\"Nasyrov\",\"Kalinnikov\",\"Averkovitch\",\"Zobov\",\"Valmary\",\"Havin\",\"Yosano\",\"Saks\",\"Bektabegov\",\"Jeleznov\",\"Cheruhin\",\"Forshteter\",\"Mahlov\",\"Said\",\"Yasuhiro\",\"Tosi\",\"Anoprienko\",\"Jury\",\"Yuditsky\",\"Spada\",\"Jurkin\",\"Gorchatov\",\"Eroshov\",\"Polibin\",\"Seto\",\"Redding\",\"Haanraats\",\"Zharinov\",\"Dzhuromsky\",\"Gavrilopoulos\",\"Imagawa\",\"Greenway\",\"Ligorner\",\"Ghanem\",\"Hapsirokov\",\"Llewellyn\",\"Millward\",\"Abrosimoff\",\"Kawachi\",\"Gunston\",\"Crowley\",\"Killock\",\"Khoury\",\"Collins\",\"Sleiman\",\"Babineaux\",\"Shand\",\"Kowalski\",\"Tsen\",\"Binevich\",\"Kada\",\"Alcheri\",\"Makhrovsky\",\"You\",\"Edler\",\"Vitmer\",\"Veledeev\",\"Jenner\",\"Zavorohin\",\"B\\u00f6ttcher\",\"Sarraf\",\"Juhanaev\",\"Jujlev\",\"Jigalov\",\"Jalilo\",\"Pyriev\",\"Ganem\",\"Mukin\",\"Zhamsuev\",\"Busto\",\"Huako\",\"Egorihin\",\"Gomulka\",\"Shannon\",\"Kalitvin\",\"Thackeray\",\"Swann\",\"Pen'Kovsky\",\"Vagin\",\"Nani\",\"Shadid\",\"Kearsley\",\"Alper\",\"Lyjenkov\",\"Zhvykin\",\"Hofmann\",\"Mifsud\",\"Zappa\",\"Zhgutov\",\"Seger\",\"Djindo\",\"Antic\",\"Morekhin\",\"Baz\",\"Tchehovsky\",\"Adlam\",\"Deeb\",\"Mineev\",\"Lynch\",\"Shirkov\",\"Tannous\",\"Galanopoulos\",\"Avdiewski\",\"Muzgin\",\"Klerkx\",\"Waugh\",\"Likhodeev\",\"Harb\",\"Roche\",\"Hardy\",\"Omischenko\",\"Rohlin\",\"Halileev\",\"Bahtiaroff\",\"Webster\",\"To The First Page\",\"Saikov\",\"Krivan\",\"Adashevski\",\"Kalina\",\"Mochtarev\",\"Parisi\",\"Zhilenkov\",\"Obukovkin\",\"Dohman\",\"Anoskov\",\"Ekin\",\"Kafka\",\"Awramchik\",\"Awtonomoff\",\"Dodolev\",\"Zasyadko\",\"Muzenitov\",\"Ferns\",\"Awduloff\",\"Hapitsky\",\"Ruadhan\",\"Pokhodun\",\"Cheung\",\"Jangarber\",\"Hannam\",\"Sanda\",\"Zherzdev\",\"Kawashima\",\"Gluskin\",\"Myers\",\"Enright\",\"Valiullin\",\"Okada\",\"Hatch\",\"Jdanko\",\"Masin\",\"Maguire\",\"Mindibekov\",\"Uzky\",\"Dana\",\"Tulkin\",\"Mikhail\",\"Di caprio\",\"Kawate\",\"Bakihanoff\",\"Gunby\",\"Nyuren\",\"Nakagawa\",\"Hinchuk\",\"Cabral\",\"Hadad\",\"Xydis\",\"Ruadhain\",\"Raffel\",\"Apeldoorn\",\"Otdelnov\",\"Asghar\",\"Sakson\",\"Cherov\",\"Cuevas\",\"Mansour\",\"Rzhevsky\",\"Daher\",\"Zhizhnov\",\"Engibarov\",\"Martzenko\",\"Pokhilchuk\"],\"x\":{\"__ndarray__\":\"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\",\"dtype\":\"float32\",\"shape\":[1000]},\"y\":{\"__ndarray__\":\"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\",\"dtype\":\"float32\",\"shape\":[1000]}},\"selected\":{\"id\":\"ae5b7e3b-509b-40f0-b52e-beca4bc5f379\",\"type\":\"Selection\"},\"selection_policy\":{\"id\":\"957d105f-2213-4ab1-8b47-f4324578058c\",\"type\":\"UnionRenderers\"}},\"id\":\"a21be9a4-0b23-4fdb-b292-fee059704a61\",\"type\":\"ColumnDataSource\"},{\"attributes\":{\"fill_alpha\":{\"value\":0.1},\"fill_color\":{\"value\":\"#1f77b4\"},\"line_alpha\":{\"value\":0.1},\"line_color\":{\"value\":\"#1f77b4\"},\"size\":{\"units\":\"screen\",\"value\":10},\"x\":{\"field\":\"x\"},\"y\":{\"field\":\"y\"}},\"id\":\"c05386cf-c44e-451c-819f-a27ff7277aac\",\"type\":\"Circle\"},{\"attributes\":{\"callback\":null,\"renderers\":\"auto\",\"tooltips\":[[\"token\",\"@token\"]]},\"id\":\"49e77cbe-92b1-49eb-b86a-5b9f66e9a800\",\"type\":\"HoverTool\"},{\"attributes\":{\"bottom_units\":\"screen\",\"fill_alpha\":{\"value\":0.5},\"fill_color\":{\"value\":\"lightgrey\"},\"left_units\":\"screen\",\"level\":\"overlay\",\"line_alpha\":{\"value\":1.0},\"line_color\":{\"value\":\"black\"},\"line_dash\":[4,4],\"line_width\":{\"value\":2},\"plot\":null,\"render_mode\":\"css\",\"right_units\":\"screen\",\"top_units\":\"screen\"},\"id\":\"5692dcca-183b-4079-8961-967d9356fcfd\",\"type\":\"BoxAnnotation\"},{\"attributes\":{},\"id\":\"d30f1c31-b05b-477e-b4de-ae3962c3780f\",\"type\":\"PanTool\"},{\"attributes\":{\"below\":[{\"id\":\"dfa5991d-085c-4979-88e2-93df3a3d57b0\",\"type\":\"LinearAxis\"}],\"left\":[{\"id\":\"395a7b5e-1fdb-460c-8670-bce1e2944cfd\",\"type\":\"LinearAxis\"}],\"plot_height\":400,\"renderers\":[{\"id\":\"dfa5991d-085c-4979-88e2-93df3a3d57b0\",\"type\":\"LinearAxis\"},{\"id\":\"a36a7ac2-de8d-4ce3-bd46-225c7b8f99b0\",\"type\":\"Grid\"},{\"id\":\"395a7b5e-1fdb-460c-8670-bce1e2944cfd\",\"type\":\"LinearAxis\"},{\"id\":\"feed922d-c83a-4044-8a46-7d790a2415b5\",\"type\":\"Grid\"},{\"id\":\"5692dcca-183b-4079-8961-967d9356fcfd\",\"type\":\"BoxAnnotation\"},{\"id\":\"04477890-cca2-47c7-b103-88a9e3cd50e7\",\"type\":\"GlyphRenderer\"}],\"title\":{\"id\":\"11e20c65-5466-4433-962f-8359b3a5cebc\",\"type\":\"Title\"},\"toolbar\":{\"id\":\"f12149dd-05ee-44f9-9dc0-f47ac37c407a\",\"type\":\"Toolbar\"},\"x_range\":{\"id\":\"7aa4f5e2-7d80-4742-8ca1-abff9d6a42b0\",\"type\":\"DataRange1d\"},\"x_scale\":{\"id\":\"e39626e4-cb5e-4a67-b815-5f34d380e991\",\"type\":\"LinearScale\"},\"y_range\":{\"id\":\"0d43d674-4d47-4946-8892-35aedcbd784a\",\"type\":\"DataRange1d\"},\"y_scale\":{\"id\":\"69f62052-28d7-4b90-a8fb-faf21dbfef00\",\"type\":\"LinearScale\"}},\"id\":\"42a6d49e-1359-40d1-afe3-6e034ea0b70c\",\"subtype\":\"Figure\",\"type\":\"Plot\"},{\"attributes\":{\"source\":{\"id\":\"a21be9a4-0b23-4fdb-b292-fee059704a61\",\"type\":\"ColumnDataSource\"}},\"id\":\"6d0c141d-d873-43f2-9894-066ce07d8bc9\",\"type\":\"CDSView\"},{\"attributes\":{\"data_source\":{\"id\":\"a21be9a4-0b23-4fdb-b292-fee059704a61\",\"type\":\"ColumnDataSource\"},\"glyph\":{\"id\":\"59276457-ed39-42ca-b517-57b033809470\",\"type\":\"Circle\"},\"hover_glyph\":null,\"muted_glyph\":null,\"nonselection_glyph\":{\"id\":\"c05386cf-c44e-451c-819f-a27ff7277aac\",\"type\":\"Circle\"},\"selection_glyph\":null,\"view\":{\"id\":\"6d0c141d-d873-43f2-9894-066ce07d8bc9\",\"type\":\"CDSView\"}},\"id\":\"04477890-cca2-47c7-b103-88a9e3cd50e7\",\"type\":\"GlyphRenderer\"},{\"attributes\":{},\"id\":\"b6cfa7d0-3fbd-4724-ad4b-811021a50b54\",\"type\":\"WheelZoomTool\"},{\"attributes\":{\"active_drag\":\"auto\",\"active_inspect\":\"auto\",\"active_multi\":null,\"active_scroll\":{\"id\":\"b6cfa7d0-3fbd-4724-ad4b-811021a50b54\",\"type\":\"WheelZoomTool\"},\"active_tap\":\"auto\",\"tools\":[{\"id\":\"d30f1c31-b05b-477e-b4de-ae3962c3780f\",\"type\":\"PanTool\"},{\"id\":\"b6cfa7d0-3fbd-4724-ad4b-811021a50b54\",\"type\":\"WheelZoomTool\"},{\"id\":\"014a14ee-0e58-49ec-b120-7462209358a8\",\"type\":\"BoxZoomTool\"},{\"id\":\"b3705907-48b0-42b6-881b-2ecdf79e8b3a\",\"type\":\"SaveTool\"},{\"id\":\"15e22674-6361-48dc-9c2a-566fef3b2c18\",\"type\":\"ResetTool\"},{\"id\":\"b35089fa-402b-48ad-b469-63889187bf5f\",\"type\":\"HelpTool\"},{\"id\":\"49e77cbe-92b1-49eb-b86a-5b9f66e9a800\",\"type\":\"HoverTool\"}]},\"id\":\"f12149dd-05ee-44f9-9dc0-f47ac37c407a\",\"type\":\"Toolbar\"},{\"attributes\":{\"overlay\":{\"id\":\"5692dcca-183b-4079-8961-967d9356fcfd\",\"type\":\"BoxAnnotation\"}},\"id\":\"014a14ee-0e58-49ec-b120-7462209358a8\",\"type\":\"BoxZoomTool\"},{\"attributes\":{\"callback\":null},\"id\":\"7aa4f5e2-7d80-4742-8ca1-abff9d6a42b0\",\"type\":\"DataRange1d\"},{\"attributes\":{},\"id\":\"b3705907-48b0-42b6-881b-2ecdf79e8b3a\",\"type\":\"SaveTool\"},{\"attributes\":{\"fill_alpha\":{\"value\":0.25},\"fill_color\":{\"field\":\"color\"},\"line_alpha\":{\"value\":0.25},\"line_color\":{\"field\":\"color\"},\"size\":{\"units\":\"screen\",\"value\":10},\"x\":{\"field\":\"x\"},\"y\":{\"field\":\"y\"}},\"id\":\"59276457-ed39-42ca-b517-57b033809470\",\"type\":\"Circle\"},{\"attributes\":{},\"id\":\"15e22674-6361-48dc-9c2a-566fef3b2c18\",\"type\":\"ResetTool\"},{\"attributes\":{\"callback\":null},\"id\":\"0d43d674-4d47-4946-8892-35aedcbd784a\",\"type\":\"DataRange1d\"},{\"attributes\":{},\"id\":\"b35089fa-402b-48ad-b469-63889187bf5f\",\"type\":\"HelpTool\"},{\"attributes\":{},\"id\":\"e39626e4-cb5e-4a67-b815-5f34d380e991\",\"type\":\"LinearScale\"},{\"attributes\":{},\"id\":\"69f62052-28d7-4b90-a8fb-faf21dbfef00\",\"type\":\"LinearScale\"},{\"attributes\":{\"plot\":{\"id\":\"42a6d49e-1359-40d1-afe3-6e034ea0b70c\",\"subtype\":\"Figure\",\"type\":\"Plot\"},\"ticker\":{\"id\":\"2e434b96-93bd-4fea-a208-0c0297bc175b\",\"type\":\"BasicTicker\"}},\"id\":\"a36a7ac2-de8d-4ce3-bd46-225c7b8f99b0\",\"type\":\"Grid\"},{\"attributes\":{\"plot\":null,\"text\":\"\"},\"id\":\"11e20c65-5466-4433-962f-8359b3a5cebc\",\"type\":\"Title\"},{\"attributes\":{\"formatter\":{\"id\":\"a36aeb52-09d3-46d9-a38f-a705e140aeba\",\"type\":\"BasicTickFormatter\"},\"plot\":{\"id\":\"42a6d49e-1359-40d1-afe3-6e034ea0b70c\",\"subtype\":\"Figure\",\"type\":\"Plot\"},\"ticker\":{\"id\":\"2e434b96-93bd-4fea-a208-0c0297bc175b\",\"type\":\"BasicTicker\"}},\"id\":\"dfa5991d-085c-4979-88e2-93df3a3d57b0\",\"type\":\"LinearAxis\"}],\"root_ids\":[\"42a6d49e-1359-40d1-afe3-6e034ea0b70c\"]},\"title\":\"Bokeh Application\",\"version\":\"0.13.0\"}};\n",
              "  var render_items = [{\"docid\":\"b19ef60b-a806-4bdd-9ea8-266dc02b21ed\",\"roots\":{\"42a6d49e-1359-40d1-afe3-6e034ea0b70c\":\"f6d3f215-6731-4978-a4ab-9c2208238142\"}}];\n",
              "  root.Bokeh.embed.embed_items_notebook(docs_json, render_items);\n",
              "\n",
              "  }\n",
              "  if (root.Bokeh !== undefined) {\n",
              "    embed_document(root);\n",
              "  } else {\n",
              "    var attempts = 0;\n",
              "    var timer = setInterval(function(root) {\n",
              "      if (root.Bokeh !== undefined) {\n",
              "        embed_document(root);\n",
              "        clearInterval(timer);\n",
              "      }\n",
              "      attempts++;\n",
              "      if (attempts > 100) {\n",
              "        console.log(\"Bokeh: ERROR: Unable to run BokehJS code because BokehJS library is missing\")\n",
              "        clearInterval(timer);\n",
              "      }\n",
              "    }, 10, root)\n",
              "  }\n",
              "})(window);"
            ],
            "application/vnd.bokehjs_exec.v0+json": ""
          },
          "metadata": {
            "tags": [],
            "application/vnd.bokehjs_exec.v0+json": {
              "id": "42a6d49e-1359-40d1-afe3-6e034ea0b70c"
            }
          }
        }
      ]
    },
    {
      "metadata": {
        "id": "ukwXJppHrDwS",
        "colab_type": "text"
      },
      "cell_type": "markdown",
      "source": [
        "# Дополнительные материалы\n",
        "\n",
        "## Почитать\n",
        "\n",
        "### Блоги\n",
        "[The Unreasonable Effectiveness of Recurrent Neural Networks, Andrej Karpathy](http://karpathy.github.io/2015/05/21/rnn-effectiveness/)  \n",
        "[Understanding LSTM Networks, Christopher Olah](http://colah.github.io/posts/2015-08-Understanding-LSTMs/)  \n",
        "[Recurrent Neural Networks Tutorial, Denny Britz](http://www.wildml.com/2015/09/recurrent-neural-networks-tutorial-part-1-introduction-to-rnns/)  \n",
        "[Vanishing Gradients & LSTMs, Harini Suresh](http://harinisuresh.com/2016/10/09/lstms/)\n",
        "\n",
        "### Разное\n",
        "[Non-Zero Initial States for Recurrent Neural Networks](https://r2rt.com/non-zero-initial-states-for-recurrent-neural-networks.html)\n",
        "\n",
        "[Explaining and illustrating orthogonal initialization for recurrent neural networks, Stephen Merity](http://smerity.com/articles/2016/orthogonal_init.html)\n",
        "\n",
        "[Comparative Study of CNN and RNN for Natural Language Processing, Yin, 2017](https://arxiv.org/abs/1702.01923)\n",
        "\n",
        "## Посмотреть\n",
        "[cs224n \"Lecture 8: Recurrent Neural Networks and Language Models\"](https://www.youtube.com/watch?v=Keqep_PKrY8)"
      ]
    },
    {
      "metadata": {
        "id": "gdMatMdGKq9X",
        "colab_type": "text"
      },
      "cell_type": "markdown",
      "source": [
        "# Сдача задания\n",
        "\n",
        "[Опрос](https://goo.gl/forms/6d04Bkk36mVpBYt32)"
      ]
    }
  ]
}